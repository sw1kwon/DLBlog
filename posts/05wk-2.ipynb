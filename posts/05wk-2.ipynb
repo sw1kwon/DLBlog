{
 "cells": [
  {
   "cell_type": "raw",
   "id": "646e9bf1-4b3f-4f01-a170-c1adb87ad4ef",
   "metadata": {
    "id": "e752103d-d6a6-4dcf-b652-73f961d0490c",
    "vscode": {
     "languageId": "raw"
    }
   },
   "source": [
    "---\n",
    "title: \"05wk-2: (신경망) -- 신경망의 표현, GPU사용법, 확률적경사하강법\"\n",
    "author: \"sw1kwon\"\n",
    "date: \"04/07/2025\"\n",
    "draft: false\n",
    "---"
   ]
  },
  {
   "cell_type": "markdown",
   "id": "2ad1d89a-f25f-40f7-babc-88a4daa294a9",
   "metadata": {},
   "source": [
    "📘 **Note Format Guide**\n",
    "\n",
    "This format serves as a structured guide for organizing lecture content, personal interpretation, experiments, and study-related questions.\n",
    "\n",
    "| Type | What It Means | When I Use It |\n",
    "|------|----------------|----------------|\n",
    "| 📝 Lecture | Original material from the professor’s notes | When I’m referencing core concepts or provided code |\n",
    "| 🗣️ In-Class Note | Verbal explanations shared during the lecture | When I want to record something the professor said in class but didn’t include in the official notes |\n",
    "| ✍️ My Note | My thoughts, interpretations, or additional explanations | When I reflect on or explain something in my own words |\n",
    "| 🔬 Experiment | Code I tried out or changed to explore further | When I test variations or go beyond the original example |\n",
    "| ❓ Question | Questions I had while studying | When I want to revisit or research something more deeply |"
   ]
  },
  {
   "cell_type": "markdown",
   "id": "2a783e7c-c8b0-4a33-ba2d-50eda1db204d",
   "metadata": {},
   "source": [
    "📝\n",
    "🗣️\n",
    "✍️\n",
    "🔬\n",
    "❓"
   ]
  },
  {
   "cell_type": "markdown",
   "id": "e3794e1e-2778-45cf-8693-0797606025bb",
   "metadata": {
    "id": "4d47a7c9"
   },
   "source": [
    "# 1. 강의노트 원본 및 영상 링크"
   ]
  },
  {
   "cell_type": "markdown",
   "id": "61e5e446-9e66-4cea-a4f0-69abaf53ef45",
   "metadata": {},
   "source": [
    "[https://guebin.github.io/DL2025/posts/05wk-2.html](https://guebin.github.io/DL2025/posts/05wk-2.html)"
   ]
  },
  {
   "cell_type": "markdown",
   "id": "8b015e39-16d3-48d1-aedf-c70a3d7d0858",
   "metadata": {},
   "source": [
    "# 2. Imports 📝"
   ]
  },
  {
   "cell_type": "code",
   "execution_count": 1,
   "id": "dbaaf438-42eb-4c98-937a-29515f995c72",
   "metadata": {
    "tags": [],
    "vscode": {
     "languageId": "python"
    }
   },
   "outputs": [],
   "source": [
    "import torch\n",
    "import matplotlib.pyplot as plt"
   ]
  },
  {
   "cell_type": "code",
   "execution_count": 2,
   "id": "cb941cba-205e-4164-ba49-baa6fcc47e32",
   "metadata": {
    "vscode": {
     "languageId": "python"
    }
   },
   "outputs": [],
   "source": [
    "plt.rcParams['figure.figsize'] = (4.5, 3.0)"
   ]
  },
  {
   "cell_type": "markdown",
   "id": "e06505cb-fc4a-4df1-86ee-af005be1926c",
   "metadata": {},
   "source": [
    "# 3. 신경망의 표현 📝"
   ]
  },
  {
   "cell_type": "markdown",
   "id": "e3f3ced7-a39b-4650-ad24-a7195ce9a782",
   "metadata": {},
   "source": [
    "신경망의 표현: ${\\bf X} \\to \\hat{\\bf y}$ 로 가는 과정을 그림으로 표현"
   ]
  },
  {
   "cell_type": "markdown",
   "id": "c6c40fb4-8e53-488a-816f-6d538589caf6",
   "metadata": {},
   "source": [
    "## A. 로지스틱 "
   ]
  },
  {
   "cell_type": "markdown",
   "id": "ecbfd02d-1365-458f-84f5-cee7a463b879",
   "metadata": {},
   "source": [
    "$$\\underset{(n,1)}{\\bf X} \\overset{l_1}{\\to} \\underset{(n,1)}{\\boldsymbol u^{(1)}} \\overset{sig}{\\to} \\underset{(n,1)}{\\boldsymbol v^{(1)}} =\\underset{(n,1)}{\\hat{\\bf y}}$$"
   ]
  },
  {
   "cell_type": "markdown",
   "id": "e37f163b-f289-4756-96a1-677fce563db8",
   "metadata": {},
   "source": [
    "🗣️("
   ]
  },
  {
   "cell_type": "markdown",
   "id": "a8e27a96-d1ab-42b2-a377-381c0701d704",
   "metadata": {},
   "source": [
    "- 위를 보고 다음과 같은 표현이 떠올라야 함\n",
    "    - 다음은 관습적 표현\n",
    "    - u: 보통 X에 선형변환\n",
    "    - v: 보통 u에 비선형변환(Sigmoid, ReLU)\n",
    "    - v 결과에 선형변환을 하면 또 u라고 하기 때문에 우측상단에 숫자로 구분"
   ]
  },
  {
   "cell_type": "markdown",
   "id": "2963554c-b414-48e4-83f6-c8a3dd26d61a",
   "metadata": {},
   "source": [
    "```python\n",
    "net torch.nn.Sequential(\n",
    "    torch.nn.Linear(1,1), # l1(X) = u\n",
    "    torch.nn.Sigmoid() # sig(u) = v\n",
    ")\n",
    "yhat = net(X)\n",
    "```"
   ]
  },
  {
   "cell_type": "markdown",
   "id": "8cf9f80f-2bc5-4843-acfc-8bab3c4893f7",
   "metadata": {},
   "source": [
    ")🗣️"
   ]
  },
  {
   "cell_type": "markdown",
   "id": "f32469cb-742a-487d-bf3e-5baf445de996",
   "metadata": {},
   "source": [
    "`-` 모든 observation과 가중치를 명시한 버전 "
   ]
  },
  {
   "cell_type": "markdown",
   "id": "bcf8dd35-d148-49ae-b271-624c4654be30",
   "metadata": {},
   "source": [
    "**(표현1)**"
   ]
  },
  {
   "cell_type": "markdown",
   "id": "923a079f-6a33-4b0b-abec-51c844651cd0",
   "metadata": {
    "tags": []
   },
   "source": [
    "![](https://guebin.github.io/DL2022/posts/II.%20DNN/2022-10-11-6wk-2_files/figure-html/cell-4-output-1.svg)"
   ]
  },
  {
   "cell_type": "markdown",
   "id": "59a9c52f-7b03-4089-a208-3ae8dd4b9379",
   "metadata": {},
   "source": [
    "- 단점: 똑같은 그림의 반복이 너무 많음"
   ]
  },
  {
   "cell_type": "markdown",
   "id": "d5978b32-7d12-45a4-ae1f-86fc6a17c75c",
   "metadata": {},
   "source": [
    "`-` observation 반복을 생략한 버전들 "
   ]
  },
  {
   "cell_type": "markdown",
   "id": "36efe559-de67-4edf-8479-ec0562d5f59d",
   "metadata": {},
   "source": [
    "**(표현2)** 모든 $i$에 대하여 아래의 그림을 반복한다고 하면 (표현1)과 같다. "
   ]
  },
  {
   "cell_type": "markdown",
   "id": "4340ddf6-1a5e-4939-98f5-478797402a97",
   "metadata": {},
   "source": [
    "![](https://guebin.github.io/DL2022/posts/II.%20DNN/2022-10-11-6wk-2_files/figure-html/cell-5-output-1.svg)"
   ]
  },
  {
   "cell_type": "markdown",
   "id": "bf33185b-6079-425f-91fa-e418378d3425",
   "metadata": {},
   "source": [
    "**(표현3)** 그런데 (표현2)에서 아래와 같이 $x_i$, $y_i$ 대신에 간단히 $x$, $y$로 쓰는 경우도 많음"
   ]
  },
  {
   "cell_type": "markdown",
   "id": "b5a1a410-0e71-435d-a27f-0690f7739ea8",
   "metadata": {},
   "source": [
    "![](https://guebin.github.io/DL2022/posts/II.%20DNN/2022-10-11-6wk-2_files/figure-html/cell-6-output-1.svg)"
   ]
  },
  {
   "cell_type": "markdown",
   "id": "d1b60a3f-f867-4aeb-857c-00ec8aaab401",
   "metadata": {},
   "source": [
    "🗣️ x: vector"
   ]
  },
  {
   "cell_type": "markdown",
   "id": "8f0bf6b0-d44c-428f-bbd2-334aac259c4b",
   "metadata": {},
   "source": [
    "`-` 1을 생략한 버전들 "
   ]
  },
  {
   "cell_type": "markdown",
   "id": "4e5f0e19-a045-4a57-a59c-a719f8de0834",
   "metadata": {},
   "source": [
    "**(표현4)** bais=False 대신에 bias=True를 주면 1을 생략할 수 있음 "
   ]
  },
  {
   "cell_type": "markdown",
   "id": "5b919f48-bc25-4148-8d7d-d4db89b1922d",
   "metadata": {},
   "source": [
    "![](https://guebin.github.io/DL2022/posts/II.%20DNN/2022-10-11-6wk-2_files/figure-html/cell-7-output-1.svg)"
   ]
  },
  {
   "cell_type": "markdown",
   "id": "b3c34b98-f86f-4068-b163-b4f9627de918",
   "metadata": {},
   "source": [
    "**(표현4의 수정)** $\\hat{w}_1$대신에 $\\hat{w}$를 쓰는 것이 더 자연스러움 "
   ]
  },
  {
   "cell_type": "markdown",
   "id": "8c9200ed-0497-4c99-b969-5d042f791266",
   "metadata": {},
   "source": [
    "![](https://guebin.github.io/DL2022/posts/II.%20DNN/2022-10-11-6wk-2_files/figure-html/cell-8-output-1.svg)"
   ]
  },
  {
   "cell_type": "markdown",
   "id": "4284d3ef-6d0f-4bae-831e-81cd0705ab96",
   "metadata": {},
   "source": [
    "**(표현5)** 선형변환의 결과는 아래와 같이 $u$로 표현하기도 한다. "
   ]
  },
  {
   "cell_type": "markdown",
   "id": "02c3cae0-84d7-441d-9136-e07cd4a0235c",
   "metadata": {},
   "source": [
    "![](https://guebin.github.io/DL2022/posts/II.%20DNN/2022-10-11-6wk-2_files/figure-html/cell-9-output-1.svg)"
   ]
  },
  {
   "cell_type": "markdown",
   "id": "03bca3c9-2d6c-47f4-b0d0-e7582e5ea969",
   "metadata": {},
   "source": [
    "> 다이어그램은 그리는 사람의 취향에 따라 그리는 방법이 조금씩 다릅니다. 즉 교재마다 달라요. "
   ]
  },
  {
   "cell_type": "markdown",
   "id": "03ac831f-3b6f-4779-9fcd-6196277de366",
   "metadata": {},
   "source": [
    "## B. 스펙의역설 \n",
    "\n",
    "$$\\underset{(n,1)}{\\bf X} \\overset{l_1}{\\to} \\underset{(n,2)}{\\boldsymbol u^{(1)}} \\overset{relu}{\\to} \\underset{(n,2)}{\\boldsymbol v^{(1)}} \\overset{l_2}{\\to} \\underset{(n,1)}{\\boldsymbol u^{(2)}} \\overset{sig}{\\to} \\underset{(n,1)}{\\boldsymbol v^{(2)}} =\\underset{(n,1)}{\\hat{\\bf y}}$$"
   ]
  },
  {
   "cell_type": "markdown",
   "id": "dd266dfe-16bc-480e-86d5-43c0bbf17e41",
   "metadata": {},
   "source": [
    "**참고: 코드로 표현**\n",
    "\n",
    "```Python\n",
    "torch.nn.Sequential(\n",
    "    torch.nn.Linear(in_features=1,out_features=2),\n",
    "    torch.nn.ReLU(),\n",
    "    torch.nn.Linear(in_features=2,out_features=1),\n",
    "    torch.nn.Sigmoid()\n",
    ")\n",
    "```"
   ]
  },
  {
   "cell_type": "markdown",
   "id": "e0b45ada-1334-42a8-8598-590060ca2e46",
   "metadata": {},
   "source": [
    "`-` 이해를 위해서 예젠에 다루었던 아래의 상황을 고려하자. "
   ]
  },
  {
   "cell_type": "markdown",
   "id": "6545b11d-91c1-4f28-8ff5-9b2edaf0228f",
   "metadata": {},
   "source": [
    "![](https://guebin.github.io/DL2024/posts/03wk-2_files/figure-html/cell-11-output-1.png)"
   ]
  },
  {
   "cell_type": "markdown",
   "id": "2a8f9736-1fac-4a7e-9182-8dcbf8f9446a",
   "metadata": {},
   "source": [
    "**(강의노트의 표현)**"
   ]
  },
  {
   "cell_type": "markdown",
   "id": "9fb6145e-e0f3-4c88-a3d6-b7c4c443f221",
   "metadata": {},
   "source": [
    "![](https://guebin.github.io/DL2022/posts/II.%20DNN/2022-10-11-6wk-2_files/figure-html/cell-10-output-1.svg)"
   ]
  },
  {
   "cell_type": "markdown",
   "id": "04f33c5c-c895-474e-948f-cc0dc00e712f",
   "metadata": {},
   "source": [
    "**(좀 더 일반화된 표현)** 상황을 일반화하면 아래와 같다. "
   ]
  },
  {
   "cell_type": "markdown",
   "id": "25e8f030-10d4-40c6-ba24-575c84a387d9",
   "metadata": {},
   "source": [
    "![](https://guebin.github.io/DL2022/posts/II.%20DNN/2022-10-11-6wk-2_files/figure-html/cell-11-output-1.svg)"
   ]
  },
  {
   "cell_type": "markdown",
   "id": "6e4a9c24-8e63-4900-b7e0-08ffdd9b2d03",
   "metadata": {},
   "source": [
    "`*` Layer의 개념: ${\\bf X}$에서 $\\hat{\\boldsymbol y}$로 가는 과정은 \"선형변환+비선형변환\"이 반복되는 구조이다. \"선형변환+비선형변환\"을 하나의 세트로 보면 아래와 같이 표현할 수 있다. \n",
    "\n",
    "- $\\underset{(n,1)}{\\bf X}  \\overset{l_1}{\\to} \\left( \\underset{(n,2)}{\\boldsymbol u^{(1)}} \\overset{relu}{\\to} \\underset{(n,2)}{\\boldsymbol v^{(1)}} \\right) \\overset{l_2}{\\to} \\left(\\underset{(n,1)}{\\boldsymbol u^{(2)}} \\overset{sig}{\\to} \\underset{(n,1)}{\\boldsymbol v^{(2)}}\\right), \\quad  \\underset{(n,1)}{\\boldsymbol v^{(2)}}=\\underset{(n,1)}{net({\\bf X})}=\\underset{(n,1)}{\\hat{\\bf y}}$"
   ]
  },
  {
   "cell_type": "markdown",
   "id": "e92b60d2-dfcc-400f-8c07-3bbfcc8275f2",
   "metadata": {},
   "source": [
    "🗣️ 선형변환 -> 선형변환: 아무런 이점이 없음, 잘못 설계 (바로 가는 선형변환이 있기 때문)"
   ]
  },
  {
   "cell_type": "markdown",
   "id": "a9662330-e6be-4877-a905-98563ff3b165",
   "metadata": {},
   "source": [
    "이것을 다이어그램으로 표현한다면 아래와 같다. "
   ]
  },
  {
   "cell_type": "markdown",
   "id": "7ebe1c83-f21f-4f91-b138-03688cfb62a3",
   "metadata": {},
   "source": [
    "**(선형+비선형을 하나의 Layer로 묶은 표현)**"
   ]
  },
  {
   "cell_type": "markdown",
   "id": "b3f43aa3-4a26-48fc-bb50-bd99609d5f6a",
   "metadata": {},
   "source": [
    "![](https://guebin.github.io/DL2022/posts/II.%20DNN/2022-10-11-6wk-2_files/figure-html/cell-12-output-1.svg)"
   ]
  },
  {
   "cell_type": "markdown",
   "id": "9aa7dbfd-68a6-4b61-84c6-f049073b71a0",
   "metadata": {},
   "source": [
    "🗣️ Layer 0(Input Layer라고도 함)은 세지 X"
   ]
  },
  {
   "cell_type": "markdown",
   "id": "c299ae62-137f-4db3-86ab-91b86b93d16c",
   "metadata": {},
   "source": [
    "***Layer를 세는 방법***\n",
    "\n",
    "- 제 방식: 학습가능한 파라메터가 몇층으로 있는지... <-- 이것만 기억하세여\n",
    "- 일부 교재 설명: 입력층은 계산하지 않음, activation layer는 계산하지 않음. <-- 무시하세요.. 이러면 헷갈립니다.. \n",
    "- 위의 예제의 경우 `number of layer = 2` 이다. "
   ]
  },
  {
   "cell_type": "markdown",
   "id": "df41b81a-48de-4d15-b1f1-f3c885673811",
   "metadata": {},
   "source": [
    "***Hidden Layer의 수를 세는 방법*** \n",
    "\n",
    "- 제 방식: `Hidden Layer의 수 = Layer의 수 -1` <-- 이걸 기억하세여..  \n",
    "- 일부 교재 설명: `Layer의 수 = Hidden Layer의 수 + 출력층의 수 = Hidden Layer의 수 + 1` <-- 기억하지 마세여 \n",
    "- 위의 예제의 경우 `number of hidden layer = 1` 이다. "
   ]
  },
  {
   "cell_type": "markdown",
   "id": "3148d74b-cc37-4ec1-b962-778f3246360e",
   "metadata": {},
   "source": [
    "🗣️ 이 경우 Hiden Layer: Layer 1 / 출력층: Layer 2 (yhat)"
   ]
  },
  {
   "cell_type": "markdown",
   "id": "82ff1ab6-7f0b-481a-a832-80aa4d637cf2",
   "metadata": {
    "tags": []
   },
   "source": [
    "::: {.callout-important}\n",
    "무조건 학습가능한 파라메터가 몇겹으로 있는지만 판단하세요. 딴거 아무것도 생각하지마세여\n",
    "\n",
    "```Python\n",
    "## 예시1 -- 2층 (히든레이어는 1층)\n",
    "torch.nn.Sequential(\n",
    "    torch.nn.Linear(??,??), ## <-- 학습해야할 가중치가 있는 층\n",
    "    torch.nn.ReLU(),\n",
    "    torch.nn.Linear(??,??), ## <-- 학습해야할 가중치가 있는 층\n",
    ")\n",
    "```\n",
    "\n",
    "```Python\n",
    "## 예시2 -- 2층 (히든레이어는 1층)\n",
    "torch.nn.Sequential(\n",
    "    torch.nn.Linear(??,??), ## <-- 학습해야할 가중치가 있는 층\n",
    "    torch.nn.ReLU(),\n",
    "    torch.nn.Linear(??,??), ## <-- 학습해야할 가중치가 있는 층\n",
    "    torch.nn.Sigmoid(),\n",
    ")\n",
    "```\n",
    "\n",
    "```Python\n",
    "## 예시3 -- 1층 (히든레이어는 없음!!)\n",
    "torch.nn.Sequential(\n",
    "    torch.nn.Linear(??,??), ## <-- 학습해야할 가중치가 있는 층\n",
    ") \n",
    "```\n",
    "\n",
    "```Python\n",
    "## 예시4 -- 1층 (히든레이어는 없음!!)\n",
    "torch.nn.Sequential(\n",
    "    torch.nn.Linear(??,??), ## <-- 학습해야할 가중치가 있는 층\n",
    "    torch.nn.Sigmoid()\n",
    ") \n",
    "```\n",
    "\n",
    "```Python\n",
    "## 예시5 -- 3층 (히든레이어는 2층)\n",
    "torch.nn.Sequential(\n",
    "    torch.nn.Linear(??,??), ## <-- 학습해야할 가중치가 있는 층\n",
    "    torch.nn.Sigmoid()\n",
    "    torch.nn.Linear(??,??), ## <-- 학습해야할 가중치가 있는 층\n",
    "    torch.nn.Sigmoid()\n",
    "    torch.nn.Linear(??,??), ## <-- 학습해야할 가중치가 있는 층    \n",
    ") \n",
    "```\n",
    "\n",
    "```Python\n",
    "## 예시6 -- 3층 (히든레이어는 2층)\n",
    "torch.nn.Sequential(\n",
    "    torch.nn.Linear(??,??), ## <-- 학습해야할 가중치가 있는 층\n",
    "    torch.nn.ReLU()\n",
    "    torch.nn.Dropout(??)\n",
    "    torch.nn.Linear(??,??), ## <-- 학습해야할 가중치가 있는 층\n",
    "    torch.nn.ReLU()\n",
    "    torch.nn.Dropout(??)\n",
    "    torch.nn.Linear(??,??), ## <-- 학습해야할 가중치가 있는 층  \n",
    "    torch.nn.Sigmoid()\n",
    ") \n",
    "```\n",
    ":::"
   ]
  },
  {
   "cell_type": "markdown",
   "id": "99260b24-ba8f-4def-bbcb-691fb69378a8",
   "metadata": {
    "tags": []
   },
   "source": [
    "::: {.callout-important}\n",
    "\n",
    "문헌에 따라서 레이어를 세는 개념이 제가 설명한 방식과 다른경우가 있습니다. 제가 설명한 방식보다 1씩 더해서 셉니다. 즉 아래의 경우 레이어를 3개로 카운트합니다. \n",
    "```Python\n",
    "## 예시1 -- 문헌에 따라 3층으로 세는 경우가 있음 (히든레이어는 1층)\n",
    "torch.nn.Sequential(\n",
    "    torch.nn.Linear(??,??), ## <-- 학습해야할 가중치가 있는 층\n",
    "    torch.nn.ReLU(),\n",
    "    torch.nn.Linear(??,??), ## <-- 학습해야할 가중치가 있는 층\n",
    "    torch.nn.Sigmoid()\n",
    ")\n",
    "```\n",
    "예를 들어 [여기](https://en.wikipedia.org/wiki/Multilayer_perceptron#Layers)에서는 위의 경우 레이어는 3개라고 설명하고 있습니다. 이러한 카운팅은 **\"무시\"하세요. 제가 설명한 방식이 맞아요.** [이 링크](https://en.wikipedia.org/wiki/Multilayer_perceptron#Layers) 잘못(?) 나와있는 이유는 아래와 같습니다. \n",
    "\n",
    "`-` 진짜 예전에 MLP를 소개할 초창기에서는 위의 경우 Layer를 3개로 셌음. [@rosenblatt1962principles]\n",
    "\n",
    "`-` 그런데 요즘은 그렇게 안셈.. (그리고 애초에 MLP라는 용어도 잘 안쓰죠..)\n",
    "\n",
    "참고로 히든레이어의 수는 예전방식이나 지금방식이나 동일하게 카운트하므로 히든레이어만 세면 혼돈이 없습니다. \n",
    "\n",
    ":::"
   ]
  },
  {
   "attachments": {},
   "cell_type": "markdown",
   "id": "f34f6b5d-80db-4ffd-b559-3c99fc823f43",
   "metadata": {},
   "source": [
    "- 🗣️\n",
    "    - 요즘은 MLP보다는 DNN 용어 사용\n",
    "    - 요즘은 Dropout보다 Batch Normalization을 사용\n",
    "        - Batch Normalization은 학습 parameter가 있음\n",
    "        - 그러나 layer로 세지는 X\n",
    "    - 요즘은 layer가 몇 층인지 굳이 따지지는 X"
   ]
  },
  {
   "cell_type": "markdown",
   "id": "25491bb3-96b9-4fb2-b170-c23df0a3232d",
   "metadata": {},
   "source": [
    "`*` node의 개념: $u\\to v$로 가는 쌍을 간단히 노드라는 개념을 이용하여 나타낼 수 있음. "
   ]
  },
  {
   "cell_type": "markdown",
   "id": "4d89b951-6951-4483-8196-360fdde5ce9b",
   "metadata": {},
   "source": [
    "**(노드의 개념이 포함된 그림)**"
   ]
  },
  {
   "cell_type": "markdown",
   "id": "5728b8ba-c70c-4d51-bc99-d15c193bd57e",
   "metadata": {},
   "source": [
    "![](https://guebin.github.io/DL2022/posts/II.%20DNN/2022-10-11-6wk-2_files/figure-html/cell-13-output-1.svg)"
   ]
  },
  {
   "cell_type": "markdown",
   "id": "771c3974-698e-4361-9fb7-c1f31e1c51fe",
   "metadata": {},
   "source": [
    "여기에서 `node의 숫자 = feature의 숫자`와 같이 이해할 수 있다. 즉 아래와 같이 이해할 수 있다. "
   ]
  },
  {
   "cell_type": "markdown",
   "id": "84453b91-aa38-4f41-83c8-cf7f15a1334a",
   "metadata": {},
   "source": [
    "**(\"number of nodes = number of features\"로 이해한 그림)**"
   ]
  },
  {
   "cell_type": "markdown",
   "id": "4ee58f83-2c93-4782-8a8b-6d298b0a4c12",
   "metadata": {},
   "source": [
    "![](https://guebin.github.io/DL2022/posts/II.%20DNN/2022-10-11-6wk-2_files/figure-html/cell-14-output-1.svg)"
   ]
  },
  {
   "cell_type": "markdown",
   "id": "666ffa29-f775-41c4-bdaa-1f6e2650c440",
   "metadata": {},
   "source": [
    "> 다이어그램의 표현방식은 교재마다 달라서 모든 예시를 달달 외울 필요는 없습니다. 다만 임의의 다이어그램을 보고 대응하는 네트워크를 pytorch로 구현하는 능력은 매우 중요합니다. "
   ]
  },
  {
   "cell_type": "markdown",
   "id": "d1423705-f60e-4601-af76-5dbc221548a2",
   "metadata": {},
   "source": [
    "## C. MNIST\n",
    "\n",
    "$$\\underset{(n,784)}{\\bf X} \\overset{l_1}{\\to} \\underset{(n,32)}{\\boldsymbol u^{(1)}} \\overset{relu}{\\to} \\underset{(n,32)}{\\boldsymbol v^{(1)}} \\overset{l_2}{\\to} \\underset{(n,1)}{\\boldsymbol u^{(2)}} \\overset{sig}{\\to} \\underset{(n,1)}{\\boldsymbol v^{(2)}}=\\underset{(n,1)}{\\hat{\\boldsymbol y}}$$"
   ]
  },
  {
   "cell_type": "markdown",
   "id": "729f6e63-288f-4591-b744-70464854c16c",
   "metadata": {},
   "source": [
    "**(다이어그램표현)**"
   ]
  },
  {
   "cell_type": "markdown",
   "id": "ed3f264c-0def-41c8-8a03-4cde470e2f7f",
   "metadata": {},
   "source": [
    "![](https://guebin.github.io/DL2022/posts/II.%20DNN/2022-10-11-6wk-2_files/figure-html/cell-15-output-1.svg)"
   ]
  },
  {
   "cell_type": "markdown",
   "id": "31d60f58-bc3f-4569-9210-9594b049d7d5",
   "metadata": {},
   "source": [
    "🗣️ 학습 가능한 parameter 수: 784*32 ($X_{(n,784)}@w_{?} = (n,32)$)"
   ]
  },
  {
   "cell_type": "markdown",
   "id": "f61e8170-a40c-4c57-a3da-c4beb9791b08",
   "metadata": {},
   "source": [
    "- Layer0,1,2 대신에 Input Layer, Hidden Layer, Output Layer로 표현함 "
   ]
  },
  {
   "cell_type": "markdown",
   "id": "589ea02a-8386-4ca9-bafa-831bacd2869f",
   "metadata": {},
   "source": [
    "`-` 위의 다이어그램에 대응하는 코드\n",
    "\n",
    "```Python\n",
    "net = torch.nn.Sequential(\n",
    "    torch.nn.Linear(in_features=28*28*1,out_features=32),\n",
    "    torch.nn.ReLU(),\n",
    "    torch.nn.Linear(in_features=32,out_features=1),\n",
    "    torch.nn.Sigmoid() \n",
    ")\n",
    "```"
   ]
  },
  {
   "cell_type": "markdown",
   "id": "0351571e-2c74-4ba9-83cb-c84b774f7f14",
   "metadata": {},
   "source": [
    "# 4. CPU vs GPU 📝"
   ]
  },
  {
   "cell_type": "markdown",
   "id": "962f7347-b353-47d8-ac9f-e4faa2a46e55",
   "metadata": {},
   "source": [
    "`-` 파이토치에서 GPU를 쓰는 방법을 알아보자. (사실 지금까지 우리는 CPU만 쓰고 있었음) "
   ]
  },
  {
   "cell_type": "markdown",
   "id": "19597ae4-e78a-469e-8b27-39d24c8797ca",
   "metadata": {},
   "source": [
    "`-` 코랩에서 GPU설정하는 방법: (아래영상참고)"
   ]
  },
  {
   "cell_type": "markdown",
   "id": "3f305e76-4c2a-47a5-af6a-fd7757419d73",
   "metadata": {},
   "source": [
    "{{<video https://youtu.be/GyBL2YBCzoc >}}"
   ]
  },
  {
   "cell_type": "markdown",
   "id": "89ff1841-b9d9-4561-817f-bb72cd7ca3ca",
   "metadata": {},
   "source": [
    "## A. GPU 사용방법 "
   ]
  },
  {
   "cell_type": "markdown",
   "id": "8f51b397-943b-478c-9698-12d457293870",
   "metadata": {},
   "source": [
    "`-` cpu 연산이 가능한 메모리에 데이터 저장"
   ]
  },
  {
   "cell_type": "code",
   "execution_count": 3,
   "id": "16929386-694f-4ec7-a853-7d10bc80948e",
   "metadata": {},
   "outputs": [],
   "source": [
    "torch.manual_seed(43052)\n",
    "x_cpu = torch.tensor([0.0,0.1,0.2]).reshape(-1,1) \n",
    "y_cpu = torch.tensor([0.0,0.2,0.4]).reshape(-1,1) \n",
    "net_cpu = torch.nn.Linear(1,1) "
   ]
  },
  {
   "cell_type": "code",
   "execution_count": 4,
   "id": "1c12c1b6-e61e-40f6-abfb-a452ec83afb1",
   "metadata": {},
   "outputs": [
    {
     "data": {
      "text/plain": [
       "tensor([[-0.8470],\n",
       "        [-0.8817],\n",
       "        [-0.9164]], grad_fn=<AddmmBackward0>)"
      ]
     },
     "execution_count": 4,
     "metadata": {},
     "output_type": "execute_result"
    }
   ],
   "source": [
    "net_cpu(x_cpu)"
   ]
  },
  {
   "cell_type": "code",
   "execution_count": 5,
   "id": "3f822583-8edc-42e8-98a5-2f0b05aea031",
   "metadata": {},
   "outputs": [
    {
     "data": {
      "text/plain": [
       "tensor([[0.0000],\n",
       "        [0.1000],\n",
       "        [0.2000]])"
      ]
     },
     "execution_count": 5,
     "metadata": {},
     "output_type": "execute_result"
    }
   ],
   "source": [
    "x_cpu"
   ]
  },
  {
   "cell_type": "markdown",
   "id": "6f488ea9-9430-489f-b0a0-749fe600a8a3",
   "metadata": {},
   "source": [
    "`-` gpu 연산이 가능한 메모리에 데이터 저장 "
   ]
  },
  {
   "cell_type": "code",
   "execution_count": 7,
   "id": "e01457f2-44a0-45fe-8cde-59c7c83a7505",
   "metadata": {},
   "outputs": [
    {
     "name": "stdout",
     "output_type": "stream",
     "text": [
      "Mon Apr  7 09:48:42 2025       \n",
      "+---------------------------------------------------------------------------------------+\n",
      "| NVIDIA-SMI 535.230.02             Driver Version: 535.230.02   CUDA Version: 12.2     |\n",
      "|-----------------------------------------+----------------------+----------------------+\n",
      "| GPU  Name                 Persistence-M | Bus-Id        Disp.A | Volatile Uncorr. ECC |\n",
      "| Fan  Temp   Perf          Pwr:Usage/Cap |         Memory-Usage | GPU-Util  Compute M. |\n",
      "|                                         |                      |               MIG M. |\n",
      "|=========================================+======================+======================|\n",
      "|   0  NVIDIA GeForce RTX 3090        Off | 00000000:09:00.0 Off |                  N/A |\n",
      "|  0%   29C    P8              27W / 420W |     26MiB / 24576MiB |      0%      Default |\n",
      "|                                         |                      |                  N/A |\n",
      "+-----------------------------------------+----------------------+----------------------+\n",
      "                                                                                         \n",
      "+---------------------------------------------------------------------------------------+\n",
      "| Processes:                                                                            |\n",
      "|  GPU   GI   CI        PID   Type   Process name                            GPU Memory |\n",
      "|        ID   ID                                                             Usage      |\n",
      "|=======================================================================================|\n",
      "|    0   N/A  N/A      1152      G   /usr/lib/xorg/Xorg                            9MiB |\n",
      "|    0   N/A  N/A      1471      G   /usr/bin/gnome-shell                          8MiB |\n",
      "+---------------------------------------------------------------------------------------+\n"
     ]
    }
   ],
   "source": [
    "!nvidia-smi # before"
   ]
  },
  {
   "cell_type": "markdown",
   "id": "b31c302f-ea78-4171-9de5-0d48bc7de574",
   "metadata": {},
   "source": [
    "🔬 ?"
   ]
  },
  {
   "cell_type": "code",
   "execution_count": 6,
   "id": "57b940f9-ee2a-47e7-b0de-49b78fd4a515",
   "metadata": {},
   "outputs": [
    {
     "name": "stdout",
     "output_type": "stream",
     "text": [
      "Tue May  6 15:07:19 2025       \n",
      "+---------------------------------------------------------------------------------------+\n",
      "| NVIDIA-SMI 535.161.08             Driver Version: 535.161.08   CUDA Version: 12.2     |\n",
      "|-----------------------------------------+----------------------+----------------------+\n",
      "| GPU  Name                 Persistence-M | Bus-Id        Disp.A | Volatile Uncorr. ECC |\n",
      "| Fan  Temp   Perf          Pwr:Usage/Cap |         Memory-Usage | GPU-Util  Compute M. |\n",
      "|                                         |                      |               MIG M. |\n",
      "|=========================================+======================+======================|\n",
      "|   0  NVIDIA A100-SXM4-80GB          On  | 00000000:47:00.0 Off |                   On |\n",
      "| N/A   67C    P0             197W / 275W |                  N/A |     N/A      Default |\n",
      "|                                         |                      |              Enabled |\n",
      "+-----------------------------------------+----------------------+----------------------+\n",
      "\n",
      "+---------------------------------------------------------------------------------------+\n",
      "| MIG devices:                                                                          |\n",
      "+------------------+--------------------------------+-----------+-----------------------+\n",
      "| GPU  GI  CI  MIG |                   Memory-Usage |        Vol|      Shared           |\n",
      "|      ID  ID  Dev |                     BAR1-Usage | SM     Unc| CE ENC DEC OFA JPG    |\n",
      "|                  |                                |        ECC|                       |\n",
      "|==================+================================+===========+=======================|\n",
      "|  0    0   0   0  |           49841MiB / 81050MiB  | 98      0 |  7   0    5    1    1 |\n",
      "|                  |              15MiB / 131072MiB |           |                       |\n",
      "+------------------+--------------------------------+-----------+-----------------------+\n",
      "                                                                                         \n",
      "+---------------------------------------------------------------------------------------+\n",
      "| Processes:                                                                            |\n",
      "|  GPU   GI   CI        PID   Type   Process name                            GPU Memory |\n",
      "|        ID   ID                                                             Usage      |\n",
      "|=======================================================================================|\n",
      "+---------------------------------------------------------------------------------------+\n"
     ]
    }
   ],
   "source": [
    "!nvidia-smi # before"
   ]
  },
  {
   "cell_type": "markdown",
   "id": "1882b506-5992-4343-affd-0e2e55d1059b",
   "metadata": {},
   "source": [
    "🗣️("
   ]
  },
  {
   "cell_type": "code",
   "execution_count": 7,
   "id": "46b63e99-f902-47d4-8b14-178b42b2de09",
   "metadata": {},
   "outputs": [
    {
     "data": {
      "text/plain": [
       "tensor([[0.0000],\n",
       "        [0.1000],\n",
       "        [0.2000]])"
      ]
     },
     "execution_count": 7,
     "metadata": {},
     "output_type": "execute_result"
    }
   ],
   "source": [
    "x_cpu"
   ]
  },
  {
   "cell_type": "code",
   "execution_count": 8,
   "id": "a6c777a0-010c-40d4-87fa-80a7e7f6bbd0",
   "metadata": {},
   "outputs": [
    {
     "data": {
      "text/plain": [
       "tensor([[0.0000],\n",
       "        [0.1000],\n",
       "        [0.2000]], device='cuda:0')"
      ]
     },
     "execution_count": 8,
     "metadata": {},
     "output_type": "execute_result"
    }
   ],
   "source": [
    "x_cpu.to(\"cuda:0\")"
   ]
  },
  {
   "cell_type": "markdown",
   "id": "c6169723-19b0-47b2-bf34-cd5090ee533f",
   "metadata": {},
   "source": [
    "- device='cuda:0'"
   ]
  },
  {
   "cell_type": "markdown",
   "id": "12ca40a1-d9dc-4d22-ba24-23279eebbb4e",
   "metadata": {},
   "source": [
    ")🗣️"
   ]
  },
  {
   "cell_type": "markdown",
   "id": "32ca3888-e65e-4a2f-8730-a88051d807a3",
   "metadata": {},
   "source": [
    "🗣️ :0 => GPU ID (여러개인 경우)"
   ]
  },
  {
   "cell_type": "code",
   "execution_count": 9,
   "id": "734a9610-7ce1-4257-98b0-44b93627d1a0",
   "metadata": {},
   "outputs": [],
   "source": [
    "torch.manual_seed(43052)\n",
    "x_gpu = x_cpu.to(\"cuda:0\")\n",
    "y_gpu = y_cpu.to(\"cuda:0\")\n",
    "net_gpu = torch.nn.Linear(1,1).to(\"cuda:0\") "
   ]
  },
  {
   "cell_type": "markdown",
   "id": "e9575a78-6150-4504-b145-e89bbc8f8c15",
   "metadata": {},
   "source": [
    "🗣️ 일반적으로는 메모리에 저장되지만, to(\"cuda:0\")를 하면 GPU 메모리에 저장됨"
   ]
  },
  {
   "cell_type": "code",
   "execution_count": 9,
   "id": "700443b5-28ac-43c7-b539-0a3ccfef3362",
   "metadata": {},
   "outputs": [
    {
     "name": "stdout",
     "output_type": "stream",
     "text": [
      "Mon Apr  7 09:48:43 2025       \n",
      "+---------------------------------------------------------------------------------------+\n",
      "| NVIDIA-SMI 535.230.02             Driver Version: 535.230.02   CUDA Version: 12.2     |\n",
      "|-----------------------------------------+----------------------+----------------------+\n",
      "| GPU  Name                 Persistence-M | Bus-Id        Disp.A | Volatile Uncorr. ECC |\n",
      "| Fan  Temp   Perf          Pwr:Usage/Cap |         Memory-Usage | GPU-Util  Compute M. |\n",
      "|                                         |                      |               MIG M. |\n",
      "|=========================================+======================+======================|\n",
      "|   0  NVIDIA GeForce RTX 3090        Off | 00000000:09:00.0 Off |                  N/A |\n",
      "|  0%   34C    P2              65W / 420W |    287MiB / 24576MiB |      0%      Default |\n",
      "|                                         |                      |                  N/A |\n",
      "+-----------------------------------------+----------------------+----------------------+\n",
      "                                                                                         \n",
      "+---------------------------------------------------------------------------------------+\n",
      "| Processes:                                                                            |\n",
      "|  GPU   GI   CI        PID   Type   Process name                            GPU Memory |\n",
      "|        ID   ID                                                             Usage      |\n",
      "|=======================================================================================|\n",
      "|    0   N/A  N/A      1152      G   /usr/lib/xorg/Xorg                            9MiB |\n",
      "|    0   N/A  N/A      1471      G   /usr/bin/gnome-shell                          8MiB |\n",
      "|    0   N/A  N/A    140211      C   ...b3/anaconda3/envs/dl2025/bin/python      256MiB |\n",
      "+---------------------------------------------------------------------------------------+\n"
     ]
    }
   ],
   "source": [
    "!nvidia-smi"
   ]
  },
  {
   "cell_type": "markdown",
   "id": "5fffb6f8-70cf-461c-8d23-bd92095037f7",
   "metadata": {},
   "source": [
    "🔬 ?"
   ]
  },
  {
   "cell_type": "code",
   "execution_count": 10,
   "id": "b4ac8e8d-4384-4726-8201-ed1e75ee5631",
   "metadata": {
    "scrolled": true
   },
   "outputs": [
    {
     "name": "stdout",
     "output_type": "stream",
     "text": [
      "Tue May  6 15:11:18 2025       \n",
      "+---------------------------------------------------------------------------------------+\n",
      "| NVIDIA-SMI 535.161.08             Driver Version: 535.161.08   CUDA Version: 12.2     |\n",
      "|-----------------------------------------+----------------------+----------------------+\n",
      "| GPU  Name                 Persistence-M | Bus-Id        Disp.A | Volatile Uncorr. ECC |\n",
      "| Fan  Temp   Perf          Pwr:Usage/Cap |         Memory-Usage | GPU-Util  Compute M. |\n",
      "|                                         |                      |               MIG M. |\n",
      "|=========================================+======================+======================|\n",
      "|   0  NVIDIA A100-SXM4-80GB          On  | 00000000:47:00.0 Off |                   On |\n",
      "| N/A   68C    P0             186W / 275W |                  N/A |     N/A      Default |\n",
      "|                                         |                      |              Enabled |\n",
      "+-----------------------------------------+----------------------+----------------------+\n",
      "\n",
      "+---------------------------------------------------------------------------------------+\n",
      "| MIG devices:                                                                          |\n",
      "+------------------+--------------------------------+-----------+-----------------------+\n",
      "| GPU  GI  CI  MIG |                   Memory-Usage |        Vol|      Shared           |\n",
      "|      ID  ID  Dev |                     BAR1-Usage | SM     Unc| CE ENC DEC OFA JPG    |\n",
      "|                  |                                |        ECC|                       |\n",
      "|==================+================================+===========+=======================|\n",
      "|  0    0   0   0  |           50298MiB / 81050MiB  | 98      0 |  7   0    5    1    1 |\n",
      "|                  |              17MiB / 131072MiB |           |                       |\n",
      "+------------------+--------------------------------+-----------+-----------------------+\n",
      "                                                                                         \n",
      "+---------------------------------------------------------------------------------------+\n",
      "| Processes:                                                                            |\n",
      "|  GPU   GI   CI        PID   Type   Process name                            GPU Memory |\n",
      "|        ID   ID                                                             Usage      |\n",
      "|=======================================================================================|\n",
      "+---------------------------------------------------------------------------------------+\n"
     ]
    }
   ],
   "source": [
    "!nvidia-smi"
   ]
  },
  {
   "cell_type": "markdown",
   "id": "76275862-61f6-4f3e-9496-d7f620bcbaa9",
   "metadata": {},
   "source": [
    "> GPU에 메모리를 올리면 GPU메모리가 점유된다! (26MiB -> 287MiB) "
   ]
  },
  {
   "cell_type": "markdown",
   "id": "d593e1f5-1db1-465b-81b7-8a1780cbe236",
   "metadata": {},
   "source": [
    "`-` cpu 혹은 gpu 연산이 가능한 메모리에 저장된 값들을 확인 "
   ]
  },
  {
   "cell_type": "code",
   "execution_count": 11,
   "id": "c36f0009-9888-4391-9240-10d0a90a69f3",
   "metadata": {},
   "outputs": [
    {
     "data": {
      "text/plain": [
       "(tensor([[0.0000],\n",
       "         [0.1000],\n",
       "         [0.2000]]),\n",
       " tensor([[0.0000],\n",
       "         [0.2000],\n",
       "         [0.4000]]),\n",
       " Parameter containing:\n",
       " tensor([[-0.3467]], requires_grad=True),\n",
       " Parameter containing:\n",
       " tensor([-0.8470], requires_grad=True))"
      ]
     },
     "execution_count": 11,
     "metadata": {},
     "output_type": "execute_result"
    }
   ],
   "source": [
    "x_cpu, y_cpu, net_cpu.weight, net_cpu.bias"
   ]
  },
  {
   "cell_type": "code",
   "execution_count": 12,
   "id": "a4316728-4b5b-45fe-910d-4b0798cce02a",
   "metadata": {},
   "outputs": [
    {
     "data": {
      "text/plain": [
       "(tensor([[0.0000],\n",
       "         [0.1000],\n",
       "         [0.2000]], device='cuda:0'),\n",
       " tensor([[0.0000],\n",
       "         [0.2000],\n",
       "         [0.4000]], device='cuda:0'),\n",
       " Parameter containing:\n",
       " tensor([[-0.3467]], device='cuda:0', requires_grad=True),\n",
       " Parameter containing:\n",
       " tensor([-0.8470], device='cuda:0', requires_grad=True))"
      ]
     },
     "execution_count": 12,
     "metadata": {},
     "output_type": "execute_result"
    }
   ],
   "source": [
    "x_gpu, y_gpu, net_gpu.weight, net_gpu.bias"
   ]
  },
  {
   "cell_type": "markdown",
   "id": "800921be-7366-45c5-8c1c-849a163a3795",
   "metadata": {},
   "source": [
    "`-` gpu는 gpu끼리 연산가능하고 cpu는 cpu끼리 연산가능함 "
   ]
  },
  {
   "cell_type": "markdown",
   "id": "62422ebd-85ee-4f86-b247-4193991ed70f",
   "metadata": {},
   "source": [
    "(예시1)"
   ]
  },
  {
   "cell_type": "code",
   "execution_count": 13,
   "id": "bd46aeea-1dc9-4fe9-a0e1-e8549f1fe1d3",
   "metadata": {},
   "outputs": [
    {
     "data": {
      "text/plain": [
       "tensor([[-0.8470],\n",
       "        [-0.8817],\n",
       "        [-0.9164]], grad_fn=<AddmmBackward0>)"
      ]
     },
     "execution_count": 13,
     "metadata": {},
     "output_type": "execute_result"
    }
   ],
   "source": [
    "net_cpu(x_cpu) "
   ]
  },
  {
   "cell_type": "markdown",
   "id": "23e9f4bb-2fae-44d1-afcf-e423eb1f6f6d",
   "metadata": {},
   "source": [
    "(예시2)"
   ]
  },
  {
   "cell_type": "code",
   "execution_count": 14,
   "id": "52c478d5-082b-4c17-806f-7eb230f155aa",
   "metadata": {},
   "outputs": [
    {
     "data": {
      "text/plain": [
       "tensor([[-0.8470],\n",
       "        [-0.8817],\n",
       "        [-0.9164]], device='cuda:0', grad_fn=<AddmmBackward0>)"
      ]
     },
     "execution_count": 14,
     "metadata": {},
     "output_type": "execute_result"
    }
   ],
   "source": [
    "net_gpu(x_gpu) "
   ]
  },
  {
   "cell_type": "markdown",
   "id": "408d9db2-b1b9-4055-97fe-c5bba7a7b7fe",
   "metadata": {},
   "source": [
    "(예시3)"
   ]
  },
  {
   "cell_type": "code",
   "execution_count": 15,
   "id": "912a15c5-8fea-41cb-81d3-742a5a795dda",
   "metadata": {},
   "outputs": [
    {
     "ename": "RuntimeError",
     "evalue": "Expected all tensors to be on the same device, but found at least two devices, cpu and cuda:0! (when checking argument for argument mat1 in method wrapper_CUDA_addmm)",
     "output_type": "error",
     "traceback": [
      "\u001b[0;31m---------------------------------------------------------------------------\u001b[0m",
      "\u001b[0;31mRuntimeError\u001b[0m                              Traceback (most recent call last)",
      "Cell \u001b[0;32mIn[15], line 1\u001b[0m\n\u001b[0;32m----> 1\u001b[0m \u001b[43mnet_cpu\u001b[49m\u001b[43m(\u001b[49m\u001b[43mx_gpu\u001b[49m\u001b[43m)\u001b[49m \n",
      "File \u001b[0;32m~/anaconda3/envs/dl2025/lib/python3.9/site-packages/torch/nn/modules/module.py:1739\u001b[0m, in \u001b[0;36mModule._wrapped_call_impl\u001b[0;34m(self, *args, **kwargs)\u001b[0m\n\u001b[1;32m   1737\u001b[0m     \u001b[38;5;28;01mreturn\u001b[39;00m \u001b[38;5;28mself\u001b[39m\u001b[38;5;241m.\u001b[39m_compiled_call_impl(\u001b[38;5;241m*\u001b[39margs, \u001b[38;5;241m*\u001b[39m\u001b[38;5;241m*\u001b[39mkwargs)  \u001b[38;5;66;03m# type: ignore[misc]\u001b[39;00m\n\u001b[1;32m   1738\u001b[0m \u001b[38;5;28;01melse\u001b[39;00m:\n\u001b[0;32m-> 1739\u001b[0m     \u001b[38;5;28;01mreturn\u001b[39;00m \u001b[38;5;28;43mself\u001b[39;49m\u001b[38;5;241;43m.\u001b[39;49m\u001b[43m_call_impl\u001b[49m\u001b[43m(\u001b[49m\u001b[38;5;241;43m*\u001b[39;49m\u001b[43margs\u001b[49m\u001b[43m,\u001b[49m\u001b[43m \u001b[49m\u001b[38;5;241;43m*\u001b[39;49m\u001b[38;5;241;43m*\u001b[39;49m\u001b[43mkwargs\u001b[49m\u001b[43m)\u001b[49m\n",
      "File \u001b[0;32m~/anaconda3/envs/dl2025/lib/python3.9/site-packages/torch/nn/modules/module.py:1750\u001b[0m, in \u001b[0;36mModule._call_impl\u001b[0;34m(self, *args, **kwargs)\u001b[0m\n\u001b[1;32m   1745\u001b[0m \u001b[38;5;66;03m# If we don't have any hooks, we want to skip the rest of the logic in\u001b[39;00m\n\u001b[1;32m   1746\u001b[0m \u001b[38;5;66;03m# this function, and just call forward.\u001b[39;00m\n\u001b[1;32m   1747\u001b[0m \u001b[38;5;28;01mif\u001b[39;00m \u001b[38;5;129;01mnot\u001b[39;00m (\u001b[38;5;28mself\u001b[39m\u001b[38;5;241m.\u001b[39m_backward_hooks \u001b[38;5;129;01mor\u001b[39;00m \u001b[38;5;28mself\u001b[39m\u001b[38;5;241m.\u001b[39m_backward_pre_hooks \u001b[38;5;129;01mor\u001b[39;00m \u001b[38;5;28mself\u001b[39m\u001b[38;5;241m.\u001b[39m_forward_hooks \u001b[38;5;129;01mor\u001b[39;00m \u001b[38;5;28mself\u001b[39m\u001b[38;5;241m.\u001b[39m_forward_pre_hooks\n\u001b[1;32m   1748\u001b[0m         \u001b[38;5;129;01mor\u001b[39;00m _global_backward_pre_hooks \u001b[38;5;129;01mor\u001b[39;00m _global_backward_hooks\n\u001b[1;32m   1749\u001b[0m         \u001b[38;5;129;01mor\u001b[39;00m _global_forward_hooks \u001b[38;5;129;01mor\u001b[39;00m _global_forward_pre_hooks):\n\u001b[0;32m-> 1750\u001b[0m     \u001b[38;5;28;01mreturn\u001b[39;00m \u001b[43mforward_call\u001b[49m\u001b[43m(\u001b[49m\u001b[38;5;241;43m*\u001b[39;49m\u001b[43margs\u001b[49m\u001b[43m,\u001b[49m\u001b[43m \u001b[49m\u001b[38;5;241;43m*\u001b[39;49m\u001b[38;5;241;43m*\u001b[39;49m\u001b[43mkwargs\u001b[49m\u001b[43m)\u001b[49m\n\u001b[1;32m   1752\u001b[0m result \u001b[38;5;241m=\u001b[39m \u001b[38;5;28;01mNone\u001b[39;00m\n\u001b[1;32m   1753\u001b[0m called_always_called_hooks \u001b[38;5;241m=\u001b[39m \u001b[38;5;28mset\u001b[39m()\n",
      "File \u001b[0;32m~/anaconda3/envs/dl2025/lib/python3.9/site-packages/torch/nn/modules/linear.py:125\u001b[0m, in \u001b[0;36mLinear.forward\u001b[0;34m(self, input)\u001b[0m\n\u001b[1;32m    124\u001b[0m \u001b[38;5;28;01mdef\u001b[39;00m\u001b[38;5;250m \u001b[39m\u001b[38;5;21mforward\u001b[39m(\u001b[38;5;28mself\u001b[39m, \u001b[38;5;28minput\u001b[39m: Tensor) \u001b[38;5;241m-\u001b[39m\u001b[38;5;241m>\u001b[39m Tensor:\n\u001b[0;32m--> 125\u001b[0m     \u001b[38;5;28;01mreturn\u001b[39;00m \u001b[43mF\u001b[49m\u001b[38;5;241;43m.\u001b[39;49m\u001b[43mlinear\u001b[49m\u001b[43m(\u001b[49m\u001b[38;5;28;43minput\u001b[39;49m\u001b[43m,\u001b[49m\u001b[43m \u001b[49m\u001b[38;5;28;43mself\u001b[39;49m\u001b[38;5;241;43m.\u001b[39;49m\u001b[43mweight\u001b[49m\u001b[43m,\u001b[49m\u001b[43m \u001b[49m\u001b[38;5;28;43mself\u001b[39;49m\u001b[38;5;241;43m.\u001b[39;49m\u001b[43mbias\u001b[49m\u001b[43m)\u001b[49m\n",
      "\u001b[0;31mRuntimeError\u001b[0m: Expected all tensors to be on the same device, but found at least two devices, cpu and cuda:0! (when checking argument for argument mat1 in method wrapper_CUDA_addmm)"
     ]
    }
   ],
   "source": [
    "net_cpu(x_gpu) "
   ]
  },
  {
   "cell_type": "markdown",
   "id": "3d211f86-4574-4ddb-8bc1-371480b010b1",
   "metadata": {},
   "source": [
    "(예시4)"
   ]
  },
  {
   "cell_type": "code",
   "execution_count": 16,
   "id": "675fd38d-6521-439c-bed0-0594365b7653",
   "metadata": {},
   "outputs": [
    {
     "ename": "RuntimeError",
     "evalue": "Expected all tensors to be on the same device, but found at least two devices, cuda:0 and cpu! (when checking argument for argument mat1 in method wrapper_CUDA_addmm)",
     "output_type": "error",
     "traceback": [
      "\u001b[0;31m---------------------------------------------------------------------------\u001b[0m",
      "\u001b[0;31mRuntimeError\u001b[0m                              Traceback (most recent call last)",
      "Cell \u001b[0;32mIn[16], line 1\u001b[0m\n\u001b[0;32m----> 1\u001b[0m \u001b[43mnet_gpu\u001b[49m\u001b[43m(\u001b[49m\u001b[43mx_cpu\u001b[49m\u001b[43m)\u001b[49m\n",
      "File \u001b[0;32m~/anaconda3/envs/dl2025/lib/python3.9/site-packages/torch/nn/modules/module.py:1739\u001b[0m, in \u001b[0;36mModule._wrapped_call_impl\u001b[0;34m(self, *args, **kwargs)\u001b[0m\n\u001b[1;32m   1737\u001b[0m     \u001b[38;5;28;01mreturn\u001b[39;00m \u001b[38;5;28mself\u001b[39m\u001b[38;5;241m.\u001b[39m_compiled_call_impl(\u001b[38;5;241m*\u001b[39margs, \u001b[38;5;241m*\u001b[39m\u001b[38;5;241m*\u001b[39mkwargs)  \u001b[38;5;66;03m# type: ignore[misc]\u001b[39;00m\n\u001b[1;32m   1738\u001b[0m \u001b[38;5;28;01melse\u001b[39;00m:\n\u001b[0;32m-> 1739\u001b[0m     \u001b[38;5;28;01mreturn\u001b[39;00m \u001b[38;5;28;43mself\u001b[39;49m\u001b[38;5;241;43m.\u001b[39;49m\u001b[43m_call_impl\u001b[49m\u001b[43m(\u001b[49m\u001b[38;5;241;43m*\u001b[39;49m\u001b[43margs\u001b[49m\u001b[43m,\u001b[49m\u001b[43m \u001b[49m\u001b[38;5;241;43m*\u001b[39;49m\u001b[38;5;241;43m*\u001b[39;49m\u001b[43mkwargs\u001b[49m\u001b[43m)\u001b[49m\n",
      "File \u001b[0;32m~/anaconda3/envs/dl2025/lib/python3.9/site-packages/torch/nn/modules/module.py:1750\u001b[0m, in \u001b[0;36mModule._call_impl\u001b[0;34m(self, *args, **kwargs)\u001b[0m\n\u001b[1;32m   1745\u001b[0m \u001b[38;5;66;03m# If we don't have any hooks, we want to skip the rest of the logic in\u001b[39;00m\n\u001b[1;32m   1746\u001b[0m \u001b[38;5;66;03m# this function, and just call forward.\u001b[39;00m\n\u001b[1;32m   1747\u001b[0m \u001b[38;5;28;01mif\u001b[39;00m \u001b[38;5;129;01mnot\u001b[39;00m (\u001b[38;5;28mself\u001b[39m\u001b[38;5;241m.\u001b[39m_backward_hooks \u001b[38;5;129;01mor\u001b[39;00m \u001b[38;5;28mself\u001b[39m\u001b[38;5;241m.\u001b[39m_backward_pre_hooks \u001b[38;5;129;01mor\u001b[39;00m \u001b[38;5;28mself\u001b[39m\u001b[38;5;241m.\u001b[39m_forward_hooks \u001b[38;5;129;01mor\u001b[39;00m \u001b[38;5;28mself\u001b[39m\u001b[38;5;241m.\u001b[39m_forward_pre_hooks\n\u001b[1;32m   1748\u001b[0m         \u001b[38;5;129;01mor\u001b[39;00m _global_backward_pre_hooks \u001b[38;5;129;01mor\u001b[39;00m _global_backward_hooks\n\u001b[1;32m   1749\u001b[0m         \u001b[38;5;129;01mor\u001b[39;00m _global_forward_hooks \u001b[38;5;129;01mor\u001b[39;00m _global_forward_pre_hooks):\n\u001b[0;32m-> 1750\u001b[0m     \u001b[38;5;28;01mreturn\u001b[39;00m \u001b[43mforward_call\u001b[49m\u001b[43m(\u001b[49m\u001b[38;5;241;43m*\u001b[39;49m\u001b[43margs\u001b[49m\u001b[43m,\u001b[49m\u001b[43m \u001b[49m\u001b[38;5;241;43m*\u001b[39;49m\u001b[38;5;241;43m*\u001b[39;49m\u001b[43mkwargs\u001b[49m\u001b[43m)\u001b[49m\n\u001b[1;32m   1752\u001b[0m result \u001b[38;5;241m=\u001b[39m \u001b[38;5;28;01mNone\u001b[39;00m\n\u001b[1;32m   1753\u001b[0m called_always_called_hooks \u001b[38;5;241m=\u001b[39m \u001b[38;5;28mset\u001b[39m()\n",
      "File \u001b[0;32m~/anaconda3/envs/dl2025/lib/python3.9/site-packages/torch/nn/modules/linear.py:125\u001b[0m, in \u001b[0;36mLinear.forward\u001b[0;34m(self, input)\u001b[0m\n\u001b[1;32m    124\u001b[0m \u001b[38;5;28;01mdef\u001b[39;00m\u001b[38;5;250m \u001b[39m\u001b[38;5;21mforward\u001b[39m(\u001b[38;5;28mself\u001b[39m, \u001b[38;5;28minput\u001b[39m: Tensor) \u001b[38;5;241m-\u001b[39m\u001b[38;5;241m>\u001b[39m Tensor:\n\u001b[0;32m--> 125\u001b[0m     \u001b[38;5;28;01mreturn\u001b[39;00m \u001b[43mF\u001b[49m\u001b[38;5;241;43m.\u001b[39;49m\u001b[43mlinear\u001b[49m\u001b[43m(\u001b[49m\u001b[38;5;28;43minput\u001b[39;49m\u001b[43m,\u001b[49m\u001b[43m \u001b[49m\u001b[38;5;28;43mself\u001b[39;49m\u001b[38;5;241;43m.\u001b[39;49m\u001b[43mweight\u001b[49m\u001b[43m,\u001b[49m\u001b[43m \u001b[49m\u001b[38;5;28;43mself\u001b[39;49m\u001b[38;5;241;43m.\u001b[39;49m\u001b[43mbias\u001b[49m\u001b[43m)\u001b[49m\n",
      "\u001b[0;31mRuntimeError\u001b[0m: Expected all tensors to be on the same device, but found at least two devices, cuda:0 and cpu! (when checking argument for argument mat1 in method wrapper_CUDA_addmm)"
     ]
    }
   ],
   "source": [
    "net_gpu(x_cpu)"
   ]
  },
  {
   "cell_type": "markdown",
   "id": "d9ff9957-ac0d-4ba9-8f86-77d779de84d2",
   "metadata": {},
   "source": [
    "(예시5)"
   ]
  },
  {
   "cell_type": "code",
   "execution_count": 17,
   "id": "ee5cf674-7d28-48af-acf3-d2bc024b14c8",
   "metadata": {},
   "outputs": [
    {
     "data": {
      "text/plain": [
       "tensor(1.2068, grad_fn=<MeanBackward0>)"
      ]
     },
     "execution_count": 17,
     "metadata": {},
     "output_type": "execute_result"
    }
   ],
   "source": [
    "torch.mean((y_cpu-net_cpu(x_cpu))**2)"
   ]
  },
  {
   "cell_type": "markdown",
   "id": "3ea2292a-d9e2-4516-8f8a-275bfce8319f",
   "metadata": {},
   "source": [
    "(예시6)"
   ]
  },
  {
   "cell_type": "code",
   "execution_count": 18,
   "id": "3b6ffcde-3815-46eb-9229-62a8f78366dc",
   "metadata": {},
   "outputs": [
    {
     "data": {
      "text/plain": [
       "tensor(1.2068, device='cuda:0', grad_fn=<MeanBackward0>)"
      ]
     },
     "execution_count": 18,
     "metadata": {},
     "output_type": "execute_result"
    }
   ],
   "source": [
    "torch.mean((y_gpu-net_gpu(x_gpu))**2)"
   ]
  },
  {
   "cell_type": "markdown",
   "id": "23c8cdcf-4cae-42bd-8252-151920f3d6d8",
   "metadata": {},
   "source": [
    "(예시7)"
   ]
  },
  {
   "cell_type": "code",
   "execution_count": 19,
   "id": "a4036cc2-8e7d-4a60-bd9b-ba8183822fdf",
   "metadata": {},
   "outputs": [
    {
     "ename": "RuntimeError",
     "evalue": "Expected all tensors to be on the same device, but found at least two devices, cuda:0 and cpu!",
     "output_type": "error",
     "traceback": [
      "\u001b[0;31m---------------------------------------------------------------------------\u001b[0m",
      "\u001b[0;31mRuntimeError\u001b[0m                              Traceback (most recent call last)",
      "Cell \u001b[0;32mIn[19], line 1\u001b[0m\n\u001b[0;32m----> 1\u001b[0m torch\u001b[38;5;241m.\u001b[39mmean((\u001b[43my_gpu\u001b[49m\u001b[38;5;241;43m-\u001b[39;49m\u001b[43mnet_cpu\u001b[49m\u001b[43m(\u001b[49m\u001b[43mx_cpu\u001b[49m\u001b[43m)\u001b[49m)\u001b[38;5;241m*\u001b[39m\u001b[38;5;241m*\u001b[39m\u001b[38;5;241m2\u001b[39m)\n",
      "\u001b[0;31mRuntimeError\u001b[0m: Expected all tensors to be on the same device, but found at least two devices, cuda:0 and cpu!"
     ]
    }
   ],
   "source": [
    "torch.mean((y_gpu-net_cpu(x_cpu))**2)"
   ]
  },
  {
   "cell_type": "markdown",
   "id": "507b487f-f535-4b29-975e-b19e3fba4845",
   "metadata": {},
   "source": [
    "(예시8)"
   ]
  },
  {
   "cell_type": "code",
   "execution_count": 20,
   "id": "bc0193e3-3ac4-4bb9-99fe-7d63c2160212",
   "metadata": {},
   "outputs": [
    {
     "ename": "RuntimeError",
     "evalue": "Expected all tensors to be on the same device, but found at least two devices, cuda:0 and cpu!",
     "output_type": "error",
     "traceback": [
      "\u001b[0;31m---------------------------------------------------------------------------\u001b[0m",
      "\u001b[0;31mRuntimeError\u001b[0m                              Traceback (most recent call last)",
      "Cell \u001b[0;32mIn[20], line 1\u001b[0m\n\u001b[0;32m----> 1\u001b[0m torch\u001b[38;5;241m.\u001b[39mmean((\u001b[43my_cpu\u001b[49m\u001b[38;5;241;43m-\u001b[39;49m\u001b[43mnet_gpu\u001b[49m\u001b[43m(\u001b[49m\u001b[43mx_gpu\u001b[49m\u001b[43m)\u001b[49m)\u001b[38;5;241m*\u001b[39m\u001b[38;5;241m*\u001b[39m\u001b[38;5;241m2\u001b[39m)\n",
      "\u001b[0;31mRuntimeError\u001b[0m: Expected all tensors to be on the same device, but found at least two devices, cuda:0 and cpu!"
     ]
    }
   ],
   "source": [
    "torch.mean((y_cpu-net_gpu(x_gpu))**2)"
   ]
  },
  {
   "cell_type": "markdown",
   "id": "e90a46f2-2e13-46b3-b5a0-6c2d17166c1f",
   "metadata": {},
   "source": [
    "## B. 시간측정 (예비학습) "
   ]
  },
  {
   "cell_type": "code",
   "execution_count": 21,
   "id": "7aaed327-106f-4afd-a64f-259b2aa09935",
   "metadata": {},
   "outputs": [],
   "source": [
    "import time "
   ]
  },
  {
   "cell_type": "code",
   "execution_count": 22,
   "id": "99059d63-c9b6-4ff9-b567-03477e78544e",
   "metadata": {},
   "outputs": [
    {
     "data": {
      "text/plain": [
       "1746512391.3237932"
      ]
     },
     "execution_count": 22,
     "metadata": {},
     "output_type": "execute_result"
    }
   ],
   "source": [
    "time.time()"
   ]
  },
  {
   "cell_type": "markdown",
   "id": "cfec0a49-1509-4cda-9edf-2b48f0d65744",
   "metadata": {},
   "source": [
    "🗣️ 뭔지는 모르겠지만 차이는 알 수 있음"
   ]
  },
  {
   "cell_type": "code",
   "execution_count": 23,
   "id": "947ad6de-69d9-40f8-8ca9-a425c1cd3c97",
   "metadata": {},
   "outputs": [],
   "source": [
    "t1 = time.time()"
   ]
  },
  {
   "cell_type": "code",
   "execution_count": 24,
   "id": "8956dad0-4b77-426f-8298-15251b247095",
   "metadata": {},
   "outputs": [],
   "source": [
    "t2 = time.time()"
   ]
  },
  {
   "cell_type": "code",
   "execution_count": 25,
   "id": "f9efce69-8064-468d-af2d-cd3e21076325",
   "metadata": {},
   "outputs": [
    {
     "data": {
      "text/plain": [
       "4.3513031005859375"
      ]
     },
     "execution_count": 25,
     "metadata": {},
     "output_type": "execute_result"
    }
   ],
   "source": [
    "t2-t1"
   ]
  },
  {
   "cell_type": "markdown",
   "id": "84390b66-d394-4ed2-b77d-3010bfb2464e",
   "metadata": {},
   "source": [
    "## C. CPU vs GPU (500 nodes)"
   ]
  },
  {
   "cell_type": "markdown",
   "id": "8085c131-f73b-4b40-9d7f-d538ab1b72f4",
   "metadata": {},
   "source": [
    "`-` CPU (500 nodes) "
   ]
  },
  {
   "cell_type": "code",
   "execution_count": 64,
   "id": "91b3a4bc-d082-4640-ad2b-b211908a65f2",
   "metadata": {},
   "outputs": [
    {
     "data": {
      "text/plain": [
       "0.36923766136169434"
      ]
     },
     "execution_count": 64,
     "metadata": {},
     "output_type": "execute_result"
    }
   ],
   "source": [
    "torch.manual_seed(5) \n",
    "x=torch.linspace(0,1,100).reshape(-1,1)\n",
    "y=torch.randn(100).reshape(-1,1)*0.01\n",
    "#---#\n",
    "net = torch.nn.Sequential(\n",
    "    torch.nn.Linear(1,500),\n",
    "    torch.nn.ReLU(),\n",
    "    torch.nn.Linear(500,1)\n",
    ")\n",
    "loss_fn = torch.nn.MSELoss()\n",
    "optimizr = torch.optim.Adam(net.parameters())\n",
    "#---#\n",
    "t1 = time.time()\n",
    "for epoc in range(1000):\n",
    "    # 1 \n",
    "    yhat = net(x)\n",
    "    # 2 \n",
    "    loss = loss_fn(yhat,y)\n",
    "    # 3 \n",
    "    loss.backward()\n",
    "    # 4 \n",
    "    optimizr.step()\n",
    "    optimizr.zero_grad()\n",
    "t2 = time.time()\n",
    "t2-t1"
   ]
  },
  {
   "cell_type": "markdown",
   "id": "559bcf66-705f-4e01-80a5-8497630c5be0",
   "metadata": {},
   "source": [
    "🔬"
   ]
  },
  {
   "cell_type": "code",
   "execution_count": 26,
   "id": "bfb330ca-9284-403d-ae06-153cd57b7e77",
   "metadata": {},
   "outputs": [
    {
     "data": {
      "text/plain": [
       "0.8697936534881592"
      ]
     },
     "execution_count": 26,
     "metadata": {},
     "output_type": "execute_result"
    }
   ],
   "source": [
    "torch.manual_seed(5) \n",
    "x=torch.linspace(0,1,100).reshape(-1,1)\n",
    "y=torch.randn(100).reshape(-1,1)*0.01\n",
    "#---#\n",
    "net = torch.nn.Sequential(\n",
    "    torch.nn.Linear(1,500),\n",
    "    torch.nn.ReLU(),\n",
    "    torch.nn.Linear(500,1)\n",
    ")\n",
    "loss_fn = torch.nn.MSELoss()\n",
    "optimizr = torch.optim.Adam(net.parameters())\n",
    "#---#\n",
    "t1 = time.time()\n",
    "for epoc in range(1000):\n",
    "    # 1 \n",
    "    yhat = net(x)\n",
    "    # 2 \n",
    "    loss = loss_fn(yhat,y)\n",
    "    # 3 \n",
    "    loss.backward()\n",
    "    # 4 \n",
    "    optimizr.step()\n",
    "    optimizr.zero_grad()\n",
    "t2 = time.time()\n",
    "t2-t1"
   ]
  },
  {
   "cell_type": "markdown",
   "id": "54d0033e-0411-4814-b2ac-0ce00e0b1e8b",
   "metadata": {},
   "source": [
    "`-` GPU (500 nodes) "
   ]
  },
  {
   "cell_type": "code",
   "execution_count": 65,
   "id": "1c872e57-8fc7-4a56-af44-f9ce1c7f94f3",
   "metadata": {},
   "outputs": [
    {
     "data": {
      "text/plain": [
       "0.5803208351135254"
      ]
     },
     "execution_count": 65,
     "metadata": {},
     "output_type": "execute_result"
    }
   ],
   "source": [
    "torch.manual_seed(5) \n",
    "x=torch.linspace(0,1,100).reshape(-1,1).to(\"cuda:0\")\n",
    "y=(torch.randn(100).reshape(-1,1)*0.01).to(\"cuda:0\")\n",
    "#---#\n",
    "net = torch.nn.Sequential(\n",
    "    torch.nn.Linear(1,500),\n",
    "    torch.nn.ReLU(),\n",
    "    torch.nn.Linear(500,1)\n",
    ").to(\"cuda:0\")\n",
    "loss_fn = torch.nn.MSELoss()\n",
    "optimizr = torch.optim.Adam(net.parameters())\n",
    "#---#\n",
    "t1 = time.time()\n",
    "for epoc in range(1000):\n",
    "    # 1 \n",
    "    yhat = net(x)\n",
    "    # 2 \n",
    "    loss = loss_fn(yhat,y)\n",
    "    # 3 \n",
    "    loss.backward()\n",
    "    # 4 \n",
    "    optimizr.step()\n",
    "    optimizr.zero_grad()\n",
    "t2 = time.time()\n",
    "t2-t1"
   ]
  },
  {
   "cell_type": "markdown",
   "id": "bd4d5771-6ffc-421b-a2e2-6888e67d9995",
   "metadata": {},
   "source": [
    "🔬"
   ]
  },
  {
   "cell_type": "code",
   "execution_count": 27,
   "id": "c47f305b-f69a-4262-8768-fe810ae0025c",
   "metadata": {},
   "outputs": [
    {
     "data": {
      "text/plain": [
       "0.8882694244384766"
      ]
     },
     "execution_count": 27,
     "metadata": {},
     "output_type": "execute_result"
    }
   ],
   "source": [
    "torch.manual_seed(5) \n",
    "x=torch.linspace(0,1,100).reshape(-1,1).to(\"cuda:0\")\n",
    "y=(torch.randn(100).reshape(-1,1)*0.01).to(\"cuda:0\")\n",
    "#---#\n",
    "net = torch.nn.Sequential(\n",
    "    torch.nn.Linear(1,500),\n",
    "    torch.nn.ReLU(),\n",
    "    torch.nn.Linear(500,1)\n",
    ").to(\"cuda:0\")\n",
    "loss_fn = torch.nn.MSELoss()\n",
    "optimizr = torch.optim.Adam(net.parameters())\n",
    "#---#\n",
    "t1 = time.time()\n",
    "for epoc in range(1000):\n",
    "    # 1 \n",
    "    yhat = net(x)\n",
    "    # 2 \n",
    "    loss = loss_fn(yhat,y)\n",
    "    # 3 \n",
    "    loss.backward()\n",
    "    # 4 \n",
    "    optimizr.step()\n",
    "    optimizr.zero_grad()\n",
    "t2 = time.time()\n",
    "t2-t1"
   ]
  },
  {
   "cell_type": "markdown",
   "id": "a2e92148-1219-49e2-b409-f2cf6b1aaea5",
   "metadata": {},
   "source": [
    "- CPU가 더 빠르다??"
   ]
  },
  {
   "cell_type": "markdown",
   "id": "c301d10b-b623-4890-8e26-0e311f845ee2",
   "metadata": {},
   "source": [
    "## D. CPU vs GPU (200,000 nodes)"
   ]
  },
  {
   "cell_type": "markdown",
   "id": "f37fc517-19c4-4e44-a31e-eb16953513f7",
   "metadata": {},
   "source": [
    "`-` CPU (200,000)"
   ]
  },
  {
   "cell_type": "code",
   "execution_count": 66,
   "id": "ecc56784-3ca4-40ff-980c-a8a38e62abbf",
   "metadata": {},
   "outputs": [
    {
     "data": {
      "text/plain": [
       "84.05620455741882"
      ]
     },
     "execution_count": 66,
     "metadata": {},
     "output_type": "execute_result"
    }
   ],
   "source": [
    "torch.manual_seed(5) \n",
    "x=torch.linspace(0,1,100).reshape(-1,1)\n",
    "y=torch.randn(100).reshape(-1,1)*0.01\n",
    "#---#\n",
    "net = torch.nn.Sequential(\n",
    "    torch.nn.Linear(1,200000),\n",
    "    torch.nn.ReLU(),\n",
    "    torch.nn.Linear(200000,1)\n",
    ")\n",
    "loss_fn = torch.nn.MSELoss()\n",
    "optimizr = torch.optim.Adam(net.parameters())\n",
    "#---#\n",
    "t1 = time.time()\n",
    "for epoc in range(1000):\n",
    "    # 1 \n",
    "    yhat = net(x)\n",
    "    # 2 \n",
    "    loss = loss_fn(yhat,y)\n",
    "    # 3 \n",
    "    loss.backward()\n",
    "    # 4 \n",
    "    optimizr.step()\n",
    "    optimizr.zero_grad()\n",
    "t2 = time.time()\n",
    "t2-t1"
   ]
  },
  {
   "cell_type": "markdown",
   "id": "dee0a59b-4ff3-4371-908f-5268699a8c17",
   "metadata": {},
   "source": [
    "🔬"
   ]
  },
  {
   "cell_type": "code",
   "execution_count": 28,
   "id": "7297f5cc-a937-4c2b-bb7f-e7b8f178a965",
   "metadata": {},
   "outputs": [
    {
     "data": {
      "text/plain": [
       "83.98482537269592"
      ]
     },
     "execution_count": 28,
     "metadata": {},
     "output_type": "execute_result"
    }
   ],
   "source": [
    "torch.manual_seed(5) \n",
    "x=torch.linspace(0,1,100).reshape(-1,1)\n",
    "y=torch.randn(100).reshape(-1,1)*0.01\n",
    "#---#\n",
    "net = torch.nn.Sequential(\n",
    "    torch.nn.Linear(1,200000),\n",
    "    torch.nn.ReLU(),\n",
    "    torch.nn.Linear(200000,1)\n",
    ")\n",
    "loss_fn = torch.nn.MSELoss()\n",
    "optimizr = torch.optim.Adam(net.parameters())\n",
    "#---#\n",
    "t1 = time.time()\n",
    "for epoc in range(1000):\n",
    "    # 1 \n",
    "    yhat = net(x)\n",
    "    # 2 \n",
    "    loss = loss_fn(yhat,y)\n",
    "    # 3 \n",
    "    loss.backward()\n",
    "    # 4 \n",
    "    optimizr.step()\n",
    "    optimizr.zero_grad()\n",
    "t2 = time.time()\n",
    "t2-t1"
   ]
  },
  {
   "cell_type": "markdown",
   "id": "7d6d5049-c716-4ef2-8011-9d278a474f21",
   "metadata": {},
   "source": [
    "`-` GPU (204,800)"
   ]
  },
  {
   "cell_type": "code",
   "execution_count": 67,
   "id": "abca7d4b-755d-4e43-a08d-44762cb3daf2",
   "metadata": {},
   "outputs": [
    {
     "data": {
      "text/plain": [
       "1.373826026916504"
      ]
     },
     "execution_count": 67,
     "metadata": {},
     "output_type": "execute_result"
    }
   ],
   "source": [
    "torch.manual_seed(5) \n",
    "x=torch.linspace(0,1,100).reshape(-1,1).to(\"cuda:0\")\n",
    "y=(torch.randn(100).reshape(-1,1)*0.01).to(\"cuda:0\")\n",
    "#---#\n",
    "net = torch.nn.Sequential(\n",
    "    torch.nn.Linear(1,200000),\n",
    "    torch.nn.ReLU(),\n",
    "    torch.nn.Linear(200000,1)\n",
    ").to(\"cuda:0\")\n",
    "loss_fn = torch.nn.MSELoss()\n",
    "optimizr = torch.optim.Adam(net.parameters())\n",
    "#---#\n",
    "t1 = time.time()\n",
    "for epoc in range(1000):\n",
    "    # 1 \n",
    "    yhat = net(x)\n",
    "    # 2 \n",
    "    loss = loss_fn(yhat,y)\n",
    "    # 3 \n",
    "    loss.backward()\n",
    "    # 4 \n",
    "    optimizr.step()\n",
    "    optimizr.zero_grad()\n",
    "t2 = time.time()\n",
    "t2-t1"
   ]
  },
  {
   "cell_type": "markdown",
   "id": "795aa2e0-43ec-4893-882d-16930dc462d9",
   "metadata": {},
   "source": [
    "🔬"
   ]
  },
  {
   "cell_type": "code",
   "execution_count": 29,
   "id": "450616dc-2b31-442f-a3a4-f233bc8773a3",
   "metadata": {},
   "outputs": [
    {
     "data": {
      "text/plain": [
       "2.6831233501434326"
      ]
     },
     "execution_count": 29,
     "metadata": {},
     "output_type": "execute_result"
    }
   ],
   "source": [
    "torch.manual_seed(5) \n",
    "x=torch.linspace(0,1,100).reshape(-1,1).to(\"cuda:0\")\n",
    "y=(torch.randn(100).reshape(-1,1)*0.01).to(\"cuda:0\")\n",
    "#---#\n",
    "net = torch.nn.Sequential(\n",
    "    torch.nn.Linear(1,200000),\n",
    "    torch.nn.ReLU(),\n",
    "    torch.nn.Linear(200000,1)\n",
    ").to(\"cuda:0\")\n",
    "loss_fn = torch.nn.MSELoss()\n",
    "optimizr = torch.optim.Adam(net.parameters())\n",
    "#---#\n",
    "t1 = time.time()\n",
    "for epoc in range(1000):\n",
    "    # 1 \n",
    "    yhat = net(x)\n",
    "    # 2 \n",
    "    loss = loss_fn(yhat,y)\n",
    "    # 3 \n",
    "    loss.backward()\n",
    "    # 4 \n",
    "    optimizr.step()\n",
    "    optimizr.zero_grad()\n",
    "t2 = time.time()\n",
    "t2-t1"
   ]
  },
  {
   "cell_type": "markdown",
   "id": "43b53e94-ffb3-4e2f-8e03-a0493c517dfa",
   "metadata": {},
   "source": [
    "- 🗣️\n",
    "    - 항상 GPU가 빠른 것은 아님 (node가 커지면 GPU가 유리)\n",
    "    - CPU는 코어가 많아야 60여개, GPU는 코어가 만 개 단위"
   ]
  },
  {
   "cell_type": "markdown",
   "id": "104b46bd-5092-4913-ad5d-97a8c97d37df",
   "metadata": {},
   "source": [
    "- 왜 이런 차이가 나는가? \n",
    "- 연산을 하는 주체는 코어인데 CPU는 수는 적지만 일을 잘하는 코어들을 가지고 있고 GPU는 일은 못하지만 다수의 코어를 가지고 있기 때문 "
   ]
  },
  {
   "cell_type": "markdown",
   "id": "5ea41777-20be-4cd6-a01e-db075cd54336",
   "metadata": {},
   "source": [
    "## E. 주의점 "
   ]
  },
  {
   "cell_type": "markdown",
   "id": "23e2588b-c080-4363-8a91-2d5ff75b2924",
   "metadata": {},
   "source": [
    "`-` tensor 일 경우"
   ]
  },
  {
   "cell_type": "code",
   "execution_count": 30,
   "id": "ff40fb34-846f-44b3-b2e3-962f9c6234b2",
   "metadata": {},
   "outputs": [
    {
     "data": {
      "text/plain": [
       "(tensor([1, 2, 3], device='cuda:0'), tensor([1, 2, 3]))"
      ]
     },
     "execution_count": 30,
     "metadata": {},
     "output_type": "execute_result"
    }
   ],
   "source": [
    "x = torch.tensor([1,2,3])\n",
    "x.to(\"cuda:0\"), x"
   ]
  },
  {
   "cell_type": "markdown",
   "id": "1b7e3644-8b92-40bd-b313-7cb46ee286c9",
   "metadata": {},
   "source": [
    "`-` net일 경우 "
   ]
  },
  {
   "cell_type": "code",
   "execution_count": 31,
   "id": "b6841a85-8cd4-4422-80ec-7e146ffe5849",
   "metadata": {},
   "outputs": [
    {
     "data": {
      "text/plain": [
       "(Parameter containing:\n",
       " tensor([[-0.0084]], device='cuda:0', requires_grad=True),\n",
       " Parameter containing:\n",
       " tensor([-0.6216], device='cuda:0', requires_grad=True))"
      ]
     },
     "execution_count": 31,
     "metadata": {},
     "output_type": "execute_result"
    }
   ],
   "source": [
    "net = torch.nn.Linear(1,1).to(\"cuda:0\")\n",
    "net.weight, net.bias"
   ]
  },
  {
   "cell_type": "markdown",
   "id": "31270123-e676-4a75-afe7-e7b65dfb82b3",
   "metadata": {},
   "source": [
    "🗣️("
   ]
  },
  {
   "cell_type": "markdown",
   "id": "9a60c3fd-3c37-4efe-b4ba-bfe2107dda3d",
   "metadata": {},
   "source": [
    "- net은 값 자체가 통째로 cuda로 감"
   ]
  },
  {
   "cell_type": "code",
   "execution_count": 32,
   "id": "61d69d78-48b7-4eb9-8377-a030655324c5",
   "metadata": {},
   "outputs": [
    {
     "data": {
      "text/plain": [
       "Linear(in_features=1, out_features=1, bias=True)"
      ]
     },
     "execution_count": 32,
     "metadata": {},
     "output_type": "execute_result"
    }
   ],
   "source": [
    "net_cpu = torch.nn.Linear(1,1)\n",
    "net_cpu"
   ]
  },
  {
   "cell_type": "code",
   "execution_count": 34,
   "id": "e433aa6e-0a1b-478e-93e1-e15767cc3a51",
   "metadata": {},
   "outputs": [],
   "source": [
    "net_gpu = net_cpu.to(\"cuda:0\") # 이거를 실행하는 순간 cuda로 가기 때문에"
   ]
  },
  {
   "cell_type": "code",
   "execution_count": 35,
   "id": "4e346821-67d8-4aa2-9253-d5fd604c1c29",
   "metadata": {},
   "outputs": [
    {
     "data": {
      "text/plain": [
       "Parameter containing:\n",
       "tensor([[0.1766]], device='cuda:0', requires_grad=True)"
      ]
     },
     "execution_count": 35,
     "metadata": {},
     "output_type": "execute_result"
    }
   ],
   "source": [
    "net_cpu.weight # 더 이상 cpu로 부를 수 없음"
   ]
  },
  {
   "cell_type": "markdown",
   "id": "c99a15ed-4eb4-4b55-b85d-c3dc059dfe56",
   "metadata": {},
   "source": [
    "- 비교"
   ]
  },
  {
   "cell_type": "code",
   "execution_count": 36,
   "id": "f701a6a3-38b3-4739-a9db-8c5d24936e1f",
   "metadata": {},
   "outputs": [
    {
     "data": {
      "text/plain": [
       "tensor([1, 2, 3])"
      ]
     },
     "execution_count": 36,
     "metadata": {},
     "output_type": "execute_result"
    }
   ],
   "source": [
    "x_cpu = torch.tensor([1,2,3])\n",
    "x_cpu"
   ]
  },
  {
   "cell_type": "code",
   "execution_count": 37,
   "id": "6f93137d-56c0-41cc-969e-2682a800cc9b",
   "metadata": {},
   "outputs": [],
   "source": [
    "x_gpu = x_cpu.to(\"cuda:0\")"
   ]
  },
  {
   "cell_type": "code",
   "execution_count": 38,
   "id": "34a88d91-7773-404a-aefb-44faac221a13",
   "metadata": {},
   "outputs": [
    {
     "data": {
      "text/plain": [
       "tensor([1, 2, 3])"
      ]
     },
     "execution_count": 38,
     "metadata": {},
     "output_type": "execute_result"
    }
   ],
   "source": [
    "x_cpu"
   ]
  },
  {
   "cell_type": "code",
   "execution_count": 39,
   "id": "c8e6582a-be1e-4f85-901b-4c33d3c4a6d1",
   "metadata": {},
   "outputs": [
    {
     "data": {
      "text/plain": [
       "tensor([1, 2, 3], device='cuda:0')"
      ]
     },
     "execution_count": 39,
     "metadata": {},
     "output_type": "execute_result"
    }
   ],
   "source": [
    "x_gpu"
   ]
  },
  {
   "cell_type": "markdown",
   "id": "41bfd203-8ac1-4107-b319-fbaea700c0d6",
   "metadata": {},
   "source": [
    ")🗣️"
   ]
  },
  {
   "cell_type": "markdown",
   "id": "be2780f4-c84c-4ea1-a5a1-0082dc5eaaef",
   "metadata": {},
   "source": [
    "# 5. \"확률적\" 경사하강법 📝"
   ]
  },
  {
   "cell_type": "markdown",
   "id": "90377cb2-d9ca-40f5-bb17-e99bd83226d8",
   "metadata": {},
   "source": [
    "## A. 의문: 좀 이상하지 않아요? "
   ]
  },
  {
   "cell_type": "markdown",
   "id": "36897227-1505-4b22-8b14-6f84eb9e46af",
   "metadata": {},
   "source": [
    "`-` 국민상식: GPU 비싸요.. <https://bbs.ruliweb.com/community/board/300143/read/61066881>\n",
    "\n",
    "- GPU 메모리 많아봐야 24GB, 그래도 비싸요.. <http://shop.danawa.com/virtualestimate/?controller=estimateMain&methods=index&marketPlaceSeq=16>\n",
    "- GPU 메모리가 80GB일 경우 가격: <https://prod.danawa.com/info/?pcode=21458333>"
   ]
  },
  {
   "cell_type": "markdown",
   "id": "e99ffcde-a4cf-4ddf-afa6-9dedfd576966",
   "metadata": {},
   "source": [
    "`-` 우리가 분석하는 데이터"
   ]
  },
  {
   "cell_type": "code",
   "execution_count": 41,
   "id": "f82e8c13-7b42-4abd-977f-813a65c57995",
   "metadata": {},
   "outputs": [],
   "source": [
    "x = torch.linspace(-10,10,100000).reshape(-1,1)\n",
    "eps = torch.randn(100000).reshape(-1,1)\n",
    "y = x*2 + eps "
   ]
  },
  {
   "cell_type": "code",
   "execution_count": 42,
   "id": "c02fdaba-e694-4b6c-934d-d9441aa99204",
   "metadata": {},
   "outputs": [
    {
     "data": {
      "text/plain": [
       "[<matplotlib.lines.Line2D at 0x7f5c8ef3fd00>]"
      ]
     },
     "execution_count": 42,
     "metadata": {},
     "output_type": "execute_result"
    },
    {
     "data": {
      "image/png": "[encoded data removed]",
      "text/plain": [
       "<Figure size 450x300 with 1 Axes>"
      ]
     },
     "metadata": {},
     "output_type": "display_data"
    }
   ],
   "source": [
    "plt.plot(x,y,'.',alpha=0.05)\n",
    "plt.plot(x,2*x,'--')"
   ]
  },
  {
   "cell_type": "code",
   "execution_count": 43,
   "id": "df6a9d21-9fc1-42e8-897c-50a88650a71b",
   "metadata": {},
   "outputs": [
    {
     "data": {
      "text/plain": [
       "100000"
      ]
     },
     "execution_count": 43,
     "metadata": {},
     "output_type": "execute_result"
    }
   ],
   "source": [
    "len(x)"
   ]
  },
  {
   "cell_type": "markdown",
   "id": "6aec985e-33ba-403a-add6-de12273dbcac",
   "metadata": {},
   "source": [
    "`-` 데이터의 크기가 커지는 순간 `x.to(\"cuda:0\")`, `y.to(\"cuda:0\")` 쓰면 난리나겠는걸? $\\to$ 이런식이면 GPU를 이용하여 아무런 분석도 못할것 같은데?? 뭔가 좀 이상한데??"
   ]
  },
  {
   "cell_type": "markdown",
   "id": "a4e0bcc5-c3de-49ec-8578-80fed553ba82",
   "metadata": {},
   "source": [
    "`-` 아이디어: 데이터를 100개중에 1개 꼴로만 쓰면 어떨까? "
   ]
  },
  {
   "cell_type": "code",
   "execution_count": 44,
   "id": "e5d3c0aa-39ed-4f46-a5c2-51b47e53b75a",
   "metadata": {},
   "outputs": [
    {
     "data": {
      "text/plain": [
       "torch.Size([50000, 1])"
      ]
     },
     "execution_count": 44,
     "metadata": {},
     "output_type": "execute_result"
    }
   ],
   "source": [
    "x[::2].shape"
   ]
  },
  {
   "cell_type": "code",
   "execution_count": 45,
   "id": "755a3b6a-53d4-46f0-a1df-94a4404ef595",
   "metadata": {},
   "outputs": [
    {
     "data": {
      "text/plain": [
       "torch.Size([1000, 1])"
      ]
     },
     "execution_count": 45,
     "metadata": {},
     "output_type": "execute_result"
    }
   ],
   "source": [
    "x[::100].shape"
   ]
  },
  {
   "cell_type": "code",
   "execution_count": 46,
   "id": "4697a19c-8d55-4b48-8ab3-32b1679205db",
   "metadata": {},
   "outputs": [
    {
     "data": {
      "text/plain": [
       "[<matplotlib.lines.Line2D at 0x7f5ca0a0bee0>]"
      ]
     },
     "execution_count": 46,
     "metadata": {},
     "output_type": "execute_result"
    },
    {
     "data": {
      "image/png": "[encoded data removed]",
      "text/plain": [
       "<Figure size 450x300 with 1 Axes>"
      ]
     },
     "metadata": {},
     "output_type": "display_data"
    }
   ],
   "source": [
    "plt.plot(x[::100],y[::100],'o',alpha=0.05)\n",
    "plt.plot(x,2*x,'--')"
   ]
  },
  {
   "cell_type": "markdown",
   "id": "f07b2835-668f-43e1-a1e5-7bf2c47b6159",
   "metadata": {},
   "source": [
    "- 대충 이거만 가지고 적합해도 충분히 정확할것 같은데?"
   ]
  },
  {
   "cell_type": "markdown",
   "id": "0345f12d-cf7f-4de2-9c81-da5dc5258a4e",
   "metadata": {},
   "source": [
    "## B. X,y 데이터를 굳이 모두 GPU에 넘겨야 하는가?"
   ]
  },
  {
   "cell_type": "markdown",
   "id": "4b71d9d8-42fd-42d9-ab16-a03ab0932421",
   "metadata": {},
   "source": [
    "`-` 데이터셋을 짝홀로 나누어서 번갈아가면서 GPU에 올렸다 내렸다하면 안되나? "
   ]
  },
  {
   "cell_type": "markdown",
   "id": "535d5a91-7cb1-4bf2-9851-190f260f955a",
   "metadata": {},
   "source": [
    "`-` 아래의 알고리즘을 생각해보자. \n",
    "\n",
    "1. 데이터를 반으로 나눈다. \n",
    "2. 짝수obs의 x,y 그리고 net의 모든 파라메터를 GPU에 올린다. \n",
    "3. yhat, loss, grad, update 수행\n",
    "4. 짝수obs의 x,y를 GPU메모리에서 내린다. 그리고 홀수obs의 x,y를 GPU메모리에 올린다. \n",
    "5. yhat, loss, grad, update 수행 \n",
    "6. 홀수obs의 x,y를 GPU메모리에서 내린다. 그리고 짝수obs의 x,y를 GPU메모리에 올린다. \n",
    "7. 반복 "
   ]
  },
  {
   "cell_type": "markdown",
   "id": "435a79b4-e97d-45ba-825b-ea3b1ae6c83e",
   "metadata": {},
   "source": [
    "> 이러면 되는거아니야???? ---> 맞아요"
   ]
  },
  {
   "cell_type": "markdown",
   "id": "214afe7c-4d10-42c4-a7fc-04b959142f84",
   "metadata": {},
   "source": [
    "🗣️ => 확률적경사하강법"
   ]
  },
  {
   "cell_type": "markdown",
   "id": "09fa6278-23cd-4748-8578-e59e45c4a37c",
   "metadata": {},
   "source": [
    "## C. 경사하강법, 확률적경사하강법, 미니배치 경사하강법 "
   ]
  },
  {
   "cell_type": "markdown",
   "id": "8b34dcbd-1feb-4b52-b131-5d91bb18a2e6",
   "metadata": {},
   "source": [
    "🗣️ 임의의 묶음: 미니배치"
   ]
  },
  {
   "cell_type": "markdown",
   "id": "e1bca5c8-027b-4acf-8728-a58980cd98fa",
   "metadata": {},
   "source": [
    "10개의 샘플이 있다고 가정. $\\{(x_i,y_i)\\}_{i=1}^{10}$"
   ]
  },
  {
   "cell_type": "markdown",
   "id": "fab6c839-1843-4f10-bc31-dc203c80deec",
   "metadata": {},
   "source": [
    "`# ver1` --  모든 샘플을 이용하여 slope 계산"
   ]
  },
  {
   "cell_type": "markdown",
   "id": "4554f0ea-439e-4071-93a2-33c94094e4a3",
   "metadata": {},
   "source": [
    "(epoch 1) $loss=\\sum_{i=1}^{10}(y_i-\\hat{w}_0-\\hat{w}_1x_i)^2 \\to slope  \\to update$"
   ]
  },
  {
   "cell_type": "markdown",
   "id": "e68dfda9-deee-4458-8c18-45a04450def8",
   "metadata": {},
   "source": [
    "(epoch 2) $loss=\\sum_{i=1}^{10}(y_i-\\hat{w}_0-\\hat{w}_1x_i)^2 \\to slope  \\to update$"
   ]
  },
  {
   "cell_type": "markdown",
   "id": "8736b154-aa5e-4f27-b8c6-782b2227bc06",
   "metadata": {},
   "source": [
    "🗣️ loss가 SSE"
   ]
  },
  {
   "cell_type": "markdown",
   "id": "cf34cd1a-c9fb-4701-88d2-c7f83c4d9294",
   "metadata": {},
   "source": [
    "..."
   ]
  },
  {
   "cell_type": "markdown",
   "id": "12332bd4-acf8-431e-98c7-16a26007df11",
   "metadata": {},
   "source": [
    "> 우리가 항상 이렇게 했죠!"
   ]
  },
  {
   "cell_type": "markdown",
   "id": "1e816c2b-6f1d-4017-8905-150857f57cf3",
   "metadata": {},
   "source": [
    "`# ver2` -- 하나의 샘플만을 이용하여 slope 계산"
   ]
  },
  {
   "cell_type": "markdown",
   "id": "273cc446-ab50-4d3a-924f-6165445610f7",
   "metadata": {},
   "source": [
    "(epoch 1) \n",
    "\n",
    "- $loss=(y_1-\\hat{w}_0-\\hat{w}_1x_1)^2 \\to slope \\to update$\n",
    "- $loss=(y_2-\\hat{w}_0-\\hat{w}_1x_2)^2 \\to slope \\to update$\n",
    "- ...\n",
    "- $loss=(y_{10}-\\hat{w}_0-\\hat{w}_1x_{10})^2  \\to  slope  \\to  update$"
   ]
  },
  {
   "cell_type": "markdown",
   "id": "b2ff183c-a527-4413-8796-3979ee00110d",
   "metadata": {},
   "source": [
    "(epoch 2) \n",
    "\n",
    "- $loss=(y_1-\\hat{w}_0-\\hat{w}_1x_1)^2  \\to slope  \\to  update$\n",
    "- $loss=(y_2-\\hat{w}_0-\\hat{w}_1x_2)^2  \\to slope  \\to  update$\n",
    "- ...\n",
    "- $loss=(y_{10}-\\hat{w}_0-\\hat{w}_1x_{10})^2  \\to  slope  \\to  update$"
   ]
  },
  {
   "cell_type": "markdown",
   "id": "de4e5e2a-edc5-4817-ac9f-f996c9d7352b",
   "metadata": {},
   "source": [
    "🗣️ epoch 2 후 20번 update"
   ]
  },
  {
   "cell_type": "markdown",
   "id": "fbcfc049-17a4-427c-a163-e93514d45f86",
   "metadata": {},
   "source": [
    "..."
   ]
  },
  {
   "cell_type": "markdown",
   "id": "d90a470d-a721-482f-ae37-25a15733d712",
   "metadata": {},
   "source": [
    "`# ver3` -- $m (\\leq n)$ 개의 샘플을 이용하여 slope 계산"
   ]
  },
  {
   "cell_type": "markdown",
   "id": "6243f6cd-85e3-4e94-a9bc-ebed8425361b",
   "metadata": {},
   "source": [
    "🗣️ 미니배치 사이즈 = 3"
   ]
  },
  {
   "cell_type": "markdown",
   "id": "3e38f2fd-9598-4796-a6fc-ff1f6d336587",
   "metadata": {},
   "source": [
    "$m=3$이라고 하자. "
   ]
  },
  {
   "cell_type": "markdown",
   "id": "2d0c91ef-9bcd-462f-b3a4-cbf0682bd3e5",
   "metadata": {},
   "source": [
    "(epoch 1) \n",
    "\n",
    "- $loss=\\sum_{i=1}^{3}(y_i-\\hat{w}_0-\\hat{w}_1x_i)^2  \\to  slope  \\to  update$\n",
    "- $loss=\\sum_{i=4}^{6}(y_i-\\hat{w}_0-\\hat{w}_1x_i)^2  \\to  slope  \\to  update$\n",
    "- $loss=\\sum_{i=7}^{9}(y_i-\\hat{w}_0-\\hat{w}_1x_i)^2  \\to  slope  \\to  update$\n",
    "- $loss=(y_{10}-\\hat{w}_0-\\hat{w}_1x_{10})^2  \\to  slope  \\to  update$"
   ]
  },
  {
   "cell_type": "markdown",
   "id": "557e0796-e1b9-4f2f-ab45-57c80ceade01",
   "metadata": {},
   "source": [
    "(epoch 2) \n",
    "\n",
    "- $loss=\\sum_{i=1}^{3}(y_i-\\hat{w}_0-\\hat{w}_1x_i)^2  \\to  slope  \\to  update$\n",
    "- $loss=\\sum_{i=4}^{6}(y_i-\\hat{w}_0-\\hat{w}_1x_i)^2  \\to  slope  \\to  update$\n",
    "- $loss=\\sum_{i=7}^{9}(y_i-\\hat{w}_0-\\hat{w}_1x_i)^2  \\to  slope  \\to  update$\n",
    "- $loss=(y_{10}-\\hat{w}_0-\\hat{w}_1x_{10})^2  \\to  slope  \\to  update$"
   ]
  },
  {
   "cell_type": "markdown",
   "id": "de41ec89-71e2-4232-998e-61ffea214ca0",
   "metadata": {},
   "source": [
    "🗣️ 10은 단독으로 update"
   ]
  },
  {
   "cell_type": "markdown",
   "id": "41ba3314-2253-423d-b00f-495aa72517bd",
   "metadata": {},
   "source": [
    "..."
   ]
  },
  {
   "cell_type": "markdown",
   "id": "14f88eae-8b1c-43fb-b965-261b1289c153",
   "metadata": {},
   "source": [
    "## D. 용어의 정리 "
   ]
  },
  {
   "cell_type": "markdown",
   "id": "a71b2a0b-b621-4fa2-ad79-fc1bd1869240",
   "metadata": {},
   "source": [
    "**옛날**"
   ]
  },
  {
   "cell_type": "markdown",
   "id": "800fc2d5-071d-43e8-800d-3d91a4c39b80",
   "metadata": {},
   "source": [
    "`-` ver1(모든): gradient descent, batch gradient descent\n",
    "\n",
    "`-` ver2(하나만): stochastic gradient descent\n",
    "\n",
    "`-` ver3(몇개만): mini-batch gradient descent, mini-batch stochastic gradient descent"
   ]
  },
  {
   "cell_type": "markdown",
   "id": "bb7a9282-083d-4ef0-881d-71b4c15824a5",
   "metadata": {},
   "source": [
    "🗣️ stochastic: 차례대로 하는 것이 아니라 랜덤으로 계속 뽑는 방식도 있어서 이것에 기원을 둠 / batch: 전체 data"
   ]
  },
  {
   "cell_type": "markdown",
   "id": "79313eb2-a89d-47ce-b9a0-8a7d20b71953",
   "metadata": {},
   "source": [
    "🗣️ ver3: 위 그림에서 y10의 경우 가중치가 계속 있는 것이 싫어서 랜덤으로 3개씩 뽑을 수도 있음 -> stochastic"
   ]
  },
  {
   "cell_type": "markdown",
   "id": "2a320e4b-c37a-48ed-9bef-f4165649db58",
   "metadata": {},
   "source": [
    "**요즘**"
   ]
  },
  {
   "cell_type": "markdown",
   "id": "b1b84507-e78f-4c1b-98a2-8632a64bb6d4",
   "metadata": {},
   "source": [
    "`-` ver1(모든): gradient descent\n",
    "\n",
    "`-` ver2(하나만): stochastic gradient descent with batch size = 1\n",
    "\n",
    "`-` **ver3(몇개만): stochastic gradient descent**\n",
    "- https://www.deeplearningbook.org/contents/optimization.html, 알고리즘 8-1 참고."
   ]
  },
  {
   "cell_type": "markdown",
   "id": "e44473b7-e53f-45e1-9454-5fd29eb6f97e",
   "metadata": {},
   "source": [
    "🗣️ ver3을 제일 많이 씀"
   ]
  },
  {
   "cell_type": "markdown",
   "id": "f6ff03ec-06b3-4599-9a32-3f5ea7e6ebc2",
   "metadata": {},
   "source": [
    "## E. Dataset(`ds`), DataLoader(`dl`)"
   ]
  },
  {
   "cell_type": "markdown",
   "id": "c4f3f3b9-8ba0-49f5-bacc-7bce86ca0b08",
   "metadata": {},
   "source": [
    "> 취지는 알겠으나, C의 과정을 실제 구현하려면 진짜 어려움.. (입코딩과 손코딩의 차이) --> 이걸 해결하기 위해서 파이토치에서는 DataLoader라는 오브젝트를 준비했음!"
   ]
  },
  {
   "cell_type": "markdown",
   "id": "7a5b31d4-f51f-459f-92b1-cfb81d88a047",
   "metadata": {},
   "source": [
    "`-` 데이터 "
   ]
  },
  {
   "cell_type": "code",
   "execution_count": 51,
   "id": "1ef3096f-f2be-48fc-95ba-5914e67b3bcb",
   "metadata": {},
   "outputs": [],
   "source": [
    "x=torch.tensor(range(10))\n",
    "y=torch.tensor([1.0]*5+[0.0]*5).reshape(-1,1)"
   ]
  },
  {
   "cell_type": "code",
   "execution_count": 53,
   "id": "13d43975-919f-4e93-958f-137b81b885f7",
   "metadata": {},
   "outputs": [
    {
     "data": {
      "text/plain": [
       "(tensor([0, 1, 2, 3, 4, 5, 6, 7, 8, 9]),\n",
       " tensor([[1.],\n",
       "         [1.],\n",
       "         [1.],\n",
       "         [1.],\n",
       "         [1.],\n",
       "         [0.],\n",
       "         [0.],\n",
       "         [0.],\n",
       "         [0.],\n",
       "         [0.]]))"
      ]
     },
     "execution_count": 53,
     "metadata": {},
     "output_type": "execute_result"
    }
   ],
   "source": [
    "x, y"
   ]
  },
  {
   "cell_type": "code",
   "execution_count": 50,
   "id": "91356b4b-303b-4616-a561-635f3f065331",
   "metadata": {},
   "outputs": [
    {
     "data": {
      "text/plain": [
       "(torch.Size([10]), torch.Size([10]))"
      ]
     },
     "execution_count": 50,
     "metadata": {},
     "output_type": "execute_result"
    }
   ],
   "source": [
    "x.shape, y.shape # 몇개씩 있는지가 중요"
   ]
  },
  {
   "cell_type": "code",
   "execution_count": 54,
   "id": "4d884847-d885-42e0-b703-e2261c306b70",
   "metadata": {},
   "outputs": [
    {
     "data": {
      "text/plain": [
       "tensor([[0., 1.],\n",
       "        [1., 1.],\n",
       "        [2., 1.],\n",
       "        [3., 1.],\n",
       "        [4., 1.],\n",
       "        [5., 0.],\n",
       "        [6., 0.],\n",
       "        [7., 0.],\n",
       "        [8., 0.],\n",
       "        [9., 0.]])"
      ]
     },
     "execution_count": 54,
     "metadata": {},
     "output_type": "execute_result"
    }
   ],
   "source": [
    "x=torch.tensor(range(10)).float().reshape(-1,1)\n",
    "y=torch.tensor([1.0]*5+[0.0]*5).reshape(-1,1)\n",
    "torch.concat([x,y],axis=1)"
   ]
  },
  {
   "cell_type": "markdown",
   "id": "b6f3caf4-6702-4f20-9a28-b7d6a3af5584",
   "metadata": {},
   "source": [
    "`-` `ds`오브젝트"
   ]
  },
  {
   "cell_type": "code",
   "execution_count": 56,
   "id": "6cb48c83-c220-44d9-ba9d-9dd66e03247a",
   "metadata": {},
   "outputs": [
    {
     "data": {
      "text/plain": [
       "<torch.utils.data.dataset.TensorDataset at 0x7f5c8eed5fa0>"
      ]
     },
     "execution_count": 56,
     "metadata": {},
     "output_type": "execute_result"
    }
   ],
   "source": [
    "ds = torch.utils.data.TensorDataset(x,y)\n",
    "ds"
   ]
  },
  {
   "cell_type": "markdown",
   "id": "f8dddeb6-e21e-42f6-8c7b-5df5c2de35ca",
   "metadata": {},
   "source": [
    "🗣️ 뭔가 만들어짐 (ds: dataset)"
   ]
  },
  {
   "cell_type": "code",
   "execution_count": 57,
   "id": "cd981f13-5459-432e-a724-37991fb1f901",
   "metadata": {},
   "outputs": [
    {
     "data": {
      "text/plain": [
       "(tensor([[0.],\n",
       "         [1.],\n",
       "         [2.],\n",
       "         [3.],\n",
       "         [4.],\n",
       "         [5.],\n",
       "         [6.],\n",
       "         [7.],\n",
       "         [8.],\n",
       "         [9.]]),\n",
       " tensor([[1.],\n",
       "         [1.],\n",
       "         [1.],\n",
       "         [1.],\n",
       "         [1.],\n",
       "         [0.],\n",
       "         [0.],\n",
       "         [0.],\n",
       "         [0.],\n",
       "         [0.]]))"
      ]
     },
     "execution_count": 57,
     "metadata": {},
     "output_type": "execute_result"
    }
   ],
   "source": [
    "ds.tensors \n",
    "# 생긴건 ds.tensors = (x,y) 임"
   ]
  },
  {
   "cell_type": "code",
   "execution_count": 106,
   "id": "2a583e29-8259-49cf-87f3-23f9af8ead89",
   "metadata": {},
   "outputs": [
    {
     "data": {
      "text/plain": [
       "((tensor([0.]), tensor([1.])),\n",
       " tensor([[0.],\n",
       "         [1.],\n",
       "         [2.],\n",
       "         [3.],\n",
       "         [4.],\n",
       "         [5.],\n",
       "         [6.],\n",
       "         [7.],\n",
       "         [8.],\n",
       "         [9.]]))"
      ]
     },
     "execution_count": 106,
     "metadata": {},
     "output_type": "execute_result"
    }
   ],
   "source": [
    "ds[0],(x,y)[0] # (x,y) 튜플자체는 아님.. 인덱싱이 다르게 동작"
   ]
  },
  {
   "cell_type": "markdown",
   "id": "54c595c0-76e5-4e63-a105-8fc514568e9c",
   "metadata": {},
   "source": [
    "🗣️("
   ]
  },
  {
   "cell_type": "code",
   "execution_count": 59,
   "id": "a39aba57-550e-4979-ad3f-b7e09b1076dc",
   "metadata": {},
   "outputs": [
    {
     "data": {
      "text/plain": [
       "tensor([[1.],\n",
       "        [1.],\n",
       "        [1.],\n",
       "        [1.],\n",
       "        [1.],\n",
       "        [0.],\n",
       "        [0.],\n",
       "        [0.],\n",
       "        [0.],\n",
       "        [0.]])"
      ]
     },
     "execution_count": 59,
     "metadata": {},
     "output_type": "execute_result"
    }
   ],
   "source": [
    "(x,y)[1] # y"
   ]
  },
  {
   "cell_type": "code",
   "execution_count": 60,
   "id": "cf2038e8-dae9-45bd-bf53-06678fad0348",
   "metadata": {},
   "outputs": [
    {
     "ename": "IndexError",
     "evalue": "tuple index out of range",
     "output_type": "error",
     "traceback": [
      "\u001b[0;31m---------------------------------------------------------------------------\u001b[0m",
      "\u001b[0;31mIndexError\u001b[0m                                Traceback (most recent call last)",
      "Cell \u001b[0;32mIn[60], line 1\u001b[0m\n\u001b[0;32m----> 1\u001b[0m \u001b[43m(\u001b[49m\u001b[43mx\u001b[49m\u001b[43m,\u001b[49m\u001b[43my\u001b[49m\u001b[43m)\u001b[49m\u001b[43m[\u001b[49m\u001b[38;5;241;43m2\u001b[39;49m\u001b[43m]\u001b[49m \u001b[38;5;66;03m# error\u001b[39;00m\n",
      "\u001b[0;31mIndexError\u001b[0m: tuple index out of range"
     ]
    }
   ],
   "source": [
    "(x,y)[2] # error"
   ]
  },
  {
   "cell_type": "code",
   "execution_count": 61,
   "id": "5aa9df0d-ba64-4318-95d4-0bab2f93cee7",
   "metadata": {},
   "outputs": [
    {
     "data": {
      "text/plain": [
       "(tensor([[0.],\n",
       "         [1.],\n",
       "         [2.]]),\n",
       " tensor([[1.],\n",
       "         [1.],\n",
       "         [1.]]))"
      ]
     },
     "execution_count": 61,
     "metadata": {},
     "output_type": "execute_result"
    }
   ],
   "source": [
    "ds[:3] # 인덱싱이 편함"
   ]
  },
  {
   "cell_type": "markdown",
   "id": "facdfb0a-c095-4f17-895f-2c23634c15b7",
   "metadata": {},
   "source": [
    ")🗣️"
   ]
  },
  {
   "cell_type": "markdown",
   "id": "317d0476-c603-413e-8178-56d7b6f659a1",
   "metadata": {},
   "source": [
    "`-` `dl` 오브젝트"
   ]
  },
  {
   "cell_type": "code",
   "execution_count": 62,
   "id": "4338f44c-b220-4c13-bae0-bd6282add7bd",
   "metadata": {},
   "outputs": [],
   "source": [
    "dl = torch.utils.data.DataLoader(ds, batch_size=3)"
   ]
  },
  {
   "cell_type": "markdown",
   "id": "9763020f-3c10-4ba7-9d63-b5994eb16e9d",
   "metadata": {},
   "source": [
    "🗣️("
   ]
  },
  {
   "cell_type": "markdown",
   "id": "10247219-2724-4f5f-9b11-5c351126178b",
   "metadata": {},
   "source": [
    "- batch_size: 원하는 값으로 입력"
   ]
  },
  {
   "cell_type": "code",
   "execution_count": 65,
   "id": "8aea3376-f507-45d1-a743-36d59b58b110",
   "metadata": {},
   "outputs": [],
   "source": [
    "dl = torch.utils.data.DataLoader(ds, batch_size=5)"
   ]
  },
  {
   "cell_type": "code",
   "execution_count": 66,
   "id": "00553e50-05ea-44f4-b992-06d135ce617e",
   "metadata": {},
   "outputs": [
    {
     "name": "stdout",
     "output_type": "stream",
     "text": [
      "[tensor([[0.],\n",
      "        [1.],\n",
      "        [2.],\n",
      "        [3.],\n",
      "        [4.]]), tensor([[1.],\n",
      "        [1.],\n",
      "        [1.],\n",
      "        [1.],\n",
      "        [1.]])]\n",
      "[tensor([[5.],\n",
      "        [6.],\n",
      "        [7.],\n",
      "        [8.],\n",
      "        [9.]]), tensor([[0.],\n",
      "        [0.],\n",
      "        [0.],\n",
      "        [0.],\n",
      "        [0.]])]\n"
     ]
    }
   ],
   "source": [
    "for _ in dl:\n",
    "    print(_)"
   ]
  },
  {
   "cell_type": "code",
   "execution_count": 68,
   "id": "acb648b6-cd4b-4e9a-89fc-cab6974abe9b",
   "metadata": {},
   "outputs": [
    {
     "name": "stdout",
     "output_type": "stream",
     "text": [
      "tensor([[0.],\n",
      "        [1.],\n",
      "        [2.],\n",
      "        [3.],\n",
      "        [4.]])\n",
      "tensor([[5.],\n",
      "        [6.],\n",
      "        [7.],\n",
      "        [8.],\n",
      "        [9.]])\n"
     ]
    }
   ],
   "source": [
    "for x,y in dl:\n",
    "    print(x)"
   ]
  },
  {
   "cell_type": "code",
   "execution_count": 69,
   "id": "29268a90-06ee-4ede-ab73-3e76cad9f8ad",
   "metadata": {},
   "outputs": [],
   "source": [
    "dl = torch.utils.data.DataLoader(ds, batch_size=3)"
   ]
  },
  {
   "cell_type": "code",
   "execution_count": 70,
   "id": "23bc97cf-7f99-4fc1-bdc0-313d017303c7",
   "metadata": {},
   "outputs": [
    {
     "name": "stdout",
     "output_type": "stream",
     "text": [
      "tensor([[0.],\n",
      "        [1.],\n",
      "        [2.]])\n",
      "tensor([[3.],\n",
      "        [4.],\n",
      "        [5.]])\n",
      "tensor([[6.],\n",
      "        [7.],\n",
      "        [8.]])\n",
      "tensor([[9.]])\n"
     ]
    }
   ],
   "source": [
    "for x,y in dl:\n",
    "    print(x)"
   ]
  },
  {
   "cell_type": "markdown",
   "id": "2f8515f2-cd1a-4f99-8aed-38f6cdc4a1c2",
   "metadata": {},
   "source": [
    ")🗣️"
   ]
  },
  {
   "cell_type": "code",
   "execution_count": 71,
   "id": "c447d368-fb53-41bb-a415-9753a1f05323",
   "metadata": {},
   "outputs": [
    {
     "name": "stdout",
     "output_type": "stream",
     "text": [
      "x_mini_batch:[[0.0], [1.0], [2.0]] \t y_mini_batch:[[1.0], [1.0], [1.0]]\n",
      "x_mini_batch:[[3.0], [4.0], [5.0]] \t y_mini_batch:[[1.0], [1.0], [0.0]]\n",
      "x_mini_batch:[[6.0], [7.0], [8.0]] \t y_mini_batch:[[0.0], [0.0], [0.0]]\n",
      "x_mini_batch:[[9.0]] \t y_mini_batch:[[0.0]]\n"
     ]
    }
   ],
   "source": [
    "for x_mbatch,y_mbatch in dl:\n",
    "    print(f\"x_mini_batch:{x_mbatch.tolist()} \\t y_mini_batch:{y_mbatch.tolist()}\")"
   ]
  },
  {
   "cell_type": "markdown",
   "id": "142ada74-1fc8-490b-87c6-a1c8e97cff75",
   "metadata": {},
   "source": [
    "`-` 마지막관측치는 뭔데 단독으로 업데이트하냐?? --> shuffle True 같이 자잘한 옵션도 있음.. "
   ]
  },
  {
   "cell_type": "code",
   "execution_count": 73,
   "id": "f1b9af3d-954d-488a-bd40-810be265c60c",
   "metadata": {},
   "outputs": [
    {
     "name": "stdout",
     "output_type": "stream",
     "text": [
      "x_mini_batch:[[1.0], [5.0], [6.0]] \t y_mini_batch:[[1.0], [0.0], [0.0]]\n",
      "x_mini_batch:[[7.0], [0.0], [9.0]] \t y_mini_batch:[[0.0], [1.0], [0.0]]\n",
      "x_mini_batch:[[2.0], [8.0], [3.0]] \t y_mini_batch:[[1.0], [0.0], [1.0]]\n",
      "x_mini_batch:[[4.0]] \t y_mini_batch:[[1.0]]\n"
     ]
    }
   ],
   "source": [
    "dl = torch.utils.data.DataLoader(ds,batch_size=3,shuffle=True)\n",
    "for x_mbatch,y_mbatch in dl:\n",
    "    print(f\"x_mini_batch:{x_mbatch.tolist()} \\t y_mini_batch:{y_mbatch.tolist()}\")"
   ]
  },
  {
   "cell_type": "markdown",
   "id": "43c273e0-50f7-43e6-b036-b65e68d21ab0",
   "metadata": {},
   "source": [
    "🗣️ 돌릴 때마다 달라짐"
   ]
  },
  {
   "cell_type": "markdown",
   "id": "e2469cf6-59fa-4228-89c6-6350566ae699",
   "metadata": {},
   "source": [
    "## F. 성능체크"
   ]
  },
  {
   "cell_type": "markdown",
   "id": "539d91c5-9fb5-4227-91f9-0af3e63e454d",
   "metadata": {},
   "source": [
    "`-` 목표: 확률적경사하강법과 그냥 경사하강법의 성능을 \"동일 반복횟수\"로 비교해보자."
   ]
  },
  {
   "cell_type": "markdown",
   "id": "03296036-a9df-433c-b58f-5f4c1dc0c552",
   "metadata": {},
   "source": [
    "🗣️("
   ]
  },
  {
   "cell_type": "markdown",
   "id": "11fcb92b-d654-417c-90ab-b90e5d9f5df5",
   "metadata": {},
   "source": [
    "```\n",
    "10 4 -> 10, 10, 10, 10\n",
    "10 4 -> 3, 3, 3, 1\n",
    "```"
   ]
  },
  {
   "cell_type": "markdown",
   "id": "7d21dadc-97c4-4944-9a8c-a05b1727f010",
   "metadata": {},
   "source": [
    "- 위가 좋을 것 같지만 별 차이 없음\n",
    "- batch size를 잘 정하면 밑이 오히려 좋을 수도 있음"
   ]
  },
  {
   "cell_type": "markdown",
   "id": "d9fe2334-4322-442b-ae44-ef7c48bbe2d9",
   "metadata": {},
   "source": [
    ")🗣️"
   ]
  },
  {
   "cell_type": "markdown",
   "id": "9803a867-9e3b-42d0-bddd-7bd6e1b2be9f",
   "metadata": {},
   "source": [
    "`-` MNIST자료를 그냥 경사하강법으로 적합해보자. "
   ]
  },
  {
   "cell_type": "code",
   "execution_count": 77,
   "id": "39916bdf-a516-438a-a6b2-43ea5449fe1e",
   "metadata": {},
   "outputs": [],
   "source": [
    "import torchvision"
   ]
  },
  {
   "cell_type": "code",
   "execution_count": 78,
   "id": "46966e72-bce9-4c32-a598-98d5b9e51b51",
   "metadata": {},
   "outputs": [],
   "source": [
    "train_dataset = torchvision.datasets.MNIST(root='./data', train=True, download=True)\n",
    "to_tensor = torchvision.transforms.ToTensor()\n",
    "X0 = torch.stack([to_tensor(Xi) for Xi, yi in train_dataset if yi==0])\n",
    "X1 = torch.stack([to_tensor(Xi) for Xi, yi in train_dataset if yi==1])\n",
    "X = torch.concat([X0,X1],axis=0).reshape(-1,784)\n",
    "y = torch.tensor([0.0]*len(X0) + [1.0]*len(X1)).reshape(-1,1)"
   ]
  },
  {
   "cell_type": "code",
   "execution_count": 80,
   "id": "199444bd-5bb7-410d-a86e-411d9143ad32",
   "metadata": {},
   "outputs": [
    {
     "data": {
      "text/plain": [
       "(torch.Size([12665, 784]), torch.Size([12665, 1]))"
      ]
     },
     "execution_count": 80,
     "metadata": {},
     "output_type": "execute_result"
    }
   ],
   "source": [
    "X.shape, y.shape"
   ]
  },
  {
   "cell_type": "code",
   "execution_count": 81,
   "id": "2541944d-f78d-4d72-a28c-076085c1670b",
   "metadata": {},
   "outputs": [],
   "source": [
    "torch.manual_seed(1)\n",
    "net = torch.nn.Sequential(\n",
    "    torch.nn.Linear(784,32),\n",
    "    torch.nn.ReLU(),\n",
    "    torch.nn.Linear(32,1),\n",
    "    torch.nn.Sigmoid()\n",
    ")\n",
    "loss_fn = torch.nn.BCELoss()\n",
    "optimizr = torch.optim.SGD(net.parameters())"
   ]
  },
  {
   "cell_type": "code",
   "execution_count": 82,
   "id": "7d70c913-a66a-40fe-bf9b-ff4353e0a423",
   "metadata": {},
   "outputs": [],
   "source": [
    "for epoc in range(700):\n",
    "    # step1 \n",
    "    yhat = net(X)\n",
    "    # step2 \n",
    "    loss = loss_fn(yhat,y)\n",
    "    # step3     \n",
    "    loss.backward()\n",
    "    # step4 \n",
    "    optimizr.step()\n",
    "    optimizr.zero_grad()    "
   ]
  },
  {
   "cell_type": "code",
   "execution_count": 83,
   "id": "a9a79d98-c27d-48b1-9192-ddc74361222e",
   "metadata": {},
   "outputs": [
    {
     "data": {
      "text/plain": [
       "tensor(0.9953)"
      ]
     },
     "execution_count": 83,
     "metadata": {},
     "output_type": "execute_result"
    }
   ],
   "source": [
    "((yhat > 0.5) ==  y).float().mean()"
   ]
  },
  {
   "cell_type": "markdown",
   "id": "355006eb-e5a9-4a8d-8b83-87895722b8ba",
   "metadata": {},
   "source": [
    "`-` MNIST자료를 확률적 경사하강법으로 적합해보자. -- 미니배치 쓰는 학습 "
   ]
  },
  {
   "cell_type": "code",
   "execution_count": 84,
   "id": "033a1e7d-a2ce-4fdc-a63e-e427bf8b7258",
   "metadata": {},
   "outputs": [],
   "source": [
    "# train_dataset = torchvision.datasets.MNIST(root='./data', train=True, download=True)\n",
    "# to_tensor = torchvision.transforms.ToTensor()\n",
    "# X0 = torch.stack([to_tensor(Xi) for Xi, yi in train_dataset if yi==0])\n",
    "# X1 = torch.stack([to_tensor(Xi) for Xi, yi in train_dataset if yi==1])\n",
    "# X = torch.concat([X0,X1],axis=0).reshape(-1,784)\n",
    "# y = torch.tensor([0.0]*len(X0) + [1.0]*len(X1)).reshape(-1,1)\n",
    "ds = torch.utils.data.TensorDataset(X,y)\n",
    "dl = torch.utils.data.DataLoader(ds,batch_size=2048)"
   ]
  },
  {
   "cell_type": "code",
   "execution_count": 85,
   "id": "1cdb0d1b-1738-409b-b0b3-4e02bc7e92ba",
   "metadata": {},
   "outputs": [
    {
     "data": {
      "text/plain": [
       "6.18408203125"
      ]
     },
     "execution_count": 85,
     "metadata": {},
     "output_type": "execute_result"
    }
   ],
   "source": [
    "len(X)/2048"
   ]
  },
  {
   "cell_type": "markdown",
   "id": "02c5c9e7-cd8d-4cd7-9d09-b5f7b46957ca",
   "metadata": {},
   "source": [
    "🗣️ 마지막 덩어리는 작음"
   ]
  },
  {
   "cell_type": "markdown",
   "id": "3e1d7b00-d75b-433f-ae1b-d3b6e13fce0a",
   "metadata": {},
   "source": [
    "- 따라서 (mini) batchsize 가 2048 이라면 한 epoch당 7회 update"
   ]
  },
  {
   "cell_type": "code",
   "execution_count": 86,
   "id": "3f2062f6-1f39-4395-82c1-a7f9c6a2dd7e",
   "metadata": {},
   "outputs": [],
   "source": [
    "torch.manual_seed(1)\n",
    "net = torch.nn.Sequential(\n",
    "    torch.nn.Linear(784,32),\n",
    "    torch.nn.ReLU(),\n",
    "    torch.nn.Linear(32,1),\n",
    "    torch.nn.Sigmoid()\n",
    ")\n",
    "loss_fn = torch.nn.BCELoss()\n",
    "optimizr = torch.optim.SGD(net.parameters())"
   ]
  },
  {
   "cell_type": "code",
   "execution_count": 87,
   "id": "9a336846-2443-4277-9edf-19060617fb33",
   "metadata": {},
   "outputs": [],
   "source": [
    "for epoc in range(100): \n",
    "    for xm,ym in dl:        \n",
    "        # step1 \n",
    "        ym_hat = net(xm)\n",
    "        # step2 \n",
    "        loss = loss_fn(ym_hat,ym)\n",
    "        # step3     \n",
    "        loss.backward()\n",
    "        # step4 \n",
    "        optimizr.step()\n",
    "        optimizr.zero_grad()"
   ]
  },
  {
   "cell_type": "markdown",
   "id": "fed4f412-d112-498d-8dc9-cd9843161865",
   "metadata": {},
   "source": [
    "- 🗣️\n",
    "    - 총 update 반복 수는 동일 (7번 * 100번)\n",
    "    - xm = (2048,784), ym = (2048,1)"
   ]
  },
  {
   "cell_type": "code",
   "execution_count": 88,
   "id": "6d53c7e2-96ca-4e66-9fcd-abb9d5e06a37",
   "metadata": {},
   "outputs": [
    {
     "data": {
      "text/plain": [
       "tensor(0.9931)"
      ]
     },
     "execution_count": 88,
     "metadata": {},
     "output_type": "execute_result"
    }
   ],
   "source": [
    "((net(X) > 0.5) ==  y).float().mean()"
   ]
  }
 ],
 "metadata": {
  "kernelspec": {
   "display_name": "Python 3 (ipykernel)",
   "language": "python",
   "name": "python3"
  },
  "language_info": {
   "codemirror_mode": {
    "name": "ipython",
    "version": 3
   },
   "file_extension": ".py",
   "mimetype": "text/x-python",
   "name": "python",
   "nbconvert_exporter": "python",
   "pygments_lexer": "ipython3",
   "version": "3.9.18"
  }
 },
 "nbformat": 4,
 "nbformat_minor": 5
}
