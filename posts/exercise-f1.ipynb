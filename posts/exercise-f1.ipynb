{
 "cells": [
  {
   "cell_type": "raw",
   "id": "d40fe711-c4af-49a0-80fa-6fa57369c659",
   "metadata": {
    "id": "87b5cded-346b-4915-acf5-b5ec93a5207d",
    "vscode": {
     "languageId": "raw"
    }
   },
   "source": [
    "---\n",
    "title: \"A1: Exercise -- ver. 0505-1 #1\"\n",
    "author: \"sw1kwon\"\n",
    "date: \"01/01/2025\"\n",
    "draft: false\n",
    "freeze: false\n",
    "---"
   ]
  },
  {
   "cell_type": "markdown",
   "id": "0610ebd7-da9a-4487-920d-a4dfba3177b6",
   "metadata": {},
   "source": [
    "> 문제풀이에 필요한 모듈은 스스로 `import` 할 것"
   ]
  },
  {
   "cell_type": "code",
   "execution_count": 1,
   "id": "3be9023a-a17a-4a4b-930e-1a0e12c40bbd",
   "metadata": {},
   "outputs": [],
   "source": [
    "import torch"
   ]
  },
  {
   "cell_type": "markdown",
   "id": "5d80f8a2-cf8b-4a69-bb22-fcde771b79bb",
   "metadata": {},
   "source": [
    "# `#` --기본문법 "
   ]
  },
  {
   "cell_type": "markdown",
   "id": "bb5444f9-760c-4346-aca3-f7997c86d9f5",
   "metadata": {},
   "source": [
    "## `$`. 벡터와 행렬 "
   ]
  },
  {
   "cell_type": "markdown",
   "id": "538e79d2-8e32-4adb-93f8-2004648ae40e",
   "metadata": {},
   "source": [
    "`(1)` 아래와 같이 length 5 인 vector를 `torch.tensor`로 선언하는 코드를 작성하라. \n",
    "\n",
    "$${\\bf x} = [1,2,3,4,5]$$ "
   ]
  },
  {
   "cell_type": "markdown",
   "id": "238f4fe2-0f90-49ea-b7ac-e29071cfca7e",
   "metadata": {},
   "source": [
    "`(풀이)`"
   ]
  },
  {
   "cell_type": "code",
   "execution_count": 2,
   "id": "8ba6c91a-505e-4ba4-a97b-42a6893aa1ef",
   "metadata": {},
   "outputs": [
    {
     "data": {
      "text/plain": [
       "tensor([1, 2, 3, 4, 5])"
      ]
     },
     "execution_count": 2,
     "metadata": {},
     "output_type": "execute_result"
    }
   ],
   "source": [
    "x = torch.tensor([1,2,3,4,5])\n",
    "x"
   ]
  },
  {
   "cell_type": "markdown",
   "id": "acaefeff-c5aa-4c35-b293-8fb3d555a9d4",
   "metadata": {},
   "source": [
    "`(2)` 아래와 같은 2x2 matrix 를 `torch.tensor`로 선언하는 코드를 작성하라. "
   ]
  },
  {
   "cell_type": "markdown",
   "id": "03c78cf3-c9d2-4819-98e3-9247b5d8a18e",
   "metadata": {},
   "source": [
    "$${\\bf A} = \\begin{bmatrix} 1 & 2 \\\\ 3 & 4 \\end{bmatrix}$$ "
   ]
  },
  {
   "cell_type": "markdown",
   "id": "3b0b2e63-c823-4901-a94a-2c8c824d9f8f",
   "metadata": {},
   "source": [
    "`(풀이?)`"
   ]
  },
  {
   "cell_type": "code",
   "execution_count": 3,
   "id": "e723edd6-a928-444f-b831-db8f5eb026c1",
   "metadata": {},
   "outputs": [
    {
     "data": {
      "text/plain": [
       "tensor([[1, 2],\n",
       "        [3, 4]])"
      ]
     },
     "execution_count": 3,
     "metadata": {},
     "output_type": "execute_result"
    }
   ],
   "source": [
    "A = torch.tensor([[1,2],[3,4]])\n",
    "A"
   ]
  },
  {
   "cell_type": "markdown",
   "id": "ae304ebb-8670-4485-b747-838ffca7f735",
   "metadata": {},
   "source": [
    "`(3)` 아래와 같은 matrix 를 `torch.tensor`로 선언하는 코드를 작성하라. "
   ]
  },
  {
   "cell_type": "markdown",
   "id": "0707dbc1-ff47-4bf3-bdb8-07f6bb4cd4cb",
   "metadata": {},
   "source": [
    "$${\\bf W} = \\begin{bmatrix} 2.5  \\\\  4 \\end{bmatrix}$$ "
   ]
  },
  {
   "cell_type": "markdown",
   "id": "57a98d3f-d1f3-4642-9b8d-5d158cc69fba",
   "metadata": {},
   "source": [
    "`(풀이?)`"
   ]
  },
  {
   "cell_type": "code",
   "execution_count": 4,
   "id": "ff24e662-6502-4579-9c46-5d9061bbfb9a",
   "metadata": {},
   "outputs": [
    {
     "data": {
      "text/plain": [
       "tensor([[2.5000],\n",
       "        [4.0000]])"
      ]
     },
     "execution_count": 4,
     "metadata": {},
     "output_type": "execute_result"
    }
   ],
   "source": [
    "W = torch.tensor([[2.5],[4]])\n",
    "W"
   ]
  },
  {
   "cell_type": "markdown",
   "id": "0197f6a5-a414-46ec-9e40-496e2a95b787",
   "metadata": {},
   "source": [
    "`(4)` 아래와 같은 matrix 를 `torch.tensor`로 선언하는 코드를 작성하라. "
   ]
  },
  {
   "cell_type": "markdown",
   "id": "65b3cbdc-e7b8-457d-b0e7-f8a393afc466",
   "metadata": {},
   "source": [
    "$${\\bf x} = \\begin{bmatrix} 2.5  & 4 \\end{bmatrix}$$ "
   ]
  },
  {
   "cell_type": "markdown",
   "id": "13c5e3e9-bd33-4663-8868-e51defff5814",
   "metadata": {},
   "source": [
    "`(풀이?)`"
   ]
  },
  {
   "cell_type": "code",
   "execution_count": 5,
   "id": "6acbe02f-277f-42aa-a8ef-03f6c52d4e19",
   "metadata": {},
   "outputs": [
    {
     "data": {
      "text/plain": [
       "tensor([[2.5000, 4.0000]])"
      ]
     },
     "execution_count": 5,
     "metadata": {},
     "output_type": "execute_result"
    }
   ],
   "source": [
    "x = torch.tensor([[2.5, 4]])\n",
    "x"
   ]
  },
  {
   "cell_type": "markdown",
   "id": "cc772edc-200b-4da9-a431-fd87959794c0",
   "metadata": {
    "id": "e42ef0d0-d6b6-4c01-9780-fd24e04af0cf"
   },
   "source": [
    "## `$`. concat, stack\n",
    "\n",
    "a,b가 아래와 같이 주어졌다고 하자.\n"
   ]
  },
  {
   "cell_type": "code",
   "execution_count": 6,
   "id": "a8da07e4-f27b-4905-b8a7-01356ea9a86d",
   "metadata": {},
   "outputs": [],
   "source": [
    "a = torch.tensor([1]*10)\n",
    "b = torch.tensor([2]*10)"
   ]
  },
  {
   "cell_type": "markdown",
   "id": "37146682-6ac5-47b0-b07f-4661cfb53ff2",
   "metadata": {},
   "source": [
    "`(관찰?)`"
   ]
  },
  {
   "cell_type": "code",
   "execution_count": 7,
   "id": "7da58b23-8b59-4eca-884e-563b3ddda1b7",
   "metadata": {},
   "outputs": [
    {
     "data": {
      "text/plain": [
       "tensor([1, 1, 1, 1, 1, 1, 1, 1, 1, 1])"
      ]
     },
     "execution_count": 7,
     "metadata": {},
     "output_type": "execute_result"
    }
   ],
   "source": [
    "a"
   ]
  },
  {
   "cell_type": "code",
   "execution_count": 8,
   "id": "0d31fc9d-a82b-493f-9b7e-1d1779605ec3",
   "metadata": {},
   "outputs": [
    {
     "data": {
      "text/plain": [
       "torch.Size([10])"
      ]
     },
     "execution_count": 8,
     "metadata": {},
     "output_type": "execute_result"
    }
   ],
   "source": [
    "a.shape"
   ]
  },
  {
   "cell_type": "code",
   "execution_count": 9,
   "id": "4ecc9335-5109-41a5-8179-65d65fe5fbe0",
   "metadata": {},
   "outputs": [
    {
     "data": {
      "text/plain": [
       "tensor([2, 2, 2, 2, 2, 2, 2, 2, 2, 2])"
      ]
     },
     "execution_count": 9,
     "metadata": {},
     "output_type": "execute_result"
    }
   ],
   "source": [
    "b"
   ]
  },
  {
   "cell_type": "markdown",
   "id": "83f25a7f-ecd4-4ea8-a6a6-a8a2443705c9",
   "metadata": {},
   "source": [
    "`(실험?)`"
   ]
  },
  {
   "cell_type": "code",
   "execution_count": 10,
   "id": "8b20d52b-70bf-43ac-ae8e-0c3970836c96",
   "metadata": {},
   "outputs": [
    {
     "data": {
      "text/plain": [
       "tensor([[1, 1, 1, 1, 1, 1, 1, 1, 1, 1]])"
      ]
     },
     "execution_count": 10,
     "metadata": {},
     "output_type": "execute_result"
    }
   ],
   "source": [
    "torch.tensor([[1]*10])"
   ]
  },
  {
   "cell_type": "code",
   "execution_count": 11,
   "id": "c32f92d5-e790-4299-8f52-db92085d2e3d",
   "metadata": {},
   "outputs": [
    {
     "data": {
      "text/plain": [
       "torch.Size([1, 10])"
      ]
     },
     "execution_count": 11,
     "metadata": {},
     "output_type": "execute_result"
    }
   ],
   "source": [
    "torch.tensor([[1]*10]).shape"
   ]
  },
  {
   "cell_type": "markdown",
   "id": "27607fde-98c4-4ffe-8d44-e4a3ff102aad",
   "metadata": {},
   "source": [
    "아래를 잘 읽고 물음에 답하라. "
   ]
  },
  {
   "cell_type": "markdown",
   "id": "0886874d-bb7c-4f15-adab-ef23aa7e3780",
   "metadata": {
    "id": "1ac08b97-80ec-426b-bb6f-0d133ce613c6"
   },
   "source": [
    "`(1)` 주어진 a,b와 `torch.concat`를 이용하여 아래와 같은 배열을 만들어라.\n",
    "\n",
    "```\n",
    "tensor([1, 1, 1, 1, 1, 1, 1, 1, 1, 1, 2, 2, 2, 2, 2, 2, 2, 2, 2, 2])\n",
    "```"
   ]
  },
  {
   "cell_type": "code",
   "execution_count": 12,
   "id": "0504134c-c396-4258-80ab-84eead0b5fa3",
   "metadata": {},
   "outputs": [
    {
     "data": {
      "text/plain": [
       "tensor([[1],\n",
       "        [1],\n",
       "        [1],\n",
       "        [1],\n",
       "        [1],\n",
       "        [1],\n",
       "        [1],\n",
       "        [1],\n",
       "        [1],\n",
       "        [1],\n",
       "        [2],\n",
       "        [2],\n",
       "        [2],\n",
       "        [2],\n",
       "        [2],\n",
       "        [2],\n",
       "        [2],\n",
       "        [2],\n",
       "        [2],\n",
       "        [2]])"
      ]
     },
     "execution_count": 12,
     "metadata": {},
     "output_type": "execute_result"
    }
   ],
   "source": [
    "torch.concat([a.reshape(-1,1), b.reshape(-1,1)])"
   ]
  },
  {
   "cell_type": "markdown",
   "id": "283c7a23-f1d8-4b94-bf66-1c1a6487c4cc",
   "metadata": {},
   "source": [
    "`(풀이?)`"
   ]
  },
  {
   "cell_type": "code",
   "execution_count": 13,
   "id": "42e149c2-c2b4-49e0-b536-06dff06b0633",
   "metadata": {},
   "outputs": [
    {
     "data": {
      "text/plain": [
       "tensor([1, 1, 1, 1, 1, 1, 1, 1, 1, 1, 2, 2, 2, 2, 2, 2, 2, 2, 2, 2])"
      ]
     },
     "execution_count": 13,
     "metadata": {},
     "output_type": "execute_result"
    }
   ],
   "source": [
    "torch.concat([a,b])"
   ]
  },
  {
   "cell_type": "markdown",
   "id": "954ae868-09bd-4a7f-9307-6dc76acc44b5",
   "metadata": {
    "id": "b17c2c49-d316-4e33-bc9a-43b67aa39eca"
   },
   "source": [
    "`(2)` 주어진 a,b 와 `torch.concat`,`.reshape`를 이용하여 아래와 같은 배열을 만들어라.\n",
    "```\n",
    "tensor([[1],\n",
    "        [1],\n",
    "        [1],\n",
    "        [1],\n",
    "        [1],\n",
    "        [1],\n",
    "        [1],\n",
    "        [1],\n",
    "        [1],\n",
    "        [1],\n",
    "        [2],\n",
    "        [2],\n",
    "        [2],\n",
    "        [2],\n",
    "        [2],\n",
    "        [2],\n",
    "        [2],\n",
    "        [2],\n",
    "        [2],\n",
    "        [2]])\n",
    "```"
   ]
  },
  {
   "cell_type": "markdown",
   "id": "1d513ccc-8361-419d-b9cd-32a9be45354b",
   "metadata": {},
   "source": [
    "`(풀이)`"
   ]
  },
  {
   "cell_type": "code",
   "execution_count": 14,
   "id": "67c30480-96e2-402a-a2fe-2df9fd1774f3",
   "metadata": {},
   "outputs": [
    {
     "data": {
      "text/plain": [
       "tensor([[1],\n",
       "        [1],\n",
       "        [1],\n",
       "        [1],\n",
       "        [1],\n",
       "        [1],\n",
       "        [1],\n",
       "        [1],\n",
       "        [1],\n",
       "        [1],\n",
       "        [2],\n",
       "        [2],\n",
       "        [2],\n",
       "        [2],\n",
       "        [2],\n",
       "        [2],\n",
       "        [2],\n",
       "        [2],\n",
       "        [2],\n",
       "        [2]])"
      ]
     },
     "execution_count": 14,
     "metadata": {},
     "output_type": "execute_result"
    }
   ],
   "source": [
    "torch.concat([a.reshape(-1,1), b.reshape(-1,1)])"
   ]
  },
  {
   "cell_type": "markdown",
   "id": "62ae255b-f423-4e9e-b91e-b4a6ee6078f9",
   "metadata": {},
   "source": [
    "`(관찰?)`"
   ]
  },
  {
   "cell_type": "code",
   "execution_count": 15,
   "id": "cd01e2c0-5804-4a60-b152-aa28568eed2b",
   "metadata": {},
   "outputs": [
    {
     "data": {
      "text/plain": [
       "tensor([[1],\n",
       "        [1],\n",
       "        [1],\n",
       "        [1],\n",
       "        [1],\n",
       "        [1],\n",
       "        [1],\n",
       "        [1],\n",
       "        [1],\n",
       "        [1]])"
      ]
     },
     "execution_count": 15,
     "metadata": {},
     "output_type": "execute_result"
    }
   ],
   "source": [
    "a.reshape(-1,1)"
   ]
  },
  {
   "cell_type": "code",
   "execution_count": 16,
   "id": "99154593-dd4d-4153-847b-7ac23cbe5f0d",
   "metadata": {},
   "outputs": [
    {
     "data": {
      "text/plain": [
       "tensor([1, 1, 1, 1, 1, 1, 1, 1, 1, 1])"
      ]
     },
     "execution_count": 16,
     "metadata": {},
     "output_type": "execute_result"
    }
   ],
   "source": [
    "a"
   ]
  },
  {
   "cell_type": "markdown",
   "id": "21d06e81-d8a6-404c-ae55-6c4f557f40ad",
   "metadata": {
    "id": "b17c2c49-d316-4e33-bc9a-43b67aa39eca"
   },
   "source": [
    "`(3)` 주어진 a,b 와 `torch.concat`,`.reshape`를 이용하여 아래와 같은 배열을 만들어라.\n",
    "```\n",
    "tensor([[1, 2],\n",
    "        [1, 2],\n",
    "        [1, 2],\n",
    "        [1, 2],\n",
    "        [1, 2],\n",
    "        [1, 2],\n",
    "        [1, 2],\n",
    "        [1, 2],\n",
    "        [1, 2],\n",
    "        [1, 2]])\n",
    "```"
   ]
  },
  {
   "cell_type": "markdown",
   "id": "482eb712-a99b-4c4f-bb1c-c25b4c27377a",
   "metadata": {},
   "source": [
    "`(풀이?)`"
   ]
  },
  {
   "cell_type": "code",
   "execution_count": 17,
   "id": "1852d912-0127-4355-b584-b90b482fbc3b",
   "metadata": {},
   "outputs": [
    {
     "data": {
      "text/plain": [
       "tensor([1, 1, 1, 1, 1, 1, 1, 1, 1, 1, 2, 2, 2, 2, 2, 2, 2, 2, 2, 2])"
      ]
     },
     "execution_count": 17,
     "metadata": {},
     "output_type": "execute_result"
    }
   ],
   "source": [
    "torch.concat([a,b])"
   ]
  },
  {
   "cell_type": "code",
   "execution_count": 18,
   "id": "424e3433-a903-4b8b-8f77-275305afa9a3",
   "metadata": {},
   "outputs": [
    {
     "data": {
      "text/plain": [
       "tensor([[1, 1],\n",
       "        [1, 1],\n",
       "        [1, 1],\n",
       "        [1, 1],\n",
       "        [1, 1],\n",
       "        [2, 2],\n",
       "        [2, 2],\n",
       "        [2, 2],\n",
       "        [2, 2],\n",
       "        [2, 2]])"
      ]
     },
     "execution_count": 18,
     "metadata": {},
     "output_type": "execute_result"
    }
   ],
   "source": [
    "torch.concat([a,b]).reshape(-1,2)"
   ]
  },
  {
   "cell_type": "code",
   "execution_count": 19,
   "id": "19878461-38c0-4637-9c50-890a94d7880a",
   "metadata": {},
   "outputs": [
    {
     "data": {
      "text/plain": [
       "tensor([[1, 2],\n",
       "        [1, 2],\n",
       "        [1, 2],\n",
       "        [1, 2],\n",
       "        [1, 2],\n",
       "        [1, 2],\n",
       "        [1, 2],\n",
       "        [1, 2],\n",
       "        [1, 2],\n",
       "        [1, 2]])"
      ]
     },
     "execution_count": 19,
     "metadata": {},
     "output_type": "execute_result"
    }
   ],
   "source": [
    "torch.concat([a.reshape(-1,1),b.reshape(-1,1)], axis=1)"
   ]
  },
  {
   "cell_type": "markdown",
   "id": "54f219b2-e04f-4e83-8d1a-ae828dd7d97a",
   "metadata": {
    "id": "809dce9d-8966-4770-a939-1544ce0da6b5"
   },
   "source": [
    "`(4)` 주어진 a,b와 `torch.stack` 을 이용하여 아래와 같은 배열을 만들어라.\n",
    "\n",
    "```\n",
    "tensor([[1, 1, 1, 1, 1, 1, 1, 1, 1, 1],\n",
    "        [2, 2, 2, 2, 2, 2, 2, 2, 2, 2]]\n",
    "```"
   ]
  },
  {
   "cell_type": "markdown",
   "id": "492fc4a4-cc2e-4dc3-9b6f-c7c5ef7fcef6",
   "metadata": {},
   "source": [
    "`(풀이?)`"
   ]
  },
  {
   "cell_type": "code",
   "execution_count": 20,
   "id": "4222c029-af4f-43d3-88e4-19ec6e397da4",
   "metadata": {},
   "outputs": [
    {
     "data": {
      "text/plain": [
       "tensor([[1, 1, 1, 1, 1, 1, 1, 1, 1, 1],\n",
       "        [2, 2, 2, 2, 2, 2, 2, 2, 2, 2]])"
      ]
     },
     "execution_count": 20,
     "metadata": {},
     "output_type": "execute_result"
    }
   ],
   "source": [
    "torch.stack([a,b])"
   ]
  },
  {
   "cell_type": "markdown",
   "id": "4bc5c37d-4293-4e6b-aec5-6f9e52c07e2c",
   "metadata": {},
   "source": [
    "`(관찰?)`"
   ]
  },
  {
   "cell_type": "code",
   "execution_count": 21,
   "id": "b5868acd-feb5-4189-9c2a-6e3cc8454b5a",
   "metadata": {},
   "outputs": [
    {
     "data": {
      "text/plain": [
       "tensor([[1, 2],\n",
       "        [1, 2],\n",
       "        [1, 2],\n",
       "        [1, 2],\n",
       "        [1, 2],\n",
       "        [1, 2],\n",
       "        [1, 2],\n",
       "        [1, 2],\n",
       "        [1, 2],\n",
       "        [1, 2]])"
      ]
     },
     "execution_count": 21,
     "metadata": {},
     "output_type": "execute_result"
    }
   ],
   "source": [
    "torch.stack([a,b], axis=1)"
   ]
  },
  {
   "cell_type": "markdown",
   "id": "c69d10a1-0148-42dd-8b9a-e597e35696e6",
   "metadata": {
    "id": "539d5053-c1e9-4c11-93c0-96c1ddb962c1"
   },
   "source": [
    "`(5)` 주어진 a,b와 `torch.stack`을 이용하여 아래와 같은 배열을 만들어라.\n",
    "```\n",
    "tensor([[1, 2],\n",
    "        [1, 2],\n",
    "        [1, 2],\n",
    "        [1, 2],\n",
    "        [1, 2],\n",
    "        [1, 2],\n",
    "        [1, 2],\n",
    "        [1, 2],\n",
    "        [1, 2],\n",
    "        [1, 2]])\n",
    "```"
   ]
  },
  {
   "cell_type": "markdown",
   "id": "e6ff4956-9dc6-426f-8f2c-d40c955c9f71",
   "metadata": {},
   "source": [
    "`(풀이?)`"
   ]
  },
  {
   "cell_type": "code",
   "execution_count": 22,
   "id": "c6e35a43-803d-4c71-a1b9-770e8329a43c",
   "metadata": {},
   "outputs": [
    {
     "data": {
      "text/plain": [
       "tensor([[1, 2],\n",
       "        [1, 2],\n",
       "        [1, 2],\n",
       "        [1, 2],\n",
       "        [1, 2],\n",
       "        [1, 2],\n",
       "        [1, 2],\n",
       "        [1, 2],\n",
       "        [1, 2],\n",
       "        [1, 2]])"
      ]
     },
     "execution_count": 22,
     "metadata": {},
     "output_type": "execute_result"
    }
   ],
   "source": [
    "torch.stack([a,b], axis=1)"
   ]
  },
  {
   "cell_type": "markdown",
   "id": "4553a8ff-e297-48e0-97b0-03dde7059bc7",
   "metadata": {},
   "source": [
    "## `$`. 행렬곱 "
   ]
  },
  {
   "cell_type": "markdown",
   "id": "084e8afc-38ea-4148-9999-d593b8e08795",
   "metadata": {
    "id": "6a64a8df-c944-47e6-a499-421c8b61b704"
   },
   "source": [
    "`(1)` 아래와 같은 텐서를 고려하자. "
   ]
  },
  {
   "cell_type": "code",
   "execution_count": 23,
   "id": "c24782f8-8150-4684-a25c-b362108c4fc8",
   "metadata": {},
   "outputs": [],
   "source": [
    "a = torch.tensor([1,2,3,4,5]).reshape(-1,1)\n",
    "b = torch.tensor([3,2,1,1,2]).reshape(-1,1)"
   ]
  },
  {
   "cell_type": "markdown",
   "id": "154856c9-c580-49f0-aa04-3d8ba0fe511f",
   "metadata": {
    "id": "6a64a8df-c944-47e6-a499-421c8b61b704"
   },
   "source": [
    "`@` 연산자를 이용하여 $\\sum_{i=1}^{5}a_ib_i$를 계산하라."
   ]
  },
  {
   "cell_type": "markdown",
   "id": "737ffe2d-7c6f-45dc-8bd0-ddaa44948977",
   "metadata": {},
   "source": [
    "`(풀이)`"
   ]
  },
  {
   "cell_type": "code",
   "execution_count": 24,
   "id": "6c5458ca-3f4a-4ff7-b33d-2a04d834efa3",
   "metadata": {},
   "outputs": [
    {
     "data": {
      "text/plain": [
       "tensor([[24]])"
      ]
     },
     "execution_count": 24,
     "metadata": {},
     "output_type": "execute_result"
    }
   ],
   "source": [
    "a.T @ b"
   ]
  },
  {
   "cell_type": "markdown",
   "id": "f6a8a944-c70a-482d-b527-196d3391b856",
   "metadata": {
    "id": "5fae05d0-2323-494b-aeaf-b0d30c6bd4ea"
   },
   "source": [
    "`(2)` 아래와 같은 텐서를 고려하자. "
   ]
  },
  {
   "cell_type": "code",
   "execution_count": 25,
   "id": "b1acadbf-49e3-4ae9-ab76-0d61136154af",
   "metadata": {},
   "outputs": [],
   "source": [
    "torch.manual_seed(0)\n",
    "x = torch.randn(100).reshape(-1,1)"
   ]
  },
  {
   "cell_type": "markdown",
   "id": "0dd78c76-a768-43f3-bb45-43ab0f00e8d9",
   "metadata": {
    "id": "5fae05d0-2323-494b-aeaf-b0d30c6bd4ea"
   },
   "source": [
    "`@`연산자를 이용하여 $\\sum_{i=1}^{100}x_i^2$을 계산하라."
   ]
  },
  {
   "cell_type": "markdown",
   "id": "fcca25c8-dd8d-44c8-886b-7fdcb08d381c",
   "metadata": {},
   "source": [
    "`(풀이?)`"
   ]
  },
  {
   "cell_type": "code",
   "execution_count": 26,
   "id": "87dca5e7-53e3-4d14-881c-19dde2833ae4",
   "metadata": {},
   "outputs": [
    {
     "data": {
      "text/plain": [
       "tensor([[105.0856]])"
      ]
     },
     "execution_count": 26,
     "metadata": {},
     "output_type": "execute_result"
    }
   ],
   "source": [
    "x.T @ x"
   ]
  },
  {
   "cell_type": "code",
   "execution_count": 27,
   "id": "f891b749-c598-4d8f-ba99-16fdb3ca1cab",
   "metadata": {},
   "outputs": [
    {
     "data": {
      "text/plain": [
       "tensor(105.0856)"
      ]
     },
     "execution_count": 27,
     "metadata": {},
     "output_type": "execute_result"
    }
   ],
   "source": [
    "y = x.squeeze()\n",
    "y @ y"
   ]
  },
  {
   "cell_type": "markdown",
   "id": "964aab02-24ff-4d82-a817-67ad027fedf3",
   "metadata": {
    "id": "f03fe9d3-020f-47ba-8bf9-3a924710db14"
   },
   "source": [
    "## `$`. 인덱싱 "
   ]
  },
  {
   "cell_type": "markdown",
   "id": "3cb8b193-ab66-4d30-8e77-cecca70f3b2c",
   "metadata": {
    "id": "f03fe9d3-020f-47ba-8bf9-3a924710db14"
   },
   "source": [
    "아래와 같은 배열을 선언하라."
   ]
  },
  {
   "cell_type": "code",
   "execution_count": 28,
   "id": "8f35bb57-46ba-4c94-97a6-ae5e4424598a",
   "metadata": {
    "id": "d6dcb080-1d71-4a33-a7f1-c9707c2d5771",
    "outputId": "52c92613-c738-4896-c465-74652a0b817e"
   },
   "outputs": [
    {
     "data": {
      "text/plain": [
       "tensor([[ 0.6614,  0.2669,  0.0617,  0.6213],\n",
       "        [-0.4519, -0.1661, -1.5228,  0.3817],\n",
       "        [-1.0276, -0.5631, -0.8923, -0.0583]])"
      ]
     },
     "execution_count": 28,
     "metadata": {},
     "output_type": "execute_result"
    }
   ],
   "source": [
    "torch.manual_seed(1)\n",
    "x = torch.randn(12).reshape(3,4)\n",
    "x"
   ]
  },
  {
   "cell_type": "markdown",
   "id": "6c36be27-e3c2-46ea-bd8d-63120f418240",
   "metadata": {
    "id": "44b0e554-630a-4a0c-84ac-69f2a9f18980"
   },
   "source": [
    "`(1)` 1열을 추출하는 코드를 작성하라. 즉 결과가 아래와 같이 나오도록 하라.\n",
    "\n",
    "```\n",
    "tensor([[ 0.6614],\n",
    "        [-0.4519],\n",
    "        [-1.0276]])\n",
    "```"
   ]
  },
  {
   "cell_type": "markdown",
   "id": "68402d05-7cc2-4f1a-a98b-75fb38b98739",
   "metadata": {},
   "source": [
    "`(풀이?)`"
   ]
  },
  {
   "cell_type": "code",
   "execution_count": 29,
   "id": "b8b7d7e8-8c70-4730-9cd8-0344bd622d2f",
   "metadata": {},
   "outputs": [
    {
     "data": {
      "text/plain": [
       "tensor([ 0.6614, -0.4519, -1.0276])"
      ]
     },
     "execution_count": 29,
     "metadata": {},
     "output_type": "execute_result"
    }
   ],
   "source": [
    "x[:,0]"
   ]
  },
  {
   "cell_type": "code",
   "execution_count": 30,
   "id": "197ce582-f41b-4c43-b470-066d17981700",
   "metadata": {},
   "outputs": [
    {
     "data": {
      "text/plain": [
       "tensor([[ 0.6614],\n",
       "        [-0.4519],\n",
       "        [-1.0276]])"
      ]
     },
     "execution_count": 30,
     "metadata": {},
     "output_type": "execute_result"
    }
   ],
   "source": [
    "x[:,0].reshape(-1,1)"
   ]
  },
  {
   "cell_type": "code",
   "execution_count": 31,
   "id": "9c262877-3443-4548-a434-b19ac9ba4b60",
   "metadata": {},
   "outputs": [
    {
     "data": {
      "text/plain": [
       "tensor([[ 0.6614],\n",
       "        [-0.4519],\n",
       "        [-1.0276]])"
      ]
     },
     "execution_count": 31,
     "metadata": {},
     "output_type": "execute_result"
    }
   ],
   "source": [
    "x[:,0].unsqueeze(1)"
   ]
  },
  {
   "cell_type": "markdown",
   "id": "94f9f436-c263-49dc-9866-9b9481bd366c",
   "metadata": {
    "id": "44b0e554-630a-4a0c-84ac-69f2a9f18980"
   },
   "source": [
    "`(2)` 2-3열을 추출하는 코드를 작성하라. 즉 결과가 아래와 같이 나오도록 하라.\n",
    "\n",
    "```\n",
    "tensor([[ 0.2669,  0.0617],\n",
    "        [-0.1661, -1.5228],\n",
    "        [-0.5631, -0.8923]])\n",
    "```"
   ]
  },
  {
   "cell_type": "markdown",
   "id": "0b3f3ccb-83c9-4f00-95e3-58dfd1c3dc90",
   "metadata": {},
   "source": [
    "`(풀이?)`"
   ]
  },
  {
   "cell_type": "code",
   "execution_count": 32,
   "id": "98ad03b4-b9c7-45b5-9145-0f019acb9a6f",
   "metadata": {},
   "outputs": [
    {
     "data": {
      "text/plain": [
       "tensor([[ 0.2669,  0.0617],\n",
       "        [-0.1661, -1.5228],\n",
       "        [-0.5631, -0.8923]])"
      ]
     },
     "execution_count": 32,
     "metadata": {},
     "output_type": "execute_result"
    }
   ],
   "source": [
    "x[:,1:3]"
   ]
  },
  {
   "cell_type": "code",
   "execution_count": 33,
   "id": "67bf24e7-4009-45c7-ac8b-6d7a311e3550",
   "metadata": {},
   "outputs": [
    {
     "data": {
      "text/plain": [
       "tensor([[ 0.2669,  0.0617],\n",
       "        [-0.1661, -1.5228],\n",
       "        [-0.5631, -0.8923]])"
      ]
     },
     "execution_count": 33,
     "metadata": {},
     "output_type": "execute_result"
    }
   ],
   "source": [
    "x[:,[1,2]]"
   ]
  },
  {
   "cell_type": "markdown",
   "id": "06794ef2-2f77-4343-9fdf-658676c682a3",
   "metadata": {
    "id": "44b0e554-630a-4a0c-84ac-69f2a9f18980"
   },
   "source": [
    "`(3)` 2-3행을 추출하는 코드를 작성하라. 즉 결과가 아래와 같이 나오도록 하라.\n",
    "\n",
    "```\n",
    "tensor([[-0.4519, -0.1661, -1.5228,  0.3817],\n",
    "        [-1.0276, -0.5631, -0.8923, -0.0583]])\n",
    "\n",
    "```"
   ]
  },
  {
   "cell_type": "markdown",
   "id": "bdff515b-c802-48cb-9882-e5e6e71226b2",
   "metadata": {},
   "source": [
    "`(풀이?)`"
   ]
  },
  {
   "cell_type": "code",
   "execution_count": 34,
   "id": "63ff55fe-ba10-44da-8d2e-12df345c5dd2",
   "metadata": {},
   "outputs": [
    {
     "data": {
      "text/plain": [
       "tensor([[-0.4519, -0.1661, -1.5228,  0.3817],\n",
       "        [-1.0276, -0.5631, -0.8923, -0.0583]])"
      ]
     },
     "execution_count": 34,
     "metadata": {},
     "output_type": "execute_result"
    }
   ],
   "source": [
    "x[1:,:]"
   ]
  },
  {
   "cell_type": "code",
   "execution_count": 35,
   "id": "f4fda6b2-2a75-4e7a-9908-a17ac3e4c796",
   "metadata": {},
   "outputs": [
    {
     "data": {
      "text/plain": [
       "tensor([[-0.4519, -0.1661, -1.5228,  0.3817],\n",
       "        [-1.0276, -0.5631, -0.8923, -0.0583]])"
      ]
     },
     "execution_count": 35,
     "metadata": {},
     "output_type": "execute_result"
    }
   ],
   "source": [
    "x[1:3,:]"
   ]
  },
  {
   "cell_type": "code",
   "execution_count": 36,
   "id": "c1f8afca-a6d4-4ffc-accd-19e9d774c5ae",
   "metadata": {},
   "outputs": [
    {
     "data": {
      "text/plain": [
       "tensor([[-0.4519, -0.1661, -1.5228,  0.3817],\n",
       "        [-1.0276, -0.5631, -0.8923, -0.0583]])"
      ]
     },
     "execution_count": 36,
     "metadata": {},
     "output_type": "execute_result"
    }
   ],
   "source": [
    "x[[1,2],:]"
   ]
  },
  {
   "cell_type": "markdown",
   "id": "fe64ea18-1a72-45ed-943f-4d6634aeada1",
   "metadata": {},
   "source": [
    "`(관찰?)`"
   ]
  },
  {
   "cell_type": "code",
   "execution_count": 37,
   "id": "bfed9912-da2c-4f9e-9b8e-364f04869be5",
   "metadata": {},
   "outputs": [
    {
     "data": {
      "text/plain": [
       "tensor([[-0.4519, -0.1661, -1.5228,  0.3817]])"
      ]
     },
     "execution_count": 37,
     "metadata": {},
     "output_type": "execute_result"
    }
   ],
   "source": [
    "x[1:2,:]"
   ]
  },
  {
   "cell_type": "markdown",
   "id": "4edfcabd-e8ae-46ad-a6b4-7060535b2ad8",
   "metadata": {},
   "source": [
    "## `$`. `torch.einsum`"
   ]
  },
  {
   "cell_type": "markdown",
   "id": "b8c1a306-fb19-496c-a8e3-1bb36710f029",
   "metadata": {},
   "source": [
    "`(1)` 아래에 코드중 `X.t()`에 대응하는 코드를 `torch.einsum`으로 구현하라. "
   ]
  },
  {
   "cell_type": "code",
   "execution_count": 38,
   "id": "cc434378-a29d-4d48-bcc5-7972ae888480",
   "metadata": {},
   "outputs": [
    {
     "data": {
      "text/plain": [
       "tensor([[-0.1955,  0.4224, -0.4212, -1.5727,  3.5870],\n",
       "        [-0.9656,  0.2673, -0.5107, -0.1232, -1.8313]])"
      ]
     },
     "execution_count": 38,
     "metadata": {},
     "output_type": "execute_result"
    }
   ],
   "source": [
    "X = torch.randn(5,2)\n",
    "X.t()"
   ]
  },
  {
   "cell_type": "markdown",
   "id": "7fb89011-8a42-4316-847e-122dabcd28ba",
   "metadata": {},
   "source": [
    "`(풀이?)`"
   ]
  },
  {
   "cell_type": "code",
   "execution_count": 39,
   "id": "d6148bda-f44f-4b3a-9e7b-b49b1d710329",
   "metadata": {},
   "outputs": [
    {
     "data": {
      "text/plain": [
       "tensor([[-0.1955,  0.4224, -0.4212, -1.5727,  3.5870],\n",
       "        [-0.9656,  0.2673, -0.5107, -0.1232, -1.8313]])"
      ]
     },
     "execution_count": 39,
     "metadata": {},
     "output_type": "execute_result"
    }
   ],
   "source": [
    "torch.einsum('ij->ji', X)"
   ]
  },
  {
   "cell_type": "markdown",
   "id": "80864900-50cd-48f7-a039-2ebfc0f8119b",
   "metadata": {},
   "source": [
    "`(2)` 아래에 코드중 `X@b`에 대응하는 코드를 `torch.einsum`으로 구현하라. "
   ]
  },
  {
   "cell_type": "code",
   "execution_count": 40,
   "id": "8cc71f86-bb8a-41d3-9e18-5475e7bac3d8",
   "metadata": {},
   "outputs": [
    {
     "data": {
      "text/plain": [
       "tensor([[ 3.0610],\n",
       "        [ 1.1183],\n",
       "        [-5.5600],\n",
       "        [ 2.2772],\n",
       "        [-1.3251]])"
      ]
     },
     "execution_count": 40,
     "metadata": {},
     "output_type": "execute_result"
    }
   ],
   "source": [
    "X = torch.randn(5,2)\n",
    "b = torch.randn(2,1)\n",
    "X@b"
   ]
  },
  {
   "cell_type": "markdown",
   "id": "5a2e4050-cd77-4b07-8798-f003138174ab",
   "metadata": {},
   "source": [
    "`(풀이?)`"
   ]
  },
  {
   "cell_type": "code",
   "execution_count": 41,
   "id": "b7b5de92-fe7b-4390-823b-e308c52001a4",
   "metadata": {},
   "outputs": [
    {
     "data": {
      "text/plain": [
       "tensor([[ 3.0610],\n",
       "        [ 1.1183],\n",
       "        [-5.5600],\n",
       "        [ 2.2772],\n",
       "        [-1.3251]])"
      ]
     },
     "execution_count": 41,
     "metadata": {},
     "output_type": "execute_result"
    }
   ],
   "source": [
    "torch.einsum('ij,jk->ik', X, b)"
   ]
  },
  {
   "cell_type": "markdown",
   "id": "1ed29e03-bb05-4d15-982a-7151da248fe1",
   "metadata": {},
   "source": [
    "`(3)` 아래에 코드중 `linr(X)`에 대응하는 코드를 `torch.einsum`으로 구현하라. "
   ]
  },
  {
   "cell_type": "code",
   "execution_count": 42,
   "id": "284a1a67-37ab-4b45-bd61-925dbb0d27e8",
   "metadata": {},
   "outputs": [
    {
     "data": {
      "text/plain": [
       "tensor([[-0.1186],\n",
       "        [-0.1857],\n",
       "        [ 0.1783],\n",
       "        [ 0.2444],\n",
       "        [ 0.4162]], grad_fn=<MmBackward0>)"
      ]
     },
     "execution_count": 42,
     "metadata": {},
     "output_type": "execute_result"
    }
   ],
   "source": [
    "X =  torch.randn(5,2)\n",
    "linr = torch.nn.Linear(2,1,bias=False)\n",
    "linr(X)"
   ]
  },
  {
   "cell_type": "markdown",
   "id": "483fa05d-cb39-4b14-99c6-4b862f91e6d6",
   "metadata": {},
   "source": [
    "`(풀이?)`"
   ]
  },
  {
   "cell_type": "code",
   "execution_count": 43,
   "id": "1c108931-61a1-4256-8fd9-bab2b6c7311d",
   "metadata": {},
   "outputs": [],
   "source": [
    "W = linr.weight"
   ]
  },
  {
   "cell_type": "code",
   "execution_count": 44,
   "id": "1a961c92-d236-4d1a-9dab-6f58a83c32dd",
   "metadata": {},
   "outputs": [
    {
     "data": {
      "text/plain": [
       "torch.Size([1, 2])"
      ]
     },
     "execution_count": 44,
     "metadata": {},
     "output_type": "execute_result"
    }
   ],
   "source": [
    "W.shape"
   ]
  },
  {
   "cell_type": "code",
   "execution_count": 45,
   "id": "824e000f-be63-4918-bd61-6a827816252a",
   "metadata": {},
   "outputs": [
    {
     "data": {
      "text/plain": [
       "tensor([[-0.1186],\n",
       "        [-0.1857],\n",
       "        [ 0.1783],\n",
       "        [ 0.2444],\n",
       "        [ 0.4162]], grad_fn=<ViewBackward0>)"
      ]
     },
     "execution_count": 45,
     "metadata": {},
     "output_type": "execute_result"
    }
   ],
   "source": [
    "torch.einsum('ij,kj->ik', X, W)   # shape: (5,1)"
   ]
  },
  {
   "cell_type": "markdown",
   "id": "5b45784c-f684-462e-9b81-ec8b9cbbf1d7",
   "metadata": {},
   "source": [
    "# `#` -- parameter count "
   ]
  },
  {
   "cell_type": "markdown",
   "id": "048c1b1d-101d-4b48-a067-7c8f2b99b0b6",
   "metadata": {},
   "source": [
    "`(1)` 아래의 네트워크에서 학습가능한 파라메터수를 count하라. "
   ]
  },
  {
   "cell_type": "code",
   "execution_count": 46,
   "id": "357455c4-d92f-47a5-a634-b37f1cc5f984",
   "metadata": {},
   "outputs": [],
   "source": [
    "net = torch.nn.Sequential(\n",
    "    torch.nn.Linear(10,2,bias=False),\n",
    "    torch.nn.Sigmoid(),\n",
    "    torch.nn.Linear(2,1,bias=False)\n",
    ")"
   ]
  },
  {
   "cell_type": "markdown",
   "id": "b083e4d8-0775-4846-bc16-71fcf17e4a65",
   "metadata": {},
   "source": [
    "(풀이1)"
   ]
  },
  {
   "cell_type": "code",
   "execution_count": 47,
   "id": "6e6a45e9-c288-43d2-869c-7762ebbb4864",
   "metadata": {},
   "outputs": [
    {
     "data": {
      "text/plain": [
       "22"
      ]
     },
     "execution_count": 47,
     "metadata": {},
     "output_type": "execute_result"
    }
   ],
   "source": [
    "10*2  + 2*1"
   ]
  },
  {
   "cell_type": "markdown",
   "id": "1769056e-48ac-4b19-88e1-8db56eed338b",
   "metadata": {},
   "source": [
    "(풀이2)"
   ]
  },
  {
   "cell_type": "code",
   "execution_count": 48,
   "id": "9dbfe03d-79e9-4b9d-a46e-362417d75246",
   "metadata": {},
   "outputs": [],
   "source": [
    "para_list = list(net.parameters())"
   ]
  },
  {
   "cell_type": "code",
   "execution_count": 49,
   "id": "49196de6-29c2-43ba-8f12-bb38f9b096a0",
   "metadata": {},
   "outputs": [
    {
     "data": {
      "text/plain": [
       "2"
      ]
     },
     "execution_count": 49,
     "metadata": {},
     "output_type": "execute_result"
    }
   ],
   "source": [
    "len(para_list)"
   ]
  },
  {
   "cell_type": "code",
   "execution_count": 50,
   "id": "88b4b6bc-4e61-44cd-be53-dcd9205bf135",
   "metadata": {},
   "outputs": [
    {
     "data": {
      "text/plain": [
       "torch.Size([2, 10])"
      ]
     },
     "execution_count": 50,
     "metadata": {},
     "output_type": "execute_result"
    }
   ],
   "source": [
    "para_list[0].shape"
   ]
  },
  {
   "cell_type": "code",
   "execution_count": 51,
   "id": "1c596a97-8fe4-45f0-bcf8-d4809c1d8ef3",
   "metadata": {},
   "outputs": [
    {
     "data": {
      "text/plain": [
       "torch.Size([1, 2])"
      ]
     },
     "execution_count": 51,
     "metadata": {},
     "output_type": "execute_result"
    }
   ],
   "source": [
    "para_list[1].shape"
   ]
  },
  {
   "cell_type": "markdown",
   "id": "18b0cdbf-a858-4c83-8921-ead4d7266e22",
   "metadata": {},
   "source": [
    "따라서 2\\*10+1\\*2 = 22 "
   ]
  },
  {
   "cell_type": "markdown",
   "id": "1344e1f8-de44-4bcf-9400-2bcf12b397ad",
   "metadata": {},
   "source": [
    "(풀이3)"
   ]
  },
  {
   "cell_type": "code",
   "execution_count": 52,
   "id": "0b3966b1-10ac-4eaf-b6ef-07755162cd64",
   "metadata": {},
   "outputs": [
    {
     "data": {
      "text/plain": [
       "tensor(22)"
      ]
     },
     "execution_count": 52,
     "metadata": {},
     "output_type": "execute_result"
    }
   ],
   "source": [
    "total = 0 \n",
    "for para in net.parameters():\n",
    "    total = total + torch.prod(torch.tensor(para.shape))\n",
    "total"
   ]
  },
  {
   "cell_type": "markdown",
   "id": "d8cc4ed9-93ff-4384-9138-aba3ee13904a",
   "metadata": {},
   "source": [
    "`(2)` 아래의 네트워크에서 학습가능한 파라메터수를 count하라. "
   ]
  },
  {
   "cell_type": "code",
   "execution_count": 53,
   "id": "6ea560bf-07e7-4623-a737-f39e6505b72d",
   "metadata": {},
   "outputs": [],
   "source": [
    "net = torch.nn.Sequential(\n",
    "    torch.nn.Conv2d(in_channels=3, out_channels=5, kernel_size=(5,5),bias=False)\n",
    ")"
   ]
  },
  {
   "cell_type": "markdown",
   "id": "8902f911-4c14-44d7-b6db-7c01163ccd30",
   "metadata": {},
   "source": [
    "`(풀이1)`"
   ]
  },
  {
   "cell_type": "code",
   "execution_count": 54,
   "id": "963520b7-56ca-4129-87f2-80579e5e13cf",
   "metadata": {},
   "outputs": [
    {
     "data": {
      "text/plain": [
       "375"
      ]
     },
     "execution_count": 54,
     "metadata": {},
     "output_type": "execute_result"
    }
   ],
   "source": [
    "3*5*25"
   ]
  },
  {
   "cell_type": "markdown",
   "id": "34c61e4c-9244-46ef-8111-181d6f4054af",
   "metadata": {},
   "source": [
    "`(풀이2)`"
   ]
  },
  {
   "cell_type": "code",
   "execution_count": 55,
   "id": "69675df3-029f-48b8-a69c-7dda8b0a0e6c",
   "metadata": {},
   "outputs": [
    {
     "data": {
      "text/plain": [
       "tensor(375)"
      ]
     },
     "execution_count": 55,
     "metadata": {},
     "output_type": "execute_result"
    }
   ],
   "source": [
    "total = 0 \n",
    "for para in net.parameters():\n",
    "    total = total + torch.prod(torch.tensor(para.shape))\n",
    "total"
   ]
  }
 ],
 "metadata": {
  "kernelspec": {
   "display_name": "Python 3 (ipykernel)",
   "language": "python",
   "name": "python3"
  },
  "language_info": {
   "codemirror_mode": {
    "name": "ipython",
    "version": 3
   },
   "file_extension": ".py",
   "mimetype": "text/x-python",
   "name": "python",
   "nbconvert_exporter": "python",
   "pygments_lexer": "ipython3",
   "version": "3.9.18"
  }
 },
 "nbformat": 4,
 "nbformat_minor": 5
}
