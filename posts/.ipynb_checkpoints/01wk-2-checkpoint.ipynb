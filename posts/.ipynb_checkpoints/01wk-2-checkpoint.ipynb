{
 "cells": [
  {
   "cell_type": "raw",
   "id": "2bae03b7-5d24-42fd-be93-2e55250903ba",
   "metadata": {
    "id": "87b5cded-346b-4915-acf5-b5ec93a5207d"
   },
   "source": [
    "---\n",
    "title: \"01wk-2, 02wk-1: (회귀) -- 회귀모형, 손실함수, 파이토치를 이용한 추정\"\n",
    "author: \"sw1kwon\"\n",
    "date: \"03/10/2025\"\n",
    "draft: false\n",
    "---"
   ]
  },
  {
   "cell_type": "markdown",
   "id": "62f544a0-0360-4673-ae14-4115e13c0ed6",
   "metadata": {},
   "source": [
    "📘 **Note Format Guide**\n",
    "\n",
    "This format serves as a structured guide for organizing lecture content, personal interpretation, experiments, and study-related questions.\n",
    "\n",
    "| Type | What It Means | When I Use It |\n",
    "|------|----------------|----------------|\n",
    "| 📝 Lecture | Original material from the professor’s notes | When I’m referencing core concepts or provided code |\n",
    "| 🗣️ In-Class Note | Verbal explanations shared during the lecture | When I want to record something the professor said in class but didn’t include in the official notes |\n",
    "| ✍️ My Note | My thoughts, interpretations, or additional explanations | When I reflect on or explain something in my own words |\n",
    "| 🔬 Experiment | Code I tried out or changed to explore further | When I test variations or go beyond the original example |\n",
    "| ❓ Question | Questions I had while studying | When I want to revisit or research something more deeply |"
   ]
  },
  {
   "cell_type": "markdown",
   "id": "232d96df-752a-4670-9dd0-68f6873e8ea5",
   "metadata": {},
   "source": [
    "📝\n",
    "🗣️\n",
    "✍️\n",
    "🔬\n",
    "❓"
   ]
  },
  {
   "cell_type": "markdown",
   "id": "18f4aa2d-9b40-4f2e-9d0f-671421c1fb1f",
   "metadata": {
    "id": "4d47a7c9"
   },
   "source": [
    "# 1. 강의노트 원본 및 영상 링크"
   ]
  },
  {
   "cell_type": "markdown",
   "id": "71074e51-134d-4b66-8d9d-cdf767826b00",
   "metadata": {},
   "source": [
    "[https://guebin.github.io/DL2025/posts/01wk-2.html](https://guebin.github.io/DL2025/posts/01wk-2.html)"
   ]
  },
  {
   "cell_type": "markdown",
   "id": "9bd3e77a-8106-4a29-b159-7e84ac786a9d",
   "metadata": {},
   "source": [
    "# 2. Imports 📝"
   ]
  },
  {
   "cell_type": "code",
   "execution_count": 1,
   "id": "b3492227-5150-4882-a846-1012c1c7c416",
   "metadata": {},
   "outputs": [],
   "source": [
    "import torch\n",
    "import matplotlib.pyplot as plt "
   ]
  },
  {
   "cell_type": "code",
   "execution_count": 2,
   "id": "c4db1262-e218-413e-8f5a-419766fd1f33",
   "metadata": {},
   "outputs": [],
   "source": [
    "plt.rcParams['figure.figsize'] = (4.5, 3.0)"
   ]
  },
  {
   "cell_type": "markdown",
   "id": "176bd428-5462-40b6-b7c6-a7c9ce896aad",
   "metadata": {},
   "source": [
    "# 3. 회귀모형 -- intro 📝"
   ]
  },
  {
   "cell_type": "markdown",
   "id": "a95d7b99-f07a-41f4-9a7b-9c238f78fad9",
   "metadata": {},
   "source": [
    "## A. 아이스 아메리카노 (가짜자료)"
   ]
  },
  {
   "cell_type": "markdown",
   "id": "78efffed-d6c9-47ed-8c4f-91b23160c14c",
   "metadata": {},
   "source": [
    "`-` 카페주인인 박혜원씨는 온도와 아이스아메리카노 판매량이 관계가 있다는 것을 알았다. 구체적으로는 \n",
    "\n",
    "> \"온도가 높아질 수록 (=날씨가 더울수록) 아이스아메리카노의 판매량이 증가\"\n",
    "\n",
    "한다는 사실을 알게 되었다. 이를 확인하기 위해서 아래와 같이 100개의 데이터를 모았다. "
   ]
  },
  {
   "cell_type": "code",
   "execution_count": 3,
   "id": "f7a3fde5-1c9e-4c10-bf4d-57f0c7c542e4",
   "metadata": {
    "tags": []
   },
   "outputs": [],
   "source": [
    "temp = [-2.4821, -2.3621, -1.9973, -1.6239, -1.4792, -1.4635, -1.4509, -1.4435,\n",
    "        -1.3722, -1.3079, -1.1904, -1.1092, -1.1054, -1.0875, -0.9469, -0.9319,\n",
    "        -0.8643, -0.7858, -0.7549, -0.7421, -0.6948, -0.6103, -0.5830, -0.5621,\n",
    "        -0.5506, -0.5058, -0.4806, -0.4738, -0.4710, -0.4676, -0.3874, -0.3719,\n",
    "        -0.3688, -0.3159, -0.2775, -0.2772, -0.2734, -0.2721, -0.2668, -0.2155,\n",
    "        -0.2000, -0.1816, -0.1708, -0.1565, -0.1448, -0.1361, -0.1057, -0.0603,\n",
    "        -0.0559, -0.0214,  0.0655,  0.0684,  0.1195,  0.1420,  0.1521,  0.1568,\n",
    "         0.2646,  0.2656,  0.3157,  0.3220,  0.3461,  0.3984,  0.4190,  0.5443,\n",
    "         0.5579,  0.5913,  0.6148,  0.6469,  0.6469,  0.6523,  0.6674,  0.7059,\n",
    "         0.7141,  0.7822,  0.8154,  0.8668,  0.9291,  0.9804,  0.9853,  0.9941,\n",
    "         1.0376,  1.0393,  1.0697,  1.1024,  1.1126,  1.1532,  1.2289,  1.3403,\n",
    "         1.3494,  1.4279,  1.4994,  1.5031,  1.5437,  1.6789,  2.0832,  2.2444,\n",
    "         2.3935,  2.6056,  2.6057,  2.6632]"
   ]
  },
  {
   "cell_type": "code",
   "execution_count": 4,
   "id": "47fc7404-3b20-49bb-8969-9708f61e7847",
   "metadata": {
    "tags": []
   },
   "outputs": [],
   "source": [
    "sales= [-8.5420, -6.5767, -5.9496, -4.4794, -4.2516, -3.1326, -4.0239, -4.1862,\n",
    "        -3.3403, -2.2027, -2.0262, -2.5619, -1.3353, -2.0466, -0.4664, -1.3513,\n",
    "        -1.6472, -0.1089, -0.3071, -0.6299, -0.0438,  0.4163,  0.4166, -0.0943,\n",
    "         0.2662,  0.4591,  0.8905,  0.8998,  0.6314,  1.3845,  0.8085,  1.2594,\n",
    "         1.1211,  1.9232,  1.0619,  1.3552,  2.1161,  1.1437,  1.6245,  1.7639,\n",
    "         1.6022,  1.7465,  0.9830,  1.7824,  2.1116,  2.8621,  2.1165,  1.5226,\n",
    "         2.5572,  2.8361,  3.3956,  2.0679,  2.8140,  3.4852,  3.6059,  2.5966,\n",
    "         2.8854,  3.9173,  3.6527,  4.1029,  4.3125,  3.4026,  3.2180,  4.5686,\n",
    "         4.3772,  4.3075,  4.4895,  4.4827,  5.3170,  5.4987,  5.4632,  6.0328,\n",
    "         5.2842,  5.0539,  5.4538,  6.0337,  5.7250,  5.7587,  6.2020,  6.5992,\n",
    "         6.4621,  6.5140,  6.6846,  7.3497,  8.0909,  7.0794,  6.8667,  7.4229,\n",
    "         7.2544,  7.1967,  9.5006,  9.0339,  7.4887,  9.0759, 11.0946, 10.3260,\n",
    "        12.2665, 13.0983, 12.5468, 13.8340]"
   ]
  },
  {
   "cell_type": "markdown",
   "id": "0370bd0c-fb30-4aa5-990e-1c5b1ef77b43",
   "metadata": {},
   "source": [
    "🗣️ 음수 판매량은 일단 무시"
   ]
  },
  {
   "cell_type": "markdown",
   "id": "b4409a02-a1e4-48ab-8253-2b484dcf8a78",
   "metadata": {},
   "source": [
    "여기에서 `temp`는 평균기온이고, `sales`는 아이스아메리카노 판매량이다. 평균기온과 판매량의 그래프를 그려보면 아래와 같다. "
   ]
  },
  {
   "cell_type": "code",
   "execution_count": 5,
   "id": "3417fa7a-c386-4a30-8c43-b2f94e3ffae2",
   "metadata": {
    "tags": []
   },
   "outputs": [
    {
     "data": {
      "text/plain": [
       "[<matplotlib.lines.Line2D at 0x7fb286273790>]"
      ]
     },
     "execution_count": 5,
     "metadata": {},
     "output_type": "execute_result"
    },
    {
     "data": {
      "image/png": "[encoded data removed]",
      "text/plain": [
       "<Figure size 450x300 with 1 Axes>"
      ]
     },
     "metadata": {},
     "output_type": "display_data"
    }
   ],
   "source": [
    "plt.plot(temp,sales,'o')"
   ]
  },
  {
   "cell_type": "markdown",
   "id": "2b53dcfd-a2ed-4775-9c72-142d0409b2d6",
   "metadata": {},
   "source": [
    "🗣️ 약간의 오차는 있지만 선으로 보임"
   ]
  },
  {
   "cell_type": "markdown",
   "id": "dc4e1ae2-9f8f-41f3-ae5e-a714cb4f24df",
   "metadata": {},
   "source": [
    "오늘 바깥의 온도는 0.5도 이다. 아이스 아메라카노를 몇잔정도 만들어 두면 좋을까? "
   ]
  },
  {
   "cell_type": "markdown",
   "id": "cef231ab-6476-4abd-bccf-2f2198dc9107",
   "metadata": {},
   "source": [
    "🗣️ 이 그래프를 보고 4.5잔 정도로 짐작 가능"
   ]
  },
  {
   "cell_type": "markdown",
   "id": "0d17f9e3-112b-42c3-ad71-4fdb6e66bd7a",
   "metadata": {},
   "source": [
    "## B. 가짜자료를 만든 방법"
   ]
  },
  {
   "cell_type": "markdown",
   "id": "1fbdea9f-c0cd-4d54-86d4-e9d9e60c2318",
   "metadata": {},
   "source": [
    "`-` 방법1:\n",
    "$y_i= w_0+w_1 x_i +\\epsilon_i = 2.5 + 4x_i +\\epsilon_i, \\quad i=1,2,\\dots,n$"
   ]
  },
  {
   "cell_type": "markdown",
   "id": "2fe5d59d-2269-48c4-95fb-225329877d50",
   "metadata": {},
   "source": [
    "🗣️("
   ]
  },
  {
   "cell_type": "markdown",
   "id": "36f9d015-68bd-47e7-ab9a-bcd684d7b226",
   "metadata": {},
   "source": [
    "xi = 온도 = temp \\\n",
    "yi = 판매량 = sales \\\n",
    "판매량 = 2.5 + 4*온도 + 오차"
   ]
  },
  {
   "cell_type": "code",
   "execution_count": 6,
   "id": "a0f3ff9b-7606-4e21-834b-e1c50dc7c66e",
   "metadata": {},
   "outputs": [
    {
     "data": {
      "text/plain": [
       "tensor([-0.4351, -0.4066,  1.2577, -1.1443,  0.3941, -0.2229, -0.4337,  0.8736,\n",
       "         0.6216,  1.0963])"
      ]
     },
     "execution_count": 6,
     "metadata": {},
     "output_type": "execute_result"
    }
   ],
   "source": [
    "torch.randn(10) # 표준정규분포에서 10개 값 추출, 길이가 10인 vector (column vector인지 row vector인지는 모름)"
   ]
  },
  {
   "cell_type": "code",
   "execution_count": 7,
   "id": "bb435c5e-12fc-4988-aa4f-03466ba2f909",
   "metadata": {},
   "outputs": [
    {
     "data": {
      "text/plain": [
       "torch.return_types.sort(\n",
       "values=tensor([-3.3450e+00, -2.3363e+00, -1.7533e+00, -1.6534e+00, -1.4996e+00,\n",
       "        -1.4218e+00, -1.3757e+00, -1.3314e+00, -1.1898e+00, -1.1594e+00,\n",
       "        -1.1386e+00, -1.0975e+00, -1.0961e+00, -1.0899e+00, -1.0250e+00,\n",
       "        -9.7851e-01, -9.1254e-01, -8.8307e-01, -8.7845e-01, -8.4915e-01,\n",
       "        -7.4344e-01, -7.0972e-01, -7.0845e-01, -6.8746e-01, -6.7488e-01,\n",
       "        -6.6512e-01, -6.0503e-01, -5.8921e-01, -5.4838e-01, -5.1363e-01,\n",
       "        -5.0996e-01, -4.7537e-01, -4.3955e-01, -3.5707e-01, -3.4237e-01,\n",
       "        -3.4013e-01, -3.2890e-01, -3.2078e-01, -3.0216e-01, -2.9112e-01,\n",
       "        -2.8083e-01, -2.4387e-01, -2.4171e-01, -2.0109e-01, -1.9779e-01,\n",
       "        -1.9549e-01, -5.8397e-02, -2.5842e-02, -2.2056e-02,  2.0055e-03,\n",
       "         1.0348e-02,  2.2201e-02,  2.5445e-02,  2.6868e-02,  6.2116e-02,\n",
       "         1.3408e-01,  1.5172e-01,  2.0091e-01,  2.3218e-01,  2.5000e-01,\n",
       "         2.7442e-01,  2.8144e-01,  3.4857e-01,  3.7494e-01,  4.4520e-01,\n",
       "         4.8013e-01,  4.9466e-01,  5.0311e-01,  5.7595e-01,  6.2995e-01,\n",
       "         6.3221e-01,  6.5666e-01,  6.5788e-01,  6.6027e-01,  6.7909e-01,\n",
       "         7.1635e-01,  7.1752e-01,  7.2141e-01,  8.0059e-01,  8.0419e-01,\n",
       "         8.0801e-01,  8.1830e-01,  8.9444e-01,  9.6222e-01,  9.9973e-01,\n",
       "         1.1303e+00,  1.1527e+00,  1.2046e+00,  1.2086e+00,  1.2469e+00,\n",
       "         1.2752e+00,  1.2872e+00,  1.3125e+00,  1.4296e+00,  1.4390e+00,\n",
       "         1.5448e+00,  1.6129e+00,  1.6454e+00,  1.6769e+00,  1.7580e+00]),\n",
       "indices=tensor([81, 19, 56, 18, 89, 54, 27, 31, 65, 85, 94, 47,  0,  7,  8, 57, 14, 92,\n",
       "         3, 12, 86, 48,  9, 82, 62, 78,  1, 28, 32, 67, 21, 53, 10, 30, 23,  5,\n",
       "        88, 24, 63, 40, 20, 77, 34, 87, 99, 80, 41,  4, 69, 90, 35, 72, 58, 11,\n",
       "        22, 42, 76, 95, 74, 38, 46, 59, 91, 68, 43, 44, 50, 96, 51,  6, 29, 13,\n",
       "        66, 49, 73,  2, 70, 93, 97, 16, 15, 98, 55, 33, 39, 84, 25, 61, 17, 64,\n",
       "        45, 26, 75, 71, 79, 37, 60, 83, 36, 52]))"
      ]
     },
     "execution_count": 7,
     "metadata": {},
     "output_type": "execute_result"
    }
   ],
   "source": [
    "torch.randn(100).sort() # 100개 값을 정렬 / 앞은 정렬된 값, 뒤는 인덱스"
   ]
  },
  {
   "cell_type": "code",
   "execution_count": 8,
   "id": "527c3b05-c56b-445d-ba6d-0dc9c89d7c17",
   "metadata": {},
   "outputs": [
    {
     "data": {
      "text/plain": [
       "torch.return_types.sort"
      ]
     },
     "execution_count": 8,
     "metadata": {},
     "output_type": "execute_result"
    }
   ],
   "source": [
    "a = torch.randn(100).sort()\n",
    "type(a)"
   ]
  },
  {
   "cell_type": "code",
   "execution_count": 9,
   "id": "40d65941-2eb1-4798-b636-a05f7fe54787",
   "metadata": {},
   "outputs": [
    {
     "data": {
      "text/plain": [
       "tensor([-2.8188e+00, -2.7746e+00, -2.5355e+00, -2.4374e+00, -2.2716e+00,\n",
       "        -2.1492e+00, -1.8555e+00, -1.8281e+00, -1.6228e+00, -1.6164e+00,\n",
       "        -1.5151e+00, -1.5046e+00, -1.4989e+00, -1.4708e+00, -1.4605e+00,\n",
       "        -1.3748e+00, -1.3521e+00, -1.3183e+00, -1.2710e+00, -1.2416e+00,\n",
       "        -1.1459e+00, -1.0949e+00, -1.0907e+00, -1.0903e+00, -1.0481e+00,\n",
       "        -1.0313e+00, -1.0079e+00, -1.0003e+00, -9.9874e-01, -9.9081e-01,\n",
       "        -9.8943e-01, -9.7448e-01, -9.4772e-01, -9.4282e-01, -9.1282e-01,\n",
       "        -8.8605e-01, -8.6893e-01, -8.5283e-01, -7.8566e-01, -7.7867e-01,\n",
       "        -7.6961e-01, -7.4827e-01, -6.6928e-01, -6.3990e-01, -5.9842e-01,\n",
       "        -5.8057e-01, -5.5388e-01, -5.1941e-01, -5.1005e-01, -4.9040e-01,\n",
       "        -4.7796e-01, -3.9862e-01, -3.9854e-01, -3.8835e-01, -3.7719e-01,\n",
       "        -3.6587e-01, -3.0923e-01, -3.0278e-01, -2.5337e-01, -2.1358e-01,\n",
       "        -1.7441e-01, -1.4875e-01, -5.6163e-02, -3.3250e-02, -2.6646e-02,\n",
       "         2.1082e-03,  1.3442e-02,  9.5665e-02,  1.0434e-01,  1.2852e-01,\n",
       "         1.8255e-01,  2.2326e-01,  2.3160e-01,  2.5853e-01,  2.6803e-01,\n",
       "         3.3640e-01,  3.6288e-01,  3.7120e-01,  3.8451e-01,  4.0117e-01,\n",
       "         4.3763e-01,  4.5193e-01,  5.2404e-01,  6.1333e-01,  6.7461e-01,\n",
       "         6.8081e-01,  8.0477e-01,  9.1538e-01,  9.5395e-01,  1.0907e+00,\n",
       "         1.1139e+00,  1.1281e+00,  1.2559e+00,  1.2686e+00,  1.3258e+00,\n",
       "         1.3563e+00,  1.3864e+00,  1.5558e+00,  1.6258e+00,  2.1654e+00])"
      ]
     },
     "execution_count": 9,
     "metadata": {},
     "output_type": "execute_result"
    }
   ],
   "source": [
    "a[0]"
   ]
  },
  {
   "cell_type": "code",
   "execution_count": 10,
   "id": "d66c18f5-68cf-473d-9a03-241c6af24031",
   "metadata": {},
   "outputs": [
    {
     "data": {
      "text/plain": [
       "tensor([-2.8984, -2.6607, -2.2449, -2.2072, -2.1918, -2.1538, -1.9428, -1.9416,\n",
       "        -1.8612, -1.6956, -1.6357, -1.4785, -1.4322, -1.2127, -1.1737, -0.9456,\n",
       "        -0.9244, -0.8456, -0.8190, -0.7925, -0.7609, -0.7305, -0.7011, -0.6806,\n",
       "        -0.6442, -0.6117, -0.6059, -0.5994, -0.4920, -0.4066, -0.3879, -0.3867,\n",
       "        -0.3612, -0.3604, -0.3142, -0.3112, -0.2940, -0.2812, -0.2753, -0.2665,\n",
       "        -0.2145, -0.2106, -0.1864, -0.1633, -0.1470, -0.1331, -0.1316, -0.0994,\n",
       "        -0.0954, -0.0717, -0.0586, -0.0329,  0.0095,  0.0182,  0.0214,  0.0915,\n",
       "         0.0952,  0.1077,  0.1124,  0.1612,  0.1614,  0.1969,  0.2003,  0.3242,\n",
       "         0.3424,  0.3925,  0.4078,  0.4468,  0.4536,  0.5199,  0.5238,  0.5563,\n",
       "         0.5595,  0.6236,  0.6372,  0.6451,  0.6630,  0.7122,  0.7335,  0.7569,\n",
       "         0.7589,  0.8969,  0.9318,  0.9552,  1.0023,  1.0198,  1.1083,  1.1978,\n",
       "         1.2752,  1.2928,  1.3265,  1.3825,  1.4325,  1.5292,  1.6095,  1.6239,\n",
       "         1.7316,  2.0886,  2.3070,  3.2682])"
      ]
     },
     "execution_count": 10,
     "metadata": {},
     "output_type": "execute_result"
    }
   ],
   "source": [
    "x,_ = torch.randn(100).sort() # 언패킹\n",
    "x"
   ]
  },
  {
   "cell_type": "code",
   "execution_count": 11,
   "id": "9ccb7853-1e80-4d19-a3da-f3ab806903f8",
   "metadata": {},
   "outputs": [
    {
     "data": {
      "text/plain": [
       "tensor([-2.4821, -2.3621, -1.9973, -1.6239, -1.4792, -1.4635, -1.4509, -1.4435,\n",
       "        -1.3722, -1.3079, -1.1904, -1.1092, -1.1054, -1.0875, -0.9469, -0.9319,\n",
       "        -0.8643, -0.7858, -0.7549, -0.7421, -0.6948, -0.6103, -0.5830, -0.5621,\n",
       "        -0.5506, -0.5058, -0.4806, -0.4738, -0.4710, -0.4676, -0.3874, -0.3719,\n",
       "        -0.3688, -0.3159, -0.2775, -0.2772, -0.2734, -0.2721, -0.2668, -0.2155,\n",
       "        -0.2000, -0.1816, -0.1708, -0.1565, -0.1448, -0.1361, -0.1057, -0.0603,\n",
       "        -0.0559, -0.0214,  0.0655,  0.0684,  0.1195,  0.1420,  0.1521,  0.1568,\n",
       "         0.2646,  0.2656,  0.3157,  0.3220,  0.3461,  0.3984,  0.4190,  0.5443,\n",
       "         0.5579,  0.5913,  0.6148,  0.6469,  0.6469,  0.6523,  0.6674,  0.7059,\n",
       "         0.7141,  0.7822,  0.8154,  0.8668,  0.9291,  0.9804,  0.9853,  0.9941,\n",
       "         1.0376,  1.0393,  1.0697,  1.1024,  1.1126,  1.1532,  1.2289,  1.3403,\n",
       "         1.3494,  1.4279,  1.4994,  1.5031,  1.5437,  1.6789,  2.0832,  2.2444,\n",
       "         2.3935,  2.6056,  2.6057,  2.6632])"
      ]
     },
     "execution_count": 11,
     "metadata": {},
     "output_type": "execute_result"
    }
   ],
   "source": [
    "torch.manual_seed(43052) # 값 고정\n",
    "x,_ = torch.randn(100).sort()\n",
    "x"
   ]
  },
  {
   "cell_type": "code",
   "execution_count": 12,
   "id": "56dc0075-71fc-4dda-adda-0559d76aafc4",
   "metadata": {},
   "outputs": [],
   "source": [
    "# temp # 위의 temp와 x는 동일"
   ]
  },
  {
   "cell_type": "code",
   "execution_count": 13,
   "id": "a0762f19-c151-40bf-b0fd-ddd868437012",
   "metadata": {},
   "outputs": [
    {
     "data": {
      "text/plain": [
       "-8.542"
      ]
     },
     "execution_count": 13,
     "metadata": {},
     "output_type": "execute_result"
    }
   ],
   "source": [
    "sales[0] # -2.4821 * 4 + 2.5 + 오차"
   ]
  },
  {
   "cell_type": "code",
   "execution_count": 14,
   "id": "8b513c24-7db5-4f19-84e2-7bd33cda3520",
   "metadata": {},
   "outputs": [],
   "source": [
    "torch.manual_seed(43052)\n",
    "x,_ = torch.randn(100).sort()\n",
    "eps = torch.randn(100)*0.5 # 오차 만들기 (분산 작게하려고 0.5를 곱함)"
   ]
  },
  {
   "cell_type": "code",
   "execution_count": 15,
   "id": "7f43741e-d2c6-44bc-8b4d-c59f70c8d6db",
   "metadata": {},
   "outputs": [
    {
     "data": {
      "text/plain": [
       "tensor(-8.5420)"
      ]
     },
     "execution_count": 15,
     "metadata": {},
     "output_type": "execute_result"
    }
   ],
   "source": [
    "-2.4821 * 4 + 2.5 + eps[0] # sales[0]과 동일"
   ]
  },
  {
   "cell_type": "code",
   "execution_count": 16,
   "id": "3b29a401-001a-47a7-9b20-039d7f2a84a5",
   "metadata": {},
   "outputs": [
    {
     "data": {
      "text/plain": [
       "tensor(-6.5767)"
      ]
     },
     "execution_count": 16,
     "metadata": {},
     "output_type": "execute_result"
    }
   ],
   "source": [
    "x[1] * 4 + 2.5 + eps[1] # 두 번째 값"
   ]
  },
  {
   "cell_type": "code",
   "execution_count": 17,
   "id": "5403f315-17d3-4926-8fd8-b23edabb3b10",
   "metadata": {},
   "outputs": [
    {
     "data": {
      "text/plain": [
       "-6.5767"
      ]
     },
     "execution_count": 17,
     "metadata": {},
     "output_type": "execute_result"
    }
   ],
   "source": [
    "sales[1]"
   ]
  },
  {
   "cell_type": "code",
   "execution_count": 18,
   "id": "684405a4-3ebb-49ec-97f6-37e661f45d8b",
   "metadata": {},
   "outputs": [],
   "source": [
    "torch.manual_seed(43052)\n",
    "x,_ = torch.randn(100).sort()\n",
    "eps = torch.randn(100)*0.5\n",
    "y = x * 4 + 2.5 + eps # 브로드캐스팅 이용"
   ]
  },
  {
   "cell_type": "code",
   "execution_count": 19,
   "id": "2070e2c7-eca0-42ac-975a-481ce7fef538",
   "metadata": {},
   "outputs": [
    {
     "data": {
      "text/plain": [
       "([-2.4821, -2.3621, -1.9973, -1.6239, -1.4792],\n",
       " [-8.542, -6.5767, -5.9496, -4.4794, -4.2516])"
      ]
     },
     "execution_count": 19,
     "metadata": {},
     "output_type": "execute_result"
    }
   ],
   "source": [
    "temp[:5],sales[:5]"
   ]
  },
  {
   "cell_type": "code",
   "execution_count": 20,
   "id": "12224754-a2d7-4759-845d-1df72706862a",
   "metadata": {},
   "outputs": [
    {
     "data": {
      "text/plain": [
       "(tensor([-2.4821, -2.3621, -1.9973, -1.6239, -1.4792]),\n",
       " tensor([-8.5420, -6.5767, -5.9496, -4.4794, -4.2516]))"
      ]
     },
     "execution_count": 20,
     "metadata": {},
     "output_type": "execute_result"
    }
   ],
   "source": [
    "x[:5], y[:5] # 위와 동일"
   ]
  },
  {
   "cell_type": "markdown",
   "id": "d6dc9024-cba7-4608-b73e-54dfc793805b",
   "metadata": {},
   "source": [
    ")🗣️"
   ]
  },
  {
   "cell_type": "code",
   "execution_count": 21,
   "id": "1e42dd61-e19e-4277-a004-2ea847b044d5",
   "metadata": {},
   "outputs": [],
   "source": [
    "torch.manual_seed(43052)\n",
    "x,_ = torch.randn(100).sort()\n",
    "eps = torch.randn(100)*0.5\n",
    "y = x * 4 + 2.5 + eps"
   ]
  },
  {
   "cell_type": "code",
   "execution_count": 22,
   "id": "059036cd-298d-453f-9649-f98473cd8541",
   "metadata": {},
   "outputs": [
    {
     "data": {
      "text/plain": [
       "(tensor([-2.4821, -2.3621, -1.9973, -1.6239, -1.4792]),\n",
       " tensor([-8.5420, -6.5767, -5.9496, -4.4794, -4.2516]))"
      ]
     },
     "execution_count": 22,
     "metadata": {},
     "output_type": "execute_result"
    }
   ],
   "source": [
    "x[:5], y[:5]"
   ]
  },
  {
   "cell_type": "markdown",
   "id": "9f3b31a8-d7cc-416c-8a1e-4b30108dd4dc",
   "metadata": {},
   "source": [
    "`-` 방법2: ${\\bf y}={\\bf X}{\\bf W} +\\boldsymbol{\\epsilon}$\n",
    "\n",
    "-   ${\\bf y}=\\begin{bmatrix} y_1 \\\\ y_2 \\\\ \\dots \\\\ y_n\\end{bmatrix}, \\quad {\\bf X}=\\begin{bmatrix} 1 & x_1 \\\\ 1 & x_2 \\\\ \\dots \\\\ 1 & x_n\\end{bmatrix}, \\quad {\\bf W}=\\begin{bmatrix} 2.5 \\\\ 4 \\end{bmatrix}, \\quad \\boldsymbol{\\epsilon}= \\begin{bmatrix} \\epsilon_1 \\\\ \\dots \\\\ \\epsilon_n\\end{bmatrix}$"
   ]
  },
  {
   "cell_type": "markdown",
   "id": "bb5298cb-00c0-472a-a30e-7a9ed9874ea9",
   "metadata": {},
   "source": [
    "🗣️("
   ]
  },
  {
   "cell_type": "markdown",
   "id": "c4a6df2a-9ffb-477f-b874-4026db457827",
   "metadata": {},
   "source": [
    "$y_1 = 2.5 + 4x_1 + \\epsilon_1$ \\\n",
    "$y_2 = 2.5 + 4x_2 + \\epsilon_2$ \\\n",
    "$y_3 = 2.5 + 4x_3 + \\epsilon_3$ ... 을 위와 같이 표현할 수 있음"
   ]
  },
  {
   "cell_type": "markdown",
   "id": "2593659c-41e2-4f38-8be6-ea18c3efa723",
   "metadata": {},
   "source": [
    "방법1은 scalar로 표현, 방법2는 matrix로 표현"
   ]
  },
  {
   "cell_type": "code",
   "execution_count": 23,
   "id": "135aae52-6b76-489c-aa74-1e79b03b2743",
   "metadata": {},
   "outputs": [
    {
     "data": {
      "text/plain": [
       "tensor([-8.5420, -6.5767, -5.9496, -4.4794, -4.2516, -3.1326, -4.0239, -4.1862,\n",
       "        -3.3403, -2.2027, -2.0262, -2.5619, -1.3353, -2.0466, -0.4664, -1.3513,\n",
       "        -1.6472, -0.1089, -0.3071, -0.6299, -0.0438,  0.4163,  0.4166, -0.0943,\n",
       "         0.2662,  0.4591,  0.8905,  0.8998,  0.6314,  1.3845,  0.8085,  1.2594,\n",
       "         1.1211,  1.9232,  1.0619,  1.3552,  2.1161,  1.1437,  1.6245,  1.7639,\n",
       "         1.6022,  1.7465,  0.9830,  1.7824,  2.1116,  2.8621,  2.1165,  1.5226,\n",
       "         2.5572,  2.8361,  3.3956,  2.0679,  2.8140,  3.4852,  3.6059,  2.5966,\n",
       "         2.8854,  3.9173,  3.6527,  4.1029,  4.3125,  3.4026,  3.2180,  4.5686,\n",
       "         4.3772,  4.3075,  4.4895,  4.4827,  5.3170,  5.4987,  5.4632,  6.0328,\n",
       "         5.2842,  5.0539,  5.4538,  6.0337,  5.7250,  5.7587,  6.2020,  6.5992,\n",
       "         6.4621,  6.5140,  6.6846,  7.3497,  8.0909,  7.0794,  6.8667,  7.4229,\n",
       "         7.2544,  7.1967,  9.5006,  9.0339,  7.4887,  9.0759, 11.0946, 10.3260,\n",
       "        12.2665, 13.0983, 12.5468, 13.8340])"
      ]
     },
     "execution_count": 23,
     "metadata": {},
     "output_type": "execute_result"
    }
   ],
   "source": [
    "y # 길이가 100인 vector (방법1) / 방법2는 (100,1) matrix로 표현되어야 함"
   ]
  },
  {
   "cell_type": "code",
   "execution_count": 24,
   "id": "e5c1a03a-19c1-4d01-8b2c-2b475d6e6d64",
   "metadata": {},
   "outputs": [
    {
     "data": {
      "text/plain": [
       "tensor([-2.4821, -2.3621, -1.9973, -1.6239, -1.4792, -1.4635, -1.4509, -1.4435,\n",
       "        -1.3722, -1.3079, -1.1904, -1.1092, -1.1054, -1.0875, -0.9469, -0.9319,\n",
       "        -0.8643, -0.7858, -0.7549, -0.7421, -0.6948, -0.6103, -0.5830, -0.5621,\n",
       "        -0.5506, -0.5058, -0.4806, -0.4738, -0.4710, -0.4676, -0.3874, -0.3719,\n",
       "        -0.3688, -0.3159, -0.2775, -0.2772, -0.2734, -0.2721, -0.2668, -0.2155,\n",
       "        -0.2000, -0.1816, -0.1708, -0.1565, -0.1448, -0.1361, -0.1057, -0.0603,\n",
       "        -0.0559, -0.0214,  0.0655,  0.0684,  0.1195,  0.1420,  0.1521,  0.1568,\n",
       "         0.2646,  0.2656,  0.3157,  0.3220,  0.3461,  0.3984,  0.4190,  0.5443,\n",
       "         0.5579,  0.5913,  0.6148,  0.6469,  0.6469,  0.6523,  0.6674,  0.7059,\n",
       "         0.7141,  0.7822,  0.8154,  0.8668,  0.9291,  0.9804,  0.9853,  0.9941,\n",
       "         1.0376,  1.0393,  1.0697,  1.1024,  1.1126,  1.1532,  1.2289,  1.3403,\n",
       "         1.3494,  1.4279,  1.4994,  1.5031,  1.5437,  1.6789,  2.0832,  2.2444,\n",
       "         2.3935,  2.6056,  2.6057,  2.6632])"
      ]
     },
     "execution_count": 24,
     "metadata": {},
     "output_type": "execute_result"
    }
   ],
   "source": [
    "x # 길이가 100인 vector (방법1) / 방법2는 [1 x] 이런식으로 표현되어야 함"
   ]
  },
  {
   "cell_type": "markdown",
   "id": "d78f9d91-a90b-4ef7-ae08-1f14568e1c7f",
   "metadata": {},
   "source": [
    "[1 x] 만들기"
   ]
  },
  {
   "cell_type": "code",
   "execution_count": 25,
   "id": "ef8dd2d7-f3f2-4759-b31a-713dc0b6e54e",
   "metadata": {},
   "outputs": [
    {
     "data": {
      "text/plain": [
       "(tensor([1., 1., 1., 1., 1., 1., 1., 1., 1., 1., 1., 1., 1., 1., 1., 1., 1., 1.,\n",
       "         1., 1., 1., 1., 1., 1., 1., 1., 1., 1., 1., 1., 1., 1., 1., 1., 1., 1.,\n",
       "         1., 1., 1., 1., 1., 1., 1., 1., 1., 1., 1., 1., 1., 1., 1., 1., 1., 1.,\n",
       "         1., 1., 1., 1., 1., 1., 1., 1., 1., 1., 1., 1., 1., 1., 1., 1., 1., 1.,\n",
       "         1., 1., 1., 1., 1., 1., 1., 1., 1., 1., 1., 1., 1., 1., 1., 1., 1., 1.,\n",
       "         1., 1., 1., 1., 1., 1., 1., 1., 1., 1.]),\n",
       " tensor([-2.4821, -2.3621, -1.9973, -1.6239, -1.4792, -1.4635, -1.4509, -1.4435,\n",
       "         -1.3722, -1.3079, -1.1904, -1.1092, -1.1054, -1.0875, -0.9469, -0.9319,\n",
       "         -0.8643, -0.7858, -0.7549, -0.7421, -0.6948, -0.6103, -0.5830, -0.5621,\n",
       "         -0.5506, -0.5058, -0.4806, -0.4738, -0.4710, -0.4676, -0.3874, -0.3719,\n",
       "         -0.3688, -0.3159, -0.2775, -0.2772, -0.2734, -0.2721, -0.2668, -0.2155,\n",
       "         -0.2000, -0.1816, -0.1708, -0.1565, -0.1448, -0.1361, -0.1057, -0.0603,\n",
       "         -0.0559, -0.0214,  0.0655,  0.0684,  0.1195,  0.1420,  0.1521,  0.1568,\n",
       "          0.2646,  0.2656,  0.3157,  0.3220,  0.3461,  0.3984,  0.4190,  0.5443,\n",
       "          0.5579,  0.5913,  0.6148,  0.6469,  0.6469,  0.6523,  0.6674,  0.7059,\n",
       "          0.7141,  0.7822,  0.8154,  0.8668,  0.9291,  0.9804,  0.9853,  0.9941,\n",
       "          1.0376,  1.0393,  1.0697,  1.1024,  1.1126,  1.1532,  1.2289,  1.3403,\n",
       "          1.3494,  1.4279,  1.4994,  1.5031,  1.5437,  1.6789,  2.0832,  2.2444,\n",
       "          2.3935,  2.6056,  2.6057,  2.6632]))"
      ]
     },
     "execution_count": 25,
     "metadata": {},
     "output_type": "execute_result"
    }
   ],
   "source": [
    "torch.ones(100) , x # 길이가 100인 vector"
   ]
  },
  {
   "cell_type": "code",
   "execution_count": 26,
   "id": "492113c3-8a6d-4dbd-9ef9-3aad4f3eef97",
   "metadata": {},
   "outputs": [
    {
     "name": "stdout",
     "output_type": "stream",
     "text": [
      "torch.Size([2, 100])\n",
      "torch.Size([100, 2])\n",
      "torch.Size([100, 2])\n"
     ]
    }
   ],
   "source": [
    "# torch.stack([torch.ones(100) , x]) # 좌우로 합치기 위해 stack 사용\n",
    "print(torch.stack([torch.ones(100) , x]).shape)\n",
    "# torch.stack([torch.ones(100) , x], axis=1) # 원했던 결과\n",
    "print(torch.stack([torch.ones(100) , x], axis=1).shape)\n",
    "\n",
    "# torch.stack([torch.ones(100) , x]).T # 다른 방법\n",
    "print(torch.stack([torch.ones(100) , x]).T.shape)"
   ]
  },
  {
   "cell_type": "code",
   "execution_count": 27,
   "id": "ddcb14ba-446d-4ea1-a6be-34bface6f203",
   "metadata": {},
   "outputs": [
    {
     "data": {
      "text/plain": [
       "torch.Size([100, 1])"
      ]
     },
     "execution_count": 27,
     "metadata": {},
     "output_type": "execute_result"
    }
   ],
   "source": [
    "X = torch.stack([torch.ones(100) , x], axis=1)\n",
    "W = torch.tensor([[2.5],[4.0]])\n",
    "y = X@W + eps.reshape(100,1)\n",
    "y.shape"
   ]
  },
  {
   "cell_type": "code",
   "execution_count": 28,
   "id": "5fa59e1f-b631-48e6-99e5-7cdf030b8662",
   "metadata": {},
   "outputs": [
    {
     "data": {
      "text/plain": [
       "[-8.542, -6.5767, -5.9496, -4.4794, -4.2516]"
      ]
     },
     "execution_count": 28,
     "metadata": {},
     "output_type": "execute_result"
    }
   ],
   "source": [
    "sales[:5]"
   ]
  },
  {
   "cell_type": "code",
   "execution_count": 29,
   "id": "2a903b6f-2470-4831-a333-065fd6d9589c",
   "metadata": {},
   "outputs": [
    {
     "data": {
      "text/plain": [
       "tensor([-8.5420, -6.5767, -5.9496, -4.4794, -4.2516])"
      ]
     },
     "execution_count": 29,
     "metadata": {},
     "output_type": "execute_result"
    }
   ],
   "source": [
    "y[:5,0]"
   ]
  },
  {
   "cell_type": "markdown",
   "id": "a8cef602-c287-4982-bea9-4d8ae25eada1",
   "metadata": {},
   "source": [
    "sales와 y 동일"
   ]
  },
  {
   "cell_type": "markdown",
   "id": "5f8ccec1-d87e-4b74-b2ff-95bcd047f585",
   "metadata": {},
   "source": [
    "🔬🗣️("
   ]
  },
  {
   "cell_type": "markdown",
   "id": "ebfc666b-36f8-4008-a80b-2e980935e941",
   "metadata": {},
   "source": [
    "> **(참고)** 인덱싱 관련 설명"
   ]
  },
  {
   "cell_type": "code",
   "execution_count": 30,
   "id": "71447714-d3c5-4ea6-83dc-f7e882af978e",
   "metadata": {},
   "outputs": [
    {
     "data": {
      "text/plain": [
       "tensor([[-8.5420],\n",
       "        [-6.5767],\n",
       "        [-5.9496],\n",
       "        [-4.4794],\n",
       "        [-4.2516]])"
      ]
     },
     "execution_count": 30,
     "metadata": {},
     "output_type": "execute_result"
    }
   ],
   "source": [
    "y[:5]"
   ]
  },
  {
   "cell_type": "markdown",
   "id": "b76426ac-e837-42f7-bdf2-4e619f86e50c",
   "metadata": {},
   "source": [
    "y는 matrix 이므로"
   ]
  },
  {
   "cell_type": "code",
   "execution_count": 31,
   "id": "fe51e20e-8ed6-4865-a94a-f05456c14751",
   "metadata": {},
   "outputs": [
    {
     "data": {
      "text/plain": [
       "tensor([[-8.5420],\n",
       "        [-6.5767],\n",
       "        [-5.9496],\n",
       "        [-4.4794],\n",
       "        [-4.2516]])"
      ]
     },
     "execution_count": 31,
     "metadata": {},
     "output_type": "execute_result"
    }
   ],
   "source": [
    "y[:5,[0]] # column vector처럼 됨"
   ]
  },
  {
   "cell_type": "code",
   "execution_count": 32,
   "id": "a74d3509-d74f-4a69-ad14-ca912fcb19c7",
   "metadata": {},
   "outputs": [],
   "source": [
    "# y[:,:] # y가 그대로 나옴"
   ]
  },
  {
   "cell_type": "code",
   "execution_count": 33,
   "id": "ea39c475-b3b1-4cfa-99c7-88a8e5dfc706",
   "metadata": {},
   "outputs": [
    {
     "data": {
      "text/plain": [
       "tensor([[-8.5420],\n",
       "        [-6.5767],\n",
       "        [-5.9496],\n",
       "        [-4.4794],\n",
       "        [-4.2516]])"
      ]
     },
     "execution_count": 33,
     "metadata": {},
     "output_type": "execute_result"
    }
   ],
   "source": [
    "y[:5,:] # 그 중 5개만"
   ]
  },
  {
   "cell_type": "markdown",
   "id": "d452173b-8e50-4ffb-9aa6-8c7576907927",
   "metadata": {},
   "source": [
    "나열 방식만 다르고 값은 sales와 똑같음"
   ]
  },
  {
   "cell_type": "markdown",
   "id": "f44c57aa-a936-419a-bcc7-0e3e8d0d8270",
   "metadata": {},
   "source": [
    ")🔬🗣️"
   ]
  },
  {
   "cell_type": "code",
   "execution_count": 34,
   "id": "3df15873-5798-4692-b429-c6b4180f91c0",
   "metadata": {},
   "outputs": [
    {
     "data": {
      "text/plain": [
       "tensor([-2.4821, -2.3621, -1.9973, -1.6239, -1.4792, -1.4635, -1.4509, -1.4435,\n",
       "        -1.3722, -1.3079, -1.1904, -1.1092, -1.1054, -1.0875, -0.9469, -0.9319,\n",
       "        -0.8643, -0.7858, -0.7549, -0.7421, -0.6948, -0.6103, -0.5830, -0.5621,\n",
       "        -0.5506, -0.5058, -0.4806, -0.4738, -0.4710, -0.4676, -0.3874, -0.3719,\n",
       "        -0.3688, -0.3159, -0.2775, -0.2772, -0.2734, -0.2721, -0.2668, -0.2155,\n",
       "        -0.2000, -0.1816, -0.1708, -0.1565, -0.1448, -0.1361, -0.1057, -0.0603,\n",
       "        -0.0559, -0.0214,  0.0655,  0.0684,  0.1195,  0.1420,  0.1521,  0.1568,\n",
       "         0.2646,  0.2656,  0.3157,  0.3220,  0.3461,  0.3984,  0.4190,  0.5443,\n",
       "         0.5579,  0.5913,  0.6148,  0.6469,  0.6469,  0.6523,  0.6674,  0.7059,\n",
       "         0.7141,  0.7822,  0.8154,  0.8668,  0.9291,  0.9804,  0.9853,  0.9941,\n",
       "         1.0376,  1.0393,  1.0697,  1.1024,  1.1126,  1.1532,  1.2289,  1.3403,\n",
       "         1.3494,  1.4279,  1.4994,  1.5031,  1.5437,  1.6789,  2.0832,  2.2444,\n",
       "         2.3935,  2.6056,  2.6057,  2.6632])"
      ]
     },
     "execution_count": 34,
     "metadata": {},
     "output_type": "execute_result"
    }
   ],
   "source": [
    "X = torch.stack([torch.ones(100) , x], axis=1) # (100, 2)\n",
    "W = torch.tensor([[2.5],[4.0]]) # (2, 1)\n",
    "y = X@W + eps.reshape(100,1) # (100, 1)\n",
    "x # 아마도 (100,) "
   ]
  },
  {
   "cell_type": "markdown",
   "id": "3ff8e26d-5e68-4033-88d3-1ab9841a406b",
   "metadata": {},
   "source": [
    "(100,)을 (100,1)로 바꾸고 싶음"
   ]
  },
  {
   "cell_type": "code",
   "execution_count": 35,
   "id": "8d4a5bbf-b9cb-45b3-a8d3-34120ba72260",
   "metadata": {},
   "outputs": [],
   "source": [
    "torch.manual_seed(43052)\n",
    "x,_ = torch.randn(100).sort()\n",
    "eps = torch.randn(100)*0.5\n",
    "y = x * 4 + 2.5 + eps\n",
    "\n",
    "X = torch.stack([torch.ones(100) , x], axis=1) # (100, 2)\n",
    "W = torch.tensor([[2.5],[4.0]]) # (2, 1)\n",
    "y = X@W + eps.reshape(100,1) # (100, 1)\n",
    "x = X[:,[1]]"
   ]
  },
  {
   "cell_type": "code",
   "execution_count": 36,
   "id": "d790dac7-ad31-4606-9695-0aae383fd9a4",
   "metadata": {},
   "outputs": [
    {
     "data": {
      "text/plain": [
       "(tensor([[-2.4821],\n",
       "         [-2.3621],\n",
       "         [-1.9973],\n",
       "         [-1.6239],\n",
       "         [-1.4792]]),\n",
       " tensor([[-8.5420],\n",
       "         [-6.5767],\n",
       "         [-5.9496],\n",
       "         [-4.4794],\n",
       "         [-4.2516]]))"
      ]
     },
     "execution_count": 36,
     "metadata": {},
     "output_type": "execute_result"
    }
   ],
   "source": [
    "x[:5], y[:5]"
   ]
  },
  {
   "cell_type": "code",
   "execution_count": 37,
   "id": "415d0ae3-94c6-443b-8c72-5a341a261ca8",
   "metadata": {},
   "outputs": [
    {
     "data": {
      "text/plain": [
       "([-2.4821, -2.3621, -1.9973, -1.6239, -1.4792],\n",
       " [-8.542, -6.5767, -5.9496, -4.4794, -4.2516])"
      ]
     },
     "execution_count": 37,
     "metadata": {},
     "output_type": "execute_result"
    }
   ],
   "source": [
    "temp[:5], sales[:5]"
   ]
  },
  {
   "cell_type": "markdown",
   "id": "b0b50935-7d16-4e6f-ac74-a597f3cc5912",
   "metadata": {},
   "source": [
    "방법 2처럼 matrix로도 가능하다는 것을 확인"
   ]
  },
  {
   "cell_type": "markdown",
   "id": "54f71602-12a1-4e9a-a5af-21c666a9fb24",
   "metadata": {},
   "source": [
    ")🗣️"
   ]
  },
  {
   "cell_type": "markdown",
   "id": "f3dc7021-dcb1-4a96-b241-8e7799f5175f",
   "metadata": {},
   "source": [
    "📝("
   ]
  },
  {
   "cell_type": "markdown",
   "id": "6482783d-4067-42b7-a653-675bb46f05b7",
   "metadata": {},
   "source": [
    "```python\n",
    "X = torch.stack([torch.ones(100),x],axis=1)\n",
    "W = torch.tensor([[2.5],[4.0]])\n",
    "y = X@W + eps.reshape(100,1)\n",
    "x = X[:,[1]]\n",
    "```"
   ]
  },
  {
   "cell_type": "markdown",
   "id": "723fb1e4-b658-4a92-9341-461d52dec672",
   "metadata": {},
   "source": [
    "✍️ 편의상 위의 코드는 실행시키지 않음"
   ]
  },
  {
   "cell_type": "code",
   "execution_count": 38,
   "id": "611da82a-b100-42ec-ae32-fe5f96dda324",
   "metadata": {},
   "outputs": [
    {
     "data": {
      "text/plain": [
       "(tensor([[ 1.0000, -2.4821],\n",
       "         [ 1.0000, -2.3621],\n",
       "         [ 1.0000, -1.9973],\n",
       "         [ 1.0000, -1.6239],\n",
       "         [ 1.0000, -1.4792]]),\n",
       " tensor([[-8.5420],\n",
       "         [-6.5767],\n",
       "         [-5.9496],\n",
       "         [-4.4794],\n",
       "         [-4.2516]]))"
      ]
     },
     "execution_count": 38,
     "metadata": {},
     "output_type": "execute_result"
    }
   ],
   "source": [
    "X[:5,:], y[:5,:]"
   ]
  },
  {
   "cell_type": "markdown",
   "id": "b9ec7231-bad2-4d42-a31c-8a9ff15890e9",
   "metadata": {},
   "source": [
    ")📝"
   ]
  },
  {
   "cell_type": "markdown",
   "id": "863e2c0a-4b66-444e-8b7f-3be05aec6cf3",
   "metadata": {},
   "source": [
    "`-` ture와 observed data를 동시에 시각화 "
   ]
  },
  {
   "cell_type": "markdown",
   "id": "e844e36a-4c7b-4285-9091-377e86f1c84b",
   "metadata": {},
   "source": [
    "🗣️("
   ]
  },
  {
   "cell_type": "code",
   "execution_count": 39,
   "id": "a248039a-2e3f-488b-a1ca-7d1eedcf3519",
   "metadata": {},
   "outputs": [
    {
     "data": {
      "text/plain": [
       "[<matplotlib.lines.Line2D at 0x7fb27e107b50>]"
      ]
     },
     "execution_count": 39,
     "metadata": {},
     "output_type": "execute_result"
    },
    {
     "data": {
      "image/png": "[encoded data removed]",
      "text/plain": [
       "<Figure size 450x300 with 1 Axes>"
      ]
     },
     "metadata": {},
     "output_type": "display_data"
    }
   ],
   "source": [
    "plt.plot(temp, sales) # 이러한 데이터를 관측했다고 생각"
   ]
  },
  {
   "cell_type": "code",
   "execution_count": 40,
   "id": "a736b36e-dff0-4b42-b611-9d9b5224065c",
   "metadata": {},
   "outputs": [
    {
     "data": {
      "text/plain": [
       "[<matplotlib.lines.Line2D at 0x7fb27e078430>]"
      ]
     },
     "execution_count": 40,
     "metadata": {},
     "output_type": "execute_result"
    },
    {
     "data": {
      "image/png": "[encoded data removed]",
      "text/plain": [
       "<Figure size 450x300 with 1 Axes>"
      ]
     },
     "metadata": {},
     "output_type": "display_data"
    }
   ],
   "source": [
    "plt.plot(temp, sales, 'o') # scatter plot"
   ]
  },
  {
   "cell_type": "code",
   "execution_count": 41,
   "id": "e802413c-1ce6-44ad-b2c6-0b0a884c5bd5",
   "metadata": {},
   "outputs": [
    {
     "data": {
      "text/plain": [
       "[<matplotlib.lines.Line2D at 0x7fb27e058d30>]"
      ]
     },
     "execution_count": 41,
     "metadata": {},
     "output_type": "execute_result"
    },
    {
     "data": {
      "image/png": "[encoded data removed]",
      "text/plain": [
       "<Figure size 450x300 with 1 Axes>"
      ]
     },
     "metadata": {},
     "output_type": "display_data"
    }
   ],
   "source": [
    "plt.plot(x, y, 'o') # 위와 동일"
   ]
  },
  {
   "cell_type": "markdown",
   "id": "62953d0d-c6f4-4336-b301-6a38c8bcf586",
   "metadata": {},
   "source": [
    "x에서 y로 가는 패턴을 찾고 싶음"
   ]
  },
  {
   "cell_type": "code",
   "execution_count": 42,
   "id": "01387c0a-541f-45c8-bbd2-5dca1c18e1dc",
   "metadata": {},
   "outputs": [
    {
     "data": {
      "text/plain": [
       "<matplotlib.legend.Legend at 0x7fb27e00a970>"
      ]
     },
     "execution_count": 42,
     "metadata": {},
     "output_type": "execute_result"
    },
    {
     "data": {
      "image/png": "[encoded data removed]",
      "text/plain": [
       "<Figure size 450x300 with 1 Axes>"
      ]
     },
     "metadata": {},
     "output_type": "display_data"
    }
   ],
   "source": [
    "plt.plot(x, y, 'o', label=\"observed data\") # 관측한 값\n",
    "plt.legend()"
   ]
  },
  {
   "cell_type": "code",
   "execution_count": 43,
   "id": "118a15ca-be5b-4f97-889e-77392c052fb8",
   "metadata": {},
   "outputs": [
    {
     "data": {
      "text/plain": [
       "<matplotlib.legend.Legend at 0x7fb27df9c9d0>"
      ]
     },
     "execution_count": 43,
     "metadata": {},
     "output_type": "execute_result"
    },
    {
     "data": {
      "image/png": "[encoded data removed]",
      "text/plain": [
       "<Figure size 450x300 with 1 Axes>"
      ]
     },
     "metadata": {},
     "output_type": "display_data"
    }
   ],
   "source": [
    "plt.plot(x, y, 'o', label=\"observed data\") # 점선 + epsilon(통계적으로 설명할 수 없는 현상, random)\n",
    "plt.plot(x, 2.5 + 4*x, '--', label=\"true\") # 원래 관측되어야 했던 값\n",
    "plt.legend()"
   ]
  },
  {
   "cell_type": "markdown",
   "id": "794d30dd-6833-4791-bbe6-a27ab799ff9a",
   "metadata": {},
   "source": [
    "- 하고 싶은 것\n",
    "    - 카페 주인: 온도가 0.5일 때 얼마나 팔릴지 알고 싶음\n",
    "    - 가장 간단: 0.5를 점선 위에 올린 후 y 값을 예측 (0.5 * 4 + 2.5 = 4.5)\n",
    "    - 하지만 실제로는 파란색만 알고 있으므로 위의 방법은 cheating"
   ]
  },
  {
   "cell_type": "code",
   "execution_count": 44,
   "id": "beae2539-dd55-4073-8dc4-0b37535d967f",
   "metadata": {},
   "outputs": [
    {
     "data": {
      "text/plain": [
       "<matplotlib.legend.Legend at 0x7fb27def5a90>"
      ]
     },
     "execution_count": 44,
     "metadata": {},
     "output_type": "execute_result"
    },
    {
     "data": {
      "image/png": "[encoded data removed]",
      "text/plain": [
       "<Figure size 450x300 with 1 Axes>"
      ]
     },
     "metadata": {},
     "output_type": "display_data"
    }
   ],
   "source": [
    "plt.plot(x,y,'o',label=r\"observed data: $(x_i,y_i)$\")\n",
    "#plt.plot(x,2.5+4*x,'--',label=r\"true: $(x_i, 4x_i+2.5)$ // $y=4x+2.5$ \")\n",
    "plt.legend()"
   ]
  },
  {
   "cell_type": "markdown",
   "id": "7255140e-7c0b-4dbe-9982-865d296b9d5e",
   "metadata": {},
   "source": [
    "- 하고 싶은 것\n",
    "    - 위의 상태에서 적당한 추세선을 그려서 추정"
   ]
  },
  {
   "cell_type": "markdown",
   "id": "cabdc952-2cb7-4bac-ad7f-27d9da365419",
   "metadata": {},
   "source": [
    ")🗣️"
   ]
  },
  {
   "cell_type": "code",
   "execution_count": 45,
   "id": "2e5a3001-bb29-4fb5-a852-ef4ed285917d",
   "metadata": {},
   "outputs": [
    {
     "data": {
      "text/plain": [
       "<matplotlib.legend.Legend at 0x7fb27de1fc40>"
      ]
     },
     "execution_count": 45,
     "metadata": {},
     "output_type": "execute_result"
    },
    {
     "data": {
      "image/png": "[encoded data removed]",
      "text/plain": [
       "<Figure size 450x300 with 1 Axes>"
      ]
     },
     "metadata": {},
     "output_type": "display_data"
    }
   ],
   "source": [
    "plt.plot(x,y,'o',label=r\"observed data: $(x_i,y_i)$\")\n",
    "#plt.plot(x,2.5+4*x,'--',label=r\"true: $(x_i, 4x_i+2.5)$ // $y=4x+2.5$ \")\n",
    "plt.legend()"
   ]
  },
  {
   "cell_type": "markdown",
   "id": "e9fabde2-8279-47a8-86dc-3f12d44424d5",
   "metadata": {},
   "source": [
    "## C. 회귀분석이란?"
   ]
  },
  {
   "cell_type": "markdown",
   "id": "53309363-d53f-422b-aa79-a1f2722b18ce",
   "metadata": {},
   "source": [
    "`-` 클리셰: 관측한 자료 $(x_i,y_i)$ 가 있음 $\\to$ 우리는 $(x_i,y_i)$의 관계를 파악하여 새로운 $x$가 왔을때 그것에 대한 예측값(predicted value) $\\hat{y}$을 알아내는 법칙을 알고 싶음 $\\to$ 관계를 파악하기 위해서 $(x_i, y_i)$의 산점도를 그려보니 $x_i$와 $y_i$는 선형성을 가지고 있다는 것이 파악됨 $\\to$ 오차항이 등분산성을 가지고 어쩌고 저쩌고... $\\to$ 하여튼 $(x_i,y_i)$ 를 **\"적당히 잘 관통하는\"** 어떠한 하나의 추세선을 잘 추정하면 된다. "
   ]
  },
  {
   "cell_type": "markdown",
   "id": "a1e54786-c68f-4dcd-ad6d-1377392f9396",
   "metadata": {},
   "source": [
    "`-` 회귀분석이란 산점도를 보고 적당한 추세선을 찾는 것이다. 좀 더 정확하게 말하면\n",
    "$(x_1,y_1) \\dots (x_n,y_n)$ 으로 $\\begin{bmatrix} \\hat{w}_0 \\\\ \\hat{w}_1 \\end{bmatrix}$ 를 최대한 $\\begin{bmatrix} 2.5 \\\\ 4 \\end{bmatrix}$와 비슷하게 찾는 것.\n",
    "\n",
    "-   given data : $\\big\\{(x_i,y_i) \\big\\}_{i=1}^{n}$\n",
    "\n",
    "-   parameter: ${\\bf W}=\\begin{bmatrix} w_0 \\\\ w_1 \\end{bmatrix}$\n",
    "\n",
    "-   estimated parameter:\n",
    "    ${\\bf \\hat{W}}=\\begin{bmatrix} \\hat{w}_0 \\\\ \\hat{w}_1 \\end{bmatrix}$"
   ]
  },
  {
   "cell_type": "markdown",
   "id": "789c7b43-8b6a-4214-ada0-02d1fda7efaf",
   "metadata": {},
   "source": [
    "🗣️ y = ax + b 꼴에서 a, b를 정함"
   ]
  },
  {
   "cell_type": "markdown",
   "id": "af04bc94-3624-47c3-8cd4-2e2e3190e0ce",
   "metadata": {},
   "source": [
    "`-` 더 쉽게 말하면 아래의 그림을 보고 **\"적당한\"** 추세선을 찾는 것이다."
   ]
  },
  {
   "cell_type": "code",
   "execution_count": 46,
   "id": "282e6b94-ad11-4662-a297-974154f667e9",
   "metadata": {},
   "outputs": [
    {
     "data": {
      "text/plain": [
       "<matplotlib.legend.Legend at 0x7fb27dcfd4f0>"
      ]
     },
     "execution_count": 46,
     "metadata": {},
     "output_type": "execute_result"
    },
    {
     "data": {
      "image/png": "[encoded data removed]",
      "text/plain": [
       "<Figure size 450x300 with 1 Axes>"
      ]
     },
     "metadata": {},
     "output_type": "display_data"
    }
   ],
   "source": [
    "plt.plot(x,y,'o',label=r\"observed data: $(x_i,y_i)$\")\n",
    "plt.legend()"
   ]
  },
  {
   "cell_type": "markdown",
   "id": "c5d19911-7410-4b4e-85b1-e79ac522d7fd",
   "metadata": {},
   "source": [
    "`-` 추세선을 그리는 행위 = $(w_0,w_1)$을 선택하는일 "
   ]
  },
  {
   "cell_type": "markdown",
   "id": "6f643b53-6547-4a46-b6e4-24ad3398ed39",
   "metadata": {},
   "source": [
    "# 4. 손실함수 📝"
   ]
  },
  {
   "cell_type": "markdown",
   "id": "93e30746-ac6f-4206-9d91-502f1de87054",
   "metadata": {},
   "source": [
    "`# 예제1` -- $(\\hat{w}_0,\\hat{w}_1)=(-5,10)$을 선택하여 선을 그려보고 적당한지 판단해보자"
   ]
  },
  {
   "cell_type": "markdown",
   "id": "d9237460-c4ca-4adf-96a3-da296e93b4d7",
   "metadata": {},
   "source": [
    "🗣️("
   ]
  },
  {
   "cell_type": "code",
   "execution_count": 47,
   "id": "9693a596-bf36-4d64-84c6-45a15e44b5d5",
   "metadata": {},
   "outputs": [
    {
     "data": {
      "text/plain": [
       "[<matplotlib.lines.Line2D at 0x7fb27dc8a6d0>]"
      ]
     },
     "execution_count": 47,
     "metadata": {},
     "output_type": "execute_result"
    },
    {
     "data": {
      "image/png": "[encoded data removed]",
      "text/plain": [
       "<Figure size 450x300 with 1 Axes>"
      ]
     },
     "metadata": {},
     "output_type": "display_data"
    }
   ],
   "source": [
    "plt.plot(x,y,'o',label=r\"observed data: $(x_i,y_i)$\")"
   ]
  },
  {
   "cell_type": "markdown",
   "id": "1928f964-2189-4079-a877-a03b802c259d",
   "metadata": {},
   "source": [
    "여기에 y = -5 + 10x 을 추세선으로 그리면"
   ]
  },
  {
   "cell_type": "code",
   "execution_count": 48,
   "id": "783261a8-5302-4182-81df-c81dcee99c8e",
   "metadata": {},
   "outputs": [
    {
     "data": {
      "text/plain": [
       "<matplotlib.legend.Legend at 0x7fb27dff1df0>"
      ]
     },
     "execution_count": 48,
     "metadata": {},
     "output_type": "execute_result"
    },
    {
     "data": {
      "image/png": "[encoded data removed]",
      "text/plain": [
       "<Figure size 450x300 with 1 Axes>"
      ]
     },
     "metadata": {},
     "output_type": "display_data"
    }
   ],
   "source": [
    "plt.plot(x,y,'o',label=r\"observed data: $(x_i,y_i)$\")\n",
    "plt.plot(x, -5+10*x, '--', label=r\"estimated line\")\n",
    "plt.legend()"
   ]
  },
  {
   "cell_type": "markdown",
   "id": "f28d2e2c-89d1-4548-83e3-55a097d3a893",
   "metadata": {},
   "source": [
    "적당하지 않고 이상해보임"
   ]
  },
  {
   "cell_type": "markdown",
   "id": "7dd1ba58-03c9-46bd-a0bb-4b6b696b2dd6",
   "metadata": {},
   "source": [
    "아래와 같이도 표현 가능"
   ]
  },
  {
   "cell_type": "code",
   "execution_count": 49,
   "id": "f505a83b-8cd7-4f93-8346-57634cae94d8",
   "metadata": {},
   "outputs": [
    {
     "data": {
      "text/plain": [
       "<matplotlib.legend.Legend at 0x7fb27dc9d2e0>"
      ]
     },
     "execution_count": 49,
     "metadata": {},
     "output_type": "execute_result"
    },
    {
     "data": {
      "image/png": "[encoded data removed]",
      "text/plain": [
       "<Figure size 450x300 with 1 Axes>"
      ]
     },
     "metadata": {},
     "output_type": "display_data"
    }
   ],
   "source": [
    "plt.plot(x,y,'o',label=r\"observed data: $(x_i,y_i)$\")\n",
    "What = torch.tensor([[-5.0], [10.0]])\n",
    "plt.plot(x, X@What, '--', label=r\"estimated line\")\n",
    "plt.legend()"
   ]
  },
  {
   "cell_type": "markdown",
   "id": "f027a0b6-612b-4024-984d-8cbb9310efe3",
   "metadata": {},
   "source": [
    ")🗣️"
   ]
  },
  {
   "cell_type": "code",
   "execution_count": 50,
   "id": "6a80e79b-6b5e-4bf3-b45c-76a95ce43a18",
   "metadata": {},
   "outputs": [
    {
     "data": {
      "text/plain": [
       "<matplotlib.legend.Legend at 0x7fb27db8b190>"
      ]
     },
     "execution_count": 50,
     "metadata": {},
     "output_type": "execute_result"
    },
    {
     "data": {
      "image/png": "[encoded data removed]",
      "text/plain": [
       "<Figure size 450x300 with 1 Axes>"
      ]
     },
     "metadata": {},
     "output_type": "display_data"
    }
   ],
   "source": [
    "plt.plot(x,y,'o',label=r\"observed data: $(x_i,y_i)$\") \n",
    "What = torch.tensor([[-5.0],[10.0]])\n",
    "plt.plot(x,X@What,'--',label=r\"estimated line: $(x_i,\\hat{y}_i)$\")\n",
    "plt.legend()"
   ]
  },
  {
   "cell_type": "markdown",
   "id": "b2568833-7e94-4605-b4c3-208628768a13",
   "metadata": {},
   "source": [
    "`#`"
   ]
  },
  {
   "cell_type": "markdown",
   "id": "d99f8b29-4d74-4b38-96bf-dd4e33fbb75d",
   "metadata": {},
   "source": [
    "`# 예제2` -- $(\\hat{w}_0,\\hat{w}_1)=(2.5,3.5)$을 선택하여 선을 그려보고 적당한지 판단해보자"
   ]
  },
  {
   "cell_type": "markdown",
   "id": "2a0ca999-7bb3-4419-8e2e-fc5ebac5a6e9",
   "metadata": {},
   "source": [
    "🗣️ 절편을 올리고 기울기를 낮춤 -> 거의 비슷해짐"
   ]
  },
  {
   "cell_type": "code",
   "execution_count": 51,
   "id": "2e81abb0-29b8-458a-b596-042aedcccc33",
   "metadata": {},
   "outputs": [
    {
     "data": {
      "text/plain": [
       "<matplotlib.legend.Legend at 0x7fb27db24ac0>"
      ]
     },
     "execution_count": 51,
     "metadata": {},
     "output_type": "execute_result"
    },
    {
     "data": {
      "image/png": "[encoded data removed]",
      "text/plain": [
       "<Figure size 450x300 with 1 Axes>"
      ]
     },
     "metadata": {},
     "output_type": "display_data"
    }
   ],
   "source": [
    "plt.plot(x,y,'o',label=r\"observed data: $(x_i,y_i)$\") \n",
    "What = torch.tensor([[2.5],[3.5]])\n",
    "plt.plot(x,X@What,'--',label=r\"estimated line: $(x_i,\\hat{y}_i)$\")\n",
    "plt.legend()"
   ]
  },
  {
   "cell_type": "markdown",
   "id": "b361e003-7db4-4ab2-b30d-1893bdd739b0",
   "metadata": {},
   "source": [
    "`#`"
   ]
  },
  {
   "cell_type": "markdown",
   "id": "309fb32e-655a-41ad-87d7-32aa605b17c5",
   "metadata": {},
   "source": [
    "`# 예제3` -- $(\\hat{w}_0,\\hat{w}_1)=(2.3,3.5)$을 선택하여 선을 그려보고 적당한지 판단해보자"
   ]
  },
  {
   "cell_type": "markdown",
   "id": "91a8dcd2-814c-4bb5-8a06-b1a0033d7e26",
   "metadata": {},
   "source": [
    "🗣️("
   ]
  },
  {
   "cell_type": "markdown",
   "id": "f6464ab3-e7df-4553-812b-a4a4cb9a511c",
   "metadata": {},
   "source": [
    "- (2.5, 3.5), (2.3, 3.5) 둘 다 적당해보이는데 뭐가 더 적당한지 모르겠음\n",
    "- True 값은 (2.5, 4.0), 예제 2는 2.5라도 맞췄지만 예제 3은 둘 다 틀림\n",
    "- 하지만 위처럼 비교하는 것 역시 cheating\n",
    "- 실제로는 그림을 보고 따져야 함"
   ]
  },
  {
   "cell_type": "markdown",
   "id": "451c4449-c15d-4170-8f9a-a58df03ac1e6",
   "metadata": {},
   "source": [
    ")🗣️"
   ]
  },
  {
   "cell_type": "code",
   "execution_count": 52,
   "id": "ea6dc899-6bdb-4b77-884b-fd0fffe5a02e",
   "metadata": {},
   "outputs": [
    {
     "data": {
      "text/plain": [
       "<matplotlib.legend.Legend at 0x7fb27daab3a0>"
      ]
     },
     "execution_count": 52,
     "metadata": {},
     "output_type": "execute_result"
    },
    {
     "data": {
      "image/png": "[encoded data removed]",
      "text/plain": [
       "<Figure size 450x300 with 1 Axes>"
      ]
     },
     "metadata": {},
     "output_type": "display_data"
    }
   ],
   "source": [
    "plt.plot(x,y,'o',label=r\"observed data: $(x_i,y_i)$\") \n",
    "What = torch.tensor([[2.3],[3.5]])\n",
    "plt.plot(x,X@What,'--',label=r\"estimated line: $(x_i,\\hat{y}_i)$\")\n",
    "plt.legend()"
   ]
  },
  {
   "cell_type": "code",
   "execution_count": 53,
   "id": "3080dfd5-40ab-466f-8616-ca054053fe23",
   "metadata": {
    "scrolled": true
   },
   "outputs": [
    {
     "data": {
      "text/plain": [
       "<matplotlib.legend.Legend at 0x7fb27d9ff0a0>"
      ]
     },
     "execution_count": 53,
     "metadata": {},
     "output_type": "execute_result"
    },
    {
     "data": {
      "image/png": "[encoded data removed]",
      "text/plain": [
       "<Figure size 450x300 with 1 Axes>"
      ]
     },
     "metadata": {},
     "output_type": "display_data"
    }
   ],
   "source": [
    "plt.plot(x,y,'o',label=r\"observed data: $(x_i,y_i)$\") \n",
    "What = torch.tensor([[2.3],[3.5]])\n",
    "plt.plot(x,X@What,'--',label=r\"estimated: $(x_i,\\hat{y}_i)$\")\n",
    "plt.legend()"
   ]
  },
  {
   "cell_type": "markdown",
   "id": "93e073ca-7e8b-4978-ac1c-738f9ab5b3fd",
   "metadata": {},
   "source": [
    "`#`"
   ]
  },
  {
   "cell_type": "markdown",
   "id": "dbbc1750-360e-4957-80f2-e1046694c42d",
   "metadata": {},
   "source": [
    "`# 예제4` -- 예제2의 추세선과 예제3의 추세선 중 뭐가 더 적당한가?"
   ]
  },
  {
   "cell_type": "markdown",
   "id": "c2352eb2-82b2-4ff4-9169-ac7a26d18c47",
   "metadata": {},
   "source": [
    "`-` (고민) 왠지 예제2가 더 적당하다고 답해야할 것 같은데.. 육안으로 판단하기 까다롭다.. "
   ]
  },
  {
   "cell_type": "markdown",
   "id": "4653b107-9d6d-4bdb-8d70-60558a2f3acf",
   "metadata": {},
   "source": [
    "`-` 적당함을 수식화 할 수 없을까? "
   ]
  },
  {
   "cell_type": "markdown",
   "id": "8d5e50a0-600a-4d42-8d10-1f4146ff6bf2",
   "metadata": {},
   "source": [
    "`-` \"적당한 정도\"를 판단하기 위한 장치: loss의 개념 도입 \n",
    "\n",
    "$loss = \\sum_{i=1}^{n}(y_i- \\hat{y}_i)^2 = \\sum_{i=1}^{n}\\big(y_i - (\\hat{w}_0+\\hat{w}_1x_i)\\big)^2$\n",
    "\n",
    "$=({\\bf y}-\\hat{\\bf y})^\\top({\\bf y}-\\hat{\\bf y})=({\\bf y}-{\\bf X}\\hat{\\bf W})^\\top({\\bf y}-{\\bf X}\\hat{\\bf W})$\n"
   ]
  },
  {
   "cell_type": "markdown",
   "id": "227962bc-c8aa-443a-826a-17f4ac1df380",
   "metadata": {},
   "source": [
    "🗣️ 위의 식은 직관적으로 이해할 때 편하고, 아래 식은 코드를 짤 때 편함"
   ]
  },
  {
   "cell_type": "markdown",
   "id": "eab31640-4d1c-4559-879b-3818d32544f9",
   "metadata": {},
   "source": [
    "`-` loss의 특징\n",
    "\n",
    "- $y_i \\approx \\hat{y}_i$ 일수록 loss 값이 작음\n",
    "- $y_i \\approx \\hat{y}_i$ 이 되도록 $(\\hat{w}_0, \\hat{w}_1)$을 잘 찍으면 loss 값이 작음\n",
    "- 주황색 점선이 \"적당할수록\" loss 값이 작음 (그럼 우리 의도대로 된거네?)"
   ]
  },
  {
   "cell_type": "markdown",
   "id": "be41705e-0547-40a2-8dd3-2874b643236a",
   "metadata": {},
   "source": [
    "`-` loss를 써먹어보자. "
   ]
  },
  {
   "cell_type": "markdown",
   "id": "f77b8f8d-6d91-45f2-ac8a-cc9dc862ef33",
   "metadata": {},
   "source": [
    "🗣️ 육안으로는 판단하기 어렵지만 숫자로 보니 [[2.5], [3,5]]가 더 잘했다고 할 수 있음"
   ]
  },
  {
   "cell_type": "code",
   "execution_count": 54,
   "id": "209d72df-02a5-4f93-945c-f29ec56bcf6e",
   "metadata": {},
   "outputs": [
    {
     "name": "stdout",
     "output_type": "stream",
     "text": [
      "loss: 55.074012756347656\n",
      "loss: 59.3805046081543\n"
     ]
    }
   ],
   "source": [
    "What = torch.tensor([[2.5],[3.5]]) # 예제2에서 찍은 What값 \n",
    "print(f\"loss: {torch.sum((y - X@What)**2)}\")\n",
    "\n",
    "What = torch.tensor([[2.3],[3.5]]) # 예제3에서 찍은 What값\n",
    "print(f\"loss: {torch.sum((y - X@What)**2)}\")"
   ]
  },
  {
   "cell_type": "code",
   "execution_count": 55,
   "id": "4efa6269-9e5d-4787-85aa-6dd1989589fb",
   "metadata": {},
   "outputs": [
    {
     "name": "stdout",
     "output_type": "stream",
     "text": [
      "loss: tensor([[55.0740]])\n",
      "loss: tensor([[59.3805]])\n"
     ]
    }
   ],
   "source": [
    "What = torch.tensor([[2.5],[3.5]]) # 예제2에서 찍은 What값 \n",
    "print(f\"loss: {(y - X@What).T @ (y - X@What)}\")\n",
    "\n",
    "What = torch.tensor([[2.3],[3.5]]) # 예제3에서 찍은 What값\n",
    "print(f\"loss: {(y - X@What).T @ (y - X@What)}\")"
   ]
  },
  {
   "cell_type": "markdown",
   "id": "16c9260e-b045-4a82-b1e7-319ff79654e3",
   "metadata": {},
   "source": [
    "`#`"
   ]
  },
  {
   "cell_type": "markdown",
   "id": "d51c4bf4-97d0-4406-bd98-9efcbe9e3208",
   "metadata": {},
   "source": [
    "🗣️ loss function의 의미: 어떠한 선이 있을 때, 그 선이 얼마나 적당한지 measure. 높을수록 좋은 score와 달리 낮을수록 좋음."
   ]
  },
  {
   "cell_type": "markdown",
   "id": "56e32cb9-7855-49bd-8590-756c85197a97",
   "metadata": {},
   "source": [
    "# 5. 파이토치를 이용한 반복추정 📝"
   ]
  },
  {
   "cell_type": "markdown",
   "id": "8c44027c-b5b8-42af-98f1-70bbac2b745f",
   "metadata": {},
   "source": [
    "`-` **추정의 전략 (손실함수도입 + 경사하강법)**\n",
    "\n",
    "-   1단계: 아무 점선이나 그어본다..\n",
    "-   2단계: 1단계에서 그은 점선보다 더 좋은 점선으로 바꾼다. (=1단계에서 그은 점선보다 손실값이 작은 하나의 직선을 찾는다) \n",
    "-   3단계: 1-2단계를 반복한다."
   ]
  },
  {
   "cell_type": "markdown",
   "id": "76d7653e-62d1-4161-98c9-5f071d64e057",
   "metadata": {},
   "source": [
    "🗣️ 말은 쉽지만 2단계는 매우 어려움 --> technic 필요: 경사하강법"
   ]
  },
  {
   "cell_type": "markdown",
   "id": "88cc22b9-9ec8-4032-a79a-4c27ae799c58",
   "metadata": {},
   "source": [
    "## A. 1단계 -- 최초의 점선 "
   ]
  },
  {
   "cell_type": "markdown",
   "id": "be9cc65d-cde1-4bfa-b1aa-3f499fdb4556",
   "metadata": {},
   "source": [
    "🗣️("
   ]
  },
  {
   "cell_type": "code",
   "execution_count": 61,
   "id": "fc1e1c76-1821-4df4-b81f-ec40dcb58c8b",
   "metadata": {
    "tags": []
   },
   "outputs": [
    {
     "data": {
      "text/plain": [
       "tensor([[-5.],\n",
       "        [10.]], requires_grad=True)"
      ]
     },
     "execution_count": 61,
     "metadata": {},
     "output_type": "execute_result"
    }
   ],
   "source": [
    "What = torch.tensor([[-5.0],[10.0]], requires_grad=True)\n",
    "What"
   ]
  },
  {
   "cell_type": "code",
   "execution_count": 62,
   "id": "f88715c1-1d1d-45fb-9edb-6dcc0cf9e5bf",
   "metadata": {},
   "outputs": [],
   "source": [
    "yhat = X@What"
   ]
  },
  {
   "cell_type": "code",
   "execution_count": 65,
   "id": "6a7a62ed-ffcc-4f33-8946-1832f7eeee58",
   "metadata": {},
   "outputs": [],
   "source": [
    "# plt.plot(x, y, 'o')\n",
    "# plt.plot(x, yhat, '--')"
   ]
  },
  {
   "cell_type": "markdown",
   "id": "969e1122-141d-41c6-8c60-85cf68a35d32",
   "metadata": {},
   "source": [
    "- 실행시키면 error\n",
    "- requires_grad=True를 없애면 error 발생 X\n",
    "- requires_grad=True\n",
    "    - 미분이 필요함을 나타내는 옵션\n",
    "    - 지금은 의미를 정확하게 알 수 없지만 편의상 이름을 `미분꼬리표`라고 부르겠음"
   ]
  },
  {
   "cell_type": "code",
   "execution_count": 66,
   "id": "41ac7c51-be1a-4dad-bffe-1a8bfb3c6adf",
   "metadata": {},
   "outputs": [
    {
     "data": {
      "text/plain": [
       "tensor([[-4.],\n",
       "        [11.]], grad_fn=<AddBackward0>)"
      ]
     },
     "execution_count": 66,
     "metadata": {},
     "output_type": "execute_result"
    }
   ],
   "source": [
    "What+1"
   ]
  },
  {
   "cell_type": "markdown",
   "id": "b741995e-b349-4796-b0e2-c5634e598329",
   "metadata": {},
   "source": [
    "- 꼬리표가 바뀌긴 하나 큰 지장은 없음"
   ]
  },
  {
   "cell_type": "code",
   "execution_count": 68,
   "id": "e021ba0d-3e1d-4224-9d58-d25225aa8037",
   "metadata": {},
   "outputs": [],
   "source": [
    "# yhat"
   ]
  },
  {
   "cell_type": "markdown",
   "id": "5d66ffa5-ce0a-4ffc-b558-4ca3d4ea29d8",
   "metadata": {},
   "source": [
    "- yhat을 실행시켜도 계산을 잘 되나 꼬리표가 있음\n",
    "- 꼬리표 때문에 그래프를 그리면 error가 발생\n",
    "- 해결책 (꼬리표를 제거한다고 생각, 꼬리표가 있으면 계산은 가능하나 그래프 그리기 불가능)\n",
    "    - RuntimeError: Can't call numpy() on Tensor that requires grad. Use tensor.detach().numpy() instead.\n",
    "    - .data"
   ]
  },
  {
   "cell_type": "code",
   "execution_count": 70,
   "id": "9b450b97-a3e2-4dc9-a933-604922f63025",
   "metadata": {},
   "outputs": [],
   "source": [
    "# yhat.detach()"
   ]
  },
  {
   "cell_type": "code",
   "execution_count": 72,
   "id": "fe48e214-10d2-4df8-8675-5f05d181b13a",
   "metadata": {},
   "outputs": [],
   "source": [
    "# yhat.data"
   ]
  },
  {
   "cell_type": "code",
   "execution_count": 73,
   "id": "8ece3412-c28e-4a31-b817-120a2597a00f",
   "metadata": {},
   "outputs": [
    {
     "data": {
      "text/plain": [
       "[<matplotlib.lines.Line2D at 0x7fb27b1fdbe0>]"
      ]
     },
     "execution_count": 73,
     "metadata": {},
     "output_type": "execute_result"
    },
    {
     "data": {
      "image/png": "[encoded data removed]",
      "text/plain": [
       "<Figure size 450x300 with 1 Axes>"
      ]
     },
     "metadata": {},
     "output_type": "display_data"
    }
   ],
   "source": [
    "plt.plot(x, y, 'o')\n",
    "plt.plot(x, yhat.detach(), '--') # 그림을 그리기 위해서 yhat의 미분꼬리표를 제거"
   ]
  },
  {
   "cell_type": "markdown",
   "id": "b3a39578-a0f2-4c4a-9d5c-97d83990b0c8",
   "metadata": {},
   "source": [
    ")🗣️"
   ]
  },
  {
   "cell_type": "markdown",
   "id": "cde00ee5-421d-48ca-a907-c02712bdd357",
   "metadata": {},
   "source": [
    "🗣️ 그냥 아무 직선을 그음 (2단계만 잘 되면 상관 X)"
   ]
  },
  {
   "cell_type": "code",
   "execution_count": 74,
   "id": "4b23b8aa-08aa-4e33-aebd-4f0962be810b",
   "metadata": {
    "tags": []
   },
   "outputs": [
    {
     "data": {
      "text/plain": [
       "tensor([[-5.],\n",
       "        [10.]])"
      ]
     },
     "execution_count": 74,
     "metadata": {},
     "output_type": "execute_result"
    }
   ],
   "source": [
    "What = torch.tensor([[-5.0],[10.0]])\n",
    "What"
   ]
  },
  {
   "cell_type": "code",
   "execution_count": 75,
   "id": "39ce57eb-8069-412b-9134-f1cc26c2e183",
   "metadata": {
    "tags": []
   },
   "outputs": [],
   "source": [
    "yhat = X@What "
   ]
  },
  {
   "cell_type": "code",
   "execution_count": 76,
   "id": "038ae8eb-17fe-4490-83a7-87340258d6e7",
   "metadata": {
    "tags": []
   },
   "outputs": [
    {
     "data": {
      "text/plain": [
       "[<matplotlib.lines.Line2D at 0x7fb27b07b790>]"
      ]
     },
     "execution_count": 76,
     "metadata": {},
     "output_type": "execute_result"
    },
    {
     "data": {
      "image/png": "[encoded data removed]",
      "text/plain": [
       "<Figure size 450x300 with 1 Axes>"
      ]
     },
     "metadata": {},
     "output_type": "display_data"
    }
   ],
   "source": [
    "plt.plot(x,y,'o')\n",
    "plt.plot(x,yhat.data,'--')"
   ]
  },
  {
   "cell_type": "markdown",
   "id": "9e26eae0-b9dc-4f2c-b66f-97af6fadc320",
   "metadata": {},
   "source": [
    "## B. 2단계 -- update "
   ]
  },
  {
   "cell_type": "markdown",
   "id": "2017b86b-8d4a-4454-9bf7-80da720f0c97",
   "metadata": {},
   "source": [
    "`-` ’적당한 정도’를 판단하기 위한 장치: loss function 도입!\n",
    "\n",
    "$$loss=\\sum_{i=1}^{n}(y_i-\\hat{y}_i)^2=\\sum_{i=1}^{n}(y_i-(\\hat{w}_0+\\hat{w}_1x_i))^2=({\\bf y}-{\\bf\\hat{y}})^\\top({\\bf y}-{\\bf\\hat{y}})=({\\bf y}-{\\bf X}{\\bf \\hat{W}})^\\top({\\bf y}-{\\bf X}{\\bf \\hat{W}})$$"
   ]
  },
  {
   "cell_type": "markdown",
   "id": "855c5976-6ceb-4786-a803-5b250bbb222d",
   "metadata": {},
   "source": [
    "🗣️ loss는 $(\\hat{w}_0, \\hat{w}_1)$을 입력으로 받음. loss 값을 최소로 만드는 $(\\hat{w}_0, \\hat{w}_1)$을 찾으면 됨."
   ]
  },
  {
   "cell_type": "markdown",
   "id": "f4364c2c-9f50-4458-af69-41b7b0ecd82b",
   "metadata": {},
   "source": [
    "`-` loss 함수의 특징: 위 그림의 주황색 점선이 ‘적당할 수록’ loss값이 작다."
   ]
  },
  {
   "cell_type": "code",
   "execution_count": 77,
   "id": "ea6ff4c3-f92b-4b6a-a38a-28506180aa1b",
   "metadata": {},
   "outputs": [
    {
     "data": {
      "text/plain": [
       "[<matplotlib.lines.Line2D at 0x7fb27b06e400>]"
      ]
     },
     "execution_count": 77,
     "metadata": {},
     "output_type": "execute_result"
    },
    {
     "data": {
      "image/png": "[encoded data removed]",
      "text/plain": [
       "<Figure size 450x300 with 1 Axes>"
      ]
     },
     "metadata": {},
     "output_type": "display_data"
    }
   ],
   "source": [
    "plt.plot(x,y,'o')\n",
    "plt.plot(x,yhat)"
   ]
  },
  {
   "cell_type": "code",
   "execution_count": 78,
   "id": "cb13ab47-94a0-459c-8416-6990c2ad06d1",
   "metadata": {
    "tags": []
   },
   "outputs": [
    {
     "data": {
      "text/plain": [
       "tensor(8587.6875)"
      ]
     },
     "execution_count": 78,
     "metadata": {},
     "output_type": "execute_result"
    }
   ],
   "source": [
    "loss = torch.sum((y-yhat)**2)\n",
    "loss"
   ]
  },
  {
   "cell_type": "markdown",
   "id": "0c78e08b-3848-4a2a-bfb7-ab0286971519",
   "metadata": {},
   "source": [
    "`-` 우리의 목표: 이 loss(=8587.6275)을 더 줄이자. \n",
    "\n",
    "- 궁극적으로는 아예 모든 조합 $(\\hat{w}_0,\\hat{w}_1)$에 대하여 가장 작은 loss를 찾으면 좋겠다. "
   ]
  },
  {
   "cell_type": "markdown",
   "id": "c43daf15-4fa5-48fa-b2b0-213bc391490b",
   "metadata": {},
   "source": [
    "`-` 문제의 치환: 생각해보니까 우리의 문제는 아래와 같이 수학적으로 단순화 되었다.\n",
    "\n",
    "-   가장 적당한 주황색 선을 찾자 $\\to$ $loss(\\hat{w}_0,\\hat{w}_1)$를 최소로하는 $(\\hat{w}_0,\\hat{w}_1)$의 값을 찾자.\n",
    "\n",
    "`-` 수정된 목표: $loss(\\hat{w}_0,\\hat{w}_1)$를 최소로 하는 $(\\hat{w}_0,\\hat{w}_1)$을 구하라.\n",
    "\n",
    "-   단순한 수학문제가 되었다. 이것은 마치 $f(x,y)$를 최소화하는\n",
    "    $(x,y)$를 찾으라는 것임.\n",
    "-   함수의 최대값 혹은 최소값을 컴퓨터를 이용하여 찾는것을 “최적화”라고 하며 이는 산공교수님들이 가장 잘하는 분야임. (산공교수님들에게 부탁하면 잘해줌, 산공교수님들은 보통 최적화해서 어디에 쓸지보다 최적화 자체에 더 관심을 가지고 연구하심)\n",
    "-   최적화를 하는 방법? 경사하강법\n"
   ]
  },
  {
   "cell_type": "markdown",
   "id": "d0bf0cef-9258-4725-892e-d0a8a7026792",
   "metadata": {},
   "source": [
    "`# 경사하강법 아이디어 (1차원)`\n",
    "\n",
    "1.  임의의 점을 찍는다.\n",
    "2.  그 점에서 순간기울기를 구한다. (접선) \\<– 미분\n",
    "3.  순간기울기(=미분계수)의 부호를 살펴보고 부호와 반대방향으로 움직인다.\n",
    "\n",
    "> 팁: 기울기의 절대값 크기와 비례하여 보폭(=움직이는 정도)을 조절한다.\n",
    "> $\\to$ $\\alpha$를 도입\n",
    "\n",
    "> 최종수식:\n",
    "> $\\hat{w} \\leftarrow \\hat{w} - \\alpha \\times \\frac{\\partial}{\\partial w}loss(w)$\n",
    "\n",
    "`#`"
   ]
  },
  {
   "cell_type": "markdown",
   "id": "493f6bd5-d917-40bb-9582-d60fd9e60544",
   "metadata": {},
   "source": [
    "🗣️("
   ]
  },
  {
   "cell_type": "markdown",
   "id": "3378a7cc-383d-4275-aafe-93da5802fbe0",
   "metadata": {},
   "source": [
    "- 보폭: step size\n",
    "- 함수를 최고차항이 양수인 2차 함수로 생각하면 이해하기 쉬움\n",
    "    - x에서 a만큼 오른쪽으로 이동: x + a\n",
    "    - x에서 a만큼 왼쪽으로 이동: x - a\n",
    "    - 미분계수가 0인쪽으로 움직일 때\n",
    "        - x가 오른쪽에 있으면 미분계수 > 0\n",
    "        - x가 왼쪽에 있으면 미분계수 < 0\n",
    "    - 미분계수가 0인쪽과 가까울수록 접선 기울기의 절대값이 작아짐 -> $\\alpha$로 조절\n",
    "- $\\alpha$가 너무 작으면 수렴 속도가 느릴 수 있고, 너무 크면 수렴을 안할 수 있음\n",
    "    - 예시) $f(x) = x^2$ 에서 $x=2$일 때 $\\alpha = 1$이면 $x$는 $-2$와 $2$만 왔다갔다 함 "
   ]
  },
  {
   "cell_type": "markdown",
   "id": "56466a9a-867a-416f-a571-a56143d0999a",
   "metadata": {},
   "source": [
    ")🗣️"
   ]
  },
  {
   "cell_type": "markdown",
   "id": "601d9203-6e86-4ad9-9e77-c3c4ee3649a6",
   "metadata": {},
   "source": [
    "`# 경사하강법 아이디어 (2차원)`\n",
    "\n",
    "![](https://guebin.github.io/DL2024/posts/02wk-1_files/figure-html/cell-37-output-1.png)\n",
    "\n",
    "1.  임의의 점을 찍는다.\n",
    "2.  그 점에서 순간기울기를 구한다. (접평면) \\<– 편미분\n",
    "3.  순간기울기(=미분계수)의 부호를 살펴보고 부호와 반대방향으로 각각 움직인다.\n",
    "\n",
    "> 팁: 여기서도 기울기의 절대값 크기와 비례하여 보폭(=움직이는 정도)을 각각 조절한다. $\\to$ $\\alpha$를 도입.\n",
    "\n",
    "\n",
    "`#`"
   ]
  },
  {
   "cell_type": "markdown",
   "id": "b119f378-b59d-4168-a022-eb7c7948a7c0",
   "metadata": {},
   "source": [
    "🗣️("
   ]
  },
  {
   "cell_type": "markdown",
   "id": "69459326-6a2b-42ba-9428-e3401ba3e818",
   "metadata": {},
   "source": [
    "- 여기서 임의의 점은 2차원\n",
    "- 편미분: 하나만 변수로 보고 나머지 고정\n",
    "    - 이후 1차원 방식과 동일\n",
    "    - 어떤 방향(왼쪽, 오른쪽)으로 얼마나 갈 지($\\alpha$)"
   ]
  },
  {
   "cell_type": "markdown",
   "id": "cb20be1d-d172-493c-913a-58e3445628ff",
   "metadata": {},
   "source": [
    ")🗣️"
   ]
  },
  {
   "cell_type": "markdown",
   "id": "cddf58d9-1718-4209-a5ff-b5e12d339545",
   "metadata": {},
   "source": [
    "`-` 경사하강법 = **loss를 줄이도록 ${\\bf \\hat{W}}$를 개선하는 방법**\n",
    "\n",
    "-   업데이트 공식: 수정값 = 원래값 - $\\alpha$ $\\times$ 기울어진크기(=미분계수)\n",
    "-   여기에서 $\\alpha$는 전체적인 보폭의 크기를 결정한다. 즉 $\\alpha$값이 클수록 한번의 update에 움직이는 양이 크다."
   ]
  },
  {
   "cell_type": "markdown",
   "id": "9e704518-75be-42d4-9062-1c7019645c94",
   "metadata": {},
   "source": [
    "🗣️ $\\alpha$를 ML에서는 학습률이라고 함"
   ]
  },
  {
   "cell_type": "markdown",
   "id": "943a5388-7382-404b-aff0-e6b243e68931",
   "metadata": {},
   "source": [
    "`-` loss는 $\\hat{\\bf W} =\\begin{bmatrix} \\hat{w}_0 \\\\ \\hat{w}_1 \\end{bmatrix}$ 에 따라서 값이 바뀌는 함수로 해석가능하고 구체적인 형태는 아래와 같음."
   ]
  },
  {
   "cell_type": "markdown",
   "id": "44bceaea-8f7f-4304-b2d7-a1e16d754bb7",
   "metadata": {},
   "source": [
    "$$ loss(\\hat{w}_0,\\hat{w}_1) := loss(\\hat{\\bf W})=\\sum_{i=1}^{n}(y_i-(\\hat{w}_0+\\hat{w}_1x_i))^2=({\\bf y}-{\\bf X}{\\bf \\hat{W}})^\\top({\\bf y}-{\\bf X}{\\bf \\hat{W}})$$"
   ]
  },
  {
   "cell_type": "markdown",
   "id": "b3c46aca-7c92-45bf-95bc-c0a09278b485",
   "metadata": {},
   "source": [
    "따라서 구하고 싶은것은 아래와 같음 "
   ]
  },
  {
   "cell_type": "markdown",
   "id": "d2d0e8b0-12f2-4555-9471-37427e85e847",
   "metadata": {},
   "source": [
    "$$\\hat{\\bf W}^{LSE} = \\underset{\\bf \\hat{W}}{\\operatorname{argmin}} ~ loss(\\hat{\\bf W})$$"
   ]
  },
  {
   "cell_type": "markdown",
   "id": "68e29b21-9659-4ae7-bb26-3b3453dc2ca9",
   "metadata": {},
   "source": [
    ":::{.callout-warning}\n",
    "\n",
    "아래의 수식\n",
    "\n",
    "$$\\hat{\\bf W}^{LSE} = \\underset{\\bf \\hat{W}}{\\operatorname{argmin}} ~ loss(\\hat{\\bf W})$$\n",
    "\n",
    "은 아래와 같이 표현해도 무방합니다. \n",
    "\n",
    "$$\\hat{\\bf W} = \\underset{\\bf W}{\\operatorname{argmin}} ~ loss({\\bf W})$$ \n",
    "\n",
    "마치 함수 $f(\\hat{x})=({\\hat x}-1)^2$ 을 $f(x)=(x-1)^2$ 이라고 표현할 수 있는 것 처럼요..\n",
    ":::"
   ]
  },
  {
   "cell_type": "markdown",
   "id": "192a0ed3-5c85-477c-a429-52c6f2394b9e",
   "metadata": {},
   "source": [
    "***여기까지 01wk-2에서 수업했습니다~***"
   ]
  },
  {
   "cell_type": "markdown",
   "id": "b5a3538f-2ed2-44e1-96e8-4297d0fcbd50",
   "metadata": {},
   "source": [
    "--- "
   ]
  },
  {
   "cell_type": "markdown",
   "id": "753bf232-7fc2-4d72-82fd-7cd3f09cf904",
   "metadata": {},
   "source": [
    "***여기부터는 02wk-1에서..***"
   ]
  },
  {
   "cell_type": "markdown",
   "id": "ba581c37-f92d-4a26-b150-3c0d3313b049",
   "metadata": {},
   "source": [
    "`# 지난시간 복습`"
   ]
  },
  {
   "cell_type": "code",
   "execution_count": 80,
   "id": "f39cc40d-b915-488b-bcb8-74ba18285bb1",
   "metadata": {},
   "outputs": [],
   "source": [
    "# x,X,W,y // X = [1 x], W = [w0, w1]' # 회귀분석에서는 W=β\n",
    "# 회귀모형: y=X@W+ϵ = X@β+ϵ\n",
    "# true: E(y)=X@W\n",
    "# observed: (x,y)\n",
    "# estimated W = What = [w0hat, w1hat]' <-- 아무값이나넣었음.. \n",
    "# estimated y = yhat = X@What = X@β̂ \n",
    "# loss = yhat이랑 y랑 얼마나 비슷한지 = sum((y-yhat)^2)\n",
    "# (x,y) 보고 최적의 선분을 그리는것 = loss를 가장 작게 만드는 What = [w0hat, w1hat] 를 찾는것\n",
    "# 전략: (1) 아무 What나 찍는다 (2) 그거보다 더 나은 What을 찾는다. (3) 1-2를 반복한다. \n",
    "# 전략2가 어려운데, 이를 수행하는 방법이 경사하강법 \n",
    "# 경사하강법 알고리즘: 더나은What = 원래What - 0.1*미분값"
   ]
  },
  {
   "cell_type": "code",
   "execution_count": 81,
   "id": "a6b604d3-905e-4b0f-ae54-8b447e387382",
   "metadata": {},
   "outputs": [
    {
     "data": {
      "text/plain": [
       "tensor([[-5.],\n",
       "        [10.]])"
      ]
     },
     "execution_count": 81,
     "metadata": {},
     "output_type": "execute_result"
    }
   ],
   "source": [
    "What = torch.tensor([[-5.0],[10.0]])\n",
    "What"
   ]
  },
  {
   "cell_type": "code",
   "execution_count": 82,
   "id": "ed5a064b-2558-46d1-be3a-4fd3316cce86",
   "metadata": {},
   "outputs": [
    {
     "data": {
      "text/plain": [
       "[<matplotlib.lines.Line2D at 0x7fb27afe63d0>]"
      ]
     },
     "execution_count": 82,
     "metadata": {},
     "output_type": "execute_result"
    },
    {
     "data": {
      "image/png": "[encoded data removed]",
      "text/plain": [
       "<Figure size 450x300 with 1 Axes>"
      ]
     },
     "metadata": {},
     "output_type": "display_data"
    }
   ],
   "source": [
    "yhat = X@What \n",
    "plt.plot(x,y,'o')\n",
    "plt.plot(x,yhat,'--')"
   ]
  },
  {
   "cell_type": "code",
   "execution_count": 83,
   "id": "dfeab035-ffcb-4553-9471-a144ee07a274",
   "metadata": {},
   "outputs": [
    {
     "data": {
      "text/plain": [
       "tensor(8587.6875)"
      ]
     },
     "execution_count": 83,
     "metadata": {},
     "output_type": "execute_result"
    }
   ],
   "source": [
    "loss = torch.sum((y-yhat)**2)\n",
    "loss"
   ]
  },
  {
   "cell_type": "markdown",
   "id": "aefafe7a-86ff-4e94-8940-b8571b53ac5a",
   "metadata": {},
   "source": [
    "복습끝~"
   ]
  },
  {
   "cell_type": "markdown",
   "id": "ae8ee57a-29db-4a5f-9313-e38901c33640",
   "metadata": {},
   "source": [
    "`#`"
   ]
  },
  {
   "cell_type": "markdown",
   "id": "9e6aea82-d2e4-4d2d-9f48-c511a504cf6e",
   "metadata": {},
   "source": [
    "`-` 더 나은 선으로 업데이트하기 위해서는 공식 \"`더나은What = 원래What - 0.1*미분값`\" 를 적용해야하고 이를 위해서는 `미분값`을 계산할 수 있어야 함. "
   ]
  },
  {
   "cell_type": "markdown",
   "id": "a1319828-68c8-4bf5-8564-8eba2bcdef3b",
   "metadata": {},
   "source": [
    ":::{.callout-important}\n",
    "\n",
    "경사하강법을 좀 더 엄밀하게 써보자. 경사하강법은 $loss(\\hat{\\bf W})$를 최소로 만드는 $\\hat{\\bf W}$를 컴퓨터로 구하는 방법인데, 구체적으로는 아래와 같다. \n",
    "\n",
    "`1`. 임의의 점 $\\hat{\\bf W}$를 찍는다. \n",
    "\n",
    "`2`. 그 점에서 순간기울기를 구한다. 즉 $\\left.\\frac{\\partial}{\\partial {\\bf W}}loss({\\bf W})\\right|_{{\\bf W}=\\hat{\\bf W}}$ 를 계산한다. \n",
    "\n",
    "`3`. $\\hat{\\bf W}$에서의 순간기울기의 부호를 살펴보고 부호와 반대방향으로 움직인다. 이때 기울기의 절대값 크기와 비례하여 보폭(=움직이는 정도)을 각각 조절한다. 즉 아래의 수식에 따라 업데이트 한다. \n",
    "\n",
    "$$\\hat{\\bf W} \\leftarrow \\hat{\\bf W} - \\alpha \\times \\left.\\frac{\\partial}{\\partial {\\bf W}}loss({\\bf W})\\right|_{{\\bf W}=\\hat{\\bf W}}$$\n",
    "\n",
    "여기에서 맨 마지막 수식을 간단하게 쓴 것이 `더나은What = 원래What - 0.1*미분값` 이다.\n",
    ":::"
   ]
  },
  {
   "cell_type": "markdown",
   "id": "b554741b-df64-41b7-ae3f-34f215f6f543",
   "metadata": {},
   "source": [
    "`-` 미분값을 계산하는 방법1"
   ]
  },
  {
   "cell_type": "code",
   "execution_count": 84,
   "id": "e5539aae-397d-478b-bdf4-81173d76bf22",
   "metadata": {},
   "outputs": [],
   "source": [
    "# 손실 8587.6875 를 계산하는 또 다른 방식\n",
    "def l(w0,w1):\n",
    "    yhat = w0 + w1*x\n",
    "    return torch.sum((y-yhat)**2)"
   ]
  },
  {
   "cell_type": "code",
   "execution_count": 85,
   "id": "6f8c88af-57d9-4459-81e4-655802c03a7c",
   "metadata": {},
   "outputs": [
    {
     "data": {
      "text/plain": [
       "tensor(8587.6875)"
      ]
     },
     "execution_count": 85,
     "metadata": {},
     "output_type": "execute_result"
    }
   ],
   "source": [
    "l(-5,10)"
   ]
  },
  {
   "cell_type": "markdown",
   "id": "b0f4b35f-2149-4842-bbea-be2594df3421",
   "metadata": {},
   "source": [
    "🗣️("
   ]
  },
  {
   "cell_type": "markdown",
   "id": "3f0070cb-ab93-4e4f-b91d-52232105c8df",
   "metadata": {},
   "source": [
    "- 굳이 함수를 만든 이유: 미분하려고\n",
    "- 편미분 구현\n",
    "    - l(-5,10)\n",
    "    - (l(w0+h,w1) - l(w0,w1))/h: 도함수"
   ]
  },
  {
   "cell_type": "markdown",
   "id": "87ab1860-7f4b-45b9-8097-4ed8c75c59ca",
   "metadata": {},
   "source": [
    ")🗣️"
   ]
  },
  {
   "cell_type": "code",
   "execution_count": 86,
   "id": "a6c72dc5-1320-48f7-8a46-2c1e6a074502",
   "metadata": {},
   "outputs": [
    {
     "name": "stdout",
     "output_type": "stream",
     "text": [
      "tensor(-1341.7968)\n",
      "tensor(1190.4297)\n"
     ]
    }
   ],
   "source": [
    "h=0.001\n",
    "print((l(-5+h,10) - l(-5,10))/h)\n",
    "print((l(-5,10+h) - l(-5,10))/h)"
   ]
  },
  {
   "cell_type": "markdown",
   "id": "24c29ae2-6929-470d-9498-37655c95c4e8",
   "metadata": {},
   "source": [
    "*일단 이거로 업데이트해볼까?*"
   ]
  },
  {
   "cell_type": "code",
   "execution_count": 87,
   "id": "aeacfb01-521b-4141-8b31-5c4ce11f7667",
   "metadata": {},
   "outputs": [],
   "source": [
    "# 더나은What = 원래What - 0.1*미분값\n",
    "# [-5,10] - 0.001 * [-1341.7968,1190.4297]"
   ]
  },
  {
   "cell_type": "code",
   "execution_count": 88,
   "id": "70e18a7b-888a-4a1e-ac2c-75edeaae182c",
   "metadata": {},
   "outputs": [
    {
     "data": {
      "text/plain": [
       "tensor([[-3.6582],\n",
       "        [ 8.8096]])"
      ]
     },
     "execution_count": 88,
     "metadata": {},
     "output_type": "execute_result"
    }
   ],
   "source": [
    "sssss = What - 0.001 * torch.tensor([[-1341.7968],[1190.4297]])\n",
    "sssss"
   ]
  },
  {
   "cell_type": "code",
   "execution_count": 89,
   "id": "db3c82ce-ad4d-4769-9f8d-dfd476e80f2b",
   "metadata": {},
   "outputs": [
    {
     "data": {
      "text/plain": [
       "[<matplotlib.lines.Line2D at 0x7fb27afaf610>]"
      ]
     },
     "execution_count": 89,
     "metadata": {},
     "output_type": "execute_result"
    },
    {
     "data": {
      "image/png": "[encoded data removed]",
      "text/plain": [
       "<Figure size 450x300 with 1 Axes>"
      ]
     },
     "metadata": {},
     "output_type": "display_data"
    }
   ],
   "source": [
    "plt.plot(x,y,'o')\n",
    "plt.plot(x,X@What,'-') # 원래What: 주황색\n",
    "plt.plot(x,X@sssss,'-') # 더나은What: 초록색"
   ]
  },
  {
   "cell_type": "markdown",
   "id": "441631a3-34d1-4ab1-8459-d9a7d846066d",
   "metadata": {},
   "source": [
    "- 잘 된 것 같긴한데..\n",
    "- 미분구하는게 너무 어려워.. \n",
    "- 다른 방법 없을까? "
   ]
  },
  {
   "cell_type": "markdown",
   "id": "8bfdc58a-13b2-4838-935d-b3c29bde05e9",
   "metadata": {},
   "source": [
    ":::{.callout-important}\n",
    "\n",
    "사실 이 방법은 \n",
    "\n",
    "- $\\frac{\\partial}{\\partial w_0}loss(w_0,w_1) \\approx \\frac{loss(w_0+h,w_1)-loss(w_0,w_1)}{h}$\n",
    "- $\\frac{\\partial}{\\partial w_1}loss(w_0,w_1) \\approx \\frac{loss(w_0,w_1+h)-loss(w_0,w_1)}{h}$\n",
    "\n",
    "이 계산을 이용하여 \n",
    "\n",
    "$$\\frac{\\partial}{\\partial {\\bf W}}loss({\\bf W}):= \\begin{bmatrix} \\frac{\\partial}{\\partial w_0} \\\\ \\frac{\\partial}{\\partial w_1}\\end{bmatrix}loss({\\bf W}) =  \\begin{bmatrix} \\frac{\\partial}{\\partial w_0}loss({\\bf W}) \\\\ \\frac{\\partial}{\\partial w_1}loss({\\bf W})\\end{bmatrix}  =  \\begin{bmatrix} \\frac{\\partial}{\\partial w_0}loss(w_0,w_1) \\\\ \\frac{\\partial}{\\partial w_1}loss(w_0,w_1)\\end{bmatrix}$$\n",
    "\n",
    "를 계산한 것이라 볼 수 있죠\n",
    ":::"
   ]
  },
  {
   "cell_type": "markdown",
   "id": "53c9652f-0358-4d11-87cd-f3f4c3e0c0fc",
   "metadata": {},
   "source": [
    "`-` 미분값을 계산하는 방법2 "
   ]
  },
  {
   "cell_type": "code",
   "execution_count": 90,
   "id": "ad9eb248-1ac2-4647-8c97-00203d511747",
   "metadata": {},
   "outputs": [],
   "source": [
    "## 약간의 지식이 필요함. \n",
    "# loss = (y-XWhat)'(y-XWhat)\n",
    "# = (y'-What'X')(y-XWhat)\n",
    "# = y'y-y'XWhat -What'X'y + What'X'XWhat \n",
    "# loss를 What으로 미분\n",
    "# loss' = -X'y - X'y + 2X'XWhat"
   ]
  },
  {
   "cell_type": "markdown",
   "id": "f6327502-2f1a-4cac-a3f6-7fbc64722aa7",
   "metadata": {},
   "source": [
    "❓ 행렬 미분 복습 필요"
   ]
  },
  {
   "cell_type": "code",
   "execution_count": 91,
   "id": "f78e09f0-1855-4a88-8165-0ec9a0bf8c6f",
   "metadata": {},
   "outputs": [
    {
     "data": {
      "text/plain": [
       "tensor([[-1342.2524],\n",
       "        [ 1188.9302]])"
      ]
     },
     "execution_count": 91,
     "metadata": {},
     "output_type": "execute_result"
    }
   ],
   "source": [
    "-2*X.T@y + 2*X.T@X@What"
   ]
  },
  {
   "cell_type": "markdown",
   "id": "526de3ff-fb53-4cfc-81ca-1788dd9457d1",
   "metadata": {},
   "source": [
    "🗣️ 약간의 오차는 있지만 위와 비슷 (그러나 방법1, 방법2 말고 다른 방법을 쓰고 싶음)"
   ]
  },
  {
   "cell_type": "markdown",
   "id": "08ea6790-2715-4ded-9e1d-75bbfdfa21f3",
   "metadata": {},
   "source": [
    ":::{.callout-important}\n",
    "\n",
    "이 방법은 $loss({\\bf W})$의 미분을 구할수 있어야 사용가능합니다. 즉 \n",
    "\n",
    "$$\\frac{\\partial}{\\partial {\\bf W}}loss({\\bf W})= -2{\\bf X}^\\top {\\bf y} + 2{\\bf X}^\\top {\\bf X}{\\bf W}$$\n",
    "\n",
    "를 계산할 수 있어야 합니다.\n",
    ":::"
   ]
  },
  {
   "cell_type": "markdown",
   "id": "6036a42f-4fe2-40c9-b93e-ce22176092da",
   "metadata": {},
   "source": [
    "`-` 미분값을 계산하는 방법3 -- 이 패턴을 외우세여"
   ]
  },
  {
   "cell_type": "code",
   "execution_count": 92,
   "id": "fcdc72d1-42b6-4628-8517-f1355c2de30c",
   "metadata": {},
   "outputs": [
    {
     "data": {
      "text/plain": [
       "tensor([[-5.],\n",
       "        [10.]], requires_grad=True)"
      ]
     },
     "execution_count": 92,
     "metadata": {},
     "output_type": "execute_result"
    }
   ],
   "source": [
    "What = torch.tensor([[-5.0],[10.0]],requires_grad=True)\n",
    "What"
   ]
  },
  {
   "cell_type": "code",
   "execution_count": 93,
   "id": "bd074b70-06d1-49a1-958e-fa06963cd5ba",
   "metadata": {
    "scrolled": true
   },
   "outputs": [
    {
     "data": {
      "text/plain": [
       "tensor(8587.6875, grad_fn=<SumBackward0>)"
      ]
     },
     "execution_count": 93,
     "metadata": {},
     "output_type": "execute_result"
    }
   ],
   "source": [
    "yhat = X@What\n",
    "loss = torch.sum((y-yhat)**2)\n",
    "loss"
   ]
  },
  {
   "cell_type": "markdown",
   "id": "d1de9cbe-8afa-447e-83f9-7147d648d0a5",
   "metadata": {},
   "source": [
    "🗣️ 꼬리표가 있긴하지만 결과는 위와 동일"
   ]
  },
  {
   "cell_type": "code",
   "execution_count": 94,
   "id": "871a9b1b-23c9-4533-93b3-81d24035bd07",
   "metadata": {},
   "outputs": [],
   "source": [
    "loss.backward() # loss를 미분하라.. 꼬리표가 있게 한 What으로.. "
   ]
  },
  {
   "cell_type": "markdown",
   "id": "8abc10de-2298-4ac6-8bf6-dc55aa3685b0",
   "metadata": {},
   "source": [
    "🗣️("
   ]
  },
  {
   "cell_type": "markdown",
   "id": "4f7bdca4-41f3-4450-845d-7bb16ebc4b6a",
   "metadata": {},
   "source": [
    "- loss를 What으로 미분\n",
    "- 일반적으로 미분을 하면 도함수가 나오지만, 이 경우는 도함수에서 현재 What값을 대입한 결과가 나옴\n",
    "- 정확히 말하면 What에 해당하는 접선의 기울기\n",
    "- 실행해도 실행결과는 나오지 않음. 결과는 What.grad에 저장되어 있음"
   ]
  },
  {
   "cell_type": "markdown",
   "id": "40f983f8-6a3b-4048-b05f-665eaaaabd96",
   "metadata": {},
   "source": [
    ")🗣️"
   ]
  },
  {
   "cell_type": "code",
   "execution_count": 95,
   "id": "f62617fd-ca0d-4aa1-8189-63391a6b7afd",
   "metadata": {},
   "outputs": [
    {
     "data": {
      "text/plain": [
       "tensor([[-1342.2524],\n",
       "        [ 1188.9305]])"
      ]
     },
     "execution_count": 95,
     "metadata": {},
     "output_type": "execute_result"
    }
   ],
   "source": [
    "What.grad"
   ]
  },
  {
   "cell_type": "markdown",
   "id": "a0dd8752-a2fa-4cad-acbc-314b231e19a9",
   "metadata": {},
   "source": [
    "`-` 위의 코드를 다시 복습해보자. "
   ]
  },
  {
   "cell_type": "markdown",
   "id": "f4af4e21-5576-42d3-9dd5-f98e5c9426d0",
   "metadata": {},
   "source": [
    "-- *`loss.backward()`실행전* --"
   ]
  },
  {
   "cell_type": "code",
   "execution_count": 96,
   "id": "5a2c20eb-a38d-481d-a8dc-7001a57eb599",
   "metadata": {},
   "outputs": [],
   "source": [
    "What = torch.tensor([[-5.0],[10.0]],requires_grad=True)\n",
    "yhat = X@What\n",
    "loss = torch.sum((y-yhat)**2)"
   ]
  },
  {
   "cell_type": "code",
   "execution_count": 97,
   "id": "f01a7a69-2fe6-4293-8080-7f5cd49a41c8",
   "metadata": {
    "tags": []
   },
   "outputs": [
    {
     "data": {
      "text/plain": [
       "(tensor([[-5.],\n",
       "         [10.]]),\n",
       " None)"
      ]
     },
     "execution_count": 97,
     "metadata": {},
     "output_type": "execute_result"
    }
   ],
   "source": [
    "What.data, What.grad"
   ]
  },
  {
   "cell_type": "markdown",
   "id": "93c50dd1-ec39-437e-9edf-12071642a2c4",
   "metadata": {},
   "source": [
    "🗣️ .backward()를 실행하지 않아서 .grad에 아무 값도 없음(None으로 초기화 됨)"
   ]
  },
  {
   "cell_type": "markdown",
   "id": "2afb0586-90be-4f4e-8e44-01f107ec62e8",
   "metadata": {},
   "source": [
    "-- *`loss.backward()`실행후* --"
   ]
  },
  {
   "cell_type": "code",
   "execution_count": 98,
   "id": "fcd96a47-e546-4026-9731-761f6f048a45",
   "metadata": {
    "tags": []
   },
   "outputs": [],
   "source": [
    "loss.backward()"
   ]
  },
  {
   "cell_type": "code",
   "execution_count": 99,
   "id": "3ca78b73-e2ec-4d2a-ba11-8dc8a1759992",
   "metadata": {
    "tags": []
   },
   "outputs": [
    {
     "data": {
      "text/plain": [
       "(tensor([[-5.],\n",
       "         [10.]]),\n",
       " tensor([[-1342.2524],\n",
       "         [ 1188.9305]]))"
      ]
     },
     "execution_count": 99,
     "metadata": {},
     "output_type": "execute_result"
    }
   ],
   "source": [
    "What.data, What.grad"
   ]
  },
  {
   "cell_type": "markdown",
   "id": "6d9c5c20-0b01-4023-851c-f74f949abc01",
   "metadata": {},
   "source": [
    "🗣️("
   ]
  },
  {
   "cell_type": "markdown",
   "id": "6e7472a0-822b-432f-a8a9-1eaadd79954b",
   "metadata": {},
   "source": [
    "- .backward()를 실행하니 .grad에 기울기 값이 계산되어 업데이트 됨\n",
    "- loss.backward(): What.grad <- What에서 미분값 인줄 알았으나 사실은\n",
    "- loss.backward(): What.grad <- What.grad + What에서 미분값 (즉, 누적을 시켜서 더함)"
   ]
  },
  {
   "cell_type": "code",
   "execution_count": 106,
   "id": "8362d94f-5e87-4247-a3e9-f1a83657b9d8",
   "metadata": {},
   "outputs": [],
   "source": [
    "What = torch.tensor([[-5.0],[10.0]],requires_grad=True)"
   ]
  },
  {
   "cell_type": "code",
   "execution_count": 107,
   "id": "94f394ae-7edd-4e5b-9057-0607a14e46b0",
   "metadata": {},
   "outputs": [],
   "source": [
    "yhat = X@What\n",
    "loss = torch.sum((y-yhat)**2)\n",
    "loss.backward()"
   ]
  },
  {
   "cell_type": "code",
   "execution_count": 108,
   "id": "10dfe2f2-47ae-40a7-b395-634d2e50e1ca",
   "metadata": {
    "tags": []
   },
   "outputs": [
    {
     "data": {
      "text/plain": [
       "(tensor([[-5.],\n",
       "         [10.]]),\n",
       " tensor([[-1342.2524],\n",
       "         [ 1188.9305]]))"
      ]
     },
     "execution_count": 108,
     "metadata": {},
     "output_type": "execute_result"
    }
   ],
   "source": [
    "What.data, What.grad"
   ]
  },
  {
   "cell_type": "code",
   "execution_count": 110,
   "id": "66dcf442-71e0-45df-b9c7-3d590be1b3f2",
   "metadata": {},
   "outputs": [],
   "source": [
    "yhat = X@What\n",
    "loss = torch.sum((y-yhat)**2)\n",
    "loss.backward()"
   ]
  },
  {
   "cell_type": "code",
   "execution_count": 111,
   "id": "bfd13a8d-c8cd-43b1-b883-bdd5f0e3b6a6",
   "metadata": {
    "tags": []
   },
   "outputs": [
    {
     "data": {
      "text/plain": [
       "(tensor([[-5.],\n",
       "         [10.]]),\n",
       " tensor([[-2684.5049],\n",
       "         [ 2377.8611]]))"
      ]
     },
     "execution_count": 111,
     "metadata": {},
     "output_type": "execute_result"
    }
   ],
   "source": [
    "What.data, What.grad"
   ]
  },
  {
   "cell_type": "markdown",
   "id": "ac9b11d7-f11b-48b8-99a3-133de5b736f1",
   "metadata": {},
   "source": [
    "- 두 배가 됨\n",
    "- 왜?\n",
    "    - 산공: 알고리즘 상에서는 What.grad의 값은 loss.backward()를 할때마다 초기화가 맞음 (이론적으로는 이게 맞음)\n",
    "    - 컴공: 그러면 나중에 계산 효율이 안 좋아짐 (웬만하면 계산한 미분값을 갖고 있고 싶음, 필요 없으면 따로 초기화하면 됨)\n",
    "    - 통계: 최적화와 미분 빨리하는 것에 관심 X"
   ]
  },
  {
   "cell_type": "markdown",
   "id": "dca4db09-8682-41f7-afa6-07eb71c2e47c",
   "metadata": {},
   "source": [
    ")🗣️"
   ]
  },
  {
   "cell_type": "markdown",
   "id": "61623c50-58f0-416b-9af4-1df874d56d27",
   "metadata": {},
   "source": [
    "✍️ 이후 원활한 코드 실행을 위한 코드 (의미X)"
   ]
  },
  {
   "cell_type": "code",
   "execution_count": 112,
   "id": "0c5c9fb9-6dca-4b1a-8f7a-28b0c97e032a",
   "metadata": {},
   "outputs": [
    {
     "data": {
      "text/plain": [
       "(tensor([[-5.],\n",
       "         [10.]]),\n",
       " tensor([[-1342.2524],\n",
       "         [ 1188.9305]]))"
      ]
     },
     "execution_count": 112,
     "metadata": {},
     "output_type": "execute_result"
    }
   ],
   "source": [
    "What = torch.tensor([[-5.0],[10.0]],requires_grad=True)\n",
    "yhat = X@What\n",
    "loss = torch.sum((y-yhat)**2)\n",
    "\n",
    "What.data, What.grad\n",
    "\n",
    "loss.backward()\n",
    "\n",
    "What.data, What.grad"
   ]
  },
  {
   "cell_type": "markdown",
   "id": "c77e229b-e7f5-400f-85cb-050ff3edf437",
   "metadata": {},
   "source": [
    "`#` 1회 업데이트 과정을 차근차근 시각화하며 정리해보자. "
   ]
  },
  {
   "cell_type": "code",
   "execution_count": 113,
   "id": "598ad742-d584-47d2-8acd-1feceadb7ec3",
   "metadata": {
    "tags": []
   },
   "outputs": [
    {
     "name": "stdout",
     "output_type": "stream",
     "text": [
      "tensor([[-5.],\n",
      "        [10.]]) -- 수정전\n",
      "tensor([[ 1.3423],\n",
      "        [-1.1889]]) -- 수정하는폭\n",
      "tensor([[-3.6577],\n",
      "        [ 8.8111]]) -- 수정후\n",
      "tensor([[2.5000],\n",
      "        [4.0000]]) -- 참값(이건 비밀~~)\n"
     ]
    }
   ],
   "source": [
    "alpha = 0.001 \n",
    "print(f\"{What.data} -- 수정전\")\n",
    "print(f\"{-alpha*What.grad} -- 수정하는폭\")\n",
    "print(f\"{What.data-alpha*What.grad} -- 수정후\")\n",
    "print(f\"{torch.tensor([[2.5],[4]])} -- 참값(이건 비밀~~)\")"
   ]
  },
  {
   "cell_type": "markdown",
   "id": "fd5bffd8-15e9-4e91-8dd5-24db7cfbde6a",
   "metadata": {},
   "source": [
    "🗣️("
   ]
  },
  {
   "cell_type": "markdown",
   "id": "601d6d93-1fd7-4877-823b-fdefe00c7e56",
   "metadata": {},
   "source": [
    "- $\\alpha$를 0.001로 잡은 이유: 미분값이 1000 단위로 나와서 그대로 넣으면 원하는 결과가 안 나올 것 같음\n",
    "    - 잘 수렴될때까지 시행착오를 겪으며 해봐야 함 \n",
    "- 수정하는 폭: 위 그래프에서 주황색 선\n",
    "- 수정 후: 위 그래프에서 초록색 선\n",
    "- 수정 전보다 수정 후가 참값에 가까우므로 올바른 방향을 진행되고 있음을 알 수 있음"
   ]
  },
  {
   "cell_type": "markdown",
   "id": "5d0a237b-63b3-446c-b786-941538501ef4",
   "metadata": {},
   "source": [
    ")🗣️"
   ]
  },
  {
   "cell_type": "code",
   "execution_count": 114,
   "id": "768ff921-810c-4271-b428-2bf4e8f386e7",
   "metadata": {
    "tags": []
   },
   "outputs": [
    {
     "data": {
      "text/plain": [
       "(tensor([[-5.],\n",
       "         [10.]]),\n",
       " tensor([[-3.6577],\n",
       "         [ 8.8111]]))"
      ]
     },
     "execution_count": 114,
     "metadata": {},
     "output_type": "execute_result"
    }
   ],
   "source": [
    "Wbefore = What.data\n",
    "Wafter = What.data - alpha * What.grad \n",
    "Wbefore, Wafter"
   ]
  },
  {
   "cell_type": "code",
   "execution_count": 115,
   "id": "2ca2ce3d-3d65-447f-ab71-8a2c8b66da3a",
   "metadata": {
    "tags": []
   },
   "outputs": [
    {
     "data": {
      "text/plain": [
       "<matplotlib.legend.Legend at 0x7fb27af0c730>"
      ]
     },
     "execution_count": 115,
     "metadata": {},
     "output_type": "execute_result"
    },
    {
     "data": {
      "image/png": "[encoded data removed]",
      "text/plain": [
       "<Figure size 450x300 with 1 Axes>"
      ]
     },
     "metadata": {},
     "output_type": "display_data"
    }
   ],
   "source": [
    "plt.plot(x,y,'o',label=r'observed data')\n",
    "plt.plot(x,X@Wbefore,'--', label=r\"$\\hat{\\bf y}_{before}={\\bf X}@\\hat{\\bf W}_{before}$\")\n",
    "plt.plot(x,X@Wafter,'--', label=r\"$\\hat{\\bf y}_{after}={\\bf X}@\\hat{\\bf W}_{after}$\")\n",
    "plt.legend()"
   ]
  },
  {
   "cell_type": "markdown",
   "id": "2e876f5f-3094-46e4-abca-ef192162b9fa",
   "metadata": {},
   "source": [
    "`#`"
   ]
  },
  {
   "cell_type": "markdown",
   "id": "3d5bf8f0-455f-491d-b316-ecd67c5f71cc",
   "metadata": {},
   "source": [
    "## C. 3단계 -- iteration (=learn = estimate $\\bf{\\hat W}$)"
   ]
  },
  {
   "cell_type": "markdown",
   "id": "e39e89df-02a1-4358-a598-21dc163a6a75",
   "metadata": {},
   "source": [
    "`-` 이제 1단계와 2단계를 반복만하면된다. 그래서 아래와 같은 코드를 작성하면 될 것 같은데... \n",
    "\n",
    "```Python\n",
    "What = torch.tensor([[-5.0],[10.0]],requires_grad=True) # 최초의 직선을 만드는 값\n",
    "for epoc in range(30):\n",
    "    yhat = X@What \n",
    "    loss = torch.sum((y-yhat)**2)\n",
    "    loss.backward()\n",
    "    What.data = What.data - 0.001 * What.grad\n",
    "```\n",
    "\n",
    "돌려보면 잘 안된다. "
   ]
  },
  {
   "cell_type": "markdown",
   "id": "ba90d92e-1d1d-4060-9cd8-0347d03df595",
   "metadata": {},
   "source": [
    "🗣️ 원래 철자는 epoch이지만 편의상 epoc으로 작성, 잘 되기 위해서는 마지막에 초기화를 해줘야 함"
   ]
  },
  {
   "cell_type": "markdown",
   "id": "a5a20acf-d126-44c1-8412-043b494a44e3",
   "metadata": {},
   "source": [
    "`-` 아래와 같이 해야한다. "
   ]
  },
  {
   "cell_type": "code",
   "execution_count": 116,
   "id": "b63ed56d-c3cd-4f95-9637-1a34c8ac2f62",
   "metadata": {},
   "outputs": [],
   "source": [
    "What = torch.tensor([[-5.0],[10.0]],requires_grad=True) # 최초의 직선을 만드는 값\n",
    "for epoc in range(30):\n",
    "    yhat = X@What \n",
    "    loss = torch.sum((y-yhat)**2)\n",
    "    loss.backward()\n",
    "    What.data = What.data - 0.001 * What.grad\n",
    "    What.grad = None "
   ]
  },
  {
   "cell_type": "code",
   "execution_count": 117,
   "id": "ee9d120b-2d6f-4070-bd78-3f217dee52ab",
   "metadata": {},
   "outputs": [
    {
     "data": {
      "text/plain": [
       "<matplotlib.legend.Legend at 0x7fb254152f10>"
      ]
     },
     "execution_count": 117,
     "metadata": {},
     "output_type": "execute_result"
    },
    {
     "data": {
      "image/png": "[encoded data removed]",
      "text/plain": [
       "<Figure size 450x300 with 1 Axes>"
      ]
     },
     "metadata": {},
     "output_type": "display_data"
    }
   ],
   "source": [
    "plt.plot(x,y,'o',label=r\"observed: $(x_i,y_i)$\")\n",
    "plt.plot(x,X@What.data,'--o', label=r\"estimated: $(x_i,\\hat{y}_i)$ -- after 30 iterations (=epochs)\", alpha=0.4 )\n",
    "plt.legend()"
   ]
  },
  {
   "cell_type": "markdown",
   "id": "9ae5e2cf-ae27-460b-887a-92826b43eba3",
   "metadata": {},
   "source": [
    "`-` 왜? `loss.backward()` 는 아래의 역할을 하는것 처럼 이해되었지만 \n",
    "\n",
    "- `What.grad` $\\leftarrow$ `What에서미분값`\n",
    "\n",
    "실제로는 아래의 역할을 수행하기 때문이다. (컴퓨터공학적인 이유로..)\n",
    "\n",
    "- `What.grad` $\\leftarrow$ `What.grad` + `What에서미분값`"
   ]
  },
  {
   "cell_type": "markdown",
   "id": "0bdacf5b-6191-46e9-826e-2923bad1f82c",
   "metadata": {},
   "source": [
    ":::{.callout-note}\n",
    "\n",
    "`What.grad` $\\leftarrow$ `What.grad` + `What에서미분값` 임을 확인하기 위해서.. 약간의 테스트를 했습니다. \n",
    "\n",
    "먼저 \n",
    "\n",
    "```Python\n",
    "What = torch.tensor([[-5.0],[10.0]],requires_grad=True) # 최초의 직선을 만드는 값\n",
    "print(What.data)\n",
    "print(What.grad)\n",
    "```\n",
    "\n",
    "를 확인한뒤 아래를 반복실행해봤을때 \n",
    "\n",
    "```Python\n",
    "yhat = X@What \n",
    "loss = torch.sum((y-yhat)**2)\n",
    "loss.backward() # \n",
    "print(What.data)\n",
    "print(What.grad)\n",
    "```\n",
    "\n",
    "`What.data`와 `What.grad` 값이 계속 일정하게 나온다면 \n",
    "\n",
    "- `What.grad` $\\leftarrow$ `What에서미분값`\n",
    "\n",
    "이와 같은 계산이 진행되는 것이겠고, `What.grad`의 값이 자꾸 커진다면 \n",
    "\n",
    "- `What.grad` $\\leftarrow$ `What.grad` + `What에서미분값`\n",
    "\n",
    "이와 같은 계산이 진행되는 것이겠죠? \n",
    ":::"
   ]
  }
 ],
 "metadata": {
  "kernelspec": {
   "display_name": "Python 3 (ipykernel)",
   "language": "python",
   "name": "python3"
  },
  "language_info": {
   "codemirror_mode": {
    "name": "ipython",
    "version": 3
   },
   "file_extension": ".py",
   "mimetype": "text/x-python",
   "name": "python",
   "nbconvert_exporter": "python",
   "pygments_lexer": "ipython3",
   "version": "3.9.18"
  }
 },
 "nbformat": 4,
 "nbformat_minor": 5
}
