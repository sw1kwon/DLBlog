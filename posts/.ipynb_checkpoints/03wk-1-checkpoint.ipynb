{
 "cells": [
  {
   "cell_type": "raw",
   "id": "dc46daf8-66a6-4fe0-86cb-acaa7fa96f86",
   "metadata": {
    "id": "87b5cded-346b-4915-acf5-b5ec93a5207d"
   },
   "source": [
    "---\n",
    "title: \"03wk-1: (회귀, 로지스틱) -- 파이토치식 코딩패턴 (2), 로지스틱 모형\"\n",
    "author: \"sw1kwon\"\n",
    "date: \"03/19/2025\"\n",
    "draft: false\n",
    "---"
   ]
  },
  {
   "cell_type": "markdown",
   "id": "c0e2e2f2-d34b-41cb-831d-8623c1a82ea8",
   "metadata": {},
   "source": [
    "📘 **Note Format Guide**\n",
    "\n",
    "This format serves as a structured guide for organizing lecture content, personal interpretation, experiments, and study-related questions.\n",
    "\n",
    "| Type | What It Means | When I Use It |\n",
    "|------|----------------|----------------|\n",
    "| 📝 Lecture | Original material from the professor’s notes | When I’m referencing core concepts or provided code |\n",
    "| 🗣️ In-Class Note | Verbal explanations shared during the lecture | When I want to record something the professor said in class but didn’t include in the official notes |\n",
    "| ✍️ My Note | My thoughts, interpretations, or additional explanations | When I reflect on or explain something in my own words |\n",
    "| 🔬 Experiment | Code I tried out or changed to explore further | When I test variations or go beyond the original example |\n",
    "| ❓ Question | Questions I had while studying | When I want to revisit or research something more deeply |"
   ]
  },
  {
   "cell_type": "markdown",
   "id": "a1cb9276-0c36-429a-901e-e718988c0c8f",
   "metadata": {},
   "source": [
    "📝\n",
    "🗣️\n",
    "✍️\n",
    "🔬\n",
    "❓"
   ]
  },
  {
   "cell_type": "markdown",
   "id": "04d2b12e-fb04-4c98-b55f-4f53dd02f7cd",
   "metadata": {
    "id": "4d47a7c9"
   },
   "source": [
    "# 1. 강의노트 원본 및 영상 링크"
   ]
  },
  {
   "cell_type": "markdown",
   "id": "aa5439d5-7c68-4b15-9df4-319370a27cd9",
   "metadata": {},
   "source": [
    "[https://guebin.github.io/DL2025/posts/03wk-1.html](https://guebin.github.io/DL2025/posts/03wk-1.html)"
   ]
  },
  {
   "cell_type": "markdown",
   "id": "d9cc7c25-3ef0-4070-ba43-87715008adb7",
   "metadata": {},
   "source": [
    "# 2. Imports 📝"
   ]
  },
  {
   "cell_type": "code",
   "execution_count": 1,
   "id": "48dc2a28-43e4-41aa-89c8-280699e32d34",
   "metadata": {},
   "outputs": [],
   "source": [
    "import torch\n",
    "import matplotlib.pyplot as plt "
   ]
  },
  {
   "cell_type": "code",
   "execution_count": 2,
   "id": "9bc256fb-c86b-4a22-a00b-3182407fb0da",
   "metadata": {},
   "outputs": [],
   "source": [
    "plt.rcParams['figure.figsize'] = (4.5, 3.0)"
   ]
  },
  {
   "cell_type": "markdown",
   "id": "ca0f10c2-7c66-4719-a677-e4e85067537e",
   "metadata": {},
   "source": [
    "# 3. 파이토치식 코딩패턴 (2) 📝"
   ]
  },
  {
   "cell_type": "markdown",
   "id": "40786531-7df6-48aa-becf-c3e6f684bdb9",
   "metadata": {},
   "source": [
    "*복습(잔소리)*"
   ]
  },
  {
   "cell_type": "code",
   "execution_count": 6,
   "id": "5e1c1ce7-0c8f-447f-891a-d2a4070f89ff",
   "metadata": {},
   "outputs": [],
   "source": [
    "# 로드맵\n",
    "# 회귀/로지스틱 -> DNN -> CNN \n",
    "# 파이토치식 코딩패턴: step1~4 \n",
    "# step1: 도메인전문가,통계 step2 통계 step3 컴공 step4 산공\n",
    "# 모델링(비통계): X--> y 가는 패턴을 찾는거다.. // 추세선찾는것 \n",
    "# 관측자료 (x,y) -- with error \n",
    "# 추세선(underlying) --  (x,yhat=X@W) with out error \n",
    "# 모델링: 에러가포함된 자료에서 error-free 한 structure를 찾는것 \n",
    "# 모델링의 철칙: error-free 한 structure를 찾으려고 노력해야지.. error를 따라가려고 노력하면 X \n",
    "# 오차: error-free한 스트럭쳐(모델)이랑 실제관측데이터의 갭이 있는데, 이 갭을 설명해주는 역할을 함 "
   ]
  },
  {
   "cell_type": "markdown",
   "id": "10e26406-d254-4a0d-a67d-3f4de65083f1",
   "metadata": {},
   "source": [
    "- 🗣️\n",
    "    - CNN: 이미지 자료 분석\n",
    "    - $y \\text{ (with error) } \\approx X@W \\text{ (error-free) }$\n",
    "    - $y = X@W + \\epsilon$"
   ]
  },
  {
   "cell_type": "markdown",
   "id": "cb659c32-adbc-4f2f-ab98-30250b932eb3",
   "metadata": {},
   "source": [
    "*데이터*"
   ]
  },
  {
   "cell_type": "code",
   "execution_count": 3,
   "id": "ef3b58e9-2a1f-4eae-9dd9-2345deee33dc",
   "metadata": {},
   "outputs": [],
   "source": [
    "torch.manual_seed(43052)\n",
    "x,_ = torch.randn(100).sort()\n",
    "eps = torch.randn(100)*0.5\n",
    "X = torch.stack([torch.ones(100),x],axis=1)\n",
    "W = torch.tensor([[2.5],[4.0]])\n",
    "y = X@W + eps.reshape(100,1)\n",
    "x = X[:,[1]]"
   ]
  },
  {
   "cell_type": "markdown",
   "id": "eb472d16-6c95-4b11-acc2-46fc6f1f6e85",
   "metadata": {},
   "source": [
    "## A. bias의 사용 "
   ]
  },
  {
   "cell_type": "markdown",
   "id": "2c92dfe0-90b3-42a8-a9c6-e1bf51fba677",
   "metadata": {},
   "source": [
    "🗣️("
   ]
  },
  {
   "cell_type": "markdown",
   "id": "b8d84819-065d-4282-8ecd-cbd55f7254c3",
   "metadata": {},
   "source": [
    "- 저번 시간 코드"
   ]
  },
  {
   "cell_type": "code",
   "execution_count": 4,
   "id": "bc8f5737-6a49-4775-845d-b34260deec2b",
   "metadata": {},
   "outputs": [],
   "source": [
    "net = torch.nn.Linear(2, 1, bias=False)\n",
    "net.weight.data = torch.tensor([[-5.0, 10.0]])\n",
    "loss_fn = torch.nn.MSELoss()\n",
    "optimizr = torch.optim.SGD(net.parameters(), lr=0.1) # lr: learning rate\n",
    "\n",
    "# step 1~4\n",
    "for epoc in range(30):\n",
    "    # 1\n",
    "    yhat = net(X)\n",
    "    # 2\n",
    "    loss = loss_fn(yhat,y)\n",
    "    # 3\n",
    "    loss.backward()\n",
    "    # 4\n",
    "    optimizr.step()\n",
    "    optimizr.zero_grad()"
   ]
  },
  {
   "cell_type": "code",
   "execution_count": 6,
   "id": "358c24c3-22e5-4a97-8fc6-856e40465dbd",
   "metadata": {},
   "outputs": [
    {
     "data": {
      "text/plain": [
       "Parameter containing:\n",
       "tensor([[2.4290, 4.0144]], requires_grad=True)"
      ]
     },
     "execution_count": 6,
     "metadata": {},
     "output_type": "execute_result"
    }
   ],
   "source": [
    "net.weight # 지난 시간 결과와 동일"
   ]
  },
  {
   "cell_type": "markdown",
   "id": "0b751810-f193-40ee-9a5d-06fa4cc73acf",
   "metadata": {},
   "source": [
    "> 이제 bias=True"
   ]
  },
  {
   "cell_type": "code",
   "execution_count": 7,
   "id": "87a9559e-9763-4bdf-af03-53ba36db8ab5",
   "metadata": {},
   "outputs": [],
   "source": [
    "# net(X) = X@net.weight.T # 현재 이렇게 알고 있으나 사실은 아님"
   ]
  },
  {
   "cell_type": "code",
   "execution_count": 8,
   "id": "876f78cf-9d25-44e6-871d-9785562a6289",
   "metadata": {},
   "outputs": [
    {
     "data": {
      "text/plain": [
       "Parameter containing:\n",
       "tensor([[2.4290, 4.0144]], requires_grad=True)"
      ]
     },
     "execution_count": 8,
     "metadata": {},
     "output_type": "execute_result"
    }
   ],
   "source": [
    "net.weight"
   ]
  },
  {
   "cell_type": "code",
   "execution_count": 9,
   "id": "c1954bef-401a-4bbe-907c-d3dca7429f1b",
   "metadata": {},
   "outputs": [
    {
     "name": "stdout",
     "output_type": "stream",
     "text": [
      "None\n"
     ]
    }
   ],
   "source": [
    "print(net.bias) # 현재는 bias=False"
   ]
  },
  {
   "cell_type": "code",
   "execution_count": 10,
   "id": "b541f019-7ed7-497f-9ee3-95740dd43a29",
   "metadata": {},
   "outputs": [],
   "source": [
    "# net(X) = X@net.weight.T + net.bias # 사실은 이게 맞음"
   ]
  },
  {
   "cell_type": "markdown",
   "id": "a4cf755f-84fd-45a1-8fa4-e6c872f41252",
   "metadata": {},
   "source": [
    "- 둘은 동일\n",
    "    - y = X@W + ϵ # y = net(X) + ϵ\n",
    "    - y = w0hat + x*w1hat + ϵ # y = net(x) + ϵ\n",
    "- net(X) = X\\@net.weight.T + net.bias 에서 X가 x로 바뀌면\n",
    "    - net(x) = x\\@net.weight.T + net.bias\n",
    "    - net(x) = w0hat + x*w1hat 이므로\n",
    "    - net.bias에 해당하는 것은 w0hat\n",
    "    - net.weight.T에 해당하는 것은 w1hat 으로 생각 가능\n",
    "- 위를 기반으로 net(x)를 만들면\n",
    "    - x는 (n,1)이므로 input 차원은 1  "
   ]
  },
  {
   "cell_type": "code",
   "execution_count": 11,
   "id": "850bb6a8-87d5-4489-b201-6540d4653881",
   "metadata": {},
   "outputs": [
    {
     "data": {
      "text/plain": [
       "Linear(in_features=1, out_features=1, bias=True)"
      ]
     },
     "execution_count": 11,
     "metadata": {},
     "output_type": "execute_result"
    }
   ],
   "source": [
    "net = torch.nn.Linear(1,1,bias=True)\n",
    "net"
   ]
  },
  {
   "cell_type": "code",
   "execution_count": 12,
   "id": "8723ce5f-dd9a-47c6-9dc1-cca35c350f4d",
   "metadata": {},
   "outputs": [
    {
     "data": {
      "text/plain": [
       "Parameter containing:\n",
       "tensor([[0.3480]], requires_grad=True)"
      ]
     },
     "execution_count": 12,
     "metadata": {},
     "output_type": "execute_result"
    }
   ],
   "source": [
    "net.weight # 1x1 matrix"
   ]
  },
  {
   "cell_type": "code",
   "execution_count": 13,
   "id": "096f6728-44a6-498c-93f3-49ed29ff476f",
   "metadata": {},
   "outputs": [
    {
     "data": {
      "text/plain": [
       "Parameter containing:\n",
       "tensor([0.7757], requires_grad=True)"
      ]
     },
     "execution_count": 13,
     "metadata": {},
     "output_type": "execute_result"
    }
   ],
   "source": [
    "net.bias # length 1인 vector"
   ]
  },
  {
   "cell_type": "code",
   "execution_count": 14,
   "id": "9f984e94-45b6-4ac9-a23f-738897028160",
   "metadata": {},
   "outputs": [
    {
     "data": {
      "text/plain": [
       "tensor([[0.3480]], grad_fn=<PermuteBackward0>)"
      ]
     },
     "execution_count": 14,
     "metadata": {},
     "output_type": "execute_result"
    }
   ],
   "source": [
    "net.weight.T # net(x) = x@net.weight.T + net.bias 에서 net.weight.T는 w1hat"
   ]
  },
  {
   "cell_type": "code",
   "execution_count": 15,
   "id": "3209ebe5-0cba-433e-b0cb-ddef29e12cb7",
   "metadata": {},
   "outputs": [
    {
     "data": {
      "text/plain": [
       "tensor([[10.]])"
      ]
     },
     "execution_count": 15,
     "metadata": {},
     "output_type": "execute_result"
    }
   ],
   "source": [
    "net.weight.data = torch.tensor([[10.0]])\n",
    "net.weight.data"
   ]
  },
  {
   "cell_type": "code",
   "execution_count": 16,
   "id": "2cc9e226-f09a-4512-a62c-d9696911416a",
   "metadata": {},
   "outputs": [
    {
     "data": {
      "text/plain": [
       "tensor([[-5.]])"
      ]
     },
     "execution_count": 16,
     "metadata": {},
     "output_type": "execute_result"
    }
   ],
   "source": [
    "net.bias.data = torch.tensor([[-5.0]]) # net(x) = x@net.weight.T + net.bias 에서 net.bias는 w0hat\n",
    "net.bias.data"
   ]
  },
  {
   "cell_type": "markdown",
   "id": "b0bbf939-b497-460f-acbd-8687e5825f3d",
   "metadata": {},
   "source": [
    "- 위의 내용을 저번 시간 코드에 반영하면\n",
    "    - net 수정, weight 및 bias 값 수정\n",
    "    - net(X) -> net(x)"
   ]
  },
  {
   "cell_type": "code",
   "execution_count": 17,
   "id": "de34e1ef-d021-4be6-b666-1d8aa8dc7625",
   "metadata": {},
   "outputs": [],
   "source": [
    "net = torch.nn.Linear(1, 1, bias=True)\n",
    "net.weight.data = torch.tensor([[10.0]])\n",
    "net.bias.data = torch.tensor([[-5.0]])\n",
    "loss_fn = torch.nn.MSELoss()\n",
    "optimizr = torch.optim.SGD(net.parameters(), lr=0.1) # lr: learning rate\n",
    "\n",
    "# step 1~4\n",
    "for epoc in range(30):\n",
    "    # 1\n",
    "    yhat = net(x)\n",
    "    # 2\n",
    "    loss = loss_fn(yhat,y)\n",
    "    # 3\n",
    "    loss.backward()\n",
    "    # 4\n",
    "    optimizr.step()\n",
    "    optimizr.zero_grad()"
   ]
  },
  {
   "cell_type": "code",
   "execution_count": 18,
   "id": "e1c3c58e-62e4-4506-a00b-d88953105a88",
   "metadata": {},
   "outputs": [
    {
     "data": {
      "text/plain": [
       "Parameter containing:\n",
       "tensor([[4.0144]], requires_grad=True)"
      ]
     },
     "execution_count": 18,
     "metadata": {},
     "output_type": "execute_result"
    }
   ],
   "source": [
    "net.weight"
   ]
  },
  {
   "cell_type": "code",
   "execution_count": 19,
   "id": "a83d2b4b-8adf-406e-a5c4-e8f57ec4c941",
   "metadata": {},
   "outputs": [
    {
     "data": {
      "text/plain": [
       "Parameter containing:\n",
       "tensor([[2.4290]], requires_grad=True)"
      ]
     },
     "execution_count": 19,
     "metadata": {},
     "output_type": "execute_result"
    }
   ],
   "source": [
    "net.bias"
   ]
  },
  {
   "cell_type": "markdown",
   "id": "9b1ad5cb-a60e-45c3-a0d1-32aa2af6769f",
   "metadata": {},
   "source": [
    "- 저번 시간 결과와 동일"
   ]
  },
  {
   "cell_type": "markdown",
   "id": "780f118c-7662-44c2-bcc8-2b33bdc4326f",
   "metadata": {},
   "source": [
    ")🗣️"
   ]
  },
  {
   "cell_type": "markdown",
   "id": "bcdcdf61-b302-46a4-8549-90d59a3ca9ad",
   "metadata": {},
   "source": [
    "*net에서 bias를 사용*"
   ]
  },
  {
   "cell_type": "code",
   "execution_count": 20,
   "id": "a411cf25-edb2-4270-bc28-203ecf654901",
   "metadata": {},
   "outputs": [],
   "source": [
    "# step1을 위한 사전준비\n",
    "net = torch.nn.Linear(\n",
    "    in_features=1,\n",
    "    out_features=1,\n",
    "    bias=True\n",
    ") # net(x) = x@net.weight.T + net.bias \n",
    "net.bias.data = torch.tensor([-5.0])\n",
    "net.weight.data = torch.tensor([[10.0]])\n",
    "# step2를 위한 사전준비\n",
    "loss_fn = torch.nn.MSELoss()\n",
    "# step4를 위한 사전준비 \n",
    "optimizr = torch.optim.SGD(net.parameters(),lr=0.1)\n",
    "for epoc in range(30):\n",
    "    # step1: yhat \n",
    "    yhat = net(x)\n",
    "    # step2: loss\n",
    "    loss = loss_fn(yhat,y)\n",
    "    # step3: 미분\n",
    "    loss.backward()\n",
    "    # step4: update\n",
    "    optimizr.step()\n",
    "    optimizr.zero_grad()"
   ]
  },
  {
   "cell_type": "code",
   "execution_count": 21,
   "id": "21813b21-86ae-4aaa-8434-3d304d98136e",
   "metadata": {},
   "outputs": [
    {
     "data": {
      "text/plain": [
       "(tensor([2.4290]), tensor([[4.0144]]))"
      ]
     },
     "execution_count": 21,
     "metadata": {},
     "output_type": "execute_result"
    }
   ],
   "source": [
    "net.bias.data, net.weight.data"
   ]
  },
  {
   "cell_type": "markdown",
   "id": "414d8f67-579a-4100-81d8-a8504e346f46",
   "metadata": {},
   "source": [
    "`#`"
   ]
  },
  {
   "cell_type": "markdown",
   "id": "081751a6-79d6-42e1-87a2-7570f15b206d",
   "metadata": {},
   "source": [
    "## B. 잘못된(?) 코드"
   ]
  },
  {
   "cell_type": "markdown",
   "id": "abccd494-f500-4c39-a6fd-c51a2d4f36d3",
   "metadata": {},
   "source": [
    "🗣️ bias의 default는 True이므로 저번 시간 코드에서 bias를 지우면 bias=True가 됨"
   ]
  },
  {
   "cell_type": "code",
   "execution_count": 51,
   "id": "e9d9cc2f-be7b-47a5-8d52-88f9973659a8",
   "metadata": {},
   "outputs": [],
   "source": [
    "# step1을 위한 사전준비\n",
    "net = torch.nn.Linear(\n",
    "    in_features=2,\n",
    "    out_features=1,\n",
    ")\n",
    "net.weight.data = torch.tensor([[-5.0,  10.0]])\n",
    "# step2를 위한 사전준비\n",
    "loss_fn = torch.nn.MSELoss()\n",
    "# step4를 위한 사전준비 \n",
    "optimizr = torch.optim.SGD(net.parameters(),lr=0.1)\n",
    "for epoc in range(30):\n",
    "    # step1: yhat \n",
    "    yhat = net(X)\n",
    "    # step2: loss\n",
    "    loss = loss_fn(yhat,y)\n",
    "    # step3: 미분\n",
    "    loss.backward()\n",
    "    # step4: update\n",
    "    optimizr.step()\n",
    "    optimizr.zero_grad()"
   ]
  },
  {
   "cell_type": "markdown",
   "id": "98d26fdb-a87a-4e4c-8f86-02c190d3218f",
   "metadata": {},
   "source": [
    "🗣️("
   ]
  },
  {
   "cell_type": "code",
   "execution_count": 52,
   "id": "1a5f2cdb-6b14-470b-a50d-3d154ea34525",
   "metadata": {},
   "outputs": [
    {
     "data": {
      "text/plain": [
       "Parameter containing:\n",
       "tensor([[-1.1114,  4.0080]], requires_grad=True)"
      ]
     },
     "execution_count": 52,
     "metadata": {},
     "output_type": "execute_result"
    }
   ],
   "source": [
    "net.weight # 결과가 많이 달라짐"
   ]
  },
  {
   "cell_type": "code",
   "execution_count": 53,
   "id": "e14f8dcb-622a-4d78-915b-5a263682ed94",
   "metadata": {},
   "outputs": [
    {
     "data": {
      "text/plain": [
       "[<matplotlib.lines.Line2D at 0x7f9395722130>]"
      ]
     },
     "execution_count": 53,
     "metadata": {},
     "output_type": "execute_result"
    },
    {
     "data": {
      "image/png": "[encoded data removed]",
      "text/plain": [
       "<Figure size 450x300 with 1 Axes>"
      ]
     },
     "metadata": {},
     "output_type": "display_data"
    }
   ],
   "source": [
    "plt.plot(x,y,'o')\n",
    "plt.plot(x,net(X).data, '--')"
   ]
  },
  {
   "cell_type": "markdown",
   "id": "fcf31b28-1583-424d-9f5c-9f11c721c8b4",
   "metadata": {},
   "source": [
    "- 그런데 결과를 시각화해보면 나쁘지 않음"
   ]
  },
  {
   "cell_type": "markdown",
   "id": "b659a716-f880-4e04-9fd8-b04e0fd50afe",
   "metadata": {},
   "source": [
    ")🗣️"
   ]
  },
  {
   "cell_type": "markdown",
   "id": "e21a5a0b-6588-401a-813f-a5c34775d5cc",
   "metadata": {},
   "source": [
    "`-` 결과시각화 "
   ]
  },
  {
   "cell_type": "code",
   "execution_count": 54,
   "id": "62f3aa0b-206e-4eb2-94aa-4582037d8a36",
   "metadata": {
    "tags": []
   },
   "outputs": [
    {
     "data": {
      "image/png": "[encoded data removed]",
      "text/plain": [
       "<Figure size 450x300 with 1 Axes>"
      ]
     },
     "metadata": {},
     "output_type": "display_data"
    }
   ],
   "source": [
    "plt.plot(x,y,'o')\n",
    "plt.plot(x,yhat.data,'--')\n",
    "plt.title(f'net.weight={net.weight.data.reshape(-1)}');"
   ]
  },
  {
   "cell_type": "markdown",
   "id": "6ae69aeb-4876-403e-9859-cf0def08d60d",
   "metadata": {},
   "source": [
    "`-` 나쁘지 않은 이유? "
   ]
  },
  {
   "cell_type": "markdown",
   "id": "27d96060-53dc-4462-9e2b-5cc6a0769ad3",
   "metadata": {},
   "source": [
    "✍️ 바로 밑의 코드는 편의상  실행 X"
   ]
  },
  {
   "cell_type": "markdown",
   "id": "95008f46-d08a-46ea-83e7-349ff1bc58d4",
   "metadata": {},
   "source": [
    "```python\n",
    "# step1을 위한 사전준비\n",
    "net = torch.nn.Linear(\n",
    "    in_features=2,\n",
    "    out_features=1,\n",
    ")\n",
    "yhat = net(X) = X@net.weight.T + net.bias\n",
    "```"
   ]
  },
  {
   "cell_type": "code",
   "execution_count": 55,
   "id": "80c0c3a1-f84c-4a7d-87f5-87718878db8a",
   "metadata": {},
   "outputs": [
    {
     "data": {
      "text/plain": [
       "Parameter containing:\n",
       "tensor([[-1.1114,  4.0080]], requires_grad=True)"
      ]
     },
     "execution_count": 55,
     "metadata": {},
     "output_type": "execute_result"
    }
   ],
   "source": [
    "net.weight"
   ]
  },
  {
   "cell_type": "code",
   "execution_count": 56,
   "id": "2add41f7-f22c-4a62-84c3-bc9ae5a60c2e",
   "metadata": {},
   "outputs": [
    {
     "data": {
      "text/plain": [
       "Parameter containing:\n",
       "tensor([3.5562], requires_grad=True)"
      ]
     },
     "execution_count": 56,
     "metadata": {},
     "output_type": "execute_result"
    }
   ],
   "source": [
    "net.bias"
   ]
  },
  {
   "cell_type": "markdown",
   "id": "f5019e32-e4e7-4990-97bf-64b212919c18",
   "metadata": {},
   "source": [
    "🗣️("
   ]
  },
  {
   "cell_type": "markdown",
   "id": "529afe74-446d-44e6-95ac-3e9a823f5e23",
   "metadata": {},
   "source": [
    "- 원래대로라면 절편, 기울기 총 2개의 parameter만 학습해야하는데 위의 결과는 3개를 학습함\n",
    "- yhat 계산 과정을 살펴보면"
   ]
  },
  {
   "cell_type": "code",
   "execution_count": 59,
   "id": "91e30557-f52f-4ea5-be27-147c0d6fdc66",
   "metadata": {},
   "outputs": [
    {
     "data": {
      "text/plain": [
       "tensor([[ 1.0000, -2.4821]])"
      ]
     },
     "execution_count": 59,
     "metadata": {},
     "output_type": "execute_result"
    }
   ],
   "source": [
    "X[[0],:] # nx2 martix에서 첫 번째 observation만 뽑음"
   ]
  },
  {
   "cell_type": "code",
   "execution_count": 60,
   "id": "cc470861-12da-436f-b57f-db1d9c7454c2",
   "metadata": {},
   "outputs": [
    {
     "data": {
      "text/plain": [
       "tensor([[-7.5063]], grad_fn=<SliceBackward0>)"
      ]
     },
     "execution_count": 60,
     "metadata": {},
     "output_type": "execute_result"
    }
   ],
   "source": [
    "yhat[:1] # 이 yhat이 어떻게 나왔는지 보면"
   ]
  },
  {
   "cell_type": "markdown",
   "id": "5b65c9e6-d562-4b80-a9de-5282ce0c2c55",
   "metadata": {},
   "source": [
    "- X[[0],:] @ net.weight.T + net.bias"
   ]
  },
  {
   "cell_type": "code",
   "execution_count": 61,
   "id": "45dde3cd-91cc-4dde-b090-b07dcde44fd7",
   "metadata": {},
   "outputs": [
    {
     "data": {
      "text/plain": [
       "-7.503456799999999"
      ]
     },
     "execution_count": 61,
     "metadata": {},
     "output_type": "execute_result"
    }
   ],
   "source": [
    "-1.1114 * 1.0000 + 4.0080 * (-2.4821) + 3.5562 # 약간의 차이는 소수점 차이"
   ]
  },
  {
   "cell_type": "markdown",
   "id": "3c9ec4cd-94d2-4038-a7f4-6b267acd440e",
   "metadata": {},
   "source": [
    "- -2.4821은 x, 다음과 같이 정리하면"
   ]
  },
  {
   "cell_type": "code",
   "execution_count": 62,
   "id": "ce8f2e30-8a04-4639-829b-3c8105b1c54a",
   "metadata": {},
   "outputs": [
    {
     "data": {
      "text/plain": [
       "2.4448"
      ]
     },
     "execution_count": 62,
     "metadata": {},
     "output_type": "execute_result"
    }
   ],
   "source": [
    "-1.1114 * 1.0000 + 3.5562"
   ]
  },
  {
   "cell_type": "markdown",
   "id": "9e455e50-1c37-4547-92ff-3f19a0dcfb60",
   "metadata": {},
   "source": [
    "- 절편에 대한 True 값: 2.5, 기울기에 대한 True 값: 4\n",
    "    - 즉, 절편을 2개로 나눠서 학습함 (비효율적)\n",
    "- 그러면 이게 틀린 것인가?\n",
    "    - 회귀분석에서 이렇게 모델링하면 틀림 (통계학적 관점)\n",
    "    - 하지만 학습 결과 자체는 맞음 (비효율적일뿐)\n",
    "    - AI나 DL 관점에서는 최적의 parameter 개수가 정해지지 않은 경우가 많아서\n",
    "    - 비효율적이긴해도 잘못으로 까지는 생각 X"
   ]
  },
  {
   "cell_type": "markdown",
   "id": "3d0d3ab1-8e78-43cf-80a1-b96e5e72c476",
   "metadata": {},
   "source": [
    ")🗣️"
   ]
  },
  {
   "cell_type": "markdown",
   "id": "eed447cf-7622-4c60-a228-42915e16de98",
   "metadata": {},
   "source": [
    "# 4. 로지스틱 모형 📝"
   ]
  },
  {
   "cell_type": "markdown",
   "id": "360fda95-264b-4bbc-9bd9-9fb105985dd5",
   "metadata": {},
   "source": [
    "## A. $\\hat{\\bf y} = ??$"
   ]
  },
  {
   "cell_type": "markdown",
   "id": "5d571b2e-35a7-4a19-b4d6-a730a50c8c4d",
   "metadata": {},
   "source": [
    "🗣️("
   ]
  },
  {
   "cell_type": "markdown",
   "id": "692900f8-faa4-4a24-a9be-20d25a003129",
   "metadata": {},
   "source": [
    "- 일반적으로 회귀분석에서 설명 변수, 반응 변수 모두 연속형 변수이지만,\n",
    "- y가 상태를 의미할 때가 있음 (ex. X = 점수, y = 합격/불합격)\n",
    "    - 합격을 1, 불합격을 0으로 숫자화하면\n",
    "    - y는 0 또는 1만 가짐\n",
    "- 이러한 자료는 매우 많음 "
   ]
  },
  {
   "cell_type": "markdown",
   "id": "c80b99e6-336a-4761-af38-b22bad79f02c",
   "metadata": {},
   "source": [
    ")🗣️"
   ]
  },
  {
   "cell_type": "markdown",
   "id": "5051b1ef-5a0e-4300-a70d-3939d06ce30e",
   "metadata": {},
   "source": [
    "`-` ${\\bf X}$를 가지고 ${\\bf y}$를 맞추는 아래와 같은 문제"
   ]
  },
  {
   "cell_type": "code",
   "execution_count": 63,
   "id": "48c5b660-57fd-4a08-ab8d-3993f4fcd0b7",
   "metadata": {
    "tags": []
   },
   "outputs": [
    {
     "data": {
      "text/plain": [
       "[<matplotlib.lines.Line2D at 0x7f93956d40a0>]"
      ]
     },
     "execution_count": 63,
     "metadata": {},
     "output_type": "execute_result"
    },
    {
     "data": {
      "image/png": "[encoded data removed]",
      "text/plain": [
       "<Figure size 450x300 with 1 Axes>"
      ]
     },
     "metadata": {},
     "output_type": "display_data"
    }
   ],
   "source": [
    "x = torch.tensor([-6,-5,-4,-3,-2,-1, 0, 1, 2, 3, 4, 5, 6.0]).reshape(-1,1)\n",
    "y = torch.tensor([ 0, 0, 0, 0, 0, 0, 1, 0, 1, 1, 1, 1, 1]).reshape(-1,1)\n",
    "plt.plot(x,y,'o')"
   ]
  },
  {
   "cell_type": "markdown",
   "id": "2de49f8e-4e74-4945-b23a-6ac527903993",
   "metadata": {},
   "source": [
    "🗣️("
   ]
  },
  {
   "cell_type": "markdown",
   "id": "120ed353-b2cb-41e4-8c84-7374dd8d2850",
   "metadata": {},
   "source": [
    "- x가 증가함에 따라 y가 1이 될 것 같고, x가 감소함에 따라 y가 0될 것 같음\n",
    "- 모델링을 어떻게?\n",
    "- 모델링: observed data를 보고 error-free한 structure를 찾는 것\n",
    "- 여기서 error-free한 structure는?\n",
    "    - error-free: 운적인 요소가 없음\n",
    "- 운적인 요소?\n",
    "    - 이 경우 0점인데 합격, 1점인데 불합격\n",
    "    - 도저히 받아들이지 못할 수 있음\n",
    "    - (이렇게 경계에 있는데 운적인 요소로 결정되는 경우)\n",
    "- 이것을 일반적인 회귀분석처럼 underlying(error-free)이 있고 오차항을 정규분포에서 error를 뽑은 것으로 설명하면 X\n",
    "    - 이전의 cafe 데이터는 이렇게 설명 가능\n",
    "- 차라리 underlying에서 x값에 대응하는 y값을 성공 확률로 하는 베르누이 시행으로 설명하면 그럴듯 함\n",
    "    - underlying: 여기서는 관측값이 아니고 확률을 의미하는 곡선으로 해석\n",
    "    - 성공 확률이 0.9인 베르누이 시행을 했는데 0.1인 확률의 결과가 나와도 어쩔 수 없음 (운적인 요소)\n",
    "    - 오차: 베르누이 시행에 의해 생성되는 랜덤성\n",
    "- 통계학과식 모델링\n",
    "    - structure(error-free)뿐만 아니라 (이것도 어려움, 여기까지는 비통계학과식)\n",
    "    - 관측치를 error term을 이용해 설명 (운적인 요소가 어떻게 작용하는지)"
   ]
  },
  {
   "cell_type": "markdown",
   "id": "16edf96c-f48a-4530-9d1c-add825fbbb5f",
   "metadata": {},
   "source": [
    "- yhat\n",
    "    - underlying\n",
    "    - y가 0 또는 1만 가지므로 yhat도 그래야하나 싶지만 X (회귀분석에서 오차항이 포함된 관측치를 따라가는 것과 동일)\n",
    "    - yhat은 0과 1사이의 숫자 (모델링 대상: 관측치가 아니라 추세선)\\\n",
    "- 다음과 같이 모델링을 해보면 "
   ]
  },
  {
   "cell_type": "code",
   "execution_count": 65,
   "id": "810a6491-4a84-433c-b5ad-0ebb289ce37f",
   "metadata": {},
   "outputs": [
    {
     "data": {
      "text/plain": [
       "[<matplotlib.lines.Line2D at 0x7f9395528700>]"
      ]
     },
     "execution_count": 65,
     "metadata": {},
     "output_type": "execute_result"
    },
    {
     "data": {
      "image/png": "[encoded data removed]",
      "text/plain": [
       "<Figure size 450x300 with 1 Axes>"
      ]
     },
     "metadata": {},
     "output_type": "display_data"
    }
   ],
   "source": [
    "prob = torch.exp(x) / (torch.exp(x) + 1)\n",
    "plt.plot(x,y,'o')\n",
    "plt.plot(x,prob,'--')"
   ]
  },
  {
   "cell_type": "markdown",
   "id": "62e1cd8b-9a63-417d-8e3f-3257dcee1a49",
   "metadata": {},
   "source": [
    "- $\\frac{e^x}{e^x + 1}$\n",
    "    - $x$가 커지면 1에 가까워지고\n",
    "    - $x=0$이면 1/2\n",
    "    - $x$가 작아지면 0에 가까워짐\n",
    "- 하지만 이 수식은 이 경우에만 맞고 확장성이 떨어짐 "
   ]
  },
  {
   "cell_type": "markdown",
   "id": "e3c53216-113e-408b-a8fd-85a50c73d826",
   "metadata": {},
   "source": [
    ")🗣️"
   ]
  },
  {
   "cell_type": "markdown",
   "id": "c2c482cf-343d-4269-8447-93c98759c5f4",
   "metadata": {
    "tags": []
   },
   "source": [
    "`-` 아래와 같이 모형화 하면? "
   ]
  },
  {
   "cell_type": "code",
   "execution_count": 66,
   "id": "f917d0b6-dac4-4e6d-8028-ad25709e034a",
   "metadata": {
    "tags": []
   },
   "outputs": [
    {
     "data": {
      "text/plain": [
       "<matplotlib.legend.Legend at 0x7f9395484250>"
      ]
     },
     "execution_count": 66,
     "metadata": {},
     "output_type": "execute_result"
    },
    {
     "data": {
      "image/png": "[encoded data removed]",
      "text/plain": [
       "<Figure size 450x300 with 1 Axes>"
      ]
     },
     "metadata": {},
     "output_type": "display_data"
    }
   ],
   "source": [
    "plt.plot(x,y,'o', label=r\"observed data (with error) = $(x_i,y_i)$\")\n",
    "plt.plot(x,torch.exp(x)/(1+torch.exp(x)),'o--', label = \"underlying (without error)\")\n",
    "plt.legend()"
   ]
  },
  {
   "cell_type": "markdown",
   "id": "305c78e0-41c3-4bf6-b5e2-6d052b1baaff",
   "metadata": {},
   "source": [
    "## B. $\\hat{\\bf y} = \\frac{\\exp(\\text{linr}({\\bf X}))}{1+\\exp(\\text{linr}({\\bf X}))}$"
   ]
  },
  {
   "cell_type": "markdown",
   "id": "054582d7-af56-4017-a07a-a0d5a134ed52",
   "metadata": {},
   "source": [
    "`-` 걱정: 산점도가 꼭 아래와 같은 방식이 아니라면 어쩌지? "
   ]
  },
  {
   "cell_type": "code",
   "execution_count": 67,
   "id": "e7453ed3-2166-495e-ab6b-d2b139425d24",
   "metadata": {},
   "outputs": [
    {
     "data": {
      "text/plain": [
       "[<matplotlib.lines.Line2D at 0x7f93953a8a00>]"
      ]
     },
     "execution_count": 67,
     "metadata": {},
     "output_type": "execute_result"
    },
    {
     "data": {
      "image/png": "[encoded data removed]",
      "text/plain": [
       "<Figure size 450x300 with 1 Axes>"
      ]
     },
     "metadata": {},
     "output_type": "display_data"
    }
   ],
   "source": [
    "plt.plot(x,y,'o')"
   ]
  },
  {
   "cell_type": "markdown",
   "id": "0497d282-8fba-459f-9379-925e0b0befd1",
   "metadata": {},
   "source": [
    "- $x$가 증가할수록 $y$가 0이 된다면? \n",
    "- 0근처에서 변화가 일어나지 않고 2근처에서 변화가 일어난다면? \n",
    "- 변화가 좀 더 급하게 (혹은 완만하게 일어난다면?) "
   ]
  },
  {
   "cell_type": "markdown",
   "id": "e1c82668-e73b-43de-81e4-a7a0ee5077ae",
   "metadata": {},
   "source": [
    "🗣️("
   ]
  },
  {
   "cell_type": "markdown",
   "id": "31d4cc1f-d5ba-44e8-884d-e4b2d78d3517",
   "metadata": {},
   "source": [
    "- $\\frac{e^{-x}}{e^{-x} + 1}$\n",
    "- 합격률이 낮은 경우\n",
    "- strict하게 결과가 나뉘는 경우(ex. 장학금)"
   ]
  },
  {
   "cell_type": "code",
   "execution_count": 68,
   "id": "0c18686a-52d2-41bd-82c7-b0953680e5fa",
   "metadata": {},
   "outputs": [
    {
     "data": {
      "text/plain": [
       "<matplotlib.legend.Legend at 0x7f9395553790>"
      ]
     },
     "execution_count": 68,
     "metadata": {},
     "output_type": "execute_result"
    },
    {
     "data": {
      "image/png": "[encoded data removed]",
      "text/plain": [
       "<Figure size 450x300 with 1 Axes>"
      ]
     },
     "metadata": {},
     "output_type": "display_data"
    }
   ],
   "source": [
    "plt.plot(x,y,'o', label=r\"observed data (with error) = $(x_i,y_i)$\")\n",
    "plt.plot(x,torch.exp(-x)/(1+torch.exp(-x)),'o--', label = \"underlying (without error)\")\n",
    "plt.legend()"
   ]
  },
  {
   "cell_type": "code",
   "execution_count": 69,
   "id": "d03454e1-f57d-4d57-a996-e3e9173910aa",
   "metadata": {},
   "outputs": [
    {
     "data": {
      "text/plain": [
       "<matplotlib.legend.Legend at 0x7f9395657d00>"
      ]
     },
     "execution_count": 69,
     "metadata": {},
     "output_type": "execute_result"
    },
    {
     "data": {
      "image/png": "[encoded data removed]",
      "text/plain": [
       "<Figure size 450x300 with 1 Axes>"
      ]
     },
     "metadata": {},
     "output_type": "display_data"
    }
   ],
   "source": [
    "plt.plot(x,y,'o', label=r\"observed data (with error) = $(x_i,y_i)$\")\n",
    "plt.plot(x,torch.exp(-x+3)/(1+torch.exp(-x+3)),'o--', label = \"underlying (without error)\")\n",
    "plt.legend()"
   ]
  },
  {
   "cell_type": "code",
   "execution_count": 74,
   "id": "19ca5233-5aaf-436c-8397-a7aa6cb51275",
   "metadata": {},
   "outputs": [
    {
     "data": {
      "text/plain": [
       "<matplotlib.legend.Legend at 0x7f9394dacd60>"
      ]
     },
     "execution_count": 74,
     "metadata": {},
     "output_type": "execute_result"
    },
    {
     "data": {
      "image/png": "[encoded data removed]",
      "text/plain": [
       "<Figure size 450x300 with 1 Axes>"
      ]
     },
     "metadata": {},
     "output_type": "display_data"
    }
   ],
   "source": [
    "plt.plot(x,y,'o', label=r\"observed data (with error) = $(x_i,y_i)$\")\n",
    "plt.plot(x,torch.exp(5*x+3)/(1+torch.exp(5*x+3)),'o--', label = \"underlying (without error)\")\n",
    "plt.legend()"
   ]
  },
  {
   "cell_type": "markdown",
   "id": "d028c790-1add-41fa-89fb-0bfb248ff3e8",
   "metadata": {},
   "source": [
    "- 이러한 5*x+3 등을 일반화하면\n",
    "    - 5*x+3 = w0hat + w1hat * x : 회귀분석 선형 모형\n",
    "    - = w0hat + w1hat * x = linr(x) # x를 linear transform시킴"
   ]
  },
  {
   "cell_type": "markdown",
   "id": "f0186f20-0a1b-4a9e-abc2-de42ad305d05",
   "metadata": {},
   "source": [
    "🔬 0근처에서 변화가 일어나지 않고 2근처에서 변화가 일어난다면?"
   ]
  },
  {
   "cell_type": "code",
   "execution_count": 71,
   "id": "9a72c127-9669-4d0d-8c60-c3301cd80294",
   "metadata": {},
   "outputs": [
    {
     "data": {
      "text/plain": [
       "<matplotlib.legend.Legend at 0x7f939526b550>"
      ]
     },
     "execution_count": 71,
     "metadata": {},
     "output_type": "execute_result"
    },
    {
     "data": {
      "image/png": "[encoded data removed]",
      "text/plain": [
       "<Figure size 450x300 with 1 Axes>"
      ]
     },
     "metadata": {},
     "output_type": "display_data"
    }
   ],
   "source": [
    "plt.plot(x,y,'o', label=r\"observed data (with error) = $(x_i,y_i)$\")\n",
    "plt.plot(x,torch.exp(x-2)/(1+torch.exp(x-2)),'o--', label = \"underlying (without error)\")\n",
    "plt.legend()"
   ]
  },
  {
   "cell_type": "markdown",
   "id": "c0aefa01-64f9-4608-aa72-3078715b7a72",
   "metadata": {},
   "source": [
    "🔬 변화가 좀 더 급하게 일어난다면?"
   ]
  },
  {
   "cell_type": "code",
   "execution_count": 72,
   "id": "95b98f6f-2de4-4694-88ef-61b361656de6",
   "metadata": {
    "tags": []
   },
   "outputs": [
    {
     "data": {
      "text/plain": [
       "<matplotlib.legend.Legend at 0x7f9394ea25b0>"
      ]
     },
     "execution_count": 72,
     "metadata": {},
     "output_type": "execute_result"
    },
    {
     "data": {
      "image/png": "[encoded data removed]",
      "text/plain": [
       "<Figure size 450x300 with 1 Axes>"
      ]
     },
     "metadata": {},
     "output_type": "display_data"
    }
   ],
   "source": [
    "plt.plot(x,y,'o', label=r\"observed data (with error) = $(x_i,y_i)$\")\n",
    "plt.plot(x,torch.exp(3*x)/(1+torch.exp(3*x)),'o--', label = \"underlying (without error)\")\n",
    "plt.legend()"
   ]
  },
  {
   "cell_type": "markdown",
   "id": "8755d5f7-8529-4a25-afdd-dbfa594c9380",
   "metadata": {},
   "source": [
    "🔬 변화가 좀 더 완만하게 일어난다면?"
   ]
  },
  {
   "cell_type": "code",
   "execution_count": 73,
   "id": "2c8ccc34-dec3-4a9e-b0a4-6a4c751d0867",
   "metadata": {
    "tags": []
   },
   "outputs": [
    {
     "data": {
      "text/plain": [
       "<matplotlib.legend.Legend at 0x7f9394e283a0>"
      ]
     },
     "execution_count": 73,
     "metadata": {},
     "output_type": "execute_result"
    },
    {
     "data": {
      "image/png": "[encoded data removed]",
      "text/plain": [
       "<Figure size 450x300 with 1 Axes>"
      ]
     },
     "metadata": {},
     "output_type": "display_data"
    }
   ],
   "source": [
    "plt.plot(x,y,'o', label=r\"observed data (with error) = $(x_i,y_i)$\")\n",
    "plt.plot(x,torch.exp(x/3)/(1+torch.exp(x/3)),'o--', label = \"underlying (without error)\")\n",
    "plt.legend()"
   ]
  },
  {
   "cell_type": "markdown",
   "id": "71f92fca-30f6-4043-838d-c6555d5b8c3f",
   "metadata": {},
   "source": [
    ")🗣️"
   ]
  },
  {
   "cell_type": "code",
   "execution_count": 75,
   "id": "e95baa79-035a-499b-9354-5257129b9025",
   "metadata": {},
   "outputs": [
    {
     "data": {
      "text/plain": [
       "<matplotlib.legend.Legend at 0x7f9394df1580>"
      ]
     },
     "execution_count": 75,
     "metadata": {},
     "output_type": "execute_result"
    },
    {
     "data": {
      "image/png": "[encoded data removed]",
      "text/plain": [
       "<Figure size 450x300 with 1 Axes>"
      ]
     },
     "metadata": {},
     "output_type": "display_data"
    }
   ],
   "source": [
    "plt.plot(x,y,'o', label=r\"observed data (with error) = $(x_i,y_i)$\")\n",
    "plt.plot(x,torch.exp(5*x+3)/(1+torch.exp(5*x+3)),'o--', label = \"underlying (without error)\")\n",
    "plt.legend()"
   ]
  },
  {
   "cell_type": "markdown",
   "id": "73ee9cea-bb95-4676-bd41-3afc0391a421",
   "metadata": {},
   "source": [
    "`-` 걱정해결 "
   ]
  },
  {
   "cell_type": "code",
   "execution_count": 76,
   "id": "943d1a39-c21c-4a2f-974b-f99c7c75f45c",
   "metadata": {
    "tags": []
   },
   "outputs": [
    {
     "data": {
      "text/plain": [
       "<matplotlib.legend.Legend at 0x7f9394c7faf0>"
      ]
     },
     "execution_count": 76,
     "metadata": {},
     "output_type": "execute_result"
    },
    {
     "data": {
      "image/png": "[encoded data removed]",
      "text/plain": [
       "<Figure size 450x300 with 1 Axes>"
      ]
     },
     "metadata": {},
     "output_type": "display_data"
    }
   ],
   "source": [
    "#plt.plot(x,y,'o', label=r\"observed data (with error) = $(x_i,y_i)$\")\n",
    "plt.plot(x,torch.exp(x)/(1+torch.exp(x)),'o--', label = \"underlying type1 (without error)\", color=\"C1\")\n",
    "plt.plot(x,torch.exp(5*x)/(1+torch.exp(5*x)),'o--', label = \"underlying type2 (without error)\", color=\"C2\")\n",
    "plt.legend()"
   ]
  },
  {
   "cell_type": "markdown",
   "id": "bc6f2844-b985-45a9-8d6e-e646492c1d33",
   "metadata": {},
   "source": [
    ":::{.callout-note} \n",
    "\n",
    "**회귀 vs 로지스틱**\n",
    "\n",
    "- ${\\bf X} \\to {\\bf y}$ 에 대한 패턴이 $\\text{linr}({\\bf X}) \\approx {\\bf y}$ 이라면 회귀!\n",
    "- ${\\bf X} \\to {\\bf y}$ 에 대한 패턴이 $\\frac{\\exp(\\text{linr}({\\bf X}))}{1+\\exp(\\text{linr}({\\bf X}))} \\approx {\\bf y}$ 이라면 로지스틱!\n",
    ":::"
   ]
  },
  {
   "cell_type": "markdown",
   "id": "6694cb06-ba97-46a0-9876-6c13a0f0df4b",
   "metadata": {},
   "source": [
    "🗣️("
   ]
  },
  {
   "cell_type": "markdown",
   "id": "87dc7386-3416-48ba-a4f9-6558e2fe8f64",
   "metadata": {},
   "source": [
    "- X를 linear transform했더니 선 자체가 y와 비슷 => 회귀\n",
    "- 위의 그래프를 그리는 식으로 했더니 y와 비슷 => 로지스틱\n",
    "    - 정확히는 확률이 y와 비슷하다면 (y 자체는 0 또는 1) "
   ]
  },
  {
   "cell_type": "markdown",
   "id": "431fcad4-9bac-4eb4-9242-e7e7e1015bdb",
   "metadata": {},
   "source": [
    ")🗣️"
   ]
  },
  {
   "cell_type": "markdown",
   "id": "1aaa3f52-b250-46be-a2f3-d73387e5f7a5",
   "metadata": {},
   "source": [
    "## C. 로지스틱 모형"
   ]
  },
  {
   "cell_type": "markdown",
   "id": "2762f196-8e2e-4042-b91d-210253634cc1",
   "metadata": {
    "tags": []
   },
   "source": [
    "`-` $x$가 커질수록 (혹은 작아질수록) $y=1$이 잘나오는 모형은 아래와 같이 설계할 수 있음\n",
    "\\<— 외우세요!!!\n",
    "\n",
    "-   $y_i \\sim {\\cal B}(\\pi_i),\\quad$ where\n",
    "    $\\pi_i = \\frac{\\exp(w_0+w_1x_i)}{1+\\exp(w_0+w_1x_i)} = \\frac{1}{1+\\exp(-w_0-w_1x_i)}$\n",
    "\n",
    "-   $\\hat{y}_i= \\frac{\\exp(\\hat{w}_0+\\hat{w}_1x_i)}{1+\\exp(\\hat{w}_0+\\hat{w}_1x_i)}=\\frac{1}{1+\\exp(-\\hat{w}_0-\\hat{w}_1x_i)}$"
   ]
  },
  {
   "cell_type": "markdown",
   "id": "ed0e420b-3553-40e0-891e-09ba3cc9e6f7",
   "metadata": {},
   "source": [
    "- 🗣️\n",
    "    - $\\pi_i$는 확률을 의미\n",
    "    - $\\frac{e^{x}}{1 + e^{x}}$ = $\\frac{1}{e^{-x} + 1}$ 에서 $x$ 대신 $w_0+w_1x_i$\n",
    "    - 책 마다 다르지만 오른쪽처럼 많이 씀"
   ]
  },
  {
   "cell_type": "markdown",
   "id": "d9b60641-0338-4876-a44c-4cfd0a184433",
   "metadata": {},
   "source": [
    "`-` 회귀모형과 로지스틱 모형의 비교 \n",
    "\n",
    "- 회귀모형: $y_i \\sim {\\cal N}(w_0+w_1x_i, \\sigma^2)$^[원래는 이렇게 썼었지.. $y_i = w_0 + w_1x_i + \\epsilon_i \\quad \\epsilon_i \\sim {\\cal N}(0,\\sigma^2)$]\n",
    "- 로지스틱: $y_i \\sim {\\cal B}\\big(\\frac{\\exp(w_0+w_1x_i)}{1+\\exp(w_0+w_1x_i)}\\big)$"
   ]
  },
  {
   "cell_type": "markdown",
   "id": "58ef7fa8-5002-48ca-b218-fbee146aa1ad",
   "metadata": {},
   "source": [
    "- 🗣️\n",
    "    - 회귀모형: 오차항의 관점에서 해석\n",
    "    - 로지스틱(y가 0 또는 1): 위의 곡선을 나타내는 일반적인 수식\n",
    "        - => 이 수식값을 토대로 베르누이 시행을 하면 오차항까지 설명 가능한 모델이 됨"
   ]
  },
  {
   "cell_type": "markdown",
   "id": "c662831b-273f-4364-91bc-79a85aba24bd",
   "metadata": {},
   "source": [
    "`-` 우리가 예측하고 싶은것 \n",
    "\n",
    "- 회귀모형: 정규분포의 평균을 예측하고 싶음. 즉 $w_0+w_1x_i$를 예측하고 싶음. 예측값으로는 $\\hat{w}_0 + \\hat{w}_1x_i$를 사용!\n",
    "- 로지스틱: 베르누이의 평균을 예측하고 싶음. 즉 $\\frac{\\exp(w_0+w_1x_i)}{1+\\exp(w_0+w_1x_i)}$를 예측하고 싶음. 예측값으로는 $\\frac{\\exp(\\hat{w}_0+\\hat{w}_1x_i)}{1+\\exp(\\hat{w}_0+\\hat{w}_1x_i)}$를 사용!"
   ]
  },
  {
   "cell_type": "markdown",
   "id": "a72b2bbd-7c93-4776-badd-289e8f2fe323",
   "metadata": {},
   "source": [
    "- 🗣️\n",
    "    - 둘 다 $\\hat{w}_0$, $\\hat{w}_1$를 추정하면 각각 직선과 곡선이 결정됨\n",
    "    - 베르누이의 평균은 $p$\n",
    "        - 즉, 확률을 예측하고 싶음 "
   ]
  }
 ],
 "metadata": {
  "kernelspec": {
   "display_name": "Python 3 (ipykernel)",
   "language": "python",
   "name": "python3"
  },
  "language_info": {
   "codemirror_mode": {
    "name": "ipython",
    "version": 3
   },
   "file_extension": ".py",
   "mimetype": "text/x-python",
   "name": "python",
   "nbconvert_exporter": "python",
   "pygments_lexer": "ipython3",
   "version": "3.9.18"
  }
 },
 "nbformat": 4,
 "nbformat_minor": 5
}
