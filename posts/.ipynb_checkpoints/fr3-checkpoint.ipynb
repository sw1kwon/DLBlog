{
 "cells": [
  {
   "cell_type": "raw",
   "id": "4b2ec05b-1a64-4a94-ba8e-6ddd99e7463d",
   "metadata": {
    "id": "87b5cded-346b-4915-acf5-b5ec93a5207d"
   },
   "source": [
    "---\n",
    "title: \"final review 3\"\n",
    "author: \"sw1kwon\"\n",
    "date: \"06/25/2025\"\n",
    "draft: true\n",
    "---"
   ]
  },
  {
   "cell_type": "code",
   "execution_count": 1,
   "id": "bc72c5c9-6d8d-4b02-a8a7-2819420e857f",
   "metadata": {
    "tags": []
   },
   "outputs": [],
   "source": [
    "import torch\n",
    "import numpy as np\n",
    "import matplotlib.pyplot as plt\n",
    "#--# 문제1\n",
    "import pandas as pd\n",
    "import sklearn.model_selection\n",
    "#--# 문제4\n",
    "import gymnasium as gym\n",
    "import IPython\n",
    "from matplotlib.animation import FuncAnimation\n",
    "import collections\n",
    "import random"
   ]
  },
  {
   "cell_type": "markdown",
   "id": "66b88a39-2ec1-452b-8f9d-460f3fde2204",
   "metadata": {},
   "source": [
    "# 3. `Human_Numbers`"
   ]
  },
  {
   "cell_type": "markdown",
   "id": "7183db32-ad0d-4ad1-9e21-10b5465a0d74",
   "metadata": {},
   "source": [
    "`HUMAN_NUMBERS_train.txt`  사람이 읽을 수 있는 형식으로 숫자가 나열된 텍스트 파일이다. 이 텍스트 파일을 이용하여 “현재 단어가 주어졌을 때 다음 단어를 예측하는” 신경망을 설계하고 학습시킬 것이다. 아래는 해당 파일을 불러와 단어 단위로 나눈 결과를 확인하는 코드이다. "
   ]
  },
  {
   "cell_type": "code",
   "execution_count": 3,
   "id": "b75a6320-b49f-4766-b37a-cf4ae89b6636",
   "metadata": {},
   "outputs": [
    {
     "name": "stdout",
     "output_type": "stream",
     "text": [
      "--2025-06-18 06:32:13--  https://raw.githubusercontent.com/guebin/DL2025/main/posts/HUMAN_NUMBERS_train.txt\n",
      "Resolving raw.githubusercontent.com (raw.githubusercontent.com)... 185.199.109.133, 185.199.108.133, 185.199.111.133, ...\n",
      "Connecting to raw.githubusercontent.com (raw.githubusercontent.com)|185.199.109.133|:443... failed: Connection timed out.\n",
      "Connecting to raw.githubusercontent.com (raw.githubusercontent.com)|185.199.108.133|:443... connected.\n",
      "HTTP request sent, awaiting response... 200 OK\n",
      "Length: 280599 (274K) [text/plain]\n",
      "Saving to: ‘HUMAN_NUMBERS_train.txt’\n",
      "\n",
      "HUMAN_NUMBERS_train 100%[===================>] 274.02K  --.-KB/s    in 0.02s   \n",
      "\n",
      "2025-06-18 06:34:23 (16.0 MB/s) - ‘HUMAN_NUMBERS_train.txt’ saved [280599/280599]\n",
      "\n"
     ]
    }
   ],
   "source": [
    "!wget https://raw.githubusercontent.com/guebin/DL2025/main/posts/HUMAN_NUMBERS_train.txt\n",
    "with open('HUMAN_NUMBERS_train.txt') as f:\n",
    "    words = f.read().split()"
   ]
  },
  {
   "cell_type": "code",
   "execution_count": 2,
   "id": "27e130b9-154b-4681-894c-ad5564ceed93",
   "metadata": {},
   "outputs": [],
   "source": [
    "with open('HUMAN_NUMBERS_train.txt') as f:\n",
    "    words = f.read().split()"
   ]
  },
  {
   "cell_type": "code",
   "execution_count": 3,
   "id": "5819aadc-263f-41b5-83c1-eec0e590aab2",
   "metadata": {},
   "outputs": [
    {
     "name": "stdout",
     "output_type": "stream",
     "text": [
      "['seven', 'thousand', 'nine', 'hundred', 'ninety', 'eight', 'seven', 'thousand', 'nine', 'hundred', 'ninety', 'nine']\n"
     ]
    }
   ],
   "source": [
    "print(words[-12:])"
   ]
  },
  {
   "cell_type": "markdown",
   "id": "7557b843-4f1f-41bb-b105-c61eda6fb67a",
   "metadata": {},
   "source": [
    "이 텍스트 파일에는 예를 들어 \"... seven, thousand, nine, hundred, ninety, eight, ...\" 등과 같은 사람이 읽는 숫자 표현이 단어 단위로 나열된 시퀀스 형태로 저장되어 있다."
   ]
  },
  {
   "cell_type": "markdown",
   "id": "92a4789a-3598-4c33-ac58-4e28c7afd2b3",
   "metadata": {},
   "source": [
    " 이러한 데이터에서 \"현재 단어가 주어졌을 때 다음 단어를 예측하는\" 자연어 처리 모델을 학습하라. 즉 아래와 같은 맵핑을 학습하라. (꼭 다맞출 필요는 없습니다)\n",
    "\n",
    "- ...  seven, thousand, nine, hundred, ninety, eight $\\to$ seven\n",
    "- ...  seven, thousand, nine, hundred, ninety, eight, seven $\\to$ thousand\n",
    "- ...  seven, thousand, nine, hundred, ninety, eight, seven, thousand $\\to$ nine "
   ]
  },
  {
   "cell_type": "markdown",
   "id": "5c207496-ec62-49a9-b1e0-370acde05ff3",
   "metadata": {},
   "source": [
    "**제약사항**\n",
    "\n",
    "- one-hot 전처리 코드를 포함할 것\n",
    "- `torch.nn.RNN`, `torch.nn.RNNCell`, `torch.nn.LSTM` 중 하나를 이용할 것 \n",
    "- 처음 12개의 단어와  마지막 12개의 단어에 대한 적합값(fitted value)을 제시할 것 "
   ]
  },
  {
   "cell_type": "markdown",
   "id": "1933a56a-f4bf-4e09-8858-d20adbd46b20",
   "metadata": {},
   "source": [
    "**hint**: 아래의 코드를 이용하여 전처리하면 편리하다. "
   ]
  },
  {
   "cell_type": "code",
   "execution_count": 4,
   "id": "27dfec5e-0c02-4d6c-89b5-988c72233baf",
   "metadata": {},
   "outputs": [
    {
     "data": {
      "text/html": [
       "<div>\n",
       "<style scoped>\n",
       "    .dataframe tbody tr th:only-of-type {\n",
       "        vertical-align: middle;\n",
       "    }\n",
       "\n",
       "    .dataframe tbody tr th {\n",
       "        vertical-align: top;\n",
       "    }\n",
       "\n",
       "    .dataframe thead th {\n",
       "        text-align: right;\n",
       "    }\n",
       "</style>\n",
       "<table border=\"1\" class=\"dataframe\">\n",
       "  <thead>\n",
       "    <tr style=\"text-align: right;\">\n",
       "      <th></th>\n",
       "      <th>x</th>\n",
       "      <th>y</th>\n",
       "    </tr>\n",
       "  </thead>\n",
       "  <tbody>\n",
       "    <tr>\n",
       "      <th>0</th>\n",
       "      <td>one</td>\n",
       "      <td>two</td>\n",
       "    </tr>\n",
       "    <tr>\n",
       "      <th>1</th>\n",
       "      <td>two</td>\n",
       "      <td>three</td>\n",
       "    </tr>\n",
       "    <tr>\n",
       "      <th>2</th>\n",
       "      <td>three</td>\n",
       "      <td>four</td>\n",
       "    </tr>\n",
       "    <tr>\n",
       "      <th>3</th>\n",
       "      <td>four</td>\n",
       "      <td>five</td>\n",
       "    </tr>\n",
       "    <tr>\n",
       "      <th>4</th>\n",
       "      <td>five</td>\n",
       "      <td>six</td>\n",
       "    </tr>\n",
       "    <tr>\n",
       "      <th>...</th>\n",
       "      <td>...</td>\n",
       "      <td>...</td>\n",
       "    </tr>\n",
       "    <tr>\n",
       "      <th>42074</th>\n",
       "      <td>seven</td>\n",
       "      <td>thousand</td>\n",
       "    </tr>\n",
       "    <tr>\n",
       "      <th>42075</th>\n",
       "      <td>thousand</td>\n",
       "      <td>nine</td>\n",
       "    </tr>\n",
       "    <tr>\n",
       "      <th>42076</th>\n",
       "      <td>nine</td>\n",
       "      <td>hundred</td>\n",
       "    </tr>\n",
       "    <tr>\n",
       "      <th>42077</th>\n",
       "      <td>hundred</td>\n",
       "      <td>ninety</td>\n",
       "    </tr>\n",
       "    <tr>\n",
       "      <th>42078</th>\n",
       "      <td>ninety</td>\n",
       "      <td>nine</td>\n",
       "    </tr>\n",
       "  </tbody>\n",
       "</table>\n",
       "<p>42079 rows × 2 columns</p>\n",
       "</div>"
      ],
      "text/plain": [
       "              x         y\n",
       "0           one       two\n",
       "1           two     three\n",
       "2         three      four\n",
       "3          four      five\n",
       "4          five       six\n",
       "...         ...       ...\n",
       "42074     seven  thousand\n",
       "42075  thousand      nine\n",
       "42076      nine   hundred\n",
       "42077   hundred    ninety\n",
       "42078    ninety      nine\n",
       "\n",
       "[42079 rows x 2 columns]"
      ]
     },
     "execution_count": 4,
     "metadata": {},
     "output_type": "execute_result"
    }
   ],
   "source": [
    "df_train = pd.DataFrame({'x': words[:-1], 'y': words[1:]})\n",
    "df_train"
   ]
  },
  {
   "cell_type": "code",
   "execution_count": 5,
   "id": "822a0663-b67e-4405-a686-42be15245b49",
   "metadata": {},
   "outputs": [],
   "source": [
    "# 전체 vocab 기준으로 맵핑\n",
    "vocab = sorted(set(words))\n",
    "dct= {w: i for i, w in enumerate(vocab)}\n",
    "# train 데이터셋\n",
    "x = torch.tensor(df_train.x.map(dct))\n",
    "y = torch.tensor(df_train.y.map(dct))"
   ]
  },
  {
   "cell_type": "code",
   "execution_count": 6,
   "id": "336f9406-09d0-4eba-b8b3-66e028bbcab4",
   "metadata": {},
   "outputs": [
    {
     "data": {
      "text/plain": [
       "['eight',\n",
       " 'eighteen',\n",
       " 'eighty',\n",
       " 'eleven',\n",
       " 'fifteen',\n",
       " 'fifty',\n",
       " 'five',\n",
       " 'forty',\n",
       " 'four',\n",
       " 'fourteen',\n",
       " 'hundred',\n",
       " 'nine',\n",
       " 'nineteen',\n",
       " 'ninety',\n",
       " 'one',\n",
       " 'seven',\n",
       " 'seventeen',\n",
       " 'seventy',\n",
       " 'six',\n",
       " 'sixteen',\n",
       " 'sixty',\n",
       " 'ten',\n",
       " 'thirteen',\n",
       " 'thirty',\n",
       " 'thousand',\n",
       " 'three',\n",
       " 'twelve',\n",
       " 'twenty',\n",
       " 'two']"
      ]
     },
     "execution_count": 6,
     "metadata": {},
     "output_type": "execute_result"
    }
   ],
   "source": [
    "vocab"
   ]
  },
  {
   "cell_type": "code",
   "execution_count": 7,
   "id": "c0116cb9-f4b2-4ed6-badd-e349251f5dc1",
   "metadata": {},
   "outputs": [
    {
     "data": {
      "text/plain": [
       "29"
      ]
     },
     "execution_count": 7,
     "metadata": {},
     "output_type": "execute_result"
    }
   ],
   "source": [
    "len(vocab)"
   ]
  },
  {
   "cell_type": "code",
   "execution_count": 8,
   "id": "a5f6bb19-a6dc-49b3-9c75-7b762fd74f23",
   "metadata": {},
   "outputs": [
    {
     "data": {
      "text/plain": [
       "{'eight': 0,\n",
       " 'eighteen': 1,\n",
       " 'eighty': 2,\n",
       " 'eleven': 3,\n",
       " 'fifteen': 4,\n",
       " 'fifty': 5,\n",
       " 'five': 6,\n",
       " 'forty': 7,\n",
       " 'four': 8,\n",
       " 'fourteen': 9,\n",
       " 'hundred': 10,\n",
       " 'nine': 11,\n",
       " 'nineteen': 12,\n",
       " 'ninety': 13,\n",
       " 'one': 14,\n",
       " 'seven': 15,\n",
       " 'seventeen': 16,\n",
       " 'seventy': 17,\n",
       " 'six': 18,\n",
       " 'sixteen': 19,\n",
       " 'sixty': 20,\n",
       " 'ten': 21,\n",
       " 'thirteen': 22,\n",
       " 'thirty': 23,\n",
       " 'thousand': 24,\n",
       " 'three': 25,\n",
       " 'twelve': 26,\n",
       " 'twenty': 27,\n",
       " 'two': 28}"
      ]
     },
     "execution_count": 8,
     "metadata": {},
     "output_type": "execute_result"
    }
   ],
   "source": [
    "dct"
   ]
  },
  {
   "cell_type": "markdown",
   "id": "2e2e1338-4f4e-4440-ab4b-cce3003cf60b",
   "metadata": {},
   "source": [
    "- one-hot 전처리 코드"
   ]
  },
  {
   "cell_type": "code",
   "execution_count": 10,
   "id": "934135d6-1f69-45bc-b8aa-d366dc8f4b5e",
   "metadata": {},
   "outputs": [],
   "source": [
    "X = torch.nn.functional.one_hot(x).float()\n",
    "y = torch.nn.functional.one_hot(y).float()"
   ]
  },
  {
   "cell_type": "code",
   "execution_count": 11,
   "id": "2bc84cb0-9af8-4bbc-a8f8-8420de27b3e4",
   "metadata": {},
   "outputs": [
    {
     "data": {
      "text/plain": [
       "(torch.Size([42079, 29]), torch.Size([42079, 29]))"
      ]
     },
     "execution_count": 11,
     "metadata": {},
     "output_type": "execute_result"
    }
   ],
   "source": [
    "X.shape, y.shape"
   ]
  },
  {
   "cell_type": "markdown",
   "id": "3da0a07b-6347-4f43-925f-faf6d421c124",
   "metadata": {},
   "source": [
    "## 기존 풀이 (틀림)"
   ]
  },
  {
   "cell_type": "markdown",
   "id": "74788d96-72bc-4e81-84e2-4afc85ff3d40",
   "metadata": {},
   "source": [
    "- torch.nn.LSTM"
   ]
  },
  {
   "cell_type": "code",
   "execution_count": 12,
   "id": "37ec32e1-2046-440c-af8c-880c466201d6",
   "metadata": {},
   "outputs": [],
   "source": [
    "torch.manual_seed(5)\n",
    "lstm = torch.nn.LSTM(\n",
    "    input_size  = 29, # X.shape = (L,29)\n",
    "    hidden_size = 2, # h.shape = (L,2)\n",
    "    num_layers = 1,  # num_layers = 1 이라는 의미 \n",
    "    bidirectional = False # D=1 이라는 의미 \n",
    ")    \n",
    "cook = torch.nn.Linear(2,29)\n",
    "loss_fn = torch.nn.CrossEntropyLoss()\n",
    "optimizr = torch.optim.Adam(\n",
    "    list(lstm.parameters())+\n",
    "    list(cook.parameters()),\n",
    "    lr=0.1\n",
    ")\n",
    "#---#\n",
    "for epoc in range(200):\n",
    "    # 1\n",
    "    h, _ = lstm(X) # rnn의 결과는 길이가 2인 튜플이고, 첫원소가 h \n",
    "    netout = cook(h)\n",
    "    # 2 \n",
    "    loss = loss_fn(netout, y)\n",
    "    # 3\n",
    "    loss.backward()\n",
    "    # 4 \n",
    "    optimizr.step()\n",
    "    optimizr.zero_grad()"
   ]
  },
  {
   "cell_type": "code",
   "execution_count": 13,
   "id": "5f915e59-30e4-4e1e-92a9-23bae51f8b78",
   "metadata": {},
   "outputs": [],
   "source": [
    "yhat = torch.nn.functional.softmax(netout,dim=1)"
   ]
  },
  {
   "cell_type": "markdown",
   "id": "8ddd8679-994d-4a8a-8e8e-b97ffa6db405",
   "metadata": {},
   "source": [
    "- 처음 12개의 단어와 마지막 12개의 단어에 대한 적합값(fitted value)을 제시"
   ]
  },
  {
   "cell_type": "code",
   "execution_count": 14,
   "id": "05e0dc54-1724-4cd4-8cf5-f80e4ab4987b",
   "metadata": {},
   "outputs": [
    {
     "data": {
      "text/plain": [
       "tensor([[1.5848e-05, 6.8493e-06, 3.4633e-07,  ..., 1.9942e-06, 5.1928e-07,\n",
       "         9.1639e-04],\n",
       "        [1.8921e-05, 5.4279e-06, 2.6273e-07,  ..., 1.5076e-06, 3.9237e-07,\n",
       "         1.0290e-03],\n",
       "        [2.6468e-05, 7.7439e-06, 4.1175e-07,  ..., 2.2037e-06, 6.1075e-07,\n",
       "         1.3581e-03],\n",
       "        ...,\n",
       "        [2.0989e-04, 2.3373e-04, 5.2029e-05,  ..., 1.0565e-04, 7.0884e-05,\n",
       "         5.5811e-03],\n",
       "        [9.7104e-03, 7.8019e-03, 9.7290e-02,  ..., 8.9866e-03, 9.7032e-02,\n",
       "         1.6517e-02],\n",
       "        [1.1783e-01, 7.6676e-04, 5.3032e-03,  ..., 4.9830e-04, 5.0763e-03,\n",
       "         1.0248e-01]], grad_fn=<SoftmaxBackward0>)"
      ]
     },
     "execution_count": 14,
     "metadata": {},
     "output_type": "execute_result"
    }
   ],
   "source": [
    "yhat"
   ]
  },
  {
   "cell_type": "code",
   "execution_count": 15,
   "id": "5b554ea1-6446-4b28-9378-153b8639421f",
   "metadata": {},
   "outputs": [
    {
     "data": {
      "text/plain": [
       "torch.Size([42079, 29])"
      ]
     },
     "execution_count": 15,
     "metadata": {},
     "output_type": "execute_result"
    }
   ],
   "source": [
    "yhat.shape"
   ]
  },
  {
   "cell_type": "code",
   "execution_count": 16,
   "id": "75ae041a-dd39-4a7c-a2ff-ba27924d518e",
   "metadata": {},
   "outputs": [],
   "source": [
    "# 1) 예측 인덱스 & 단어\n",
    "pred_idx   = yhat.argmax(dim=1).cpu().numpy()           # (L,)\n",
    "pred_words = [vocab[i] for i in pred_idx]               # 예측 단어 리스트"
   ]
  },
  {
   "cell_type": "code",
   "execution_count": 17,
   "id": "b38456b4-af15-4ede-9c25-142e46a6f637",
   "metadata": {},
   "outputs": [],
   "source": [
    "# 2) 결과 DataFrame 생성\n",
    "df_out = pd.DataFrame({\n",
    "    'true':  df_train['y'].values,  # 실제 단어\n",
    "    'pred':  pred_words            # 예측 단어\n",
    "})"
   ]
  },
  {
   "cell_type": "code",
   "execution_count": 18,
   "id": "f8dfedb7-ef70-4fa3-a9fc-7e8bca194b73",
   "metadata": {},
   "outputs": [
    {
     "name": "stdout",
     "output_type": "stream",
     "text": [
      "=== First 12 Predictions ===\n",
      "        true      pred\n",
      "0        two  thousand\n",
      "1      three  thousand\n",
      "2       four  thousand\n",
      "3       five  thousand\n",
      "4        six  thousand\n",
      "5      seven  thousand\n",
      "6      eight  thousand\n",
      "7       nine      four\n",
      "8        ten   hundred\n",
      "9     eleven      four\n",
      "10    twelve   hundred\n",
      "11  thirteen  thousand\n",
      "\n",
      "=== Last 12 Predictions ===\n",
      "           true      pred\n",
      "42067     seven   hundred\n",
      "42068  thousand  thousand\n",
      "42069      nine      four\n",
      "42070   hundred   hundred\n",
      "42071    ninety   seventy\n",
      "42072     eight      nine\n",
      "42073     seven       one\n",
      "42074  thousand  thousand\n",
      "42075      nine      four\n",
      "42076   hundred   hundred\n",
      "42077    ninety   seventy\n",
      "42078      nine      nine\n"
     ]
    }
   ],
   "source": [
    "# 3) 처음 12개와 마지막 12개 추출·출력\n",
    "print(\"=== First 12 Predictions ===\")\n",
    "print(df_out.head(12))\n",
    "\n",
    "print(\"\\n=== Last 12 Predictions ===\")\n",
    "print(df_out.tail(12))"
   ]
  },
  {
   "cell_type": "code",
   "execution_count": 19,
   "id": "4f8697b7-a36e-47c4-aaba-7c0e39995b20",
   "metadata": {
    "scrolled": true
   },
   "outputs": [
    {
     "name": "stdout",
     "output_type": "stream",
     "text": [
      "    chunk  accuracy\n",
      "0       0  0.076000\n",
      "1       1  0.087000\n",
      "2       2  0.077000\n",
      "3       3  0.216000\n",
      "4       4  0.395000\n",
      "5       5  0.462000\n",
      "6       6  0.425000\n",
      "7       7  0.400000\n",
      "8       8  0.396000\n",
      "9       9  0.334000\n",
      "10     10  0.361000\n",
      "11     11  0.469000\n",
      "12     12  0.372000\n",
      "13     13  0.369000\n",
      "14     14  0.333000\n",
      "15     15  0.365000\n",
      "16     16  0.431000\n",
      "17     17  0.403000\n",
      "18     18  0.373000\n",
      "19     19  0.364000\n",
      "20     20  0.417000\n",
      "21     21  0.383000\n",
      "22     22  0.496000\n",
      "23     23  0.397000\n",
      "24     24  0.377000\n",
      "25     25  0.351000\n",
      "26     26  0.365000\n",
      "27     27  0.429000\n",
      "28     28  0.406000\n",
      "29     29  0.372000\n",
      "30     30  0.366000\n",
      "31     31  0.329000\n",
      "32     32  0.362000\n",
      "33     33  0.472000\n",
      "34     34  0.372000\n",
      "35     35  0.366000\n",
      "36     36  0.333000\n",
      "37     37  0.363000\n",
      "38     38  0.428000\n",
      "39     39  0.410000\n",
      "40     40  0.371000\n",
      "41     41  0.367000\n",
      "42     42  0.341772\n"
     ]
    }
   ],
   "source": [
    "# 1) 청크 번호 생성\n",
    "chunk_size = 1000\n",
    "df_out['chunk'] = np.arange(len(df_out)) // chunk_size\n",
    "\n",
    "# 2) 맞혔는지 여부 컬럼 추가\n",
    "df_out['correct'] = (df_out['true'] == df_out['pred'])\n",
    "\n",
    "# 3) 청크별 정확도(accuracy) 계산\n",
    "accuracy_per_chunk = (\n",
    "    df_out\n",
    "    .groupby('chunk', as_index=False)['correct']\n",
    "    .mean()\n",
    "    .rename(columns={'correct': 'accuracy'})\n",
    ")\n",
    "\n",
    "print(accuracy_per_chunk)"
   ]
  },
  {
   "cell_type": "markdown",
   "id": "754742bb-3ae0-42d3-b421-969019a4abf9",
   "metadata": {},
   "source": [
    "- 적합률이 많이 떨어짐\n",
    "- 이후 GPT4o를 활용하여 다른 모델들도 실행하여 제출했으나 생략\n",
    "    - 적합률이 대부분 떨어지고 높더라도 모르는 내용이 많음"
   ]
  },
  {
   "cell_type": "markdown",
   "id": "d0242703-78a7-4211-b669-1f9d224c49b2",
   "metadata": {},
   "source": [
    "## 보완 풀이 1 (hidden_size=5)"
   ]
  },
  {
   "cell_type": "markdown",
   "id": "d2c4c8ab-9989-4bb9-969d-1c8ee7216fb9",
   "metadata": {},
   "source": [
    "- input size가 29이기 때문에 hidden_size를 5로 수정\n",
    "    - 29 < 2^5라고 생각 "
   ]
  },
  {
   "cell_type": "markdown",
   "id": "d4e187ee-40d4-4498-b15c-f7497d124ae3",
   "metadata": {},
   "source": [
    "- torch.nn.LSTM"
   ]
  },
  {
   "cell_type": "code",
   "execution_count": 20,
   "id": "9d3aa044-2a43-4ab6-921a-407a0f6a3419",
   "metadata": {},
   "outputs": [],
   "source": [
    "torch.manual_seed(5)\n",
    "lstm = torch.nn.LSTM(\n",
    "    input_size  = 29, # X.shape = (L,29)\n",
    "    hidden_size = 5, # h.shape = (L,5)\n",
    "    num_layers = 1,  # num_layers = 1 이라는 의미 \n",
    "    bidirectional = False # D=1 이라는 의미 \n",
    ")    \n",
    "cook = torch.nn.Linear(5,29)\n",
    "loss_fn = torch.nn.CrossEntropyLoss()\n",
    "optimizr = torch.optim.Adam(\n",
    "    list(lstm.parameters())+\n",
    "    list(cook.parameters()),\n",
    "    lr=0.1\n",
    ")\n",
    "#---#\n",
    "for epoc in range(200):\n",
    "    # 1\n",
    "    h, _ = lstm(X) # rnn의 결과는 길이가 2인 튜플이고, 첫원소가 h \n",
    "    netout = cook(h)\n",
    "    # 2 \n",
    "    loss = loss_fn(netout, y)\n",
    "    # 3\n",
    "    loss.backward()\n",
    "    # 4 \n",
    "    optimizr.step()\n",
    "    optimizr.zero_grad()"
   ]
  },
  {
   "cell_type": "code",
   "execution_count": 21,
   "id": "239cdecb-4413-4fa6-8e40-8f077891c80a",
   "metadata": {},
   "outputs": [],
   "source": [
    "yhat = torch.nn.functional.softmax(netout,dim=1)"
   ]
  },
  {
   "cell_type": "code",
   "execution_count": 22,
   "id": "6d5fbdd2-175f-4c5f-8644-f3346237c0c1",
   "metadata": {},
   "outputs": [
    {
     "data": {
      "text/plain": [
       "tensor([[1.4474e-03, 5.3983e-04, 5.0411e-03,  ..., 1.7794e-04, 4.3711e-03,\n",
       "         1.0791e-02],\n",
       "        [1.8573e-03, 3.2795e-03, 5.9997e-03,  ..., 2.0096e-04, 4.4850e-03,\n",
       "         5.3760e-03],\n",
       "        [1.9884e-04, 8.0082e-04, 2.0528e-03,  ..., 4.2291e-05, 1.9412e-03,\n",
       "         8.5825e-04],\n",
       "        ...,\n",
       "        [9.6103e-05, 3.5775e-06, 1.4959e-04,  ..., 9.4313e-06, 1.2673e-04,\n",
       "         7.5691e-04],\n",
       "        [3.3314e-03, 4.9775e-03, 1.0756e-01,  ..., 1.1231e-02, 1.1286e-01,\n",
       "         3.3395e-03],\n",
       "        [9.1997e-02, 1.1108e-05, 1.1170e-04,  ..., 3.3530e-05, 1.4796e-04,\n",
       "         1.0327e-01]], grad_fn=<SoftmaxBackward0>)"
      ]
     },
     "execution_count": 22,
     "metadata": {},
     "output_type": "execute_result"
    }
   ],
   "source": [
    "yhat"
   ]
  },
  {
   "cell_type": "code",
   "execution_count": 23,
   "id": "68af70b3-92a3-4be6-869b-bf4d7d177725",
   "metadata": {},
   "outputs": [
    {
     "data": {
      "text/plain": [
       "torch.Size([42079, 29])"
      ]
     },
     "execution_count": 23,
     "metadata": {},
     "output_type": "execute_result"
    }
   ],
   "source": [
    "yhat.shape"
   ]
  },
  {
   "cell_type": "code",
   "execution_count": 24,
   "id": "36673973-39bf-4142-a8ab-253fc0c34929",
   "metadata": {},
   "outputs": [],
   "source": [
    "# 1) 예측 인덱스 & 단어\n",
    "pred_idx   = yhat.argmax(dim=1).cpu().numpy()           # (L,)\n",
    "pred_words = [vocab[i] for i in pred_idx]               # 예측 단어 리스트"
   ]
  },
  {
   "cell_type": "code",
   "execution_count": 25,
   "id": "c6e29c8e-ea75-4936-881a-47d157a8ab28",
   "metadata": {},
   "outputs": [],
   "source": [
    "# 2) 결과 DataFrame 생성\n",
    "df_out = pd.DataFrame({\n",
    "    'true':  df_train['y'].values,  # 실제 단어\n",
    "    'pred':  pred_words            # 예측 단어\n",
    "})"
   ]
  },
  {
   "cell_type": "code",
   "execution_count": 26,
   "id": "6aa7fd65-7cb6-438a-9eff-0e4b58ca8e94",
   "metadata": {},
   "outputs": [
    {
     "name": "stdout",
     "output_type": "stream",
     "text": [
      "=== First 12 Predictions ===\n",
      "        true      pred\n",
      "0        two   hundred\n",
      "1      three  thousand\n",
      "2       four  thousand\n",
      "3       five  thousand\n",
      "4        six  thousand\n",
      "5      seven  thousand\n",
      "6      eight  thousand\n",
      "7       nine   hundred\n",
      "8        ten   hundred\n",
      "9     eleven      four\n",
      "10    twelve      four\n",
      "11  thirteen  thousand\n",
      "\n",
      "=== Last 12 Predictions ===\n",
      "           true      pred\n",
      "42067     seven      four\n",
      "42068  thousand  thousand\n",
      "42069      nine       one\n",
      "42070   hundred   hundred\n",
      "42071    ninety     fifty\n",
      "42072     eight      four\n",
      "42073     seven      four\n",
      "42074  thousand  thousand\n",
      "42075      nine      four\n",
      "42076   hundred   hundred\n",
      "42077    ninety    twenty\n",
      "42078      nine      five\n"
     ]
    }
   ],
   "source": [
    "# 3) 처음 12개와 마지막 12개 추출·출력\n",
    "print(\"=== First 12 Predictions ===\")\n",
    "print(df_out.head(12))\n",
    "\n",
    "print(\"\\n=== Last 12 Predictions ===\")\n",
    "print(df_out.tail(12))"
   ]
  },
  {
   "cell_type": "code",
   "execution_count": 27,
   "id": "e834ae68-6a88-4e2a-94b3-386511deef72",
   "metadata": {
    "scrolled": true
   },
   "outputs": [
    {
     "name": "stdout",
     "output_type": "stream",
     "text": [
      "    chunk  accuracy\n",
      "0       0  0.318000\n",
      "1       1  0.290000\n",
      "2       2  0.294000\n",
      "3       3  0.358000\n",
      "4       4  0.456000\n",
      "5       5  0.512000\n",
      "6       6  0.484000\n",
      "7       7  0.459000\n",
      "8       8  0.456000\n",
      "9       9  0.379000\n",
      "10     10  0.399000\n",
      "11     11  0.480000\n",
      "12     12  0.417000\n",
      "13     13  0.403000\n",
      "14     14  0.385000\n",
      "15     15  0.425000\n",
      "16     16  0.437000\n",
      "17     17  0.429000\n",
      "18     18  0.396000\n",
      "19     19  0.417000\n",
      "20     20  0.432000\n",
      "21     21  0.452000\n",
      "22     22  0.543000\n",
      "23     23  0.475000\n",
      "24     24  0.450000\n",
      "25     25  0.411000\n",
      "26     26  0.476000\n",
      "27     27  0.456000\n",
      "28     28  0.461000\n",
      "29     29  0.423000\n",
      "30     30  0.460000\n",
      "31     31  0.377000\n",
      "32     32  0.397000\n",
      "33     33  0.463000\n",
      "34     34  0.415000\n",
      "35     35  0.393000\n",
      "36     36  0.367000\n",
      "37     37  0.438000\n",
      "38     38  0.425000\n",
      "39     39  0.434000\n",
      "40     40  0.395000\n",
      "41     41  0.419000\n",
      "42     42  0.367089\n"
     ]
    }
   ],
   "source": [
    "# 1) 청크 번호 생성\n",
    "chunk_size = 1000\n",
    "df_out['chunk'] = np.arange(len(df_out)) // chunk_size\n",
    "\n",
    "# 2) 맞혔는지 여부 컬럼 추가\n",
    "df_out['correct'] = (df_out['true'] == df_out['pred'])\n",
    "\n",
    "# 3) 청크별 정확도(accuracy) 계산\n",
    "accuracy_per_chunk = (\n",
    "    df_out\n",
    "    .groupby('chunk', as_index=False)['correct']\n",
    "    .mean()\n",
    "    .rename(columns={'correct': 'accuracy'})\n",
    ")\n",
    "\n",
    "print(accuracy_per_chunk)"
   ]
  },
  {
   "cell_type": "markdown",
   "id": "aed7e3a0-fbbb-4c29-a8c3-9361bdaaf271",
   "metadata": {},
   "source": [
    "- 비슷함\n",
    "- seed를 0,1로도 해봤으나 마찬가지 결과"
   ]
  },
  {
   "cell_type": "markdown",
   "id": "fa841886-0bc1-4ed2-a696-5f374aba8cf8",
   "metadata": {},
   "source": [
    "## 보완 풀이 2 (역방향 추가)"
   ]
  },
  {
   "cell_type": "markdown",
   "id": "19a94803-e599-4bf2-8d7d-dfcfb6adab8d",
   "metadata": {},
   "source": [
    "- 문자열이 복잡하므로 역방향 학습을 해보기로 함\n",
    "    - bidrectional = True 설정 후\n",
    "    - 그에 맞춰 cook도 수정 "
   ]
  },
  {
   "cell_type": "markdown",
   "id": "4de3e6f2-f11f-49b9-880e-4c73045a9eb5",
   "metadata": {},
   "source": [
    "- torch.nn.LSTM"
   ]
  },
  {
   "cell_type": "code",
   "execution_count": null,
   "id": "f053e885-5f81-446f-8a72-0e534cba6075",
   "metadata": {},
   "outputs": [],
   "source": [
    "torch.manual_seed(0)\n",
    "lstm = torch.nn.LSTM(\n",
    "    input_size  = 29, # X.shape = (L,29)\n",
    "    hidden_size = 5, # h.shape = (L,5)\n",
    "    num_layers = 1,  # num_layers = 1 이라는 의미 \n",
    "    bidirectional = True # D=2 이라는 의미 \n",
    ")    \n",
    "cook = torch.nn.Linear(10,29)\n",
    "loss_fn = torch.nn.CrossEntropyLoss()\n",
    "optimizr = torch.optim.Adam(\n",
    "    list(lstm.parameters())+\n",
    "    list(cook.parameters()),\n",
    "    lr=0.1\n",
    ")\n",
    "#---#\n",
    "for epoc in range(200):\n",
    "    # 1\n",
    "    h, _ = lstm(X) # rnn의 결과는 길이가 2인 튜플이고, 첫원소가 h \n",
    "    netout = cook(h)\n",
    "    # 2 \n",
    "    loss = loss_fn(netout, y)\n",
    "    # 3\n",
    "    loss.backward()\n",
    "    # 4 \n",
    "    optimizr.step()\n",
    "    optimizr.zero_grad()"
   ]
  },
  {
   "cell_type": "code",
   "execution_count": 46,
   "id": "195a6688-c832-4eb2-977e-1b1b571747e6",
   "metadata": {},
   "outputs": [],
   "source": [
    "yhat = torch.nn.functional.softmax(netout,dim=1)"
   ]
  },
  {
   "cell_type": "markdown",
   "id": "27609e80-eb49-4049-912c-e8e0d1de58bd",
   "metadata": {},
   "source": [
    "- 처음 12개의 단어와 마지막 12개의 단어에 대한 적합값(fitted value)을 제시"
   ]
  },
  {
   "cell_type": "code",
   "execution_count": 47,
   "id": "91a93310-3fe1-4d26-a840-fd4676da249f",
   "metadata": {},
   "outputs": [
    {
     "data": {
      "text/plain": [
       "tensor([[3.1617e-06, 2.0103e-09, 3.7032e-05,  ..., 1.8721e-10, 2.3848e-09,\n",
       "         1.4301e-03],\n",
       "        [7.9249e-04, 1.1029e-08, 5.2581e-11,  ..., 3.5054e-13, 1.0932e-08,\n",
       "         3.0752e-06],\n",
       "        [3.7814e-08, 4.1972e-11, 5.7738e-08,  ..., 1.1455e-10, 2.0236e-11,\n",
       "         6.3567e-03],\n",
       "        ...,\n",
       "        [2.2288e-06, 1.8809e-12, 7.1074e-06,  ..., 1.1688e-13, 3.0204e-05,\n",
       "         1.4058e-12],\n",
       "        [2.0933e-06, 1.1628e-05, 2.6661e-01,  ..., 3.3115e-04, 7.5557e-03,\n",
       "         1.1487e-07],\n",
       "        [6.4547e-01, 7.1928e-04, 8.5033e-05,  ..., 5.0513e-08, 2.3217e-01,\n",
       "         1.1310e-08]], grad_fn=<SoftmaxBackward0>)"
      ]
     },
     "execution_count": 47,
     "metadata": {},
     "output_type": "execute_result"
    }
   ],
   "source": [
    "yhat"
   ]
  },
  {
   "cell_type": "code",
   "execution_count": 48,
   "id": "3ae61676-5b3f-4132-9dde-e75a3218cae5",
   "metadata": {},
   "outputs": [
    {
     "data": {
      "text/plain": [
       "torch.Size([42079, 29])"
      ]
     },
     "execution_count": 48,
     "metadata": {},
     "output_type": "execute_result"
    }
   ],
   "source": [
    "yhat.shape"
   ]
  },
  {
   "cell_type": "code",
   "execution_count": 49,
   "id": "725beba8-dcea-435e-a23f-4488cbdcb855",
   "metadata": {},
   "outputs": [],
   "source": [
    "# 1) 예측 인덱스 & 단어\n",
    "pred_idx   = yhat.argmax(dim=1).cpu().numpy()           # (L,)\n",
    "pred_words = [vocab[i] for i in pred_idx]               # 예측 단어 리스트"
   ]
  },
  {
   "cell_type": "code",
   "execution_count": 50,
   "id": "731f5a32-c087-45c2-b172-2259479cb073",
   "metadata": {},
   "outputs": [],
   "source": [
    "# 2) 결과 DataFrame 생성\n",
    "df_out = pd.DataFrame({\n",
    "    'true':  df_train['y'].values,  # 실제 단어\n",
    "    'pred':  pred_words            # 예측 단어\n",
    "})"
   ]
  },
  {
   "cell_type": "code",
   "execution_count": 51,
   "id": "67b8a194-1539-4f36-ae5d-bea1ae29dc7f",
   "metadata": {},
   "outputs": [
    {
     "name": "stdout",
     "output_type": "stream",
     "text": [
      "=== First 12 Predictions ===\n",
      "        true      pred\n",
      "0        two  thousand\n",
      "1      three     three\n",
      "2       four  thousand\n",
      "3       five      five\n",
      "4        six  thousand\n",
      "5      seven       one\n",
      "6      eight     eight\n",
      "7       nine   hundred\n",
      "8        ten    eleven\n",
      "9     eleven   hundred\n",
      "10    twelve     fifty\n",
      "11  thirteen   sixteen\n",
      "\n",
      "=== Last 12 Predictions ===\n",
      "           true      pred\n",
      "42067     seven     seven\n",
      "42068  thousand  thousand\n",
      "42069      nine      nine\n",
      "42070   hundred   hundred\n",
      "42071    ninety    ninety\n",
      "42072     eight     eight\n",
      "42073     seven     seven\n",
      "42074  thousand  thousand\n",
      "42075      nine      nine\n",
      "42076   hundred   hundred\n",
      "42077    ninety    ninety\n",
      "42078      nine     eight\n"
     ]
    }
   ],
   "source": [
    "# 3) 처음 12개와 마지막 12개 추출·출력\n",
    "print(\"=== First 12 Predictions ===\")\n",
    "print(df_out.head(12))\n",
    "\n",
    "print(\"\\n=== Last 12 Predictions ===\")\n",
    "print(df_out.tail(12))"
   ]
  },
  {
   "cell_type": "code",
   "execution_count": 52,
   "id": "61d8911e-d898-4893-b02a-3826ffa22950",
   "metadata": {
    "scrolled": true
   },
   "outputs": [
    {
     "name": "stdout",
     "output_type": "stream",
     "text": [
      "    chunk  accuracy\n",
      "0       0  0.851000\n",
      "1       1  0.966000\n",
      "2       2  0.927000\n",
      "3       3  0.929000\n",
      "4       4  0.999000\n",
      "5       5  0.997000\n",
      "6       6  0.997000\n",
      "7       7  0.997000\n",
      "8       8  0.999000\n",
      "9       9  0.975000\n",
      "10     10  0.995000\n",
      "11     11  0.995000\n",
      "12     12  0.993000\n",
      "13     13  0.994000\n",
      "14     14  0.970000\n",
      "15     15  0.992000\n",
      "16     16  0.985000\n",
      "17     17  0.985000\n",
      "18     18  0.985000\n",
      "19     19  0.993000\n",
      "20     20  0.969000\n",
      "21     21  1.000000\n",
      "22     22  1.000000\n",
      "23     23  0.999000\n",
      "24     24  1.000000\n",
      "25     25  0.976000\n",
      "26     26  0.995000\n",
      "27     27  0.993000\n",
      "28     28  0.995000\n",
      "29     29  0.994000\n",
      "30     30  0.994000\n",
      "31     31  0.987000\n",
      "32     32  0.993000\n",
      "33     33  0.993000\n",
      "34     34  0.992000\n",
      "35     35  0.996000\n",
      "36     36  0.987000\n",
      "37     37  0.996000\n",
      "38     38  0.997000\n",
      "39     39  0.996000\n",
      "40     40  0.997000\n",
      "41     41  0.996000\n",
      "42     42  0.987342\n"
     ]
    }
   ],
   "source": [
    "# 1) 청크 번호 생성\n",
    "chunk_size = 1000\n",
    "df_out['chunk'] = np.arange(len(df_out)) // chunk_size\n",
    "\n",
    "# 2) 맞혔는지 여부 컬럼 추가\n",
    "df_out['correct'] = (df_out['true'] == df_out['pred'])\n",
    "\n",
    "# 3) 청크별 정확도(accuracy) 계산\n",
    "accuracy_per_chunk = (\n",
    "    df_out\n",
    "    .groupby('chunk', as_index=False)['correct']\n",
    "    .mean()\n",
    "    .rename(columns={'correct': 'accuracy'})\n",
    ")\n",
    "\n",
    "print(accuracy_per_chunk)"
   ]
  },
  {
   "cell_type": "markdown",
   "id": "544b1571-2050-462b-9dfb-a0991e1db69f",
   "metadata": {},
   "source": [
    "- 처음 1,000개의 row 이후에는 정확도가 매우 높음\n",
    "- seed를 변경해서 한 번 더 시도"
   ]
  },
  {
   "cell_type": "markdown",
   "id": "30e83249-dee2-4d56-afdc-29890a1004a9",
   "metadata": {},
   "source": [
    "## 보완 풀이 3 (역방향 추가 + seed 변경)"
   ]
  },
  {
   "cell_type": "markdown",
   "id": "87a1fd5b-0cc8-4bdf-97e7-c1dcdd75237e",
   "metadata": {},
   "source": [
    "- torch.nn.LSTM"
   ]
  },
  {
   "cell_type": "code",
   "execution_count": 53,
   "id": "ccead7db-6898-4f7d-a3d4-c08717a24929",
   "metadata": {},
   "outputs": [],
   "source": [
    "torch.manual_seed(1)\n",
    "lstm = torch.nn.LSTM(\n",
    "    input_size  = 29, # X.shape = (L,29)\n",
    "    hidden_size = 5, # h.shape = (L,5)\n",
    "    num_layers = 1,  # num_layers = 1 이라는 의미 \n",
    "    bidirectional = True # D=2 이라는 의미 \n",
    ")    \n",
    "cook = torch.nn.Linear(10,29)\n",
    "loss_fn = torch.nn.CrossEntropyLoss()\n",
    "optimizr = torch.optim.Adam(\n",
    "    list(lstm.parameters())+\n",
    "    list(cook.parameters()),\n",
    "    lr=0.1\n",
    ")\n",
    "#---#\n",
    "for epoc in range(200):\n",
    "    # 1\n",
    "    h, _ = lstm(X) # rnn의 결과는 길이가 2인 튜플이고, 첫원소가 h \n",
    "    netout = cook(h)\n",
    "    # 2 \n",
    "    loss = loss_fn(netout, y)\n",
    "    # 3\n",
    "    loss.backward()\n",
    "    # 4 \n",
    "    optimizr.step()\n",
    "    optimizr.zero_grad()"
   ]
  },
  {
   "cell_type": "code",
   "execution_count": 54,
   "id": "555da39e-a06d-40ca-9ea7-a648f0dcffab",
   "metadata": {},
   "outputs": [],
   "source": [
    "yhat = torch.nn.functional.softmax(netout,dim=1)"
   ]
  },
  {
   "cell_type": "markdown",
   "id": "dd447b71-a50b-4301-82ae-fd1fee794bc9",
   "metadata": {},
   "source": [
    "- 처음 12개의 단어와 마지막 12개의 단어에 대한 적합값(fitted value)을 제시"
   ]
  },
  {
   "cell_type": "code",
   "execution_count": 55,
   "id": "e133cb9d-5367-47f6-97d8-e5647794c051",
   "metadata": {},
   "outputs": [
    {
     "data": {
      "text/plain": [
       "tensor([[1.6349e-02, 3.6277e-08, 5.8893e-04,  ..., 4.8575e-08, 3.0039e-16,\n",
       "         1.3193e-01],\n",
       "        [2.5609e-03, 4.3839e-12, 1.0113e-10,  ..., 1.2924e-05, 2.7538e-11,\n",
       "         1.5459e-08],\n",
       "        [3.6096e-02, 4.4106e-05, 9.0622e-04,  ..., 4.1877e-03, 2.4234e-10,\n",
       "         3.8882e-03],\n",
       "        ...,\n",
       "        [1.3680e-07, 1.7353e-07, 5.3064e-09,  ..., 2.5751e-09, 1.9787e-06,\n",
       "         1.0270e-14],\n",
       "        [1.3613e-08, 9.9616e-05, 8.3639e-10,  ..., 4.1368e-06, 2.1724e-04,\n",
       "         4.3472e-19],\n",
       "        [3.6704e-08, 3.8188e-10, 3.3055e-12,  ..., 1.4791e-10, 5.8062e-04,\n",
       "         2.9436e-16]], grad_fn=<SoftmaxBackward0>)"
      ]
     },
     "execution_count": 55,
     "metadata": {},
     "output_type": "execute_result"
    }
   ],
   "source": [
    "yhat"
   ]
  },
  {
   "cell_type": "code",
   "execution_count": 56,
   "id": "482e2d0e-5aac-4ac4-b43a-04c8bf63580b",
   "metadata": {},
   "outputs": [
    {
     "data": {
      "text/plain": [
       "torch.Size([42079, 29])"
      ]
     },
     "execution_count": 56,
     "metadata": {},
     "output_type": "execute_result"
    }
   ],
   "source": [
    "yhat.shape"
   ]
  },
  {
   "cell_type": "code",
   "execution_count": 57,
   "id": "2e438580-cde6-4c61-9485-b8db6ebe1350",
   "metadata": {},
   "outputs": [],
   "source": [
    "# 1) 예측 인덱스 & 단어\n",
    "pred_idx   = yhat.argmax(dim=1).cpu().numpy()           # (L,)\n",
    "pred_words = [vocab[i] for i in pred_idx]               # 예측 단어 리스트"
   ]
  },
  {
   "cell_type": "code",
   "execution_count": 58,
   "id": "2c70c68a-0374-4539-bada-b104f6d3a709",
   "metadata": {},
   "outputs": [],
   "source": [
    "# 2) 결과 DataFrame 생성\n",
    "df_out = pd.DataFrame({\n",
    "    'true':  df_train['y'].values,  # 실제 단어\n",
    "    'pred':  pred_words            # 예측 단어\n",
    "})"
   ]
  },
  {
   "cell_type": "code",
   "execution_count": 59,
   "id": "6e805bde-a255-42a6-a867-737170a07fa1",
   "metadata": {},
   "outputs": [
    {
     "name": "stdout",
     "output_type": "stream",
     "text": [
      "=== First 12 Predictions ===\n",
      "        true       pred\n",
      "0        two       five\n",
      "1      three      three\n",
      "2       four       four\n",
      "3       five        two\n",
      "4        six        six\n",
      "5      seven    hundred\n",
      "6      eight      eight\n",
      "7       nine    hundred\n",
      "8        ten    hundred\n",
      "9     eleven        six\n",
      "10    twelve        six\n",
      "11  thirteen  seventeen\n",
      "\n",
      "=== Last 12 Predictions ===\n",
      "           true      pred\n",
      "42067     seven     seven\n",
      "42068  thousand  thousand\n",
      "42069      nine      nine\n",
      "42070   hundred   hundred\n",
      "42071    ninety    ninety\n",
      "42072     eight     eight\n",
      "42073     seven     seven\n",
      "42074  thousand  thousand\n",
      "42075      nine      nine\n",
      "42076   hundred   hundred\n",
      "42077    ninety     forty\n",
      "42078      nine      nine\n"
     ]
    }
   ],
   "source": [
    "# 3) 처음 12개와 마지막 12개 추출·출력\n",
    "print(\"=== First 12 Predictions ===\")\n",
    "print(df_out.head(12))\n",
    "\n",
    "print(\"\\n=== Last 12 Predictions ===\")\n",
    "print(df_out.tail(12))"
   ]
  },
  {
   "cell_type": "code",
   "execution_count": 60,
   "id": "e7d43e44-11e3-4b69-ac42-c17c5d42031d",
   "metadata": {
    "scrolled": true
   },
   "outputs": [
    {
     "name": "stdout",
     "output_type": "stream",
     "text": [
      "    chunk  accuracy\n",
      "0       0  0.877000\n",
      "1       1  0.980000\n",
      "2       2  0.963000\n",
      "3       3  0.956000\n",
      "4       4  0.998000\n",
      "5       5  0.995000\n",
      "6       6  0.996000\n",
      "7       7  0.996000\n",
      "8       8  0.998000\n",
      "9       9  0.974000\n",
      "10     10  0.994000\n",
      "11     11  0.994000\n",
      "12     12  0.994000\n",
      "13     13  0.996000\n",
      "14     14  0.972000\n",
      "15     15  0.999000\n",
      "16     16  0.998000\n",
      "17     17  0.998000\n",
      "18     18  0.998000\n",
      "19     19  0.998000\n",
      "20     20  0.973000\n",
      "21     21  0.998000\n",
      "22     22  0.997000\n",
      "23     23  0.998000\n",
      "24     24  0.999000\n",
      "25     25  0.972000\n",
      "26     26  0.996000\n",
      "27     27  0.993000\n",
      "28     28  0.994000\n",
      "29     29  0.994000\n",
      "30     30  0.997000\n",
      "31     31  0.976000\n",
      "32     32  0.990000\n",
      "33     33  0.991000\n",
      "34     34  0.990000\n",
      "35     35  0.995000\n",
      "36     36  0.970000\n",
      "37     37  0.996000\n",
      "38     38  0.993000\n",
      "39     39  0.995000\n",
      "40     40  0.996000\n",
      "41     41  0.994000\n",
      "42     42  0.987342\n"
     ]
    }
   ],
   "source": [
    "# 1) 청크 번호 생성\n",
    "chunk_size = 1000\n",
    "df_out['chunk'] = np.arange(len(df_out)) // chunk_size\n",
    "\n",
    "# 2) 맞혔는지 여부 컬럼 추가\n",
    "df_out['correct'] = (df_out['true'] == df_out['pred'])\n",
    "\n",
    "# 3) 청크별 정확도(accuracy) 계산\n",
    "accuracy_per_chunk = (\n",
    "    df_out\n",
    "    .groupby('chunk', as_index=False)['correct']\n",
    "    .mean()\n",
    "    .rename(columns={'correct': 'accuracy'})\n",
    ")\n",
    "\n",
    "print(accuracy_per_chunk)"
   ]
  },
  {
   "cell_type": "markdown",
   "id": "dcb6df62-6fe6-4cd8-80ae-911d426d9428",
   "metadata": {},
   "source": [
    "- 마찬가지로 처음 1,000개의 row 이후에는 정확도가 매우 높음"
   ]
  },
  {
   "cell_type": "markdown",
   "id": "6b9a133d-7b79-486a-8725-f018743b330e",
   "metadata": {},
   "source": [
    "## 보완 풀이 4 (hidden_size=6)"
   ]
  },
  {
   "cell_type": "markdown",
   "id": "a38ab35a-e4b5-46dd-9719-58dee0772bda",
   "metadata": {},
   "source": [
    "- input_size는 29이지만 문맥에 따라 사실 그 이상이 될 여지가 충분하므로\n",
    "- hidden_size를 높여봄\n",
    "- 역방향은 하지 않음 (bidrectional = False)"
   ]
  },
  {
   "cell_type": "markdown",
   "id": "fda94c74-bcdd-48a7-a0f4-f49bf726e5e1",
   "metadata": {},
   "source": [
    "- torch.nn.LSTM"
   ]
  },
  {
   "cell_type": "code",
   "execution_count": 61,
   "id": "955347d6-f945-46eb-8107-27cc01eaced1",
   "metadata": {},
   "outputs": [],
   "source": [
    "torch.manual_seed(5)\n",
    "lstm = torch.nn.LSTM(\n",
    "    input_size  = 29, # X.shape = (L,29)\n",
    "    hidden_size = 6, # h.shape = (L,6)\n",
    "    num_layers = 1,  # num_layers = 1 이라는 의미 \n",
    "    bidirectional = False # D=1 이라는 의미 \n",
    ")    \n",
    "cook = torch.nn.Linear(6,29)\n",
    "loss_fn = torch.nn.CrossEntropyLoss()\n",
    "optimizr = torch.optim.Adam(\n",
    "    list(lstm.parameters())+\n",
    "    list(cook.parameters()),\n",
    "    lr=0.1\n",
    ")\n",
    "#---#\n",
    "for epoc in range(200):\n",
    "    # 1\n",
    "    h, _ = lstm(X) # rnn의 결과는 길이가 2인 튜플이고, 첫원소가 h \n",
    "    netout = cook(h)\n",
    "    # 2 \n",
    "    loss = loss_fn(netout, y)\n",
    "    # 3\n",
    "    loss.backward()\n",
    "    # 4 \n",
    "    optimizr.step()\n",
    "    optimizr.zero_grad()"
   ]
  },
  {
   "cell_type": "code",
   "execution_count": 62,
   "id": "c81e98b4-7498-417c-a413-f97082bbb3f9",
   "metadata": {},
   "outputs": [],
   "source": [
    "yhat = torch.nn.functional.softmax(netout,dim=1)"
   ]
  },
  {
   "cell_type": "markdown",
   "id": "7defd6e1-bc55-40b8-8d5b-8e5743b32979",
   "metadata": {},
   "source": [
    "- 처음 12개의 단어와 마지막 12개의 단어에 대한 적합값(fitted value)을 제시"
   ]
  },
  {
   "cell_type": "code",
   "execution_count": 63,
   "id": "321385a7-c07a-44d9-b1a4-5f4c67da1fa5",
   "metadata": {},
   "outputs": [
    {
     "data": {
      "text/plain": [
       "tensor([[3.7065e-05, 4.5527e-03, 1.5230e-02,  ..., 6.1987e-03, 1.5407e-02,\n",
       "         5.7883e-05],\n",
       "        [3.3132e-03, 3.2297e-04, 1.6524e-04,  ..., 4.1582e-04, 1.2672e-04,\n",
       "         1.2493e-02],\n",
       "        [7.6287e-05, 4.6955e-04, 1.6344e-03,  ..., 6.4444e-04, 1.7983e-03,\n",
       "         2.9418e-04],\n",
       "        ...,\n",
       "        [5.5518e-05, 7.8149e-06, 1.5539e-04,  ..., 1.1828e-05, 7.7259e-05,\n",
       "         4.0750e-04],\n",
       "        [5.9013e-04, 3.7120e-03, 1.2060e-01,  ..., 3.3190e-03, 1.2618e-01,\n",
       "         2.4807e-04],\n",
       "        [9.5842e-02, 6.6577e-05, 2.1009e-05,  ..., 6.2041e-05, 2.2768e-05,\n",
       "         1.1822e-01]], grad_fn=<SoftmaxBackward0>)"
      ]
     },
     "execution_count": 63,
     "metadata": {},
     "output_type": "execute_result"
    }
   ],
   "source": [
    "yhat"
   ]
  },
  {
   "cell_type": "code",
   "execution_count": 64,
   "id": "6a8f59ae-55e8-43eb-bb8e-a0f8f0c8c98f",
   "metadata": {},
   "outputs": [
    {
     "data": {
      "text/plain": [
       "torch.Size([42079, 29])"
      ]
     },
     "execution_count": 64,
     "metadata": {},
     "output_type": "execute_result"
    }
   ],
   "source": [
    "yhat.shape"
   ]
  },
  {
   "cell_type": "code",
   "execution_count": 65,
   "id": "e3566578-acfe-43b1-b724-04c8d4bdeea0",
   "metadata": {},
   "outputs": [],
   "source": [
    "# 1) 예측 인덱스 & 단어\n",
    "pred_idx   = yhat.argmax(dim=1).cpu().numpy()           # (L,)\n",
    "pred_words = [vocab[i] for i in pred_idx]               # 예측 단어 리스트"
   ]
  },
  {
   "cell_type": "code",
   "execution_count": 66,
   "id": "32eec9ec-d9a6-4891-91d4-a1db5fd39407",
   "metadata": {},
   "outputs": [],
   "source": [
    "# 2) 결과 DataFrame 생성\n",
    "df_out = pd.DataFrame({\n",
    "    'true':  df_train['y'].values,  # 실제 단어\n",
    "    'pred':  pred_words            # 예측 단어\n",
    "})"
   ]
  },
  {
   "cell_type": "code",
   "execution_count": 67,
   "id": "3463cd4e-bdac-45fd-95b9-a7dcf9f2ba4d",
   "metadata": {},
   "outputs": [
    {
     "name": "stdout",
     "output_type": "stream",
     "text": [
      "=== First 12 Predictions ===\n",
      "        true      pred\n",
      "0        two   hundred\n",
      "1      three   hundred\n",
      "2       four  thousand\n",
      "3       five  thousand\n",
      "4        six  thousand\n",
      "5      seven  thousand\n",
      "6      eight  thousand\n",
      "7       nine   hundred\n",
      "8        ten   hundred\n",
      "9     eleven   hundred\n",
      "10    twelve   hundred\n",
      "11  thirteen      four\n",
      "\n",
      "=== Last 12 Predictions ===\n",
      "           true      pred\n",
      "42067     seven       two\n",
      "42068  thousand  thousand\n",
      "42069      nine       two\n",
      "42070   hundred   hundred\n",
      "42071    ninety    twenty\n",
      "42072     eight       two\n",
      "42073     seven     three\n",
      "42074  thousand  thousand\n",
      "42075      nine       two\n",
      "42076   hundred   hundred\n",
      "42077    ninety    twenty\n",
      "42078      nine       two\n"
     ]
    }
   ],
   "source": [
    "# 3) 처음 12개와 마지막 12개 추출·출력\n",
    "print(\"=== First 12 Predictions ===\")\n",
    "print(df_out.head(12))\n",
    "\n",
    "print(\"\\n=== Last 12 Predictions ===\")\n",
    "print(df_out.tail(12))"
   ]
  },
  {
   "cell_type": "code",
   "execution_count": 68,
   "id": "76664cff-7f77-4d9b-b5bb-c6d51c90b8ae",
   "metadata": {
    "scrolled": true
   },
   "outputs": [
    {
     "name": "stdout",
     "output_type": "stream",
     "text": [
      "    chunk  accuracy\n",
      "0       0  0.132000\n",
      "1       1  0.063000\n",
      "2       2  0.132000\n",
      "3       3  0.324000\n",
      "4       4  0.453000\n",
      "5       5  0.460000\n",
      "6       6  0.405000\n",
      "7       7  0.410000\n",
      "8       8  0.408000\n",
      "9       9  0.432000\n",
      "10     10  0.548000\n",
      "11     11  0.482000\n",
      "12     12  0.469000\n",
      "13     13  0.482000\n",
      "14     14  0.415000\n",
      "15     15  0.547000\n",
      "16     16  0.550000\n",
      "17     17  0.525000\n",
      "18     18  0.517000\n",
      "19     19  0.478000\n",
      "20     20  0.378000\n",
      "21     21  0.475000\n",
      "22     22  0.406000\n",
      "23     23  0.391000\n",
      "24     24  0.389000\n",
      "25     25  0.357000\n",
      "26     26  0.443000\n",
      "27     27  0.434000\n",
      "28     28  0.387000\n",
      "29     29  0.390000\n",
      "30     30  0.399000\n",
      "31     31  0.359000\n",
      "32     32  0.475000\n",
      "33     33  0.393000\n",
      "34     34  0.389000\n",
      "35     35  0.381000\n",
      "36     36  0.357000\n",
      "37     37  0.437000\n",
      "38     38  0.433000\n",
      "39     39  0.387000\n",
      "40     40  0.387000\n",
      "41     41  0.388000\n",
      "42     42  0.341772\n"
     ]
    }
   ],
   "source": [
    "# 1) 청크 번호 생성\n",
    "chunk_size = 1000\n",
    "df_out['chunk'] = np.arange(len(df_out)) // chunk_size\n",
    "\n",
    "# 2) 맞혔는지 여부 컬럼 추가\n",
    "df_out['correct'] = (df_out['true'] == df_out['pred'])\n",
    "\n",
    "# 3) 청크별 정확도(accuracy) 계산\n",
    "accuracy_per_chunk = (\n",
    "    df_out\n",
    "    .groupby('chunk', as_index=False)['correct']\n",
    "    .mean()\n",
    "    .rename(columns={'correct': 'accuracy'})\n",
    ")\n",
    "\n",
    "print(accuracy_per_chunk)"
   ]
  },
  {
   "cell_type": "markdown",
   "id": "4010a219-a541-402b-817b-e87eeb1df723",
   "metadata": {},
   "source": [
    "- 실패"
   ]
  },
  {
   "cell_type": "markdown",
   "id": "30afac44-c058-409c-b4b3-239ee7e0177b",
   "metadata": {},
   "source": [
    "## 보완 풀이 5 (hidden_size=7)"
   ]
  },
  {
   "cell_type": "markdown",
   "id": "8f0894d6-1d23-49a0-ad0e-1ff24535c7ab",
   "metadata": {},
   "source": [
    "- hidden_size만 7로 높여서 실행"
   ]
  },
  {
   "cell_type": "markdown",
   "id": "43a8f49d-5ce2-4c41-adf7-dd033007cd19",
   "metadata": {},
   "source": [
    "- torch.nn.LSTM"
   ]
  },
  {
   "cell_type": "code",
   "execution_count": 69,
   "id": "3c3bfde0-2ba4-40ce-b17c-f132e5b14c01",
   "metadata": {},
   "outputs": [],
   "source": [
    "torch.manual_seed(5)\n",
    "lstm = torch.nn.LSTM(\n",
    "    input_size  = 29, # X.shape = (L,29)\n",
    "    hidden_size = 7, # h.shape = (L,7)\n",
    "    num_layers = 1,  # num_layers = 1 이라는 의미 \n",
    "    bidirectional = False # D=1 이라는 의미 \n",
    ")    \n",
    "cook = torch.nn.Linear(7,29)\n",
    "loss_fn = torch.nn.CrossEntropyLoss()\n",
    "optimizr = torch.optim.Adam(\n",
    "    list(lstm.parameters())+\n",
    "    list(cook.parameters()),\n",
    "    lr=0.1\n",
    ")\n",
    "#---#\n",
    "for epoc in range(200):\n",
    "    # 1\n",
    "    h, _ = lstm(X) # rnn의 결과는 길이가 2인 튜플이고, 첫원소가 h \n",
    "    netout = cook(h)\n",
    "    # 2 \n",
    "    loss = loss_fn(netout, y)\n",
    "    # 3\n",
    "    loss.backward()\n",
    "    # 4 \n",
    "    optimizr.step()\n",
    "    optimizr.zero_grad()"
   ]
  },
  {
   "cell_type": "code",
   "execution_count": 70,
   "id": "7a37ba27-2f61-4d6d-9c14-65d4743a1fc6",
   "metadata": {},
   "outputs": [],
   "source": [
    "yhat = torch.nn.functional.softmax(netout,dim=1)"
   ]
  },
  {
   "cell_type": "markdown",
   "id": "d2a966f9-0f9b-4c56-baa0-649f100988a1",
   "metadata": {},
   "source": [
    "- 처음 12개의 단어와 마지막 12개의 단어에 대한 적합값(fitted value)을 제시"
   ]
  },
  {
   "cell_type": "code",
   "execution_count": 71,
   "id": "a87aef5e-d45f-4d3b-a322-6b693fe839c1",
   "metadata": {},
   "outputs": [
    {
     "data": {
      "text/plain": [
       "tensor([[1.8283e-07, 1.1450e-07, 1.4956e-03,  ..., 6.6693e-08, 4.0494e-05,\n",
       "         1.5115e-05],\n",
       "        [1.0970e-02, 7.1388e-05, 1.1522e-01,  ..., 5.6457e-05, 1.2502e-02,\n",
       "         1.4366e-02],\n",
       "        [1.8247e-09, 3.0444e-09, 7.2681e-04,  ..., 2.7827e-09, 1.8954e-06,\n",
       "         1.8903e-07],\n",
       "        ...,\n",
       "        [6.2995e-11, 1.3118e-11, 4.2953e-05,  ..., 1.4996e-11, 4.1832e-08,\n",
       "         7.4277e-09],\n",
       "        [1.1162e-04, 7.2878e-04, 1.3145e-01,  ..., 4.0824e-04, 1.1171e-01,\n",
       "         3.5104e-04],\n",
       "        [8.5766e-02, 1.2777e-06, 4.3670e-08,  ..., 2.0657e-06, 1.4005e-05,\n",
       "         1.1935e-01]], grad_fn=<SoftmaxBackward0>)"
      ]
     },
     "execution_count": 71,
     "metadata": {},
     "output_type": "execute_result"
    }
   ],
   "source": [
    "yhat"
   ]
  },
  {
   "cell_type": "code",
   "execution_count": 72,
   "id": "71c197f5-7e1f-4c76-9b4c-71c3769dc38c",
   "metadata": {},
   "outputs": [
    {
     "data": {
      "text/plain": [
       "torch.Size([42079, 29])"
      ]
     },
     "execution_count": 72,
     "metadata": {},
     "output_type": "execute_result"
    }
   ],
   "source": [
    "yhat.shape"
   ]
  },
  {
   "cell_type": "code",
   "execution_count": 73,
   "id": "aa0a4b59-1bbb-4fe6-a494-d35df39e0c47",
   "metadata": {},
   "outputs": [],
   "source": [
    "# 1) 예측 인덱스 & 단어\n",
    "pred_idx   = yhat.argmax(dim=1).cpu().numpy()           # (L,)\n",
    "pred_words = [vocab[i] for i in pred_idx]               # 예측 단어 리스트"
   ]
  },
  {
   "cell_type": "code",
   "execution_count": 74,
   "id": "668eea1b-3f05-4268-831a-2f4c40894aac",
   "metadata": {},
   "outputs": [],
   "source": [
    "# 2) 결과 DataFrame 생성\n",
    "df_out = pd.DataFrame({\n",
    "    'true':  df_train['y'].values,  # 실제 단어\n",
    "    'pred':  pred_words            # 예측 단어\n",
    "})"
   ]
  },
  {
   "cell_type": "code",
   "execution_count": 75,
   "id": "220b262b-7205-4889-8a03-dd3f77262836",
   "metadata": {},
   "outputs": [
    {
     "name": "stdout",
     "output_type": "stream",
     "text": [
      "=== First 12 Predictions ===\n",
      "        true      pred\n",
      "0        two  thousand\n",
      "1      three     fifty\n",
      "2       four   hundred\n",
      "3       five    eighty\n",
      "4        six  thousand\n",
      "5      seven  thousand\n",
      "6      eight     sixty\n",
      "7       nine  thousand\n",
      "8        ten  thousand\n",
      "9     eleven      four\n",
      "10    twelve      four\n",
      "11  thirteen      four\n",
      "\n",
      "=== Last 12 Predictions ===\n",
      "           true      pred\n",
      "42067     seven       one\n",
      "42068  thousand  thousand\n",
      "42069      nine      nine\n",
      "42070   hundred   hundred\n",
      "42071    ninety     fifty\n",
      "42072     eight       two\n",
      "42073     seven       one\n",
      "42074  thousand  thousand\n",
      "42075      nine      nine\n",
      "42076   hundred   hundred\n",
      "42077    ninety    eighty\n",
      "42078      nine       two\n"
     ]
    }
   ],
   "source": [
    "# 3) 처음 12개와 마지막 12개 추출·출력\n",
    "print(\"=== First 12 Predictions ===\")\n",
    "print(df_out.head(12))\n",
    "\n",
    "print(\"\\n=== Last 12 Predictions ===\")\n",
    "print(df_out.tail(12))"
   ]
  },
  {
   "cell_type": "code",
   "execution_count": 76,
   "id": "9142629e-affc-487c-b06f-12ecf742a3b7",
   "metadata": {
    "scrolled": true
   },
   "outputs": [
    {
     "name": "stdout",
     "output_type": "stream",
     "text": [
      "    chunk  accuracy\n",
      "0       0  0.300000\n",
      "1       1  0.412000\n",
      "2       2  0.346000\n",
      "3       3  0.410000\n",
      "4       4  0.436000\n",
      "5       5  0.480000\n",
      "6       6  0.473000\n",
      "7       7  0.480000\n",
      "8       8  0.585000\n",
      "9       9  0.379000\n",
      "10     10  0.405000\n",
      "11     11  0.398000\n",
      "12     12  0.401000\n",
      "13     13  0.473000\n",
      "14     14  0.444000\n",
      "15     15  0.404000\n",
      "16     16  0.408000\n",
      "17     17  0.403000\n",
      "18     18  0.423000\n",
      "19     19  0.524000\n",
      "20     20  0.381000\n",
      "21     21  0.424000\n",
      "22     22  0.409000\n",
      "23     23  0.411000\n",
      "24     24  0.498000\n",
      "25     25  0.437000\n",
      "26     26  0.409000\n",
      "27     27  0.419000\n",
      "28     28  0.397000\n",
      "29     29  0.429000\n",
      "30     30  0.527000\n",
      "31     31  0.373000\n",
      "32     32  0.424000\n",
      "33     33  0.411000\n",
      "34     34  0.411000\n",
      "35     35  0.457000\n",
      "36     36  0.480000\n",
      "37     37  0.468000\n",
      "38     38  0.476000\n",
      "39     39  0.473000\n",
      "40     40  0.489000\n",
      "41     41  0.541000\n",
      "42     42  0.544304\n"
     ]
    }
   ],
   "source": [
    "# 1) 청크 번호 생성\n",
    "chunk_size = 1000\n",
    "df_out['chunk'] = np.arange(len(df_out)) // chunk_size\n",
    "\n",
    "# 2) 맞혔는지 여부 컬럼 추가\n",
    "df_out['correct'] = (df_out['true'] == df_out['pred'])\n",
    "\n",
    "# 3) 청크별 정확도(accuracy) 계산\n",
    "accuracy_per_chunk = (\n",
    "    df_out\n",
    "    .groupby('chunk', as_index=False)['correct']\n",
    "    .mean()\n",
    "    .rename(columns={'correct': 'accuracy'})\n",
    ")\n",
    "\n",
    "print(accuracy_per_chunk)"
   ]
  },
  {
   "cell_type": "markdown",
   "id": "33cfc84b-ebdf-4688-a637-920aaa37f16f",
   "metadata": {},
   "source": [
    "- 또 실패"
   ]
  },
  {
   "cell_type": "markdown",
   "id": "b29ac05a-d161-4d9a-ac31-e41cdc96da05",
   "metadata": {},
   "source": [
    "## 보완 풀이 6 (hidden_size=6, 역방향 추가)"
   ]
  },
  {
   "cell_type": "markdown",
   "id": "eefb8e5c-cf9a-49a3-96a2-2db37fe65cec",
   "metadata": {},
   "source": [
    "- hidden_size = 6\n",
    "- 역방향 추가 (bidrectional = True)"
   ]
  },
  {
   "cell_type": "markdown",
   "id": "f695778e-68de-4981-b416-29a55299ef61",
   "metadata": {},
   "source": [
    "- torch.nn.LSTM"
   ]
  },
  {
   "cell_type": "code",
   "execution_count": 93,
   "id": "4f55bc8a-8974-4a64-a3cd-4d7a042a5aa9",
   "metadata": {},
   "outputs": [],
   "source": [
    "torch.manual_seed(5)\n",
    "lstm = torch.nn.LSTM(\n",
    "    input_size  = 29, # X.shape = (L,29)\n",
    "    hidden_size = 6, # h.shape = (L,6)\n",
    "    num_layers = 1,  # num_layers = 1 이라는 의미 \n",
    "    bidirectional = True # D=2 이라는 의미 \n",
    ")    \n",
    "cook = torch.nn.Linear(12,29)\n",
    "loss_fn = torch.nn.CrossEntropyLoss()\n",
    "optimizr = torch.optim.Adam(\n",
    "    list(lstm.parameters())+\n",
    "    list(cook.parameters()),\n",
    "    lr=0.1\n",
    ")\n",
    "#---#\n",
    "for epoc in range(200):\n",
    "    # 1\n",
    "    h, _ = lstm(X) # rnn의 결과는 길이가 2인 튜플이고, 첫원소가 h \n",
    "    netout = cook(h)\n",
    "    # 2 \n",
    "    loss = loss_fn(netout, y)\n",
    "    # 3\n",
    "    loss.backward()\n",
    "    # 4 \n",
    "    optimizr.step()\n",
    "    optimizr.zero_grad()"
   ]
  },
  {
   "cell_type": "code",
   "execution_count": 94,
   "id": "c420c056-6bb7-4842-8645-965d0cf4352b",
   "metadata": {},
   "outputs": [],
   "source": [
    "yhat = torch.nn.functional.softmax(netout,dim=1)"
   ]
  },
  {
   "cell_type": "markdown",
   "id": "0a2cd019-c972-42b2-a56a-6e695576a10d",
   "metadata": {},
   "source": [
    "- 처음 12개의 단어와 마지막 12개의 단어에 대한 적합값(fitted value)을 제시"
   ]
  },
  {
   "cell_type": "code",
   "execution_count": 95,
   "id": "7f67c3c6-ce65-4e85-b814-045650dcc785",
   "metadata": {},
   "outputs": [
    {
     "data": {
      "text/plain": [
       "tensor([[1.2533e-07, 2.8298e-09, 9.9293e-11,  ..., 1.8811e-10, 5.2931e-07,\n",
       "         7.5078e-04],\n",
       "        [9.9083e-07, 4.0537e-10, 1.2277e-06,  ..., 7.8233e-10, 1.4352e-05,\n",
       "         8.4817e-03],\n",
       "        [2.9894e-11, 4.9861e-09, 3.4209e-02,  ..., 3.1657e-09, 1.7631e-03,\n",
       "         9.1169e-09],\n",
       "        ...,\n",
       "        [9.6490e-09, 4.9059e-09, 7.7631e-05,  ..., 1.5136e-07, 1.1839e-05,\n",
       "         1.3791e-10],\n",
       "        [1.4970e-12, 2.9719e-03, 5.2750e-08,  ..., 3.6019e-05, 2.0028e-05,\n",
       "         3.0589e-13],\n",
       "        [1.1729e-02, 5.5592e-03, 2.1014e-09,  ..., 1.0461e-02, 7.6911e-09,\n",
       "         2.5942e-05]], grad_fn=<SoftmaxBackward0>)"
      ]
     },
     "execution_count": 95,
     "metadata": {},
     "output_type": "execute_result"
    }
   ],
   "source": [
    "yhat"
   ]
  },
  {
   "cell_type": "code",
   "execution_count": 96,
   "id": "12b6acc7-2b14-4f7a-bdd3-5105e806885c",
   "metadata": {},
   "outputs": [
    {
     "data": {
      "text/plain": [
       "torch.Size([42079, 29])"
      ]
     },
     "execution_count": 96,
     "metadata": {},
     "output_type": "execute_result"
    }
   ],
   "source": [
    "yhat.shape"
   ]
  },
  {
   "cell_type": "code",
   "execution_count": 97,
   "id": "ce540f59-7701-4119-8231-6d79d5d5caeb",
   "metadata": {},
   "outputs": [],
   "source": [
    "# 1) 예측 인덱스 & 단어\n",
    "pred_idx   = yhat.argmax(dim=1).cpu().numpy()           # (L,)\n",
    "pred_words = [vocab[i] for i in pred_idx]               # 예측 단어 리스트"
   ]
  },
  {
   "cell_type": "code",
   "execution_count": 98,
   "id": "cdcbccde-6c62-47c7-96b6-dd3712786ca3",
   "metadata": {},
   "outputs": [],
   "source": [
    "# 2) 결과 DataFrame 생성\n",
    "df_out = pd.DataFrame({\n",
    "    'true':  df_train['y'].values,  # 실제 단어\n",
    "    'pred':  pred_words            # 예측 단어\n",
    "})"
   ]
  },
  {
   "cell_type": "code",
   "execution_count": 99,
   "id": "77d31daa-fffc-4e02-903a-9dc344aa43c4",
   "metadata": {},
   "outputs": [
    {
     "name": "stdout",
     "output_type": "stream",
     "text": [
      "=== First 12 Predictions ===\n",
      "        true      pred\n",
      "0        two  thousand\n",
      "1      three  thousand\n",
      "2       four   hundred\n",
      "3       five      five\n",
      "4        six  thousand\n",
      "5      seven     seven\n",
      "6      eight  thousand\n",
      "7       nine      nine\n",
      "8        ten       ten\n",
      "9     eleven   sixteen\n",
      "10    twelve     eight\n",
      "11  thirteen  thirteen\n",
      "\n",
      "=== Last 12 Predictions ===\n",
      "           true      pred\n",
      "42067     seven     seven\n",
      "42068  thousand  thousand\n",
      "42069      nine      nine\n",
      "42070   hundred   hundred\n",
      "42071    ninety    ninety\n",
      "42072     eight     eight\n",
      "42073     seven     seven\n",
      "42074  thousand  thousand\n",
      "42075      nine      nine\n",
      "42076   hundred   hundred\n",
      "42077    ninety    ninety\n",
      "42078      nine       six\n"
     ]
    }
   ],
   "source": [
    "# 3) 처음 12개와 마지막 12개 추출·출력\n",
    "print(\"=== First 12 Predictions ===\")\n",
    "print(df_out.head(12))\n",
    "\n",
    "print(\"\\n=== Last 12 Predictions ===\")\n",
    "print(df_out.tail(12))"
   ]
  },
  {
   "cell_type": "code",
   "execution_count": 100,
   "id": "309741cf-4c0c-497c-9053-63a582d2b561",
   "metadata": {
    "scrolled": true
   },
   "outputs": [
    {
     "name": "stdout",
     "output_type": "stream",
     "text": [
      "    chunk  accuracy\n",
      "0       0  0.932000\n",
      "1       1  0.998000\n",
      "2       2  0.997000\n",
      "3       3  0.960000\n",
      "4       4  1.000000\n",
      "5       5  1.000000\n",
      "6       6  1.000000\n",
      "7       7  1.000000\n",
      "8       8  1.000000\n",
      "9       9  0.991000\n",
      "10     10  1.000000\n",
      "11     11  1.000000\n",
      "12     12  1.000000\n",
      "13     13  1.000000\n",
      "14     14  0.993000\n",
      "15     15  1.000000\n",
      "16     16  1.000000\n",
      "17     17  1.000000\n",
      "18     18  0.999000\n",
      "19     19  1.000000\n",
      "20     20  0.995000\n",
      "21     21  1.000000\n",
      "22     22  0.999000\n",
      "23     23  0.998000\n",
      "24     24  1.000000\n",
      "25     25  0.991000\n",
      "26     26  1.000000\n",
      "27     27  1.000000\n",
      "28     28  1.000000\n",
      "29     29  1.000000\n",
      "30     30  1.000000\n",
      "31     31  0.990000\n",
      "32     32  1.000000\n",
      "33     33  1.000000\n",
      "34     34  1.000000\n",
      "35     35  1.000000\n",
      "36     36  0.993000\n",
      "37     37  1.000000\n",
      "38     38  1.000000\n",
      "39     39  1.000000\n",
      "40     40  1.000000\n",
      "41     41  1.000000\n",
      "42     42  0.987342\n"
     ]
    }
   ],
   "source": [
    "# 1) 청크 번호 생성\n",
    "chunk_size = 1000\n",
    "df_out['chunk'] = np.arange(len(df_out)) // chunk_size\n",
    "\n",
    "# 2) 맞혔는지 여부 컬럼 추가\n",
    "df_out['correct'] = (df_out['true'] == df_out['pred'])\n",
    "\n",
    "# 3) 청크별 정확도(accuracy) 계산\n",
    "accuracy_per_chunk = (\n",
    "    df_out\n",
    "    .groupby('chunk', as_index=False)['correct']\n",
    "    .mean()\n",
    "    .rename(columns={'correct': 'accuracy'})\n",
    ")\n",
    "\n",
    "print(accuracy_per_chunk)"
   ]
  },
  {
   "cell_type": "markdown",
   "id": "e7d9eb91-3235-46b7-b09c-38000ca90374",
   "metadata": {},
   "source": [
    "- hidden_size = 5에서 보이지 않았던 정확도 1도 보임"
   ]
  },
  {
   "cell_type": "markdown",
   "id": "f3b302d5-d7ca-4423-b7fd-33648e79cba0",
   "metadata": {},
   "source": [
    "## 보완 풀이 7 (hidden_size=7, 역방향 추가)"
   ]
  },
  {
   "cell_type": "markdown",
   "id": "0b40b69f-95b7-4179-9be8-145e444d7ad5",
   "metadata": {},
   "source": [
    "- 이미 잘 되지만 hidden_size도 7까지 올림"
   ]
  },
  {
   "cell_type": "markdown",
   "id": "a55dac48-e8e0-4cef-9240-55124928203d",
   "metadata": {},
   "source": [
    "- torch.nn.LSTM"
   ]
  },
  {
   "cell_type": "code",
   "execution_count": 101,
   "id": "61f0b0b9-b028-4b54-bf59-d288b3034586",
   "metadata": {},
   "outputs": [],
   "source": [
    "torch.manual_seed(5)\n",
    "lstm = torch.nn.LSTM(\n",
    "    input_size  = 29, # X.shape = (L,29)\n",
    "    hidden_size = 7, # h.shape = (L,7)\n",
    "    num_layers = 1,  # num_layers = 1 이라는 의미 \n",
    "    bidirectional = True # D=2 이라는 의미 \n",
    ")    \n",
    "cook = torch.nn.Linear(14,29)\n",
    "loss_fn = torch.nn.CrossEntropyLoss()\n",
    "optimizr = torch.optim.Adam(\n",
    "    list(lstm.parameters())+\n",
    "    list(cook.parameters()),\n",
    "    lr=0.1\n",
    ")\n",
    "#---#\n",
    "for epoc in range(200):\n",
    "    # 1\n",
    "    h, _ = lstm(X) # rnn의 결과는 길이가 2인 튜플이고, 첫원소가 h \n",
    "    netout = cook(h)\n",
    "    # 2 \n",
    "    loss = loss_fn(netout, y)\n",
    "    # 3\n",
    "    loss.backward()\n",
    "    # 4 \n",
    "    optimizr.step()\n",
    "    optimizr.zero_grad()"
   ]
  },
  {
   "cell_type": "code",
   "execution_count": 102,
   "id": "54108fa0-2a46-4058-b022-65fd52b30ac1",
   "metadata": {},
   "outputs": [],
   "source": [
    "yhat = torch.nn.functional.softmax(netout,dim=1)"
   ]
  },
  {
   "cell_type": "markdown",
   "id": "46b9ebb4-f493-4255-a805-7e26be3b1d2c",
   "metadata": {},
   "source": [
    "- 처음 12개의 단어와 마지막 12개의 단어에 대한 적합값(fitted value)을 제시"
   ]
  },
  {
   "cell_type": "code",
   "execution_count": 103,
   "id": "a8877bc7-7b04-48e4-bd2a-fe00845f4b53",
   "metadata": {},
   "outputs": [
    {
     "data": {
      "text/plain": [
       "tensor([[4.7526e-08, 8.7862e-07, 5.0891e-08,  ..., 2.2394e-06, 8.4799e-08,\n",
       "         2.8584e-02],\n",
       "        [4.0320e-09, 1.3876e-03, 3.3420e-05,  ..., 2.3096e-05, 3.2566e-07,\n",
       "         3.9486e-04],\n",
       "        [5.9579e-13, 3.8629e-07, 4.2675e-07,  ..., 4.7583e-10, 2.9717e-11,\n",
       "         2.7420e-14],\n",
       "        ...,\n",
       "        [1.1023e-06, 1.7860e-08, 1.1023e-10,  ..., 3.5089e-09, 5.4323e-05,\n",
       "         5.0075e-04],\n",
       "        [2.3697e-04, 1.6339e-06, 3.5264e-03,  ..., 1.3583e-06, 2.6748e-03,\n",
       "         5.1017e-06],\n",
       "        [5.4513e-01, 1.5457e-10, 9.3180e-07,  ..., 1.4596e-06, 1.1473e-06,\n",
       "         4.5226e-01]], grad_fn=<SoftmaxBackward0>)"
      ]
     },
     "execution_count": 103,
     "metadata": {},
     "output_type": "execute_result"
    }
   ],
   "source": [
    "yhat"
   ]
  },
  {
   "cell_type": "code",
   "execution_count": 104,
   "id": "3c859dd1-f0e5-40d1-bf68-b91ddc526e19",
   "metadata": {},
   "outputs": [
    {
     "data": {
      "text/plain": [
       "torch.Size([42079, 29])"
      ]
     },
     "execution_count": 104,
     "metadata": {},
     "output_type": "execute_result"
    }
   ],
   "source": [
    "yhat.shape"
   ]
  },
  {
   "cell_type": "code",
   "execution_count": 105,
   "id": "2d4a34ce-b01e-4547-9b49-d59eda741c28",
   "metadata": {},
   "outputs": [],
   "source": [
    "# 1) 예측 인덱스 & 단어\n",
    "pred_idx   = yhat.argmax(dim=1).cpu().numpy()           # (L,)\n",
    "pred_words = [vocab[i] for i in pred_idx]               # 예측 단어 리스트"
   ]
  },
  {
   "cell_type": "code",
   "execution_count": 106,
   "id": "734d0dd2-40f2-4de2-94ad-68ac8ab4b00a",
   "metadata": {},
   "outputs": [],
   "source": [
    "# 2) 결과 DataFrame 생성\n",
    "df_out = pd.DataFrame({\n",
    "    'true':  df_train['y'].values,  # 실제 단어\n",
    "    'pred':  pred_words            # 예측 단어\n",
    "})"
   ]
  },
  {
   "cell_type": "code",
   "execution_count": 107,
   "id": "cddc8d88-7736-4ead-a697-876f90ae972c",
   "metadata": {},
   "outputs": [
    {
     "name": "stdout",
     "output_type": "stream",
     "text": [
      "=== First 12 Predictions ===\n",
      "        true      pred\n",
      "0        two   hundred\n",
      "1      three   hundred\n",
      "2       four      four\n",
      "3       five      five\n",
      "4        six  thousand\n",
      "5      seven  thousand\n",
      "6      eight  thousand\n",
      "7       nine      four\n",
      "8        ten  thousand\n",
      "9     eleven  fourteen\n",
      "10    twelve     eight\n",
      "11  thirteen  thirteen\n",
      "\n",
      "=== Last 12 Predictions ===\n",
      "           true      pred\n",
      "42067     seven     seven\n",
      "42068  thousand  thousand\n",
      "42069      nine      nine\n",
      "42070   hundred   hundred\n",
      "42071    ninety    ninety\n",
      "42072     eight     eight\n",
      "42073     seven     seven\n",
      "42074  thousand  thousand\n",
      "42075      nine      nine\n",
      "42076   hundred   hundred\n",
      "42077    ninety    ninety\n",
      "42078      nine     eight\n"
     ]
    }
   ],
   "source": [
    "# 3) 처음 12개와 마지막 12개 추출·출력\n",
    "print(\"=== First 12 Predictions ===\")\n",
    "print(df_out.head(12))\n",
    "\n",
    "print(\"\\n=== Last 12 Predictions ===\")\n",
    "print(df_out.tail(12))"
   ]
  },
  {
   "cell_type": "code",
   "execution_count": 108,
   "id": "d09b20bc-22b2-4b74-bb73-c1de518bf65a",
   "metadata": {
    "scrolled": true
   },
   "outputs": [
    {
     "name": "stdout",
     "output_type": "stream",
     "text": [
      "    chunk  accuracy\n",
      "0       0  0.925000\n",
      "1       1  1.000000\n",
      "2       2  0.991000\n",
      "3       3  0.993000\n",
      "4       4  1.000000\n",
      "5       5  1.000000\n",
      "6       6  1.000000\n",
      "7       7  1.000000\n",
      "8       8  1.000000\n",
      "9       9  0.992000\n",
      "10     10  1.000000\n",
      "11     11  1.000000\n",
      "12     12  1.000000\n",
      "13     13  1.000000\n",
      "14     14  0.990000\n",
      "15     15  1.000000\n",
      "16     16  1.000000\n",
      "17     17  1.000000\n",
      "18     18  1.000000\n",
      "19     19  1.000000\n",
      "20     20  0.999000\n",
      "21     21  1.000000\n",
      "22     22  1.000000\n",
      "23     23  1.000000\n",
      "24     24  1.000000\n",
      "25     25  0.999000\n",
      "26     26  1.000000\n",
      "27     27  1.000000\n",
      "28     28  1.000000\n",
      "29     29  1.000000\n",
      "30     30  1.000000\n",
      "31     31  0.997000\n",
      "32     32  1.000000\n",
      "33     33  1.000000\n",
      "34     34  1.000000\n",
      "35     35  1.000000\n",
      "36     36  0.996000\n",
      "37     37  1.000000\n",
      "38     38  1.000000\n",
      "39     39  1.000000\n",
      "40     40  1.000000\n",
      "41     41  1.000000\n",
      "42     42  0.987342\n"
     ]
    }
   ],
   "source": [
    "# 1) 청크 번호 생성\n",
    "chunk_size = 1000\n",
    "df_out['chunk'] = np.arange(len(df_out)) // chunk_size\n",
    "\n",
    "# 2) 맞혔는지 여부 컬럼 추가\n",
    "df_out['correct'] = (df_out['true'] == df_out['pred'])\n",
    "\n",
    "# 3) 청크별 정확도(accuracy) 계산\n",
    "accuracy_per_chunk = (\n",
    "    df_out\n",
    "    .groupby('chunk', as_index=False)['correct']\n",
    "    .mean()\n",
    "    .rename(columns={'correct': 'accuracy'})\n",
    ")\n",
    "\n",
    "print(accuracy_per_chunk)"
   ]
  },
  {
   "cell_type": "markdown",
   "id": "ee2941aa-c4fc-4fc0-9b02-8c31bebc5726",
   "metadata": {},
   "source": [
    "- 마찬가지로 잘 됨\n",
    "- 정확도 1도 많음"
   ]
  }
 ],
 "metadata": {
  "kernelspec": {
   "display_name": "Python 3 (ipykernel)",
   "language": "python",
   "name": "python3"
  },
  "language_info": {
   "codemirror_mode": {
    "name": "ipython",
    "version": 3
   },
   "file_extension": ".py",
   "mimetype": "text/x-python",
   "name": "python",
   "nbconvert_exporter": "python",
   "pygments_lexer": "ipython3",
   "version": "3.9.18"
  }
 },
 "nbformat": 4,
 "nbformat_minor": 5
}
