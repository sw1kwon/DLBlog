{
 "cells": [
  {
   "cell_type": "raw",
   "id": "ef7e16bd-9504-4826-9ae0-b998b107fa8e",
   "metadata": {
    "id": "e752103d-d6a6-4dcf-b652-73f961d0490c",
    "vscode": {
     "languageId": "raw"
    }
   },
   "source": [
    "---\n",
    "title: \"06wk-1: (신경망) -- 데이터분석 코딩패턴\"\n",
    "author: \"sw1kwon\"\n",
    "date: \"04/09/2025\"\n",
    "draft: false\n",
    "---"
   ]
  },
  {
   "cell_type": "markdown",
   "id": "fc77bdc9-ebb6-4f1e-b116-cd31811e1873",
   "metadata": {},
   "source": [
    "📘 **Note Format Guide**\n",
    "\n",
    "This format serves as a structured guide for organizing lecture content, personal interpretation, experiments, and study-related questions.\n",
    "\n",
    "| Type | What It Means | When I Use It |\n",
    "|------|----------------|----------------|\n",
    "| 📝 Lecture | Original material from the professor’s notes | When I’m referencing core concepts or provided code |\n",
    "| 🗣️ In-Class Note | Verbal explanations shared during the lecture | When I want to record something the professor said in class but didn’t include in the official notes |\n",
    "| ✍️ My Note | My thoughts, interpretations, or additional explanations | When I reflect on or explain something in my own words |\n",
    "| 🔬 Experiment | Code I tried out or changed to explore further | When I test variations or go beyond the original example |\n",
    "| ❓ Question | Questions I had while studying | When I want to revisit or research something more deeply |"
   ]
  },
  {
   "cell_type": "markdown",
   "id": "e2203646-4fa7-4f29-a86b-ab849a15330b",
   "metadata": {},
   "source": [
    "📝\n",
    "🗣️\n",
    "✍️\n",
    "🔬\n",
    "❓"
   ]
  },
  {
   "cell_type": "markdown",
   "id": "9836052e-2344-4d39-a836-2cae6116d38c",
   "metadata": {
    "id": "4d47a7c9"
   },
   "source": [
    "# 1. 강의노트 원본 및 영상 링크"
   ]
  },
  {
   "cell_type": "markdown",
   "id": "b010004a-1d86-41cd-9582-8d0584eb9cd6",
   "metadata": {},
   "source": [
    "[https://guebin.github.io/DL2025/posts/06wk-1.html](https://guebin.github.io/DL2025/posts/06wk-1.html)"
   ]
  },
  {
   "cell_type": "markdown",
   "id": "8be07e91-4bea-4def-8972-6618eaac6856",
   "metadata": {},
   "source": [
    "# 2. Imports 📝"
   ]
  },
  {
   "cell_type": "code",
   "execution_count": 1,
   "id": "fa8354b6-c505-44e2-8a94-0302a671c230",
   "metadata": {
    "tags": []
   },
   "outputs": [],
   "source": [
    "import torch\n",
    "import torchvision\n",
    "import matplotlib.pyplot as plt"
   ]
  },
  {
   "cell_type": "code",
   "execution_count": 2,
   "id": "37df7b9c-3970-4c82-9b8e-cf3df11fac03",
   "metadata": {},
   "outputs": [],
   "source": [
    "plt.rcParams['figure.figsize'] = (4.5, 3.0)"
   ]
  },
  {
   "cell_type": "markdown",
   "id": "f241f43a-e26a-407b-bbfc-0b47135059a9",
   "metadata": {},
   "source": [
    "# 3. 데이터분석 코딩패턴 📝"
   ]
  },
  {
   "cell_type": "code",
   "execution_count": 3,
   "id": "676c6eed-77ab-4a50-b714-bf1778da5166",
   "metadata": {},
   "outputs": [],
   "source": [
    "# 복습\n",
    "# --- \n",
    "# 시벤코정리 - 다 맞출수있어 (train) \n",
    "# 오버피팅 - 그게 의미가 없을텐데 (test 에서 잘하는게 의미가 있다) \n",
    "# 드랍아웃 - 대충대충 학습하면 오히려 좋을지도 --> 이게 성공함 // 랜덤포레스트?\n",
    "#----#\n",
    "# GPU 메모리 아깝다.. (비싸거든) \n",
    "# 그래서 확률적경사하강법 \n",
    "# 꼭 돈이 없어서 이 알고리즘을 만든것 같지만 그런건 아님 \n",
    "# 확률적경사하강법은 알고리즘 자체에 장점이 있음 \n",
    "# -- 장점1: 데이터를 조금씩쓰면서 update // 대충대충하는 느낌 ---> 오버핏을 눌러주는 효과 // 배깅?\n",
    "# -- 장점2: global min 이 있고, local min 있을때, local min을 잘 탈출하는 효과가 있음 "
   ]
  },
  {
   "cell_type": "markdown",
   "id": "ee3f7e57-5332-4b79-a3f8-02ecb9abdd09",
   "metadata": {},
   "source": [
    "🗣️ 랜덤포레스트: node를 몇 개 선택하여 학습 / 배깅: obs를 몇 개 선택하여 학습"
   ]
  },
  {
   "cell_type": "code",
   "execution_count": 4,
   "id": "c966667c-680f-4ac2-84bf-68b068cb52ed",
   "metadata": {},
   "outputs": [],
   "source": [
    "# 오늘할것: train/test 이 존재하는 데이터 셋팅에서 Dropout 레이어도 쓰고, 미니배치도 쓰고.. GPU도 쓰고.. "
   ]
  },
  {
   "cell_type": "markdown",
   "id": "55806918-c847-460a-b0d5-bbc6e2be09e3",
   "metadata": {},
   "source": [
    "## A. 일반적인 train/test 셋팅"
   ]
  },
  {
   "cell_type": "markdown",
   "id": "aa6d32e8-a9ed-4826-905e-772a4903114c",
   "metadata": {},
   "source": [
    "`-` Step1: 데이터정리"
   ]
  },
  {
   "cell_type": "code",
   "execution_count": 5,
   "id": "5fd32a03-0d7d-4bb8-b3b3-ec9444d2a664",
   "metadata": {},
   "outputs": [],
   "source": [
    "train_dataset = torchvision.datasets.MNIST(root='./data', train=True, download=True)\n",
    "test_dataset = torchvision.datasets.MNIST(root='./data', train=False, download=True)\n",
    "to_tensor = torchvision.transforms.ToTensor()\n",
    "X0 = torch.stack([to_tensor(img) for img, lbl in train_dataset if lbl==0])\n",
    "X1 = torch.stack([to_tensor(img) for img, lbl in train_dataset if lbl==1])\n",
    "X = torch.concat([X0,X1],axis=0).reshape(-1,784)\n",
    "y = torch.tensor([0.0]*len(X0) + [1.0]*len(X1)).reshape(-1,1)\n",
    "XX0 = torch.stack([to_tensor(img) for img, lbl in test_dataset if lbl==0])\n",
    "XX1 = torch.stack([to_tensor(img) for img, lbl in test_dataset if lbl==1])\n",
    "XX = torch.concat([XX0,XX1],axis=0).reshape(-1,784)\n",
    "yy = torch.tensor([0.0]*len(XX0) + [1.0]*len(XX1)).reshape(-1,1)"
   ]
  },
  {
   "cell_type": "markdown",
   "id": "ebe5712f-e65f-4782-b984-badcdee8467f",
   "metadata": {},
   "source": [
    "🗣️("
   ]
  },
  {
   "cell_type": "code",
   "execution_count": 6,
   "id": "e35ace26-0beb-4a9c-8f91-0c21fc9df3ef",
   "metadata": {},
   "outputs": [
    {
     "data": {
      "text/plain": [
       "torch.Size([784])"
      ]
     },
     "execution_count": 6,
     "metadata": {},
     "output_type": "execute_result"
    }
   ],
   "source": [
    "X[0].shape"
   ]
  },
  {
   "cell_type": "code",
   "execution_count": 7,
   "id": "7bbf13b6-1908-41c3-a0e1-dbfcbfde8d6e",
   "metadata": {},
   "outputs": [
    {
     "data": {
      "text/plain": [
       "<matplotlib.image.AxesImage at 0x7f89e39e3e80>"
      ]
     },
     "execution_count": 7,
     "metadata": {},
     "output_type": "execute_result"
    },
    {
     "data": {
      "image/png": "[encoded data removed]",
      "text/plain": [
       "<Figure size 450x300 with 1 Axes>"
      ]
     },
     "metadata": {},
     "output_type": "display_data"
    }
   ],
   "source": [
    "plt.imshow(X[0].reshape(28,28), cmap=\"gray\")"
   ]
  },
  {
   "cell_type": "code",
   "execution_count": 9,
   "id": "572d1b02-4656-43b6-91a1-f19b73df8934",
   "metadata": {},
   "outputs": [
    {
     "name": "stdout",
     "output_type": "stream",
     "text": [
      "tensor([0.])\n"
     ]
    }
   ],
   "source": [
    "print(y[0]) # label이 tensor 형태로 저장되어 있음"
   ]
  },
  {
   "cell_type": "markdown",
   "id": "16c327e0-aeb8-490f-a2fb-ce6e2959ed4f",
   "metadata": {},
   "source": [
    "- X만 가지고 학습을 한 뒤 XX를 가지고 확인"
   ]
  },
  {
   "cell_type": "code",
   "execution_count": 10,
   "id": "0c882c44-a332-4471-a282-87893659fad5",
   "metadata": {},
   "outputs": [
    {
     "data": {
      "text/plain": [
       "(torch.Size([12665, 784]), torch.Size([12665, 1]))"
      ]
     },
     "execution_count": 10,
     "metadata": {},
     "output_type": "execute_result"
    }
   ],
   "source": [
    "X.shape, y.shape"
   ]
  },
  {
   "cell_type": "code",
   "execution_count": 11,
   "id": "5690d933-74f7-4754-af36-576ac13cc314",
   "metadata": {},
   "outputs": [
    {
     "data": {
      "text/plain": [
       "(torch.Size([2115, 784]), torch.Size([2115, 1]))"
      ]
     },
     "execution_count": 11,
     "metadata": {},
     "output_type": "execute_result"
    }
   ],
   "source": [
    "XX.shape, yy.shape"
   ]
  },
  {
   "cell_type": "markdown",
   "id": "cfc28a3f-2f7b-495d-90cd-70114c99f7ad",
   "metadata": {},
   "source": [
    ")🗣️"
   ]
  },
  {
   "cell_type": "markdown",
   "id": "666dc4cc-935c-419f-8db0-56aeaabf83f7",
   "metadata": {},
   "source": [
    "`-` Step2: 학습가능한 오브젝트들의 설정 (모델링과정 포함)"
   ]
  },
  {
   "cell_type": "code",
   "execution_count": 12,
   "id": "54043b46-1a41-42d5-b6e9-b8ff027d788e",
   "metadata": {},
   "outputs": [],
   "source": [
    "torch.manual_seed(43052)\n",
    "net = torch.nn.Sequential(\n",
    "    torch.nn.Linear(784,32),\n",
    "    torch.nn.ReLU(), # (n,32)\n",
    "    torch.nn.Linear(32,1),\n",
    "    torch.nn.Sigmoid() # y는 0 또는 1\n",
    ")\n",
    "loss_fn = torch.nn.MSELoss()\n",
    "optimizr = torch.optim.SGD(net.parameters()) # Adam은 너무 잘 맞춰서 SGD"
   ]
  },
  {
   "cell_type": "markdown",
   "id": "0ed9b263-303b-4678-ae78-2889ae489559",
   "metadata": {},
   "source": [
    "`-` Step3: 학습 (=적합)"
   ]
  },
  {
   "cell_type": "code",
   "execution_count": 13,
   "id": "bd4f58ff-84e8-4a39-a5e4-04ae94559653",
   "metadata": {},
   "outputs": [
    {
     "name": "stdout",
     "output_type": "stream",
     "text": [
      "# of epochs=50   \t train_acc = 0.4677\n",
      "# of epochs=100   \t train_acc = 0.4677\n",
      "# of epochs=150   \t train_acc = 0.4757\n",
      "# of epochs=200   \t train_acc = 0.5295\n",
      "# of epochs=250   \t train_acc = 0.6632\n",
      "# of epochs=300   \t train_acc = 0.7929\n",
      "# of epochs=350   \t train_acc = 0.8731\n",
      "# of epochs=400   \t train_acc = 0.9206\n",
      "# of epochs=450   \t train_acc = 0.9465\n",
      "# of epochs=500   \t train_acc = 0.9634\n"
     ]
    }
   ],
   "source": [
    "for epoc in range(1,501):\n",
    "    #---에폭시작---# \n",
    "    # 1 \n",
    "    yhat = net(X) \n",
    "    # 2 \n",
    "    loss = loss_fn(yhat,y) \n",
    "    # 3 \n",
    "    loss.backward()\n",
    "    # 4 \n",
    "    optimizr.step()\n",
    "    optimizr.zero_grad()\n",
    "    #---에폭끝---# \n",
    "    #에폭마다 내가 보고싶은것들을 보여주는 코드\n",
    "    if (epoc % 50) ==0: # 50으로 나눈 나머지 = 0 => 50의 배수\n",
    "        acc = ((net(X).data > 0.5) == y).float().mean().item() # item: tensor -> float\n",
    "        print(f\"# of epochs={epoc}   \\t train_acc = {acc:.4f}\")"
   ]
  },
  {
   "cell_type": "markdown",
   "id": "54bbca99-43b3-497e-9ca3-45e3d76f0093",
   "metadata": {},
   "source": [
    "🗣️ 오버피팅 비판 가능성 존재"
   ]
  },
  {
   "cell_type": "markdown",
   "id": "cbf6340a-cfe3-4083-a00a-64f309c7aaa0",
   "metadata": {},
   "source": [
    "`-` Step4: 예측 & 결과분석 "
   ]
  },
  {
   "cell_type": "markdown",
   "id": "6567ded4-85d1-41d2-bb7f-ee886615a6ad",
   "metadata": {},
   "source": [
    "*train acc*"
   ]
  },
  {
   "cell_type": "code",
   "execution_count": 14,
   "id": "f85fdfa7-0420-43dc-bd3a-f545a2fe899b",
   "metadata": {},
   "outputs": [
    {
     "data": {
      "text/plain": [
       "tensor(0.9634)"
      ]
     },
     "execution_count": 14,
     "metadata": {},
     "output_type": "execute_result"
    }
   ],
   "source": [
    "((net(X).data > 0.5) == y).float().mean()"
   ]
  },
  {
   "cell_type": "markdown",
   "id": "4fb22bd3-6826-4939-a49c-961546f8fd47",
   "metadata": {},
   "source": [
    "*test acc*"
   ]
  },
  {
   "cell_type": "code",
   "execution_count": 15,
   "id": "d0047b66-37a1-41f7-ad1f-a28e7094f230",
   "metadata": {},
   "outputs": [
    {
     "data": {
      "text/plain": [
       "tensor(0.9749)"
      ]
     },
     "execution_count": 15,
     "metadata": {},
     "output_type": "execute_result"
    }
   ],
   "source": [
    "((net(XX).data>0.5) == yy).float().mean()"
   ]
  },
  {
   "cell_type": "markdown",
   "id": "af2e2604-af0f-4ee2-8daf-f1f23d56d01d",
   "metadata": {},
   "source": [
    "🗣️ 실전에서 더 괜찮음"
   ]
  },
  {
   "cell_type": "markdown",
   "id": "f8bb54ee-5328-4a31-89a9-fb50c216ca16",
   "metadata": {},
   "source": [
    "🗣️ Step4: acc, recall, F1 score, 시각화 등"
   ]
  },
  {
   "cell_type": "markdown",
   "id": "a17af0aa-fb7c-4ecb-8ff6-c5247f2d97ce",
   "metadata": {},
   "source": [
    "```python\n",
    "#에폭마다 내가 보고싶은것들을 보여주는 코드\n",
    "    if (epoc % 50) ==0: # 50으로 나눈 나머지 = 0 => 50의 배수\n",
    "        acc = ((net(X).data > 0.5) == y).float().mean().item() # item: tensor -> float\n",
    "        Xval --> # train data 자체에서 test 데이터를 나누고 정확도를 비교하며 early stopping 할 수도 있음 (오버피팅 방지)\n",
    "        print(f\"# of epochs={epoc}   \\t train_acc = {acc:.4f}\")\n",
    "```"
   ]
  },
  {
   "cell_type": "markdown",
   "id": "4d9e60a4-62b5-4856-9c24-9485cfad4d3c",
   "metadata": {},
   "source": [
    "## B. Dropout 사용 "
   ]
  },
  {
   "cell_type": "markdown",
   "id": "d9f9a47b-aa65-46c8-87e6-07f513e1e9bf",
   "metadata": {},
   "source": [
    "`-` Step1: 데이터정리"
   ]
  },
  {
   "cell_type": "code",
   "execution_count": 16,
   "id": "f2ba6930-b255-498f-b780-120f94a43b04",
   "metadata": {},
   "outputs": [],
   "source": [
    "pass"
   ]
  },
  {
   "cell_type": "markdown",
   "id": "48426a20-8944-457f-a88e-cf61166abf46",
   "metadata": {},
   "source": [
    "`-` Step2: 학습가능한 오브젝트들의 설정 (모델링과정 포함)"
   ]
  },
  {
   "cell_type": "code",
   "execution_count": 17,
   "id": "cbbf6b73-1342-451d-a1d5-6b3e5d2eb8f7",
   "metadata": {},
   "outputs": [],
   "source": [
    "torch.manual_seed(43052)\n",
    "net = torch.nn.Sequential(\n",
    "    torch.nn.Linear(784,32),\n",
    "    torch.nn.Dropout(0.9),\n",
    "    torch.nn.ReLU(),\n",
    "    torch.nn.Linear(32,1),\n",
    "    torch.nn.Sigmoid()\n",
    ")\n",
    "loss_fn = torch.nn.MSELoss()\n",
    "optimizr = torch.optim.SGD(net.parameters())"
   ]
  },
  {
   "cell_type": "markdown",
   "id": "ebadad9b-78b1-4844-8c82-4c8fe0acf6cd",
   "metadata": {},
   "source": [
    "🗣️ 원래는 활성화 함수 다음이지만 ReLU 한정 전에도 사용 가능"
   ]
  },
  {
   "cell_type": "markdown",
   "id": "6306992b-e822-4102-b953-cf506feb4631",
   "metadata": {},
   "source": [
    "`-` Step3: 학습 (=적합)"
   ]
  },
  {
   "cell_type": "code",
   "execution_count": 18,
   "id": "19da50bc-6447-48c2-8cc5-0fed23f2cc07",
   "metadata": {},
   "outputs": [
    {
     "name": "stdout",
     "output_type": "stream",
     "text": [
      "# of epochs=50   \t train_acc = 0.4677\n",
      "# of epochs=100   \t train_acc = 0.4677\n",
      "# of epochs=150   \t train_acc = 0.4744\n",
      "# of epochs=200   \t train_acc = 0.5215\n",
      "# of epochs=250   \t train_acc = 0.6435\n",
      "# of epochs=300   \t train_acc = 0.7675\n",
      "# of epochs=350   \t train_acc = 0.8468\n",
      "# of epochs=400   \t train_acc = 0.8978\n",
      "# of epochs=450   \t train_acc = 0.9301\n",
      "# of epochs=500   \t train_acc = 0.9492\n"
     ]
    }
   ],
   "source": [
    "for epoc in range(1,501):\n",
    "    net.train()\n",
    "    #---에폭시작---# \n",
    "    # 1 \n",
    "    yhat = net(X) \n",
    "    # 2 \n",
    "    loss = loss_fn(yhat,y) \n",
    "    # 3 \n",
    "    loss.backward()\n",
    "    # 4 \n",
    "    optimizr.step()\n",
    "    optimizr.zero_grad()\n",
    "    #---에폭끝---# \n",
    "    net.eval()\n",
    "    #에폭마다 내가 보고싶은것들을 보여주는 코드\n",
    "    if (epoc % 50) ==0:\n",
    "        acc = ((net(X).data > 0.5) == y).float().mean().item()\n",
    "        print(f\"# of epochs={epoc}   \\t train_acc = {acc:.4f}\")"
   ]
  },
  {
   "cell_type": "code",
   "execution_count": 19,
   "id": "9141277a-949b-4a9b-bff2-909a7e95aef2",
   "metadata": {},
   "outputs": [],
   "source": [
    "# of epochs=50   \t train_acc = 0.4677\n",
    "# of epochs=100   \t train_acc = 0.4677\n",
    "# of epochs=150   \t train_acc = 0.4757 # 위의 결과와 살짝 다름\n",
    "# of epochs=200   \t train_acc = 0.5295\n",
    "# of epochs=250   \t train_acc = 0.6632\n",
    "# of epochs=300   \t train_acc = 0.7929\n",
    "# of epochs=350   \t train_acc = 0.8731\n",
    "# of epochs=400   \t train_acc = 0.9206\n",
    "# of epochs=450   \t train_acc = 0.9465\n",
    "# of epochs=500   \t train_acc = 0.9634"
   ]
  },
  {
   "cell_type": "markdown",
   "id": "f723c939-589e-4352-a945-6a95740f3b55",
   "metadata": {},
   "source": [
    "`-` Step4: 예측 & 결과분석 "
   ]
  },
  {
   "cell_type": "markdown",
   "id": "349722f6-f37b-4765-84f6-5e5bcf0b9c8d",
   "metadata": {},
   "source": [
    "*train acc*"
   ]
  },
  {
   "cell_type": "code",
   "execution_count": 20,
   "id": "5cd3c9fa-9a20-4771-9aad-167275beac3c",
   "metadata": {},
   "outputs": [
    {
     "data": {
      "text/plain": [
       "tensor(0.9492)"
      ]
     },
     "execution_count": 20,
     "metadata": {},
     "output_type": "execute_result"
    }
   ],
   "source": [
    "((net(X).data > 0.5) == y).float().mean()"
   ]
  },
  {
   "cell_type": "markdown",
   "id": "919b6b4a-8411-412d-bed3-ae590d5dad71",
   "metadata": {},
   "source": [
    "*test acc*"
   ]
  },
  {
   "cell_type": "code",
   "execution_count": 21,
   "id": "25e5836c-d94a-46c7-b60c-7922c1a041bd",
   "metadata": {},
   "outputs": [
    {
     "data": {
      "text/plain": [
       "tensor(0.9626)"
      ]
     },
     "execution_count": 21,
     "metadata": {},
     "output_type": "execute_result"
    }
   ],
   "source": [
    "((net(XX).data>0.5) == yy).float().mean()"
   ]
  },
  {
   "cell_type": "markdown",
   "id": "1b2e1c2f-591b-47e0-851d-33554a34d659",
   "metadata": {},
   "source": [
    "🗣️ 실전에서 더 괜찮음"
   ]
  },
  {
   "cell_type": "markdown",
   "id": "c5775476-5760-4243-b070-346d4f43cb25",
   "metadata": {},
   "source": [
    "## C. GPU도 사용 "
   ]
  },
  {
   "cell_type": "markdown",
   "id": "4cd46ede-e2ae-4a18-9e49-443e8f98e70d",
   "metadata": {},
   "source": [
    "`-` Step1: 데이터정리"
   ]
  },
  {
   "cell_type": "code",
   "execution_count": 22,
   "id": "6de17f93-4466-46d4-ae2a-60ef74cf7188",
   "metadata": {},
   "outputs": [],
   "source": [
    "pass"
   ]
  },
  {
   "cell_type": "markdown",
   "id": "7079aa1a-b341-4ea0-b842-6a992f7eb2d7",
   "metadata": {},
   "source": [
    "`-` Step2: 학습가능한 오브젝트들의 설정 (모델링과정 포함)"
   ]
  },
  {
   "cell_type": "code",
   "execution_count": 23,
   "id": "87b26291-e51d-4a97-9381-286de309bc8d",
   "metadata": {},
   "outputs": [],
   "source": [
    "torch.manual_seed(43052)\n",
    "net = torch.nn.Sequential(\n",
    "    torch.nn.Linear(784,32),\n",
    "    torch.nn.Dropout(0.9),\n",
    "    torch.nn.ReLU(),\n",
    "    torch.nn.Linear(32,1),\n",
    "    torch.nn.Sigmoid()\n",
    ").to(\"cuda:0\")\n",
    "loss_fn = torch.nn.MSELoss()\n",
    "optimizr = torch.optim.SGD(net.parameters())"
   ]
  },
  {
   "cell_type": "markdown",
   "id": "0ffe9322-49af-4bbe-b7c5-687d2b616230",
   "metadata": {},
   "source": [
    "`-` Step3: 학습 (=적합)"
   ]
  },
  {
   "cell_type": "code",
   "execution_count": 24,
   "id": "6ef6ae6c-786d-4b4f-9d90-7e3933dba10e",
   "metadata": {},
   "outputs": [
    {
     "name": "stdout",
     "output_type": "stream",
     "text": [
      "# of epochs=50   \t train_acc = 0.4677\n",
      "# of epochs=100   \t train_acc = 0.4677\n",
      "# of epochs=150   \t train_acc = 0.4745\n",
      "# of epochs=200   \t train_acc = 0.5223\n",
      "# of epochs=250   \t train_acc = 0.6441\n",
      "# of epochs=300   \t train_acc = 0.7686\n",
      "# of epochs=350   \t train_acc = 0.8469\n",
      "# of epochs=400   \t train_acc = 0.8979\n",
      "# of epochs=450   \t train_acc = 0.9302\n",
      "# of epochs=500   \t train_acc = 0.9492\n"
     ]
    }
   ],
   "source": [
    "for epoc in range(1,501):\n",
    "    net.train()\n",
    "    #---에폭시작---# \n",
    "    X = X.to(\"cuda:0\")\n",
    "    y = y.to(\"cuda:0\")\n",
    "    # 1 \n",
    "    yhat = net(X) \n",
    "    # 2 \n",
    "    loss = loss_fn(yhat,y) \n",
    "    # 3 \n",
    "    loss.backward()\n",
    "    # 4 \n",
    "    optimizr.step()\n",
    "    optimizr.zero_grad()\n",
    "    #---에폭끝---# \n",
    "    net.eval()\n",
    "    #에폭마다 내가 보고싶은것들을 보여주는 코드\n",
    "    if (epoc % 50) ==0:\n",
    "        acc = ((net(X).data > 0.5) == y).float().mean().item()\n",
    "        print(f\"# of epochs={epoc}   \\t train_acc = {acc:.4f}\")"
   ]
  },
  {
   "cell_type": "markdown",
   "id": "cd5dc55b-ae92-4461-a98d-f4a312224a32",
   "metadata": {},
   "source": [
    "🗣️ 빠름"
   ]
  },
  {
   "cell_type": "markdown",
   "id": "28700d49-6047-4639-a391-9ac15505d68d",
   "metadata": {},
   "source": [
    "`-` Step4: 예측 & 결과분석 "
   ]
  },
  {
   "cell_type": "markdown",
   "id": "4020dc6a-487d-44c5-a5f9-3ec7ea4f1fef",
   "metadata": {},
   "source": [
    "*train acc*"
   ]
  },
  {
   "cell_type": "code",
   "execution_count": 25,
   "id": "1c5b1bb3-1a01-4fcd-a6bd-b1d83b2157e7",
   "metadata": {},
   "outputs": [
    {
     "data": {
      "text/plain": [
       "tensor(0.9492, device='cuda:0')"
      ]
     },
     "execution_count": 25,
     "metadata": {},
     "output_type": "execute_result"
    }
   ],
   "source": [
    "((net(X).data > 0.5) == y).float().mean()"
   ]
  },
  {
   "cell_type": "markdown",
   "id": "7250032f-5da4-484b-ad5a-91f81e0d480b",
   "metadata": {},
   "source": [
    "*test acc*"
   ]
  },
  {
   "cell_type": "code",
   "execution_count": 27,
   "id": "288dd34f-d605-4a51-b7ae-99a2786d3555",
   "metadata": {},
   "outputs": [],
   "source": [
    "# ((net(XX).data>0.5) == yy).float().mean() # net(XX)가 문제"
   ]
  },
  {
   "cell_type": "markdown",
   "id": "c86a9796-7a5b-4117-a7ec-59d6c864b138",
   "metadata": {},
   "source": [
    "🗣️ XX를 GPU에 올리든가, net를 CPU에 내리든가"
   ]
  },
  {
   "cell_type": "code",
   "execution_count": 28,
   "id": "01c1a6f8-a102-4387-920e-2541b55f6aaa",
   "metadata": {},
   "outputs": [],
   "source": [
    "XX = XX.to(\"cuda:0\")\n",
    "yy = yy.to(\"cuda:0\") "
   ]
  },
  {
   "cell_type": "code",
   "execution_count": 29,
   "id": "28ddc071-5b13-4d4d-869a-f34a9854aa40",
   "metadata": {},
   "outputs": [
    {
     "data": {
      "text/plain": [
       "tensor(0.9626, device='cuda:0')"
      ]
     },
     "execution_count": 29,
     "metadata": {},
     "output_type": "execute_result"
    }
   ],
   "source": [
    "((net(XX).data>0.5) == yy).float().mean()"
   ]
  },
  {
   "cell_type": "markdown",
   "id": "13aa642c-176c-463a-baac-e1d756ac325b",
   "metadata": {},
   "source": [
    "## D. 미니배치도 사용 "
   ]
  },
  {
   "cell_type": "markdown",
   "id": "17170de7-2538-42f8-955e-4dd62c5bfeaa",
   "metadata": {},
   "source": [
    "`-` Step1: 데이터정리"
   ]
  },
  {
   "cell_type": "markdown",
   "id": "58ced5c8-16c7-4eb8-a9f2-8b6625446ce9",
   "metadata": {},
   "source": [
    "🗣️ 다시 CPU로 내림"
   ]
  },
  {
   "cell_type": "code",
   "execution_count": 30,
   "id": "4968e188-776a-4a58-8a09-0e45404bec35",
   "metadata": {},
   "outputs": [],
   "source": [
    "X = X.to(\"cpu\")\n",
    "y = y.to(\"cpu\")\n",
    "XX = XX.to(\"cpu\")\n",
    "yy = yy.to(\"cpu\")"
   ]
  },
  {
   "cell_type": "markdown",
   "id": "d776bcfb-59d5-4c67-b2a9-88de28185e70",
   "metadata": {},
   "source": [
    "🗣️("
   ]
  },
  {
   "cell_type": "code",
   "execution_count": 31,
   "id": "53c37e9f-7cee-4fd8-bbb2-001703f00c5c",
   "metadata": {},
   "outputs": [
    {
     "data": {
      "text/plain": [
       "torch.Size([12665, 784])"
      ]
     },
     "execution_count": 31,
     "metadata": {},
     "output_type": "execute_result"
    }
   ],
   "source": [
    "X.shape"
   ]
  },
  {
   "cell_type": "code",
   "execution_count": 32,
   "id": "32a8ca26-255a-4671-84ee-9d09ea5736b9",
   "metadata": {},
   "outputs": [],
   "source": [
    "ds  = torch.utils.data.TensorDataset(X,y)\n",
    "dl = torch.utils.data.DataLoader(ds,batch_size = 16) "
   ]
  },
  {
   "cell_type": "code",
   "execution_count": 34,
   "id": "b9e9465b-e48d-41d0-9f62-e296b192d193",
   "metadata": {},
   "outputs": [],
   "source": [
    "# for Xm, ym in dl: # m: 미니 배치\n",
    "#     print(Xm) # 하나하나가 미니배치"
   ]
  },
  {
   "cell_type": "code",
   "execution_count": 37,
   "id": "572da39b-f0d8-4909-aa5e-5dc62386d64e",
   "metadata": {},
   "outputs": [],
   "source": [
    "# for Xm, ym in dl: # m: 미니 배치\n",
    "#     print(Xm.shape) # 결과: torch.Size([16, 784])"
   ]
  },
  {
   "cell_type": "code",
   "execution_count": 38,
   "id": "5e21f298-ba9e-4c07-ae6d-bd22b1a6c4ad",
   "metadata": {},
   "outputs": [],
   "source": [
    "ds  = torch.utils.data.TensorDataset(X,y)\n",
    "dl = torch.utils.data.DataLoader(ds,batch_size = 16, shuffle=True) "
   ]
  },
  {
   "cell_type": "code",
   "execution_count": 41,
   "id": "6d3fa8ef-fc2c-4542-96c3-194ff69860fe",
   "metadata": {},
   "outputs": [],
   "source": [
    "# for Xm, ym in dl: # m: 미니 배치\n",
    "#     print(ym) # 섞여 있음"
   ]
  },
  {
   "cell_type": "code",
   "execution_count": 43,
   "id": "e226fed5-a0e4-4aff-874c-f41582826d84",
   "metadata": {},
   "outputs": [],
   "source": [
    "# for Xm, ym in dl: # m: 미니 배치\n",
    "#     print(ym.shape) # 결과: torch.Size([16, 1])"
   ]
  },
  {
   "cell_type": "markdown",
   "id": "43a17574-5bce-4841-b86d-3c26518e15fb",
   "metadata": {},
   "source": [
    ")🗣️"
   ]
  },
  {
   "cell_type": "code",
   "execution_count": 44,
   "id": "083b5bf6-58b2-4ca5-9e47-dbe43aad3854",
   "metadata": {},
   "outputs": [],
   "source": [
    "ds  = torch.utils.data.TensorDataset(X,y)\n",
    "dl = torch.utils.data.DataLoader(ds,batch_size = 16, shuffle=True) "
   ]
  },
  {
   "cell_type": "markdown",
   "id": "04d83332-f15e-4267-a317-09742713a940",
   "metadata": {},
   "source": [
    "`-` Step2: 학습가능한 오브젝트들의 설정 (모델링과정 포함)"
   ]
  },
  {
   "cell_type": "code",
   "execution_count": 45,
   "id": "43a027c5-efbd-495b-9c91-06d5f17c451f",
   "metadata": {},
   "outputs": [],
   "source": [
    "torch.manual_seed(43052)\n",
    "net = torch.nn.Sequential(\n",
    "    torch.nn.Linear(784,32),\n",
    "    torch.nn.Dropout(0.9),\n",
    "    torch.nn.ReLU(),\n",
    "    torch.nn.Linear(32,1),\n",
    "    torch.nn.Sigmoid()\n",
    ").to(\"cuda:0\")\n",
    "loss_fn = torch.nn.MSELoss()\n",
    "optimizr = torch.optim.SGD(net.parameters())"
   ]
  },
  {
   "cell_type": "markdown",
   "id": "ea4b9b6b-ff5f-4d8b-bb5c-bb8a79f7f6f6",
   "metadata": {},
   "source": [
    "`-` Step3: 학습 (=적합)"
   ]
  },
  {
   "cell_type": "markdown",
   "id": "567a953f-5047-4ef0-9c5a-f267e426b5c6",
   "metadata": {},
   "source": [
    "- 🗣️\n",
    "    - X=X.to(\"cuda:0\"), y=y.to(\"cuda:0\")를 할 수는 없으므로 미니배치 별로 GPU에 올림\n",
    "    - epoch을 500번씩 돌릴 필요는 없으므로 2번만 돌림"
   ]
  },
  {
   "cell_type": "code",
   "execution_count": 46,
   "id": "fc63e425-fd05-40e3-821b-1a9817f40e4a",
   "metadata": {},
   "outputs": [
    {
     "name": "stdout",
     "output_type": "stream",
     "text": [
      "# of epochs=1   \t train_acc = 0.9860\n",
      "# of epochs=2   \t train_acc = 0.9931\n"
     ]
    }
   ],
   "source": [
    "for epoc in range(1,3):\n",
    "    net.train()\n",
    "    #---에폭시작---# \n",
    "    for Xm,ym in dl:         \n",
    "        Xm = Xm.to(\"cuda:0\")\n",
    "        ym = ym.to(\"cuda:0\")\n",
    "        # 1 \n",
    "        ym_hat = net(Xm) \n",
    "        # 2 \n",
    "        loss = loss_fn(ym_hat,ym) \n",
    "        # 3 \n",
    "        loss.backward()\n",
    "        # 4 \n",
    "        optimizr.step()\n",
    "        optimizr.zero_grad()\n",
    "    #---에폭끝---# \n",
    "    net.eval()\n",
    "    #에폭마다 내가 보고싶은것들을 보여주는 코드\n",
    "    s = 0 \n",
    "    for Xm, ym in dl:\n",
    "        Xm = Xm.to(\"cuda:0\")\n",
    "        ym = ym.to(\"cuda:0\")\n",
    "        s = s + ((net(Xm) > 0.5) == ym).float().sum()\n",
    "    acc = s/12665        \n",
    "    print(f\"# of epochs={epoc}   \\t train_acc = {acc:.4f}\")"
   ]
  },
  {
   "cell_type": "markdown",
   "id": "3c87651d-6be8-4254-a352-63776019122e",
   "metadata": {},
   "source": [
    "🗣️ 다른 방법 (이렇게 하면 쉬움)"
   ]
  },
  {
   "cell_type": "markdown",
   "id": "49f6bc1f-9699-4bcd-9209-047df0b9a0b9",
   "metadata": {},
   "source": [
    "```python\n",
    "for epoc in range(1,3):\n",
    "    net.train()\n",
    "    net.gpu()\n",
    "    #---에폭시작---# \n",
    "    for Xm,ym in dl:         \n",
    "        Xm = Xm.to(\"cuda:0\")\n",
    "        ym = ym.to(\"cuda:0\")\n",
    "        # 1 \n",
    "        ym_hat = net(Xm) \n",
    "        # 2 \n",
    "        loss = loss_fn(ym_hat,ym) \n",
    "        # 3 \n",
    "        loss.backward()\n",
    "        # 4 \n",
    "        optimizr.step()\n",
    "        optimizr.zero_grad()\n",
    "    #---에폭끝---# \n",
    "    net.eval()\n",
    "    net.to(\"cpu\")\n",
    "    #에폭마다 내가 보고싶은것들을 보여주는 코드\n",
    "    acc = ((net(X).data > 0.5) == y).float().mean().item()\n",
    "    print(f\"# of epochs={epoc}   \\t train_acc = {acc:.4f}\")\n",
    "```"
   ]
  },
  {
   "cell_type": "markdown",
   "id": "80c24aaf-6bc1-4f9f-bb41-7f4a737b160b",
   "metadata": {},
   "source": [
    "- 🗣️ 다른 방법 (net를 GPU로 유지하고 싶으면) => 강의안 코드\n",
    "    - mean 대신 sum\n",
    "    - 하나의 미니배치에서 맞은 것의 개수를 s에 계속 누적 시킴 (for문)\n",
    "    - for 문이 종료되고 s를 총 개수(X.shape)로 나누면 accuracy가 계산됨"
   ]
  },
  {
   "cell_type": "markdown",
   "id": "31eb7c94-2fd1-45c1-825b-0caef85c2f2f",
   "metadata": {},
   "source": [
    "`-` Step4: 예측 & 결과분석 "
   ]
  },
  {
   "cell_type": "markdown",
   "id": "a9bfdbc7-f0b9-4bbd-847c-2122784b3ff8",
   "metadata": {},
   "source": [
    "🗣️("
   ]
  },
  {
   "cell_type": "code",
   "execution_count": 48,
   "id": "57760d0a-6051-40bd-b70a-90ff24832b16",
   "metadata": {},
   "outputs": [],
   "source": [
    "# net(X) # error"
   ]
  },
  {
   "cell_type": "markdown",
   "id": "e4c3b3a3-6c49-46b4-8257-4e2d239b0d46",
   "metadata": {},
   "source": [
    "- net은 cuda에 있고 X는 cpu에 있음\n",
    "    - net을 cpu로 내릴 것인지, X를 cuda로 올릴 것인지 선택\n",
    "- X를 cuda로 올리기 싫어서 미니배치를 사용하였으므로 net을 cpu로 내림"
   ]
  },
  {
   "cell_type": "markdown",
   "id": "967402f8-7dec-425b-b248-134c6f0b3a78",
   "metadata": {},
   "source": [
    ")🗣️"
   ]
  },
  {
   "cell_type": "code",
   "execution_count": 50,
   "id": "c0e2fbd3-0bc8-4910-82a5-0df3390854d1",
   "metadata": {},
   "outputs": [
    {
     "data": {
      "text/plain": [
       "Sequential(\n",
       "  (0): Linear(in_features=784, out_features=32, bias=True)\n",
       "  (1): Dropout(p=0.9, inplace=False)\n",
       "  (2): ReLU()\n",
       "  (3): Linear(in_features=32, out_features=1, bias=True)\n",
       "  (4): Sigmoid()\n",
       ")"
      ]
     },
     "execution_count": 50,
     "metadata": {},
     "output_type": "execute_result"
    }
   ],
   "source": [
    "net.to(\"cpu\")"
   ]
  },
  {
   "cell_type": "markdown",
   "id": "43d0a17e-c727-4d51-96a8-8e6b667b8609",
   "metadata": {},
   "source": [
    "*train acc*"
   ]
  },
  {
   "cell_type": "code",
   "execution_count": 51,
   "id": "c91e2a70-f40f-491f-971b-5ea26011017e",
   "metadata": {},
   "outputs": [
    {
     "data": {
      "text/plain": [
       "tensor(0.9931)"
      ]
     },
     "execution_count": 51,
     "metadata": {},
     "output_type": "execute_result"
    }
   ],
   "source": [
    "((net(X) > 0.5) == y).float().mean()"
   ]
  },
  {
   "cell_type": "markdown",
   "id": "4c55b29f-a1e9-4b8f-af7e-41f5616ae765",
   "metadata": {},
   "source": [
    "*test acc*"
   ]
  },
  {
   "cell_type": "code",
   "execution_count": 52,
   "id": "cf723bb3-0de1-480d-9564-4a8224d97cf5",
   "metadata": {},
   "outputs": [
    {
     "data": {
      "text/plain": [
       "tensor(0.9967)"
      ]
     },
     "execution_count": 52,
     "metadata": {},
     "output_type": "execute_result"
    }
   ],
   "source": [
    "((net(XX) > 0.5) == yy).float().mean()"
   ]
  },
  {
   "cell_type": "markdown",
   "id": "563f74ce-4b80-41d6-8080-e0dbff4a6bcc",
   "metadata": {},
   "source": [
    "🗣️ test도 잘 나오므로 오버피팅 X"
   ]
  },
  {
   "cell_type": "markdown",
   "id": "9844d886-3fb6-40b1-9981-f1a2bd507a31",
   "metadata": {},
   "source": [
    "> 점점 **비본질적인** 코드가 늘어남 (=코드가 드럽다는 소리에요) --> Trainer의 개념 등장 "
   ]
  },
  {
   "cell_type": "markdown",
   "id": "9b704ea3-9daa-4a5c-9e21-ed82f4dcb826",
   "metadata": {},
   "source": [
    "- 🗣️\n",
    "    - 딥러닝 가지고 분석하면 --> 트레이너가 있는 다른 패키지를 써야함 (학부 수준)\n",
    "        - 파이토치 라이트닝\n",
    "        - 허깅페이스\n",
    "    - 연구할때는 파이토치 이해해야 함"
   ]
  }
 ],
 "metadata": {
  "kernelspec": {
   "display_name": "Python 3 (ipykernel)",
   "language": "python",
   "name": "python3"
  },
  "language_info": {
   "codemirror_mode": {
    "name": "ipython",
    "version": 3
   },
   "file_extension": ".py",
   "mimetype": "text/x-python",
   "name": "python",
   "nbconvert_exporter": "python",
   "pygments_lexer": "ipython3",
   "version": "3.9.18"
  }
 },
 "nbformat": 4,
 "nbformat_minor": 5
}
