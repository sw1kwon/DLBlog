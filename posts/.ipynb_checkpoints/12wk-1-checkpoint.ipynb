{
 "cells": [
  {
   "cell_type": "raw",
   "id": "20a77b7f-2272-4292-9070-a65578b231cf",
   "metadata": {
    "tags": [],
    "vscode": {
     "languageId": "raw"
    }
   },
   "source": [
    "---\n",
    "title: \"12wk-1: (순환신경망) -- 겹장(덧장), rNNCell\" \n",
    "author: \"sw1kwon\"\n",
    "date: \"05/21/2025\"\n",
    "draft: false\n",
    "---"
   ]
  },
  {
   "cell_type": "markdown",
   "id": "cff135f1-5ddc-4aea-9d9e-342a8bce8053",
   "metadata": {},
   "source": [
    "📘 **Note Format Guide**\n",
    "\n",
    "This format serves as a structured guide for organizing lecture content, personal interpretation, experiments, and study-related questions.\n",
    "\n",
    "| Type | What It Means | When I Use It |\n",
    "|------|----------------|----------------|\n",
    "| 📝 Lecture | Original material from the professor’s notes | When I’m referencing core concepts or provided code |\n",
    "| 🗣️ In-Class Note | Verbal explanations shared during the lecture | When I want to record something the professor said in class but didn’t include in the official notes |\n",
    "| ✍️ My Note | My thoughts, interpretations, or additional explanations | When I reflect on or explain something in my own words |\n",
    "| 🔬 Experiment | Code I tried out or changed to explore further | When I test variations or go beyond the original example |\n",
    "| ❓ Question | Questions I had while studying | When I want to revisit or research something more deeply |"
   ]
  },
  {
   "cell_type": "markdown",
   "id": "fdc670d3-496b-4a6f-9a10-f978dcdd5a9e",
   "metadata": {},
   "source": [
    "📝\n",
    "🗣️\n",
    "✍️\n",
    "🔬\n",
    "❓"
   ]
  },
  {
   "cell_type": "markdown",
   "id": "7dba261e-fc10-4c35-8030-fa35ea03ed60",
   "metadata": {
    "id": "4d47a7c9"
   },
   "source": [
    "# 1. 강의노트 원본 및 영상 링크 📝"
   ]
  },
  {
   "cell_type": "markdown",
   "id": "e957030d-c1d0-42a4-a43f-41b94e734289",
   "metadata": {},
   "source": [
    "[https://guebin.github.io/DL2025/posts/12wk-1.html](https://guebin.github.io/DL2025/posts/12wk-1.html)"
   ]
  },
  {
   "cell_type": "markdown",
   "id": "036fb65d-81a3-4cdf-8b29-4a1067525430",
   "metadata": {},
   "source": [
    "# 2. Imports 📝"
   ]
  },
  {
   "cell_type": "code",
   "execution_count": 1,
   "id": "96236465-9493-4b43-8cfd-2e06948df854",
   "metadata": {
    "tags": []
   },
   "outputs": [],
   "source": [
    "import torch\n",
    "import pandas as pd\n",
    "import matplotlib.pyplot as plt"
   ]
  },
  {
   "cell_type": "markdown",
   "id": "0c912ade-c8d2-4ca4-9830-7cc1e138fa60",
   "metadata": {},
   "source": [
    "# 3. 예비학습 📝"
   ]
  },
  {
   "cell_type": "markdown",
   "id": "140f0a59-654f-438c-98f9-898116b74d74",
   "metadata": {},
   "source": [
    "## A. 파이토치의 유연성 "
   ]
  },
  {
   "cell_type": "markdown",
   "id": "1a8e7a6c-218d-40c5-90e2-309049789a0e",
   "metadata": {},
   "source": [
    "`-` 아래는 엄밀한 의미에서는 계산불가능하지만 파이토치는 그냥 해준다. "
   ]
  },
  {
   "cell_type": "markdown",
   "id": "030682ef-35b1-42e2-8bc9-c599807ffec9",
   "metadata": {},
   "source": [
    "🗣️("
   ]
  },
  {
   "cell_type": "code",
   "execution_count": 3,
   "id": "d4168451-21fa-40db-81aa-86813ee1f292",
   "metadata": {},
   "outputs": [
    {
     "data": {
      "text/plain": [
       "tensor([-0.0979, -0.2255,  0.5850, -1.9592, -1.0268])"
      ]
     },
     "execution_count": 3,
     "metadata": {},
     "output_type": "execute_result"
    }
   ],
   "source": [
    "x = torch.randn(5)\n",
    "x"
   ]
  },
  {
   "cell_type": "code",
   "execution_count": 5,
   "id": "7a1f61bf-ed43-4b05-82d1-1c2824dfcf07",
   "metadata": {},
   "outputs": [
    {
     "data": {
      "text/plain": [
       "tensor([0.7001])"
      ]
     },
     "execution_count": 5,
     "metadata": {},
     "output_type": "execute_result"
    }
   ],
   "source": [
    "x = torch.randn(5) # length 5 vector\n",
    "W = torch.randn(5,1) # 5,1 matrix\n",
    "x @ W                # (??,5) @ (5,1) 이 아니지만 해줌\n",
    "# vector를 알아서 (1,5)로 해석해서"
   ]
  },
  {
   "cell_type": "markdown",
   "id": "9bdc1faa-bb8c-461c-9215-d88fcf5c2471",
   "metadata": {},
   "source": [
    ")🗣️"
   ]
  },
  {
   "cell_type": "code",
   "execution_count": 5,
   "id": "8b7bd4dc-f3a7-4fd0-9e50-a8e9011d5099",
   "metadata": {},
   "outputs": [
    {
     "data": {
      "text/plain": [
       "tensor([5.5723])"
      ]
     },
     "execution_count": 5,
     "metadata": {},
     "output_type": "execute_result"
    }
   ],
   "source": [
    "x = torch.randn(5)\n",
    "W = torch.randn(5,1)\n",
    "x@W "
   ]
  },
  {
   "cell_type": "markdown",
   "id": "478bac37-6256-476e-9f87-70579bd774fe",
   "metadata": {},
   "source": [
    "`-` 이와 유사하게 아래도 엄밀한 의미에서는 계산불가능하지만 파이토치는 그냥 해준다. "
   ]
  },
  {
   "cell_type": "markdown",
   "id": "0ea31cfb-ad0f-4b4f-931d-f02c4863abae",
   "metadata": {},
   "source": [
    "🗣️("
   ]
  },
  {
   "cell_type": "code",
   "execution_count": 6,
   "id": "bcf9fcad-6179-4b43-aff4-c16b4fc93def",
   "metadata": {},
   "outputs": [
    {
     "data": {
      "text/plain": [
       "Parameter containing:\n",
       "tensor([[ 0.3078,  0.1778, -0.0975,  0.2778,  0.4209]], requires_grad=True)"
      ]
     },
     "execution_count": 6,
     "metadata": {},
     "output_type": "execute_result"
    }
   ],
   "source": [
    "linr = torch.nn.Linear(5,1,bias=False)\n",
    "linr.weight"
   ]
  },
  {
   "cell_type": "code",
   "execution_count": 7,
   "id": "ced4fefa-deaa-4d93-a9b1-b9f709789376",
   "metadata": {},
   "outputs": [
    {
     "data": {
      "text/plain": [
       "tensor([0.7001], grad_fn=<SqueezeBackward4>)"
      ]
     },
     "execution_count": 7,
     "metadata": {},
     "output_type": "execute_result"
    }
   ],
   "source": [
    "linr = torch.nn.Linear(5,1,bias=False)\n",
    "linr.weight.data = W.T\n",
    "linr(x)"
   ]
  },
  {
   "cell_type": "code",
   "execution_count": 9,
   "id": "6e7c268d-96b2-4a45-8397-7c8257014ace",
   "metadata": {},
   "outputs": [
    {
     "data": {
      "text/plain": [
       "torch.Size([5])"
      ]
     },
     "execution_count": 9,
     "metadata": {},
     "output_type": "execute_result"
    }
   ],
   "source": [
    "x.shape # (1,5)가 아닌데도 계산 해줌"
   ]
  },
  {
   "cell_type": "markdown",
   "id": "4fdad71a-1365-4716-a6a5-ce5e9bd78d8d",
   "metadata": {},
   "source": [
    ")🗣️"
   ]
  },
  {
   "cell_type": "code",
   "execution_count": 8,
   "id": "e8ae6e57-cae5-47e7-a63d-0bb4408fc1c7",
   "metadata": {},
   "outputs": [
    {
     "data": {
      "text/plain": [
       "tensor([5.5723], grad_fn=<SqueezeBackward4>)"
      ]
     },
     "execution_count": 8,
     "metadata": {},
     "output_type": "execute_result"
    }
   ],
   "source": [
    "linr = torch.nn.Linear(5,1,bias=False)\n",
    "linr.weight.data = W.T \n",
    "linr(x)"
   ]
  },
  {
   "cell_type": "markdown",
   "id": "880ab37e-ce99-402f-8a11-31998f5cf08e",
   "metadata": {},
   "source": [
    "## B. loss를 계산하는 다른방식 "
   ]
  },
  {
   "cell_type": "markdown",
   "id": "8e26cc0b-09bf-481d-9847-22de52c4af9d",
   "metadata": {},
   "source": [
    "`-` 아래를 가정하자. "
   ]
  },
  {
   "cell_type": "code",
   "execution_count": 10,
   "id": "75f3be85-a61b-44d9-9c79-32fd068b6a9a",
   "metadata": {},
   "outputs": [],
   "source": [
    "X = torch.randn(100,5)\n",
    "y = torch.randn(100,1)\n",
    "net = torch.nn.Linear(5,1)\n",
    "loss_fn = torch.nn.MSELoss()"
   ]
  },
  {
   "cell_type": "markdown",
   "id": "aceb16c6-59b3-45e7-889b-2bd6c223a916",
   "metadata": {},
   "source": [
    "🗣️("
   ]
  },
  {
   "cell_type": "code",
   "execution_count": 11,
   "id": "7ca06871-0ed2-438a-af10-681e214c5807",
   "metadata": {},
   "outputs": [
    {
     "data": {
      "text/plain": [
       "torch.Size([100, 5])"
      ]
     },
     "execution_count": 11,
     "metadata": {},
     "output_type": "execute_result"
    }
   ],
   "source": [
    "X.shape"
   ]
  },
  {
   "cell_type": "code",
   "execution_count": 12,
   "id": "11627838-b33e-4ccf-a2b4-a0b368dc8558",
   "metadata": {},
   "outputs": [
    {
     "data": {
      "text/plain": [
       "torch.Size([100, 1])"
      ]
     },
     "execution_count": 12,
     "metadata": {},
     "output_type": "execute_result"
    }
   ],
   "source": [
    "y.shape"
   ]
  },
  {
   "cell_type": "code",
   "execution_count": 13,
   "id": "37790baf-0099-4418-96f1-9e99bc9e4a92",
   "metadata": {},
   "outputs": [
    {
     "data": {
      "text/plain": [
       "torch.Size([100, 1])"
      ]
     },
     "execution_count": 13,
     "metadata": {},
     "output_type": "execute_result"
    }
   ],
   "source": [
    "net(X).shape"
   ]
  },
  {
   "cell_type": "markdown",
   "id": "9e847b3f-d33e-495d-9988-2a0635031368",
   "metadata": {},
   "source": [
    ")🗣️"
   ]
  },
  {
   "cell_type": "markdown",
   "id": "11ea7b12-06d3-4626-b124-86b16760506a",
   "metadata": {},
   "source": [
    "`-` loss를 계산하는 방법1"
   ]
  },
  {
   "cell_type": "code",
   "execution_count": 14,
   "id": "79bdaebb-a2a8-4d90-b13d-b932d9d0c538",
   "metadata": {},
   "outputs": [
    {
     "data": {
      "text/plain": [
       "tensor(1.0997, grad_fn=<MseLossBackward0>)"
      ]
     },
     "execution_count": 14,
     "metadata": {},
     "output_type": "execute_result"
    }
   ],
   "source": [
    "yhat = net(X)\n",
    "loss = loss_fn(yhat,y)\n",
    "loss"
   ]
  },
  {
   "cell_type": "markdown",
   "id": "02348e60-3dbb-4fa6-bfea-0dae0ed593ab",
   "metadata": {},
   "source": [
    "`-` loss를 계산하는 방법2"
   ]
  },
  {
   "cell_type": "markdown",
   "id": "70e60f3f-52a9-4565-93c9-6811dd15a3d8",
   "metadata": {},
   "source": [
    "🗣️("
   ]
  },
  {
   "cell_type": "code",
   "execution_count": 15,
   "id": "8153dbe1-9cff-4aca-896d-a53f75d668ce",
   "metadata": {},
   "outputs": [
    {
     "data": {
      "text/plain": [
       "torch.Size([100, 5])"
      ]
     },
     "execution_count": 15,
     "metadata": {},
     "output_type": "execute_result"
    }
   ],
   "source": [
    "X.shape"
   ]
  },
  {
   "cell_type": "code",
   "execution_count": 17,
   "id": "bca49614-ba85-4596-852d-5e8c296312cd",
   "metadata": {},
   "outputs": [
    {
     "data": {
      "text/plain": [
       "tensor([ 0.0410, -0.7057,  0.3295, -0.2606,  1.2240])"
      ]
     },
     "execution_count": 17,
     "metadata": {},
     "output_type": "execute_result"
    }
   ],
   "source": [
    "X[0] # 첫번째 row (length 5 vector)"
   ]
  },
  {
   "cell_type": "code",
   "execution_count": 19,
   "id": "dc8df665-8084-4d02-a38e-7c41d40e7d36",
   "metadata": {},
   "outputs": [
    {
     "data": {
      "text/plain": [
       "tensor([[ 0.0410, -0.7057,  0.3295, -0.2606,  1.2240]])"
      ]
     },
     "execution_count": 19,
     "metadata": {},
     "output_type": "execute_result"
    }
   ],
   "source": [
    "X[[0]] # (1,5)"
   ]
  },
  {
   "cell_type": "code",
   "execution_count": 20,
   "id": "1ccb1cf5-2cee-4f71-9581-1279cb31ec3a",
   "metadata": {},
   "outputs": [
    {
     "data": {
      "text/plain": [
       "tensor([0.0924], grad_fn=<ViewBackward0>)"
      ]
     },
     "execution_count": 20,
     "metadata": {},
     "output_type": "execute_result"
    }
   ],
   "source": [
    "net(X[0]) # yhat 0 로 볼 수 있음"
   ]
  },
  {
   "cell_type": "code",
   "execution_count": 21,
   "id": "da5258ca-1982-4587-870f-2ef2b7603033",
   "metadata": {},
   "outputs": [
    {
     "data": {
      "text/plain": [
       "tensor([0.0924], grad_fn=<SelectBackward0>)"
      ]
     },
     "execution_count": 21,
     "metadata": {},
     "output_type": "execute_result"
    }
   ],
   "source": [
    "yhat[0]"
   ]
  },
  {
   "cell_type": "code",
   "execution_count": 22,
   "id": "88be9d50-1be1-4db8-b65b-cfb6fece275a",
   "metadata": {},
   "outputs": [
    {
     "data": {
      "text/plain": [
       "tensor(1.0997, grad_fn=<DivBackward0>)"
      ]
     },
     "execution_count": 22,
     "metadata": {},
     "output_type": "execute_result"
    }
   ],
   "source": [
    "loss = 0\n",
    "for i in range(100):\n",
    "    Xi, yi = X[i], y[i]\n",
    "    yi_hat = net(Xi)\n",
    "    loss = loss + loss_fn(yi_hat,yi) # loss 값이 계속 누적됨\n",
    "\n",
    "loss # 100개의 observation에 대한 loss를 더한 값\n",
    "loss/100 # MSE, 위와 동일"
   ]
  },
  {
   "cell_type": "markdown",
   "id": "7a9c5d42-42da-43e6-9da3-c5c6dd47f19d",
   "metadata": {},
   "source": [
    ")🗣️"
   ]
  },
  {
   "cell_type": "code",
   "execution_count": 26,
   "id": "79ff2978-d1fc-4965-b076-df8a39e7704a",
   "metadata": {},
   "outputs": [
    {
     "data": {
      "text/plain": [
       "tensor(1.6908, grad_fn=<DivBackward0>)"
      ]
     },
     "execution_count": 26,
     "metadata": {},
     "output_type": "execute_result"
    }
   ],
   "source": [
    "loss = 0 \n",
    "for i in range(100):\n",
    "    Xi, yi = X[i], y[i]\n",
    "    yi_hat = net(Xi)\n",
    "    loss = loss + loss_fn(yi_hat,yi)\n",
    "loss/100"
   ]
  },
  {
   "cell_type": "markdown",
   "id": "79c55de6-f336-4811-96e3-257ad1b3c056",
   "metadata": {},
   "source": [
    "# 4. 겹장(덧장) 📝"
   ]
  },
  {
   "cell_type": "markdown",
   "id": "bd10d09f-860a-4ca7-b9a3-bf42531ee26f",
   "metadata": {},
   "source": [
    "***(생각1) ${\\boldsymbol h}$에 대한 이해***"
   ]
  },
  {
   "cell_type": "markdown",
   "id": "24702a9e-5ae7-4b02-9450-ce84f0097b2b",
   "metadata": {},
   "source": [
    "`-` ${\\boldsymbol h}$는 사실 문자열 \"abc, abcd\"들을 숫자로 바꾼 표현이라 해석할 수 있음. 즉 원핫인코딩과 다른 또 다른 형태의 숫자표현이라 해석할 수 있다. "
   ]
  },
  {
   "cell_type": "markdown",
   "id": "3505d6bf-0c37-469e-9818-7a5f4bd6828f",
   "metadata": {},
   "source": [
    "`-` 사실 ${\\boldsymbol h}$는 원핫인코딩보다 약간 더 (1) 액기스만 남은 느낌 + (2) 숙성된 느낌을 준다\n",
    "\n",
    "- (why1) ${\\boldsymbol h}$는 ${\\boldsymbol x}$ 보다 ${\\boldsymbol y}$를 예측함에 좀 더 직접적인 역할을 한다. 즉 ${\\boldsymbol x}$ 숫자보다 ${\\boldsymbol h}$ 숫자가 잘 정리되어 있고 (차원이 낮고) 입력의 특징을 잘 정리한 (추천시스템의 MBTI처럼) 의미있는 숫자이다. \n",
    "- (why2) ${\\boldsymbol x}$는 학습없이 그냥 얻어지는 숫자표현이지만, ${\\boldsymbol h}$는 학습을 통하여 고치고 고치고 고친 숫자표현이다. "
   ]
  },
  {
   "cell_type": "markdown",
   "id": "39c2d730-e78d-438a-954d-42d79b15b5a8",
   "metadata": {},
   "source": [
    "결론: 사실 ${\\boldsymbol h}$는 잘 숙성되어있는 입력정보 ${\\boldsymbol x}$ 그 자체로 해석 할 수 있다. "
   ]
  },
  {
   "cell_type": "markdown",
   "id": "fdc05d59-325f-4621-b51f-249c274f48ca",
   "metadata": {},
   "source": [
    "***(생각2) [수백년전통을 이어가는 방법](https://www.joongang.co.kr/article/24087690#home)***"
   ]
  },
  {
   "cell_type": "markdown",
   "id": "4dfb276f-9c29-482d-b608-c3fec8c33ed6",
   "metadata": {},
   "source": [
    "🗣️("
   ]
  },
  {
   "cell_type": "markdown",
   "id": "47822ed5-3263-46e7-aa6f-06a99e45275b",
   "metadata": {},
   "source": [
    "```\n",
    "x ---> h\n",
    "콩물 ---> 간장\n",
    "\n",
    "위처럼 하면 오래된 간장의 맛이 사라짐\n",
    "\n",
    "x1 ---> h1 # 첫번째 observation\n",
    "x2,h1 ---> h2\n",
    "x3,h2 ---> h3 # h2에는 h1도 포함됨\n",
    "...\n",
    "h100\n",
    "\n",
    "숙성: linear transform + tanh\n",
    "\n",
    "숙성 과 조리의 weight를 각각 학습하면 됨\n",
    "```"
   ]
  },
  {
   "cell_type": "markdown",
   "id": "c4e116bb-84dc-4892-a3a2-67725c5d553a",
   "metadata": {},
   "source": [
    ")🗣️"
   ]
  },
  {
   "cell_type": "markdown",
   "id": "63b4d8c1-33f5-4f46-a43d-025f920455fd",
   "metadata": {},
   "source": [
    "```\n",
    "“1리터에 500만원에 낙찰된 적 있습니다.”\n",
    "“2kg에 1억원 정도 추산됩니다.”\n",
    "“20여 종 종자장을 블렌딩해 100ml에 5000만원씩 분양 예정입니다.”\n",
    "\n",
    "모두 씨간장(종자장) 가격에 관한 실제 일화다.\n",
    "\n",
    "(중략...)\n",
    "\n",
    "위스키나 와인처럼 블렌딩을 하기도 한다. \n",
    "새로 담근 간장에 씨간장을 넣거나, 씨간장독에 햇간장을 넣어 맛을 유지하기도 한다. \n",
    "이를 겹장(또는 덧장)이라 한다. \n",
    "몇몇 종갓집에선 씨간장 잇기를 몇백 년째 해오고 있다. \n",
    "매년 새로 간장을 담가야 이어갈 수 있으니 불씨 꺼트리지 않는 것처럼 굉장히 어려운 일이다.\n",
    "이렇게 하는 이유는 집집마다 내려오는 고유 장맛을 잃지 않기 위함이다. \n",
    "씨간장이란 그만큼 소중한 주방의 자산이며 정체성이다.\n",
    "```"
   ]
  },
  {
   "cell_type": "markdown",
   "id": "9845d8ae-f90b-4c6a-99aa-29b5b322c91f",
   "metadata": {},
   "source": [
    "덧장: 새로운간장을 만들때, 옛날간장을 섞어서 만듦"
   ]
  },
  {
   "cell_type": "markdown",
   "id": "c930a40e-e2f4-4882-8405-3e22144f5f88",
   "metadata": {},
   "source": [
    "`*` 기존방식\n",
    "- $\\text{콩물} \\overset{\\text{숙성}}{\\longrightarrow} \\text{간장}$"
   ]
  },
  {
   "cell_type": "markdown",
   "id": "7d4b89f3-874f-4e64-b019-cf4d2539579b",
   "metadata": {},
   "source": [
    "`*` 수백년 전통의 간장맛을 유지하는 방식\n",
    "\n",
    "- $\\text{콩물}_1 \\overset{\\text{숙성}}{\\longrightarrow} \\text{간장}_1$\n",
    "- $\\text{콩물}_2, \\text{간장}_1 \\overset{\\text{숙성}}{\\longrightarrow} \\text{간장}_2$\n",
    "- $\\text{콩물}_3, \\text{간장}_2 \\overset{\\text{숙성}}{\\longrightarrow} \\text{간장}_3$"
   ]
  },
  {
   "cell_type": "markdown",
   "id": "a7b6f728-d55a-49f4-a1f7-10848f687adb",
   "metadata": {},
   "source": [
    "`*` 수백년 전통의 간장맛을 유지하면서 조리를 한다면? \n",
    "\n",
    "- $\\text{콩물}_1 \\overset{\\text{숙성}}{\\longrightarrow} \\text{간장}_1 \\overset{\\text{조리}}{\\longrightarrow} \\text{간장계란밥}_1$\n",
    "- $\\text{콩물}_2, \\text{간장}_1 \\overset{\\text{숙성}}{\\longrightarrow} \\text{간장}_2 \\overset{\\text{조리}}{\\longrightarrow} \\text{간장계란밥}_2$\n",
    "- $\\text{콩물}_3, \\text{간장}_2 \\overset{\\text{숙성}}{\\longrightarrow} \\text{간장}_3 \\overset{\\text{조리}}{\\longrightarrow} \\text{간장계란밥}_3$"
   ]
  },
  {
   "cell_type": "markdown",
   "id": "aaff7860-45aa-4e00-8cd6-1caf82c87fc2",
   "metadata": {},
   "source": [
    "점점 맛있는 간장계란밥이 탄생함 "
   ]
  },
  {
   "cell_type": "markdown",
   "id": "fcb8a1e8-bd00-4769-9b5d-67518d5f4a3f",
   "metadata": {},
   "source": [
    "`*` 알고리즘의 편의상 아래와 같이 생각해도 무방 \n",
    "\n",
    "- $\\text{콩물}_1, \\text{간장}_0 \\overset{\\text{숙성}}{\\longrightarrow} \\text{간장}_1 \\overset{\\text{조리}}{\\longrightarrow} \\text{간장계란밥}_1$, $\\text{간장}_0=\\text{맹물}$\n",
    "- $\\text{콩물}_2, \\text{간장}_1 \\overset{\\text{숙성}}{\\longrightarrow} \\text{간장}_2 \\overset{\\text{조리}}{\\longrightarrow} \\text{간장계란밥}_2$\n",
    "- $\\text{콩물}_3, \\text{간장}_2 \\overset{\\text{숙성}}{\\longrightarrow} \\text{간장}_3 \\overset{\\text{조리}}{\\longrightarrow} \\text{간장계란밥}_3$"
   ]
  },
  {
   "cell_type": "markdown",
   "id": "078a0a67-9055-44a2-81d6-68b20b263836",
   "metadata": {},
   "source": [
    "***아이디어***"
   ]
  },
  {
   "cell_type": "markdown",
   "id": "6650cb86-3311-41f7-abc8-31ce0d597c7a",
   "metadata": {},
   "source": [
    "`*` 수백년 전통의 간장맛을 유지하면서 조리하는 과정을 수식으로? (콩물을 $x$로, 간장을 $h$로!!)\n",
    "\n",
    "- $\\boldsymbol{x}_1, \\boldsymbol{h}_0 \\overset{\\text{숙성}}{\\longrightarrow} \\boldsymbol{h}_1 \\overset{\\text{조리}}{\\longrightarrow} \\hat{\\boldsymbol y}_1$\n",
    "- $\\boldsymbol{x}_2, \\boldsymbol{h}_1 \\overset{\\text{숙성}}{\\longrightarrow} \\boldsymbol{h}_2 \\overset{\\text{조리}}{\\longrightarrow} \\hat{\\boldsymbol y}_2$\n",
    "- $\\boldsymbol{x}_3, \\boldsymbol{h}_2 \\overset{\\text{숙성}}{\\longrightarrow} \\boldsymbol{h}_3 \\overset{\\text{조리}}{\\longrightarrow} \\hat{\\boldsymbol y}_3$"
   ]
  },
  {
   "cell_type": "markdown",
   "id": "abd5eff1-86c3-4d37-a774-5973c3e18c57",
   "metadata": {},
   "source": [
    "이제 우리가 배울것은 (1) \"$\\text{콩물}_{t}$\"와 \"$\\text{간장}_{t-1}$\"로 \"$\\text{간장}_t$\"를 `숙성`하는 방법 (2) \"$\\text{간장}_t$\"로 \"$\\text{간장계란밥}_t$를 `조리`하는 방법이다 \n",
    "\n",
    "즉 `숙성`담당 네트워크와 `조리`담당 네트워크를 각각 만들어 학습하면 된다. "
   ]
  },
  {
   "cell_type": "markdown",
   "id": "8fc14e06-454a-4d02-9fd9-41d94740fef7",
   "metadata": {},
   "source": [
    "# 5. rNNCell 📝"
   ]
  },
  {
   "cell_type": "markdown",
   "id": "cf7997a6-1680-495f-ad60-5f7284d37de1",
   "metadata": {},
   "source": [
    "🗣️("
   ]
  },
  {
   "cell_type": "markdown",
   "id": "cea6a9bf-61c0-46f8-bbba-24b65f23f083",
   "metadata": {},
   "source": [
    "```\n",
    "L: X의 length\n",
    "H_in: input dimension\n",
    "H_out: output dimension\n",
    "Q: 출력 dimension # 강의 예제의 경우 H_in과 동일\n",
    "\n",
    "시점 t 하나로 고정\n",
    "Xt, ht, yt: length가 ??인 vector\n",
    "```"
   ]
  },
  {
   "cell_type": "markdown",
   "id": "b6cc2dbb-15b3-4d79-9ff2-10d788f2d01b",
   "metadata": {},
   "source": [
    ")🗣️"
   ]
  },
  {
   "cell_type": "markdown",
   "id": "4cd8a420-7e63-4d22-a5ad-64c702aa50a5",
   "metadata": {},
   "source": [
    "## A. 차원의 정리 "
   ]
  },
  {
   "cell_type": "markdown",
   "id": "67268a15-ce3d-4594-81e1-ecda68c933e1",
   "metadata": {},
   "source": [
    "`-` 기본버전 "
   ]
  },
  {
   "cell_type": "markdown",
   "id": "204e61da-ebfb-4c43-83d3-1f9e40039309",
   "metadata": {},
   "source": [
    "- X.shape = $(L, H_{in})$ \n",
    "- h.shape = $(L, H_{out})$\n",
    "- y.shape = $(L, Q)$\n",
    "- Xt.shape = $(H_{in}, )$\n",
    "- ht.shape = $(H_{out},)$\n",
    "- yt.shape = $(Q,)$"
   ]
  },
  {
   "cell_type": "markdown",
   "id": "07ab0ff9-324a-46a3-bf66-8d7ee1d89238",
   "metadata": {},
   "source": [
    "`-` `AbAcAd`를 2차원공간에 임베딩하려고 할 경우. "
   ]
  },
  {
   "cell_type": "markdown",
   "id": "7c3241df-f3eb-4f76-98ec-7307bb5f6e90",
   "metadata": {},
   "source": [
    "- X.shape = $(L, H_{in})$ = $(L,4)$ \n",
    "- h.shape = $(L, H_{out})$ = $(L,2)$ \n",
    "- y.shape = $(L, Q)$ = $(L,4)$ \n",
    "- Xt.shape = $(H_{in}, )$ = $(4,)$ \n",
    "- ht.shape = $(H_{out},)$ = $(2,)$ \n",
    "- yt.shape = $(Q,)$ = $(4,)$ "
   ]
  },
  {
   "cell_type": "markdown",
   "id": "b6085aa4-4ed4-4155-9a87-d651938515e3",
   "metadata": {},
   "source": [
    "## B. 순환신경망 알고리즘"
   ]
  },
  {
   "cell_type": "markdown",
   "id": "d067a5e9-7f0e-4bf2-8260-eed03a31e043",
   "metadata": {},
   "source": [
    "🗣️("
   ]
  },
  {
   "cell_type": "markdown",
   "id": "1848f307-7993-457b-b57c-78106c5abf7d",
   "metadata": {},
   "source": [
    "```\n",
    "# step1\n",
    "첫 간장은 없기 때문에 맹물\n",
    "2차원 공간으로 embedding 하기 때문에 [0,0]\n",
    "\n",
    "# step2 숙성\n",
    "linear transform + tanh\n",
    "X_t = [ o o o o ] h_t = [o o]\n",
    "[ o o o o ; o o ] -- linr --> [o o]\n",
    "[ o o o o ; o o ] @ W = [o o]\n",
    "      1x6          6x2   1x2\n",
    "\n",
    "1x6 => 1x4 1x2\n",
    "6x2 => 4x2 2x2 로 쪼갠 후\n",
    "1x4 @ 4x2 + 1x2 @ 2x2 를 하면 위의 결과와 동일\n",
    "\n",
    "# step3 조리\n",
    "h --> yhat\n",
    "(n,2) --> (n,4) 인 linear transform 설계 후 softmax\n",
    "\n",
    "# step4 반복\n",
    "```"
   ]
  },
  {
   "cell_type": "code",
   "execution_count": 23,
   "id": "77aead94-fa9b-4c43-947d-4ba71532ffb3",
   "metadata": {},
   "outputs": [
    {
     "data": {
      "text/plain": [
       "(tensor([-0.4916,  0.7223,  0.6788,  1.4259]), tensor([ 0.9848, -0.8259]))"
      ]
     },
     "execution_count": 23,
     "metadata": {},
     "output_type": "execute_result"
    }
   ],
   "source": [
    "x = torch.randn(4)\n",
    "h = torch.randn(2)\n",
    "x, h"
   ]
  },
  {
   "cell_type": "code",
   "execution_count": 24,
   "id": "da7e2923-4108-46ea-9d1b-51ff5f1ea96c",
   "metadata": {},
   "outputs": [
    {
     "data": {
      "text/plain": [
       "tensor([-0.4916,  0.7223,  0.6788,  1.4259,  0.9848, -0.8259])"
      ]
     },
     "execution_count": 24,
     "metadata": {},
     "output_type": "execute_result"
    }
   ],
   "source": [
    "torch.concat([x,h])"
   ]
  },
  {
   "cell_type": "code",
   "execution_count": 25,
   "id": "fb6b55d7-fb9a-442c-bcbc-bfaab75c8ae5",
   "metadata": {},
   "outputs": [],
   "source": [
    "linr = torch.nn.Linear(6,2,bias=False)"
   ]
  },
  {
   "cell_type": "code",
   "execution_count": 26,
   "id": "4a2f7bb0-7c7e-4a5a-be34-e1ac38ba7946",
   "metadata": {},
   "outputs": [
    {
     "data": {
      "text/plain": [
       "tensor([ 1.4714, -0.6181], grad_fn=<SqueezeBackward4>)"
      ]
     },
     "execution_count": 26,
     "metadata": {},
     "output_type": "execute_result"
    }
   ],
   "source": [
    "linr(torch.concat([x,h]))"
   ]
  },
  {
   "cell_type": "code",
   "execution_count": 27,
   "id": "5ddee687-a1a2-4018-bb93-367ef5991def",
   "metadata": {},
   "outputs": [
    {
     "data": {
      "text/plain": [
       "Parameter containing:\n",
       "tensor([[-0.3810,  0.3707,  0.3601,  0.4080,  0.4068,  0.2549],\n",
       "        [-0.1886, -0.3714, -0.2125, -0.2126, -0.0715, -0.0910]],\n",
       "       requires_grad=True)"
      ]
     },
     "execution_count": 27,
     "metadata": {},
     "output_type": "execute_result"
    }
   ],
   "source": [
    "linr.weight # 곱할 때는 (6,2)로 transpose 되어야 함"
   ]
  },
  {
   "cell_type": "code",
   "execution_count": 28,
   "id": "f364f294-3dc3-4bf2-961d-3e6e8ab30311",
   "metadata": {},
   "outputs": [
    {
     "data": {
      "text/plain": [
       "tensor([ 1.4714, -0.6181], grad_fn=<SqueezeBackward4>)"
      ]
     },
     "execution_count": 28,
     "metadata": {},
     "output_type": "execute_result"
    }
   ],
   "source": [
    "torch.concat([x,h]) @ linr.weight.T"
   ]
  },
  {
   "cell_type": "code",
   "execution_count": 30,
   "id": "ed3ea772-1a5c-4bb0-a0ff-5fbc557057df",
   "metadata": {},
   "outputs": [
    {
     "data": {
      "text/plain": [
       "torch.Size([6, 2])"
      ]
     },
     "execution_count": 30,
     "metadata": {},
     "output_type": "execute_result"
    }
   ],
   "source": [
    "linr.weight.T.shape"
   ]
  },
  {
   "cell_type": "code",
   "execution_count": 31,
   "id": "4b412fb6-6905-44a1-8840-e1885f26b7dd",
   "metadata": {},
   "outputs": [
    {
     "data": {
      "text/plain": [
       "tensor([ 1.4714, -0.6181], grad_fn=<AddBackward0>)"
      ]
     },
     "execution_count": 31,
     "metadata": {},
     "output_type": "execute_result"
    }
   ],
   "source": [
    "x@linr.weight.T[:4] + h@linr.weight.T[4:]"
   ]
  },
  {
   "cell_type": "markdown",
   "id": "bcb16252-9a66-47e2-9785-beb1b8326770",
   "metadata": {},
   "source": [
    ")🗣️"
   ]
  },
  {
   "cell_type": "markdown",
   "id": "dbcc9506-d0bd-453e-a623-ab98805c7051",
   "metadata": {},
   "source": [
    "***`# 버전1`***"
   ]
  },
  {
   "cell_type": "markdown",
   "id": "0ad4f048-a0c0-43da-a602-476cd055e5a9",
   "metadata": {},
   "source": [
    "**step 1**: 일단 $\\text{간장}_0(={\\boldsymbol h}_0)$을 맹물로 초기화 한다. 즉 아래를 수행한다. \n",
    "\n",
    "$${\\boldsymbol h}_0 = [0,0]$$ "
   ]
  },
  {
   "cell_type": "markdown",
   "id": "25632c22-cf00-45a4-9c09-8ce26835cc89",
   "metadata": {},
   "source": [
    "**step 2**: $\\text{콩물}_1(={\\boldsymbol x}_1)$, $\\text{간장}_0(={\\boldsymbol h}_0)$ 을 이용하여 $\\text{간장}_1(={\\boldsymbol h}_1)$을 숙성한다. 즉 아래를 수행한다.  (즉 콩물과 오래된 간장을 합친뒤 숙성) \n",
    "\n",
    "$${\\boldsymbol h}_1= \\tanh({\\boldsymbol x}_1{\\bf W}_{ih}+{\\boldsymbol h}_0{\\bf W}_{hh}+{\\boldsymbol b}_{ih}+{\\boldsymbol b}_{hh})$$"
   ]
  },
  {
   "cell_type": "markdown",
   "id": "6d11e6c8-f2ea-4a03-ba63-1e0aa36225c2",
   "metadata": {},
   "source": [
    ":::{.callout-note}\n",
    "아래의 식이 성립함을 관찰하자. \n",
    "\n",
    "$$\\begin{bmatrix} {\\boldsymbol x}_1 & {\\boldsymbol h}_{0} \\end{bmatrix}\\begin{bmatrix} {\\bf W}_{ih} \\\\ {\\bf W}_{hh}\\end{bmatrix}={\\boldsymbol x}_1{\\bf W}_{ih}+{\\boldsymbol h}_0{\\bf W}_{hh}$$\n",
    "\n",
    ":::"
   ]
  },
  {
   "cell_type": "markdown",
   "id": "62f94011-e6f8-4f29-95cb-a629d7fca0c2",
   "metadata": {},
   "source": [
    "**step 3:** $\\text{간장}_1$을 이용하여 $\\text{간장계란밥}_1$을 만든다. 그리고 $\\hat{\\boldsymbol y}_1$을 만든다. \n",
    "\n",
    "$${\\boldsymbol o}_1= {\\bf W}_{ho}{\\boldsymbol h}_1+{\\boldsymbol b}_{ho}$$\n",
    "\n",
    "$$\\hat{\\boldsymbol y}_1 = \\text{soft}({\\boldsymbol o}_1)$$"
   ]
  },
  {
   "cell_type": "markdown",
   "id": "f2121382-a1fb-4bd2-b449-02b59fdfa2b6",
   "metadata": {},
   "source": [
    "**step 4**: $t=2,3,4,5,\\dots,L$ 에 대하여 step2-3을 반복한다. "
   ]
  },
  {
   "cell_type": "markdown",
   "id": "b6b2ff34-d924-40ed-88d0-52ff9198ffd4",
   "metadata": {},
   "source": [
    "`#`"
   ]
  },
  {
   "cell_type": "markdown",
   "id": "2b0649ac-23bf-4d60-bb40-167a7ccc4744",
   "metadata": {},
   "source": [
    "***`# 버전2`***"
   ]
  },
  {
   "cell_type": "markdown",
   "id": "e91dcc1b-b129-4d9c-807b-9c0bf26f8ac6",
   "metadata": {},
   "source": [
    "init $\\boldsymbol{h}_0$ \n",
    "\n",
    "for $t$ in $1:L$ \n",
    "\n",
    "- ${\\boldsymbol h}_t= \\tanh({\\boldsymbol x}_t{\\bf W}_{ih}+{\\boldsymbol h}_{t-1}{\\bf W}_{hh}+{\\boldsymbol b}_{ih}+{\\boldsymbol b}_{hh})$\n",
    "- ${\\boldsymbol o}_t= {\\bf W}_{ho}{\\boldsymbol h}_t+{\\boldsymbol b}_{ho}$\n",
    "- $\\hat{\\boldsymbol y}_t = \\text{soft}({\\boldsymbol o}_t)$\n",
    "    "
   ]
  },
  {
   "cell_type": "markdown",
   "id": "faef7911-32e2-4eed-87c8-3edc1a311989",
   "metadata": {},
   "source": [
    "`#`"
   ]
  },
  {
   "cell_type": "markdown",
   "id": "12587a51-e566-405f-9ce7-0a14f389b80d",
   "metadata": {},
   "source": [
    "***`# 버전3`***"
   ]
  },
  {
   "cell_type": "markdown",
   "id": "ef3a58c4-e8d8-4563-abc5-7cb6affa5849",
   "metadata": {},
   "source": [
    "```Python \n",
    "ht = [0,0]\n",
    "for t in 1:T \n",
    "    ht = tanh(linr(xt)+linr(ht))\n",
    "    ot = linr(ht)\n",
    "    yt_hat = soft(ot)\n",
    "```    "
   ]
  },
  {
   "cell_type": "markdown",
   "id": "843d8703-203e-4851-a961-4252d5057eba",
   "metadata": {},
   "source": [
    "- 코드상으로는 $h_t$와 $h_{t-1}$의 구분이 교모하게 사라진다. (그래서 오히려 좋아)"
   ]
  },
  {
   "cell_type": "markdown",
   "id": "7f9abdca-c9da-4e01-b9a0-ff2a29660a4d",
   "metadata": {},
   "source": [
    "`#`"
   ]
  },
  {
   "cell_type": "markdown",
   "id": "59cbe530-da43-4d17-bba9-07660c7564f4",
   "metadata": {},
   "source": [
    "`-` 따라서 실질적인 전체코드는 아래와 같은 방식으로 구현할 수 있다. "
   ]
  },
  {
   "cell_type": "markdown",
   "id": "48e8f644-3082-4325-8033-f9ce1f8016b9",
   "metadata": {},
   "source": [
    "```Python\n",
    "class rNNCell(torch.nn.Module):\n",
    "    def __init__(self):\n",
    "        super().__init__()\n",
    "        self.linr1 = torch.nn.Linear(4,2)\n",
    "        self.linr2 = torch.nn.Linear(2,2)\n",
    "        self.tanh = torch.nn.Tanh()\n",
    "    def forward(self,Xt,ht):\n",
    "        ht = self.tanh(self.linr1(Xt)+self.linr2(ht))\n",
    "        return ht\n",
    "        \n",
    "ht = [0,0]        \n",
    "rnncell = rNNCell()\n",
    "\n",
    "for t in 1:L\n",
    "    ht = rnncell(Xt,ht) #tanh(linr(Xt)+linr(ht))\n",
    "    ot = cook(ht)\n",
    "    yt_hat = soft(ot)\n",
    "```"
   ]
  },
  {
   "cell_type": "markdown",
   "id": "7620ec59-2fef-4422-ab03-d9792b4ca1a4",
   "metadata": {},
   "source": [
    "## C. rNNCell"
   ]
  },
  {
   "cell_type": "markdown",
   "id": "aa9aea2e-7222-4090-9fde-de14a161c4a5",
   "metadata": {
    "tags": []
   },
   "source": [
    "`-` 데이터정리 "
   ]
  },
  {
   "cell_type": "code",
   "execution_count": 32,
   "id": "7897ed0e-5b21-4db0-a478-104bf1ae745d",
   "metadata": {
    "tags": []
   },
   "outputs": [
    {
     "data": {
      "text/plain": [
       "['A', 'b', 'A', 'c', 'A', 'd', 'A', 'b', 'A', 'c']"
      ]
     },
     "execution_count": 32,
     "metadata": {},
     "output_type": "execute_result"
    }
   ],
   "source": [
    "txt = list('AbAcAd'*50)\n",
    "txt[:10]"
   ]
  },
  {
   "cell_type": "code",
   "execution_count": 33,
   "id": "f217de7c-3286-4f22-9b5d-43dfcb053d47",
   "metadata": {
    "tags": []
   },
   "outputs": [
    {
     "data": {
      "text/html": [
       "<div>\n",
       "<style scoped>\n",
       "    .dataframe tbody tr th:only-of-type {\n",
       "        vertical-align: middle;\n",
       "    }\n",
       "\n",
       "    .dataframe tbody tr th {\n",
       "        vertical-align: top;\n",
       "    }\n",
       "\n",
       "    .dataframe thead th {\n",
       "        text-align: right;\n",
       "    }\n",
       "</style>\n",
       "<table border=\"1\" class=\"dataframe\">\n",
       "  <thead>\n",
       "    <tr style=\"text-align: right;\">\n",
       "      <th></th>\n",
       "      <th>x</th>\n",
       "      <th>y</th>\n",
       "    </tr>\n",
       "  </thead>\n",
       "  <tbody>\n",
       "    <tr>\n",
       "      <th>0</th>\n",
       "      <td>A</td>\n",
       "      <td>b</td>\n",
       "    </tr>\n",
       "    <tr>\n",
       "      <th>1</th>\n",
       "      <td>b</td>\n",
       "      <td>A</td>\n",
       "    </tr>\n",
       "    <tr>\n",
       "      <th>2</th>\n",
       "      <td>A</td>\n",
       "      <td>c</td>\n",
       "    </tr>\n",
       "    <tr>\n",
       "      <th>3</th>\n",
       "      <td>c</td>\n",
       "      <td>A</td>\n",
       "    </tr>\n",
       "    <tr>\n",
       "      <th>4</th>\n",
       "      <td>A</td>\n",
       "      <td>d</td>\n",
       "    </tr>\n",
       "  </tbody>\n",
       "</table>\n",
       "</div>"
      ],
      "text/plain": [
       "   x  y\n",
       "0  A  b\n",
       "1  b  A\n",
       "2  A  c\n",
       "3  c  A\n",
       "4  A  d"
      ]
     },
     "execution_count": 33,
     "metadata": {},
     "output_type": "execute_result"
    }
   ],
   "source": [
    "df_train = pd.DataFrame({'x':txt[:-1], 'y':txt[1:]})\n",
    "df_train[:5]"
   ]
  },
  {
   "cell_type": "code",
   "execution_count": 34,
   "id": "f3ee5eeb-6d7b-4bf0-bebc-b7f1b1a056f4",
   "metadata": {
    "tags": []
   },
   "outputs": [],
   "source": [
    "x = torch.tensor(df_train.x.map({'A':0,'b':1,'c':2,'d':3}))\n",
    "y = torch.tensor(df_train.y.map({'A':0,'b':1,'c':2,'d':3}))\n",
    "X = torch.nn.functional.one_hot(x).float()\n",
    "y = torch.nn.functional.one_hot(y).float()"
   ]
  },
  {
   "cell_type": "code",
   "execution_count": 35,
   "id": "98b5cc98-f0fd-4283-9457-e499fad50741",
   "metadata": {},
   "outputs": [
    {
     "data": {
      "text/plain": [
       "(torch.Size([299, 4]), torch.Size([299, 4]))"
      ]
     },
     "execution_count": 35,
     "metadata": {},
     "output_type": "execute_result"
    }
   ],
   "source": [
    "X.shape, y.shape"
   ]
  },
  {
   "cell_type": "markdown",
   "id": "deb959f7-ffff-4586-aca5-5f01837f3123",
   "metadata": {},
   "source": [
    "🗣️("
   ]
  },
  {
   "cell_type": "markdown",
   "id": "308af8fb-e684-41cc-8a31-fd4ee3e5106b",
   "metadata": {},
   "source": [
    "- 저번과 다르게 one hot encoding을 시켜 놓음"
   ]
  },
  {
   "cell_type": "code",
   "execution_count": 36,
   "id": "87f3f321-5131-481d-8f11-2b74fde19007",
   "metadata": {},
   "outputs": [],
   "source": [
    "ht = torch.zeros(2)"
   ]
  },
  {
   "cell_type": "code",
   "execution_count": 37,
   "id": "a953362d-b760-4bb6-be06-108035afd5d6",
   "metadata": {},
   "outputs": [
    {
     "data": {
      "text/plain": [
       "tensor([0., 0.])"
      ]
     },
     "execution_count": 37,
     "metadata": {},
     "output_type": "execute_result"
    }
   ],
   "source": [
    "ht"
   ]
  },
  {
   "cell_type": "code",
   "execution_count": 44,
   "id": "08411907-f90f-4f02-abe8-7193de154b69",
   "metadata": {},
   "outputs": [],
   "source": [
    "class rNNCell(torch.nn.Module):\n",
    "    def __init__(self):\n",
    "        super().__init__()\n",
    "        self.i2h = torch.nn.Linear(4,2) # x의 input을 i로 하면 i -> h\n",
    "        self.h2h = torch.nn.Linear(2,2) # 이전 간장 -> 다음 간장 (h -> h)\n",
    "        self.tanh = torch.nn.Tanh()\n",
    "    def forward(self,Xt,ht):\n",
    "        ht = self.tanh(self.i2h(Xt)+self.h2h(ht))\n",
    "        return ht\n",
    "        \n",
    "torch.manual_seed(43052) # 초기값을 random으로 하면 학습이 잘 안됨        \n",
    "rnncell = rNNCell()\n",
    "cook = torch.nn.Linear(2,4)\n",
    "loss_fn = torch.nn.CrossEntropyLoss()\n",
    "optimizr = torch.optim.Adam(list(rnncell.parameters())+list(cook.parameters()), lr=0.1)\n",
    "\n",
    "#---#\n",
    "L = len(X)\n",
    "for epoc in range(200):\n",
    "    #1~2\n",
    "    loss = 0\n",
    "    ht = torch.zeros(2) # 맹물\n",
    "    for t in range(L):\n",
    "        Xt, yt = X[t], y[t]\n",
    "        ht = rnncell(Xt,ht) #tanh(linr(Xt)+linr(ht))\n",
    "        ot = cook(ht)\n",
    "        # yt_hat = soft(ot) # CrossEntropyLoss이므로 생략\n",
    "        loss = loss + loss_fn(ot,yt)\n",
    "    loss = loss/L\n",
    "    #3\n",
    "    loss.backward()\n",
    "    #4\n",
    "    optimizr.step()\n",
    "    optimizr.zero_grad()"
   ]
  },
  {
   "cell_type": "markdown",
   "id": "6eeec467-c9e1-4daa-af26-39395fb4da29",
   "metadata": {},
   "source": [
    "```\n",
    "yhat을 구하고 싶음\n",
    "yhat를 구하기 위해 cook(h)를 해야하는데 h가 저장되어 있지 않음\n",
    "h의 dimension은 (L,2)가 되어야 함\n",
    "```"
   ]
  },
  {
   "cell_type": "markdown",
   "id": "37b013af-8968-45b6-8475-b0b43bd8c3a5",
   "metadata": {},
   "source": [
    "- h 복원"
   ]
  },
  {
   "cell_type": "code",
   "execution_count": 45,
   "id": "323c6da1-60f0-4fbd-a1b6-5a7874f4724f",
   "metadata": {},
   "outputs": [
    {
     "data": {
      "text/plain": [
       "torch.Size([299, 2])"
      ]
     },
     "execution_count": 45,
     "metadata": {},
     "output_type": "execute_result"
    }
   ],
   "source": [
    "h = torch.zeros(L,2) # randn도 가능 (아무거나)\n",
    "water = torch.zeros(2) # 맹물\n",
    "h[0] = rnncell(X[0],water) # 첫간장\n",
    "for t in range(1,L): # 첫 간장은 만들었으므로 L-1까지\n",
    "    h[t] = rnncell(X[t],h[t-1])\n",
    "h.shape"
   ]
  },
  {
   "cell_type": "code",
   "execution_count": 46,
   "id": "6fd3cc61-deee-42fd-83e6-5d3b416a22a3",
   "metadata": {},
   "outputs": [],
   "source": [
    "yhat = torch.nn.functional.softmax(cook(h), dim=1)"
   ]
  },
  {
   "cell_type": "code",
   "execution_count": 47,
   "id": "a4e76970-2f6b-48cb-afb9-1f8c9151b3fc",
   "metadata": {},
   "outputs": [
    {
     "data": {
      "text/plain": [
       "tensor([[4.1978e-03, 9.4555e-01, 1.9557e-06, 5.0253e-02],\n",
       "        [9.9994e-01, 5.5569e-05, 8.4751e-10, 1.3143e-06],\n",
       "        [2.1349e-07, 1.1345e-06, 9.7019e-01, 2.9806e-02],\n",
       "        ...,\n",
       "        [2.1339e-07, 1.1339e-06, 9.7020e-01, 2.9798e-02],\n",
       "        [9.9901e-01, 9.6573e-04, 6.9303e-09, 2.1945e-05],\n",
       "        [7.2919e-04, 2.5484e-02, 3.3011e-02, 9.4078e-01]],\n",
       "       grad_fn=<SoftmaxBackward0>)"
      ]
     },
     "execution_count": 47,
     "metadata": {},
     "output_type": "execute_result"
    }
   ],
   "source": [
    "yhat"
   ]
  },
  {
   "cell_type": "code",
   "execution_count": 49,
   "id": "9e7aa8aa-29fb-4994-9124-52b5e1755cda",
   "metadata": {},
   "outputs": [
    {
     "data": {
      "text/plain": [
       "<matplotlib.lines.Line2D at 0x7f7a5df3bfa0>"
      ]
     },
     "execution_count": 49,
     "metadata": {},
     "output_type": "execute_result"
    },
    {
     "data": {
      "image/png": "[encoded data removed]",
      "text/plain": [
       "<Figure size 400x480 with 2 Axes>"
      ]
     },
     "metadata": {},
     "output_type": "display_data"
    }
   ],
   "source": [
    "mat = torch.concat([X,h,yhat],axis=1).data\n",
    "plt.matshow(mat[:12],cmap=\"bwr\",vmin=-1, vmax=1)\n",
    "plt.colorbar()\n",
    "plt.xticks(\n",
    "    range(10),\n",
    "    [r\"$X_A$\", r\"$X_b$\",r\"$X_c$\",r\"$X_d$\", \n",
    "     r'$h_1$',r'$h_2$',\n",
    "     r'$\\hat{y}_A$',r'$\\hat{y}_b$',r'$\\hat{y}_c$',r'$\\hat{y}_d$']\n",
    ");\n",
    "plt.axvline(x=3.5,color='lime')\n",
    "plt.axvline(x=5.5,color='lime')"
   ]
  },
  {
   "cell_type": "markdown",
   "id": "b04d9360-62c1-4137-87bf-bcaa89badaca",
   "metadata": {},
   "source": [
    "- 학습이 잘 되었음\n",
    "- yhat 값 분석"
   ]
  },
  {
   "cell_type": "code",
   "execution_count": 53,
   "id": "dff87cc7-8a5a-46f1-8339-234ec0018567",
   "metadata": {},
   "outputs": [
    {
     "data": {
      "text/plain": [
       "tensor([[4.1978e-03, 9.4555e-01, 1.9557e-06, 5.0253e-02],\n",
       "        [9.9994e-01, 5.5569e-05, 8.4751e-10, 1.3143e-06],\n",
       "        [2.1349e-07, 1.1345e-06, 9.7019e-01, 2.9806e-02],\n",
       "        [9.9901e-01, 9.6565e-04, 6.9299e-09, 2.1943e-05],\n",
       "        [7.2900e-04, 2.5475e-02, 3.3024e-02, 9.4077e-01],\n",
       "        [9.8337e-01, 1.6274e-02, 5.4970e-08, 3.5466e-04],\n",
       "        [3.7563e-03, 9.6547e-01, 7.0608e-07, 3.0775e-02],\n",
       "        [9.9994e-01, 5.5540e-05, 8.4706e-10, 1.3136e-06],\n",
       "        [2.1339e-07, 1.1339e-06, 9.7020e-01, 2.9798e-02],\n",
       "        [9.9901e-01, 9.6573e-04, 6.9303e-09, 2.1945e-05],\n",
       "        [7.2919e-04, 2.5484e-02, 3.3011e-02, 9.4078e-01],\n",
       "        [9.8337e-01, 1.6271e-02, 5.4963e-08, 3.5459e-04]])"
      ]
     },
     "execution_count": 53,
     "metadata": {},
     "output_type": "execute_result"
    }
   ],
   "source": [
    "yhat[:12].data"
   ]
  },
  {
   "cell_type": "code",
   "execution_count": 52,
   "id": "6f503dd2-db9c-406a-9840-575b5b789133",
   "metadata": {},
   "outputs": [
    {
     "data": {
      "text/plain": [
       "array([[4.1977889e-03, 9.4554716e-01, 1.9556610e-06, 5.0253034e-02],\n",
       "       [9.9994314e-01, 5.5569450e-05, 8.4751423e-10, 1.3143476e-06],\n",
       "       [2.1348868e-07, 1.1345173e-06, 9.7019231e-01, 2.9806266e-02],\n",
       "       [9.9901247e-01, 9.6564920e-04, 6.9298882e-09, 2.1942731e-05],\n",
       "       [7.2899810e-04, 2.5475012e-02, 3.3023510e-02, 9.4077253e-01],\n",
       "       [9.8337126e-01, 1.6274208e-02, 5.4970148e-08, 3.5465817e-04],\n",
       "       [3.7563448e-03, 9.6546805e-01, 7.0607661e-07, 3.0774901e-02],\n",
       "       [9.9994314e-01, 5.5540364e-05, 8.4706009e-10, 1.3135694e-06],\n",
       "       [2.1339210e-07, 1.1339207e-06, 9.7020018e-01, 2.9798379e-02],\n",
       "       [9.9901235e-01, 9.6573064e-04, 6.9303234e-09, 2.1944570e-05],\n",
       "       [7.2918943e-04, 2.5484391e-02, 3.3011049e-02, 9.4077539e-01],\n",
       "       [9.8337412e-01, 1.6271213e-02, 5.4962758e-08, 3.5459397e-04]],\n",
       "      dtype=float32)"
      ]
     },
     "execution_count": 52,
     "metadata": {},
     "output_type": "execute_result"
    }
   ],
   "source": [
    "yhat[:12].data.numpy()"
   ]
  },
  {
   "cell_type": "code",
   "execution_count": 54,
   "id": "5da35f30-8fb8-424c-9cb0-b76784ea7d90",
   "metadata": {},
   "outputs": [
    {
     "data": {
      "text/plain": [
       "array([[0.004, 0.946, 0.   , 0.05 ],\n",
       "       [1.   , 0.   , 0.   , 0.   ],\n",
       "       [0.   , 0.   , 0.97 , 0.03 ],\n",
       "       [0.999, 0.001, 0.   , 0.   ],\n",
       "       [0.001, 0.025, 0.033, 0.941],\n",
       "       [0.983, 0.016, 0.   , 0.   ],\n",
       "       [0.004, 0.965, 0.   , 0.031],\n",
       "       [1.   , 0.   , 0.   , 0.   ],\n",
       "       [0.   , 0.   , 0.97 , 0.03 ],\n",
       "       [0.999, 0.001, 0.   , 0.   ],\n",
       "       [0.001, 0.025, 0.033, 0.941],\n",
       "       [0.983, 0.016, 0.   , 0.   ]], dtype=float32)"
      ]
     },
     "execution_count": 54,
     "metadata": {},
     "output_type": "execute_result"
    }
   ],
   "source": [
    "yhat[:12].data.numpy().round(3)"
   ]
  },
  {
   "cell_type": "markdown",
   "id": "6adb7d3d-9176-4d2f-9f0d-ffe7ab30844d",
   "metadata": {},
   "source": [
    "0.946 => 0.965 조금이지만 뒤로 갈수록 성능이 좋음"
   ]
  },
  {
   "cell_type": "markdown",
   "id": "9e88ea44-b36c-40c7-9db1-e1d9d7d90722",
   "metadata": {},
   "source": [
    "- h 분석"
   ]
  },
  {
   "cell_type": "code",
   "execution_count": 55,
   "id": "5010c360-7256-43fb-87a8-74fd60e6a4f2",
   "metadata": {},
   "outputs": [
    {
     "data": {
      "text/plain": [
       "torch.Size([299, 2])"
      ]
     },
     "execution_count": 55,
     "metadata": {},
     "output_type": "execute_result"
    }
   ],
   "source": [
    "h.shape"
   ]
  },
  {
   "cell_type": "code",
   "execution_count": 56,
   "id": "0f945793-1683-4d17-8405-d40666b73233",
   "metadata": {},
   "outputs": [
    {
     "data": {
      "text/plain": [
       "torch.Size([2, 299])"
      ]
     },
     "execution_count": 56,
     "metadata": {},
     "output_type": "execute_result"
    }
   ],
   "source": [
    "h.T.shape"
   ]
  },
  {
   "cell_type": "markdown",
   "id": "0981c8db-e547-4155-9225-b7698f696a0d",
   "metadata": {},
   "source": [
    "- 위의 시각화 분석\n",
    "    - row0에서는 A를 빨강,빨강으로\n",
    "    - row2에서는 A를 파랑,빨강으로 매핑하고 있음\n",
    "    - 즉, 컴퓨터가 문자는 같지만 다른 문맥으로 파악하고 있음\n",
    "    - b,c,d는 비슷하긴하나(색깔 차이) 약간의 문맥 차이가 있다고 파악하고 있음"
   ]
  },
  {
   "cell_type": "code",
   "execution_count": 57,
   "id": "c3d2c200-f830-4abe-a7f1-0f6cd1f97e7a",
   "metadata": {},
   "outputs": [],
   "source": [
    "h1, h2 = h.T.data"
   ]
  },
  {
   "cell_type": "code",
   "execution_count": 59,
   "id": "3e2d1635-4566-41eb-953e-8617f134586f",
   "metadata": {},
   "outputs": [
    {
     "data": {
      "text/plain": [
       "tensor(0.8585)"
      ]
     },
     "execution_count": 59,
     "metadata": {},
     "output_type": "execute_result"
    }
   ],
   "source": [
    "h1[0] # 첫번째 A"
   ]
  },
  {
   "cell_type": "code",
   "execution_count": 61,
   "id": "3f5837be-7fe0-4d20-b300-21e65540016d",
   "metadata": {},
   "outputs": [
    {
     "data": {
      "text/plain": [
       "tensor([0.8585, 0.9286, 0.9286, 0.9286, 0.9286, 0.9286, 0.9286, 0.9286, 0.9286,\n",
       "        0.9286, 0.9286, 0.9286, 0.9286, 0.9286, 0.9286, 0.9286, 0.9286, 0.9286,\n",
       "        0.9286, 0.9286, 0.9286, 0.9286, 0.9286, 0.9286, 0.9286, 0.9286, 0.9286,\n",
       "        0.9286, 0.9286, 0.9286, 0.9286, 0.9286, 0.9286, 0.9286, 0.9286, 0.9286,\n",
       "        0.9286, 0.9286, 0.9286, 0.9286, 0.9286, 0.9286, 0.9286, 0.9286, 0.9286,\n",
       "        0.9286, 0.9286, 0.9286, 0.9286, 0.9286])"
      ]
     },
     "execution_count": 61,
     "metadata": {},
     "output_type": "execute_result"
    }
   ],
   "source": [
    "h1[::6] # A에 대한 첫번째 설정값"
   ]
  },
  {
   "cell_type": "code",
   "execution_count": 62,
   "id": "00e6de60-e491-4fd8-904e-4284fb86c79d",
   "metadata": {},
   "outputs": [
    {
     "data": {
      "text/plain": [
       "tensor([0.9931, 0.9911, 0.9911, 0.9911, 0.9911, 0.9911, 0.9911, 0.9911, 0.9911,\n",
       "        0.9911, 0.9911, 0.9911, 0.9911, 0.9911, 0.9911, 0.9911, 0.9911, 0.9911,\n",
       "        0.9911, 0.9911, 0.9911, 0.9911, 0.9911, 0.9911, 0.9911, 0.9911, 0.9911,\n",
       "        0.9911, 0.9911, 0.9911, 0.9911, 0.9911, 0.9911, 0.9911, 0.9911, 0.9911,\n",
       "        0.9911, 0.9911, 0.9911, 0.9911, 0.9911, 0.9911, 0.9911, 0.9911, 0.9911,\n",
       "        0.9911, 0.9911, 0.9911, 0.9911, 0.9911])"
      ]
     },
     "execution_count": 62,
     "metadata": {},
     "output_type": "execute_result"
    }
   ],
   "source": [
    "h2[::6] # A에 대한 두번째 설정값"
   ]
  },
  {
   "cell_type": "code",
   "execution_count": 63,
   "id": "0221c8d3-16f0-416e-bc02-e48227fd8936",
   "metadata": {},
   "outputs": [
    {
     "data": {
      "text/plain": [
       "[<matplotlib.lines.Line2D at 0x7f7a5daa83a0>]"
      ]
     },
     "execution_count": 63,
     "metadata": {},
     "output_type": "execute_result"
    },
    {
     "data": {
      "image/png": "[encoded data removed]",
      "text/plain": [
       "<Figure size 640x480 with 1 Axes>"
      ]
     },
     "metadata": {},
     "output_type": "display_data"
    }
   ],
   "source": [
    "plt.plot(h1[::6], h2[::6], 'o') # A"
   ]
  },
  {
   "cell_type": "code",
   "execution_count": 65,
   "id": "dff1073a-aef0-4929-bb91-0837c8bf0a8c",
   "metadata": {},
   "outputs": [
    {
     "data": {
      "text/plain": [
       "<matplotlib.legend.Legend at 0x7f7a5d83d0a0>"
      ]
     },
     "execution_count": 65,
     "metadata": {},
     "output_type": "execute_result"
    },
    {
     "data": {
      "image/png": "[encoded data removed]",
      "text/plain": [
       "<Figure size 640x480 with 1 Axes>"
      ]
     },
     "metadata": {},
     "output_type": "display_data"
    }
   ],
   "source": [
    "plt.plot(h1[::6], h2[::6],'o', label=\"first A\")\n",
    "plt.plot(h1[1::6], h2[1::6],'x', label=\"b\")\n",
    "plt.plot(h1[2::6], h2[2::6],'o', label=\"second A\")\n",
    "plt.plot(h1[3::6], h2[3::6],'x', label=\"c\")\n",
    "plt.plot(h1[4::6], h2[4::6],'o', label=\"third A\")\n",
    "plt.plot(h1[5::6], h2[5::6],'x', label=\"d\")\n",
    "plt.legend()"
   ]
  },
  {
   "cell_type": "code",
   "execution_count": 64,
   "id": "5f464be8-0f28-40dd-b48d-9e2fb31c84c1",
   "metadata": {},
   "outputs": [
    {
     "data": {
      "text/plain": [
       "<matplotlib.legend.Legend at 0x7f7a5da21400>"
      ]
     },
     "execution_count": 64,
     "metadata": {},
     "output_type": "execute_result"
    },
    {
     "data": {
      "image/png": "[encoded data removed]",
      "text/plain": [
       "<Figure size 640x480 with 1 Axes>"
      ]
     },
     "metadata": {},
     "output_type": "display_data"
    }
   ],
   "source": [
    "plt.plot(h1[::6], h2[::6],'o', label=\"first A\",alpha=0.1)\n",
    "plt.plot(h1[1::6], h2[1::6],'x', label=\"b\")\n",
    "plt.plot(h1[2::6], h2[2::6],'o', label=\"second A\")\n",
    "plt.plot(h1[3::6], h2[3::6],'x', label=\"c\")\n",
    "plt.plot(h1[4::6], h2[4::6],'o', label=\"third A\")\n",
    "plt.plot(h1[5::6], h2[5::6],'x', label=\"d\")\n",
    "plt.legend()"
   ]
  },
  {
   "cell_type": "markdown",
   "id": "2059a276-69eb-4955-95b5-b924f7ca6197",
   "metadata": {},
   "source": [
    "- first A의 희미한 부분은 처음에 학습이 잘 안된 부분\n",
    "- 문맥에 따라 A가 3개로 해석되므로 실질적으로는 6개의 문자\n",
    "    - 6개의 문자를 2차원으로 embedding했을 때는 잘 안됨 (잘 되는 경우로 seed 고정)\n",
    "- first A, second A, third A는 서로 멀리 떨어져 있음 (컴퓨터가 서로 다르다고 해석)\n",
    "- b, c, d는 붙어 있음 (컴퓨터가 해석할 때는 비슷하게 보임)\n",
    "- 물론 A / bcd 크게 두 개의 그룹으로 볼 수도 있음"
   ]
  },
  {
   "cell_type": "markdown",
   "id": "eb458026-5d0f-499e-a8c1-e3d616a823b6",
   "metadata": {},
   "source": [
    ")🗣️"
   ]
  },
  {
   "cell_type": "markdown",
   "id": "ec42d9e9-982f-489d-ab2b-6e00cfe75768",
   "metadata": {},
   "source": [
    "`-` 순환신경망으로 적합  "
   ]
  },
  {
   "cell_type": "code",
   "execution_count": 78,
   "id": "70866010-485a-46a7-a53a-b349e37dea24",
   "metadata": {},
   "outputs": [],
   "source": [
    "class rNNCell(torch.nn.Module):\n",
    "    def __init__(self):\n",
    "        super().__init__()\n",
    "        self.i2h = torch.nn.Linear(4,2)\n",
    "        self.h2h = torch.nn.Linear(2,2)\n",
    "        self.tanh = torch.nn.Tanh()\n",
    "    def forward(self,Xt,ht):\n",
    "        return self.tanh(self.i2h(Xt)+self.h2h(ht))\n",
    "torch.manual_seed(43052)\n",
    "rnncell = rNNCell()\n",
    "cook = torch.nn.Linear(2,4)\n",
    "loss_fn = torch.nn.CrossEntropyLoss()\n",
    "optimizr = torch.optim.Adam(list(rnncell.parameters())+list(cook.parameters()),lr=0.1)\n",
    "#---#\n",
    "L = len(X)\n",
    "for epoc in range(200):\n",
    "    #1~2 \n",
    "    loss = 0 \n",
    "    ht = torch.zeros(2) # 맹물\n",
    "    for t in range(L):\n",
    "        Xt, yt = X[t],y[t]\n",
    "        ht = rnncell(Xt,ht) #tanh(linr(xt)+linr(ht))\n",
    "        ot = cook(ht)\n",
    "        #yt_hat = soft(ot)\n",
    "        loss = loss + loss_fn(ot, yt) \n",
    "    loss = loss/L \n",
    "    #3\n",
    "    loss.backward()\n",
    "    #4\n",
    "    optimizr.step()\n",
    "    optimizr.zero_grad()"
   ]
  },
  {
   "cell_type": "markdown",
   "id": "8b32a608-a705-490a-8847-c9fcca4f8c1f",
   "metadata": {},
   "source": [
    "`-` 결과 확인 및 시각화 "
   ]
  },
  {
   "cell_type": "code",
   "execution_count": 79,
   "id": "61ae1749-4aa2-4557-b0e1-3a565defedb9",
   "metadata": {},
   "outputs": [
    {
     "data": {
      "text/plain": [
       "torch.Size([299, 2])"
      ]
     },
     "execution_count": 79,
     "metadata": {},
     "output_type": "execute_result"
    }
   ],
   "source": [
    "h = torch.zeros(L,2)\n",
    "water = torch.zeros(2)\n",
    "h[0] = rnncell(X[0],water)\n",
    "for t in range(1,L):\n",
    "    h[t] = rnncell(X[t],h[t-1])\n",
    "h.shape"
   ]
  },
  {
   "cell_type": "code",
   "execution_count": 80,
   "id": "b7092fa0-b2e8-4636-96fa-a92cfdf31506",
   "metadata": {},
   "outputs": [
    {
     "data": {
      "text/plain": [
       "tensor([[4.1978e-03, 9.4555e-01, 1.9557e-06, 5.0253e-02],\n",
       "        [9.9994e-01, 5.5569e-05, 8.4751e-10, 1.3143e-06],\n",
       "        [2.1349e-07, 1.1345e-06, 9.7019e-01, 2.9806e-02],\n",
       "        ...,\n",
       "        [2.1339e-07, 1.1339e-06, 9.7020e-01, 2.9798e-02],\n",
       "        [9.9901e-01, 9.6573e-04, 6.9303e-09, 2.1945e-05],\n",
       "        [7.2919e-04, 2.5484e-02, 3.3011e-02, 9.4078e-01]],\n",
       "       grad_fn=<SoftmaxBackward0>)"
      ]
     },
     "execution_count": 80,
     "metadata": {},
     "output_type": "execute_result"
    }
   ],
   "source": [
    "yhat = torch.nn.functional.softmax(cook(h),dim=1)\n",
    "yhat"
   ]
  },
  {
   "cell_type": "code",
   "execution_count": 85,
   "id": "260e951a-479a-4f7e-b2ef-dac5dd074ee3",
   "metadata": {},
   "outputs": [
    {
     "data": {
      "text/plain": [
       "<matplotlib.lines.Line2D at 0x7fc03aec7fd0>"
      ]
     },
     "execution_count": 85,
     "metadata": {},
     "output_type": "execute_result"
    },
    {
     "data": {
      "image/png": "[encoded data removed]",
      "text/plain": [
       "<Figure size 400x480 with 2 Axes>"
      ]
     },
     "metadata": {},
     "output_type": "display_data"
    }
   ],
   "source": [
    "mat = torch.concat([X,h,yhat],axis=1).data\n",
    "plt.matshow(mat[:12],cmap=\"bwr\",vmin=-1, vmax=1)\n",
    "plt.colorbar()\n",
    "plt.xticks(\n",
    "    range(10),\n",
    "    [r\"$X_A$\", r\"$X_b$\",r\"$X_c$\",r\"$X_d$\", \n",
    "     r'$h_1$',r'$h_2$',\n",
    "     r'$\\hat{y}_A$',r'$\\hat{y}_b$',r'$\\hat{y}_c$',r'$\\hat{y}_d$']\n",
    ");\n",
    "plt.axvline(x=3.5,color='lime')\n",
    "plt.axvline(x=5.5,color='lime')"
   ]
  },
  {
   "cell_type": "markdown",
   "id": "dad77a52-3756-4ddc-b612-809a7f5ada02",
   "metadata": {},
   "source": [
    "`-` yhat 값 분석"
   ]
  },
  {
   "cell_type": "code",
   "execution_count": 89,
   "id": "8942ff83-2e76-47ad-ac8f-d64cb900d5f5",
   "metadata": {},
   "outputs": [
    {
     "data": {
      "text/plain": [
       "array([[0.004, 0.946, 0.   , 0.05 ],\n",
       "       [1.   , 0.   , 0.   , 0.   ],\n",
       "       [0.   , 0.   , 0.97 , 0.03 ],\n",
       "       [0.999, 0.001, 0.   , 0.   ],\n",
       "       [0.001, 0.025, 0.033, 0.941],\n",
       "       [0.983, 0.016, 0.   , 0.   ],\n",
       "       [0.004, 0.965, 0.   , 0.031],\n",
       "       [1.   , 0.   , 0.   , 0.   ],\n",
       "       [0.   , 0.   , 0.97 , 0.03 ],\n",
       "       [0.999, 0.001, 0.   , 0.   ],\n",
       "       [0.001, 0.025, 0.033, 0.941],\n",
       "       [0.983, 0.016, 0.   , 0.   ]], dtype=float32)"
      ]
     },
     "execution_count": 89,
     "metadata": {},
     "output_type": "execute_result"
    }
   ],
   "source": [
    "yhat[:12].data.numpy().round(3)"
   ]
  },
  {
   "cell_type": "markdown",
   "id": "d160d1bd-1b7e-45b8-99f7-562c526be60b",
   "metadata": {},
   "source": [
    "- 미세하지만 뒤로갈수록 좀 더 성능이 좋다. "
   ]
  },
  {
   "cell_type": "markdown",
   "id": "d836097d-71c4-4ec0-bd37-d4719bc7db02",
   "metadata": {},
   "source": [
    "`-` h1,h2 분석 (= 임베딩스페이스 분석)"
   ]
  },
  {
   "cell_type": "code",
   "execution_count": 98,
   "id": "98d6516e-d6dc-4bd2-a797-cfac0086a643",
   "metadata": {},
   "outputs": [],
   "source": [
    "h1,h2 = h.T.data"
   ]
  },
  {
   "cell_type": "code",
   "execution_count": 103,
   "id": "edd07962-81cb-49da-8f0d-6fc92ed772f7",
   "metadata": {},
   "outputs": [
    {
     "data": {
      "text/plain": [
       "<matplotlib.legend.Legend at 0x7fc038936220>"
      ]
     },
     "execution_count": 103,
     "metadata": {},
     "output_type": "execute_result"
    },
    {
     "data": {
      "image/png": "[encoded data removed]",
      "text/plain": [
       "<Figure size 640x480 with 1 Axes>"
      ]
     },
     "metadata": {},
     "output_type": "display_data"
    }
   ],
   "source": [
    "plt.plot(h1[::6], h2[::6],'o', label=\"first A\",alpha=0.1)\n",
    "plt.plot(h1[1::6], h2[1::6],'x', label=\"b\")\n",
    "plt.plot(h1[2::6], h2[2::6],'o', label=\"second A\")\n",
    "plt.plot(h1[3::6], h2[3::6],'x', label=\"c\")\n",
    "plt.plot(h1[4::6], h2[4::6],'o', label=\"third A\")\n",
    "plt.plot(h1[5::6], h2[5::6],'x', label=\"d\")\n",
    "plt.legend()"
   ]
  }
 ],
 "metadata": {
  "kernelspec": {
   "display_name": "Python 3 (ipykernel)",
   "language": "python",
   "name": "python3"
  },
  "language_info": {
   "codemirror_mode": {
    "name": "ipython",
    "version": 3
   },
   "file_extension": ".py",
   "mimetype": "text/x-python",
   "name": "python",
   "nbconvert_exporter": "python",
   "pygments_lexer": "ipython3",
   "version": "3.9.18"
  }
 },
 "nbformat": 4,
 "nbformat_minor": 5
}
