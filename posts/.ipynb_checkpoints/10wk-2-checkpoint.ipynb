{
 "cells": [
  {
   "cell_type": "raw",
   "id": "8d3157ed-6adf-4cd4-98d2-656391cec48b",
   "metadata": {
    "tags": [],
    "vscode": {
     "languageId": "raw"
    }
   },
   "source": [
    "---\n",
    "title: \"10wk-2: (추천시스템) -- optimizer 사용 고급, 모델링 전략, MF-based 추천시스템\"\n",
    "author: \"sw1kwon\"\n",
    "date: \"05/12/2025\"\n",
    "draft: false\n",
    "---"
   ]
  },
  {
   "cell_type": "markdown",
   "id": "244e43e3-eae7-4dc6-818a-3639c30ac31a",
   "metadata": {},
   "source": [
    "📘 **Note Format Guide**\n",
    "\n",
    "This format serves as a structured guide for organizing lecture content, personal interpretation, experiments, and study-related questions.\n",
    "\n",
    "| Type | What It Means | When I Use It |\n",
    "|------|----------------|----------------|\n",
    "| 📝 Lecture | Original material from the professor’s notes | When I’m referencing core concepts or provided code |\n",
    "| 🗣️ In-Class Note | Verbal explanations shared during the lecture | When I want to record something the professor said in class but didn’t include in the official notes |\n",
    "| ✍️ My Note | My thoughts, interpretations, or additional explanations | When I reflect on or explain something in my own words |\n",
    "| 🔬 Experiment | Code I tried out or changed to explore further | When I test variations or go beyond the original example |\n",
    "| ❓ Question | Questions I had while studying | When I want to revisit or research something more deeply |"
   ]
  },
  {
   "cell_type": "markdown",
   "id": "357fc691-1b77-4329-8d56-9691fa501474",
   "metadata": {},
   "source": [
    "📝\n",
    "🗣️\n",
    "✍️\n",
    "🔬\n",
    "❓"
   ]
  },
  {
   "cell_type": "markdown",
   "id": "8ddf091e-4ba8-49fe-ab5a-8ae0d07c6a5b",
   "metadata": {
    "id": "4d47a7c9"
   },
   "source": [
    "# 1. 강의노트 원본 및 영상 링크 📝"
   ]
  },
  {
   "cell_type": "markdown",
   "id": "56caaa09-ec53-4adb-9ce7-35a553209ad3",
   "metadata": {},
   "source": [
    "[https://guebin.github.io/DL2025/posts/10wk-2.html](https://guebin.github.io/DL2025/posts/10wk-2.html)"
   ]
  },
  {
   "cell_type": "markdown",
   "id": "3ff3221d-8551-41ad-9a29-570fdb023fe0",
   "metadata": {},
   "source": [
    "# 2. Imports 📝"
   ]
  },
  {
   "cell_type": "code",
   "execution_count": 1,
   "id": "7941cceb-c824-455f-b6ff-4b95860f4557",
   "metadata": {
    "tags": []
   },
   "outputs": [],
   "source": [
    "import torch\n",
    "import pandas as pd\n",
    "import matplotlib.pyplot as plt"
   ]
  },
  {
   "cell_type": "code",
   "execution_count": 2,
   "id": "d21146e6-92fc-47d8-9862-ae23c7659a7d",
   "metadata": {},
   "outputs": [],
   "source": [
    "plt.rcParams['figure.figsize'] = (4.5, 3.0)"
   ]
  },
  {
   "cell_type": "markdown",
   "id": "c0365a03-890d-48bc-b542-29281c83d042",
   "metadata": {},
   "source": [
    "# 3. 예비학습 📝"
   ]
  },
  {
   "cell_type": "markdown",
   "id": "288d42af-7f11-4d02-b407-6d7a2dcf0245",
   "metadata": {},
   "source": [
    "## A. optimizer 사용 고급"
   ]
  },
  {
   "cell_type": "markdown",
   "id": "5a35c655-5f24-4b02-adbe-d463134f63f9",
   "metadata": {},
   "source": [
    "`# 회귀분석` -- 안알려줬던 기술.."
   ]
  },
  {
   "cell_type": "markdown",
   "id": "af5be26b-dffc-4780-9e62-9e882f3ec8de",
   "metadata": {},
   "source": [
    "주어진 자료가 아래와 같다고 하자. "
   ]
  },
  {
   "cell_type": "code",
   "execution_count": 3,
   "id": "65d89a47-8fc4-4655-8198-1be303aa7ecb",
   "metadata": {
    "tags": []
   },
   "outputs": [],
   "source": [
    "torch.manual_seed(43052)\n",
    "x,_ = torch.randn(100).sort()\n",
    "x = x.reshape(-1,1)\n",
    "ones= torch.ones(100).reshape(-1,1)\n",
    "X = torch.concat([ones,x],axis=-1)\n",
    "ϵ = torch.randn(100).reshape(-1,1)*0.5\n",
    "y = 2.5+ 4*x + ϵ"
   ]
  },
  {
   "cell_type": "code",
   "execution_count": 4,
   "id": "c6af164b-c2b7-49df-ad57-aa391196df3f",
   "metadata": {
    "tags": []
   },
   "outputs": [
    {
     "data": {
      "text/plain": [
       "[<matplotlib.lines.Line2D at 0x7f7f9e7cc910>]"
      ]
     },
     "execution_count": 4,
     "metadata": {},
     "output_type": "execute_result"
    },
    {
     "data": {
      "image/png": "[encoded data removed]",
      "text/plain": [
       "<Figure size 450x300 with 1 Axes>"
      ]
     },
     "metadata": {},
     "output_type": "display_data"
    }
   ],
   "source": [
    "plt.plot(x,y,'o')"
   ]
  },
  {
   "cell_type": "code",
   "execution_count": 5,
   "id": "deaefaae-5d44-425c-870a-de5ed8006148",
   "metadata": {
    "tags": []
   },
   "outputs": [],
   "source": [
    "w = torch.tensor(10.0,requires_grad=True)\n",
    "b = torch.tensor(-5.0,requires_grad=True)"
   ]
  },
  {
   "cell_type": "code",
   "execution_count": 6,
   "id": "dc739dcf-e453-45d8-bd96-4693c644d0e5",
   "metadata": {
    "tags": []
   },
   "outputs": [
    {
     "data": {
      "text/plain": [
       "[<matplotlib.lines.Line2D at 0x7f7f9672bd00>]"
      ]
     },
     "execution_count": 6,
     "metadata": {},
     "output_type": "execute_result"
    },
    {
     "data": {
      "image/png": "[encoded data removed]",
      "text/plain": [
       "<Figure size 450x300 with 1 Axes>"
      ]
     },
     "metadata": {},
     "output_type": "display_data"
    }
   ],
   "source": [
    "plt.plot(x,y,'o')\n",
    "plt.plot(x,(x*w + b).data,'--')"
   ]
  },
  {
   "cell_type": "markdown",
   "id": "ed4e8b7b-21d4-4234-926f-f9acb9af92eb",
   "metadata": {},
   "source": [
    "`torch.optim.SGD`를 이용하여 What을 update하라. 학습률은 0.1로 설정하고 30회 update하라. "
   ]
  },
  {
   "cell_type": "markdown",
   "id": "7484fac1-c2da-4f30-81aa-a69a77b3a397",
   "metadata": {},
   "source": [
    "`(풀이)`"
   ]
  },
  {
   "cell_type": "markdown",
   "id": "ef9832a8-d1f0-45f2-8911-9f7246a3e258",
   "metadata": {},
   "source": [
    "🗣️("
   ]
  },
  {
   "cell_type": "code",
   "execution_count": 7,
   "id": "b3c9f2ed-e415-4d1d-8233-fbdf085b6d8c",
   "metadata": {},
   "outputs": [],
   "source": [
    "loss_fn = torch.nn.MSELoss()\n",
    "# optimizr = torch.optim.SGD(net.parameters())\n",
    "for epoc in range(30):\n",
    "    yhat = x*w + b\n",
    "    loss = loss_fn(yhat,y)\n",
    "    loss.backward()\n",
    "    w.data = w.data - 0.1*w.grad\n",
    "    b.data = b.data - 0.1*b.grad\n",
    "    w.grad=None\n",
    "    b.grad=None"
   ]
  },
  {
   "cell_type": "markdown",
   "id": "44fc9027-a349-45f6-bbec-a31ff642b228",
   "metadata": {},
   "source": [
    "- yhat = x*w + b 이런 식이라 optimizr 사용 불가"
   ]
  },
  {
   "cell_type": "code",
   "execution_count": 8,
   "id": "449d849f-8046-48bd-a8c1-1a5d5ae53570",
   "metadata": {},
   "outputs": [
    {
     "data": {
      "text/plain": [
       "(tensor(4.0144, requires_grad=True), tensor(2.4290, requires_grad=True))"
      ]
     },
     "execution_count": 8,
     "metadata": {},
     "output_type": "execute_result"
    }
   ],
   "source": [
    "w,b"
   ]
  },
  {
   "cell_type": "code",
   "execution_count": 9,
   "id": "2e497232-6d77-4b44-8352-b8ea81846dc6",
   "metadata": {
    "tags": []
   },
   "outputs": [
    {
     "data": {
      "text/plain": [
       "[<matplotlib.lines.Line2D at 0x7f7f90401250>]"
      ]
     },
     "execution_count": 9,
     "metadata": {},
     "output_type": "execute_result"
    },
    {
     "data": {
      "image/png": "[encoded data removed]",
      "text/plain": [
       "<Figure size 450x300 with 1 Axes>"
      ]
     },
     "metadata": {},
     "output_type": "display_data"
    }
   ],
   "source": [
    "plt.plot(x,y,'o')\n",
    "plt.plot(x,(x*w + b).data,'--')"
   ]
  },
  {
   "cell_type": "markdown",
   "id": "0863f266-729b-4386-82e5-81b1518e36e6",
   "metadata": {},
   "source": [
    "- 이렇게 하려면 update 공식을 전부 알고 있어야 하므로 optimizer를 사용하고 싶음 (SGD만 바꿔서)"
   ]
  },
  {
   "cell_type": "code",
   "execution_count": 11,
   "id": "399ec656-43f0-4d09-aeb8-1f13ee198141",
   "metadata": {},
   "outputs": [],
   "source": [
    "# torch.optim.SGD?"
   ]
  },
  {
   "cell_type": "markdown",
   "id": "c5e38fd4-3ce1-4d92-9d9f-6df9d0dcf94a",
   "metadata": {},
   "source": [
    "```\n",
    "Init signature:\n",
    "torch.optim.SGD(\n",
    "    params: Union[Iterable[torch.Tensor], Iterable[Dict[str, Any]], Iterable[Tuple[str, torch.Tensor]]],\n",
    "    lr: Union[float, torch.Tensor] = 0.001,\n",
    "```"
   ]
  },
  {
   "cell_type": "markdown",
   "id": "0370bc7d-e429-44a8-91d7-bb89e310de12",
   "metadata": {},
   "source": [
    "- Iterable 예시: 리스트\n",
    "    - 학습하고 싶은 parameter들이 network 형태로 짜져 있지 않아도 리스트 형식으로 전달해주면 됨"
   ]
  },
  {
   "cell_type": "code",
   "execution_count": 12,
   "id": "b7c97d28-58d9-4d40-b412-955bc2db58dc",
   "metadata": {},
   "outputs": [],
   "source": [
    "w = torch.tensor(10.0,requires_grad=True)\n",
    "b = torch.tensor(-5.0,requires_grad=True)\n",
    "loss_fn = torch.nn.MSELoss()\n",
    "optimizr = torch.optim.SGD([w,b],lr=0.1)\n",
    "for epoc in range(30):\n",
    "    yhat = x*w +b \n",
    "    loss = loss_fn(yhat,y) \n",
    "    loss.backward()\n",
    "    optimizr.step()\n",
    "    optimizr.zero_grad()"
   ]
  },
  {
   "cell_type": "code",
   "execution_count": 13,
   "id": "eca765bf-2ff5-4a17-93ce-c4eee8e4b028",
   "metadata": {},
   "outputs": [
    {
     "data": {
      "text/plain": [
       "(tensor(4.0144, requires_grad=True), tensor(2.4290, requires_grad=True))"
      ]
     },
     "execution_count": 13,
     "metadata": {},
     "output_type": "execute_result"
    }
   ],
   "source": [
    "w,b"
   ]
  },
  {
   "cell_type": "code",
   "execution_count": 14,
   "id": "598b61d5-e3de-4c41-8817-023566c08cc1",
   "metadata": {
    "tags": []
   },
   "outputs": [
    {
     "data": {
      "text/plain": [
       "[<matplotlib.lines.Line2D at 0x7f84a01baac0>]"
      ]
     },
     "execution_count": 14,
     "metadata": {},
     "output_type": "execute_result"
    },
    {
     "data": {
      "image/png": "[encoded data removed]",
      "text/plain": [
       "<Figure size 450x300 with 1 Axes>"
      ]
     },
     "metadata": {},
     "output_type": "display_data"
    }
   ],
   "source": [
    "plt.plot(x,y,'o')\n",
    "plt.plot(x,(x*w + b).data,'--')"
   ]
  },
  {
   "cell_type": "markdown",
   "id": "1e703b23-474e-410d-8452-604ba060256f",
   "metadata": {},
   "source": [
    ")🗣️"
   ]
  },
  {
   "cell_type": "code",
   "execution_count": 18,
   "id": "a3ae92f4-ecc6-4568-92e2-502f1c630f2e",
   "metadata": {},
   "outputs": [],
   "source": [
    "w = torch.tensor(10.0,requires_grad=True)\n",
    "b = torch.tensor(-5.0,requires_grad=True)\n",
    "loss_fn = torch.nn.MSELoss()\n",
    "optimizr = torch.optim.SGD([w,b],lr=0.1)\n",
    "for epoc in range(30):\n",
    "    yhat = x*w +b \n",
    "    loss = loss_fn(yhat,y) \n",
    "    loss.backward()\n",
    "    optimizr.step()\n",
    "    optimizr.zero_grad()"
   ]
  },
  {
   "cell_type": "code",
   "execution_count": 19,
   "id": "9d4d4673-e7b7-46bf-a366-8643382855a4",
   "metadata": {},
   "outputs": [
    {
     "data": {
      "text/plain": [
       "(tensor(4.0144, requires_grad=True), tensor(2.4290, requires_grad=True))"
      ]
     },
     "execution_count": 19,
     "metadata": {},
     "output_type": "execute_result"
    }
   ],
   "source": [
    "w,b"
   ]
  },
  {
   "cell_type": "code",
   "execution_count": 20,
   "id": "56bece30-d3aa-4b1e-926a-f4bfc86c3d83",
   "metadata": {},
   "outputs": [
    {
     "data": {
      "text/plain": [
       "[<matplotlib.lines.Line2D at 0x741fd82e8d60>]"
      ]
     },
     "execution_count": 20,
     "metadata": {},
     "output_type": "execute_result"
    },
    {
     "data": {
      "image/png": "[encoded data removed]",
      "text/plain": [
       "<Figure size 450x300 with 1 Axes>"
      ]
     },
     "metadata": {},
     "output_type": "display_data"
    }
   ],
   "source": [
    "plt.plot(x,y,'o')\n",
    "plt.plot(x,(x*w + b).data,'--')"
   ]
  },
  {
   "cell_type": "markdown",
   "id": "b22a96d6-a901-44eb-8859-08a3248c3c99",
   "metadata": {},
   "source": [
    "`#`"
   ]
  },
  {
   "cell_type": "markdown",
   "id": "fabd6968-a1a0-4338-a294-d5a5f3d87a3b",
   "metadata": {},
   "source": [
    "`# 2025-중간고사 3번` "
   ]
  },
  {
   "cell_type": "code",
   "execution_count": 15,
   "id": "4c416533-5141-48ff-9d5a-363138e5e936",
   "metadata": {
    "vscode": {
     "languageId": "python"
    }
   },
   "outputs": [],
   "source": [
    "torch.manual_seed(43052)\n",
    "dist = torch.distributions.Exponential(1/2)\n",
    "x = dist.sample((10000,1))"
   ]
  },
  {
   "cell_type": "markdown",
   "id": "e9c4164e-8e22-4266-8359-43a67812ac45",
   "metadata": {},
   "source": [
    "주어진 자료 $x_i$에 대하여 함수 $l(\\lambda)$를 최대화하는 $\\lambda$를 경사하강법 기반의 알고리즘을 이용하여 추정하라. 단 이때 $\\lambda$의 초기 추정값은 1로 설정하라. "
   ]
  },
  {
   "cell_type": "markdown",
   "id": "6786e6ac-4e3e-4976-a436-64b9a2ec8b72",
   "metadata": {},
   "source": [
    "$$\n",
    "l(\\lambda) =\\frac{1}{n} \\sum_{i=1}^{n}\\log f(x_i), \\quad f(x_i) = \\frac{1}{\\lambda} e^{-\\frac{x_i}{\\lambda}}, \\quad x_i \\geq 0\n",
    "$$"
   ]
  },
  {
   "cell_type": "markdown",
   "id": "22e6015f-edca-4395-ae2b-4382dc468f42",
   "metadata": {},
   "source": [
    "**hint** \n",
    "\n",
    "- $l(\\lambda)$를 최대화하는 $\\lambda$는 $-l(\\lambda)$를 최소화합니다. \n",
    "- 이론적으로는 $l(\\lambda)$를 최대화하는 $\\lambda$는 `x.mean()`입니다. 즉 제대로 $\\lambda$를 추정한다면 `x.mean()`이 나오도록 되어있습니다. \n",
    "- 저는 경사하강법을 이용했고 학습률은 0.05로 설정했습니다. 1000회 update하니까 잘 수렴했습니다."
   ]
  },
  {
   "cell_type": "markdown",
   "id": "bb993e57-2ab0-429f-ac36-2e0989224086",
   "metadata": {},
   "source": [
    "`(풀이)`"
   ]
  },
  {
   "cell_type": "markdown",
   "id": "ace1a7a0-e01a-4fbf-86e1-72a7fd30f3cc",
   "metadata": {},
   "source": [
    "🗣️("
   ]
  },
  {
   "cell_type": "code",
   "execution_count": 17,
   "id": "a0081c85-04f4-47f2-96ba-f0789072ec38",
   "metadata": {},
   "outputs": [],
   "source": [
    "lamb = torch.tensor(1.0, requires_grad=True) # matrix [[1.0]]가 아니라 scalar여도 상관 X"
   ]
  },
  {
   "cell_type": "code",
   "execution_count": 18,
   "id": "c756ba19-13eb-4cc2-9efa-e4ccf9c92c80",
   "metadata": {},
   "outputs": [
    {
     "data": {
      "text/plain": [
       "tensor([[-0.9071],\n",
       "        [-1.0760],\n",
       "        [-0.0572],\n",
       "        ...,\n",
       "        [-0.3747],\n",
       "        [-1.2479],\n",
       "        [-0.9108]])"
      ]
     },
     "execution_count": 18,
     "metadata": {},
     "output_type": "execute_result"
    }
   ],
   "source": [
    "-x"
   ]
  },
  {
   "cell_type": "code",
   "execution_count": 19,
   "id": "11db400d-f54a-440f-9d46-dd8ca94ac190",
   "metadata": {},
   "outputs": [
    {
     "data": {
      "text/plain": [
       "tensor([[-0.9071],\n",
       "        [-1.0760],\n",
       "        [-0.0572],\n",
       "        ...,\n",
       "        [-0.3747],\n",
       "        [-1.2479],\n",
       "        [-0.9108]], grad_fn=<DivBackward0>)"
      ]
     },
     "execution_count": 19,
     "metadata": {},
     "output_type": "execute_result"
    }
   ],
   "source": [
    "-x/lamb"
   ]
  },
  {
   "cell_type": "code",
   "execution_count": 20,
   "id": "54b202a8-c448-45dd-82fc-0eef02cdb7b4",
   "metadata": {},
   "outputs": [
    {
     "data": {
      "text/plain": [
       "tensor([[0.4037],\n",
       "        [0.3410],\n",
       "        [0.9444],\n",
       "        ...,\n",
       "        [0.6875],\n",
       "        [0.2871],\n",
       "        [0.4022]], grad_fn=<ExpBackward0>)"
      ]
     },
     "execution_count": 20,
     "metadata": {},
     "output_type": "execute_result"
    }
   ],
   "source": [
    "torch.exp(-x/lamb)"
   ]
  },
  {
   "cell_type": "code",
   "execution_count": 21,
   "id": "4880522f-38d5-42e9-8aa0-03212d140f32",
   "metadata": {},
   "outputs": [],
   "source": [
    "fx = torch.exp(-x/lamb)/lamb\n",
    "l = torch.log(fx).mean()"
   ]
  },
  {
   "cell_type": "code",
   "execution_count": 22,
   "id": "c72c3aa4-d2d1-49c1-af56-9177a733abde",
   "metadata": {},
   "outputs": [],
   "source": [
    "for i in range(1000):\n",
    "    fx = torch.exp(-x/lamb)/lamb\n",
    "    l = torch.log(fx).mean()\n",
    "    (-l).backward()\n",
    "    lamb.data = lamb.data - 0.1*lamb.grad\n",
    "    lamb.grad = None"
   ]
  },
  {
   "cell_type": "code",
   "execution_count": 23,
   "id": "b517862f-cb3f-41f5-8748-7e9916b04929",
   "metadata": {},
   "outputs": [
    {
     "data": {
      "text/plain": [
       "tensor(1.9874, requires_grad=True)"
      ]
     },
     "execution_count": 23,
     "metadata": {},
     "output_type": "execute_result"
    }
   ],
   "source": [
    "lamb"
   ]
  },
  {
   "cell_type": "code",
   "execution_count": 24,
   "id": "085b6527-10fb-4587-84ce-bdde9c7c7ea7",
   "metadata": {},
   "outputs": [
    {
     "data": {
      "text/plain": [
       "tensor(1.9874)"
      ]
     },
     "execution_count": 24,
     "metadata": {},
     "output_type": "execute_result"
    }
   ],
   "source": [
    "x.mean()"
   ]
  },
  {
   "cell_type": "markdown",
   "id": "9e0e95ac-7cdf-48b4-90af-0d2668dd0b4c",
   "metadata": {},
   "source": [
    "- 다른 방법 (문법이 중요, iterable로 입력)"
   ]
  },
  {
   "cell_type": "code",
   "execution_count": 25,
   "id": "f8fcb97a-3394-428b-af86-1490478635ad",
   "metadata": {},
   "outputs": [],
   "source": [
    "lamb = torch.tensor(1.0, requires_grad=True)\n",
    "optimizr = torch.optim.SGD([lamb], lr=0.1)"
   ]
  },
  {
   "cell_type": "code",
   "execution_count": 26,
   "id": "0cafe7a8-3a30-414f-9494-3c372f4f33ba",
   "metadata": {},
   "outputs": [],
   "source": [
    "for i in range(1000):\n",
    "    fx = torch.exp(-x/lamb)/lamb\n",
    "    l = torch.log(fx).mean()\n",
    "    (-l).backward()\n",
    "    optimizr.step()\n",
    "    optimizr.zero_grad()"
   ]
  },
  {
   "cell_type": "code",
   "execution_count": 27,
   "id": "53356f09-01fc-4551-b0e9-df7c6bd94084",
   "metadata": {},
   "outputs": [
    {
     "data": {
      "text/plain": [
       "tensor(1.9874, requires_grad=True)"
      ]
     },
     "execution_count": 27,
     "metadata": {},
     "output_type": "execute_result"
    }
   ],
   "source": [
    "lamb"
   ]
  },
  {
   "cell_type": "markdown",
   "id": "f1c1c2df-145e-4d0b-807f-7ddf4b8ef647",
   "metadata": {},
   "source": [
    ")🗣️"
   ]
  },
  {
   "cell_type": "code",
   "execution_count": 33,
   "id": "9ac34317-e036-4c21-b0d1-b27981586483",
   "metadata": {},
   "outputs": [],
   "source": [
    "lamb = torch.tensor(1.0,requires_grad=True)\n",
    "optimizr = torch.optim.SGD([lamb],  lr =0.05)"
   ]
  },
  {
   "cell_type": "code",
   "execution_count": 34,
   "id": "98400be9-a3f9-40c1-bda4-301e056301ba",
   "metadata": {},
   "outputs": [],
   "source": [
    "for i in range(1000):\n",
    "    fx = torch.exp(-x/lamb)/lamb\n",
    "    l = torch.log(fx).mean()\n",
    "    (-l).backward()\n",
    "    optimizr.step()\n",
    "    optimizr.zero_grad()"
   ]
  },
  {
   "cell_type": "code",
   "execution_count": 35,
   "id": "2664f4b6-a450-4d0a-a4cc-a5e8da7aa8be",
   "metadata": {},
   "outputs": [
    {
     "data": {
      "text/plain": [
       "tensor(1.9874, requires_grad=True)"
      ]
     },
     "execution_count": 35,
     "metadata": {},
     "output_type": "execute_result"
    }
   ],
   "source": [
    "lamb"
   ]
  },
  {
   "cell_type": "markdown",
   "id": "eff34cd3-5287-4728-8961-450f4ddc10eb",
   "metadata": {},
   "source": [
    "`#`"
   ]
  },
  {
   "cell_type": "markdown",
   "id": "0a589d3e-9383-4b1a-aeb9-d62806e29b90",
   "metadata": {},
   "source": [
    "## B. 모델링 전략"
   ]
  },
  {
   "cell_type": "markdown",
   "id": "40abe1cc-10e0-4d7b-aaf2-299b2660d580",
   "metadata": {},
   "source": [
    "`# 2025-중간고사 4번` -- 자유 낙하 운동이란 어떤 물체가 일정한 높이에서 떨어져 지면에 도달하기 까지 걸리는 시간을 다루는 물리학 개념이다.  다음은 물리학의 자유 낙하 운동에서 착안하여 생성한 데이터이다."
   ]
  },
  {
   "cell_type": "code",
   "execution_count": 28,
   "id": "d1b71571-77a9-4f69-8081-6a359875d966",
   "metadata": {
    "vscode": {
     "languageId": "python"
    }
   },
   "outputs": [],
   "source": [
    "torch.manual_seed(43052)\n",
    "h = torch.rand(100)*100\n",
    "h,_ = h.sort()\n",
    "h = h.reshape(100,1)\n",
    "t = torch.sqrt(2*h/9.8) + torch.randn([100,1])*0.1"
   ]
  },
  {
   "cell_type": "markdown",
   "id": "2e06c42a-0e03-4db8-8a79-b8065198f2f9",
   "metadata": {},
   "source": [
    "여기에서 $h$는 낙하전의 높이(단위: m), $t$는 해당높이에서 물치가 지면에 도달하기 까지 걸리는 시간(단위:초)을 의미한다. 예를 들어 아래의 자료는 $h=99.3920, t=4.4583$를 의미하는데 "
   ]
  },
  {
   "cell_type": "code",
   "execution_count": 29,
   "id": "8a0a5430-e626-4c31-a831-c6fa88c2c624",
   "metadata": {
    "vscode": {
     "languageId": "python"
    }
   },
   "outputs": [
    {
     "data": {
      "text/plain": [
       "(tensor([99.3920]), tensor([4.4583]))"
      ]
     },
     "execution_count": 29,
     "metadata": {},
     "output_type": "execute_result"
    }
   ],
   "source": [
    "h[-1], t[-1]"
   ]
  },
  {
   "cell_type": "markdown",
   "id": "c128aa5b-e54f-4f79-b4c9-b7362e8d85e2",
   "metadata": {},
   "source": [
    "이것은 높이 $99.3920$m에서 낙하한 물체가 약 $4.4583$초만에 지면에 도달했음을 의미한다. 아래의 그림은 $x$축에 $h$, $y$축에 $t$를 두고 해당 데이터를 산점도로 시각화 한 것이다. "
   ]
  },
  {
   "cell_type": "code",
   "execution_count": 30,
   "id": "ef144710-0885-4d76-8c86-046ae5c89d15",
   "metadata": {
    "vscode": {
     "languageId": "python"
    }
   },
   "outputs": [
    {
     "data": {
      "image/png": "[encoded data removed]",
      "text/plain": [
       "<Figure size 450x300 with 1 Axes>"
      ]
     },
     "metadata": {},
     "output_type": "display_data"
    }
   ],
   "source": [
    "plt.plot(h,t,'o',alpha=0.5)\n",
    "plt.xlabel('Height (m)')\n",
    "plt.ylabel('Time to fall (sec)')\n",
    "plt.title('Free Fall Time vs Height')\n",
    "plt.grid(True)\n",
    "plt.show()"
   ]
  },
  {
   "cell_type": "markdown",
   "id": "7ed9bb21-7352-496a-b451-437a313544f2",
   "metadata": {},
   "source": [
    "그래프를 보면 높이가 높을 수록 낙하시간도 길어지는 경향이 관찰된다. 다만 동일한 높이라 하더라도 낙하시간이 조금씩 차이나는 경우가 있는데, 이는 사람이 시간측정을 수동으로 하며 발생하는 실험오차 때문이다. 이러한 오차에도 불구하고 $h$와 $t$사이에는 일정한 규칙이 존재하는듯 하다. 물리학과 교수님께 자문을 요청한 결과 자유낙하에 걸리는 시간은 $\\sqrt{h}$에 비례함을 알 수 있었고 이를 근거로 아래와 같은 모형을 설계하였다. \n",
    "\n",
    "$$t_i = \\beta_0 + \\beta_1 \\sqrt{h_i}+\\epsilon_i, \\quad \\epsilon_i \\sim {\\cal N}(0,\\sigma^2)$$\n",
    "\n",
    "위의 모형을 활용하여 높이 $h$로부터 낙하시간 $t$를 예측하는 신경망 모델을 설계하고 학습하라. 학습한 신경망 모델을 활용하여 높이 40m,60m,80m 에서 물체를 자유낙하 시켰을때 지면에 도달하기까지 걸리는 시간을 각각 예측하라. "
   ]
  },
  {
   "cell_type": "markdown",
   "id": "2f96f304-2e81-4ed6-9b9a-9114bcc56c04",
   "metadata": {},
   "source": [
    "**hint**\n",
    "\n",
    "- $y_i = t_i$ 로 생각하시고 $x_i= \\sqrt{h}_i$로 생각하시면 그냥 회귀모형이죠? \n",
    "- 답은 $2.8571$초, $3.4493$초, $4.0406$초 근처로 나오면 됩니다.\n",
    "- 제시된 모형($t_i = \\beta_0 + \\beta_1 \\sqrt{h_i}+\\epsilon_i$)을 무시하고 04wk-2와 같은 방식으로 신경망을 설계하고 푸셔도 만점으로 인정합니다. "
   ]
  },
  {
   "cell_type": "markdown",
   "id": "c06a71d2-186c-4445-9706-9bc376c55232",
   "metadata": {},
   "source": [
    "🗣️("
   ]
  },
  {
   "cell_type": "markdown",
   "id": "68455248-8ff7-4e0d-b4e0-088ece821b78",
   "metadata": {},
   "source": [
    "- h -> t"
   ]
  },
  {
   "cell_type": "code",
   "execution_count": 32,
   "id": "2f7e4111-d872-4763-b550-059e64597e17",
   "metadata": {},
   "outputs": [],
   "source": [
    "net = torch.nn.Sequential(\n",
    "    torch.nn.Linear(1,32),\n",
    "    torch.nn.ReLU(),\n",
    "    torch.nn.Linear(32,1)\n",
    ")\n",
    "optimizr = torch.optim.Adam(net.parameters())\n",
    "loss_fn = torch.nn.MSELoss()\n",
    "#--#\n",
    "for epoc in range(100):\n",
    "    # 1\n",
    "    that = net(h)\n",
    "    # 2\n",
    "    loss = loss_fn(that,t)\n",
    "    # 3\n",
    "    loss.backward()\n",
    "    # 4\n",
    "    optimizr.step()\n",
    "    optimizr.zero_grad()"
   ]
  },
  {
   "cell_type": "code",
   "execution_count": 33,
   "id": "80264615-7f3a-4878-b4a6-c64b29a55b48",
   "metadata": {
    "vscode": {
     "languageId": "python"
    }
   },
   "outputs": [
    {
     "data": {
      "image/png": "[encoded data removed]",
      "text/plain": [
       "<Figure size 450x300 with 1 Axes>"
      ]
     },
     "metadata": {},
     "output_type": "display_data"
    }
   ],
   "source": [
    "plt.plot(h,t,'o',alpha=0.5)\n",
    "plt.xlabel('Height (m)')\n",
    "plt.ylabel('Time to fall (sec)')\n",
    "plt.title('Free Fall Time vs Height')\n",
    "plt.grid(True)\n",
    "plt.plot(h,that.data,'--')\n",
    "plt.show()"
   ]
  },
  {
   "cell_type": "markdown",
   "id": "68f4659a-5a00-41ef-87a2-036e77e3ac8c",
   "metadata": {},
   "source": [
    "- epoch을 2,000으로 증가"
   ]
  },
  {
   "cell_type": "code",
   "execution_count": 34,
   "id": "dd441f82-eb2f-456c-a01e-eb65308e34d8",
   "metadata": {},
   "outputs": [],
   "source": [
    "net = torch.nn.Sequential(\n",
    "    torch.nn.Linear(1,32),\n",
    "    torch.nn.ReLU(),\n",
    "    torch.nn.Linear(32,1)\n",
    ")\n",
    "optimizr = torch.optim.Adam(net.parameters())\n",
    "loss_fn = torch.nn.MSELoss()\n",
    "#--#\n",
    "for epoc in range(2000):\n",
    "    # 1\n",
    "    that = net(h)\n",
    "    # 2\n",
    "    loss = loss_fn(that,t)\n",
    "    # 3\n",
    "    loss.backward()\n",
    "    # 4\n",
    "    optimizr.step()\n",
    "    optimizr.zero_grad()"
   ]
  },
  {
   "cell_type": "code",
   "execution_count": 35,
   "id": "1b594cc4-ffbe-447c-b9c3-f3e2cfaca81e",
   "metadata": {
    "vscode": {
     "languageId": "python"
    }
   },
   "outputs": [
    {
     "data": {
      "image/png": "[encoded data removed]",
      "text/plain": [
       "<Figure size 450x300 with 1 Axes>"
      ]
     },
     "metadata": {},
     "output_type": "display_data"
    }
   ],
   "source": [
    "plt.plot(h,t,'o',alpha=0.5)\n",
    "plt.xlabel('Height (m)')\n",
    "plt.ylabel('Time to fall (sec)')\n",
    "plt.title('Free Fall Time vs Height')\n",
    "plt.grid(True)\n",
    "plt.plot(h,that.data,'--')\n",
    "plt.show()"
   ]
  },
  {
   "cell_type": "code",
   "execution_count": 37,
   "id": "8a6f73f7-53b7-4045-b9b0-293fbfc1b67d",
   "metadata": {},
   "outputs": [
    {
     "data": {
      "text/plain": [
       "tensor([[2.9389],\n",
       "        [3.4704],\n",
       "        [4.0018]], grad_fn=<AddmmBackward0>)"
      ]
     },
     "execution_count": 37,
     "metadata": {},
     "output_type": "execute_result"
    }
   ],
   "source": [
    "hh = torch.tensor([40,60,80]).float().reshape(3,1)\n",
    "net(hh)"
   ]
  },
  {
   "cell_type": "markdown",
   "id": "60cc55e0-2e74-47be-a1b2-4c64d48259a4",
   "metadata": {},
   "source": [
    "- 다르게 푼다면"
   ]
  },
  {
   "cell_type": "markdown",
   "id": "d4af47d4-3482-42d2-a69f-77ca75f7d9f3",
   "metadata": {},
   "source": [
    "```python\n",
    "linr1 = torch.nn.Linear(1,32)\n",
    "relu = torch.nn.ReLU()\n",
    "linr2 = torch.nn.Linear(32,1)\n",
    "\n",
    "#---#\n",
    "for epoc in range(2000):\n",
    "    #1\n",
    "    that = linr2(relu(linr1(h)))\n",
    "    #2\n",
    "    loss = loss_fn(that,t)\n",
    "    #3\n",
    "    loss.backward()\n",
    "    #4 \n",
    "    optimizr.step()\n",
    "    optimizr.zero_grad()\n",
    "```"
   ]
  },
  {
   "cell_type": "markdown",
   "id": "c1a74bc2-e70a-4be7-a7e2-4fa6fb90862f",
   "metadata": {},
   "source": [
    "- optimizr는 어떻게?"
   ]
  },
  {
   "cell_type": "code",
   "execution_count": 38,
   "id": "98ca5140-fb8f-4375-a2bf-7d569a526ebc",
   "metadata": {},
   "outputs": [
    {
     "data": {
      "text/plain": [
       "<generator object Module.parameters at 0x7f7f45c5d510>"
      ]
     },
     "execution_count": 38,
     "metadata": {},
     "output_type": "execute_result"
    }
   ],
   "source": [
    "net.parameters()"
   ]
  },
  {
   "cell_type": "markdown",
   "id": "522a864b-49e1-422b-bbad-5f3cfbaca445",
   "metadata": {},
   "source": [
    "- 리스트는 아니지만 generator"
   ]
  },
  {
   "cell_type": "code",
   "execution_count": 40,
   "id": "234c41f2-f7f5-4a1f-b8fb-75713aa02faa",
   "metadata": {},
   "outputs": [],
   "source": [
    "# list(net.parameters())"
   ]
  },
  {
   "cell_type": "markdown",
   "id": "818ae25c-1c22-414b-ab81-646cdd6a52d9",
   "metadata": {},
   "source": [
    "- 리스트로 만들 수 있으므로 이전 코드에 리스트만 해줘도 다 돌아감"
   ]
  },
  {
   "cell_type": "markdown",
   "id": "9648d2cd-efe4-4774-828f-cde4c93ea81d",
   "metadata": {},
   "source": [
    "- optimizr = torch.optim.Adam(**list**(net.parameters())) 도 되지만 아래와 같이 할 수도 있음"
   ]
  },
  {
   "cell_type": "markdown",
   "id": "33c743a6-c1dc-487e-8a7d-c1273700eefc",
   "metadata": {},
   "source": [
    "```python\n",
    "linr1 = torch.nn.Linear(1,32)\n",
    "relu = torch.nn.ReLU() # parameter 없음\n",
    "linr2 = torch.nn.Linear(32,1)\n",
    "list(linr1.parameters()) + list(linr2.parameters())\n",
    "```"
   ]
  },
  {
   "cell_type": "code",
   "execution_count": 43,
   "id": "5c556861-16e5-41df-b99a-b9d494241778",
   "metadata": {},
   "outputs": [],
   "source": [
    "linr1 = torch.nn.Linear(1,32)\n",
    "relu = torch.nn.ReLU()\n",
    "linr2 = torch.nn.Linear(32,1)\n",
    "optimizr = torch.optim.Adam(list(linr1.parameters()) + list(linr2.parameters()))\n",
    "loss_fn = torch.nn.MSELoss()\n",
    "#---#\n",
    "for epoc in range(2000):\n",
    "    #1\n",
    "    that = linr2(relu(linr1(h)))\n",
    "    #2\n",
    "    loss = loss_fn(that,t)\n",
    "    #3\n",
    "    loss.backward()\n",
    "    #4 \n",
    "    optimizr.step()\n",
    "    optimizr.zero_grad()"
   ]
  },
  {
   "cell_type": "code",
   "execution_count": 44,
   "id": "cb1d4e50-4555-4921-8a36-0d8181746f63",
   "metadata": {},
   "outputs": [
    {
     "data": {
      "text/plain": [
       "[<matplotlib.lines.Line2D at 0x7f7f46fb7e20>]"
      ]
     },
     "execution_count": 44,
     "metadata": {},
     "output_type": "execute_result"
    },
    {
     "data": {
      "image/png": "[encoded data removed]",
      "text/plain": [
       "<Figure size 450x300 with 1 Axes>"
      ]
     },
     "metadata": {},
     "output_type": "display_data"
    }
   ],
   "source": [
    "plt.plot(h,t,'o',alpha=0.5)\n",
    "plt.plot(h,that.data,'--')"
   ]
  },
  {
   "cell_type": "markdown",
   "id": "7d243e06-0be4-4e43-ba70-3c17e4c411d3",
   "metadata": {},
   "source": [
    "- Network를 쓰면 편하지만 괜히 이렇게 풀어도 되긴 함\n",
    "- 지금까지는\n",
    "    - torch.nn.Sequential : 순방향으로 흐름\n",
    "    - 하지만 경우에 따라 Network가 그렇게 안 될 수도 있음\n",
    "    - 그런 경우는 여러 Network를 짜서 조합 (위와 같이)"
   ]
  },
  {
   "cell_type": "markdown",
   "id": "c91542fd-a37c-4a98-9242-c2f6d7266afa",
   "metadata": {},
   "source": [
    ")🗣️"
   ]
  },
  {
   "cell_type": "markdown",
   "id": "e89ee799-7a77-40c1-a748-d5078a868cbc",
   "metadata": {},
   "source": [
    "`(풀이)`"
   ]
  },
  {
   "cell_type": "markdown",
   "id": "5c5c924a-0d94-44c0-a994-5b679a64280c",
   "metadata": {},
   "source": [
    "🗣️("
   ]
  },
  {
   "cell_type": "markdown",
   "id": "5f19289c-ba31-439d-bb8d-d6363cd1e6f5",
   "metadata": {},
   "source": [
    "- 원래 풀이 (기존의 물리 이론 활용)"
   ]
  },
  {
   "cell_type": "code",
   "execution_count": 45,
   "id": "11ae08d7-bf05-46d6-9134-1e4cbf7fb068",
   "metadata": {},
   "outputs": [],
   "source": [
    "x = torch.sqrt(h)\n",
    "y = t\n",
    "net = torch.nn.Linear(1,1)\n",
    "optimizr = torch.optim.Adam(net.parameters())\n",
    "#---#\n",
    "for epoc in range(6000):\n",
    "    #1\n",
    "    yhat = net(x)\n",
    "    #2\n",
    "    loss = loss_fn(yhat,y)\n",
    "    #3\n",
    "    loss.backward()\n",
    "    #4 \n",
    "    optimizr.step()\n",
    "    optimizr.zero_grad()"
   ]
  },
  {
   "cell_type": "code",
   "execution_count": 46,
   "id": "390f45b8-6c6b-45e4-b9f4-f36f4b00fa23",
   "metadata": {},
   "outputs": [
    {
     "data": {
      "text/plain": [
       "[<matplotlib.lines.Line2D at 0x7f7f46fe0130>]"
      ]
     },
     "execution_count": 46,
     "metadata": {},
     "output_type": "execute_result"
    },
    {
     "data": {
      "image/png": "[encoded data removed]",
      "text/plain": [
       "<Figure size 450x300 with 1 Axes>"
      ]
     },
     "metadata": {},
     "output_type": "display_data"
    }
   ],
   "source": [
    "plt.plot(h,t,'o',alpha=0.5)\n",
    "plt.plot(h,yhat.data,'--')"
   ]
  },
  {
   "cell_type": "code",
   "execution_count": 47,
   "id": "ee266a9e-5ae1-4967-bcef-28054794b040",
   "metadata": {},
   "outputs": [
    {
     "data": {
      "text/plain": [
       "tensor([[2.8532],\n",
       "        [3.4889],\n",
       "        [4.0249]], grad_fn=<AddmmBackward0>)"
      ]
     },
     "execution_count": 47,
     "metadata": {},
     "output_type": "execute_result"
    }
   ],
   "source": [
    "hh = torch.tensor([40,60,80]).float().reshape(3,1)\n",
    "xx = torch.sqrt(hh)\n",
    "net(xx)"
   ]
  },
  {
   "cell_type": "markdown",
   "id": "e5253ed1-11b3-4db4-b5c6-709ea4b1e905",
   "metadata": {},
   "source": [
    "- 모델링에 있어 정답이 없어지는 추세.."
   ]
  },
  {
   "cell_type": "markdown",
   "id": "68f7d4ef-b4cf-441f-8a5e-a69a1e73d4d7",
   "metadata": {},
   "source": [
    ")🗣️"
   ]
  },
  {
   "cell_type": "code",
   "execution_count": 71,
   "id": "3bfa3e2e-60b9-40de-acf3-f17aed57aae1",
   "metadata": {},
   "outputs": [],
   "source": [
    "linr1 = torch.nn.Linear(1,32)\n",
    "relu = torch.nn.ReLU()\n",
    "linr2 = torch.nn.Linear(32,1)\n",
    "optimizr = torch.optim.Adam(list(linr1.parameters()) + list(linr2.parameters()))\n",
    "loss_fn = torch.nn.MSELoss()\n",
    "#---#\n",
    "for epoc in range(2000):\n",
    "    #1\n",
    "    that = linr2(relu(linr1(h)))\n",
    "    #2\n",
    "    loss = loss_fn(that,t)\n",
    "    #3\n",
    "    loss.backward()\n",
    "    #4 \n",
    "    optimizr.step()\n",
    "    optimizr.zero_grad()"
   ]
  },
  {
   "cell_type": "code",
   "execution_count": 72,
   "id": "ba106bd7-9b55-476d-9313-54fc4344f8f9",
   "metadata": {},
   "outputs": [
    {
     "data": {
      "text/plain": [
       "[<matplotlib.lines.Line2D at 0x741fa11f0820>]"
      ]
     },
     "execution_count": 72,
     "metadata": {},
     "output_type": "execute_result"
    },
    {
     "data": {
      "image/png": "[encoded data removed]",
      "text/plain": [
       "<Figure size 450x300 with 1 Axes>"
      ]
     },
     "metadata": {},
     "output_type": "display_data"
    }
   ],
   "source": [
    "plt.plot(h,t,'o',alpha=0.5)\n",
    "plt.plot(h,that.data,'--')"
   ]
  },
  {
   "cell_type": "code",
   "execution_count": 73,
   "id": "9ac27b4d-6a63-4a3e-aea5-64513bd787d1",
   "metadata": {},
   "outputs": [
    {
     "data": {
      "text/plain": [
       "tensor([[2.8631],\n",
       "        [3.5162],\n",
       "        [4.0079]], grad_fn=<AddmmBackward0>)"
      ]
     },
     "execution_count": 73,
     "metadata": {},
     "output_type": "execute_result"
    }
   ],
   "source": [
    "hh = torch.tensor([40,60,80]).float().reshape(3,1)\n",
    "net(hh)"
   ]
  },
  {
   "cell_type": "markdown",
   "id": "38516d35-e2db-4153-b9ad-36bdf0f5ff46",
   "metadata": {},
   "source": [
    "`(풀이2)`"
   ]
  },
  {
   "cell_type": "code",
   "execution_count": 84,
   "id": "ada00b8b-24dc-449c-a6a5-bc543adaef92",
   "metadata": {},
   "outputs": [],
   "source": [
    "x = torch.sqrt(h)\n",
    "y = t \n",
    "net = torch.nn.Linear(1,1)\n",
    "optimizr = torch.optim.Adam(net.parameters())\n",
    "#---#\n",
    "for epoc in range(6000):\n",
    "    #1\n",
    "    yhat = net(x) \n",
    "    #2\n",
    "    loss = loss_fn(yhat,y)\n",
    "    #3\n",
    "    loss.backward()\n",
    "    #4 \n",
    "    optimizr.step()\n",
    "    optimizr.zero_grad()"
   ]
  },
  {
   "cell_type": "code",
   "execution_count": 85,
   "id": "38e8570f-3846-4ad8-8ea2-029638896819",
   "metadata": {},
   "outputs": [
    {
     "data": {
      "text/plain": [
       "[<matplotlib.lines.Line2D at 0x741fa0fc8880>]"
      ]
     },
     "execution_count": 85,
     "metadata": {},
     "output_type": "execute_result"
    },
    {
     "data": {
      "image/png": "[encoded data removed]",
      "text/plain": [
       "<Figure size 450x300 with 1 Axes>"
      ]
     },
     "metadata": {},
     "output_type": "display_data"
    }
   ],
   "source": [
    "plt.plot(h,t,'o',alpha=0.5)\n",
    "plt.plot(h,yhat.data,'--')"
   ]
  },
  {
   "cell_type": "code",
   "execution_count": 86,
   "id": "8becbc19-669b-4af4-89ac-ada13b99cc24",
   "metadata": {},
   "outputs": [
    {
     "data": {
      "text/plain": [
       "tensor([[2.8613],\n",
       "        [3.4889],\n",
       "        [4.0180]], grad_fn=<AddmmBackward0>)"
      ]
     },
     "execution_count": 86,
     "metadata": {},
     "output_type": "execute_result"
    }
   ],
   "source": [
    "hh = torch.tensor([40,60,80]).float().reshape(3,1)\n",
    "xx = torch.sqrt(hh)\n",
    "net(xx)"
   ]
  },
  {
   "cell_type": "markdown",
   "id": "b2c4771e-09db-486f-8239-e722fc410af0",
   "metadata": {},
   "source": [
    "# 4. MF-based 추천시스템 📝"
   ]
  },
  {
   "cell_type": "markdown",
   "id": "0cc2bf56-d25b-4b14-86f0-80a74e50aeb3",
   "metadata": {},
   "source": [
    "ref: <https://namu.wiki/w/나는%20SOLO>"
   ]
  },
  {
   "cell_type": "markdown",
   "id": "d1fc4b74-ecd2-436f-88a4-5974e0a960d2",
   "metadata": {},
   "source": [
    "## A. Data: 나는 SOLO"
   ]
  },
  {
   "cell_type": "markdown",
   "id": "2b2ab22d-b3b5-4e5f-a13c-5e386503bdde",
   "metadata": {},
   "source": [
    "`-` Data "
   ]
  },
  {
   "cell_type": "code",
   "execution_count": 84,
   "id": "594c7fe7-71be-4529-9b95-ea81a652c33d",
   "metadata": {
    "tags": []
   },
   "outputs": [
    {
     "data": {
      "text/html": [
       "<div>\n",
       "<style scoped>\n",
       "    .dataframe tbody tr th:only-of-type {\n",
       "        vertical-align: middle;\n",
       "    }\n",
       "\n",
       "    .dataframe tbody tr th {\n",
       "        vertical-align: top;\n",
       "    }\n",
       "\n",
       "    .dataframe thead th {\n",
       "        text-align: right;\n",
       "    }\n",
       "</style>\n",
       "<table border=\"1\" class=\"dataframe\">\n",
       "  <thead>\n",
       "    <tr style=\"text-align: right;\">\n",
       "      <th></th>\n",
       "      <th>영식(IN)</th>\n",
       "      <th>영철(IN)</th>\n",
       "      <th>영호(IS)</th>\n",
       "      <th>광수(IS)</th>\n",
       "      <th>상철(EN)</th>\n",
       "      <th>영수(EN)</th>\n",
       "      <th>규빈(ES)</th>\n",
       "      <th>다호(ES)</th>\n",
       "    </tr>\n",
       "  </thead>\n",
       "  <tbody>\n",
       "    <tr>\n",
       "      <th>옥순(IN)</th>\n",
       "      <td>NaN</td>\n",
       "      <td>4.02</td>\n",
       "      <td>3.45</td>\n",
       "      <td>3.42</td>\n",
       "      <td>0.84</td>\n",
       "      <td>1.12</td>\n",
       "      <td>0.43</td>\n",
       "      <td>0.49</td>\n",
       "    </tr>\n",
       "    <tr>\n",
       "      <th>영자(IN)</th>\n",
       "      <td>3.93</td>\n",
       "      <td>3.99</td>\n",
       "      <td>3.63</td>\n",
       "      <td>3.43</td>\n",
       "      <td>0.98</td>\n",
       "      <td>0.96</td>\n",
       "      <td>0.52</td>\n",
       "      <td>NaN</td>\n",
       "    </tr>\n",
       "    <tr>\n",
       "      <th>정숙(IS)</th>\n",
       "      <td>3.52</td>\n",
       "      <td>3.42</td>\n",
       "      <td>4.05</td>\n",
       "      <td>4.06</td>\n",
       "      <td>0.39</td>\n",
       "      <td>NaN</td>\n",
       "      <td>0.93</td>\n",
       "      <td>0.99</td>\n",
       "    </tr>\n",
       "    <tr>\n",
       "      <th>영숙(IS)</th>\n",
       "      <td>3.43</td>\n",
       "      <td>3.57</td>\n",
       "      <td>NaN</td>\n",
       "      <td>3.95</td>\n",
       "      <td>0.56</td>\n",
       "      <td>0.52</td>\n",
       "      <td>0.89</td>\n",
       "      <td>0.89</td>\n",
       "    </tr>\n",
       "    <tr>\n",
       "      <th>순자(EN)</th>\n",
       "      <td>1.12</td>\n",
       "      <td>NaN</td>\n",
       "      <td>0.59</td>\n",
       "      <td>0.43</td>\n",
       "      <td>4.01</td>\n",
       "      <td>4.16</td>\n",
       "      <td>3.52</td>\n",
       "      <td>3.38</td>\n",
       "    </tr>\n",
       "    <tr>\n",
       "      <th>현숙(EN)</th>\n",
       "      <td>0.94</td>\n",
       "      <td>1.05</td>\n",
       "      <td>0.32</td>\n",
       "      <td>0.45</td>\n",
       "      <td>4.02</td>\n",
       "      <td>3.78</td>\n",
       "      <td>NaN</td>\n",
       "      <td>3.54</td>\n",
       "    </tr>\n",
       "    <tr>\n",
       "      <th>서연(ES)</th>\n",
       "      <td>0.51</td>\n",
       "      <td>0.56</td>\n",
       "      <td>0.88</td>\n",
       "      <td>0.89</td>\n",
       "      <td>3.50</td>\n",
       "      <td>3.64</td>\n",
       "      <td>4.04</td>\n",
       "      <td>4.10</td>\n",
       "    </tr>\n",
       "    <tr>\n",
       "      <th>보람(ES)</th>\n",
       "      <td>0.48</td>\n",
       "      <td>0.51</td>\n",
       "      <td>1.03</td>\n",
       "      <td>NaN</td>\n",
       "      <td>3.52</td>\n",
       "      <td>4.00</td>\n",
       "      <td>3.82</td>\n",
       "      <td>NaN</td>\n",
       "    </tr>\n",
       "    <tr>\n",
       "      <th>하니(I)</th>\n",
       "      <td>4.85</td>\n",
       "      <td>4.82</td>\n",
       "      <td>NaN</td>\n",
       "      <td>4.98</td>\n",
       "      <td>4.53</td>\n",
       "      <td>4.39</td>\n",
       "      <td>4.45</td>\n",
       "      <td>4.52</td>\n",
       "    </tr>\n",
       "  </tbody>\n",
       "</table>\n",
       "</div>"
      ],
      "text/plain": [
       "        영식(IN)  영철(IN)  영호(IS)  광수(IS)  상철(EN)  영수(EN)  규빈(ES)  다호(ES)\n",
       "옥순(IN)     NaN    4.02    3.45    3.42    0.84    1.12    0.43    0.49\n",
       "영자(IN)    3.93    3.99    3.63    3.43    0.98    0.96    0.52     NaN\n",
       "정숙(IS)    3.52    3.42    4.05    4.06    0.39     NaN    0.93    0.99\n",
       "영숙(IS)    3.43    3.57     NaN    3.95    0.56    0.52    0.89    0.89\n",
       "순자(EN)    1.12     NaN    0.59    0.43    4.01    4.16    3.52    3.38\n",
       "현숙(EN)    0.94    1.05    0.32    0.45    4.02    3.78     NaN    3.54\n",
       "서연(ES)    0.51    0.56    0.88    0.89    3.50    3.64    4.04    4.10\n",
       "보람(ES)    0.48    0.51    1.03     NaN    3.52    4.00    3.82     NaN\n",
       "하니(I)     4.85    4.82     NaN    4.98    4.53    4.39    4.45    4.52"
      ]
     },
     "execution_count": 84,
     "metadata": {},
     "output_type": "execute_result"
    }
   ],
   "source": [
    "df_view = pd.read_csv('https://raw.githubusercontent.com/guebin/DL2025/main/posts/iamsolo.csv',index_col=0)\n",
    "df_view"
   ]
  },
  {
   "cell_type": "markdown",
   "id": "31c6d890-fd92-44bd-89a9-bc71b85a8553",
   "metadata": {},
   "source": [
    "`-` 데이터를 이해할 때 필요한 가정들 -- 제가 마음대로 설정했어요.. \n",
    "\n",
    "- 궁합이 잘맞으면 5점, 잘 안맞으면 0점 이다. \n",
    "- MBTI 성향에 따라서 궁함의 정도가 다르다. 특히 I/E의 성향일치가 중요하다. \n",
    "- 하니는 모든 사람들과 대체로 궁합이 잘 맞는다. "
   ]
  },
  {
   "cell_type": "markdown",
   "id": "61e90080-c59a-4058-b047-2a474b6e61d4",
   "metadata": {},
   "source": [
    "## B. 아이디어"
   ]
  },
  {
   "cell_type": "markdown",
   "id": "3d0e9f76-db72-4fe9-a9f0-f4b89fcd62c5",
   "metadata": {},
   "source": [
    "`-` 목표: NaN을 추정 "
   ]
  },
  {
   "cell_type": "markdown",
   "id": "e88c2d12-0688-4a09-9a9a-99ebebdea469",
   "metadata": {},
   "source": [
    "`-` 수동추론: 그럴듯한 숫자를 추정해보자. \n",
    "\n",
    "- 옥순(IN),영식(IN)의 궁합은? $\\to$ 잘 맞을듯\n",
    "- 서연(ES),규빈(ES)의 궁합은? $\\to$ 잘 맞을듯 \n",
    "- 영자(IN),다호(ES)의 궁합은? $\\to$ 잘 안맞을듯 \n",
    "- 하니(I),영호(IS)의 궁합은? $\\to$엄청 잘 맞을듯 "
   ]
  },
  {
   "cell_type": "markdown",
   "id": "3b626708-7021-452c-a548-5978daa3e953",
   "metadata": {},
   "source": [
    "`-` 좀 더 체계적인 추론 전략"
   ]
  },
  {
   "cell_type": "code",
   "execution_count": 92,
   "id": "b63a7a13-10d3-480e-903f-2fdc482d1a65",
   "metadata": {},
   "outputs": [],
   "source": [
    "sig = torch.nn.Sigmoid()"
   ]
  },
  {
   "cell_type": "markdown",
   "id": "6e2cc15f-55eb-4c8b-ab10-a532717ca786",
   "metadata": {},
   "source": [
    "**(1)** 옥순(IN)과 영식(IN)의 궁합 $\\approx$ 옥순의I/E성향$\\times$영식의I/E성향 $+$ 옥순의N/S성향$\\times$영식의N/S성향"
   ]
  },
  {
   "cell_type": "markdown",
   "id": "6a1f2e9e-9ca3-428c-92ed-81e9b7e0f87a",
   "metadata": {},
   "source": [
    "🗣️("
   ]
  },
  {
   "cell_type": "markdown",
   "id": "157cb304-4bf3-4362-a211-d7e0f22837c1",
   "metadata": {},
   "source": [
    "- I에 가까울수록 2에 가깝고 E에 가까울수록 -2에 가깝다고 가정\n",
    "- N에 가까울수록 2에 가깝고 S에 가까울수록 -2에 가깝다고 가정"
   ]
  },
  {
   "cell_type": "code",
   "execution_count": 48,
   "id": "39366dfc-46b9-44c4-a65b-9809d0df6c66",
   "metadata": {},
   "outputs": [],
   "source": [
    "옥순성향 =  torch.tensor([1.9, 1.9])\n",
    "영식성향 =  torch.tensor([1.9, 1.9])"
   ]
  },
  {
   "cell_type": "code",
   "execution_count": 49,
   "id": "45c122c0-1af6-4c21-a585-d22731bc0f89",
   "metadata": {},
   "outputs": [
    {
     "data": {
      "text/plain": [
       "tensor([3.6100, 3.6100])"
      ]
     },
     "execution_count": 49,
     "metadata": {},
     "output_type": "execute_result"
    }
   ],
   "source": [
    "(옥순성향 * 영식성향)"
   ]
  },
  {
   "cell_type": "code",
   "execution_count": 50,
   "id": "ed893431-66a7-4ee1-b773-29b86507312f",
   "metadata": {},
   "outputs": [
    {
     "data": {
      "text/plain": [
       "tensor(7.2200)"
      ]
     },
     "execution_count": 50,
     "metadata": {},
     "output_type": "execute_result"
    }
   ],
   "source": [
    "(옥순성향 * 영식성향).sum()"
   ]
  },
  {
   "cell_type": "code",
   "execution_count": 51,
   "id": "5718bd76-c1d2-4de3-a0a6-99a0c181cacf",
   "metadata": {},
   "outputs": [],
   "source": [
    "sig = torch.nn.Sigmoid()"
   ]
  },
  {
   "cell_type": "code",
   "execution_count": 53,
   "id": "54b13970-ff88-43c5-bac6-67eb5a18e853",
   "metadata": {},
   "outputs": [
    {
     "data": {
      "text/plain": [
       "tensor(0.9993)"
      ]
     },
     "execution_count": 53,
     "metadata": {},
     "output_type": "execute_result"
    }
   ],
   "source": [
    "sig((옥순성향 * 영식성향).sum()) # 확률이 아니라 평점으로 생각 (0~1)"
   ]
  },
  {
   "cell_type": "code",
   "execution_count": 54,
   "id": "8d054cd5-bf4a-484e-af57-9dbc791b9ef6",
   "metadata": {},
   "outputs": [
    {
     "data": {
      "text/plain": [
       "tensor(4.9963)"
      ]
     },
     "execution_count": 54,
     "metadata": {},
     "output_type": "execute_result"
    }
   ],
   "source": [
    "sig((옥순성향 * 영식성향).sum())*5"
   ]
  },
  {
   "cell_type": "markdown",
   "id": "b05464fa-2bc8-46ee-b827-06fee4a871b3",
   "metadata": {},
   "source": [
    "- 나름 근거는 있음"
   ]
  },
  {
   "cell_type": "code",
   "execution_count": 56,
   "id": "5ee7b7e4-8276-4e9c-999f-4c9fbd6897b1",
   "metadata": {},
   "outputs": [
    {
     "data": {
      "text/plain": [
       "tensor(4.8683)"
      ]
     },
     "execution_count": 56,
     "metadata": {},
     "output_type": "execute_result"
    }
   ],
   "source": [
    "옥순성향 =  torch.tensor([0, 1.9])\n",
    "영식성향 =  torch.tensor([1.9, 1.9])\n",
    "sig((옥순성향 * 영식성향).sum())*5 # 조금 감소"
   ]
  },
  {
   "cell_type": "code",
   "execution_count": 57,
   "id": "0a3b0e25-bc08-4010-b41a-e10a7b2b9a46",
   "metadata": {},
   "outputs": [
    {
     "data": {
      "text/plain": [
       "tensor(-7.2200)"
      ]
     },
     "execution_count": 57,
     "metadata": {},
     "output_type": "execute_result"
    }
   ],
   "source": [
    "옥순성향 =  torch.tensor([1.9, 1.9])\n",
    "영식성향 =  torch.tensor([-1.9, -1.9])\n",
    "(옥순성향 * 영식성향).sum()"
   ]
  },
  {
   "cell_type": "code",
   "execution_count": 58,
   "id": "9afba81f-568f-4d93-a13a-0dc8148b0356",
   "metadata": {},
   "outputs": [
    {
     "data": {
      "text/plain": [
       "tensor(0.0037)"
      ]
     },
     "execution_count": 58,
     "metadata": {},
     "output_type": "execute_result"
    }
   ],
   "source": [
    "sig((옥순성향 * 영식성향).sum())*5"
   ]
  },
  {
   "cell_type": "code",
   "execution_count": 60,
   "id": "12273962-ced0-4fc8-aa5e-d0fec43d97ee",
   "metadata": {},
   "outputs": [
    {
     "data": {
      "text/plain": [
       "tensor(2.5000)"
      ]
     },
     "execution_count": 60,
     "metadata": {},
     "output_type": "execute_result"
    }
   ],
   "source": [
    "옥순성향 =  torch.tensor([1.9, 1.9])\n",
    "영식성향 =  torch.tensor([1.9, -1.9])\n",
    "sig((옥순성향 * 영식성향).sum())*5"
   ]
  },
  {
   "cell_type": "markdown",
   "id": "f4171357-3657-4d07-9fec-359c7b11cee9",
   "metadata": {},
   "source": [
    ")🗣️"
   ]
  },
  {
   "cell_type": "code",
   "execution_count": 101,
   "id": "a26d5bd8-3e2f-4a50-a9cc-119e91d859fd",
   "metadata": {},
   "outputs": [
    {
     "data": {
      "text/plain": [
       "tensor(4.9963)"
      ]
     },
     "execution_count": 101,
     "metadata": {},
     "output_type": "execute_result"
    }
   ],
   "source": [
    "옥순성향 =  torch.tensor([1.9, 1.9])\n",
    "영식성향 =  torch.tensor([1.9, 1.9])\n",
    "sig((옥순성향 *  영식성향).sum())*5"
   ]
  },
  {
   "cell_type": "markdown",
   "id": "3e97ba27-72bc-447c-9fe9-fc208290a393",
   "metadata": {},
   "source": [
    "**(2)** 서연(ES)과 규빈(ES)의 궁합 $\\approx$ 서연의I/E성향$\\times$규빈의I/E성향 $+$ 서연의N/S성향$\\times$규빈의N/S성향"
   ]
  },
  {
   "cell_type": "code",
   "execution_count": 102,
   "id": "1eac005d-14d5-4ba2-9c23-31d03e57512f",
   "metadata": {},
   "outputs": [
    {
     "data": {
      "text/plain": [
       "tensor(4.9963)"
      ]
     },
     "execution_count": 102,
     "metadata": {},
     "output_type": "execute_result"
    }
   ],
   "source": [
    "서연성향 =  torch.tensor([-1.9, -1.9])\n",
    "규빈성향 =  torch.tensor([-1.9, -1.9])\n",
    "sig((서연성향 *  규빈성향).sum())*5"
   ]
  },
  {
   "cell_type": "markdown",
   "id": "e5d9b146-c44c-464b-852a-3f4fcffb34fb",
   "metadata": {},
   "source": [
    "**(3)** 영자(IN)와 다호(ES)의 궁합 $\\approx$ 영자I/E성향$\\times$다호I/E성향 $+$ 영자N/S성향$\\times$다호의N/S성향"
   ]
  },
  {
   "cell_type": "code",
   "execution_count": 103,
   "id": "d45bdc26-e93d-4043-b245-6e139fe96c7f",
   "metadata": {},
   "outputs": [
    {
     "data": {
      "text/plain": [
       "tensor(0.0037)"
      ]
     },
     "execution_count": 103,
     "metadata": {},
     "output_type": "execute_result"
    }
   ],
   "source": [
    "영자성향 =  torch.tensor([1.9, 1.9])\n",
    "다호성향 =  torch.tensor([-1.9, -1.9])\n",
    "sig((영자성향 *  다호성향).sum())*5"
   ]
  },
  {
   "cell_type": "markdown",
   "id": "f9a09fb9-ce11-4944-be69-68098bdb6bf6",
   "metadata": {},
   "source": [
    "**(4)** 하니(I)와 영호(IS)의 궁합 $\\approx$ 하니I/E성향$\\times$영호I/E성향 $+$ 하니N/S성향$\\times$영호의N/S성향 $+$ **하니의매력**"
   ]
  },
  {
   "cell_type": "markdown",
   "id": "28f5445f-c5a1-4e53-afc9-1c7a982457f7",
   "metadata": {},
   "source": [
    "🗣️("
   ]
  },
  {
   "cell_type": "code",
   "execution_count": 61,
   "id": "e303418a-4f73-4b5a-a3e1-fc0fe53654d2",
   "metadata": {},
   "outputs": [
    {
     "data": {
      "text/plain": [
       "tensor(4.8683)"
      ]
     },
     "execution_count": 61,
     "metadata": {},
     "output_type": "execute_result"
    }
   ],
   "source": [
    "하니성향 =  torch.tensor([1.9, 0])\n",
    "영호성향 =  torch.tensor([1.9, -1.9])\n",
    "sig((하니성향 * 영호성향).sum())*5"
   ]
  },
  {
   "cell_type": "code",
   "execution_count": 61,
   "id": "6ead40a5-6124-42a4-9a1b-017c670b42c0",
   "metadata": {},
   "outputs": [
    {
     "data": {
      "text/plain": [
       "tensor(4.8683)"
      ]
     },
     "execution_count": 61,
     "metadata": {},
     "output_type": "execute_result"
    }
   ],
   "source": [
    "하니성향 =  torch.tensor([1.9, 0])\n",
    "영호성향 =  torch.tensor([1.9, -1.9])\n",
    "sig((하니성향 * 영호성향).sum())*5"
   ]
  },
  {
   "cell_type": "code",
   "execution_count": 62,
   "id": "e5a3debb-b30b-45e3-9fe3-f5ee2e7da852",
   "metadata": {},
   "outputs": [
    {
     "data": {
      "text/plain": [
       "tensor(0.1317)"
      ]
     },
     "execution_count": 62,
     "metadata": {},
     "output_type": "execute_result"
    }
   ],
   "source": [
    "하니성향 =  torch.tensor([1.9, 0])\n",
    "영호성향 =  torch.tensor([-1.9, -1.9])\n",
    "sig((하니성향 * 영호성향).sum())*5"
   ]
  },
  {
   "cell_type": "markdown",
   "id": "d5df6bfb-8f0d-43e3-be9f-cae3b772cf45",
   "metadata": {},
   "source": [
    "- 하니는 다 맞는다고 가정하였으므로 일괄적으로 상수를 더할 필요가 있음"
   ]
  },
  {
   "cell_type": "code",
   "execution_count": 63,
   "id": "d47e2ccc-1fac-4e36-a3b2-ebf5dc5cbbb5",
   "metadata": {},
   "outputs": [
    {
     "data": {
      "text/plain": [
       "tensor(4.0030)"
      ]
     },
     "execution_count": 63,
     "metadata": {},
     "output_type": "execute_result"
    }
   ],
   "source": [
    "하니성향 =  torch.tensor([1.9, 0])\n",
    "영호성향 =  torch.tensor([-1.9, -1.9])\n",
    "sig((하니성향 * 영호성향).sum() + 5)*5"
   ]
  },
  {
   "cell_type": "code",
   "execution_count": 65,
   "id": "e3a484e8-1404-4704-b739-3a0bb2c363c0",
   "metadata": {},
   "outputs": [
    {
     "data": {
      "text/plain": [
       "tensor(4.0030)"
      ]
     },
     "execution_count": 65,
     "metadata": {},
     "output_type": "execute_result"
    }
   ],
   "source": [
    "하니성향 =  torch.tensor([1.9, 0])\n",
    "하니매력 =  torch.tensor(5)\n",
    "영호성향 =  torch.tensor([-1.9, -1.9])\n",
    "sig((하니성향 *  영호성향).sum() + 하니매력)*5"
   ]
  },
  {
   "cell_type": "code",
   "execution_count": 66,
   "id": "08757546-479e-4620-87ca-e3856bdb748a",
   "metadata": {},
   "outputs": [
    {
     "data": {
      "text/plain": [
       "tensor(4.9991)"
      ]
     },
     "execution_count": 66,
     "metadata": {},
     "output_type": "execute_result"
    }
   ],
   "source": [
    "하니성향 =  torch.tensor([1.9, 0])\n",
    "하니매력 =  torch.tensor(5)\n",
    "영호성향 =  torch.tensor([1.9, -1.9])\n",
    "sig((하니성향 *  영호성향).sum() + 하니매력)*5 # 성향이 맞는다면 5 근처"
   ]
  },
  {
   "cell_type": "markdown",
   "id": "c64da664-c7e2-4135-aba9-ee73e8eb61fa",
   "metadata": {},
   "source": [
    ")🗣️"
   ]
  },
  {
   "cell_type": "code",
   "execution_count": 108,
   "id": "018c8e1e-0f50-4301-b12c-deb15ecee81d",
   "metadata": {},
   "outputs": [
    {
     "data": {
      "text/plain": [
       "tensor(4.9991)"
      ]
     },
     "execution_count": 108,
     "metadata": {},
     "output_type": "execute_result"
    }
   ],
   "source": [
    "하니성향 =  torch.tensor([1.9, 0])\n",
    "하니매력 =  torch.tensor(5)\n",
    "영호성향 =  torch.tensor([1.9, -1.9])\n",
    "sig((하니성향 *  영호성향).sum() + 하니매력)*5"
   ]
  },
  {
   "cell_type": "markdown",
   "id": "a8b8e1e5-2866-4ef6-910c-f3a6e1468631",
   "metadata": {},
   "source": [
    "`-` 전체 사용자의 설정값 "
   ]
  },
  {
   "cell_type": "markdown",
   "id": "75624646-4a80-4852-8b5a-b64ac03e6d50",
   "metadata": {},
   "source": [
    "🗣️("
   ]
  },
  {
   "cell_type": "code",
   "execution_count": 67,
   "id": "249d65a3-ee8a-4b8d-8275-172859b50140",
   "metadata": {},
   "outputs": [],
   "source": [
    "I, N = 1.8, 1.8"
   ]
  },
  {
   "cell_type": "code",
   "execution_count": 68,
   "id": "77ed83b9-3db4-4a20-8a9e-93772fdea1d2",
   "metadata": {},
   "outputs": [],
   "source": [
    "옥순성향  = torch.tensor([I,N])\n",
    "영자성향 = torch.tensor([I,N])\n",
    "정숙성향 = torch.tensor([I,-N])\n",
    "영숙성향 = torch.tensor([I,-N])\n",
    "순자성향 = torch.tensor([-I,N])\n",
    "현숙성향 = torch.tensor([-I,N])\n",
    "서연성향 = torch.tensor([-I,-N])\n",
    "보람성향 = torch.tensor([-I,-N])\n",
    "하니성향 = torch.tensor([I,0])"
   ]
  },
  {
   "cell_type": "code",
   "execution_count": 70,
   "id": "faa65d14-5720-4848-ac03-000e1f1ed68c",
   "metadata": {},
   "outputs": [
    {
     "data": {
      "text/plain": [
       "[tensor([1.8000, 1.8000]),\n",
       " tensor([1.8000, 1.8000]),\n",
       " tensor([ 1.8000, -1.8000]),\n",
       " tensor([ 1.8000, -1.8000]),\n",
       " tensor([-1.8000,  1.8000]),\n",
       " tensor([-1.8000,  1.8000]),\n",
       " tensor([-1.8000, -1.8000]),\n",
       " tensor([-1.8000, -1.8000]),\n",
       " tensor([1.8000, 0.0000])]"
      ]
     },
     "execution_count": 70,
     "metadata": {},
     "output_type": "execute_result"
    }
   ],
   "source": [
    "[옥순성향,영자성향,정숙성향,영숙성향,순자성향,현숙성향,서연성향,보람성향,하니성향] # torch 들을 묶은 리스트"
   ]
  },
  {
   "cell_type": "code",
   "execution_count": 71,
   "id": "b27f3cf9-113c-4b60-955f-e7516ad5cc48",
   "metadata": {},
   "outputs": [
    {
     "data": {
      "text/plain": [
       "tensor([[ 1.8000,  1.8000],\n",
       "        [ 1.8000,  1.8000],\n",
       "        [ 1.8000, -1.8000],\n",
       "        [ 1.8000, -1.8000],\n",
       "        [-1.8000,  1.8000],\n",
       "        [-1.8000,  1.8000],\n",
       "        [-1.8000, -1.8000],\n",
       "        [-1.8000, -1.8000],\n",
       "        [ 1.8000,  0.0000]])"
      ]
     },
     "execution_count": 71,
     "metadata": {},
     "output_type": "execute_result"
    }
   ],
   "source": [
    "torch.stack([옥순성향,영자성향,정숙성향,영숙성향,순자성향,현숙성향,서연성향,보람성향,하니성향]) # matrix"
   ]
  },
  {
   "cell_type": "code",
   "execution_count": 73,
   "id": "5a2ca0fe-81df-4974-aff3-a82281e12d4f",
   "metadata": {},
   "outputs": [
    {
     "data": {
      "text/plain": [
       "torch.Size([9, 2])"
      ]
     },
     "execution_count": 73,
     "metadata": {},
     "output_type": "execute_result"
    }
   ],
   "source": [
    "torch.stack([옥순성향,영자성향,정숙성향,영숙성향,순자성향,현숙성향,서연성향,보람성향,하니성향]).shape"
   ]
  },
  {
   "cell_type": "markdown",
   "id": "5a4d556f-437c-48ca-a921-22657500b52a",
   "metadata": {},
   "source": [
    "- 9: 출연자의 수 / 2: 성향의 수"
   ]
  },
  {
   "cell_type": "code",
   "execution_count": 74,
   "id": "bd6d061a-cb3b-43ae-9c37-4813463cfc73",
   "metadata": {},
   "outputs": [],
   "source": [
    "W = torch.stack([옥순성향,영자성향,정숙성향,영숙성향,순자성향,현숙성향,서연성향,보람성향,하니성향])"
   ]
  },
  {
   "cell_type": "markdown",
   "id": "54a2ef93-d016-463c-99fc-436c16a0049f",
   "metadata": {},
   "source": [
    "- 하니의 매력 점수도 만들고 싶음"
   ]
  },
  {
   "cell_type": "code",
   "execution_count": 76,
   "id": "944e6c3c-bff4-4721-886b-6793960db671",
   "metadata": {},
   "outputs": [
    {
     "data": {
      "text/plain": [
       "tensor([0, 0, 0, 0, 0, 0, 0, 0, 5])"
      ]
     },
     "execution_count": 76,
     "metadata": {},
     "output_type": "execute_result"
    }
   ],
   "source": [
    "torch.tensor([0,0,0,0,0,0,0,0,5])"
   ]
  },
  {
   "cell_type": "code",
   "execution_count": 78,
   "id": "00a44827-d0d8-49b4-ac37-58458669fba1",
   "metadata": {},
   "outputs": [
    {
     "data": {
      "text/plain": [
       "tensor([[0],\n",
       "        [0],\n",
       "        [0],\n",
       "        [0],\n",
       "        [0],\n",
       "        [0],\n",
       "        [0],\n",
       "        [0],\n",
       "        [5]])"
      ]
     },
     "execution_count": 78,
     "metadata": {},
     "output_type": "execute_result"
    }
   ],
   "source": [
    "torch.tensor([0,0,0,0,0,0,0,0,5]).reshape(-1,1)"
   ]
  },
  {
   "cell_type": "code",
   "execution_count": 79,
   "id": "86095399-a55e-48f0-9cac-387aac2d411c",
   "metadata": {},
   "outputs": [
    {
     "data": {
      "text/plain": [
       "(tensor([[ 1.8000,  1.8000],\n",
       "         [ 1.8000,  1.8000],\n",
       "         [ 1.8000, -1.8000],\n",
       "         [ 1.8000, -1.8000],\n",
       "         [-1.8000,  1.8000],\n",
       "         [-1.8000,  1.8000],\n",
       "         [-1.8000, -1.8000],\n",
       "         [-1.8000, -1.8000],\n",
       "         [ 1.8000,  0.0000]]),\n",
       " tensor([[0.],\n",
       "         [0.],\n",
       "         [0.],\n",
       "         [0.],\n",
       "         [0.],\n",
       "         [0.],\n",
       "         [0.],\n",
       "         [0.],\n",
       "         [5.]]))"
      ]
     },
     "execution_count": 79,
     "metadata": {},
     "output_type": "execute_result"
    }
   ],
   "source": [
    "옥순성향  = torch.tensor([I,N])\n",
    "영자성향 = torch.tensor([I,N])\n",
    "정숙성향 = torch.tensor([I,-N])\n",
    "영숙성향 = torch.tensor([I,-N])\n",
    "순자성향 = torch.tensor([-I,N])\n",
    "현숙성향 = torch.tensor([-I,N])\n",
    "서연성향 = torch.tensor([-I,-N])\n",
    "보람성향 = torch.tensor([-I,-N])\n",
    "하니성향 = torch.tensor([I,0])\n",
    "W = torch.stack([옥순성향,영자성향,정숙성향,영숙성향,순자성향,현숙성향,서연성향,보람성향,하니성향])\n",
    "b1 = torch.tensor([0,0,0,0,0,0,0,0,5]).reshape(-1,1).float()\n",
    "W,b1"
   ]
  },
  {
   "cell_type": "code",
   "execution_count": 80,
   "id": "dda7ac68-ae6c-4604-8381-f47cef6ac81b",
   "metadata": {},
   "outputs": [],
   "source": [
    "영식성향  = torch.tensor([I,N])\n",
    "영철성향 = torch.tensor([I,N])\n",
    "영호성향 = torch.tensor([I,-N])\n",
    "광수성향 = torch.tensor([I,-N])\n",
    "상철성향 = torch.tensor([-I,N])\n",
    "영수성향 = torch.tensor([-I,N])\n",
    "규빈성향 = torch.tensor([-I,-N])\n",
    "다호성향 = torch.tensor([-I,-N])\n",
    "M = torch.stack([영식성향,영철성향,영호성향,광수성향,상철성향,영수성향,규빈성향,다호성향])\n",
    "b2 = torch.tensor([0,0,0,0,0,0,0,0]).reshape(-1,1).float()"
   ]
  },
  {
   "cell_type": "code",
   "execution_count": 81,
   "id": "3714ebcf-57a1-47ee-b805-eec826a746de",
   "metadata": {},
   "outputs": [
    {
     "data": {
      "text/plain": [
       "(torch.Size([9, 2]),\n",
       " torch.Size([8, 2]),\n",
       " torch.Size([9, 1]),\n",
       " torch.Size([8, 1]))"
      ]
     },
     "execution_count": 81,
     "metadata": {},
     "output_type": "execute_result"
    }
   ],
   "source": [
    "W.shape, M.shape, b1.shape, b2.shape"
   ]
  },
  {
   "cell_type": "markdown",
   "id": "b67f58d8-b37d-40bb-9582-0b9265d7aa0a",
   "metadata": {},
   "source": [
    ")🗣️"
   ]
  },
  {
   "cell_type": "code",
   "execution_count": 143,
   "id": "0fcbe745-f4a5-40d3-ae5e-96d8a1f5428c",
   "metadata": {},
   "outputs": [],
   "source": [
    "I, N = 1.8, 0.9"
   ]
  },
  {
   "cell_type": "code",
   "execution_count": 144,
   "id": "ba8f1be6-15d7-493e-9993-72bda33c7fff",
   "metadata": {},
   "outputs": [
    {
     "data": {
      "text/plain": [
       "(tensor([[ 1.8000,  0.9000],\n",
       "         [ 1.8000,  0.9000],\n",
       "         [ 1.8000, -0.9000],\n",
       "         [ 1.8000, -0.9000],\n",
       "         [-1.8000,  0.9000],\n",
       "         [-1.8000,  0.9000],\n",
       "         [-1.8000, -0.9000],\n",
       "         [-1.8000, -0.9000],\n",
       "         [ 1.8000,  0.0000]]),\n",
       " tensor([[0.],\n",
       "         [0.],\n",
       "         [0.],\n",
       "         [0.],\n",
       "         [0.],\n",
       "         [0.],\n",
       "         [0.],\n",
       "         [0.],\n",
       "         [5.]]))"
      ]
     },
     "execution_count": 144,
     "metadata": {},
     "output_type": "execute_result"
    }
   ],
   "source": [
    "옥순성향  = torch.tensor([I,N])\n",
    "영자성향 = torch.tensor([I,N])\n",
    "정숙성향 = torch.tensor([I,-N])\n",
    "영숙성향 = torch.tensor([I,-N])\n",
    "순자성향 = torch.tensor([-I,N])\n",
    "현숙성향 = torch.tensor([-I,N])\n",
    "서연성향 = torch.tensor([-I,-N])\n",
    "보람성향 = torch.tensor([-I,-N])\n",
    "하니성향 = torch.tensor([I,0])\n",
    "W = torch.stack([옥순성향,영자성향,정숙성향,영숙성향,순자성향,현숙성향,서연성향,보람성향,하니성향])\n",
    "b1 = torch.tensor([0,0,0,0,0,0,0,0,5]).reshape(-1,1).float()\n",
    "W,b1"
   ]
  },
  {
   "cell_type": "code",
   "execution_count": 145,
   "id": "11790a78-bb5b-470e-8b91-6c9db27dd22f",
   "metadata": {},
   "outputs": [],
   "source": [
    "영식성향  = torch.tensor([I,N])\n",
    "영철성향 = torch.tensor([I,N])\n",
    "영호성향 = torch.tensor([I,-N])\n",
    "광수성향 = torch.tensor([I,-N])\n",
    "상철성향 = torch.tensor([-I,N])\n",
    "영수성향 = torch.tensor([-I,N])\n",
    "규빈성향 = torch.tensor([-I,-N])\n",
    "다호성향 = torch.tensor([-I,-N])\n",
    "M = torch.stack([영식성향,영철성향,영호성향,광수성향,상철성향,영수성향,규빈성향,다호성향])\n",
    "b2 = torch.tensor([0,0,0,0,0,0,0,0]).reshape(-1,1).float()"
   ]
  },
  {
   "cell_type": "code",
   "execution_count": 146,
   "id": "21c1dd39-a390-4348-b560-32fc20a8db26",
   "metadata": {},
   "outputs": [
    {
     "data": {
      "text/plain": [
       "(torch.Size([9, 2]),\n",
       " torch.Size([8, 2]),\n",
       " torch.Size([9, 1]),\n",
       " torch.Size([8, 1]))"
      ]
     },
     "execution_count": 146,
     "metadata": {},
     "output_type": "execute_result"
    }
   ],
   "source": [
    "W.shape, M.shape, b1.shape, b2.shape"
   ]
  },
  {
   "cell_type": "markdown",
   "id": "ac1af8c8-e68f-4660-b6a5-2cd19f165c26",
   "metadata": {},
   "source": [
    "`-` 아래의 행렬곱 관찰 "
   ]
  },
  {
   "cell_type": "markdown",
   "id": "173bcf6c-3f8c-4010-8b37-a440fc3987c9",
   "metadata": {},
   "source": [
    "🗣️("
   ]
  },
  {
   "cell_type": "code",
   "execution_count": 82,
   "id": "92010e12-4a07-44bb-8db1-93283a418604",
   "metadata": {},
   "outputs": [
    {
     "data": {
      "text/plain": [
       "(torch.Size([9, 2]),\n",
       " torch.Size([8, 2]),\n",
       " torch.Size([9, 1]),\n",
       " torch.Size([8, 1]))"
      ]
     },
     "execution_count": 82,
     "metadata": {},
     "output_type": "execute_result"
    }
   ],
   "source": [
    "W.shape, M.shape, b1.shape, b2.shape"
   ]
  },
  {
   "cell_type": "code",
   "execution_count": 85,
   "id": "69ae7baa-68ef-474d-a1a6-59e6050155e4",
   "metadata": {},
   "outputs": [
    {
     "data": {
      "text/html": [
       "<div>\n",
       "<style scoped>\n",
       "    .dataframe tbody tr th:only-of-type {\n",
       "        vertical-align: middle;\n",
       "    }\n",
       "\n",
       "    .dataframe tbody tr th {\n",
       "        vertical-align: top;\n",
       "    }\n",
       "\n",
       "    .dataframe thead th {\n",
       "        text-align: right;\n",
       "    }\n",
       "</style>\n",
       "<table border=\"1\" class=\"dataframe\">\n",
       "  <thead>\n",
       "    <tr style=\"text-align: right;\">\n",
       "      <th></th>\n",
       "      <th>영식(IN)</th>\n",
       "      <th>영철(IN)</th>\n",
       "      <th>영호(IS)</th>\n",
       "      <th>광수(IS)</th>\n",
       "      <th>상철(EN)</th>\n",
       "      <th>영수(EN)</th>\n",
       "      <th>규빈(ES)</th>\n",
       "      <th>다호(ES)</th>\n",
       "    </tr>\n",
       "  </thead>\n",
       "  <tbody>\n",
       "    <tr>\n",
       "      <th>옥순(IN)</th>\n",
       "      <td>NaN</td>\n",
       "      <td>4.02</td>\n",
       "      <td>3.45</td>\n",
       "      <td>3.42</td>\n",
       "      <td>0.84</td>\n",
       "      <td>1.12</td>\n",
       "      <td>0.43</td>\n",
       "      <td>0.49</td>\n",
       "    </tr>\n",
       "    <tr>\n",
       "      <th>영자(IN)</th>\n",
       "      <td>3.93</td>\n",
       "      <td>3.99</td>\n",
       "      <td>3.63</td>\n",
       "      <td>3.43</td>\n",
       "      <td>0.98</td>\n",
       "      <td>0.96</td>\n",
       "      <td>0.52</td>\n",
       "      <td>NaN</td>\n",
       "    </tr>\n",
       "    <tr>\n",
       "      <th>정숙(IS)</th>\n",
       "      <td>3.52</td>\n",
       "      <td>3.42</td>\n",
       "      <td>4.05</td>\n",
       "      <td>4.06</td>\n",
       "      <td>0.39</td>\n",
       "      <td>NaN</td>\n",
       "      <td>0.93</td>\n",
       "      <td>0.99</td>\n",
       "    </tr>\n",
       "    <tr>\n",
       "      <th>영숙(IS)</th>\n",
       "      <td>3.43</td>\n",
       "      <td>3.57</td>\n",
       "      <td>NaN</td>\n",
       "      <td>3.95</td>\n",
       "      <td>0.56</td>\n",
       "      <td>0.52</td>\n",
       "      <td>0.89</td>\n",
       "      <td>0.89</td>\n",
       "    </tr>\n",
       "    <tr>\n",
       "      <th>순자(EN)</th>\n",
       "      <td>1.12</td>\n",
       "      <td>NaN</td>\n",
       "      <td>0.59</td>\n",
       "      <td>0.43</td>\n",
       "      <td>4.01</td>\n",
       "      <td>4.16</td>\n",
       "      <td>3.52</td>\n",
       "      <td>3.38</td>\n",
       "    </tr>\n",
       "    <tr>\n",
       "      <th>현숙(EN)</th>\n",
       "      <td>0.94</td>\n",
       "      <td>1.05</td>\n",
       "      <td>0.32</td>\n",
       "      <td>0.45</td>\n",
       "      <td>4.02</td>\n",
       "      <td>3.78</td>\n",
       "      <td>NaN</td>\n",
       "      <td>3.54</td>\n",
       "    </tr>\n",
       "    <tr>\n",
       "      <th>서연(ES)</th>\n",
       "      <td>0.51</td>\n",
       "      <td>0.56</td>\n",
       "      <td>0.88</td>\n",
       "      <td>0.89</td>\n",
       "      <td>3.50</td>\n",
       "      <td>3.64</td>\n",
       "      <td>4.04</td>\n",
       "      <td>4.10</td>\n",
       "    </tr>\n",
       "    <tr>\n",
       "      <th>보람(ES)</th>\n",
       "      <td>0.48</td>\n",
       "      <td>0.51</td>\n",
       "      <td>1.03</td>\n",
       "      <td>NaN</td>\n",
       "      <td>3.52</td>\n",
       "      <td>4.00</td>\n",
       "      <td>3.82</td>\n",
       "      <td>NaN</td>\n",
       "    </tr>\n",
       "    <tr>\n",
       "      <th>하니(I)</th>\n",
       "      <td>4.85</td>\n",
       "      <td>4.82</td>\n",
       "      <td>NaN</td>\n",
       "      <td>4.98</td>\n",
       "      <td>4.53</td>\n",
       "      <td>4.39</td>\n",
       "      <td>4.45</td>\n",
       "      <td>4.52</td>\n",
       "    </tr>\n",
       "  </tbody>\n",
       "</table>\n",
       "</div>"
      ],
      "text/plain": [
       "        영식(IN)  영철(IN)  영호(IS)  광수(IS)  상철(EN)  영수(EN)  규빈(ES)  다호(ES)\n",
       "옥순(IN)     NaN    4.02    3.45    3.42    0.84    1.12    0.43    0.49\n",
       "영자(IN)    3.93    3.99    3.63    3.43    0.98    0.96    0.52     NaN\n",
       "정숙(IS)    3.52    3.42    4.05    4.06    0.39     NaN    0.93    0.99\n",
       "영숙(IS)    3.43    3.57     NaN    3.95    0.56    0.52    0.89    0.89\n",
       "순자(EN)    1.12     NaN    0.59    0.43    4.01    4.16    3.52    3.38\n",
       "현숙(EN)    0.94    1.05    0.32    0.45    4.02    3.78     NaN    3.54\n",
       "서연(ES)    0.51    0.56    0.88    0.89    3.50    3.64    4.04    4.10\n",
       "보람(ES)    0.48    0.51    1.03     NaN    3.52    4.00    3.82     NaN\n",
       "하니(I)     4.85    4.82     NaN    4.98    4.53    4.39    4.45    4.52"
      ]
     },
     "execution_count": 85,
     "metadata": {},
     "output_type": "execute_result"
    }
   ],
   "source": [
    "df_view"
   ]
  },
  {
   "cell_type": "code",
   "execution_count": 87,
   "id": "50997759-fe3c-4318-b9ac-9bbdbe6d1261",
   "metadata": {},
   "outputs": [
    {
     "data": {
      "text/plain": [
       "tensor([[0., 0., 0., 0., 0., 0., 0., 0.],\n",
       "        [0., 0., 0., 0., 0., 0., 0., 0.],\n",
       "        [0., 0., 0., 0., 0., 0., 0., 0.],\n",
       "        [0., 0., 0., 0., 0., 0., 0., 0.],\n",
       "        [0., 0., 0., 0., 0., 0., 0., 0.],\n",
       "        [0., 0., 0., 0., 0., 0., 0., 0.],\n",
       "        [0., 0., 0., 0., 0., 0., 0., 0.],\n",
       "        [0., 0., 0., 0., 0., 0., 0., 0.],\n",
       "        [5., 5., 5., 5., 5., 5., 5., 5.]])"
      ]
     },
     "execution_count": 87,
     "metadata": {},
     "output_type": "execute_result"
    }
   ],
   "source": [
    "b1 + b2.T # (9,1) + (1,8) 안되야하는데 됨(브로드캐스팅)"
   ]
  },
  {
   "cell_type": "markdown",
   "id": "3fff8c85-409d-4a86-8cbd-92150457e127",
   "metadata": {},
   "source": [
    "```\n",
    "[a        [ c d .... 0 ]       a+c  a+d  ... 0\n",
    " b                             b+c  b+d  ... 0 \n",
    " ...  +                   =    ...\n",
    " 5]                            5  5  5  ...  5  \n",
    "```"
   ]
  },
  {
   "cell_type": "code",
   "execution_count": 86,
   "id": "30ad43e6-ee7b-4495-b8b4-9cf9decd568b",
   "metadata": {},
   "outputs": [
    {
     "data": {
      "text/plain": [
       "tensor([[ 6.4800,  6.4800,  0.0000,  0.0000,  0.0000,  0.0000, -6.4800, -6.4800],\n",
       "        [ 6.4800,  6.4800,  0.0000,  0.0000,  0.0000,  0.0000, -6.4800, -6.4800],\n",
       "        [ 0.0000,  0.0000,  6.4800,  6.4800, -6.4800, -6.4800,  0.0000,  0.0000],\n",
       "        [ 0.0000,  0.0000,  6.4800,  6.4800, -6.4800, -6.4800,  0.0000,  0.0000],\n",
       "        [ 0.0000,  0.0000, -6.4800, -6.4800,  6.4800,  6.4800,  0.0000,  0.0000],\n",
       "        [ 0.0000,  0.0000, -6.4800, -6.4800,  6.4800,  6.4800,  0.0000,  0.0000],\n",
       "        [-6.4800, -6.4800,  0.0000,  0.0000,  0.0000,  0.0000,  6.4800,  6.4800],\n",
       "        [-6.4800, -6.4800,  0.0000,  0.0000,  0.0000,  0.0000,  6.4800,  6.4800],\n",
       "        [ 3.2400,  3.2400,  3.2400,  3.2400, -3.2400, -3.2400, -3.2400, -3.2400]])"
      ]
     },
     "execution_count": 86,
     "metadata": {},
     "output_type": "execute_result"
    }
   ],
   "source": [
    "W@M.T"
   ]
  },
  {
   "cell_type": "markdown",
   "id": "d6f7721e-2821-4e62-90b9-1e8ed67627f1",
   "metadata": {},
   "source": [
    "```\n",
    "[ a b    [ e g ...          [ae+bf ag+bh ...\n",
    "  c d      f h ... ]       \n",
    "  ...\n",
    "  ... ]\n",
    "```"
   ]
  },
  {
   "cell_type": "code",
   "execution_count": 88,
   "id": "4477715d-ef1d-458e-aff7-790f5ea87545",
   "metadata": {},
   "outputs": [
    {
     "data": {
      "text/plain": [
       "tensor([[4.9923, 4.9923, 2.5000, 2.5000, 2.5000, 2.5000, 0.0077, 0.0077],\n",
       "        [4.9923, 4.9923, 2.5000, 2.5000, 2.5000, 2.5000, 0.0077, 0.0077],\n",
       "        [2.5000, 2.5000, 4.9923, 4.9923, 0.0077, 0.0077, 2.5000, 2.5000],\n",
       "        [2.5000, 2.5000, 4.9923, 4.9923, 0.0077, 0.0077, 2.5000, 2.5000],\n",
       "        [2.5000, 2.5000, 0.0077, 0.0077, 4.9923, 4.9923, 2.5000, 2.5000],\n",
       "        [2.5000, 2.5000, 0.0077, 0.0077, 4.9923, 4.9923, 2.5000, 2.5000],\n",
       "        [0.0077, 0.0077, 2.5000, 2.5000, 2.5000, 2.5000, 4.9923, 4.9923],\n",
       "        [0.0077, 0.0077, 2.5000, 2.5000, 2.5000, 2.5000, 4.9923, 4.9923],\n",
       "        [4.8116, 4.8116, 4.8116, 4.8116, 0.1884, 0.1884, 0.1884, 0.1884]])"
      ]
     },
     "execution_count": 88,
     "metadata": {},
     "output_type": "execute_result"
    }
   ],
   "source": [
    "sig(W @ M.T + b1 @ b2.T) * 5"
   ]
  },
  {
   "cell_type": "code",
   "execution_count": 89,
   "id": "03191714-6783-47ed-938c-257b726baeda",
   "metadata": {},
   "outputs": [
    {
     "data": {
      "text/html": [
       "<div>\n",
       "<style scoped>\n",
       "    .dataframe tbody tr th:only-of-type {\n",
       "        vertical-align: middle;\n",
       "    }\n",
       "\n",
       "    .dataframe tbody tr th {\n",
       "        vertical-align: top;\n",
       "    }\n",
       "\n",
       "    .dataframe thead th {\n",
       "        text-align: right;\n",
       "    }\n",
       "</style>\n",
       "<table border=\"1\" class=\"dataframe\">\n",
       "  <thead>\n",
       "    <tr style=\"text-align: right;\">\n",
       "      <th></th>\n",
       "      <th>영식(IN)</th>\n",
       "      <th>영철(IN)</th>\n",
       "      <th>영호(IS)</th>\n",
       "      <th>광수(IS)</th>\n",
       "      <th>상철(EN)</th>\n",
       "      <th>영수(EN)</th>\n",
       "      <th>규빈(ES)</th>\n",
       "      <th>다호(ES)</th>\n",
       "    </tr>\n",
       "  </thead>\n",
       "  <tbody>\n",
       "    <tr>\n",
       "      <th>옥순(IN)</th>\n",
       "      <td>NaN</td>\n",
       "      <td>4.02</td>\n",
       "      <td>3.45</td>\n",
       "      <td>3.42</td>\n",
       "      <td>0.84</td>\n",
       "      <td>1.12</td>\n",
       "      <td>0.43</td>\n",
       "      <td>0.49</td>\n",
       "    </tr>\n",
       "    <tr>\n",
       "      <th>영자(IN)</th>\n",
       "      <td>3.93</td>\n",
       "      <td>3.99</td>\n",
       "      <td>3.63</td>\n",
       "      <td>3.43</td>\n",
       "      <td>0.98</td>\n",
       "      <td>0.96</td>\n",
       "      <td>0.52</td>\n",
       "      <td>NaN</td>\n",
       "    </tr>\n",
       "    <tr>\n",
       "      <th>정숙(IS)</th>\n",
       "      <td>3.52</td>\n",
       "      <td>3.42</td>\n",
       "      <td>4.05</td>\n",
       "      <td>4.06</td>\n",
       "      <td>0.39</td>\n",
       "      <td>NaN</td>\n",
       "      <td>0.93</td>\n",
       "      <td>0.99</td>\n",
       "    </tr>\n",
       "    <tr>\n",
       "      <th>영숙(IS)</th>\n",
       "      <td>3.43</td>\n",
       "      <td>3.57</td>\n",
       "      <td>NaN</td>\n",
       "      <td>3.95</td>\n",
       "      <td>0.56</td>\n",
       "      <td>0.52</td>\n",
       "      <td>0.89</td>\n",
       "      <td>0.89</td>\n",
       "    </tr>\n",
       "    <tr>\n",
       "      <th>순자(EN)</th>\n",
       "      <td>1.12</td>\n",
       "      <td>NaN</td>\n",
       "      <td>0.59</td>\n",
       "      <td>0.43</td>\n",
       "      <td>4.01</td>\n",
       "      <td>4.16</td>\n",
       "      <td>3.52</td>\n",
       "      <td>3.38</td>\n",
       "    </tr>\n",
       "    <tr>\n",
       "      <th>현숙(EN)</th>\n",
       "      <td>0.94</td>\n",
       "      <td>1.05</td>\n",
       "      <td>0.32</td>\n",
       "      <td>0.45</td>\n",
       "      <td>4.02</td>\n",
       "      <td>3.78</td>\n",
       "      <td>NaN</td>\n",
       "      <td>3.54</td>\n",
       "    </tr>\n",
       "    <tr>\n",
       "      <th>서연(ES)</th>\n",
       "      <td>0.51</td>\n",
       "      <td>0.56</td>\n",
       "      <td>0.88</td>\n",
       "      <td>0.89</td>\n",
       "      <td>3.50</td>\n",
       "      <td>3.64</td>\n",
       "      <td>4.04</td>\n",
       "      <td>4.10</td>\n",
       "    </tr>\n",
       "    <tr>\n",
       "      <th>보람(ES)</th>\n",
       "      <td>0.48</td>\n",
       "      <td>0.51</td>\n",
       "      <td>1.03</td>\n",
       "      <td>NaN</td>\n",
       "      <td>3.52</td>\n",
       "      <td>4.00</td>\n",
       "      <td>3.82</td>\n",
       "      <td>NaN</td>\n",
       "    </tr>\n",
       "    <tr>\n",
       "      <th>하니(I)</th>\n",
       "      <td>4.85</td>\n",
       "      <td>4.82</td>\n",
       "      <td>NaN</td>\n",
       "      <td>4.98</td>\n",
       "      <td>4.53</td>\n",
       "      <td>4.39</td>\n",
       "      <td>4.45</td>\n",
       "      <td>4.52</td>\n",
       "    </tr>\n",
       "  </tbody>\n",
       "</table>\n",
       "</div>"
      ],
      "text/plain": [
       "        영식(IN)  영철(IN)  영호(IS)  광수(IS)  상철(EN)  영수(EN)  규빈(ES)  다호(ES)\n",
       "옥순(IN)     NaN    4.02    3.45    3.42    0.84    1.12    0.43    0.49\n",
       "영자(IN)    3.93    3.99    3.63    3.43    0.98    0.96    0.52     NaN\n",
       "정숙(IS)    3.52    3.42    4.05    4.06    0.39     NaN    0.93    0.99\n",
       "영숙(IS)    3.43    3.57     NaN    3.95    0.56    0.52    0.89    0.89\n",
       "순자(EN)    1.12     NaN    0.59    0.43    4.01    4.16    3.52    3.38\n",
       "현숙(EN)    0.94    1.05    0.32    0.45    4.02    3.78     NaN    3.54\n",
       "서연(ES)    0.51    0.56    0.88    0.89    3.50    3.64    4.04    4.10\n",
       "보람(ES)    0.48    0.51    1.03     NaN    3.52    4.00    3.82     NaN\n",
       "하니(I)     4.85    4.82     NaN    4.98    4.53    4.39    4.45    4.52"
      ]
     },
     "execution_count": 89,
     "metadata": {},
     "output_type": "execute_result"
    }
   ],
   "source": [
    "df_view"
   ]
  },
  {
   "cell_type": "markdown",
   "id": "5f9665f9-b607-4e64-8106-67238d590fc9",
   "metadata": {},
   "source": [
    "- 경향은 맞는 것 같은데 가운데 부분은 조정이 필요해 보임"
   ]
  },
  {
   "cell_type": "code",
   "execution_count": 90,
   "id": "ae548809-6f57-4684-ac20-e4077b0050b6",
   "metadata": {},
   "outputs": [],
   "source": [
    "I, N = 1.8, 0.9"
   ]
  },
  {
   "cell_type": "code",
   "execution_count": 91,
   "id": "0144fb08-6079-4dc4-bc43-da509f02c737",
   "metadata": {},
   "outputs": [
    {
     "data": {
      "text/plain": [
       "(tensor([[ 1.8000,  0.9000],\n",
       "         [ 1.8000,  0.9000],\n",
       "         [ 1.8000, -0.9000],\n",
       "         [ 1.8000, -0.9000],\n",
       "         [-1.8000,  0.9000],\n",
       "         [-1.8000,  0.9000],\n",
       "         [-1.8000, -0.9000],\n",
       "         [-1.8000, -0.9000],\n",
       "         [ 1.8000,  0.0000]]),\n",
       " tensor([[0.],\n",
       "         [0.],\n",
       "         [0.],\n",
       "         [0.],\n",
       "         [0.],\n",
       "         [0.],\n",
       "         [0.],\n",
       "         [0.],\n",
       "         [5.]]))"
      ]
     },
     "execution_count": 91,
     "metadata": {},
     "output_type": "execute_result"
    }
   ],
   "source": [
    "옥순성향  = torch.tensor([I,N])\n",
    "영자성향 = torch.tensor([I,N])\n",
    "정숙성향 = torch.tensor([I,-N])\n",
    "영숙성향 = torch.tensor([I,-N])\n",
    "순자성향 = torch.tensor([-I,N])\n",
    "현숙성향 = torch.tensor([-I,N])\n",
    "서연성향 = torch.tensor([-I,-N])\n",
    "보람성향 = torch.tensor([-I,-N])\n",
    "하니성향 = torch.tensor([I,0])\n",
    "W = torch.stack([옥순성향,영자성향,정숙성향,영숙성향,순자성향,현숙성향,서연성향,보람성향,하니성향])\n",
    "b1 = torch.tensor([0,0,0,0,0,0,0,0,5]).reshape(-1,1).float()\n",
    "W,b1"
   ]
  },
  {
   "cell_type": "code",
   "execution_count": 92,
   "id": "cb9df1c1-96a3-4e78-8dbd-0dc4e46c88b7",
   "metadata": {},
   "outputs": [],
   "source": [
    "영식성향  = torch.tensor([I,N])\n",
    "영철성향 = torch.tensor([I,N])\n",
    "영호성향 = torch.tensor([I,-N])\n",
    "광수성향 = torch.tensor([I,-N])\n",
    "상철성향 = torch.tensor([-I,N])\n",
    "영수성향 = torch.tensor([-I,N])\n",
    "규빈성향 = torch.tensor([-I,-N])\n",
    "다호성향 = torch.tensor([-I,-N])\n",
    "M = torch.stack([영식성향,영철성향,영호성향,광수성향,상철성향,영수성향,규빈성향,다호성향])\n",
    "b2 = torch.tensor([0,0,0,0,0,0,0,0]).reshape(-1,1).float()"
   ]
  },
  {
   "cell_type": "code",
   "execution_count": 93,
   "id": "329d3a5a-0219-4383-869d-2b653e9e6b7e",
   "metadata": {},
   "outputs": [
    {
     "data": {
      "text/plain": [
       "tensor([[4.9144, 4.9144, 4.5954, 4.5954, 0.4046, 0.4046, 0.0856, 0.0856],\n",
       "        [4.9144, 4.9144, 4.5954, 4.5954, 0.4046, 0.4046, 0.0856, 0.0856],\n",
       "        [4.5954, 4.5954, 4.9144, 4.9144, 0.0856, 0.0856, 0.4046, 0.4046],\n",
       "        [4.5954, 4.5954, 4.9144, 4.9144, 0.0856, 0.0856, 0.4046, 0.4046],\n",
       "        [0.4046, 0.4046, 0.0856, 0.0856, 4.9144, 4.9144, 4.5954, 4.5954],\n",
       "        [0.4046, 0.4046, 0.0856, 0.0856, 4.9144, 4.9144, 4.5954, 4.5954],\n",
       "        [0.0856, 0.0856, 0.4046, 0.4046, 4.5954, 4.5954, 4.9144, 4.9144],\n",
       "        [0.0856, 0.0856, 0.4046, 0.4046, 4.5954, 4.5954, 4.9144, 4.9144],\n",
       "        [4.8116, 4.8116, 4.8116, 4.8116, 0.1884, 0.1884, 0.1884, 0.1884]])"
      ]
     },
     "execution_count": 93,
     "metadata": {},
     "output_type": "execute_result"
    }
   ],
   "source": [
    "sig(W @ M.T + b1 @ b2.T) * 5"
   ]
  },
  {
   "cell_type": "code",
   "execution_count": 94,
   "id": "8678a087-3cf9-412d-81a9-7e8ca8652be1",
   "metadata": {},
   "outputs": [
    {
     "data": {
      "text/html": [
       "<div>\n",
       "<style scoped>\n",
       "    .dataframe tbody tr th:only-of-type {\n",
       "        vertical-align: middle;\n",
       "    }\n",
       "\n",
       "    .dataframe tbody tr th {\n",
       "        vertical-align: top;\n",
       "    }\n",
       "\n",
       "    .dataframe thead th {\n",
       "        text-align: right;\n",
       "    }\n",
       "</style>\n",
       "<table border=\"1\" class=\"dataframe\">\n",
       "  <thead>\n",
       "    <tr style=\"text-align: right;\">\n",
       "      <th></th>\n",
       "      <th>영식(IN)</th>\n",
       "      <th>영철(IN)</th>\n",
       "      <th>영호(IS)</th>\n",
       "      <th>광수(IS)</th>\n",
       "      <th>상철(EN)</th>\n",
       "      <th>영수(EN)</th>\n",
       "      <th>규빈(ES)</th>\n",
       "      <th>다호(ES)</th>\n",
       "    </tr>\n",
       "  </thead>\n",
       "  <tbody>\n",
       "    <tr>\n",
       "      <th>옥순(IN)</th>\n",
       "      <td>NaN</td>\n",
       "      <td>4.02</td>\n",
       "      <td>3.45</td>\n",
       "      <td>3.42</td>\n",
       "      <td>0.84</td>\n",
       "      <td>1.12</td>\n",
       "      <td>0.43</td>\n",
       "      <td>0.49</td>\n",
       "    </tr>\n",
       "    <tr>\n",
       "      <th>영자(IN)</th>\n",
       "      <td>3.93</td>\n",
       "      <td>3.99</td>\n",
       "      <td>3.63</td>\n",
       "      <td>3.43</td>\n",
       "      <td>0.98</td>\n",
       "      <td>0.96</td>\n",
       "      <td>0.52</td>\n",
       "      <td>NaN</td>\n",
       "    </tr>\n",
       "    <tr>\n",
       "      <th>정숙(IS)</th>\n",
       "      <td>3.52</td>\n",
       "      <td>3.42</td>\n",
       "      <td>4.05</td>\n",
       "      <td>4.06</td>\n",
       "      <td>0.39</td>\n",
       "      <td>NaN</td>\n",
       "      <td>0.93</td>\n",
       "      <td>0.99</td>\n",
       "    </tr>\n",
       "    <tr>\n",
       "      <th>영숙(IS)</th>\n",
       "      <td>3.43</td>\n",
       "      <td>3.57</td>\n",
       "      <td>NaN</td>\n",
       "      <td>3.95</td>\n",
       "      <td>0.56</td>\n",
       "      <td>0.52</td>\n",
       "      <td>0.89</td>\n",
       "      <td>0.89</td>\n",
       "    </tr>\n",
       "    <tr>\n",
       "      <th>순자(EN)</th>\n",
       "      <td>1.12</td>\n",
       "      <td>NaN</td>\n",
       "      <td>0.59</td>\n",
       "      <td>0.43</td>\n",
       "      <td>4.01</td>\n",
       "      <td>4.16</td>\n",
       "      <td>3.52</td>\n",
       "      <td>3.38</td>\n",
       "    </tr>\n",
       "    <tr>\n",
       "      <th>현숙(EN)</th>\n",
       "      <td>0.94</td>\n",
       "      <td>1.05</td>\n",
       "      <td>0.32</td>\n",
       "      <td>0.45</td>\n",
       "      <td>4.02</td>\n",
       "      <td>3.78</td>\n",
       "      <td>NaN</td>\n",
       "      <td>3.54</td>\n",
       "    </tr>\n",
       "    <tr>\n",
       "      <th>서연(ES)</th>\n",
       "      <td>0.51</td>\n",
       "      <td>0.56</td>\n",
       "      <td>0.88</td>\n",
       "      <td>0.89</td>\n",
       "      <td>3.50</td>\n",
       "      <td>3.64</td>\n",
       "      <td>4.04</td>\n",
       "      <td>4.10</td>\n",
       "    </tr>\n",
       "    <tr>\n",
       "      <th>보람(ES)</th>\n",
       "      <td>0.48</td>\n",
       "      <td>0.51</td>\n",
       "      <td>1.03</td>\n",
       "      <td>NaN</td>\n",
       "      <td>3.52</td>\n",
       "      <td>4.00</td>\n",
       "      <td>3.82</td>\n",
       "      <td>NaN</td>\n",
       "    </tr>\n",
       "    <tr>\n",
       "      <th>하니(I)</th>\n",
       "      <td>4.85</td>\n",
       "      <td>4.82</td>\n",
       "      <td>NaN</td>\n",
       "      <td>4.98</td>\n",
       "      <td>4.53</td>\n",
       "      <td>4.39</td>\n",
       "      <td>4.45</td>\n",
       "      <td>4.52</td>\n",
       "    </tr>\n",
       "  </tbody>\n",
       "</table>\n",
       "</div>"
      ],
      "text/plain": [
       "        영식(IN)  영철(IN)  영호(IS)  광수(IS)  상철(EN)  영수(EN)  규빈(ES)  다호(ES)\n",
       "옥순(IN)     NaN    4.02    3.45    3.42    0.84    1.12    0.43    0.49\n",
       "영자(IN)    3.93    3.99    3.63    3.43    0.98    0.96    0.52     NaN\n",
       "정숙(IS)    3.52    3.42    4.05    4.06    0.39     NaN    0.93    0.99\n",
       "영숙(IS)    3.43    3.57     NaN    3.95    0.56    0.52    0.89    0.89\n",
       "순자(EN)    1.12     NaN    0.59    0.43    4.01    4.16    3.52    3.38\n",
       "현숙(EN)    0.94    1.05    0.32    0.45    4.02    3.78     NaN    3.54\n",
       "서연(ES)    0.51    0.56    0.88    0.89    3.50    3.64    4.04    4.10\n",
       "보람(ES)    0.48    0.51    1.03     NaN    3.52    4.00    3.82     NaN\n",
       "하니(I)     4.85    4.82     NaN    4.98    4.53    4.39    4.45    4.52"
      ]
     },
     "execution_count": 94,
     "metadata": {},
     "output_type": "execute_result"
    }
   ],
   "source": [
    "df_view"
   ]
  },
  {
   "cell_type": "markdown",
   "id": "f760087d-c36f-462e-a2c0-9abeab31740a",
   "metadata": {},
   "source": [
    "- 완전히 맞지는 않지만 이런 식으로 하면 될 것 같음\n",
    "    - 정확한 수치는 optimizer가 찾게 "
   ]
  },
  {
   "cell_type": "markdown",
   "id": "7a8bb892-527c-4b8f-a7e6-9ca6ed76f076",
   "metadata": {},
   "source": [
    ")🗣️"
   ]
  },
  {
   "cell_type": "code",
   "execution_count": 148,
   "id": "76145fa5-d55d-4824-93ab-12b3eb16aa92",
   "metadata": {},
   "outputs": [
    {
     "data": {
      "text/plain": [
       "tensor([[4.9144, 4.9144, 4.5954, 4.5954, 0.4046, 0.4046, 0.0856, 0.0856],\n",
       "        [4.9144, 4.9144, 4.5954, 4.5954, 0.4046, 0.4046, 0.0856, 0.0856],\n",
       "        [4.5954, 4.5954, 4.9144, 4.9144, 0.0856, 0.0856, 0.4046, 0.4046],\n",
       "        [4.5954, 4.5954, 4.9144, 4.9144, 0.0856, 0.0856, 0.4046, 0.4046],\n",
       "        [0.4046, 0.4046, 0.0856, 0.0856, 4.9144, 4.9144, 4.5954, 4.5954],\n",
       "        [0.4046, 0.4046, 0.0856, 0.0856, 4.9144, 4.9144, 4.5954, 4.5954],\n",
       "        [0.0856, 0.0856, 0.4046, 0.4046, 4.5954, 4.5954, 4.9144, 4.9144],\n",
       "        [0.0856, 0.0856, 0.4046, 0.4046, 4.5954, 4.5954, 4.9144, 4.9144],\n",
       "        [4.9987, 4.9987, 4.9987, 4.9987, 4.2660, 4.2660, 4.2660, 4.2660]])"
      ]
     },
     "execution_count": 148,
     "metadata": {},
     "output_type": "execute_result"
    }
   ],
   "source": [
    "sig(W @ M.T + b1 + b2.T)*5"
   ]
  },
  {
   "cell_type": "code",
   "execution_count": 133,
   "id": "b39e5ba0-1251-4b09-ac4c-b9fc306da1bd",
   "metadata": {},
   "outputs": [
    {
     "data": {
      "text/html": [
       "<div>\n",
       "<style scoped>\n",
       "    .dataframe tbody tr th:only-of-type {\n",
       "        vertical-align: middle;\n",
       "    }\n",
       "\n",
       "    .dataframe tbody tr th {\n",
       "        vertical-align: top;\n",
       "    }\n",
       "\n",
       "    .dataframe thead th {\n",
       "        text-align: right;\n",
       "    }\n",
       "</style>\n",
       "<table border=\"1\" class=\"dataframe\">\n",
       "  <thead>\n",
       "    <tr style=\"text-align: right;\">\n",
       "      <th></th>\n",
       "      <th>영식(IN)</th>\n",
       "      <th>영철(IN)</th>\n",
       "      <th>영호(IS)</th>\n",
       "      <th>광수(IS)</th>\n",
       "      <th>상철(EN)</th>\n",
       "      <th>영수(EN)</th>\n",
       "      <th>규빈(ES)</th>\n",
       "      <th>다호(ES)</th>\n",
       "    </tr>\n",
       "  </thead>\n",
       "  <tbody>\n",
       "    <tr>\n",
       "      <th>옥순(IN)</th>\n",
       "      <td>NaN</td>\n",
       "      <td>4.02</td>\n",
       "      <td>3.45</td>\n",
       "      <td>3.42</td>\n",
       "      <td>0.84</td>\n",
       "      <td>1.12</td>\n",
       "      <td>0.43</td>\n",
       "      <td>0.49</td>\n",
       "    </tr>\n",
       "    <tr>\n",
       "      <th>영자(IN)</th>\n",
       "      <td>3.93</td>\n",
       "      <td>3.99</td>\n",
       "      <td>3.63</td>\n",
       "      <td>3.43</td>\n",
       "      <td>0.98</td>\n",
       "      <td>0.96</td>\n",
       "      <td>0.52</td>\n",
       "      <td>NaN</td>\n",
       "    </tr>\n",
       "    <tr>\n",
       "      <th>정숙(IS)</th>\n",
       "      <td>3.52</td>\n",
       "      <td>3.42</td>\n",
       "      <td>4.05</td>\n",
       "      <td>4.06</td>\n",
       "      <td>0.39</td>\n",
       "      <td>NaN</td>\n",
       "      <td>0.93</td>\n",
       "      <td>0.99</td>\n",
       "    </tr>\n",
       "    <tr>\n",
       "      <th>영숙(IS)</th>\n",
       "      <td>3.43</td>\n",
       "      <td>3.57</td>\n",
       "      <td>NaN</td>\n",
       "      <td>3.95</td>\n",
       "      <td>0.56</td>\n",
       "      <td>0.52</td>\n",
       "      <td>0.89</td>\n",
       "      <td>0.89</td>\n",
       "    </tr>\n",
       "    <tr>\n",
       "      <th>순자(EN)</th>\n",
       "      <td>1.12</td>\n",
       "      <td>NaN</td>\n",
       "      <td>0.59</td>\n",
       "      <td>0.43</td>\n",
       "      <td>4.01</td>\n",
       "      <td>4.16</td>\n",
       "      <td>3.52</td>\n",
       "      <td>3.38</td>\n",
       "    </tr>\n",
       "    <tr>\n",
       "      <th>현숙(EN)</th>\n",
       "      <td>0.94</td>\n",
       "      <td>1.05</td>\n",
       "      <td>0.32</td>\n",
       "      <td>0.45</td>\n",
       "      <td>4.02</td>\n",
       "      <td>3.78</td>\n",
       "      <td>NaN</td>\n",
       "      <td>3.54</td>\n",
       "    </tr>\n",
       "    <tr>\n",
       "      <th>서연(ES)</th>\n",
       "      <td>0.51</td>\n",
       "      <td>0.56</td>\n",
       "      <td>0.88</td>\n",
       "      <td>0.89</td>\n",
       "      <td>3.50</td>\n",
       "      <td>3.64</td>\n",
       "      <td>4.04</td>\n",
       "      <td>4.10</td>\n",
       "    </tr>\n",
       "    <tr>\n",
       "      <th>보람(ES)</th>\n",
       "      <td>0.48</td>\n",
       "      <td>0.51</td>\n",
       "      <td>1.03</td>\n",
       "      <td>NaN</td>\n",
       "      <td>3.52</td>\n",
       "      <td>4.00</td>\n",
       "      <td>3.82</td>\n",
       "      <td>NaN</td>\n",
       "    </tr>\n",
       "    <tr>\n",
       "      <th>하니(I)</th>\n",
       "      <td>4.85</td>\n",
       "      <td>4.82</td>\n",
       "      <td>NaN</td>\n",
       "      <td>4.98</td>\n",
       "      <td>4.53</td>\n",
       "      <td>4.39</td>\n",
       "      <td>4.45</td>\n",
       "      <td>4.52</td>\n",
       "    </tr>\n",
       "  </tbody>\n",
       "</table>\n",
       "</div>"
      ],
      "text/plain": [
       "        영식(IN)  영철(IN)  영호(IS)  광수(IS)  상철(EN)  영수(EN)  규빈(ES)  다호(ES)\n",
       "옥순(IN)     NaN    4.02    3.45    3.42    0.84    1.12    0.43    0.49\n",
       "영자(IN)    3.93    3.99    3.63    3.43    0.98    0.96    0.52     NaN\n",
       "정숙(IS)    3.52    3.42    4.05    4.06    0.39     NaN    0.93    0.99\n",
       "영숙(IS)    3.43    3.57     NaN    3.95    0.56    0.52    0.89    0.89\n",
       "순자(EN)    1.12     NaN    0.59    0.43    4.01    4.16    3.52    3.38\n",
       "현숙(EN)    0.94    1.05    0.32    0.45    4.02    3.78     NaN    3.54\n",
       "서연(ES)    0.51    0.56    0.88    0.89    3.50    3.64    4.04    4.10\n",
       "보람(ES)    0.48    0.51    1.03     NaN    3.52    4.00    3.82     NaN\n",
       "하니(I)     4.85    4.82     NaN    4.98    4.53    4.39    4.45    4.52"
      ]
     },
     "execution_count": 133,
     "metadata": {},
     "output_type": "execute_result"
    }
   ],
   "source": [
    "df_view"
   ]
  },
  {
   "cell_type": "markdown",
   "id": "8e837709-1ab4-437f-a216-369df090234a",
   "metadata": {
    "tags": []
   },
   "source": [
    "`-` 모델링 "
   ]
  },
  {
   "cell_type": "markdown",
   "id": "a9322248-b04a-4e23-bee1-d3b519c6176b",
   "metadata": {},
   "source": [
    "$${\\tt df\\_view} \\approx sig\\left({\\bf W}@{\\bf M}^\\top + bias \\right) \\times 5$$"
   ]
  },
  {
   "cell_type": "markdown",
   "id": "e076b1d9-4a90-4b5a-b34d-c5089628045f",
   "metadata": {},
   "source": [
    "`-` 자료를 아래와 같이 정리한다면?"
   ]
  },
  {
   "cell_type": "markdown",
   "id": "7802089b-fc04-41ce-bee6-ceeaeb362dcf",
   "metadata": {},
   "source": [
    "🗣️("
   ]
  },
  {
   "cell_type": "code",
   "execution_count": 95,
   "id": "79829b92-9df4-4488-87ae-58a0725d5337",
   "metadata": {},
   "outputs": [
    {
     "data": {
      "text/plain": [
       "옥순(IN)  영철(IN)    4.02\n",
       "        영호(IS)    3.45\n",
       "        광수(IS)    3.42\n",
       "        상철(EN)    0.84\n",
       "        영수(EN)    1.12\n",
       "                  ... \n",
       "하니(I)   광수(IS)    4.98\n",
       "        상철(EN)    4.53\n",
       "        영수(EN)    4.39\n",
       "        규빈(ES)    4.45\n",
       "        다호(ES)    4.52\n",
       "Length: 63, dtype: float64"
      ]
     },
     "execution_count": 95,
     "metadata": {},
     "output_type": "execute_result"
    }
   ],
   "source": [
    "df_view.stack()"
   ]
  },
  {
   "cell_type": "code",
   "execution_count": 96,
   "id": "6cf75637-11aa-4f29-9a9d-b1290b1a3918",
   "metadata": {},
   "outputs": [
    {
     "data": {
      "text/html": [
       "<div>\n",
       "<style scoped>\n",
       "    .dataframe tbody tr th:only-of-type {\n",
       "        vertical-align: middle;\n",
       "    }\n",
       "\n",
       "    .dataframe tbody tr th {\n",
       "        vertical-align: top;\n",
       "    }\n",
       "\n",
       "    .dataframe thead th {\n",
       "        text-align: right;\n",
       "    }\n",
       "</style>\n",
       "<table border=\"1\" class=\"dataframe\">\n",
       "  <thead>\n",
       "    <tr style=\"text-align: right;\">\n",
       "      <th></th>\n",
       "      <th>level_0</th>\n",
       "      <th>level_1</th>\n",
       "      <th>0</th>\n",
       "    </tr>\n",
       "  </thead>\n",
       "  <tbody>\n",
       "    <tr>\n",
       "      <th>0</th>\n",
       "      <td>옥순(IN)</td>\n",
       "      <td>영철(IN)</td>\n",
       "      <td>4.02</td>\n",
       "    </tr>\n",
       "    <tr>\n",
       "      <th>1</th>\n",
       "      <td>옥순(IN)</td>\n",
       "      <td>영호(IS)</td>\n",
       "      <td>3.45</td>\n",
       "    </tr>\n",
       "    <tr>\n",
       "      <th>2</th>\n",
       "      <td>옥순(IN)</td>\n",
       "      <td>광수(IS)</td>\n",
       "      <td>3.42</td>\n",
       "    </tr>\n",
       "    <tr>\n",
       "      <th>3</th>\n",
       "      <td>옥순(IN)</td>\n",
       "      <td>상철(EN)</td>\n",
       "      <td>0.84</td>\n",
       "    </tr>\n",
       "    <tr>\n",
       "      <th>4</th>\n",
       "      <td>옥순(IN)</td>\n",
       "      <td>영수(EN)</td>\n",
       "      <td>1.12</td>\n",
       "    </tr>\n",
       "    <tr>\n",
       "      <th>...</th>\n",
       "      <td>...</td>\n",
       "      <td>...</td>\n",
       "      <td>...</td>\n",
       "    </tr>\n",
       "    <tr>\n",
       "      <th>58</th>\n",
       "      <td>하니(I)</td>\n",
       "      <td>광수(IS)</td>\n",
       "      <td>4.98</td>\n",
       "    </tr>\n",
       "    <tr>\n",
       "      <th>59</th>\n",
       "      <td>하니(I)</td>\n",
       "      <td>상철(EN)</td>\n",
       "      <td>4.53</td>\n",
       "    </tr>\n",
       "    <tr>\n",
       "      <th>60</th>\n",
       "      <td>하니(I)</td>\n",
       "      <td>영수(EN)</td>\n",
       "      <td>4.39</td>\n",
       "    </tr>\n",
       "    <tr>\n",
       "      <th>61</th>\n",
       "      <td>하니(I)</td>\n",
       "      <td>규빈(ES)</td>\n",
       "      <td>4.45</td>\n",
       "    </tr>\n",
       "    <tr>\n",
       "      <th>62</th>\n",
       "      <td>하니(I)</td>\n",
       "      <td>다호(ES)</td>\n",
       "      <td>4.52</td>\n",
       "    </tr>\n",
       "  </tbody>\n",
       "</table>\n",
       "<p>63 rows × 3 columns</p>\n",
       "</div>"
      ],
      "text/plain": [
       "   level_0 level_1     0\n",
       "0   옥순(IN)  영철(IN)  4.02\n",
       "1   옥순(IN)  영호(IS)  3.45\n",
       "2   옥순(IN)  광수(IS)  3.42\n",
       "3   옥순(IN)  상철(EN)  0.84\n",
       "4   옥순(IN)  영수(EN)  1.12\n",
       "..     ...     ...   ...\n",
       "58   하니(I)  광수(IS)  4.98\n",
       "59   하니(I)  상철(EN)  4.53\n",
       "60   하니(I)  영수(EN)  4.39\n",
       "61   하니(I)  규빈(ES)  4.45\n",
       "62   하니(I)  다호(ES)  4.52\n",
       "\n",
       "[63 rows x 3 columns]"
      ]
     },
     "execution_count": 96,
     "metadata": {},
     "output_type": "execute_result"
    }
   ],
   "source": [
    "df_view.stack().reset_index()"
   ]
  },
  {
   "cell_type": "markdown",
   "id": "44fcc82f-6349-44e7-9ded-a606eca2e54f",
   "metadata": {},
   "source": [
    "```\n",
    "위의 데이터를 가지고\n",
    "  옥순     영철  \n",
    "a1 a2 a' b1 b2 b' => a1b1 + a2b2 + a'+b' = yhat 의 네트워크를 짜고 싶음\n",
    "```"
   ]
  },
  {
   "cell_type": "code",
   "execution_count": 97,
   "id": "22d39dee-6959-4291-b49c-8991c151a953",
   "metadata": {},
   "outputs": [
    {
     "data": {
      "text/html": [
       "<div>\n",
       "<style scoped>\n",
       "    .dataframe tbody tr th:only-of-type {\n",
       "        vertical-align: middle;\n",
       "    }\n",
       "\n",
       "    .dataframe tbody tr th {\n",
       "        vertical-align: top;\n",
       "    }\n",
       "\n",
       "    .dataframe thead th {\n",
       "        text-align: right;\n",
       "    }\n",
       "</style>\n",
       "<table border=\"1\" class=\"dataframe\">\n",
       "  <thead>\n",
       "    <tr style=\"text-align: right;\">\n",
       "      <th></th>\n",
       "      <th>여성출연자</th>\n",
       "      <th>남성출연자</th>\n",
       "      <th>궁합점수</th>\n",
       "    </tr>\n",
       "  </thead>\n",
       "  <tbody>\n",
       "    <tr>\n",
       "      <th>0</th>\n",
       "      <td>옥순(IN)</td>\n",
       "      <td>영철(IN)</td>\n",
       "      <td>4.02</td>\n",
       "    </tr>\n",
       "    <tr>\n",
       "      <th>1</th>\n",
       "      <td>옥순(IN)</td>\n",
       "      <td>영호(IS)</td>\n",
       "      <td>3.45</td>\n",
       "    </tr>\n",
       "    <tr>\n",
       "      <th>2</th>\n",
       "      <td>옥순(IN)</td>\n",
       "      <td>광수(IS)</td>\n",
       "      <td>3.42</td>\n",
       "    </tr>\n",
       "    <tr>\n",
       "      <th>3</th>\n",
       "      <td>옥순(IN)</td>\n",
       "      <td>상철(EN)</td>\n",
       "      <td>0.84</td>\n",
       "    </tr>\n",
       "    <tr>\n",
       "      <th>4</th>\n",
       "      <td>옥순(IN)</td>\n",
       "      <td>영수(EN)</td>\n",
       "      <td>1.12</td>\n",
       "    </tr>\n",
       "    <tr>\n",
       "      <th>...</th>\n",
       "      <td>...</td>\n",
       "      <td>...</td>\n",
       "      <td>...</td>\n",
       "    </tr>\n",
       "    <tr>\n",
       "      <th>58</th>\n",
       "      <td>하니(I)</td>\n",
       "      <td>광수(IS)</td>\n",
       "      <td>4.98</td>\n",
       "    </tr>\n",
       "    <tr>\n",
       "      <th>59</th>\n",
       "      <td>하니(I)</td>\n",
       "      <td>상철(EN)</td>\n",
       "      <td>4.53</td>\n",
       "    </tr>\n",
       "    <tr>\n",
       "      <th>60</th>\n",
       "      <td>하니(I)</td>\n",
       "      <td>영수(EN)</td>\n",
       "      <td>4.39</td>\n",
       "    </tr>\n",
       "    <tr>\n",
       "      <th>61</th>\n",
       "      <td>하니(I)</td>\n",
       "      <td>규빈(ES)</td>\n",
       "      <td>4.45</td>\n",
       "    </tr>\n",
       "    <tr>\n",
       "      <th>62</th>\n",
       "      <td>하니(I)</td>\n",
       "      <td>다호(ES)</td>\n",
       "      <td>4.52</td>\n",
       "    </tr>\n",
       "  </tbody>\n",
       "</table>\n",
       "<p>63 rows × 3 columns</p>\n",
       "</div>"
      ],
      "text/plain": [
       "     여성출연자   남성출연자  궁합점수\n",
       "0   옥순(IN)  영철(IN)  4.02\n",
       "1   옥순(IN)  영호(IS)  3.45\n",
       "2   옥순(IN)  광수(IS)  3.42\n",
       "3   옥순(IN)  상철(EN)  0.84\n",
       "4   옥순(IN)  영수(EN)  1.12\n",
       "..     ...     ...   ...\n",
       "58   하니(I)  광수(IS)  4.98\n",
       "59   하니(I)  상철(EN)  4.53\n",
       "60   하니(I)  영수(EN)  4.39\n",
       "61   하니(I)  규빈(ES)  4.45\n",
       "62   하니(I)  다호(ES)  4.52\n",
       "\n",
       "[63 rows x 3 columns]"
      ]
     },
     "execution_count": 97,
     "metadata": {},
     "output_type": "execute_result"
    }
   ],
   "source": [
    "df_train = df_view.stack().reset_index().set_axis(['여성출연자','남성출연자','궁합점수'],axis=1)\n",
    "df_train"
   ]
  },
  {
   "cell_type": "markdown",
   "id": "6ce54f46-37a6-4fc0-a631-846a1c1b8cb6",
   "metadata": {},
   "source": [
    "- 숫자화를 시켜야 함"
   ]
  },
  {
   "cell_type": "code",
   "execution_count": 100,
   "id": "a1c877e9-4af3-45df-9c98-481fa6724da0",
   "metadata": {},
   "outputs": [
    {
     "data": {
      "text/plain": [
       "{'보람(ES)',\n",
       " '서연(ES)',\n",
       " '순자(EN)',\n",
       " '영숙(IS)',\n",
       " '영자(IN)',\n",
       " '옥순(IN)',\n",
       " '정숙(IS)',\n",
       " '하니(I)',\n",
       " '현숙(EN)'}"
      ]
     },
     "execution_count": 100,
     "metadata": {},
     "output_type": "execute_result"
    }
   ],
   "source": [
    "set(df_train.여성출연자)"
   ]
  },
  {
   "cell_type": "code",
   "execution_count": 101,
   "id": "94b8ad57-4cbd-44e5-bdd0-59e69eb8d4e2",
   "metadata": {},
   "outputs": [
    {
     "data": {
      "text/plain": [
       "{'정숙(IS)': 0,\n",
       " '영숙(IS)': 1,\n",
       " '하니(I)': 2,\n",
       " '서연(ES)': 3,\n",
       " '보람(ES)': 4,\n",
       " '현숙(EN)': 5,\n",
       " '순자(EN)': 6,\n",
       " '옥순(IN)': 7,\n",
       " '영자(IN)': 8}"
      ]
     },
     "execution_count": 101,
     "metadata": {},
     "output_type": "execute_result"
    }
   ],
   "source": [
    "{name: i for i,name in enumerate(set(df_train.여성출연자))}"
   ]
  },
  {
   "cell_type": "code",
   "execution_count": 105,
   "id": "04946ed9-1b89-41bd-adde-0dc31adec9b1",
   "metadata": {},
   "outputs": [
    {
     "data": {
      "text/plain": [
       "0     7\n",
       "1     7\n",
       "2     7\n",
       "3     7\n",
       "4     7\n",
       "     ..\n",
       "58    2\n",
       "59    2\n",
       "60    2\n",
       "61    2\n",
       "62    2\n",
       "Name: 여성출연자, Length: 63, dtype: int64"
      ]
     },
     "execution_count": 105,
     "metadata": {},
     "output_type": "execute_result"
    }
   ],
   "source": [
    "df_train.여성출연자.map({name: i for i,name in enumerate(set(df_train.여성출연자))})"
   ]
  },
  {
   "cell_type": "code",
   "execution_count": 106,
   "id": "136408ff-2020-4410-95ea-327cad7b20fc",
   "metadata": {},
   "outputs": [
    {
     "data": {
      "text/plain": [
       "tensor([7, 7, 7, 7, 7, 7, 7, 8, 8, 8, 8, 8, 8, 8, 0, 0, 0, 0, 0, 0, 0, 1, 1, 1,\n",
       "        1, 1, 1, 1, 6, 6, 6, 6, 6, 6, 6, 5, 5, 5, 5, 5, 5, 5, 3, 3, 3, 3, 3, 3,\n",
       "        3, 3, 4, 4, 4, 4, 4, 4, 2, 2, 2, 2, 2, 2, 2])"
      ]
     },
     "execution_count": 106,
     "metadata": {},
     "output_type": "execute_result"
    }
   ],
   "source": [
    "torch.tensor(df_train.여성출연자.map({name: i for i,name in enumerate(set(df_train.여성출연자))})) # 63개"
   ]
  },
  {
   "cell_type": "markdown",
   "id": "5221bb74-582e-4020-a3e2-48e535afcc26",
   "metadata": {},
   "source": [
    "- 모형에 돌리려면 one hot encoding 하는 것이 편함"
   ]
  },
  {
   "cell_type": "code",
   "execution_count": 108,
   "id": "015e1044-1515-46c3-b7c5-ca158fc2b2c0",
   "metadata": {},
   "outputs": [],
   "source": [
    "# torch.nn.functional.one_hot(torch.tensor(df_train.여성출연자.map({name: i for i,name in enumerate(set(df_train.여성출연자))})))"
   ]
  },
  {
   "cell_type": "markdown",
   "id": "77dc9521-aae3-42f2-877b-d4ff52765331",
   "metadata": {},
   "source": [
    "```\n",
    "tensor([[0, 0, 0, 0, 0, 0, 0, 1, 0],\n",
    "        [0, 0, 0, 0, 0, 0, 0, 1, 0],\n",
    "\n",
    "9차원을 속성 개수 2개(2차원), 1개(0차원)로 맞추려면 linear transform 하면 될 것 같음\n",
    "```"
   ]
  },
  {
   "cell_type": "code",
   "execution_count": 109,
   "id": "ef10a5dc-987f-4a1f-a682-9ea4dffc60b0",
   "metadata": {},
   "outputs": [],
   "source": [
    "X1 = torch.nn.functional.one_hot(torch.tensor(df_train.여성출연자.map({name: i for i,name in enumerate(set(df_train.여성출연자))}))).float()\n",
    "X2 = torch.nn.functional.one_hot(torch.tensor(df_train.남성출연자.map({name: i for i,name in enumerate(set(df_train.남성출연자))}))).float()"
   ]
  },
  {
   "cell_type": "code",
   "execution_count": 110,
   "id": "4810a9af-a1e6-43b4-be24-f4a2b869ce34",
   "metadata": {},
   "outputs": [
    {
     "data": {
      "text/plain": [
       "(torch.Size([63, 9]), torch.Size([63, 8]))"
      ]
     },
     "execution_count": 110,
     "metadata": {},
     "output_type": "execute_result"
    }
   ],
   "source": [
    "X1.shape, X2.shape"
   ]
  },
  {
   "cell_type": "code",
   "execution_count": 111,
   "id": "3d3bd5ea-37e6-4eeb-8e03-b6d9a2fca56e",
   "metadata": {},
   "outputs": [
    {
     "data": {
      "text/plain": [
       "torch.Size([63, 2])"
      ]
     },
     "execution_count": 111,
     "metadata": {},
     "output_type": "execute_result"
    }
   ],
   "source": [
    "# 63,9 --> 63,2\n",
    "l1 = torch.nn.Linear(9,2, bias=False) # bias는 필요 없을 것 같음\n",
    "l1(X1).shape"
   ]
  },
  {
   "cell_type": "code",
   "execution_count": 111,
   "id": "f21bee79-d9e3-4bb1-9432-94cedbf0eb90",
   "metadata": {},
   "outputs": [
    {
     "data": {
      "text/plain": [
       "torch.Size([63, 2])"
      ]
     },
     "execution_count": 111,
     "metadata": {},
     "output_type": "execute_result"
    }
   ],
   "source": [
    "# 63,9 --> 63,2\n",
    "l1 = torch.nn.Linear(9,2, bias=False) # bias는 필요 없을 것 같음\n",
    "l1(X1).shape"
   ]
  },
  {
   "cell_type": "code",
   "execution_count": 112,
   "id": "05ea06bd-906b-4a48-a462-228b7af468a8",
   "metadata": {},
   "outputs": [
    {
     "data": {
      "text/plain": [
       "torch.Size([63, 1])"
      ]
     },
     "execution_count": 112,
     "metadata": {},
     "output_type": "execute_result"
    }
   ],
   "source": [
    "l1 = torch.nn.Linear(9,2, bias=False)\n",
    "b1 = torch.nn.Linear(9,1, bias=False) # 절대적인 매력\n",
    "b1(X1).shape"
   ]
  },
  {
   "cell_type": "markdown",
   "id": "0280a0d2-e361-4124-9e9b-9477ca58cf12",
   "metadata": {},
   "source": [
    "- 남성까지 반영"
   ]
  },
  {
   "cell_type": "code",
   "execution_count": 113,
   "id": "683077ef-5108-4d68-8946-fe58453ded81",
   "metadata": {},
   "outputs": [],
   "source": [
    "l1 = torch.nn.Linear(9,2,bias=False)\n",
    "b1 = torch.nn.Linear(9,1,bias=False)\n",
    "l2 = torch.nn.Linear(8,2,bias=False)\n",
    "b2 = torch.nn.Linear(8,1,bias=False)"
   ]
  },
  {
   "cell_type": "code",
   "execution_count": 114,
   "id": "3a36169b-1146-40ad-8b50-cf0d5bc6236a",
   "metadata": {},
   "outputs": [
    {
     "data": {
      "text/plain": [
       "(tensor([[ 0.2745, -0.1854],\n",
       "         [ 0.2745, -0.1854],\n",
       "         [ 0.2745, -0.1854]], grad_fn=<SliceBackward0>),\n",
       " tensor([[ 0.3284,  0.1675],\n",
       "         [-0.1163,  0.2470],\n",
       "         [-0.2877,  0.2392]], grad_fn=<SliceBackward0>))"
      ]
     },
     "execution_count": 114,
     "metadata": {},
     "output_type": "execute_result"
    }
   ],
   "source": [
    "l1(X1)[:3], l2(X2)[:3]"
   ]
  },
  {
   "cell_type": "code",
   "execution_count": 115,
   "id": "c5e4e5bf-5037-4739-8ac7-b7431d471b35",
   "metadata": {},
   "outputs": [
    {
     "data": {
      "text/plain": [
       "tensor([ 0.0591, -0.0777, -0.1233, -0.0217, -0.1010,  0.0349, -0.0662,  0.0569,\n",
       "         0.1020, -0.0365, -0.0898, -0.0431, -0.0752,  0.0590,  0.0728,  0.1109,\n",
       "        -0.0117, -0.0624, -0.0485,  0.0639, -0.0644,  0.0530,  0.0608,  0.0078,\n",
       "        -0.0285,  0.0046,  0.0347, -0.0204, -0.0223, -0.0714, -0.0934,  0.0005,\n",
       "        -0.0755,  0.0055, -0.0362,  0.0099,  0.0120,  0.0039, -0.0002, -0.0056,\n",
       "        -0.0005, -0.0047, -0.0469, -0.0373, -0.0532, -0.0510,  0.0196, -0.0401,\n",
       "        -0.0209, -0.0038,  0.0261, -0.0131,  0.0900,  0.0006,  0.0963, -0.0085,\n",
       "        -0.0034,  0.0039, -0.0213, -0.0008, -0.0173,  0.0024, -0.0090],\n",
       "       grad_fn=<SumBackward1>)"
      ]
     },
     "execution_count": 115,
     "metadata": {},
     "output_type": "execute_result"
    }
   ],
   "source": [
    "l1(X1) * l2(X2) # 63,2 (I/E, N/S)\n",
    "(l1(X1) * l2(X2)).sum(axis=1) # 63,1"
   ]
  },
  {
   "cell_type": "code",
   "execution_count": 117,
   "id": "b02c8f7a-8f03-4b54-b70b-406b63ac3a0b",
   "metadata": {},
   "outputs": [],
   "source": [
    "# (l1(X1) * l2(X2)).sum(axis=1).reshape(-1,1) # vector"
   ]
  },
  {
   "cell_type": "code",
   "execution_count": 118,
   "id": "38b8bbb6-51b8-47ae-959f-89dd424c1538",
   "metadata": {},
   "outputs": [],
   "source": [
    "# (l1(X1) * l2(X2)).sum(axis=1).reshape(-1,1) + b1(X1) + b2(X2) # 각각의 매력 점수를 더함"
   ]
  },
  {
   "cell_type": "markdown",
   "id": "56af13d1-a159-4549-8ab4-efa9e7644b51",
   "metadata": {},
   "source": [
    "```python\n",
    "sig((l1(X1) * l2(X2)).sum(axis=1).reshape(-1,1) + b1(X1) + b2(X2))*5 # 0~5\n",
    "# 궁합 matrix로 적합할 수 있는 최초의 직선\n",
    "```"
   ]
  },
  {
   "cell_type": "code",
   "execution_count": 121,
   "id": "7812c7df-10da-47c2-be7d-56e124642ec0",
   "metadata": {},
   "outputs": [],
   "source": [
    "yhat = sig((l1(X1) * l2(X2)).sum(axis=1).reshape(-1,1) + b1(X1) + b2(X2))*5"
   ]
  },
  {
   "cell_type": "markdown",
   "id": "77a32368-5fb8-4f6f-94e2-06dba70e81a4",
   "metadata": {},
   "source": [
    ")🗣️"
   ]
  },
  {
   "cell_type": "code",
   "execution_count": 153,
   "id": "e75b38f5-b623-4cb9-8862-391b92968c56",
   "metadata": {},
   "outputs": [
    {
     "data": {
      "text/html": [
       "<div>\n",
       "<style scoped>\n",
       "    .dataframe tbody tr th:only-of-type {\n",
       "        vertical-align: middle;\n",
       "    }\n",
       "\n",
       "    .dataframe tbody tr th {\n",
       "        vertical-align: top;\n",
       "    }\n",
       "\n",
       "    .dataframe thead th {\n",
       "        text-align: right;\n",
       "    }\n",
       "</style>\n",
       "<table border=\"1\" class=\"dataframe\">\n",
       "  <thead>\n",
       "    <tr style=\"text-align: right;\">\n",
       "      <th></th>\n",
       "      <th>여성출연자</th>\n",
       "      <th>남성출연자</th>\n",
       "      <th>궁합점수</th>\n",
       "    </tr>\n",
       "  </thead>\n",
       "  <tbody>\n",
       "    <tr>\n",
       "      <th>0</th>\n",
       "      <td>옥순(IN)</td>\n",
       "      <td>영철(IN)</td>\n",
       "      <td>4.02</td>\n",
       "    </tr>\n",
       "    <tr>\n",
       "      <th>1</th>\n",
       "      <td>옥순(IN)</td>\n",
       "      <td>영호(IS)</td>\n",
       "      <td>3.45</td>\n",
       "    </tr>\n",
       "    <tr>\n",
       "      <th>2</th>\n",
       "      <td>옥순(IN)</td>\n",
       "      <td>광수(IS)</td>\n",
       "      <td>3.42</td>\n",
       "    </tr>\n",
       "    <tr>\n",
       "      <th>3</th>\n",
       "      <td>옥순(IN)</td>\n",
       "      <td>상철(EN)</td>\n",
       "      <td>0.84</td>\n",
       "    </tr>\n",
       "    <tr>\n",
       "      <th>4</th>\n",
       "      <td>옥순(IN)</td>\n",
       "      <td>영수(EN)</td>\n",
       "      <td>1.12</td>\n",
       "    </tr>\n",
       "    <tr>\n",
       "      <th>...</th>\n",
       "      <td>...</td>\n",
       "      <td>...</td>\n",
       "      <td>...</td>\n",
       "    </tr>\n",
       "    <tr>\n",
       "      <th>58</th>\n",
       "      <td>하니(I)</td>\n",
       "      <td>광수(IS)</td>\n",
       "      <td>4.98</td>\n",
       "    </tr>\n",
       "    <tr>\n",
       "      <th>59</th>\n",
       "      <td>하니(I)</td>\n",
       "      <td>상철(EN)</td>\n",
       "      <td>4.53</td>\n",
       "    </tr>\n",
       "    <tr>\n",
       "      <th>60</th>\n",
       "      <td>하니(I)</td>\n",
       "      <td>영수(EN)</td>\n",
       "      <td>4.39</td>\n",
       "    </tr>\n",
       "    <tr>\n",
       "      <th>61</th>\n",
       "      <td>하니(I)</td>\n",
       "      <td>규빈(ES)</td>\n",
       "      <td>4.45</td>\n",
       "    </tr>\n",
       "    <tr>\n",
       "      <th>62</th>\n",
       "      <td>하니(I)</td>\n",
       "      <td>다호(ES)</td>\n",
       "      <td>4.52</td>\n",
       "    </tr>\n",
       "  </tbody>\n",
       "</table>\n",
       "<p>63 rows × 3 columns</p>\n",
       "</div>"
      ],
      "text/plain": [
       "     여성출연자   남성출연자  궁합점수\n",
       "0   옥순(IN)  영철(IN)  4.02\n",
       "1   옥순(IN)  영호(IS)  3.45\n",
       "2   옥순(IN)  광수(IS)  3.42\n",
       "3   옥순(IN)  상철(EN)  0.84\n",
       "4   옥순(IN)  영수(EN)  1.12\n",
       "..     ...     ...   ...\n",
       "58   하니(I)  광수(IS)  4.98\n",
       "59   하니(I)  상철(EN)  4.53\n",
       "60   하니(I)  영수(EN)  4.39\n",
       "61   하니(I)  규빈(ES)  4.45\n",
       "62   하니(I)  다호(ES)  4.52\n",
       "\n",
       "[63 rows x 3 columns]"
      ]
     },
     "execution_count": 153,
     "metadata": {},
     "output_type": "execute_result"
    }
   ],
   "source": [
    "df_train = df_view.stack().reset_index().set_axis(['여성출연자','남성출연자','궁합점수'],axis=1)\n",
    "df_train"
   ]
  },
  {
   "cell_type": "code",
   "execution_count": 158,
   "id": "1edbab99-ebf4-4903-89cb-1e0312458cef",
   "metadata": {},
   "outputs": [
    {
     "data": {
      "text/plain": [
       "{'영숙(IS)': 0,\n",
       " '영자(IN)': 1,\n",
       " '정숙(IS)': 2,\n",
       " '현숙(EN)': 3,\n",
       " '하니(I)': 4,\n",
       " '순자(EN)': 5,\n",
       " '보람(ES)': 6,\n",
       " '옥순(IN)': 7,\n",
       " '서연(ES)': 8}"
      ]
     },
     "execution_count": 158,
     "metadata": {},
     "output_type": "execute_result"
    }
   ],
   "source": [
    "{name: i for i,name in enumerate(set(df_train.여성출연자))}"
   ]
  },
  {
   "cell_type": "code",
   "execution_count": 168,
   "id": "f033bc95-66fb-4551-9ab3-afa0db898497",
   "metadata": {},
   "outputs": [],
   "source": [
    "X1 = torch.nn.functional.one_hot(torch.tensor(df_train.여성출연자.map({name: i for i,name in enumerate(set(df_train.여성출연자))}))).float()\n",
    "X2 = torch.nn.functional.one_hot(torch.tensor(df_train.남성출연자.map({name: i for i,name in enumerate(set(df_train.남성출연자))}))).float()"
   ]
  },
  {
   "cell_type": "code",
   "execution_count": 175,
   "id": "d1433bcf-a10d-4eb9-b1b7-954bcc84460e",
   "metadata": {},
   "outputs": [],
   "source": [
    "l1 = torch.nn.Linear(9,2,bias=False)\n",
    "b1 = torch.nn.Linear(9,1,bias=False)\n",
    "l2 = torch.nn.Linear(8,2,bias=False)\n",
    "b2 = torch.nn.Linear(8,1,bias=False)"
   ]
  },
  {
   "cell_type": "code",
   "execution_count": 186,
   "id": "61afb8b9-cb14-4b2d-ba01-708761afa809",
   "metadata": {},
   "outputs": [],
   "source": [
    "yhat = sig((l1(X1) * l2(X2)).sum(axis=1).reshape(-1,1) + b1(X1) + b2(X2))*5"
   ]
  },
  {
   "cell_type": "markdown",
   "id": "666a45c0-2ece-437f-aaaf-5f323e8efb27",
   "metadata": {
    "tags": []
   },
   "source": [
    "## C. 학습"
   ]
  },
  {
   "cell_type": "markdown",
   "id": "eb6327b6-69f4-401e-9982-8f2c62d33656",
   "metadata": {},
   "source": [
    "🗣️("
   ]
  },
  {
   "cell_type": "code",
   "execution_count": 123,
   "id": "5c144e49-9c90-45c0-b76b-368a57b56ba0",
   "metadata": {},
   "outputs": [],
   "source": [
    "# torch.tensor(df_train.궁합점수).reshape(-1,1)"
   ]
  },
  {
   "cell_type": "markdown",
   "id": "c5a54004-c356-4672-be96-9dd4236dd30f",
   "metadata": {},
   "source": [
    "```\n",
    "참고)\n",
    "        [4.9800],\n",
    "        [4.5300],\n",
    "        [4.3900],\n",
    "        [4.4500],\n",
    "        [4.5200]], dtype=torch.float64)\n",
    ".float()을 붙이면 , dtype=torch.float64 꼬리표 사라짐\n",
    "```"
   ]
  },
  {
   "cell_type": "code",
   "execution_count": 124,
   "id": "f5e41e1b-cd96-4738-a025-db085824ec13",
   "metadata": {},
   "outputs": [],
   "source": [
    "df_train = df_view.stack().reset_index().set_axis(['여성출연자','남성출연자','궁합점수'],axis=1)\n",
    "여성인덱스 = {'옥순(IN)':0, '영자(IN)':1, '정숙(IS)':2, '영숙(IS)':3, '순자(EN)':4, '현숙(EN)':5, '서연(ES)':6, '보람(ES)':7, '하니(I)':8}\n",
    "남성인덱스 = {'영식(IN)':0, '영철(IN)':1, '영호(IS)':2, '광수(IS)':3, '상철(EN)':4, '영수(EN)':5, '규빈(ES)':6, '다호(ES)':7}\n",
    "X1 = torch.nn.functional.one_hot(torch.tensor(df_train.여성출연자.map(여성인덱스))).float()\n",
    "X2 = torch.nn.functional.one_hot(torch.tensor(df_train.남성출연자.map(남성인덱스))).float()\n",
    "y = torch.tensor(df_train.궁합점수).reshape(-1,1).float()"
   ]
  },
  {
   "cell_type": "code",
   "execution_count": 125,
   "id": "5b28cb05-38b7-4e8a-943b-c36e39da3c10",
   "metadata": {},
   "outputs": [
    {
     "data": {
      "text/plain": [
       "(torch.Size([63, 9]), torch.Size([63, 8]), torch.Size([63, 1]))"
      ]
     },
     "execution_count": 125,
     "metadata": {},
     "output_type": "execute_result"
    }
   ],
   "source": [
    "X1.shape, X2.shape, y.shape"
   ]
  },
  {
   "cell_type": "markdown",
   "id": "2f8c61a3-b768-48f1-8bb6-c6a8f11bfea1",
   "metadata": {},
   "source": [
    "- yhat과 y를 비슷하게 하려면 loss 필요\n",
    "    - loss는 MSE로\n",
    "    - float이 나오므로 엔트로피를 쓸 수는 없음\n",
    "- 참고\n",
    "    - MSE Loss는 보통 실수 전역을 가정하지만 이 경우(0~5)에도 결과는 좋음\n",
    "    - activation function인 sigmoid에 5를 곱해도 결과가 좋음"
   ]
  },
  {
   "cell_type": "code",
   "execution_count": 126,
   "id": "a973ac9c-3fc3-4e96-b0ed-dacb9266ff4d",
   "metadata": {},
   "outputs": [],
   "source": [
    "loss_fn = torch.nn.MSELoss() \n",
    "l1 = torch.nn.Linear(9,2,bias=False)\n",
    "l2 = torch.nn.Linear(8,2,bias=False)\n",
    "W_features = l1(X1) \n",
    "M_features = l2(X2)"
   ]
  },
  {
   "cell_type": "code",
   "execution_count": 127,
   "id": "e72e1822-9c7d-42fc-8ef5-7329579e6cd3",
   "metadata": {},
   "outputs": [
    {
     "data": {
      "text/plain": [
       "torch.Size([63, 2])"
      ]
     },
     "execution_count": 127,
     "metadata": {},
     "output_type": "execute_result"
    }
   ],
   "source": [
    "(W_features * M_features).shape"
   ]
  },
  {
   "cell_type": "code",
   "execution_count": 142,
   "id": "ce78035f-329b-46f6-8d95-c247a6593543",
   "metadata": {},
   "outputs": [
    {
     "data": {
      "text/plain": [
       "torch.Size([63])"
      ]
     },
     "execution_count": 142,
     "metadata": {},
     "output_type": "execute_result"
    }
   ],
   "source": [
    "(W_features * M_features).sum(axis=1).shape # 궁합이 잘 맞으면 값이 커짐"
   ]
  },
  {
   "cell_type": "code",
   "execution_count": 143,
   "id": "ca7a7fea-1881-45a2-b4fd-b269930a5c47",
   "metadata": {},
   "outputs": [
    {
     "data": {
      "text/plain": [
       "torch.Size([63, 1])"
      ]
     },
     "execution_count": 143,
     "metadata": {},
     "output_type": "execute_result"
    }
   ],
   "source": [
    "(W_features * M_features).sum(axis=1).reshape(-1,1).shape # 63,1 궁합이 잘 맞으면 값이 커짐"
   ]
  },
  {
   "cell_type": "code",
   "execution_count": 136,
   "id": "ea5b3eb2-481a-4b4d-8eb8-c2d1d3792cc2",
   "metadata": {},
   "outputs": [],
   "source": [
    "b1 = torch.nn.Linear(9,1,bias=False) # 매력 network\n",
    "b2 = torch.nn.Linear(8,1,bias=False)\n",
    "W_bias = b1(X1)\n",
    "M_bias = b2(X2)"
   ]
  },
  {
   "cell_type": "code",
   "execution_count": 144,
   "id": "16952bf9-0dec-4d86-8f28-3427571c1939",
   "metadata": {},
   "outputs": [
    {
     "data": {
      "text/plain": [
       "torch.Size([63, 1])"
      ]
     },
     "execution_count": 144,
     "metadata": {},
     "output_type": "execute_result"
    }
   ],
   "source": [
    "((W_features * M_features).sum(axis=1).reshape(-1,1) + W_bias + M_bias).shape # 궁합이 잘 맞으면 값이 커짐"
   ]
  },
  {
   "cell_type": "code",
   "execution_count": 146,
   "id": "52497265-297e-4b93-a422-9ae293dd4a78",
   "metadata": {},
   "outputs": [],
   "source": [
    "# (W_features * M_features).sum(axis=1).reshape(-1,1) + W_bias + M_bias # 궁합이 잘 맞으면 값이 커짐"
   ]
  },
  {
   "cell_type": "code",
   "execution_count": 148,
   "id": "dafbf684-2fda-4195-9b23-97a8451dbaca",
   "metadata": {},
   "outputs": [],
   "source": [
    "sig = torch.nn.Sigmoid()\n",
    "# sig((W_features * M_features).sum(axis=1).reshape(-1,1) + W_bias + M_bias)*5"
   ]
  },
  {
   "cell_type": "markdown",
   "id": "f134518d-0b91-4cfa-af62-634f67edcf99",
   "metadata": {},
   "source": [
    "- 정리"
   ]
  },
  {
   "cell_type": "markdown",
   "id": "27e37891-28de-4db7-aea6-a949bd0553d9",
   "metadata": {},
   "source": [
    "```python\n",
    "df_train = df_view.stack().reset_index().set_axis(['여성출연자','남성출연자','궁합점수'],axis=1)\n",
    "여성인덱스 = {'옥순(IN)':0, '영자(IN)':1, '정숙(IS)':2, '영숙(IS)':3, '순자(EN)':4, '현숙(EN)':5, '서연(ES)':6, '보람(ES)':7, '하니(I)':8}\n",
    "남성인덱스 = {'영식(IN)':0, '영철(IN)':1, '영호(IS)':2, '광수(IS)':3, '상철(EN)':4, '영수(EN)':5, '규빈(ES)':6, '다호(ES)':7}\n",
    "X1 = torch.nn.functional.one_hot(torch.tensor(df_train.여성출연자.map(여성인덱스))).float()\n",
    "X2 = torch.nn.functional.one_hot(torch.tensor(df_train.남성출연자.map(남성인덱스))).float()\n",
    "y = torch.tensor(df_train.궁합점수).reshape(-1,1).float()\n",
    "loss_fn = torch.nn.MSELoss() \n",
    "l1 = torch.nn.Linear(9,2,bias=False)\n",
    "l2 = torch.nn.Linear(8,2,bias=False)\n",
    "b1 = torch.nn.Linear(9,1,bias=False)\n",
    "b2 = torch.nn.Linear(8,1,bias=False)\n",
    "sig = torch.nn.Sigmoid()\n",
    "W_features = l1(X1) \n",
    "M_features = l2(X2)\n",
    "W_bias = b1(X1)\n",
    "M_bias = b2(X2)\n",
    "yhat = sig((W_features * M_features).sum(axis=1).reshape(-1,1) + W_bias + M_bias)*5\n",
    "loss = loss_fn(yhat,y)\n",
    "loss.backward()\n",
    "```"
   ]
  },
  {
   "cell_type": "markdown",
   "id": "6b936df6-eb82-48bf-b4e5-20c752f2499d",
   "metadata": {},
   "source": [
    "- update를 해야하는데 parameter가 l1,l2,b1,b2에 모두 있음 => optimizer를 쓰고 싶음"
   ]
  },
  {
   "cell_type": "markdown",
   "id": "3cd6fdd6-aedd-4efe-8b66-1c7187953812",
   "metadata": {},
   "source": [
    "```python\n",
    "df_train = df_view.stack().reset_index().set_axis(['여성출연자','남성출연자','궁합점수'],axis=1)\n",
    "여성인덱스 = {'옥순(IN)':0, '영자(IN)':1, '정숙(IS)':2, '영숙(IS)':3, '순자(EN)':4, '현숙(EN)':5, '서연(ES)':6, '보람(ES)':7, '하니(I)':8}\n",
    "남성인덱스 = {'영식(IN)':0, '영철(IN)':1, '영호(IS)':2, '광수(IS)':3, '상철(EN)':4, '영수(EN)':5, '규빈(ES)':6, '다호(ES)':7}\n",
    "X1 = torch.nn.functional.one_hot(torch.tensor(df_train.여성출연자.map(여성인덱스))).float()\n",
    "X2 = torch.nn.functional.one_hot(torch.tensor(df_train.남성출연자.map(남성인덱스))).float()\n",
    "y = torch.tensor(df_train.궁합점수).reshape(-1,1).float()\n",
    "#----#\n",
    "loss_fn = torch.nn.MSELoss() \n",
    "l1 = torch.nn.Linear(9,2,bias=False)\n",
    "l2 = torch.nn.Linear(8,2,bias=False)\n",
    "b1 = torch.nn.Linear(9,1,bias=False)\n",
    "b2 = torch.nn.Linear(8,1,bias=False)\n",
    "params = list(l1.parameters()) + list(l2.parameters())  + list(b1.parameters()) + list(b2.parameters())\n",
    "optimizr = torch.optim.Adam(params) \n",
    "sig = torch.nn.Sigmoid()\n",
    "#----#\n",
    "W_features = l1(X1) \n",
    "M_features = l2(X2)\n",
    "W_bias = b1(X1)\n",
    "M_bias = b2(X2)\n",
    "yhat = sig((W_features * M_features).sum(axis=1).reshape(-1,1) + W_bias + M_bias)*5\n",
    "loss = loss_fn(yhat,y)\n",
    "loss.backward()\n",
    "```"
   ]
  },
  {
   "cell_type": "markdown",
   "id": "1678bd12-ad51-4076-8250-8220b0c88211",
   "metadata": {},
   "source": [
    "- 학습 시작"
   ]
  },
  {
   "cell_type": "code",
   "execution_count": 150,
   "id": "ffa8cc45-9ed4-43e8-8e78-db8842497486",
   "metadata": {},
   "outputs": [],
   "source": [
    "df_train = df_view.stack().reset_index().set_axis(['여성출연자','남성출연자','궁합점수'],axis=1)\n",
    "여성인덱스 = {'옥순(IN)':0, '영자(IN)':1, '정숙(IS)':2, '영숙(IS)':3, '순자(EN)':4, '현숙(EN)':5, '서연(ES)':6, '보람(ES)':7, '하니(I)':8}\n",
    "남성인덱스 = {'영식(IN)':0, '영철(IN)':1, '영호(IS)':2, '광수(IS)':3, '상철(EN)':4, '영수(EN)':5, '규빈(ES)':6, '다호(ES)':7}\n",
    "X1 = torch.nn.functional.one_hot(torch.tensor(df_train.여성출연자.map(여성인덱스))).float()\n",
    "X2 = torch.nn.functional.one_hot(torch.tensor(df_train.남성출연자.map(남성인덱스))).float()\n",
    "y = torch.tensor(df_train.궁합점수).reshape(-1,1).float()\n",
    "#----#\n",
    "loss_fn = torch.nn.MSELoss() \n",
    "l1 = torch.nn.Linear(9,2,bias=False)\n",
    "l2 = torch.nn.Linear(8,2,bias=False)\n",
    "b1 = torch.nn.Linear(9,1,bias=False)\n",
    "b2 = torch.nn.Linear(8,1,bias=False)\n",
    "params = list(l1.parameters()) + list(l2.parameters())  + list(b1.parameters()) + list(b2.parameters())\n",
    "optimizr = torch.optim.Adam(params) \n",
    "sig = torch.nn.Sigmoid()\n",
    "#----#\n",
    "for epoc in range(100):\n",
    "    #step1\n",
    "    W_features = l1(X1) \n",
    "    M_features = l2(X2)\n",
    "    W_bias = b1(X1)\n",
    "    M_bias = b2(X2)\n",
    "    yhat = sig((W_features * M_features).sum(axis=1).reshape(-1,1) + W_bias + M_bias)*5\n",
    "    #step2\n",
    "    loss = loss_fn(yhat,y)\n",
    "    #stpe3\n",
    "    loss.backward()\n",
    "    #step4\n",
    "    optimizr.step()\n",
    "    optimizr.zero_grad()"
   ]
  },
  {
   "cell_type": "code",
   "execution_count": 151,
   "id": "c6170459-2a27-4835-9aa3-190726410030",
   "metadata": {},
   "outputs": [
    {
     "data": {
      "text/plain": [
       "(tensor([[4.0200],\n",
       "         [3.4500],\n",
       "         [3.4200],\n",
       "         [0.8400],\n",
       "         [1.1200]]),\n",
       " tensor([[2.7421],\n",
       "         [2.5621],\n",
       "         [2.9185],\n",
       "         [2.5075],\n",
       "         [2.8614]], grad_fn=<SliceBackward0>))"
      ]
     },
     "execution_count": 151,
     "metadata": {},
     "output_type": "execute_result"
    }
   ],
   "source": [
    "y[:5], yhat[:5] # 비슷해야하는데 안 비슷함"
   ]
  },
  {
   "cell_type": "markdown",
   "id": "7ae38664-ddc7-4643-987b-72a9c798ed5e",
   "metadata": {},
   "source": [
    "- epoch을 3,000 으로"
   ]
  },
  {
   "cell_type": "code",
   "execution_count": 156,
   "id": "2f598669-52a4-4338-9c6b-5d4ec506791a",
   "metadata": {},
   "outputs": [],
   "source": [
    "df_train = df_view.stack().reset_index().set_axis(['여성출연자','남성출연자','궁합점수'],axis=1)\n",
    "여성인덱스 = {'옥순(IN)':0, '영자(IN)':1, '정숙(IS)':2, '영숙(IS)':3, '순자(EN)':4, '현숙(EN)':5, '서연(ES)':6, '보람(ES)':7, '하니(I)':8}\n",
    "남성인덱스 = {'영식(IN)':0, '영철(IN)':1, '영호(IS)':2, '광수(IS)':3, '상철(EN)':4, '영수(EN)':5, '규빈(ES)':6, '다호(ES)':7}\n",
    "X1 = torch.nn.functional.one_hot(torch.tensor(df_train.여성출연자.map(여성인덱스))).float()\n",
    "X2 = torch.nn.functional.one_hot(torch.tensor(df_train.남성출연자.map(남성인덱스))).float()\n",
    "y = torch.tensor(df_train.궁합점수).reshape(-1,1).float()\n",
    "#----#\n",
    "loss_fn = torch.nn.MSELoss() \n",
    "l1 = torch.nn.Linear(9,2,bias=False)\n",
    "l2 = torch.nn.Linear(8,2,bias=False)\n",
    "b1 = torch.nn.Linear(9,1,bias=False)\n",
    "b2 = torch.nn.Linear(8,1,bias=False)\n",
    "params = list(l1.parameters()) + list(l2.parameters())  + list(b1.parameters()) + list(b2.parameters())\n",
    "optimizr = torch.optim.Adam(params) \n",
    "sig = torch.nn.Sigmoid()\n",
    "#----#\n",
    "for epoc in range(3000):\n",
    "    #step1\n",
    "    W_features = l1(X1) \n",
    "    M_features = l2(X2)\n",
    "    W_bias = b1(X1)\n",
    "    M_bias = b2(X2)\n",
    "    yhat = sig((W_features * M_features).sum(axis=1).reshape(-1,1) + W_bias + M_bias)*5\n",
    "    #step2\n",
    "    loss = loss_fn(yhat,y)\n",
    "    #stpe3\n",
    "    loss.backward()\n",
    "    #step4\n",
    "    optimizr.step()\n",
    "    optimizr.zero_grad()"
   ]
  },
  {
   "cell_type": "code",
   "execution_count": 157,
   "id": "6e8ec675-da7e-407f-9cc4-6fefa97c5a4e",
   "metadata": {},
   "outputs": [
    {
     "data": {
      "text/plain": [
       "(tensor([[4.0200],\n",
       "         [3.4500],\n",
       "         [3.4200],\n",
       "         [0.8400],\n",
       "         [1.1200]]),\n",
       " tensor([[3.6914],\n",
       "         [3.5355],\n",
       "         [3.6526],\n",
       "         [0.6727],\n",
       "         [0.8341]], grad_fn=<SliceBackward0>))"
      ]
     },
     "execution_count": 157,
     "metadata": {},
     "output_type": "execute_result"
    }
   ],
   "source": [
    "y[:5], yhat[:5]"
   ]
  },
  {
   "cell_type": "markdown",
   "id": "acac666c-f5d2-466c-af7e-cb64c220e20c",
   "metadata": {},
   "source": [
    "- 된 것 같음, 5,000으로"
   ]
  },
  {
   "cell_type": "code",
   "execution_count": 158,
   "id": "caeafb5f-a496-4cc3-8ac8-ed89fd5911e9",
   "metadata": {},
   "outputs": [],
   "source": [
    "df_train = df_view.stack().reset_index().set_axis(['여성출연자','남성출연자','궁합점수'],axis=1)\n",
    "여성인덱스 = {'옥순(IN)':0, '영자(IN)':1, '정숙(IS)':2, '영숙(IS)':3, '순자(EN)':4, '현숙(EN)':5, '서연(ES)':6, '보람(ES)':7, '하니(I)':8}\n",
    "남성인덱스 = {'영식(IN)':0, '영철(IN)':1, '영호(IS)':2, '광수(IS)':3, '상철(EN)':4, '영수(EN)':5, '규빈(ES)':6, '다호(ES)':7}\n",
    "X1 = torch.nn.functional.one_hot(torch.tensor(df_train.여성출연자.map(여성인덱스))).float()\n",
    "X2 = torch.nn.functional.one_hot(torch.tensor(df_train.남성출연자.map(남성인덱스))).float()\n",
    "y = torch.tensor(df_train.궁합점수).reshape(-1,1).float()\n",
    "#----#\n",
    "loss_fn = torch.nn.MSELoss() \n",
    "l1 = torch.nn.Linear(9,2,bias=False)\n",
    "l2 = torch.nn.Linear(8,2,bias=False)\n",
    "b1 = torch.nn.Linear(9,1,bias=False)\n",
    "b2 = torch.nn.Linear(8,1,bias=False)\n",
    "params = list(l1.parameters()) + list(l2.parameters())  + list(b1.parameters()) + list(b2.parameters())\n",
    "optimizr = torch.optim.Adam(params) \n",
    "sig = torch.nn.Sigmoid()\n",
    "#----#\n",
    "for epoc in range(5000):\n",
    "    #step1\n",
    "    W_features = l1(X1) \n",
    "    M_features = l2(X2)\n",
    "    W_bias = b1(X1)\n",
    "    M_bias = b2(X2)\n",
    "    yhat = sig((W_features * M_features).sum(axis=1).reshape(-1,1) + W_bias + M_bias)*5\n",
    "    #step2\n",
    "    loss = loss_fn(yhat,y)\n",
    "    #stpe3\n",
    "    loss.backward()\n",
    "    #step4\n",
    "    optimizr.step()\n",
    "    optimizr.zero_grad()"
   ]
  },
  {
   "cell_type": "code",
   "execution_count": 159,
   "id": "3bc377ea-f01c-4796-be86-bd40011373cb",
   "metadata": {},
   "outputs": [
    {
     "data": {
      "text/plain": [
       "(tensor([[4.0200],\n",
       "         [3.4500],\n",
       "         [3.4200],\n",
       "         [0.8400],\n",
       "         [1.1200]]),\n",
       " tensor([[4.0586],\n",
       "         [3.4643],\n",
       "         [3.4175],\n",
       "         [0.8539],\n",
       "         [0.9135]], grad_fn=<SliceBackward0>))"
      ]
     },
     "execution_count": 159,
     "metadata": {},
     "output_type": "execute_result"
    }
   ],
   "source": [
    "y[:5], yhat[:5] # 비슷함"
   ]
  },
  {
   "cell_type": "markdown",
   "id": "846ae3c8-46a5-4302-b5dd-90ad5932e94c",
   "metadata": {},
   "source": [
    ")🗣️"
   ]
  },
  {
   "cell_type": "code",
   "execution_count": 227,
   "id": "983384e2-4489-47f1-b38e-4df86c6a2ec3",
   "metadata": {},
   "outputs": [],
   "source": [
    "#df_view\n",
    "df_train = df_view.stack().reset_index().set_axis(['여성출연자','남성출연자','궁합점수'],axis=1)\n",
    "여성인덱스 = {'옥순(IN)':0, '영자(IN)':1, '정숙(IS)':2, '영숙(IS)':3, '순자(EN)':4, '현숙(EN)':5, '서연(ES)':6, '보람(ES)':7, '하니(I)':8}\n",
    "남성인덱스 = {'영식(IN)':0, '영철(IN)':1, '영호(IS)':2, '광수(IS)':3, '상철(EN)':4, '영수(EN)':5, '규빈(ES)':6, '다호(ES)':7}\n",
    "X1 = torch.nn.functional.one_hot(torch.tensor(df_train.여성출연자.map(여성인덱스))).float()\n",
    "X2 = torch.nn.functional.one_hot(torch.tensor(df_train.남성출연자.map(남성인덱스))).float()\n",
    "y = torch.tensor(df_train.궁합점수).reshape(-1,1).float()\n",
    "#----#\n",
    "loss_fn = torch.nn.MSELoss() \n",
    "l1 = torch.nn.Linear(9,2,bias=False)\n",
    "l2 = torch.nn.Linear(8,2,bias=False)\n",
    "b1 = torch.nn.Linear(9,1,bias=False)\n",
    "b2 = torch.nn.Linear(8,1,bias=False)\n",
    "params = list(l1.parameters()) + list(l2.parameters())  + list(b1.parameters()) + list(b2.parameters())\n",
    "optimizr = torch.optim.Adam(params)\n",
    "sig = torch.nn.Sigmoid()\n",
    "#----#\n",
    "for epoc in range(5000):\n",
    "    #step1\n",
    "    W_features = l1(X1) \n",
    "    M_features = l2(X2) \n",
    "    W_bias = b1(X1)\n",
    "    M_bais = b2(X2)\n",
    "    yhat = sig((W_features * M_features).sum(axis=1).reshape(-1,1) + W_bias + M_bais)*5\n",
    "    #step2\n",
    "    loss = loss_fn(yhat,y)\n",
    "    #step3\n",
    "    loss.backward()\n",
    "    #step4\n",
    "    optimizr.step()\n",
    "    optimizr.zero_grad()"
   ]
  },
  {
   "cell_type": "code",
   "execution_count": 228,
   "id": "9adabd60-bbc1-4410-84ed-0e012c3d7709",
   "metadata": {},
   "outputs": [
    {
     "data": {
      "text/plain": [
       "(tensor([[4.0200],\n",
       "         [3.4500],\n",
       "         [3.4200],\n",
       "         [0.8400],\n",
       "         [1.1200]]),\n",
       " tensor([[4.0370],\n",
       "         [3.4701],\n",
       "         [3.4334],\n",
       "         [0.8374],\n",
       "         [0.9061]], grad_fn=<SliceBackward0>))"
      ]
     },
     "execution_count": 228,
     "metadata": {},
     "output_type": "execute_result"
    }
   ],
   "source": [
    "y[:5], yhat[:5]"
   ]
  },
  {
   "cell_type": "markdown",
   "id": "1bb23f38-8962-461d-826c-c62d5d71e90f",
   "metadata": {},
   "source": [
    "## D. 예측"
   ]
  },
  {
   "cell_type": "markdown",
   "id": "2e9d5e18-0689-4be1-bbcf-1da437b0fd57",
   "metadata": {},
   "source": [
    "🗣️("
   ]
  },
  {
   "cell_type": "code",
   "execution_count": 160,
   "id": "b43a03d9-6ce3-423b-b9b9-41b494325c36",
   "metadata": {
    "tags": []
   },
   "outputs": [
    {
     "data": {
      "text/html": [
       "<div>\n",
       "<style scoped>\n",
       "    .dataframe tbody tr th:only-of-type {\n",
       "        vertical-align: middle;\n",
       "    }\n",
       "\n",
       "    .dataframe tbody tr th {\n",
       "        vertical-align: top;\n",
       "    }\n",
       "\n",
       "    .dataframe thead th {\n",
       "        text-align: right;\n",
       "    }\n",
       "</style>\n",
       "<table border=\"1\" class=\"dataframe\">\n",
       "  <thead>\n",
       "    <tr style=\"text-align: right;\">\n",
       "      <th></th>\n",
       "      <th>여성출연자</th>\n",
       "      <th>남성출연자</th>\n",
       "    </tr>\n",
       "  </thead>\n",
       "  <tbody>\n",
       "    <tr>\n",
       "      <th>0</th>\n",
       "      <td>옥순(IN)</td>\n",
       "      <td>영식(IN)</td>\n",
       "    </tr>\n",
       "    <tr>\n",
       "      <th>1</th>\n",
       "      <td>하니(I)</td>\n",
       "      <td>영호(IS)</td>\n",
       "    </tr>\n",
       "  </tbody>\n",
       "</table>\n",
       "</div>"
      ],
      "text/plain": [
       "    여성출연자   남성출연자\n",
       "0  옥순(IN)  영식(IN)\n",
       "1   하니(I)  영호(IS)"
      ]
     },
     "execution_count": 160,
     "metadata": {},
     "output_type": "execute_result"
    }
   ],
   "source": [
    "df_test = pd.DataFrame({'여성출연자':['옥순(IN)','하니(I)'],'남성출연자':['영식(IN)','영호(IS)']})\n",
    "df_test"
   ]
  },
  {
   "cell_type": "code",
   "execution_count": 161,
   "id": "e255e56b-c415-4a23-8ad8-b27b62e1969b",
   "metadata": {},
   "outputs": [
    {
     "data": {
      "text/html": [
       "<div>\n",
       "<style scoped>\n",
       "    .dataframe tbody tr th:only-of-type {\n",
       "        vertical-align: middle;\n",
       "    }\n",
       "\n",
       "    .dataframe tbody tr th {\n",
       "        vertical-align: top;\n",
       "    }\n",
       "\n",
       "    .dataframe thead th {\n",
       "        text-align: right;\n",
       "    }\n",
       "</style>\n",
       "<table border=\"1\" class=\"dataframe\">\n",
       "  <thead>\n",
       "    <tr style=\"text-align: right;\">\n",
       "      <th></th>\n",
       "      <th>여성출연자</th>\n",
       "      <th>남성출연자</th>\n",
       "      <th>궁합점수</th>\n",
       "    </tr>\n",
       "  </thead>\n",
       "  <tbody>\n",
       "    <tr>\n",
       "      <th>0</th>\n",
       "      <td>옥순(IN)</td>\n",
       "      <td>영철(IN)</td>\n",
       "      <td>4.02</td>\n",
       "    </tr>\n",
       "    <tr>\n",
       "      <th>1</th>\n",
       "      <td>옥순(IN)</td>\n",
       "      <td>영호(IS)</td>\n",
       "      <td>3.45</td>\n",
       "    </tr>\n",
       "  </tbody>\n",
       "</table>\n",
       "</div>"
      ],
      "text/plain": [
       "    여성출연자   남성출연자  궁합점수\n",
       "0  옥순(IN)  영철(IN)  4.02\n",
       "1  옥순(IN)  영호(IS)  3.45"
      ]
     },
     "execution_count": 161,
     "metadata": {},
     "output_type": "execute_result"
    }
   ],
   "source": [
    "df_train[:2] # 궁합 점수가 궁금함"
   ]
  },
  {
   "cell_type": "code",
   "execution_count": 162,
   "id": "f89a2eb7-0fc1-4cdf-9f74-d478ec4ca92b",
   "metadata": {},
   "outputs": [
    {
     "data": {
      "text/plain": [
       "0    0\n",
       "1    8\n",
       "Name: 여성출연자, dtype: int64"
      ]
     },
     "execution_count": 162,
     "metadata": {},
     "output_type": "execute_result"
    }
   ],
   "source": [
    "df_test.여성출연자.map(여성인덱스)"
   ]
  },
  {
   "cell_type": "code",
   "execution_count": 163,
   "id": "bb54123c-c46e-439d-aa24-92e7372a16bf",
   "metadata": {},
   "outputs": [
    {
     "data": {
      "text/plain": [
       "tensor([0, 8])"
      ]
     },
     "execution_count": 163,
     "metadata": {},
     "output_type": "execute_result"
    }
   ],
   "source": [
    "torch.tensor(df_test.여성출연자.map(여성인덱스))"
   ]
  },
  {
   "cell_type": "code",
   "execution_count": 165,
   "id": "89d1ceda-4cd1-4154-a282-0b6fb85d91bc",
   "metadata": {},
   "outputs": [
    {
     "data": {
      "text/plain": [
       "tensor([[1, 0, 0, 0, 0, 0, 0, 0, 0],\n",
       "        [0, 0, 0, 0, 0, 0, 0, 0, 1]])"
      ]
     },
     "execution_count": 165,
     "metadata": {},
     "output_type": "execute_result"
    }
   ],
   "source": [
    "torch.nn.functional.one_hot(torch.tensor(df_test.여성출연자.map(여성인덱스)))"
   ]
  },
  {
   "cell_type": "code",
   "execution_count": 166,
   "id": "5d4f3a6a-2ebb-4ff9-bf84-47dce68f10df",
   "metadata": {},
   "outputs": [],
   "source": [
    "XX1 = torch.nn.functional.one_hot(torch.tensor(df_test.여성출연자.map(여성인덱스)))"
   ]
  },
  {
   "cell_type": "code",
   "execution_count": 169,
   "id": "0c71a297-e3d3-4fd2-8548-69c632cccedb",
   "metadata": {},
   "outputs": [
    {
     "data": {
      "text/plain": [
       "(torch.Size([2, 9]), torch.Size([63, 9]))"
      ]
     },
     "execution_count": 169,
     "metadata": {},
     "output_type": "execute_result"
    }
   ],
   "source": [
    "XX1.shape, X1.shape"
   ]
  },
  {
   "cell_type": "code",
   "execution_count": 170,
   "id": "a61123e6-294b-4a1b-96a4-6d4e3548f46a",
   "metadata": {},
   "outputs": [],
   "source": [
    "XX2 = torch.nn.functional.one_hot(torch.tensor(df_test.남성출연자.map(남성인덱스)))"
   ]
  },
  {
   "cell_type": "code",
   "execution_count": 172,
   "id": "407ef557-35cc-4eee-9650-8aa41bb43467",
   "metadata": {},
   "outputs": [
    {
     "data": {
      "text/plain": [
       "torch.Size([2, 3])"
      ]
     },
     "execution_count": 172,
     "metadata": {},
     "output_type": "execute_result"
    }
   ],
   "source": [
    "XX2.shape # 차원이 이상함"
   ]
  },
  {
   "cell_type": "code",
   "execution_count": 173,
   "id": "8fe2e898-51a0-48b1-85eb-4ec0d382fa4b",
   "metadata": {},
   "outputs": [
    {
     "data": {
      "text/plain": [
       "tensor([[1, 0, 0],\n",
       "        [0, 0, 1]])"
      ]
     },
     "execution_count": 173,
     "metadata": {},
     "output_type": "execute_result"
    }
   ],
   "source": [
    "XX2"
   ]
  },
  {
   "cell_type": "code",
   "execution_count": 174,
   "id": "0241fcc6-883b-4449-ba38-1bcd59234dd7",
   "metadata": {},
   "outputs": [
    {
     "data": {
      "text/plain": [
       "0    영식(IN)\n",
       "1    영호(IS)\n",
       "Name: 남성출연자, dtype: object"
      ]
     },
     "execution_count": 174,
     "metadata": {},
     "output_type": "execute_result"
    }
   ],
   "source": [
    "df_test.남성출연자"
   ]
  },
  {
   "cell_type": "code",
   "execution_count": 175,
   "id": "8a2b5409-804a-41cf-a4c2-6e750a1f7a0e",
   "metadata": {},
   "outputs": [
    {
     "data": {
      "text/plain": [
       "{'영식(IN)': 0,\n",
       " '영철(IN)': 1,\n",
       " '영호(IS)': 2,\n",
       " '광수(IS)': 3,\n",
       " '상철(EN)': 4,\n",
       " '영수(EN)': 5,\n",
       " '규빈(ES)': 6,\n",
       " '다호(ES)': 7}"
      ]
     },
     "execution_count": 175,
     "metadata": {},
     "output_type": "execute_result"
    }
   ],
   "source": [
    "남성인덱스"
   ]
  },
  {
   "cell_type": "code",
   "execution_count": 177,
   "id": "9f24f43c-3dea-43a9-938e-a2b9225c0f9f",
   "metadata": {},
   "outputs": [
    {
     "data": {
      "text/plain": [
       "tensor([0, 2])"
      ]
     },
     "execution_count": 177,
     "metadata": {},
     "output_type": "execute_result"
    }
   ],
   "source": [
    "torch.tensor(df_test.남성출연자.map(남성인덱스))"
   ]
  },
  {
   "cell_type": "code",
   "execution_count": 176,
   "id": "c0b3e076-7c9e-49bf-a37e-fe95a2de4427",
   "metadata": {},
   "outputs": [
    {
     "data": {
      "text/plain": [
       "tensor([[1, 0, 0],\n",
       "        [0, 0, 1]])"
      ]
     },
     "execution_count": 176,
     "metadata": {},
     "output_type": "execute_result"
    }
   ],
   "source": [
    "torch.nn.functional.one_hot(torch.tensor(df_test.남성출연자.map(남성인덱스)))"
   ]
  },
  {
   "cell_type": "markdown",
   "id": "966f5559-2930-4334-8ec0-bf44bb188a36",
   "metadata": {},
   "source": [
    "- 0,1,2 총 3개의 class만 있다고 판단한 것 같음"
   ]
  },
  {
   "cell_type": "code",
   "execution_count": 178,
   "id": "5a060c49-93e4-4342-bd37-56b514296b13",
   "metadata": {},
   "outputs": [],
   "source": [
    "XX1 = torch.nn.functional.one_hot(torch.tensor(df_test.여성출연자.map(여성인덱스)),num_classes=9).float() # 운 좋게 하니가 마지막 참가자라 아까는 이상 없었음\n",
    "XX2 = torch.nn.functional.one_hot(torch.tensor(df_test.남성출연자.map(남성인덱스)),num_classes=8).float()"
   ]
  },
  {
   "cell_type": "code",
   "execution_count": 179,
   "id": "f4b6334f-d104-4584-a8d1-05c49fee7342",
   "metadata": {},
   "outputs": [
    {
     "data": {
      "text/plain": [
       "tensor([[-0.1969, -1.1841],\n",
       "        [ 0.7690, -1.0187]], grad_fn=<MmBackward0>)"
      ]
     },
     "execution_count": 179,
     "metadata": {},
     "output_type": "execute_result"
    }
   ],
   "source": [
    "l1(XX1) # 학습된 parameter"
   ]
  },
  {
   "cell_type": "code",
   "execution_count": 180,
   "id": "e329048f-99fc-4c3e-aa06-4b4c93c05c44",
   "metadata": {},
   "outputs": [
    {
     "data": {
      "text/html": [
       "<div>\n",
       "<style scoped>\n",
       "    .dataframe tbody tr th:only-of-type {\n",
       "        vertical-align: middle;\n",
       "    }\n",
       "\n",
       "    .dataframe tbody tr th {\n",
       "        vertical-align: top;\n",
       "    }\n",
       "\n",
       "    .dataframe thead th {\n",
       "        text-align: right;\n",
       "    }\n",
       "</style>\n",
       "<table border=\"1\" class=\"dataframe\">\n",
       "  <thead>\n",
       "    <tr style=\"text-align: right;\">\n",
       "      <th></th>\n",
       "      <th>여성출연자</th>\n",
       "      <th>남성출연자</th>\n",
       "    </tr>\n",
       "  </thead>\n",
       "  <tbody>\n",
       "    <tr>\n",
       "      <th>0</th>\n",
       "      <td>옥순(IN)</td>\n",
       "      <td>영식(IN)</td>\n",
       "    </tr>\n",
       "    <tr>\n",
       "      <th>1</th>\n",
       "      <td>하니(I)</td>\n",
       "      <td>영호(IS)</td>\n",
       "    </tr>\n",
       "  </tbody>\n",
       "</table>\n",
       "</div>"
      ],
      "text/plain": [
       "    여성출연자   남성출연자\n",
       "0  옥순(IN)  영식(IN)\n",
       "1   하니(I)  영호(IS)"
      ]
     },
     "execution_count": 180,
     "metadata": {},
     "output_type": "execute_result"
    }
   ],
   "source": [
    "df_test"
   ]
  },
  {
   "cell_type": "code",
   "execution_count": 181,
   "id": "902409e9-4a93-4d74-9222-a3a9cafccb32",
   "metadata": {},
   "outputs": [
    {
     "data": {
      "text/plain": [
       "tensor([[1.9070],\n",
       "        [0.4191]], grad_fn=<ViewBackward0>)"
      ]
     },
     "execution_count": 181,
     "metadata": {},
     "output_type": "execute_result"
    }
   ],
   "source": [
    "(l1(XX1) * l2(XX2)).sum(axis=1).reshape(2,1)"
   ]
  },
  {
   "cell_type": "markdown",
   "id": "05364eb1-49ea-4b9b-915b-57ffcc408bd6",
   "metadata": {},
   "source": [
    "- 하니와 영호는 I만 맞아서 궁합이 오히려 안 좋게 나옴"
   ]
  },
  {
   "cell_type": "code",
   "execution_count": 185,
   "id": "39517118-39d9-45f3-be41-28cf3fc952e7",
   "metadata": {},
   "outputs": [
    {
     "data": {
      "text/plain": [
       "tensor([[-1.3766],\n",
       "        [ 1.2688]], grad_fn=<MmBackward0>)"
      ]
     },
     "execution_count": 185,
     "metadata": {},
     "output_type": "execute_result"
    }
   ],
   "source": [
    "b1(XX1) # 여성 참가자의 매력 (하니는 점수가 높음)"
   ]
  },
  {
   "cell_type": "code",
   "execution_count": 184,
   "id": "88a84a12-f428-4fbe-93c9-d8877dc73c79",
   "metadata": {},
   "outputs": [
    {
     "data": {
      "text/plain": [
       "tensor([[0.8753],\n",
       "        [0.9267]], grad_fn=<MmBackward0>)"
      ]
     },
     "execution_count": 184,
     "metadata": {},
     "output_type": "execute_result"
    }
   ],
   "source": [
    "b2(XX2) # 남성 참가자의 매력"
   ]
  },
  {
   "cell_type": "markdown",
   "id": "8c3b0b9d-3a3a-4776-b6b9-72b7d477a071",
   "metadata": {},
   "source": [
    "- 최종 점수는"
   ]
  },
  {
   "cell_type": "code",
   "execution_count": 187,
   "id": "2870e1a2-16ec-43b2-840a-1dddf3952c36",
   "metadata": {},
   "outputs": [
    {
     "data": {
      "text/plain": [
       "tensor([[4.0154],\n",
       "        [4.6590]], grad_fn=<MulBackward0>)"
      ]
     },
     "execution_count": 187,
     "metadata": {},
     "output_type": "execute_result"
    }
   ],
   "source": [
    "sig((l1(XX1) * l2(XX2)).sum(axis=1).reshape(2,1) + b1(XX1) + b2(XX2))*5 # 그럴듯 함"
   ]
  },
  {
   "cell_type": "markdown",
   "id": "9f74b8d8-72a6-4040-ac13-9923f11f6242",
   "metadata": {},
   "source": [
    ")🗣️"
   ]
  },
  {
   "cell_type": "code",
   "execution_count": 229,
   "id": "5d91867e-8e37-4e27-a4ac-85fec2e613d9",
   "metadata": {},
   "outputs": [
    {
     "data": {
      "text/html": [
       "<div>\n",
       "<style scoped>\n",
       "    .dataframe tbody tr th:only-of-type {\n",
       "        vertical-align: middle;\n",
       "    }\n",
       "\n",
       "    .dataframe tbody tr th {\n",
       "        vertical-align: top;\n",
       "    }\n",
       "\n",
       "    .dataframe thead th {\n",
       "        text-align: right;\n",
       "    }\n",
       "</style>\n",
       "<table border=\"1\" class=\"dataframe\">\n",
       "  <thead>\n",
       "    <tr style=\"text-align: right;\">\n",
       "      <th></th>\n",
       "      <th>영식(IN)</th>\n",
       "      <th>영철(IN)</th>\n",
       "      <th>영호(IS)</th>\n",
       "      <th>광수(IS)</th>\n",
       "      <th>상철(EN)</th>\n",
       "      <th>영수(EN)</th>\n",
       "      <th>규빈(ES)</th>\n",
       "      <th>다호(ES)</th>\n",
       "    </tr>\n",
       "  </thead>\n",
       "  <tbody>\n",
       "    <tr>\n",
       "      <th>옥순(IN)</th>\n",
       "      <td>NaN</td>\n",
       "      <td>4.02</td>\n",
       "      <td>3.45</td>\n",
       "      <td>3.42</td>\n",
       "      <td>0.84</td>\n",
       "      <td>1.12</td>\n",
       "      <td>0.43</td>\n",
       "      <td>0.49</td>\n",
       "    </tr>\n",
       "    <tr>\n",
       "      <th>영자(IN)</th>\n",
       "      <td>3.93</td>\n",
       "      <td>3.99</td>\n",
       "      <td>3.63</td>\n",
       "      <td>3.43</td>\n",
       "      <td>0.98</td>\n",
       "      <td>0.96</td>\n",
       "      <td>0.52</td>\n",
       "      <td>NaN</td>\n",
       "    </tr>\n",
       "    <tr>\n",
       "      <th>정숙(IS)</th>\n",
       "      <td>3.52</td>\n",
       "      <td>3.42</td>\n",
       "      <td>4.05</td>\n",
       "      <td>4.06</td>\n",
       "      <td>0.39</td>\n",
       "      <td>NaN</td>\n",
       "      <td>0.93</td>\n",
       "      <td>0.99</td>\n",
       "    </tr>\n",
       "    <tr>\n",
       "      <th>영숙(IS)</th>\n",
       "      <td>3.43</td>\n",
       "      <td>3.57</td>\n",
       "      <td>NaN</td>\n",
       "      <td>3.95</td>\n",
       "      <td>0.56</td>\n",
       "      <td>0.52</td>\n",
       "      <td>0.89</td>\n",
       "      <td>0.89</td>\n",
       "    </tr>\n",
       "    <tr>\n",
       "      <th>순자(EN)</th>\n",
       "      <td>1.12</td>\n",
       "      <td>NaN</td>\n",
       "      <td>0.59</td>\n",
       "      <td>0.43</td>\n",
       "      <td>4.01</td>\n",
       "      <td>4.16</td>\n",
       "      <td>3.52</td>\n",
       "      <td>3.38</td>\n",
       "    </tr>\n",
       "    <tr>\n",
       "      <th>현숙(EN)</th>\n",
       "      <td>0.94</td>\n",
       "      <td>1.05</td>\n",
       "      <td>0.32</td>\n",
       "      <td>0.45</td>\n",
       "      <td>4.02</td>\n",
       "      <td>3.78</td>\n",
       "      <td>NaN</td>\n",
       "      <td>3.54</td>\n",
       "    </tr>\n",
       "    <tr>\n",
       "      <th>서연(ES)</th>\n",
       "      <td>0.51</td>\n",
       "      <td>0.56</td>\n",
       "      <td>0.88</td>\n",
       "      <td>0.89</td>\n",
       "      <td>3.50</td>\n",
       "      <td>3.64</td>\n",
       "      <td>4.04</td>\n",
       "      <td>4.10</td>\n",
       "    </tr>\n",
       "    <tr>\n",
       "      <th>보람(ES)</th>\n",
       "      <td>0.48</td>\n",
       "      <td>0.51</td>\n",
       "      <td>1.03</td>\n",
       "      <td>NaN</td>\n",
       "      <td>3.52</td>\n",
       "      <td>4.00</td>\n",
       "      <td>3.82</td>\n",
       "      <td>NaN</td>\n",
       "    </tr>\n",
       "    <tr>\n",
       "      <th>하니(I)</th>\n",
       "      <td>4.85</td>\n",
       "      <td>4.82</td>\n",
       "      <td>NaN</td>\n",
       "      <td>4.98</td>\n",
       "      <td>4.53</td>\n",
       "      <td>4.39</td>\n",
       "      <td>4.45</td>\n",
       "      <td>4.52</td>\n",
       "    </tr>\n",
       "  </tbody>\n",
       "</table>\n",
       "</div>"
      ],
      "text/plain": [
       "        영식(IN)  영철(IN)  영호(IS)  광수(IS)  상철(EN)  영수(EN)  규빈(ES)  다호(ES)\n",
       "옥순(IN)     NaN    4.02    3.45    3.42    0.84    1.12    0.43    0.49\n",
       "영자(IN)    3.93    3.99    3.63    3.43    0.98    0.96    0.52     NaN\n",
       "정숙(IS)    3.52    3.42    4.05    4.06    0.39     NaN    0.93    0.99\n",
       "영숙(IS)    3.43    3.57     NaN    3.95    0.56    0.52    0.89    0.89\n",
       "순자(EN)    1.12     NaN    0.59    0.43    4.01    4.16    3.52    3.38\n",
       "현숙(EN)    0.94    1.05    0.32    0.45    4.02    3.78     NaN    3.54\n",
       "서연(ES)    0.51    0.56    0.88    0.89    3.50    3.64    4.04    4.10\n",
       "보람(ES)    0.48    0.51    1.03     NaN    3.52    4.00    3.82     NaN\n",
       "하니(I)     4.85    4.82     NaN    4.98    4.53    4.39    4.45    4.52"
      ]
     },
     "execution_count": 229,
     "metadata": {},
     "output_type": "execute_result"
    }
   ],
   "source": [
    "df_view"
   ]
  },
  {
   "cell_type": "code",
   "execution_count": 232,
   "id": "f3aa9ca4-3f35-4504-9d1d-9b2b27272136",
   "metadata": {},
   "outputs": [
    {
     "data": {
      "text/html": [
       "<div>\n",
       "<style scoped>\n",
       "    .dataframe tbody tr th:only-of-type {\n",
       "        vertical-align: middle;\n",
       "    }\n",
       "\n",
       "    .dataframe tbody tr th {\n",
       "        vertical-align: top;\n",
       "    }\n",
       "\n",
       "    .dataframe thead th {\n",
       "        text-align: right;\n",
       "    }\n",
       "</style>\n",
       "<table border=\"1\" class=\"dataframe\">\n",
       "  <thead>\n",
       "    <tr style=\"text-align: right;\">\n",
       "      <th></th>\n",
       "      <th>여성출연자</th>\n",
       "      <th>남성출연자</th>\n",
       "      <th>궁합점수</th>\n",
       "    </tr>\n",
       "  </thead>\n",
       "  <tbody>\n",
       "    <tr>\n",
       "      <th>0</th>\n",
       "      <td>옥순(IN)</td>\n",
       "      <td>영철(IN)</td>\n",
       "      <td>4.02</td>\n",
       "    </tr>\n",
       "    <tr>\n",
       "      <th>1</th>\n",
       "      <td>옥순(IN)</td>\n",
       "      <td>영호(IS)</td>\n",
       "      <td>3.45</td>\n",
       "    </tr>\n",
       "  </tbody>\n",
       "</table>\n",
       "</div>"
      ],
      "text/plain": [
       "    여성출연자   남성출연자  궁합점수\n",
       "0  옥순(IN)  영철(IN)  4.02\n",
       "1  옥순(IN)  영호(IS)  3.45"
      ]
     },
     "execution_count": 232,
     "metadata": {},
     "output_type": "execute_result"
    }
   ],
   "source": [
    "df_train[:2]"
   ]
  },
  {
   "cell_type": "markdown",
   "id": "9c64f3ad-5f79-40dd-9844-e8eda0506149",
   "metadata": {},
   "source": [
    "적합된 네트워크를 바탕으로 아래의 값에 대한 예측을 수행하라. "
   ]
  },
  {
   "cell_type": "code",
   "execution_count": 230,
   "id": "cba16345-6304-48f0-aa68-7bea8b9e5a3c",
   "metadata": {
    "tags": []
   },
   "outputs": [
    {
     "data": {
      "text/html": [
       "<div>\n",
       "<style scoped>\n",
       "    .dataframe tbody tr th:only-of-type {\n",
       "        vertical-align: middle;\n",
       "    }\n",
       "\n",
       "    .dataframe tbody tr th {\n",
       "        vertical-align: top;\n",
       "    }\n",
       "\n",
       "    .dataframe thead th {\n",
       "        text-align: right;\n",
       "    }\n",
       "</style>\n",
       "<table border=\"1\" class=\"dataframe\">\n",
       "  <thead>\n",
       "    <tr style=\"text-align: right;\">\n",
       "      <th></th>\n",
       "      <th>여성출연자</th>\n",
       "      <th>남성출연자</th>\n",
       "    </tr>\n",
       "  </thead>\n",
       "  <tbody>\n",
       "    <tr>\n",
       "      <th>0</th>\n",
       "      <td>옥순(IN)</td>\n",
       "      <td>영식(IN)</td>\n",
       "    </tr>\n",
       "    <tr>\n",
       "      <th>1</th>\n",
       "      <td>하니(I)</td>\n",
       "      <td>영호(IS)</td>\n",
       "    </tr>\n",
       "  </tbody>\n",
       "</table>\n",
       "</div>"
      ],
      "text/plain": [
       "    여성출연자   남성출연자\n",
       "0  옥순(IN)  영식(IN)\n",
       "1   하니(I)  영호(IS)"
      ]
     },
     "execution_count": 230,
     "metadata": {},
     "output_type": "execute_result"
    }
   ],
   "source": [
    "df_test = pd.DataFrame({'여성출연자':['옥순(IN)','하니(I)'],'남성출연자':['영식(IN)','영호(IS)']})\n",
    "df_test"
   ]
  },
  {
   "cell_type": "code",
   "execution_count": 258,
   "id": "c681249a-a9f8-494f-a1cd-03fb4f8e58ef",
   "metadata": {},
   "outputs": [],
   "source": [
    "XX1 = torch.nn.functional.one_hot(torch.tensor(df_test.여성출연자.map(여성인덱스)),num_classes=9).float()\n",
    "XX2 = torch.nn.functional.one_hot(torch.tensor(df_test.남성출연자.map(남성인덱스)),num_classes=8).float()"
   ]
  },
  {
   "cell_type": "code",
   "execution_count": 267,
   "id": "2633676f-e443-494f-8197-678830d755ad",
   "metadata": {},
   "outputs": [
    {
     "data": {
      "text/plain": [
       "tensor([[3.9640],\n",
       "        [4.6568]], grad_fn=<MulBackward0>)"
      ]
     },
     "execution_count": 267,
     "metadata": {},
     "output_type": "execute_result"
    }
   ],
   "source": [
    "sig((l1(XX1) * l2(XX2)).sum(axis=1).reshape(2,1) + b1(XX1) + b2(XX2))*5"
   ]
  }
 ],
 "metadata": {
  "kernelspec": {
   "display_name": "Python 3 (ipykernel)",
   "language": "python",
   "name": "python3"
  },
  "language_info": {
   "codemirror_mode": {
    "name": "ipython",
    "version": 3
   },
   "file_extension": ".py",
   "mimetype": "text/x-python",
   "name": "python",
   "nbconvert_exporter": "python",
   "pygments_lexer": "ipython3",
   "version": "3.9.18"
  }
 },
 "nbformat": 4,
 "nbformat_minor": 5
}
