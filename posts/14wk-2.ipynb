{
 "cells": [
  {
   "cell_type": "raw",
   "id": "a240c304-b5fe-4be6-9961-edb60bdc4702",
   "metadata": {
    "vscode": {
     "languageId": "raw"
    }
   },
   "source": [
    "---\n",
    "title: \"14wk-2: (강화학습) -- 4x4 Grid World `q_table`, Appedix B\"\n",
    "author: \"sw1kwon\"\n",
    "date: \"06/09/2025\"\n",
    "draft: false\n",
    "---"
   ]
  },
  {
   "cell_type": "markdown",
   "id": "d62b3e98-d60f-428a-9f63-670a748c8534",
   "metadata": {},
   "source": [
    "📘 **Note Format Guide**\n",
    "\n",
    "This format serves as a structured guide for organizing lecture content, personal interpretation, experiments, and study-related questions.\n",
    "\n",
    "| Type | What It Means | When I Use It |\n",
    "|------|----------------|----------------|\n",
    "| 📝 Lecture | Original material from the professor’s notes | When I’m referencing core concepts or provided code |\n",
    "| 🗣️ In-Class Note | Verbal explanations shared during the lecture | When I want to record something the professor said in class but didn’t include in the official notes |\n",
    "| ✍️ My Note | My thoughts, interpretations, or additional explanations | When I reflect on or explain something in my own words |\n",
    "| 🔬 Experiment | Code I tried out or changed to explore further | When I test variations or go beyond the original example |\n",
    "| ❓ Question | Questions I had while studying | When I want to revisit or research something more deeply |"
   ]
  },
  {
   "cell_type": "markdown",
   "id": "75f7e889-359c-4c93-b1e7-70a3d184127b",
   "metadata": {},
   "source": [
    "📝\n",
    "🗣️\n",
    "✍️\n",
    "🔬\n",
    "❓"
   ]
  },
  {
   "cell_type": "markdown",
   "id": "c294b963-314c-4ebb-b6bf-ed7a13109868",
   "metadata": {
    "id": "4d47a7c9"
   },
   "source": [
    "# 1. 강의노트 원본 및 영상 링크"
   ]
  },
  {
   "cell_type": "markdown",
   "id": "806b7f13-fa0c-4e8d-9b02-775bdaa7c86d",
   "metadata": {},
   "source": [
    "[https://guebin.github.io/DL2025/posts/14wk-2.html](https://guebin.github.io/DL2025/posts/14wk-2.html)"
   ]
  },
  {
   "cell_type": "markdown",
   "id": "d8a8857b-05b7-4cc1-9cd1-3c838ece0a20",
   "metadata": {},
   "source": [
    "# 2. Imports 📝"
   ]
  },
  {
   "cell_type": "code",
   "execution_count": 1,
   "id": "bc5249ee-745e-4945-a841-b375fcb301bc",
   "metadata": {
    "tags": []
   },
   "outputs": [],
   "source": [
    "import gymnasium as gym\n",
    "#---#\n",
    "import numpy as np\n",
    "import collections\n",
    "import matplotlib.pyplot as plt\n",
    "from matplotlib.animation import FuncAnimation\n",
    "import IPython"
   ]
  },
  {
   "cell_type": "markdown",
   "id": "9ed110e8-adf4-4805-853a-3c5c44447741",
   "metadata": {},
   "source": [
    "# 3. `q_table` 📝"
   ]
  },
  {
   "cell_type": "markdown",
   "id": "be3fd056-1692-48cc-9b3f-c414e7d0857a",
   "metadata": {},
   "source": [
    "> `q[s1,s2,a]`는 상태 (s1,s2) 에서 행동 a의 \"품질\"을 의미한다. "
   ]
  },
  {
   "cell_type": "markdown",
   "id": "1e1de0d4-4cf3-4cd0-9c1d-3bca00e393fb",
   "metadata": {},
   "source": [
    "`-` 직관적으로 푸는 방법 (손으로 푸는 다이나믹 프로그래밍)"
   ]
  },
  {
   "attachments": {},
   "cell_type": "markdown",
   "id": "3dffba54-5c16-461a-8966-0ba5bc458a56",
   "metadata": {},
   "source": [
    "![](https://github.com/guebin/DL2025/blob/main/posts/14wk-2-fig1.png?raw=true)"
   ]
  },
  {
   "cell_type": "markdown",
   "id": "008ff18c-aafe-45ee-89aa-b283db8a1c8d",
   "metadata": {},
   "source": [
    "## A. 미래보상"
   ]
  },
  {
   "cell_type": "markdown",
   "id": "cbacdd35-370a-46b0-8840-e1c348f40bd4",
   "metadata": {},
   "source": [
    "- 🗣️\n",
    "    - 밴딧 게임은 미래보상이 없음 (다음 State가 없음)"
   ]
  },
  {
   "cell_type": "markdown",
   "id": "263b1862-49aa-4489-8d45-ee199f2696d5",
   "metadata": {},
   "source": [
    "`-` 언뜻생각하면 4x4 문제에서 `q_table`은 아래와 같이 생각하는게 합리적인듯 보인다. \n",
    "\n",
    "- `q[s1,s2,a]` = 상태 (s1,s2)에서 행동 a를 했을 경우 얻게되는 보상의 평균\n",
    "- $q(s,a) = r(s,a) = \\mathbb{E}[\\text{Reward} | \\text{State}=s, \\text{Action}=a]$\n",
    "\n",
    "그렇지만 아래와 같이 생각하는게 더 합리적이다. \n",
    "\n",
    "- `q[s1,s2,a]` = 상태 (s1,s2)에서 행동 a를 했을 경우 얻게되는 보상의 평균 + 미래에 얻게되리라 기대하는 보상\n",
    "- $q(s,a) = r(s,a) + r_{\\text{future}}$"
   ]
  },
  {
   "cell_type": "markdown",
   "id": "de33d1bd-57bb-46b5-bb6e-4d565fac8fd0",
   "metadata": {},
   "source": [
    "> 단, 여기에서 미래에 얻게되리라 기대하는 보상은 최선의 선택을 한다는 전제하에 계산 "
   ]
  },
  {
   "cell_type": "markdown",
   "id": "eaac5829-79f5-4dd4-87e3-65f37ef8ed27",
   "metadata": {},
   "source": [
    "`-` 미래에 얻게되리라 기대하는 보상은 어떻게 정의할 수 있을까? "
   ]
  },
  {
   "cell_type": "markdown",
   "id": "8e59f414-cbae-4378-85ae-abd231770ef2",
   "metadata": {},
   "source": [
    "![](https://github.com/guebin/DL2025/blob/main/posts/14wk-1-fig2.png?raw=true)"
   ]
  },
  {
   "cell_type": "markdown",
   "id": "0ae97ab7-2cb6-45d5-8690-d27e74bbf924",
   "metadata": {},
   "source": [
    "`# 예제1` -- 상태 (2,2) 에서 \"action=down\" 을 했을때 \n",
    "\n",
    "- 즉시 얻게되는 보상과\n",
    "- 미래에 얻게되리라 기대하는 보상\n",
    "\n",
    "은 무엇인가? 이것을 바탕으로 $s=(2,1)$, $a=\\text{down}$ 의 품질(Quality)는 어떻게 평가할 수 있는가? "
   ]
  },
  {
   "cell_type": "markdown",
   "id": "90f945a7-ca74-40b9-ac7a-8aeb7160a8ae",
   "metadata": {},
   "source": [
    "`(풀이?)` "
   ]
  },
  {
   "cell_type": "markdown",
   "id": "09713969-224b-4241-992f-f6b434308f9f",
   "metadata": {},
   "source": [
    "즉시 얻을 수 있다고 생각되는 보상은-1 이고 미래에 얻으리라 기대되는 보상은 100 점이다. 따라서 99점으로 평가하는게 합리적인듯하다. 수식으로 쓰면\n",
    "\n",
    "$$q(s,a)=q(s_1,s_2,a)=q(2,2, \\text{down}) = -1 + 100 = r(2,2,\\text{down}) + \\max_{a'}q(3,2,a')$$\n",
    "\n",
    "와 같이 쓸 수 있겠다."
   ]
  },
  {
   "cell_type": "markdown",
   "id": "e49d9bff-90e6-44c5-8f4a-37e91c0949f3",
   "metadata": {},
   "source": [
    "- 🗣️\n",
    "    - $\\max_{a'}q(3,2,a')$= (3,2)에서 할 수 있는 모든 액션들을 고려하였을 때 받게 되는 최대 품질\n",
    "    - $a'$ = 0,1,2,3 = 왼쪽,오른쪽,아래,위\n",
    "        - q(3,2,왼)=?? < 100\n",
    "        - q(3,2,오)=100\n",
    "        - q(3,2,아)=-10\n",
    "        - q(3,2,위)=?? < 100"
   ]
  },
  {
   "cell_type": "markdown",
   "id": "7c98c10f-0b55-4899-a65a-54e88908d0ef",
   "metadata": {},
   "source": [
    "`#`"
   ]
  },
  {
   "cell_type": "markdown",
   "id": "9cff4d70-e139-4cdf-ac41-415cddbbf562",
   "metadata": {},
   "source": [
    "`# 예제2` -- 상태 (1,2) 에서 \"action=down\" 을 했을때 \n",
    "\n",
    "- 즉시 얻게되는 보상과\n",
    "- 미래에 얻게되리라 기대하는 보상\n",
    "\n",
    "은 무엇인가? 이것을 바탕으로 $s=(1,2)$, $a=\\text{down}$ 의 품질(Quality)는 어떻게 평가할 수 있는가? "
   ]
  },
  {
   "cell_type": "markdown",
   "id": "0cf08de7-ce51-44e7-a0e2-7ad1a6e31dfa",
   "metadata": {},
   "source": [
    "`(풀이?)`"
   ]
  },
  {
   "cell_type": "markdown",
   "id": "54c72017-c2d4-43d4-9d22-8003d963a480",
   "metadata": {},
   "source": [
    "즉시 얻을 수 있다고 생각되는 보상은-1 이고 미래에 얻으리라 기대되는 보상은 99점이다. 따라서 98점으로 평가하는게 합리적인듯하다. 수식으로 쓰면\n",
    "\n",
    "$$q(s,a)=q(s_1,s_2,a)=q(1,2, \\text{down}) = -1 + 99 = r(1,2,\\text{down}) + \\max_{a'}q(2,2,a')$$\n",
    "\n",
    "와 같이 쓸 수 있겠다."
   ]
  },
  {
   "cell_type": "markdown",
   "id": "8c339e11-df04-49da-8684-3d528ce3160b",
   "metadata": {},
   "source": [
    "- 🗣️\n",
    "    - $\\max_{a'}q(2,2,a')$= (2,2)에서 할 수 있는 모든 액션들을 고려하였을 때 받게 되는 최대 품질\n",
    "        - q(3,2,up)=?? < 99\n",
    "        - q(3,2,down)=99\n",
    "        - q(3,2,right)=99\n",
    "        - q(3,2,left)=?? < 99"
   ]
  },
  {
   "cell_type": "markdown",
   "id": "9c4dcded-0840-4961-8100-5036668d4a66",
   "metadata": {},
   "source": [
    "`#`"
   ]
  },
  {
   "cell_type": "markdown",
   "id": "41e87d85-cebb-4772-8957-69d91e8f147c",
   "metadata": {},
   "source": [
    "`# 예제3` -- 상태 (0,1) 에서 \"action=right\" 을 했을때 \n",
    "\n",
    "- 즉시 얻게되는 보상과\n",
    "- 미래에 얻게되리라 기대하는 보상\n",
    "\n",
    "은 무엇인가? 이것을 바탕으로 $s=(0,1)$, $a=\\text{right}$ 의 품질(Quality)는 어떻게 평가할 수 있는가? "
   ]
  },
  {
   "cell_type": "markdown",
   "id": "771f70ea-94ba-4291-a218-2825a2b0f401",
   "metadata": {},
   "source": [
    "`(풀이?)`"
   ]
  },
  {
   "attachments": {},
   "cell_type": "markdown",
   "id": "091d4aab-add8-46cb-81d0-01711040cf30",
   "metadata": {},
   "source": [
    "앞의 예제들을 일반화하면 아래와 같은 수식을 쓸 수 있다. \n",
    "\n",
    "$$q(0,1, \\text{right}) = r(0,1,\\text{right}) + \\max_{a'}q(0,2,a')$$"
   ]
  },
  {
   "cell_type": "markdown",
   "id": "fefb5a74-e485-49a5-b00a-32f4d12a8620",
   "metadata": {},
   "source": [
    "따라서 만약에 $\\max_{a}q(0,2,a)$의 값을 알고 있다면 이를 구할 수 있다. "
   ]
  },
  {
   "cell_type": "markdown",
   "id": "68db2088-4b6c-4264-afc5-e626f5616e0c",
   "metadata": {},
   "source": [
    "`#`"
   ]
  },
  {
   "cell_type": "markdown",
   "id": "3104f34a-a025-4d50-9bd1-5aef22717e57",
   "metadata": {},
   "source": [
    "`-` (아직 부족한) 깨달음: 모든 $(s,a)$에 대하여 $q(s,a)$의 값은 아래와 같이 정의할 수 있겠다. \n",
    "\n",
    "$$q(s,a) = r(s,a) + \\max_{a'}q(s',a')$$"
   ]
  },
  {
   "cell_type": "markdown",
   "id": "d581dd69-c703-4bec-8921-101ffdcdd6fc",
   "metadata": {},
   "source": [
    "## B. 감가율 "
   ]
  },
  {
   "cell_type": "markdown",
   "id": "c318cefc-16fe-4253-9a7d-21a8943ce7cc",
   "metadata": {},
   "source": [
    "`# 예제1` -- 당신은 지금 아무것도 쓰여 있지 않은 빈 종이 한 장을 가지고 있습니다. 이 종이에 쓸 수 있는 숫자는 오직 두 가지, 0 또는 1입니다. 어떤 숫자를 쓰느냐에 따라 보상이 달라지는데, 수많은 실험을 통해 0을 쓰면 아무 보상도 없고, 1을 쓰면 10만 원을 받을 수 있다는 사실이 확인되었습니다. 이 사실이 확인된 이후 이 빈 종이의 가치는 얼마일까요? \n",
    "\n",
    "`(1)` 0원이다. \n",
    "\n",
    "`(2)` 10만원이다. \n",
    "\n",
    "`(3)` 5만원이다. \n",
    "\n",
    "`(4)` 모르겠다. "
   ]
  },
  {
   "cell_type": "markdown",
   "id": "952d5689-ea17-40c0-8c03-cd8a7b9ae49e",
   "metadata": {},
   "source": [
    "`#`"
   ]
  },
  {
   "cell_type": "markdown",
   "id": "554f22fe-b04d-42ad-99da-9893fd44b95d",
   "metadata": {},
   "source": [
    "`# 예제2` -- 당신 앞에는 빨간색 종이 한 장이 있습니다. 이 종이에는 0 또는 1 중 하나의 숫자를 쓸 수 있습니다. 만약 1을 쓰면 다음 단계인 주황색 종이 한 장을 받게 됩니다. 주황색 종이에도 똑같이 0 또는 1을 쓸 수 있고, 여기에 1을 쓰면 노란색 종이, 그다음은 초록색 종이, 그 다음은 파란색 종이, 그 다음은 남색 종이, 마지막으로는 보라색 종이를 순서대로 받습니다.  총 7단계(빨강 → 주황 → 노랑 → 초록 → 파랑 → 남색 → 보라색)를 거친 후, 보라색 종이에 1을 쓰면 비로소 10만 원의 현금 보상을 받을 수 있습니다.  단, 어느 단계에서든 0을 쓰면 아무 일도 일어나지 않고 그 즉시 게임이 종료됩니다. 즉, 그 이후로는 종이도 받을 수 없고 보상도 없습니다.  이 사실이 알려진 이후, 지금 당신이 들고 있는 '빨간색 종이'의 가치는 얼마일까요?\n",
    "\n",
    "`(1)` 0원이다.  \n",
    "\n",
    "`(2)` 10만 원이다.  \n",
    "\n",
    "`(3)` $\\frac{1}{2^6}$ x 10만원이다.  \n",
    "\n",
    "`(4)` 모르겠다.  "
   ]
  },
  {
   "cell_type": "markdown",
   "id": "79319490-08a8-4189-aabf-23518c44267e",
   "metadata": {},
   "source": [
    "🗣️("
   ]
  },
  {
   "cell_type": "markdown",
   "id": "82f741ad-507f-435a-921c-f492983be4ef",
   "metadata": {},
   "source": [
    "- 둘 다 답 (4)\n",
    "    - 10만원을 받아도 굳이 숫자를 써야하는 종이를 10만원을 똑같이 주고 살 이유는 없음\n",
    "    - 아무리 미래 보상이 확실해도 지금 당장 받는 것보다는 가격이 떨어짐\n",
    "        - 예제 2에서 빨간색 종이와 보라색 종이를 선택하라고 하면 전부 보라색 종이를 선택함\n",
    "    - 거래 당사자 간의 합의된 감가율에 따라 달라짐"
   ]
  },
  {
   "cell_type": "code",
   "execution_count": 2,
   "id": "a3e97bfc-402e-4e24-a2f2-45299a0c3e46",
   "metadata": {},
   "outputs": [
    {
     "data": {
      "text/plain": [
       "0.99"
      ]
     },
     "execution_count": 2,
     "metadata": {},
     "output_type": "execute_result"
    }
   ],
   "source": [
    "0.99 # 보라색 종이의 가치를 0.99라고 한다면"
   ]
  },
  {
   "cell_type": "code",
   "execution_count": 5,
   "id": "d9eea832-6cc8-4fcb-8255-638c987a6579",
   "metadata": {},
   "outputs": [
    {
     "data": {
      "text/plain": [
       "0.9801"
      ]
     },
     "execution_count": 5,
     "metadata": {},
     "output_type": "execute_result"
    }
   ],
   "source": [
    "0.99**2 # 남색 종이의 가치"
   ]
  },
  {
   "cell_type": "markdown",
   "id": "1df8100a-070b-4779-a5f0-74ec84b08a42",
   "metadata": {},
   "source": [
    ")🗣️"
   ]
  },
  {
   "cell_type": "markdown",
   "id": "e240ef74-a35c-4988-bed4-846137fd3298",
   "metadata": {},
   "source": [
    "`#`"
   ]
  },
  {
   "cell_type": "markdown",
   "id": "429b434c-ba5d-4d91-96c9-aa4103c8e280",
   "metadata": {},
   "source": [
    "`-` 직관: 아무리 보장된 보상이라고 해도, 미래에 주어지는 보상은 현재의 보상과 동급취급할 수 없다. "
   ]
  },
  {
   "attachments": {},
   "cell_type": "markdown",
   "id": "22588097-57c4-4f78-8b2c-fb46cc79a31f",
   "metadata": {},
   "source": [
    "`-` 진짜 깨달음: 모든 $(s,a)$에 대하여 $q(s,a)$의 값은 아래와 같이 정의하는게 합리적이다. \n",
    "\n",
    "$$q(s,a) = r(s,a) + \\gamma \\max_{a'}q(s',a')$$\n",
    "\n",
    "여기에서 $\\gamma$는 0과 1사이의 값이며 감가율(**discout factor**)이라 부른다. "
   ]
  },
  {
   "cell_type": "markdown",
   "id": "56ed4d90-604c-4110-a378-a5566c29c912",
   "metadata": {},
   "source": [
    "- 🗣️\n",
    "    - 즉시 받게 되는 보상 + 감가율 * 미래에 받게 되는 보상 "
   ]
  },
  {
   "cell_type": "markdown",
   "id": "1f196c09-a8f9-446c-8060-b137bc96415e",
   "metadata": {},
   "source": [
    "## C. `q_table` update "
   ]
  },
  {
   "cell_type": "markdown",
   "id": "9d1613f7-cd1f-4aac-b4fd-8fba5efc746d",
   "metadata": {},
   "source": [
    "`-` 지난시간코드 "
   ]
  },
  {
   "cell_type": "code",
   "execution_count": 6,
   "id": "2ef89baf-d4ed-43d9-98ee-1b8a59ccc056",
   "metadata": {},
   "outputs": [],
   "source": [
    "class GridWorld:\n",
    "    def __init__(self):\n",
    "        self.a2d = {\n",
    "            0: np.array([0,1]), # →\n",
    "            1: np.array([0,-1]), # ←  \n",
    "            2: np.array([1,0]),  # ↓\n",
    "            3: np.array([-1,0])  # ↑\n",
    "        }\n",
    "        self.state_space = gym.spaces.MultiDiscrete([4,4])\n",
    "        self.state = np.array([0,0])\n",
    "        self.reward = None\n",
    "        self.terminated = False\n",
    "    def step(self,action):\n",
    "        self.state = self.state + self.a2d[action]\n",
    "        s1,s2 = self.state\n",
    "        if (s1==3) and (s2==3):\n",
    "            self.reward = 100 \n",
    "            self.terminated = True\n",
    "        elif self.state in self.state_space:\n",
    "            self.reward = -1 \n",
    "            self.terminated = False\n",
    "        else:\n",
    "            self.reward = -10\n",
    "            self.terminated = True\n",
    "        # print(\n",
    "        #     f\"action = {action}\\t\"\n",
    "        #     f\"state = {self.state - self.a2d[action]} -> {self.state}\\t\"\n",
    "        #     f\"reward = {self.reward}\\t\"\n",
    "        #     f\"termiated = {self.terminated}\"\n",
    "        # )            \n",
    "        return self.state, self.reward, self.terminated\n",
    "    def reset(self):\n",
    "        self.state = np.array([0,0])\n",
    "        self.terminated = False\n",
    "        return self.state\n",
    "class RandomAgent:\n",
    "    def __init__(self):\n",
    "        self.state = np.array([0,0]) \n",
    "        self.action = None \n",
    "        self.reward = None \n",
    "        self.next_state = None\n",
    "        self.terminated = None\n",
    "        #---#\n",
    "        self.states = collections.deque(maxlen=500000)\n",
    "        self.actions = collections.deque(maxlen=500000)\n",
    "        self.rewards = collections.deque(maxlen=500000)\n",
    "        self.next_states = collections.deque(maxlen=500000)\n",
    "        self.terminations = collections.deque(maxlen=500000)\n",
    "        #---#\n",
    "        self.action_space = gym.spaces.Discrete(4)\n",
    "        self.n_experience = 0\n",
    "    def act(self):\n",
    "        self.action = self.action_space.sample()\n",
    "    def save_experience(self):\n",
    "        self.states.append(self.state)\n",
    "        self.actions.append(self.action)\n",
    "        self.rewards.append(self.reward)\n",
    "        self.next_states.append(self.next_state)\n",
    "        self.terminations.append(self.terminated)\n",
    "        self.n_experience = self.n_experience + 1\n",
    "    def learn(self):\n",
    "        pass"
   ]
  },
  {
   "cell_type": "code",
   "execution_count": 7,
   "id": "f386fb27-af90-4d63-b3e9-495943c3863a",
   "metadata": {},
   "outputs": [],
   "source": [
    "player = RandomAgent()\n",
    "env = GridWorld()\n",
    "scores = [] \n",
    "score = 0 \n",
    "#\n",
    "for e in range(1,100000):\n",
    "    #---에피소드시작---#\n",
    "    while True:\n",
    "        # step1 -- 액션선택\n",
    "        player.act()\n",
    "        # step2 -- 환경반응 \n",
    "        player.next_state, player.reward, player.terminated = env.step(player.action)\n",
    "        # step3 -- 경험기록 & 학습 \n",
    "        player.save_experience()\n",
    "        player.learn()\n",
    "        # step4 --종료 조건 체크 & 후속 처리\n",
    "        if env.terminated:\n",
    "            score = score + player.reward\n",
    "            scores.append(score)\n",
    "            score = 0 \n",
    "            player.state = env.reset() \n",
    "            break\n",
    "        else: \n",
    "            score = score + player.reward         \n",
    "            player.state = player.next_state"
   ]
  },
  {
   "cell_type": "markdown",
   "id": "a45c6204-63cb-481b-b350-ea9923c75280",
   "metadata": {},
   "source": [
    ":::{.callout-important}\n",
    "\n",
    "***강의노트 수정 2025-06-12***\n",
    "\n",
    "노규호학생의 도움으로 예전강의의 오류를 발견하여 수정하였습니다. \n",
    "\n",
    "```Python\n",
    "# 수정전\n",
    "...\n",
    "        if env.terminated:\n",
    "            ...\n",
    "        else: \n",
    "            score = score + player.reward\n",
    "            scores.append(score)            \n",
    "            player.state = player.next_state\n",
    "            \n",
    "# 수정후\n",
    "        if env.terminated:\n",
    "            ...\n",
    "        else: \n",
    "            score = score + player.reward\n",
    "#            scores.append(score)            ### <--- 여기를 주석처리해야함!! \n",
    "            player.state = player.next_state\n",
    "```            \n",
    ":::"
   ]
  },
  {
   "cell_type": "markdown",
   "id": "17086c68-eb5e-4066-bfd1-d341303b0b50",
   "metadata": {},
   "source": [
    "`-` 상황: player가 경험은 있는데, q_table을 만들줄 모름 (데이터는 있음, 학습이 안된상태)"
   ]
  },
  {
   "cell_type": "code",
   "execution_count": 8,
   "id": "0d33c52a-1503-42ab-a162-4ae66c75b82d",
   "metadata": {},
   "outputs": [
    {
     "data": {
      "text/plain": [
       "326783"
      ]
     },
     "execution_count": 8,
     "metadata": {},
     "output_type": "execute_result"
    }
   ],
   "source": [
    "player.n_experience"
   ]
  },
  {
   "cell_type": "markdown",
   "id": "55ccb9ac-7ff1-4907-86a6-ee284613b380",
   "metadata": {},
   "source": [
    "`-` 저번시간에 배운 `q_table` "
   ]
  },
  {
   "cell_type": "code",
   "execution_count": 212,
   "id": "ada8e724-8499-437a-8c53-aab1fbc75859",
   "metadata": {},
   "outputs": [],
   "source": [
    "q_table = np.zeros((4,4,4))\n",
    "memory = zip(player.states, player.actions, player.rewards)\n",
    "for (s1,s2), a, r in memory:\n",
    "    qhat = q_table[s1,s2,a] # 내가 생각했던갓\n",
    "    q = r # 실제값\n",
    "    diff = q-qhat # 차이\n",
    "    q_table[s1,s2,a] = q_table[s1,s2,a]  + 0.01*diff# update"
   ]
  },
  {
   "cell_type": "code",
   "execution_count": 213,
   "id": "cc7e1ac9-9fc6-4605-b885-744630e77245",
   "metadata": {},
   "outputs": [
    {
     "name": "stdout",
     "output_type": "stream",
     "text": [
      "action = 0\n",
      "q[...,0] = [[ -1.     -1.     -1.    -10.   ]\n",
      " [ -1.     -1.     -1.    -10.   ]\n",
      " [ -1.     -1.     -1.     -9.999]\n",
      " [ -1.     -1.     99.991   0.   ]]\n",
      "---\n",
      "action = 1\n",
      "q[...,1] = [[-10.  -1.  -1.  -1.]\n",
      " [-10.  -1.  -1.  -1.]\n",
      " [-10.  -1.  -1.  -1.]\n",
      " [-10.  -1.  -1.   0.]]\n",
      "---\n",
      "action = 2\n",
      "q[...,2] = [[ -1.     -1.     -1.     -1.   ]\n",
      " [ -1.     -1.     -1.     -1.   ]\n",
      " [ -1.     -1.     -1.     99.993]\n",
      " [-10.    -10.     -9.999   0.   ]]\n",
      "---\n",
      "action = 3\n",
      "q[...,3] = [[-10. -10. -10. -10.]\n",
      " [ -1.  -1.  -1.  -1.]\n",
      " [ -1.  -1.  -1.  -1.]\n",
      " [ -1.  -1.  -1.   0.]]\n",
      "---\n"
     ]
    }
   ],
   "source": [
    "for a in [0,1,2,3]: \n",
    "    print(f\"action = {a}\")\n",
    "    print(f\"q[...,{a}] = {q_table[...,a].round(3)}\")\n",
    "    print(\"---\")"
   ]
  },
  {
   "cell_type": "markdown",
   "id": "93f5a81f-1bfa-4c4f-aa6a-32b1fd023931",
   "metadata": {},
   "source": [
    "- 🗣️\n",
    "    - action 0: 오른쪽\n",
    "    - action 1: 왼쪽\n",
    "    - action 2: 아래\n",
    "    - action 3: 위"
   ]
  },
  {
   "cell_type": "markdown",
   "id": "bdf6b406-37e2-48e4-825a-303edcb475a2",
   "metadata": {},
   "source": [
    "`-` 이번시간에 배운 `q_table`: 아래를 이용한다. "
   ]
  },
  {
   "attachments": {},
   "cell_type": "markdown",
   "id": "56b6b169-3d74-4e4c-9f0e-aca869662596",
   "metadata": {},
   "source": [
    "$$q(s,a) = r(s,a) + \\gamma \\max_{a'}q(s',a')$$"
   ]
  },
  {
   "cell_type": "markdown",
   "id": "91685774-6a0f-4a71-8f52-520ac4141cbd",
   "metadata": {},
   "source": [
    ":::{.callout-note}\n",
    "사실 좀 더 실용적으로는(=코딩친화적으로는) 아래의 수식을 쓰는게 좋다. \n",
    "\n",
    "$$q(s,a) = \\begin{cases} r(s,a) & \\text{if terminated} \\\\ r(s,a) + \\gamma \\max_{a'}q(s',a') & \\text{else} \\end{cases}$$\n",
    ":::"
   ]
  },
  {
   "cell_type": "markdown",
   "id": "ea8a35d3-67d2-40c0-92d4-f224649c4582",
   "metadata": {},
   "source": [
    "🗣️("
   ]
  },
  {
   "cell_type": "markdown",
   "id": "46e763b3-af55-4075-9e99-0d3af200a59f",
   "metadata": {},
   "source": [
    "```python\n",
    "q_table = np.zeros((4,4,4))\n",
    "memory = zip(player.states, player.actions, player.rewards)\n",
    "for (s1,s2), a, r in memory:\n",
    "    qhat = q_table[s1,s2,a] # 내가 생각했던 값\n",
    "    if tmd:\n",
    "        q = r # 실제값\n",
    "    else:\n",
    "        future = q_table[ss1,ss2,:].max() # ss1,ss2 : 다음 상태\n",
    "        q = r + 0.95*future\n",
    "    diff = q-qhat # 차이\n",
    "    q_table[s1,s2,a] = q_table[s1,s2,a]  + 0.01*diff# update\n",
    "```"
   ]
  },
  {
   "cell_type": "markdown",
   "id": "e4dd7074-4b16-4227-97a7-dcad7fd04a95",
   "metadata": {},
   "source": [
    "- 정의 되어 있지 않은 내용을 쓰면"
   ]
  },
  {
   "cell_type": "code",
   "execution_count": 12,
   "id": "e02a8323-a0a2-4ccf-b4b4-a95ea3a9e8f8",
   "metadata": {},
   "outputs": [],
   "source": [
    "# player.next_states # 다음 상태가 저장되어 있음"
   ]
  },
  {
   "cell_type": "code",
   "execution_count": 11,
   "id": "46a962ed-204f-40c8-b0b8-ef8cc891b26a",
   "metadata": {},
   "outputs": [],
   "source": [
    "# player.terminations # True, False가 저장되어 있음"
   ]
  },
  {
   "cell_type": "code",
   "execution_count": 13,
   "id": "472302b6-bcd1-42cb-8aaa-1988d2cbe9e6",
   "metadata": {},
   "outputs": [],
   "source": [
    "q_table = np.zeros((4,4,4))\n",
    "memory = zip(player.states, player.actions, player.rewards, player.next_states, player.terminations)\n",
    "for (s1,s2), a, r, (ss1,ss2), tmd in memory:\n",
    "    qhat = q_table[s1,s2,a] # 내가 생각했던 값\n",
    "    if tmd:\n",
    "        q = r # 실제값\n",
    "    else:\n",
    "        future = q_table[ss1,ss2,:].max() # ss1,ss2 : 다음 상태\n",
    "        q = r + 0.95*future\n",
    "    diff = q-qhat # 차이\n",
    "    q_table[s1,s2,a] = q_table[s1,s2,a]  + 0.01*diff# update"
   ]
  },
  {
   "cell_type": "code",
   "execution_count": 14,
   "id": "41bb8c30-f686-466e-8653-7f89c099bdc1",
   "metadata": {},
   "outputs": [
    {
     "data": {
      "text/plain": [
       "array([[72.83952058, 77.72350932, 82.80344973, -9.99996536],\n",
       "       [77.72636791, 82.87118608, 88.27814712, -9.99999613],\n",
       "       [82.86957406, 88.28769271, 93.99071303, -9.9993985 ],\n",
       "       [88.24270099, 93.97700808, 99.99082608,  0.        ]])"
      ]
     },
     "execution_count": 14,
     "metadata": {},
     "output_type": "execute_result"
    }
   ],
   "source": [
    "q_table[...,0] # action 0 을 했을 때 테이블"
   ]
  },
  {
   "cell_type": "markdown",
   "id": "53cca141-f00e-4c20-9741-8208bcb1856a",
   "metadata": {},
   "source": [
    "- 감가율을 5%가 아니라 1%만 깎으면 값이 조금 더 커짐 (미래에 대한 보상을 조금 더 높게 치므로)"
   ]
  },
  {
   "cell_type": "code",
   "execution_count": 15,
   "id": "a62244b0-f492-441f-8009-29a532a804d4",
   "metadata": {},
   "outputs": [],
   "source": [
    "q_table = np.zeros((4,4,4))\n",
    "memory = zip(player.states, player.actions, player.rewards, player.next_states, player.terminations)\n",
    "for (s1,s2), a, r, (ss1,ss2), tmd in memory:\n",
    "    qhat = q_table[s1,s2,a] # 내가 생각했던 값\n",
    "    if tmd:\n",
    "        q = r # 실제값\n",
    "    else:\n",
    "        future = q_table[ss1,ss2,:].max() # ss1,ss2 : 다음 상태\n",
    "        q = r + 0.99*future\n",
    "    diff = q-qhat # 차이\n",
    "    q_table[s1,s2,a] = q_table[s1,s2,a]  + 0.01*diff# update"
   ]
  },
  {
   "cell_type": "code",
   "execution_count": 16,
   "id": "8de68fb9-857a-4f25-9d0c-24fe8d4d1ab2",
   "metadata": {},
   "outputs": [
    {
     "data": {
      "text/plain": [
       "array([[90.18056786, 92.09886903, 93.96750757, -9.99996536],\n",
       "       [92.10224034, 94.04416666, 95.99626811, -9.99999613],\n",
       "       [94.04234232, 96.00663449, 97.990322  , -9.9993985 ],\n",
       "       [95.95777379, 97.97603998, 99.99082608,  0.        ]])"
      ]
     },
     "execution_count": 16,
     "metadata": {},
     "output_type": "execute_result"
    }
   ],
   "source": [
    "q_table[...,0] # action 0 을 했을 때 테이블"
   ]
  },
  {
   "cell_type": "markdown",
   "id": "f0345996-fd9d-42fc-8d4e-a423a3573c81",
   "metadata": {},
   "source": [
    "- 학습하기에는 5%가 나을 것 같음 (값마다 차이가 크므로)"
   ]
  },
  {
   "cell_type": "code",
   "execution_count": 17,
   "id": "14539036-1a33-4b9c-b26b-ee07391973d8",
   "metadata": {},
   "outputs": [],
   "source": [
    "q_table = np.zeros((4,4,4))\n",
    "memory = zip(player.states, player.actions, player.rewards, player.next_states, player.terminations)\n",
    "for (s1,s2), a, r, (ss1,ss2), tmd in memory:\n",
    "    qhat = q_table[s1,s2,a] # 내가 생각했던 값\n",
    "    if tmd:\n",
    "        q = r # 실제값\n",
    "    else:\n",
    "        future = q_table[ss1,ss2,:].max() # ss1,ss2 : 다음 상태\n",
    "        q = r + 0.95*future\n",
    "    diff = q-qhat # 차이\n",
    "    q_table[s1,s2,a] = q_table[s1,s2,a]  + 0.01*diff# update"
   ]
  },
  {
   "cell_type": "code",
   "execution_count": 18,
   "id": "b2a773cf-b7f8-4a40-87e3-3506b8b833dd",
   "metadata": {},
   "outputs": [
    {
     "data": {
      "text/plain": [
       "array([[72.83952058, 77.72350932, 82.80344973, -9.99996536],\n",
       "       [77.72636791, 82.87118608, 88.27814712, -9.99999613],\n",
       "       [82.86957406, 88.28769271, 93.99071303, -9.9993985 ],\n",
       "       [88.24270099, 93.97700808, 99.99082608,  0.        ]])"
      ]
     },
     "execution_count": 18,
     "metadata": {},
     "output_type": "execute_result"
    }
   ],
   "source": [
    "q_table[...,0] # action 0 을 했을 때 테이블"
   ]
  },
  {
   "cell_type": "code",
   "execution_count": 19,
   "id": "456121fa-736c-4d2c-b116-dfa7200a6fa7",
   "metadata": {},
   "outputs": [
    {
     "data": {
      "text/plain": [
       "array([[-10.        ,  68.19615723,  72.83448762,  77.68726629],\n",
       "       [-10.        ,  72.83795619,  77.72290021,  82.84620653],\n",
       "       [-10.        ,  77.72026164,  82.86332991,  88.19689967],\n",
       "       [ -9.99997682,  82.748506  ,  88.11876519,   0.        ]])"
      ]
     },
     "execution_count": 19,
     "metadata": {},
     "output_type": "execute_result"
    }
   ],
   "source": [
    "q_table[...,1] # 왼쪽으로 갔을 때 테이블"
   ]
  },
  {
   "cell_type": "code",
   "execution_count": 21,
   "id": "8d92d498-487e-420f-b73f-07da39ddd825",
   "metadata": {},
   "outputs": [
    {
     "data": {
      "text/plain": [
       "array([[72.83963932, 77.72633004, 82.86856325, 88.23479886],\n",
       "       [77.72428797, 82.8712446 , 88.28755321, 93.9835884 ],\n",
       "       [82.81365039, 88.27147768, 93.98527541, 99.99427983],\n",
       "       [-9.99998066, -9.99999722, -9.99915348,  0.        ]])"
      ]
     },
     "execution_count": 21,
     "metadata": {},
     "output_type": "execute_result"
    }
   ],
   "source": [
    "q_table[...,2] # 아래로 갔을 때 테이블"
   ]
  },
  {
   "cell_type": "code",
   "execution_count": 22,
   "id": "a85df18b-91c7-4b0f-b486-2fa88d8842c3",
   "metadata": {},
   "outputs": [
    {
     "data": {
      "text/plain": [
       "array([[-10.        , -10.        , -10.        ,  -9.99997587],\n",
       "       [ 68.19612628,  72.8376872 ,  77.7195001 ,  82.71315412],\n",
       "       [ 72.83517558,  77.72302563,  82.86358289,  88.14411865],\n",
       "       [ 77.68021549,  82.84140857,  88.18561423,   0.        ]])"
      ]
     },
     "execution_count": 22,
     "metadata": {},
     "output_type": "execute_result"
    }
   ],
   "source": [
    "q_table[...,3] # 위로 갔을 때 테이블"
   ]
  },
  {
   "cell_type": "markdown",
   "id": "c8008af8-2383-4894-b6ef-0f23f844397d",
   "metadata": {},
   "source": [
    "- 액션에 따라 출력"
   ]
  },
  {
   "cell_type": "code",
   "execution_count": 23,
   "id": "4c719e73-8b87-4cc8-b3b6-59456fe9c07d",
   "metadata": {},
   "outputs": [
    {
     "name": "stdout",
     "output_type": "stream",
     "text": [
      "action = 0\n",
      "q[...,0] = [[ 72.84   77.724  82.803 -10.   ]\n",
      " [ 77.726  82.871  88.278 -10.   ]\n",
      " [ 82.87   88.288  93.991  -9.999]\n",
      " [ 88.243  93.977  99.991   0.   ]]\n",
      "---\n",
      "action = 1\n",
      "q[...,1] = [[-10.     68.196  72.834  77.687]\n",
      " [-10.     72.838  77.723  82.846]\n",
      " [-10.     77.72   82.863  88.197]\n",
      " [-10.     82.749  88.119   0.   ]]\n",
      "---\n",
      "action = 2\n",
      "q[...,2] = [[ 72.84   77.726  82.869  88.235]\n",
      " [ 77.724  82.871  88.288  93.984]\n",
      " [ 82.814  88.271  93.985  99.994]\n",
      " [-10.    -10.     -9.999   0.   ]]\n",
      "---\n",
      "action = 3\n",
      "q[...,3] = [[-10.    -10.    -10.    -10.   ]\n",
      " [ 68.196  72.838  77.72   82.713]\n",
      " [ 72.835  77.723  82.864  88.144]\n",
      " [ 77.68   82.841  88.186   0.   ]]\n",
      "---\n"
     ]
    }
   ],
   "source": [
    "for a in [0,1,2,3]: \n",
    "    print(f\"action = {a}\")\n",
    "    print(f\"q[...,{a}] = {q_table[...,a].round(3)}\")\n",
    "    print(\"---\")"
   ]
  },
  {
   "cell_type": "code",
   "execution_count": 25,
   "id": "51d731a7-2061-4562-ae1b-d62f95845ad8",
   "metadata": {},
   "outputs": [],
   "source": [
    "# player.q_table # 정의힌 적이 없으므로 error"
   ]
  },
  {
   "cell_type": "code",
   "execution_count": 26,
   "id": "7fd2f336-4ab6-413e-89c3-a873dff48b4e",
   "metadata": {},
   "outputs": [],
   "source": [
    "player.q_table = q_table # 방금 한 것을 덮어 씌우면"
   ]
  },
  {
   "cell_type": "code",
   "execution_count": 27,
   "id": "6e8078f0-5986-4737-96aa-cf8af8a74c28",
   "metadata": {},
   "outputs": [
    {
     "data": {
      "text/plain": [
       "array([[[ 72.83952058, -10.        ,  72.83963932, -10.        ],\n",
       "        [ 77.72350932,  68.19615723,  77.72633004, -10.        ],\n",
       "        [ 82.80344973,  72.83448762,  82.86856325, -10.        ],\n",
       "        [ -9.99996536,  77.68726629,  88.23479886,  -9.99997587]],\n",
       "\n",
       "       [[ 77.72636791, -10.        ,  77.72428797,  68.19612628],\n",
       "        [ 82.87118608,  72.83795619,  82.8712446 ,  72.8376872 ],\n",
       "        [ 88.27814712,  77.72290021,  88.28755321,  77.7195001 ],\n",
       "        [ -9.99999613,  82.84620653,  93.9835884 ,  82.71315412]],\n",
       "\n",
       "       [[ 82.86957406, -10.        ,  82.81365039,  72.83517558],\n",
       "        [ 88.28769271,  77.72026164,  88.27147768,  77.72302563],\n",
       "        [ 93.99071303,  82.86332991,  93.98527541,  82.86358289],\n",
       "        [ -9.9993985 ,  88.19689967,  99.99427983,  88.14411865]],\n",
       "\n",
       "       [[ 88.24270099,  -9.99997682,  -9.99998066,  77.68021549],\n",
       "        [ 93.97700808,  82.748506  ,  -9.99999722,  82.84140857],\n",
       "        [ 99.99082608,  88.11876519,  -9.99915348,  88.18561423],\n",
       "        [  0.        ,   0.        ,   0.        ,   0.        ]]])"
      ]
     },
     "execution_count": 27,
     "metadata": {},
     "output_type": "execute_result"
    }
   ],
   "source": [
    "player.q_table"
   ]
  },
  {
   "cell_type": "markdown",
   "id": "89e654bb-daa5-4f27-94b9-b9a088040a99",
   "metadata": {},
   "source": [
    ")🗣️"
   ]
  },
  {
   "cell_type": "code",
   "execution_count": 220,
   "id": "f8965057-d2b6-4873-8094-d9927019416a",
   "metadata": {},
   "outputs": [],
   "source": [
    "q_table = np.zeros((4,4,4))\n",
    "memory = zip(player.states, player.actions, player.rewards, player.next_states, player.terminations)\n",
    "for (s1,s2), a, r, (ss1,ss2), tmd  in memory:\n",
    "    qhat = q_table[s1,s2,a] # 내가 생각했던값\n",
    "    if tmd: \n",
    "        q = r # 실제값\n",
    "    else: \n",
    "        future = q_table[ss1,ss2,:].max()\n",
    "        q = r + 0.95 * future\n",
    "    diff = q-qhat # 차이\n",
    "    q_table[s1,s2,a] = q_table[s1,s2,a]  + 0.01*diff# update"
   ]
  },
  {
   "cell_type": "code",
   "execution_count": 226,
   "id": "a2b239bc-60ed-4a34-b02a-665ecc4179fb",
   "metadata": {},
   "outputs": [
    {
     "name": "stdout",
     "output_type": "stream",
     "text": [
      "action = 0\n",
      "q[...,0] = [[ 72.838  77.721  82.807 -10.   ]\n",
      " [ 77.725  82.87   88.276 -10.   ]\n",
      " [ 82.867  88.285  93.989  -9.999]\n",
      " [ 88.229  93.978  99.991   0.   ]]\n",
      "---\n",
      "action = 1\n",
      "q[...,1] = [[-10.     68.195  72.833  77.683]\n",
      " [-10.     72.836  77.721  82.849]\n",
      " [-10.     77.717  82.862  88.186]\n",
      " [-10.     82.723  88.128   0.   ]]\n",
      "---\n",
      "action = 2\n",
      "q[...,2] = [[ 72.838  77.724  82.867  88.241]\n",
      " [ 77.721  82.869  88.286  93.982]\n",
      " [ 82.801  88.272  93.985  99.993]\n",
      " [-10.    -10.     -9.999   0.   ]]\n",
      "---\n",
      "action = 3\n",
      "q[...,3] = [[-10.    -10.    -10.    -10.   ]\n",
      " [ 68.195  72.835  77.718  82.734]\n",
      " [ 72.832  77.721  82.863  88.122]\n",
      " [ 77.678  82.845  88.216   0.   ]]\n",
      "---\n"
     ]
    }
   ],
   "source": [
    "for a in [0,1,2,3]: \n",
    "    print(f\"action = {a}\")\n",
    "    print(f\"q[...,{a}] = {q_table[...,a].round(3)}\")\n",
    "    print(\"---\")"
   ]
  },
  {
   "cell_type": "markdown",
   "id": "0863a3be-e0a4-404f-a0d9-2b2f44affe13",
   "metadata": {},
   "source": [
    "```\n",
    "action 0: 오른쪽\n",
    "action 1: 왼쪽\n",
    "action 2: 아래쪽\n",
    "action 3: 위쪽\n",
    "```"
   ]
  },
  {
   "cell_type": "code",
   "execution_count": 229,
   "id": "c9f3b036-d9b9-47d8-8acf-7d27cb12c5f7",
   "metadata": {},
   "outputs": [],
   "source": [
    "player.q_table = q_table"
   ]
  },
  {
   "cell_type": "markdown",
   "id": "5941b9bd-c425-4c9d-a23a-ff8e48d5197f",
   "metadata": {},
   "source": [
    "`-` 이제 플레이어의 행동은? "
   ]
  },
  {
   "cell_type": "markdown",
   "id": "25a15bcf-e23f-4212-9b34-be08bce40f17",
   "metadata": {},
   "source": [
    "🗣️("
   ]
  },
  {
   "cell_type": "code",
   "execution_count": 28,
   "id": "576a6f71-5db7-4dfc-a1c3-ed38399d091b",
   "metadata": {},
   "outputs": [],
   "source": [
    "s1=0\n",
    "s2=0"
   ]
  },
  {
   "cell_type": "code",
   "execution_count": 30,
   "id": "4b733d15-5f0a-4206-aabd-2e3c4f944bce",
   "metadata": {},
   "outputs": [
    {
     "data": {
      "text/plain": [
       "array([ 72.83952058, -10.        ,  72.83963932, -10.        ])"
      ]
     },
     "execution_count": 30,
     "metadata": {},
     "output_type": "execute_result"
    }
   ],
   "source": [
    "player.q_table[s1,s2,:]"
   ]
  },
  {
   "cell_type": "markdown",
   "id": "0be50338-6908-4b3c-9cbe-04ac8892cb9c",
   "metadata": {},
   "source": [
    "- 숫자 4개 (각 액션을 했을 때의 결과), 0 또는 2의 행동을 하면 됨"
   ]
  },
  {
   "cell_type": "code",
   "execution_count": 32,
   "id": "6bbbfd15-d765-456b-9828-559ae8a00eb9",
   "metadata": {},
   "outputs": [
    {
     "data": {
      "text/plain": [
       "np.int64(2)"
      ]
     },
     "execution_count": 32,
     "metadata": {},
     "output_type": "execute_result"
    }
   ],
   "source": [
    "player.q_table[s1,s2,:].argmax() # 이것이 action이 되어야 함"
   ]
  },
  {
   "cell_type": "code",
   "execution_count": 33,
   "id": "bf75e21f-4f51-4463-8f93-8e93d6013cd2",
   "metadata": {},
   "outputs": [],
   "source": [
    "def act(player,s1,s2):\n",
    "    action = player.q_table[s1,s2,:].argmax()\n",
    "    return action"
   ]
  },
  {
   "cell_type": "code",
   "execution_count": 34,
   "id": "2e7d7d6b-5a05-4f9f-80fb-263c76471580",
   "metadata": {},
   "outputs": [
    {
     "data": {
      "text/plain": [
       "np.int64(2)"
      ]
     },
     "execution_count": 34,
     "metadata": {},
     "output_type": "execute_result"
    }
   ],
   "source": [
    "act(player,0,0) # player 오브젝트 안에는 q_table이 있음"
   ]
  },
  {
   "cell_type": "markdown",
   "id": "a96654a8-c1eb-4df0-bed5-0dc8a4fd2b81",
   "metadata": {},
   "source": [
    "```\n",
    "action 0: 오른쪽\n",
    "action 1: 왼쪽\n",
    "action 2: 아래쪽\n",
    "action 3: 위쪽\n",
    "```"
   ]
  },
  {
   "cell_type": "markdown",
   "id": "b51bd0a9-73c5-4bc0-b62e-8b1a31277658",
   "metadata": {},
   "source": [
    "✍️ 강의 영상과 세부 방향은 다름 (큰 틀은 동일)"
   ]
  },
  {
   "cell_type": "code",
   "execution_count": 36,
   "id": "4a168cf5-1208-425f-a033-379e4cdc699b",
   "metadata": {},
   "outputs": [
    {
     "data": {
      "text/plain": [
       "np.int64(2)"
      ]
     },
     "execution_count": 36,
     "metadata": {},
     "output_type": "execute_result"
    }
   ],
   "source": [
    "act(player,0,0) # 출발에서 아래쪽이므로 맞는 것 같음 (강의 영상은 오른쪽)"
   ]
  },
  {
   "cell_type": "code",
   "execution_count": 38,
   "id": "1ddde5de-65ae-4222-9911-4dda8f6cc6ed",
   "metadata": {},
   "outputs": [
    {
     "data": {
      "text/plain": [
       "np.int64(0)"
      ]
     },
     "execution_count": 38,
     "metadata": {},
     "output_type": "execute_result"
    }
   ],
   "source": [
    "act(player,1,0) # 오른쪽으로 이동 (1,0) => (1,1)"
   ]
  },
  {
   "cell_type": "code",
   "execution_count": 40,
   "id": "9c9c13b0-2439-4a3c-aff2-4d80038c45fb",
   "metadata": {},
   "outputs": [
    {
     "data": {
      "text/plain": [
       "np.int64(2)"
      ]
     },
     "execution_count": 40,
     "metadata": {},
     "output_type": "execute_result"
    }
   ],
   "source": [
    "act(player,1,1) # 아래쪽으로 이동 (1,1) => (2,1)"
   ]
  },
  {
   "cell_type": "code",
   "execution_count": 42,
   "id": "e5a95669-70ca-4c66-8fec-355821519d8e",
   "metadata": {},
   "outputs": [
    {
     "data": {
      "text/plain": [
       "np.int64(0)"
      ]
     },
     "execution_count": 42,
     "metadata": {},
     "output_type": "execute_result"
    }
   ],
   "source": [
    "act(player,2,1) # 오른쪽으로 이동 (2,1) => (2,2)"
   ]
  },
  {
   "cell_type": "code",
   "execution_count": 44,
   "id": "a4fff876-1a24-4836-85cc-06e2021b69e0",
   "metadata": {},
   "outputs": [
    {
     "data": {
      "text/plain": [
       "np.int64(0)"
      ]
     },
     "execution_count": 44,
     "metadata": {},
     "output_type": "execute_result"
    }
   ],
   "source": [
    "act(player,2,2) # 오른쪽으로 이동 (2,2) => (2,3)"
   ]
  },
  {
   "cell_type": "code",
   "execution_count": 45,
   "id": "f8580810-f845-40b9-b054-799ced3cccde",
   "metadata": {},
   "outputs": [
    {
     "data": {
      "text/plain": [
       "np.int64(2)"
      ]
     },
     "execution_count": 45,
     "metadata": {},
     "output_type": "execute_result"
    }
   ],
   "source": [
    "act(player,2,3) # 아래쪽으로 이동 (2,3) => (3,3)"
   ]
  },
  {
   "cell_type": "markdown",
   "id": "cec3346a-92ae-4910-98bc-adce7a383f38",
   "metadata": {},
   "source": [
    ")🗣️"
   ]
  },
  {
   "cell_type": "code",
   "execution_count": 231,
   "id": "659b345f-6faa-45e5-8330-d47ab376eeb4",
   "metadata": {},
   "outputs": [
    {
     "data": {
      "text/plain": [
       "array([[[ 72.83771663, -10.        ,  72.83771538, -10.        ],\n",
       "        [ 77.72139771,  68.19454652,  77.72442966, -10.        ],\n",
       "        [ 82.80747929,  72.83310558,  82.86672465, -10.        ],\n",
       "        [ -9.99998197,  77.6827334 ,  88.24107054,  -9.99998511]],\n",
       "\n",
       "       [[ 77.72454812, -10.        ,  77.72127368,  68.19457346],\n",
       "        [ 82.86950596,  72.83600446,  82.86912699,  72.83541752],\n",
       "        [ 88.27585546,  77.72068451,  88.28563001,  77.71797997],\n",
       "        [ -9.99999683,  82.84920596,  93.98163671,  82.73393175]],\n",
       "\n",
       "       [[ 82.8669733 , -10.        ,  82.8012108 ,  72.83236834],\n",
       "        [ 88.28521264,  77.71722413,  88.27171754,  77.72136508],\n",
       "        [ 93.9886205 ,  82.86197892,  93.98461924,  82.86278052],\n",
       "        [ -9.99904498,  88.18588483,  99.99321405,  88.12228859]],\n",
       "\n",
       "       [[ 88.22883855,  -9.9999832 ,  -9.99997635,  77.67756866],\n",
       "        [ 93.97813902,  82.72305248,  -9.99999792,  82.84474465],\n",
       "        [ 99.99082608,  88.12798376,  -9.99917862,  88.21551322],\n",
       "        [  0.        ,   0.        ,   0.        ,   0.        ]]])"
      ]
     },
     "execution_count": 231,
     "metadata": {},
     "output_type": "execute_result"
    }
   ],
   "source": [
    "player.q_table"
   ]
  },
  {
   "cell_type": "code",
   "execution_count": 236,
   "id": "4cfd651f-894c-40f6-adfb-f8b7aba18963",
   "metadata": {},
   "outputs": [],
   "source": [
    "def act(player,s1,s2):\n",
    "    action = player.q_table[s1,s2,:].argmax()\n",
    "    return action"
   ]
  },
  {
   "cell_type": "code",
   "execution_count": 246,
   "id": "a4ffada2-ff62-42ab-b085-de64a5070a66",
   "metadata": {},
   "outputs": [
    {
     "data": {
      "text/plain": [
       "0"
      ]
     },
     "execution_count": 246,
     "metadata": {},
     "output_type": "execute_result"
    }
   ],
   "source": [
    "act(player,0,0)"
   ]
  },
  {
   "cell_type": "code",
   "execution_count": 247,
   "id": "6fca0cc6-3cda-4afc-b4b7-19bb0ac979b5",
   "metadata": {},
   "outputs": [
    {
     "data": {
      "text/plain": [
       "array([ 72.83771663, -10.        ,  72.83771538, -10.        ])"
      ]
     },
     "execution_count": 247,
     "metadata": {},
     "output_type": "execute_result"
    }
   ],
   "source": [
    "player.q_table[0,0,:]"
   ]
  },
  {
   "cell_type": "markdown",
   "id": "19c904d7-45f2-49bf-a3b1-c45a5bada8ad",
   "metadata": {},
   "source": [
    "🗣️("
   ]
  },
  {
   "cell_type": "markdown",
   "id": "1ae6e355-a065-4a5b-be70-c8277768fbe9",
   "metadata": {},
   "source": [
    "- Q (q_table) --> DQN (Deep, Network)"
   ]
  },
  {
   "cell_type": "markdown",
   "id": "fe9937bb-fbb3-4ae8-a52d-441eb05293ae",
   "metadata": {},
   "source": [
    "```\n",
    "# SARSA\n",
    "Q learning 은 SARS 까지만 생각함 (next action은 최적의 값을 가정)\n",
    "#---#\n",
    "q_table ---> 어떠한 행동을 할지 결정\n",
    "학습 이후에는 정해진 path로만 감\n",
    "```"
   ]
  },
  {
   "cell_type": "code",
   "execution_count": 47,
   "id": "b9b74b35-df4b-47e7-96a5-a7315f77c9a5",
   "metadata": {},
   "outputs": [
    {
     "data": {
      "text/plain": [
       "np.int64(2)"
      ]
     },
     "execution_count": 47,
     "metadata": {},
     "output_type": "execute_result"
    }
   ],
   "source": [
    "act(player,0,0)"
   ]
  },
  {
   "cell_type": "code",
   "execution_count": 46,
   "id": "8301bddd-30a8-4a0e-aa95-e81a0da00981",
   "metadata": {},
   "outputs": [
    {
     "data": {
      "text/plain": [
       "array([ 72.83952058, -10.        ,  72.83963932, -10.        ])"
      ]
     },
     "execution_count": 46,
     "metadata": {},
     "output_type": "execute_result"
    }
   ],
   "source": [
    "player.q_table[0,0,:]"
   ]
  },
  {
   "cell_type": "markdown",
   "id": "a485d139-2138-487c-a5f4-62399749dd3e",
   "metadata": {},
   "source": [
    "```\n",
    "0과 2는 사실상 비등한 가치를 갖고 있음에도 매우 작은 차이 때문에 항상 2만 선택\n",
    "이게 맞는 건가 싶으면서 확률로 바꿔서 반반으로 선택하는 것도 생각해볼만 함\n",
    "(결정적 설계 vs 확률적 설계)\n",
    "\n",
    "하지만 밴딧게임에서 보상이 1, 10이 아니라 1, 2라면\n",
    "1을 1/(1+2)의 확률로 선택하는 것은 너무 큰 것 같음\n",
    "softmax 함수를 취해서 2에 많은 확률을 줄 수도 있음 (만들기 나름)\n",
    "\n",
    "항상 결정적으로 설계하는 것이 best가 아님을 알 수 있음\n",
    "\n",
    "많은 변형 가능\n",
    "100번 중 95번은 결정적, 5번은 확률적 등\n",
    "```"
   ]
  },
  {
   "cell_type": "markdown",
   "id": "4bade4d3-486f-4289-9ac9-f471e50828bb",
   "metadata": {},
   "source": [
    ")🗣️"
   ]
  },
  {
   "cell_type": "markdown",
   "id": "d1597511-06f3-4733-b750-3c823a8aad25",
   "metadata": {},
   "source": [
    "# 4. Solve 📝"
   ]
  },
  {
   "cell_type": "markdown",
   "id": "a1be6831-9a92-47a7-a604-c243c6f96872",
   "metadata": {},
   "source": [
    "- 추후 hw로 풀어보세요 "
   ]
  },
  {
   "cell_type": "markdown",
   "id": "3a42de3b-47be-417a-8ae8-767b9835409b",
   "metadata": {},
   "source": [
    "# Appendix B - 신경망관련용어 📝"
   ]
  },
  {
   "cell_type": "markdown",
   "id": "b04b92c7-fe0b-4401-ba60-5d91636a0c72",
   "metadata": {
    "tags": []
   },
   "source": [
    "`-` 은근히 용어가 헷갈리는데, 뜻을 좀 살펴보자. \n",
    "\n",
    "- ANN: 인공신경망 \n",
    "- MLP: 다층퍼셉트론 (레이어가 여러개 있어요) \n",
    "- DNN: 깊은신경망, 심층신경망 \n",
    "- CNN: 합성곱신경망 \n",
    "- RNN: 순환신경망 "
   ]
  },
  {
   "cell_type": "markdown",
   "id": "9a82295e-b6c5-41a7-bdc0-1723b3df3649",
   "metadata": {},
   "source": [
    "🗣️("
   ]
  },
  {
   "cell_type": "markdown",
   "id": "96f523aa-0220-40e1-9333-37ab9fe8ce04",
   "metadata": {},
   "source": [
    "```\n",
    "ANN: 노드 등 포함 (Neural Network)\n",
    "MLP: 웬만하면 MLP, 그러나 레이어가 하나면 MLP라고 주장할 수 없음(회귀분석)\n",
    "DNN: Deep의 기준이 애매하긴 함 (몇층부터 깊은가?)\n",
    "CNN: Convolution 사용\n",
    "RNN: Recurrent 사용\n",
    "```"
   ]
  },
  {
   "cell_type": "markdown",
   "id": "6743ee9d-ff6a-44c5-bb46-95b87c867ed2",
   "metadata": {},
   "source": [
    ")🗣️"
   ]
  },
  {
   "cell_type": "markdown",
   "id": "a5707ddd-11f3-4dc2-a5d8-9b0c7798be2e",
   "metadata": {
    "tags": []
   },
   "source": [
    "`# 예시1` -- MLP, DNN\n",
    "\n",
    "```Python\n",
    "net = torch.nn.Sequential(\n",
    "    torch.nn.Linear(in_features=1,out_features=2),\n",
    "    torch.nn.ReLU(),\n",
    "    torch.nn.Linear(in_features=2,out_features=2),\n",
    "    torch.nn.ReLU(),\n",
    "    torch.nn.Linear(in_features=2,out_features=1),    \n",
    "    torch.nn.Sigmoid()\n",
    ")\n",
    "```"
   ]
  },
  {
   "cell_type": "markdown",
   "id": "ba97a86b-8398-4a7b-abe2-4a8cf71ea435",
   "metadata": {
    "tags": []
   },
   "source": [
    "- ANN: O\n",
    "- MLP: O \n",
    "- DNN: O\n",
    "- CNN: X (합성곱레이어가 없으므로) \n",
    "- RNN: X (순환구조가 없으므로)"
   ]
  },
  {
   "cell_type": "markdown",
   "id": "a5c1d31d-4362-4bb8-be8b-b7fc9cf957ee",
   "metadata": {},
   "source": [
    "🗣️("
   ]
  },
  {
   "cell_type": "markdown",
   "id": "32492e67-146b-47e0-ae3e-53314e21345c",
   "metadata": {},
   "source": [
    "- 3층이면 깊다고 할 수 있음\n",
    "- ANN이라고 해도 틀린 말은 아님"
   ]
  },
  {
   "cell_type": "markdown",
   "id": "7ece1e46-900a-43de-b39c-0a2e665f74e5",
   "metadata": {},
   "source": [
    ")🗣️"
   ]
  },
  {
   "cell_type": "markdown",
   "id": "06315d30-f007-413e-8921-687ba3159146",
   "metadata": {},
   "source": [
    "`#`"
   ]
  },
  {
   "cell_type": "markdown",
   "id": "736d96e4-eb3f-4e66-88db-b40fbec7794f",
   "metadata": {
    "tags": []
   },
   "source": [
    "`# 예시2` -- MLP, Shallow Network\n",
    "\n",
    "```Python\n",
    "net = torch.nn.Sequential(\n",
    "    torch.nn.Linear(in_features=1,out_features=2),\n",
    "    torch.nn.ReLU(),\n",
    "    torch.nn.Linear(in_features=2,out_features=1),\n",
    "    torch.nn.Sigmoid()\n",
    ")\n",
    "```"
   ]
  },
  {
   "cell_type": "markdown",
   "id": "95383037-a3c6-475f-92cb-ad3bb936458c",
   "metadata": {
    "tags": []
   },
   "source": [
    "- ANN: O\n",
    "- MLP: O \n",
    "- DNN: X (깊은 신경망으로 생각하려면 더 많은 레이어가 필요함. 합의된 기준은 히든레이어 2장이상, 이걸 설명하기 위해서 얕은 신경망이란 용어도 씀) \n",
    "- CNN: X (합성곱레이어가 없으므로) \n",
    "- RNN: X (순환구조가 없으므로)"
   ]
  },
  {
   "cell_type": "markdown",
   "id": "d107eead-32bf-468f-a59e-5941a9984f73",
   "metadata": {},
   "source": [
    "🗣️("
   ]
  },
  {
   "cell_type": "markdown",
   "id": "54d00116-b717-4bc4-96a6-a2319ec04fd7",
   "metadata": {},
   "source": [
    "- 2층이면 깊다고 하기 애매함\n",
    "- MLP는 맞음\n",
    "- 2층 이하를 Shallow, 3층 이상을 DNN으로 구분해서 부르는 사람도 있음\n",
    "- ANN은 다 부를 수 있으나 정보는 없음"
   ]
  },
  {
   "cell_type": "markdown",
   "id": "6d212e86-430e-4a14-8bec-413adcda93c3",
   "metadata": {},
   "source": [
    ")🗣️"
   ]
  },
  {
   "cell_type": "markdown",
   "id": "5834d573-a4cd-4de4-bda6-9ebbaf86d274",
   "metadata": {},
   "source": [
    "`#`"
   ]
  },
  {
   "cell_type": "markdown",
   "id": "a97261c2-9701-40fe-9d02-f0d6530409ce",
   "metadata": {
    "tags": []
   },
   "source": [
    "`# 예시3` -- MLP, DNN, Wide NN\n",
    "\n",
    "```Python\n",
    "net = torch.nn.Sequential(\n",
    "    torch.nn.Linear(in_features=1,out_features=1048576),\n",
    "    torch.nn.ReLU(),\n",
    "    torch.nn.Linear(in_features=1048576,out_features=1048576),\n",
    "    torch.nn.ReLU(),\n",
    "    torch.nn.Linear(in_features=1048576,out_features=1),\n",
    "    torch.nn.Sigmoid(),    \n",
    ")\n",
    "```"
   ]
  },
  {
   "cell_type": "markdown",
   "id": "24fe18d5-7865-4562-918c-55a0daac5db2",
   "metadata": {
    "tags": []
   },
   "source": [
    "- ANN: O\n",
    "- MLP: O \n",
    "- DNN: O (깊긴한데 이정도면 모양이 깊다기 보다는 넓은 신경망임, 그래서 어떤 연구에서는 이걸 넓은 신경망이라 부르기도 함) \n",
    "- CNN: X (합성곱레이어가 없으므로) \n",
    "- RNN: X (순환구조가 없으므로)"
   ]
  },
  {
   "cell_type": "markdown",
   "id": "ecf80fb5-0f79-41bf-9401-ee654d245a3f",
   "metadata": {},
   "source": [
    "🗣️("
   ]
  },
  {
   "cell_type": "markdown",
   "id": "4c33b9a0-b124-4da9-8133-d84c8ff437f4",
   "metadata": {},
   "source": [
    "- 분류상으로는 DNN이 맞음\n",
    "- 그러나 위에서 보면 깊은 것보다는 넓음 (Wide NN로 부르는 사람도 있음)"
   ]
  },
  {
   "cell_type": "markdown",
   "id": "0d019a72-d8c2-4c75-9812-1cdfe7f9be85",
   "metadata": {},
   "source": [
    ")🗣️"
   ]
  },
  {
   "cell_type": "markdown",
   "id": "c7be7977-c50c-41e9-a7b9-7aa4b0e01b78",
   "metadata": {
    "tags": []
   },
   "source": [
    "`# 예시4` -- CNN\n",
    "\n",
    "```Python\n",
    "net = torch.nn.Sequential(\n",
    "    # Layer1\n",
    "    torch.nn.Conv2d(1, 64, kernel_size=4, stride=2, padding=1, bias=False),\n",
    "    torch.nn.LeakyReLU(0.2),\n",
    "    # Layer2\n",
    "    torch.nn.Conv2d(64, 128, kernel_size=4, stride=2, padding=1, bias=False),\n",
    "    torch.nn.BatchNorm2d(128),\n",
    "    torch.nn.LeakyReLU(0.2),\n",
    "    # Layer3\n",
    "    torch.nn.Conv2d(128, 256, kernel_size=4, stride=2, padding=1, bias=False),\n",
    "    torch.nn.BatchNorm2d(256),\n",
    "    torch.nn.LeakyReLU(0.2),\n",
    "    # Layer4\n",
    "    torch.nn.Conv2d(256, 512, kernel_size=4, stride=2, padding=1, bias=False),\n",
    "    torch.nn.BatchNorm2d(512),\n",
    "    torch.nn.LeakyReLU(0.2),\n",
    "    # Layer5\n",
    "    torch.nn.Conv2d(512, 1, kernel_size=4, stride=1, padding=0, bias=False),\n",
    "    torch.nn.Sigmoid(),\n",
    "    torch.nn.Flatten()\n",
    ")\n",
    "```"
   ]
  },
  {
   "cell_type": "markdown",
   "id": "076f13da-3c39-42e1-a25f-a962365282cc",
   "metadata": {
    "tags": []
   },
   "source": [
    "- ANN: O\n",
    "- MLP: X (합성곱연결이 포함되어있으므로, MLP가 아님, 완전연결만 포함해야 MLP임)  \n",
    "- DNN: O\n",
    "- CNN: O (합성곱레이어를 포함하고 있으므로) \n",
    "- RNN: X (순환구조가 없으므로)"
   ]
  },
  {
   "cell_type": "markdown",
   "id": "36c9bc69-9a8d-4943-a602-69022a6a131f",
   "metadata": {},
   "source": [
    "🗣️("
   ]
  },
  {
   "cell_type": "markdown",
   "id": "36c04e1d-0f31-4348-bf56-c5e351ecd19c",
   "metadata": {},
   "source": [
    "- MLP라고 부르지는 않음 (완전연결)\n",
    "- 참고) LeakyReLU: ReLU 개선"
   ]
  },
  {
   "cell_type": "markdown",
   "id": "218d2c97-68a8-4294-a07f-cd73e30ce0f9",
   "metadata": {},
   "source": [
    ")🗣️"
   ]
  },
  {
   "cell_type": "markdown",
   "id": "07b376cd-96a6-4e56-8009-d99a7016dab7",
   "metadata": {},
   "source": [
    "`# `"
   ]
  },
  {
   "cell_type": "markdown",
   "id": "89c84739-3aa8-4e53-a3d3-19d9f0993134",
   "metadata": {},
   "source": [
    "`# 예시5` -- CNN \n",
    "\n",
    "```Python\n",
    "net = torch.nn.Sequential(\n",
    "    torch.nn.Conv2d(1,16,(5,5)),\n",
    "    torch.nn.ReLU(),\n",
    "    torch.nn.MaxPool2d((2,2)),\n",
    "    torch.nn.Flatten(),\n",
    "    torch.nn.Linear(2304,1),\n",
    "    torch.nn.Sigmoid()\n",
    ")\n",
    "```"
   ]
  },
  {
   "cell_type": "markdown",
   "id": "5b09dbc3-594e-408d-a9be-ad28547bf1ec",
   "metadata": {
    "tags": []
   },
   "source": [
    "- ANN: O\n",
    "- MLP: X \n",
    "- DNN: X? (히든레이어가 1장이므로..)\n",
    "- CNN: O (합성곱레이어를 포함하고 있으므로) \n",
    "- RNN: X (순환구조가 없으므로)"
   ]
  },
  {
   "cell_type": "markdown",
   "id": "18ba58a2-663f-4bf6-9174-d9b905aad25c",
   "metadata": {},
   "source": [
    "> 근데 대부분의 문서에서는 CNN, RNN은 DNN의 한 종류로 설명하고 있어서요.. 이런 네트워크에서는 개념충돌이 옵니다. "
   ]
  },
  {
   "cell_type": "markdown",
   "id": "5d7eabae-7b4a-44a3-bc6e-4c9f7e12e5c8",
   "metadata": {},
   "source": [
    "🗣️("
   ]
  },
  {
   "cell_type": "markdown",
   "id": "926a70c3-a673-4f65-bad5-8bc8e12a998f",
   "metadata": {},
   "source": [
    "- 여기서 학습 가능한 층\n",
    "    - Conv2d\n",
    "    - Linear\n",
    "- Shallow로 구분하는 사람들은 2층이라 DNN이라고 주장하기 애매\n",
    "- 이미 CNN이기 때문에 ANN, DNN을 따지는 것은 별로 의미가 없다고 생각"
   ]
  },
  {
   "cell_type": "markdown",
   "id": "0f1e6f07-a79e-4ce8-96ca-90293c17f07f",
   "metadata": {},
   "source": [
    ")🗣️"
   ]
  },
  {
   "cell_type": "markdown",
   "id": "f6332816-b2d5-4154-9369-4cf2183ca535",
   "metadata": {},
   "source": [
    "`#`"
   ]
  },
  {
   "cell_type": "markdown",
   "id": "db402fd0-44b6-4817-9f67-671db27d99ef",
   "metadata": {},
   "source": [
    "`# 예시6` -- RNN"
   ]
  },
  {
   "cell_type": "markdown",
   "id": "2dcf1987-fec5-4e19-b8ad-849a1a0b4428",
   "metadata": {},
   "source": [
    "```Python\n",
    "class Net(torch.nn.Module):\n",
    "    def __init__(self):\n",
    "        super().__init__()\n",
    "        self.rnn = torch.nn.RNN(4,2)\n",
    "        self.linr = torch.nn.Linear(2,2) \n",
    "    def forward(self,X):\n",
    "        h,_ = self.rnn(X) \n",
    "        netout = self.linr(h)\n",
    "        return netout \n",
    "net = Net()     \n",
    "```"
   ]
  },
  {
   "cell_type": "markdown",
   "id": "353293f5-f02e-46fc-9e27-660f9117eba7",
   "metadata": {
    "tags": []
   },
   "source": [
    "- ANN: O\n",
    "- MLP: X \n",
    "- DNN: X? (히든레이어가 1장이므로..)\n",
    "- CNN: X (합성곱레이어가 없으므로) \n",
    "- RNN: O"
   ]
  },
  {
   "cell_type": "markdown",
   "id": "3dd02ece-4ca6-47f2-939a-e7a724ba0315",
   "metadata": {},
   "source": [
    "> 이것도 비슷한 개념충돌 "
   ]
  },
  {
   "cell_type": "markdown",
   "id": "2e5ccf9e-de82-4602-bdb5-60ea0aadb4b9",
   "metadata": {},
   "source": [
    "🗣️("
   ]
  },
  {
   "cell_type": "markdown",
   "id": "4a3ed9f2-6d79-4499-9ae1-8a4f43cb003a",
   "metadata": {},
   "source": [
    "- 여기서 학습 가능한 층\n",
    "    - RNN\n",
    "    - Linear\n",
    "- ANN으로 구분하는 것은 아무런 정보가 없음\n",
    "- 보통은\n",
    "    - MLP와 DNN을 거의 비슷하게 사용\n",
    "    - RNN이거나 CNN인 경우 굳이 ANN,MLP,DNN으로 부르지 않음"
   ]
  },
  {
   "cell_type": "markdown",
   "id": "13e5bc15-670e-4026-8956-d88ac79f1fff",
   "metadata": {},
   "source": [
    ")🗣️"
   ]
  },
  {
   "cell_type": "markdown",
   "id": "591c84b6-4cce-4e0f-9ace-0a78e1d2240a",
   "metadata": {},
   "source": [
    "`#`"
   ]
  },
  {
   "cell_type": "markdown",
   "id": "02911128-35bf-4a2d-9be7-16f382534eaa",
   "metadata": {},
   "source": [
    ":::{.callout-note}\n",
    "\n",
    "학부연구생 모집(2-3명): 관심 있으면 연락 주세요.\n",
    "\n",
    "- 대상: 통계학에 관심있는 3-4학년\n",
    "- 연구 내용: 다음을 포함한 통계학 관련 주제\n",
    "    - 다중척도 방법을 활용한 비유클리드 자료분석 (지오메트릭 딥러닝, 토폴로지컬 딥러닝) \n",
    "    - 혹은 학생이 원하는 연구주제\n",
    "- 문의 및 지원: gbchoi0814@gmail.com\n",
    "- 모집 기한: 6/25 까지\n",
    "\n",
    ":::"
   ]
  }
 ],
 "metadata": {
  "kernelspec": {
   "display_name": "Python 3 (ipykernel)",
   "language": "python",
   "name": "python3"
  },
  "language_info": {
   "codemirror_mode": {
    "name": "ipython",
    "version": 3
   },
   "file_extension": ".py",
   "mimetype": "text/x-python",
   "name": "python",
   "nbconvert_exporter": "python",
   "pygments_lexer": "ipython3",
   "version": "3.9.18"
  }
 },
 "nbformat": 4,
 "nbformat_minor": 5
}
