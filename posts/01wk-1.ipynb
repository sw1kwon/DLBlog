{
 "cells": [
  {
   "cell_type": "raw",
   "id": "1d42d6a9-6ee9-46df-b9c0-0a2119e36b78",
   "metadata": {
    "id": "87b5cded-346b-4915-acf5-b5ec93a5207d"
   },
   "source": [
    "---\n",
    "title: \"01wk-1: (토치) -- 강의소개, 파이토치 기본\"\n",
    "author: \"sw1kwon\"\n",
    "date: \"03/05/2025\"\n",
    "---"
   ]
  },
  {
   "cell_type": "markdown",
   "id": "45fc1aeb-e185-4062-ab5d-4413aded319b",
   "metadata": {},
   "source": [
    "📘 **Note Format Guide**\n",
    "\n",
    "This format serves as a structured guide for organizing lecture content, personal interpretation, experiments, and study-related questions.\n",
    "\n",
    "| Type | What It Means | When I Use It |\n",
    "|------|----------------|----------------|\n",
    "| 📝 Lecture | Original material from the professor’s notes | When I’m referencing core concepts or provided code |\n",
    "| 🗣️ In-Class Note | Verbal explanations shared during the lecture | When I want to record something the professor said in class but didn’t include in the official notes |\n",
    "| ✍️ My Note | My thoughts, interpretations, or additional explanations | When I reflect on or explain something in my own words |\n",
    "| 🔬 Experiment | Code I tried out or changed to explore further | When I test variations or go beyond the original example |\n",
    "| ❓ Question | Questions I had while studying | When I want to revisit or research something more deeply |"
   ]
  },
  {
   "cell_type": "markdown",
   "id": "bf763a2b-9d86-4df1-a539-99356815ad8f",
   "metadata": {},
   "source": [
    "📝\n",
    "🗣️\n",
    "✍️\n",
    "🔬\n",
    "❓"
   ]
  },
  {
   "cell_type": "markdown",
   "id": "22a4476f-6d45-4f1c-bc1d-7084d3491ce3",
   "metadata": {
    "id": "4d47a7c9"
   },
   "source": [
    "# 1. 강의노트 원본 및 영상 링크"
   ]
  },
  {
   "cell_type": "markdown",
   "id": "64617e8e-708f-44d5-85e2-52508316e04e",
   "metadata": {},
   "source": [
    "[https://guebin.github.io/DL2025/posts/01wk-1.html](https://guebin.github.io/DL2025/posts/01wk-1.html)"
   ]
  },
  {
   "cell_type": "markdown",
   "id": "c4d9e2b5-c601-42e1-8b0b-37279aaed6a3",
   "metadata": {},
   "source": [
    "# 2. Imports 📝"
   ]
  },
  {
   "cell_type": "code",
   "execution_count": 1,
   "id": "903d2bef-18cf-436f-aba0-bbf57ea3bbcb",
   "metadata": {},
   "outputs": [],
   "source": [
    "import torch"
   ]
  },
  {
   "cell_type": "markdown",
   "id": "558f58cb-3274-40a2-a18b-8ca09708de2b",
   "metadata": {},
   "source": [
    "# 3. 환경셋팅 📝"
   ]
  },
  {
   "cell_type": "markdown",
   "id": "69b7d76e-6605-4961-9b82-6f17d2e62e54",
   "metadata": {},
   "source": [
    "`-` 코랩이용자: 별도의 설치 필요 없음 \n",
    "\n",
    "- GPU 관리가 꼭 필요함!! (시험하루전날 수업 몰아서 듣지않기, 아이디만들어두기)\n",
    "- 특히 시험기간에 조심하세요 "
   ]
  },
  {
   "cell_type": "markdown",
   "id": "4ca12b61-7871-462a-8384-97f0803e5bfa",
   "metadata": {},
   "source": [
    "`-` 리눅스서버 사용자 (ref: <https://pytorch.org/get-started/locally/>)"
   ]
  },
  {
   "cell_type": "markdown",
   "id": "ace0e0b6-9b6e-4862-a64c-64e19ab7dac9",
   "metadata": {},
   "source": [
    "```bash\n",
    "conda create -n dl2025 python=3.9\n",
    "conda activate dl2025 \n",
    "pip3 install torch torchvision torchaudio --index-url https://download.pytorch.org/whl/cu126\n",
    "```"
   ]
  },
  {
   "cell_type": "markdown",
   "id": "601962a7-753c-4170-a753-cfbd7648cb74",
   "metadata": {},
   "source": [
    "# 4. 필요한 지식 📝"
   ]
  },
  {
   "cell_type": "markdown",
   "id": "edcb5a0b-543b-4d7b-af8c-7404536d472a",
   "metadata": {},
   "source": [
    "`-` 선형대수학\n",
    "\n",
    "- 벡터와 행렬\n",
    "- 행렬의 곱셉\n",
    "- 트랜스포즈"
   ]
  },
  {
   "cell_type": "markdown",
   "id": "596f05a1-8c61-411c-8f55-c8fe868c5d70",
   "metadata": {},
   "source": [
    "`-` 기초통계학(수리통계)\n",
    "\n",
    "- 정규분포, 이항분포\n",
    "- 모수, 추정\n",
    "- $X_i \\overset{i.i.d.}{\\sim} N(0,1)$\n"
   ]
  },
  {
   "cell_type": "markdown",
   "id": "7041a648-1a4c-4836-a3c6-0e6e4b63c483",
   "metadata": {},
   "source": [
    "`-` 회귀분석 \n",
    "\n",
    "- 독립변수($y$), 설명변수($X$)\n",
    "- ${\\boldsymbol y} = {\\bf X}{\\boldsymbol \\beta} + {\\boldsymbol \\epsilon}$"
   ]
  },
  {
   "cell_type": "markdown",
   "id": "a6de61f5-82bf-4901-9713-b54b02696622",
   "metadata": {},
   "source": [
    "`-` 파이썬\n",
    "\n",
    "- 파이썬 기본문법\n",
    "- 넘파이, 판다스\n",
    "- 전반적인 클래스 지식 (`__init__`, `self`, ...)\n",
    "- 상속"
   ]
  },
  {
   "cell_type": "markdown",
   "id": "3e931662-90f2-4b08-adb6-2af24dd867ce",
   "metadata": {},
   "source": [
    "# 5. 파이토치 기본 📝"
   ]
  },
  {
   "cell_type": "markdown",
   "id": "a7982e7f-4484-4348-b8dc-f2cc7fdc7b77",
   "metadata": {},
   "source": [
    "## A. torch"
   ]
  },
  {
   "cell_type": "markdown",
   "id": "283b8e3c-111c-460c-9acd-4e5fac082919",
   "metadata": {},
   "source": [
    "🗣️ torch는 numpy와 비슷 (벡터 만들기 등)"
   ]
  },
  {
   "cell_type": "markdown",
   "id": "e822671a-a125-478c-a772-03ace27f4879",
   "metadata": {},
   "source": [
    "`-` 벡터"
   ]
  },
  {
   "cell_type": "code",
   "execution_count": 2,
   "id": "f49a819d-6474-490d-bf3b-b14b2189caaa",
   "metadata": {},
   "outputs": [
    {
     "data": {
      "text/plain": [
       "tensor([1, 2, 3])"
      ]
     },
     "execution_count": 2,
     "metadata": {},
     "output_type": "execute_result"
    }
   ],
   "source": [
    "torch.tensor([1,2,3])"
   ]
  },
  {
   "cell_type": "markdown",
   "id": "6dd80008-787e-48c1-9509-2e380dbd0333",
   "metadata": {},
   "source": [
    "`-` 벡터의 덧셈"
   ]
  },
  {
   "cell_type": "code",
   "execution_count": 3,
   "id": "1a9b9b4e-7a94-4c45-a7e4-a152f568ba4e",
   "metadata": {},
   "outputs": [
    {
     "data": {
      "text/plain": [
       "tensor([3, 4, 5])"
      ]
     },
     "execution_count": 3,
     "metadata": {},
     "output_type": "execute_result"
    }
   ],
   "source": [
    "torch.tensor([1,2,3]) + torch.tensor([2,2,2])"
   ]
  },
  {
   "cell_type": "markdown",
   "id": "9b5b90bb-3a91-4eee-8d7e-b0ab0feaf4ad",
   "metadata": {},
   "source": [
    "`-` 브로드캐스팅 "
   ]
  },
  {
   "cell_type": "code",
   "execution_count": 4,
   "id": "0e6e6116-e148-4fcc-97af-148d4d30e1dd",
   "metadata": {},
   "outputs": [
    {
     "data": {
      "text/plain": [
       "tensor([3, 4, 5])"
      ]
     },
     "execution_count": 4,
     "metadata": {},
     "output_type": "execute_result"
    }
   ],
   "source": [
    "torch.tensor([1,2,3]) + 2"
   ]
  },
  {
   "cell_type": "markdown",
   "id": "356df037-68a3-4b6d-bba4-f51bcdbfdbd2",
   "metadata": {},
   "source": [
    "## B. 벡터와 매트릭스 "
   ]
  },
  {
   "cell_type": "markdown",
   "id": "863d56ef-e1f6-4bbb-88c2-b0bd7747eb9f",
   "metadata": {},
   "source": [
    "🗣️ torch.tensor는 np.array와 비슷"
   ]
  },
  {
   "cell_type": "markdown",
   "id": "3bffe9f3-ab88-4935-8eec-9e4a78a02e86",
   "metadata": {},
   "source": [
    "`-` $3 \\times 2$ matrix"
   ]
  },
  {
   "cell_type": "code",
   "execution_count": 5,
   "id": "385f1c2f-95fd-4612-9da6-c1173e0369ff",
   "metadata": {},
   "outputs": [
    {
     "data": {
      "text/plain": [
       "tensor([[1, 2],\n",
       "        [3, 4],\n",
       "        [5, 6]])"
      ]
     },
     "execution_count": 5,
     "metadata": {},
     "output_type": "execute_result"
    }
   ],
   "source": [
    "torch.tensor([[1,2],[3,4],[5,6]]) "
   ]
  },
  {
   "cell_type": "markdown",
   "id": "60b68973-6e4d-4614-b17e-f5ba52c5eaf0",
   "metadata": {},
   "source": [
    "`-` $3 \\times 1$ matrix = $3 \\times 1$ column vector"
   ]
  },
  {
   "cell_type": "code",
   "execution_count": 6,
   "id": "650c60bb-9a48-4878-82bf-7a48db23be8f",
   "metadata": {},
   "outputs": [
    {
     "data": {
      "text/plain": [
       "tensor([[1],\n",
       "        [3],\n",
       "        [5]])"
      ]
     },
     "execution_count": 6,
     "metadata": {},
     "output_type": "execute_result"
    }
   ],
   "source": [
    "torch.tensor([[1],[3],[5]]) "
   ]
  },
  {
   "cell_type": "markdown",
   "id": "c5cdea88-6fed-47ad-925f-dce1abde2b01",
   "metadata": {},
   "source": [
    "`-` $1 \\times 2$ matrix = $1 \\times 2$ row vector"
   ]
  },
  {
   "cell_type": "code",
   "execution_count": 7,
   "id": "950ceb01-dc8c-48f9-a72a-6ad56b2b71fe",
   "metadata": {},
   "outputs": [
    {
     "data": {
      "text/plain": [
       "tensor([[1, 2]])"
      ]
     },
     "execution_count": 7,
     "metadata": {},
     "output_type": "execute_result"
    }
   ],
   "source": [
    "torch.tensor([[1,2]]) "
   ]
  },
  {
   "cell_type": "markdown",
   "id": "b91e3233-a506-46f9-9821-147a1f09e44e",
   "metadata": {},
   "source": [
    "🗣️ torch.tensor([[1,2],[3,4],[5,6]])에서 [3,4],[5,6] 삭제라고 생각"
   ]
  },
  {
   "cell_type": "markdown",
   "id": "a6f9f527-ce70-4566-b8f3-bcce8ecca64c",
   "metadata": {},
   "source": [
    "🗣️ column vector와 row vector는 구분되고 선언 방법이 다름"
   ]
  },
  {
   "cell_type": "markdown",
   "id": "cd4f34f8-de0c-41d4-8072-85c56ea29df8",
   "metadata": {},
   "source": [
    "`-` 더하기 "
   ]
  },
  {
   "cell_type": "markdown",
   "id": "23ad6e29-4d2f-4c89-8b07-5f610fdd367c",
   "metadata": {},
   "source": [
    "***브로드캐스팅(편한거)***"
   ]
  },
  {
   "cell_type": "code",
   "execution_count": 8,
   "id": "ca7e7d66-a904-4101-8c72-7393126df3d0",
   "metadata": {},
   "outputs": [
    {
     "data": {
      "text/plain": [
       "tensor([[0, 1],\n",
       "        [2, 3],\n",
       "        [4, 5]])"
      ]
     },
     "execution_count": 8,
     "metadata": {},
     "output_type": "execute_result"
    }
   ],
   "source": [
    "torch.tensor([[1,2],[3,4],[5,6]]) - 1"
   ]
  },
  {
   "cell_type": "markdown",
   "id": "2f112ce5-af65-43a7-bb28-38d02061286b",
   "metadata": {},
   "source": [
    "🗣️ \"matrix - scalar\"는 불가능하지만 알아서 원소별로 전부 뺌"
   ]
  },
  {
   "cell_type": "code",
   "execution_count": 9,
   "id": "fed0bb9a-f882-416b-84a6-a5673395c211",
   "metadata": {},
   "outputs": [
    {
     "data": {
      "text/plain": [
       "tensor([[0, 1],\n",
       "        [0, 1],\n",
       "        [0, 1]])"
      ]
     },
     "execution_count": 9,
     "metadata": {},
     "output_type": "execute_result"
    }
   ],
   "source": [
    "torch.tensor([[1,2],[3,4],[5,6]]) + torch.tensor([[-1],[-3],[-5]])"
   ]
  },
  {
   "cell_type": "markdown",
   "id": "7d1fed83-644a-4e35-9f61-99f9e6336cbc",
   "metadata": {},
   "source": [
    "🗣️ (3, 2) - (3, 1)을 알아서 뺌"
   ]
  },
  {
   "cell_type": "markdown",
   "id": "b0ccf666-9a35-43d7-9a00-15b425d95065",
   "metadata": {},
   "source": [
    "✍️ torch.tensor([[-1,-1],[-3, 3],[-5,-5]])"
   ]
  },
  {
   "cell_type": "code",
   "execution_count": 10,
   "id": "b5c41b92-5ca3-496f-b2ec-884b09a64e8a",
   "metadata": {},
   "outputs": [
    {
     "data": {
      "text/plain": [
       "tensor([[0, 0],\n",
       "        [2, 2],\n",
       "        [4, 4]])"
      ]
     },
     "execution_count": 10,
     "metadata": {},
     "output_type": "execute_result"
    }
   ],
   "source": [
    "torch.tensor([[1,2],[3,4],[5,6]]) + torch.tensor([[-1,-2]])"
   ]
  },
  {
   "cell_type": "markdown",
   "id": "7216f6ba-773c-407f-8f5e-ad7f3bbabb9f",
   "metadata": {},
   "source": [
    "🗣️ (3, 2) - (1, 2)을 알아서 뺌"
   ]
  },
  {
   "cell_type": "markdown",
   "id": "648e93a1-a297-41f3-a4b7-bfe5a94dc7e2",
   "metadata": {},
   "source": [
    "✍️ torch.tensor([[-1,-2],[-1,-2],[-1,-2]])"
   ]
  },
  {
   "cell_type": "markdown",
   "id": "773513f1-f965-45dd-ba60-b2afba5c1f31",
   "metadata": {},
   "source": [
    "***잘못된 브로드캐스팅***"
   ]
  },
  {
   "cell_type": "code",
   "execution_count": 11,
   "id": "adcbf7c2-98bf-49af-8b04-fa2bb59bc70e",
   "metadata": {},
   "outputs": [
    {
     "ename": "RuntimeError",
     "evalue": "The size of tensor a (2) must match the size of tensor b (3) at non-singleton dimension 1",
     "output_type": "error",
     "traceback": [
      "\u001b[0;31m---------------------------------------------------------------------------\u001b[0m",
      "\u001b[0;31mRuntimeError\u001b[0m                              Traceback (most recent call last)",
      "Cell \u001b[0;32mIn[11], line 1\u001b[0m\n\u001b[0;32m----> 1\u001b[0m \u001b[43mtorch\u001b[49m\u001b[38;5;241;43m.\u001b[39;49m\u001b[43mtensor\u001b[49m\u001b[43m(\u001b[49m\u001b[43m[\u001b[49m\u001b[43m[\u001b[49m\u001b[38;5;241;43m1\u001b[39;49m\u001b[43m,\u001b[49m\u001b[38;5;241;43m2\u001b[39;49m\u001b[43m]\u001b[49m\u001b[43m,\u001b[49m\u001b[43m[\u001b[49m\u001b[38;5;241;43m3\u001b[39;49m\u001b[43m,\u001b[49m\u001b[38;5;241;43m4\u001b[39;49m\u001b[43m]\u001b[49m\u001b[43m,\u001b[49m\u001b[43m[\u001b[49m\u001b[38;5;241;43m5\u001b[39;49m\u001b[43m,\u001b[49m\u001b[38;5;241;43m6\u001b[39;49m\u001b[43m]\u001b[49m\u001b[43m]\u001b[49m\u001b[43m)\u001b[49m\u001b[43m \u001b[49m\u001b[38;5;241;43m+\u001b[39;49m\u001b[43m \u001b[49m\u001b[43mtorch\u001b[49m\u001b[38;5;241;43m.\u001b[39;49m\u001b[43mtensor\u001b[49m\u001b[43m(\u001b[49m\u001b[43m[\u001b[49m\u001b[43m[\u001b[49m\u001b[38;5;241;43m-\u001b[39;49m\u001b[38;5;241;43m1\u001b[39;49m\u001b[43m,\u001b[49m\u001b[38;5;241;43m-\u001b[39;49m\u001b[38;5;241;43m3\u001b[39;49m\u001b[43m,\u001b[49m\u001b[38;5;241;43m-\u001b[39;49m\u001b[38;5;241;43m5\u001b[39;49m\u001b[43m]\u001b[49m\u001b[43m]\u001b[49m\u001b[43m)\u001b[49m\n",
      "\u001b[0;31mRuntimeError\u001b[0m: The size of tensor a (2) must match the size of tensor b (3) at non-singleton dimension 1"
     ]
    }
   ],
   "source": [
    "torch.tensor([[1,2],[3,4],[5,6]]) + torch.tensor([[-1,-3,-5]])"
   ]
  },
  {
   "cell_type": "markdown",
   "id": "25ffd14b-b36e-42e4-8557-4693d37c605f",
   "metadata": {},
   "source": [
    "🗣️ 세로로 쓰거나 가로로 두 개의 원소만 썼으면 가능"
   ]
  },
  {
   "cell_type": "markdown",
   "id": "bca88a9d-b4a2-4d6f-83bc-08ad793f1ae7",
   "metadata": {},
   "source": [
    "✍️ torch.tensor([[-1],[-3],[-5]]) 또는 torch.tensor([[-1,-3],[-1,-3],[-1,-3]]) 등"
   ]
  },
  {
   "cell_type": "code",
   "execution_count": 12,
   "id": "28292256-c002-4f5b-af98-faab9411eac2",
   "metadata": {},
   "outputs": [
    {
     "ename": "RuntimeError",
     "evalue": "The size of tensor a (3) must match the size of tensor b (2) at non-singleton dimension 0",
     "output_type": "error",
     "traceback": [
      "\u001b[0;31m---------------------------------------------------------------------------\u001b[0m",
      "\u001b[0;31mRuntimeError\u001b[0m                              Traceback (most recent call last)",
      "Cell \u001b[0;32mIn[12], line 1\u001b[0m\n\u001b[0;32m----> 1\u001b[0m \u001b[43mtorch\u001b[49m\u001b[38;5;241;43m.\u001b[39;49m\u001b[43mtensor\u001b[49m\u001b[43m(\u001b[49m\u001b[43m[\u001b[49m\u001b[43m[\u001b[49m\u001b[38;5;241;43m1\u001b[39;49m\u001b[43m,\u001b[49m\u001b[38;5;241;43m2\u001b[39;49m\u001b[43m]\u001b[49m\u001b[43m,\u001b[49m\u001b[43m[\u001b[49m\u001b[38;5;241;43m3\u001b[39;49m\u001b[43m,\u001b[49m\u001b[38;5;241;43m4\u001b[39;49m\u001b[43m]\u001b[49m\u001b[43m,\u001b[49m\u001b[43m[\u001b[49m\u001b[38;5;241;43m5\u001b[39;49m\u001b[43m,\u001b[49m\u001b[38;5;241;43m6\u001b[39;49m\u001b[43m]\u001b[49m\u001b[43m]\u001b[49m\u001b[43m)\u001b[49m\u001b[43m \u001b[49m\u001b[38;5;241;43m+\u001b[39;49m\u001b[43m \u001b[49m\u001b[43mtorch\u001b[49m\u001b[38;5;241;43m.\u001b[39;49m\u001b[43mtensor\u001b[49m\u001b[43m(\u001b[49m\u001b[43m[\u001b[49m\u001b[43m[\u001b[49m\u001b[38;5;241;43m-\u001b[39;49m\u001b[38;5;241;43m1\u001b[39;49m\u001b[43m]\u001b[49m\u001b[43m,\u001b[49m\u001b[43m[\u001b[49m\u001b[38;5;241;43m-\u001b[39;49m\u001b[38;5;241;43m2\u001b[39;49m\u001b[43m]\u001b[49m\u001b[43m]\u001b[49m\u001b[43m)\u001b[49m\n",
      "\u001b[0;31mRuntimeError\u001b[0m: The size of tensor a (3) must match the size of tensor b (2) at non-singleton dimension 0"
     ]
    }
   ],
   "source": [
    "torch.tensor([[1,2],[3,4],[5,6]]) + torch.tensor([[-1],[-2]])"
   ]
  },
  {
   "cell_type": "markdown",
   "id": "70e0ed10-7a0f-4770-a09d-4f21dfb2fc2a",
   "metadata": {},
   "source": [
    "🗣️ (3, 2) - (2, 1) 는 알아서 채우기 어려우므로 error"
   ]
  },
  {
   "cell_type": "markdown",
   "id": "39d64e21-623e-4fac-b660-3166cbf3b3e8",
   "metadata": {},
   "source": [
    "***이상한 것***"
   ]
  },
  {
   "cell_type": "code",
   "execution_count": 13,
   "id": "3bc6db41-4b59-427f-b51c-32533fa16694",
   "metadata": {},
   "outputs": [
    {
     "data": {
      "text/plain": [
       "tensor([[0, 0],\n",
       "        [2, 2],\n",
       "        [4, 4]])"
      ]
     },
     "execution_count": 13,
     "metadata": {},
     "output_type": "execute_result"
    }
   ],
   "source": [
    "torch.tensor([[1,2],[3,4],[5,6]]) + torch.tensor([-1,-2])"
   ]
  },
  {
   "cell_type": "markdown",
   "id": "3324e5a7-cf2e-4cda-833b-2d886e01eb2b",
   "metadata": {},
   "source": [
    "🗣️ (3, 2) matrix - 길이가 2인 vector(2x1, 1x2 둘 다 아님)"
   ]
  },
  {
   "cell_type": "markdown",
   "id": "47d51851-eb09-470a-a949-97066cbe1104",
   "metadata": {},
   "source": [
    "🗣️ \"matrix - vector\"를 row vector로 해석하고 늘려서 계산한 듯"
   ]
  },
  {
   "cell_type": "markdown",
   "id": "cf3a06aa-9391-4819-91f8-e52216e9964a",
   "metadata": {},
   "source": [
    "✍️ torch.tensor([[-1,-2],[-1,-2],[-1,-2]])"
   ]
  },
  {
   "cell_type": "markdown",
   "id": "025b1907-9b60-44c9-8890-465805667b9a",
   "metadata": {},
   "source": [
    "🔬("
   ]
  },
  {
   "cell_type": "markdown",
   "id": "49410abb-a2bc-42ad-a76a-eed380cfbbe1",
   "metadata": {},
   "source": [
    "- 차원 수만 알고 싶을 때 → tensor.dim() 또는 tensor.ndim\n",
    "- 각 차원의 크기까지 알고 싶을 때 → tensor.shape 또는 tensor.size()"
   ]
  },
  {
   "cell_type": "code",
   "execution_count": 14,
   "id": "44aa9417-e6ca-4a9d-9b33-81fe5422fcc8",
   "metadata": {},
   "outputs": [
    {
     "name": "stdout",
     "output_type": "stream",
     "text": [
      "2\n",
      "torch.Size([3, 2])\n",
      "1\n",
      "torch.Size([2])\n",
      "2\n",
      "torch.Size([3, 2])\n",
      "1\n",
      "torch.Size([2])\n"
     ]
    }
   ],
   "source": [
    "print(torch.tensor([[1,2],[3,4],[5,6]]).dim())\n",
    "print(torch.tensor([[1,2],[3,4],[5,6]]).shape)\n",
    "print(torch.tensor([-1,-2]).dim())\n",
    "print(torch.tensor([-1,-2]).shape)\n",
    "print(torch.tensor([[1,2],[3,4],[5,6]]).ndim)\n",
    "print(torch.tensor([[1,2],[3,4],[5,6]]).size())\n",
    "print(torch.tensor([-1,-2]).ndim)\n",
    "print(torch.tensor([-1,-2]).size())"
   ]
  },
  {
   "cell_type": "markdown",
   "id": "3b21f33e-b8b6-4652-b303-e96cf9177171",
   "metadata": {},
   "source": [
    "> **참고** (Chat GPT4o)\n",
    "\n",
    "- NumPy와 PyTorch 차이 정리\n",
    "\n",
    "| 기능         | PyTorch                | NumPy                   |\n",
    "|--------------|------------------------|--------------------------|\n",
    "| 차원 수       | `.dim()` 또는 `.ndim`   | `.ndim`                  |\n",
    "| shape 확인   | `.shape` 또는 `.size()` | `.shape`                 |\n",
    "| 크기 변경    | `.view()`, `.reshape()` | `.reshape()`             |\n",
    "| 타입         | `torch.Tensor`         | `np.ndarray`             |\n",
    "\n",
    "- 실전 팁:\n",
    "    - **PyTorch의 `.dim()`만 NumPy에서 안 먹힌다**는 것만 기억하면 둘 다 거의 비슷하게 다룰 수 있음\n",
    "    - 다차원 배열을 다룰 때 `.ndim`, `.shape`는 양쪽 모두 안전하게 쓸 수 있는 핵심 도구\n",
    "    - `dim()`은 PyTorch 고유 메서드"
   ]
  },
  {
   "cell_type": "markdown",
   "id": "48c5366c-61a8-425b-a890-6dd24d2968ed",
   "metadata": {},
   "source": [
    ")🔬"
   ]
  },
  {
   "cell_type": "code",
   "execution_count": 15,
   "id": "7a85150a-c777-4d62-a833-20605a5040cf",
   "metadata": {},
   "outputs": [
    {
     "ename": "RuntimeError",
     "evalue": "The size of tensor a (2) must match the size of tensor b (3) at non-singleton dimension 1",
     "output_type": "error",
     "traceback": [
      "\u001b[0;31m---------------------------------------------------------------------------\u001b[0m",
      "\u001b[0;31mRuntimeError\u001b[0m                              Traceback (most recent call last)",
      "Cell \u001b[0;32mIn[15], line 1\u001b[0m\n\u001b[0;32m----> 1\u001b[0m \u001b[43mtorch\u001b[49m\u001b[38;5;241;43m.\u001b[39;49m\u001b[43mtensor\u001b[49m\u001b[43m(\u001b[49m\u001b[43m[\u001b[49m\u001b[43m[\u001b[49m\u001b[38;5;241;43m1\u001b[39;49m\u001b[43m,\u001b[49m\u001b[38;5;241;43m2\u001b[39;49m\u001b[43m]\u001b[49m\u001b[43m,\u001b[49m\u001b[43m[\u001b[49m\u001b[38;5;241;43m3\u001b[39;49m\u001b[43m,\u001b[49m\u001b[38;5;241;43m4\u001b[39;49m\u001b[43m]\u001b[49m\u001b[43m,\u001b[49m\u001b[43m[\u001b[49m\u001b[38;5;241;43m5\u001b[39;49m\u001b[43m,\u001b[49m\u001b[38;5;241;43m6\u001b[39;49m\u001b[43m]\u001b[49m\u001b[43m]\u001b[49m\u001b[43m)\u001b[49m\u001b[43m \u001b[49m\u001b[38;5;241;43m+\u001b[39;49m\u001b[43m \u001b[49m\u001b[43mtorch\u001b[49m\u001b[38;5;241;43m.\u001b[39;49m\u001b[43mtensor\u001b[49m\u001b[43m(\u001b[49m\u001b[43m[\u001b[49m\u001b[38;5;241;43m-\u001b[39;49m\u001b[38;5;241;43m1\u001b[39;49m\u001b[43m,\u001b[49m\u001b[38;5;241;43m-\u001b[39;49m\u001b[38;5;241;43m3\u001b[39;49m\u001b[43m,\u001b[49m\u001b[38;5;241;43m-\u001b[39;49m\u001b[38;5;241;43m5\u001b[39;49m\u001b[43m]\u001b[49m\u001b[43m)\u001b[49m\n",
      "\u001b[0;31mRuntimeError\u001b[0m: The size of tensor a (2) must match the size of tensor b (3) at non-singleton dimension 1"
     ]
    }
   ],
   "source": [
    "torch.tensor([[1,2],[3,4],[5,6]]) + torch.tensor([-1,-3,-5])"
   ]
  },
  {
   "cell_type": "markdown",
   "id": "23cbf71e-3e08-410c-949b-03cb9d3f8b0a",
   "metadata": {},
   "source": [
    "🗣️ 길이가 3인 vector를 column vector로 해석하고 (3,2)로 채워서 계산할 것 같지만 X (이번에 발견)"
   ]
  },
  {
   "cell_type": "markdown",
   "id": "93812cd2-c0c1-4431-9d80-b9c24c009371",
   "metadata": {},
   "source": [
    "`-` 행렬곱"
   ]
  },
  {
   "cell_type": "markdown",
   "id": "fdc178a7-a983-47da-b36e-99cdaa291d0a",
   "metadata": {},
   "source": [
    "***정상적인 행렬곱***"
   ]
  },
  {
   "cell_type": "code",
   "execution_count": 16,
   "id": "70b0e64a-e10c-4be8-8025-4fc64e75c7b6",
   "metadata": {},
   "outputs": [
    {
     "data": {
      "text/plain": [
       "tensor([[ 5],\n",
       "        [11],\n",
       "        [17]])"
      ]
     },
     "execution_count": 16,
     "metadata": {},
     "output_type": "execute_result"
    }
   ],
   "source": [
    "torch.tensor([[1,2],[3,4],[5,6]]) @ torch.tensor([[1],[2]])"
   ]
  },
  {
   "cell_type": "markdown",
   "id": "88427a0f-b8a9-4c95-8cdc-fc2fba358dca",
   "metadata": {},
   "source": [
    "🗣️ (3,2) matirx @ (2,1) vector = (3,1) matrix"
   ]
  },
  {
   "cell_type": "code",
   "execution_count": 17,
   "id": "be672e2d-6ff7-410b-9534-5df651ce0f48",
   "metadata": {},
   "outputs": [
    {
     "data": {
      "text/plain": [
       "tensor([[22, 28]])"
      ]
     },
     "execution_count": 17,
     "metadata": {},
     "output_type": "execute_result"
    }
   ],
   "source": [
    "torch.tensor([[1,2,3]]) @ torch.tensor([[1,2],[3,4],[5,6]]) "
   ]
  },
  {
   "cell_type": "markdown",
   "id": "23fd7e13-3399-41c0-9897-d0e186691e9c",
   "metadata": {},
   "source": [
    "🗣️ (1,3) @ (3,2) = (1,2)"
   ]
  },
  {
   "cell_type": "markdown",
   "id": "28803d22-c837-4538-976e-b1c4835265a0",
   "metadata": {},
   "source": [
    "***잘못된 행렬곱***"
   ]
  },
  {
   "cell_type": "code",
   "execution_count": 18,
   "id": "70fd75c5-30a4-4d41-b52c-6bc97f6e87b7",
   "metadata": {},
   "outputs": [
    {
     "ename": "RuntimeError",
     "evalue": "mat1 and mat2 shapes cannot be multiplied (3x2 and 1x2)",
     "output_type": "error",
     "traceback": [
      "\u001b[0;31m---------------------------------------------------------------------------\u001b[0m",
      "\u001b[0;31mRuntimeError\u001b[0m                              Traceback (most recent call last)",
      "Cell \u001b[0;32mIn[18], line 1\u001b[0m\n\u001b[0;32m----> 1\u001b[0m \u001b[43mtorch\u001b[49m\u001b[38;5;241;43m.\u001b[39;49m\u001b[43mtensor\u001b[49m\u001b[43m(\u001b[49m\u001b[43m[\u001b[49m\u001b[43m[\u001b[49m\u001b[38;5;241;43m1\u001b[39;49m\u001b[43m,\u001b[49m\u001b[38;5;241;43m2\u001b[39;49m\u001b[43m]\u001b[49m\u001b[43m,\u001b[49m\u001b[43m[\u001b[49m\u001b[38;5;241;43m3\u001b[39;49m\u001b[43m,\u001b[49m\u001b[38;5;241;43m4\u001b[39;49m\u001b[43m]\u001b[49m\u001b[43m,\u001b[49m\u001b[43m[\u001b[49m\u001b[38;5;241;43m5\u001b[39;49m\u001b[43m,\u001b[49m\u001b[38;5;241;43m6\u001b[39;49m\u001b[43m]\u001b[49m\u001b[43m]\u001b[49m\u001b[43m)\u001b[49m\u001b[43m \u001b[49m\u001b[38;5;241;43m@\u001b[39;49m\u001b[43m \u001b[49m\u001b[43mtorch\u001b[49m\u001b[38;5;241;43m.\u001b[39;49m\u001b[43mtensor\u001b[49m\u001b[43m(\u001b[49m\u001b[43m[\u001b[49m\u001b[43m[\u001b[49m\u001b[38;5;241;43m1\u001b[39;49m\u001b[43m,\u001b[49m\u001b[38;5;241;43m2\u001b[39;49m\u001b[43m]\u001b[49m\u001b[43m]\u001b[49m\u001b[43m)\u001b[49m\n",
      "\u001b[0;31mRuntimeError\u001b[0m: mat1 and mat2 shapes cannot be multiplied (3x2 and 1x2)"
     ]
    }
   ],
   "source": [
    "torch.tensor([[1,2],[3,4],[5,6]]) @ torch.tensor([[1,2]])"
   ]
  },
  {
   "cell_type": "markdown",
   "id": "92e46d5e-74c9-4d22-bb21-d19a10f2c516",
   "metadata": {},
   "source": [
    "🗣️ (3,2) @ (1,2) 불가"
   ]
  },
  {
   "cell_type": "code",
   "execution_count": 19,
   "id": "97769005-262c-439e-a0af-9b8c17febab0",
   "metadata": {},
   "outputs": [
    {
     "ename": "RuntimeError",
     "evalue": "mat1 and mat2 shapes cannot be multiplied (3x1 and 3x2)",
     "output_type": "error",
     "traceback": [
      "\u001b[0;31m---------------------------------------------------------------------------\u001b[0m",
      "\u001b[0;31mRuntimeError\u001b[0m                              Traceback (most recent call last)",
      "Cell \u001b[0;32mIn[19], line 1\u001b[0m\n\u001b[0;32m----> 1\u001b[0m \u001b[43mtorch\u001b[49m\u001b[38;5;241;43m.\u001b[39;49m\u001b[43mtensor\u001b[49m\u001b[43m(\u001b[49m\u001b[43m[\u001b[49m\u001b[43m[\u001b[49m\u001b[38;5;241;43m1\u001b[39;49m\u001b[43m]\u001b[49m\u001b[43m,\u001b[49m\u001b[43m[\u001b[49m\u001b[38;5;241;43m2\u001b[39;49m\u001b[43m]\u001b[49m\u001b[43m,\u001b[49m\u001b[43m[\u001b[49m\u001b[38;5;241;43m3\u001b[39;49m\u001b[43m]\u001b[49m\u001b[43m]\u001b[49m\u001b[43m)\u001b[49m\u001b[43m \u001b[49m\u001b[38;5;241;43m@\u001b[39;49m\u001b[43m \u001b[49m\u001b[43mtorch\u001b[49m\u001b[38;5;241;43m.\u001b[39;49m\u001b[43mtensor\u001b[49m\u001b[43m(\u001b[49m\u001b[43m[\u001b[49m\u001b[43m[\u001b[49m\u001b[38;5;241;43m1\u001b[39;49m\u001b[43m,\u001b[49m\u001b[38;5;241;43m2\u001b[39;49m\u001b[43m]\u001b[49m\u001b[43m,\u001b[49m\u001b[43m[\u001b[49m\u001b[38;5;241;43m3\u001b[39;49m\u001b[43m,\u001b[49m\u001b[38;5;241;43m4\u001b[39;49m\u001b[43m]\u001b[49m\u001b[43m,\u001b[49m\u001b[43m[\u001b[49m\u001b[38;5;241;43m5\u001b[39;49m\u001b[43m,\u001b[49m\u001b[38;5;241;43m6\u001b[39;49m\u001b[43m]\u001b[49m\u001b[43m]\u001b[49m\u001b[43m)\u001b[49m \n",
      "\u001b[0;31mRuntimeError\u001b[0m: mat1 and mat2 shapes cannot be multiplied (3x1 and 3x2)"
     ]
    }
   ],
   "source": [
    "torch.tensor([[1],[2],[3]]) @ torch.tensor([[1,2],[3,4],[5,6]]) "
   ]
  },
  {
   "cell_type": "markdown",
   "id": "32dac04b-f209-423b-b90c-352d10f122bf",
   "metadata": {},
   "source": [
    "🗣️ (3,1) @ (3,2) 불가"
   ]
  },
  {
   "cell_type": "markdown",
   "id": "540ab0a0-e197-4024-9b23-30889bcc575c",
   "metadata": {},
   "source": [
    "***이상한 것***"
   ]
  },
  {
   "cell_type": "code",
   "execution_count": 20,
   "id": "2ecd144a-076b-44ae-8c99-faf1050f590f",
   "metadata": {},
   "outputs": [
    {
     "data": {
      "text/plain": [
       "tensor([ 5, 11, 17])"
      ]
     },
     "execution_count": 20,
     "metadata": {},
     "output_type": "execute_result"
    }
   ],
   "source": [
    "torch.tensor([[1,2],[3,4],[5,6]]) @ torch.tensor([1,2]) # 이게 왜 가능.."
   ]
  },
  {
   "cell_type": "markdown",
   "id": "b8016b04-07c0-4301-be35-f3a45fbe8f78",
   "metadata": {},
   "source": [
    "🗣️ (3,2) @ (2) 길이가 2인 vector / 사람마다 해석 애매 (2,1)? (1,2)? / 곱하기를 위해 (2,1) column vector로 해석"
   ]
  },
  {
   "cell_type": "markdown",
   "id": "19463bce-2dcb-44bd-8ec6-1f6da0daa3e4",
   "metadata": {},
   "source": [
    "🗣️ (3,2) @ (2,1)로 해석 후 계산하여 (3) 길이가 3인 vector가 나옴"
   ]
  },
  {
   "cell_type": "code",
   "execution_count": 21,
   "id": "4bfa92c5-5979-4b38-9db4-62053d7fd219",
   "metadata": {},
   "outputs": [
    {
     "data": {
      "text/plain": [
       "tensor([22, 28])"
      ]
     },
     "execution_count": 21,
     "metadata": {},
     "output_type": "execute_result"
    }
   ],
   "source": [
    "torch.tensor([1,2,3]) @ torch.tensor([[1,2],[3,4],[5,6]]) # 이건 왜 가능?"
   ]
  },
  {
   "cell_type": "markdown",
   "id": "ce5e8eef-2870-4b9c-844b-ee7b5dd2ad30",
   "metadata": {},
   "source": [
    "🗣️ (3) @ (3,2)에서 (3)을 (1,3) row vector로 해석"
   ]
  },
  {
   "cell_type": "markdown",
   "id": "d97838b3-9146-4ee5-94d9-c5f8a676e130",
   "metadata": {},
   "source": [
    "🗣️( 엄밀하게 하려면"
   ]
  },
  {
   "cell_type": "code",
   "execution_count": 22,
   "id": "7af88214-6bd5-425f-b594-3b93182a39a2",
   "metadata": {},
   "outputs": [
    {
     "data": {
      "text/plain": [
       "tensor([[22, 28]])"
      ]
     },
     "execution_count": 22,
     "metadata": {},
     "output_type": "execute_result"
    }
   ],
   "source": [
    "torch.tensor([[1,2,3]]) @ torch.tensor([[1,2],[3,4],[5,6]])"
   ]
  },
  {
   "cell_type": "markdown",
   "id": "d339148c-0f2a-420e-99a3-f3868e7b6baa",
   "metadata": {},
   "source": [
    "✍️ 당연히 결과의 차원도 다름"
   ]
  },
  {
   "cell_type": "markdown",
   "id": "6f0763cc-85d8-4e1f-9bae-b02cf2c5a317",
   "metadata": {},
   "source": [
    ")🗣️"
   ]
  },
  {
   "cell_type": "markdown",
   "id": "815af9ab-c310-4136-bd32-cda4c94ff8a6",
   "metadata": {},
   "source": [
    "## C. transpose, reshape"
   ]
  },
  {
   "cell_type": "markdown",
   "id": "3375ad42-aa34-4cf0-9c88-5b2ee11b5e05",
   "metadata": {},
   "source": [
    "`-` transpose "
   ]
  },
  {
   "cell_type": "code",
   "execution_count": 23,
   "id": "c5966791-22f2-44b5-99ec-15ffec83c3e9",
   "metadata": {},
   "outputs": [
    {
     "data": {
      "text/plain": [
       "tensor([[1, 3],\n",
       "        [2, 4]])"
      ]
     },
     "execution_count": 23,
     "metadata": {},
     "output_type": "execute_result"
    }
   ],
   "source": [
    "torch.tensor([[1,2],[3,4]]).T "
   ]
  },
  {
   "cell_type": "code",
   "execution_count": 24,
   "id": "175a84b6-3cd1-4401-8ec6-eaa1c9e3fc08",
   "metadata": {},
   "outputs": [
    {
     "data": {
      "text/plain": [
       "tensor([[1, 3]])"
      ]
     },
     "execution_count": 24,
     "metadata": {},
     "output_type": "execute_result"
    }
   ],
   "source": [
    "torch.tensor([[1],[3]]).T "
   ]
  },
  {
   "cell_type": "markdown",
   "id": "54722867-a36f-49f0-a843-7346812656dc",
   "metadata": {},
   "source": [
    "🗣️ column vector -> row vector"
   ]
  },
  {
   "cell_type": "code",
   "execution_count": 25,
   "id": "7850ddc7-1270-484c-9826-12a84e0c44fc",
   "metadata": {},
   "outputs": [
    {
     "data": {
      "text/plain": [
       "tensor([[1],\n",
       "        [2]])"
      ]
     },
     "execution_count": 25,
     "metadata": {},
     "output_type": "execute_result"
    }
   ],
   "source": [
    "torch.tensor([[1,2]]).T "
   ]
  },
  {
   "cell_type": "markdown",
   "id": "1725d0a3-d3df-44b1-9d79-851827ac997c",
   "metadata": {},
   "source": [
    "🗣️ row vector -> column vector"
   ]
  },
  {
   "cell_type": "markdown",
   "id": "bc31e47f-392d-4860-b3de-ea171e050980",
   "metadata": {},
   "source": [
    "🗣️ 차원을 바꾸는 효과 (1,2) -> (2,1)"
   ]
  },
  {
   "cell_type": "markdown",
   "id": "0fc0aa81-5344-4a63-a8fa-7ebf52b4d56b",
   "metadata": {},
   "source": [
    "`-` reshape"
   ]
  },
  {
   "cell_type": "markdown",
   "id": "06336c76-9a42-4dc3-9780-737b83cf6439",
   "metadata": {},
   "source": [
    "🗣️( 차원 보기"
   ]
  },
  {
   "cell_type": "code",
   "execution_count": 26,
   "id": "3f1ee09c-286f-4973-adc9-bcbc0bb3b327",
   "metadata": {},
   "outputs": [
    {
     "data": {
      "text/plain": [
       "torch.Size([1, 2])"
      ]
     },
     "execution_count": 26,
     "metadata": {},
     "output_type": "execute_result"
    }
   ],
   "source": [
    "torch.tensor([[1,2]]).shape"
   ]
  },
  {
   "cell_type": "markdown",
   "id": "b7ada9d0-7a61-4c9c-95a6-e39acccba9e3",
   "metadata": {},
   "source": [
    "을 column vector로 바꾸고 싶으면"
   ]
  },
  {
   "cell_type": "code",
   "execution_count": 27,
   "id": "8fe62b1e-7d01-4d80-8861-27f35af6bd8e",
   "metadata": {},
   "outputs": [
    {
     "data": {
      "text/plain": [
       "tensor([[1],\n",
       "        [2]])"
      ]
     },
     "execution_count": 27,
     "metadata": {},
     "output_type": "execute_result"
    }
   ],
   "source": [
    "torch.tensor([[1,2]]).reshape(2,1)"
   ]
  },
  {
   "cell_type": "markdown",
   "id": "095a55ae-f985-40b6-9640-a4964e39fdc5",
   "metadata": {},
   "source": [
    "transpose와 동일"
   ]
  },
  {
   "cell_type": "markdown",
   "id": "5c7dba37-2c55-4634-97bf-db40673dd073",
   "metadata": {},
   "source": [
    ")🗣️"
   ]
  },
  {
   "cell_type": "markdown",
   "id": "191934b1-cf80-4acd-8cea-3feada5c38b8",
   "metadata": {},
   "source": [
    "***일반적인 사용***"
   ]
  },
  {
   "cell_type": "code",
   "execution_count": 28,
   "id": "7f283d07-6c25-4f6d-be23-2e07d2019d21",
   "metadata": {},
   "outputs": [
    {
     "data": {
      "text/plain": [
       "tensor([[1, 2, 3],\n",
       "        [4, 5, 6]])"
      ]
     },
     "execution_count": 28,
     "metadata": {},
     "output_type": "execute_result"
    }
   ],
   "source": [
    "torch.tensor([[1,2],[3,4],[5,6]]).reshape(2,3)"
   ]
  },
  {
   "cell_type": "code",
   "execution_count": 29,
   "id": "d2232c7c-7ff0-4228-9068-915f9830f2a7",
   "metadata": {},
   "outputs": [
    {
     "data": {
      "text/plain": [
       "tensor([[1, 2],\n",
       "        [3, 4],\n",
       "        [5, 6]])"
      ]
     },
     "execution_count": 29,
     "metadata": {},
     "output_type": "execute_result"
    }
   ],
   "source": [
    "torch.tensor([[1,2],[3,4],[5,6]])"
   ]
  },
  {
   "cell_type": "code",
   "execution_count": 30,
   "id": "aee2ba01-477d-4281-9e43-fe4c193a0b2c",
   "metadata": {},
   "outputs": [
    {
     "data": {
      "text/plain": [
       "tensor([[1, 2, 3, 4, 5, 6]])"
      ]
     },
     "execution_count": 30,
     "metadata": {},
     "output_type": "execute_result"
    }
   ],
   "source": [
    "torch.tensor([[1,2],[3,4],[5,6]]).reshape(1,6)"
   ]
  },
  {
   "cell_type": "markdown",
   "id": "0361a745-f802-4882-8910-7a1259c7d7be",
   "metadata": {},
   "source": [
    "🗣️ (3,2) -> (1,6)"
   ]
  },
  {
   "cell_type": "code",
   "execution_count": 31,
   "id": "b8a0115a-e026-4866-b3f6-76c9a142d1ff",
   "metadata": {},
   "outputs": [
    {
     "data": {
      "text/plain": [
       "tensor([1, 2, 3, 4, 5, 6])"
      ]
     },
     "execution_count": 31,
     "metadata": {},
     "output_type": "execute_result"
    }
   ],
   "source": [
    "torch.tensor([[1,2],[3,4],[5,6]]).reshape(6)"
   ]
  },
  {
   "cell_type": "markdown",
   "id": "f2ff454c-a7ec-4683-b147-ff2dff82d7ec",
   "metadata": {},
   "source": [
    "🗣️ (3,2)를 그냥 6으로 : 길이가 6인 vector로 바꿈"
   ]
  },
  {
   "cell_type": "markdown",
   "id": "2900a644-2eca-4ef9-9801-3700883bb54b",
   "metadata": {},
   "source": [
    "***편한 것***"
   ]
  },
  {
   "cell_type": "code",
   "execution_count": 32,
   "id": "6bb579a4-fbf2-46f3-9425-431db2d32216",
   "metadata": {},
   "outputs": [
    {
     "data": {
      "text/plain": [
       "tensor([[1, 2, 3],\n",
       "        [4, 5, 6]])"
      ]
     },
     "execution_count": 32,
     "metadata": {},
     "output_type": "execute_result"
    }
   ],
   "source": [
    "torch.tensor([[1,2],[3,4],[5,6]]).reshape(2,-1)"
   ]
  },
  {
   "cell_type": "markdown",
   "id": "f0cb1147-ce98-44bf-8504-f54ddeae41a4",
   "metadata": {},
   "source": [
    "🗣️ torch.tensor([[1,2],[3,4],[5,6]]).reshape(2,??)를 원할 때 ??를 알아서 맞춤 (불가능하면 error)"
   ]
  },
  {
   "cell_type": "code",
   "execution_count": 33,
   "id": "f0e14499-f06c-495e-a8d1-b35a8f96ef70",
   "metadata": {},
   "outputs": [
    {
     "data": {
      "text/plain": [
       "tensor([[1],\n",
       "        [2],\n",
       "        [3],\n",
       "        [4],\n",
       "        [5],\n",
       "        [6]])"
      ]
     },
     "execution_count": 33,
     "metadata": {},
     "output_type": "execute_result"
    }
   ],
   "source": [
    "torch.tensor([[1,2],[3,4],[5,6]]).reshape(6,-1)"
   ]
  },
  {
   "cell_type": "code",
   "execution_count": 34,
   "id": "41d0454a-172c-4751-b888-7d05e5af2078",
   "metadata": {},
   "outputs": [
    {
     "data": {
      "text/plain": [
       "tensor([[1, 2, 3, 4, 5, 6]])"
      ]
     },
     "execution_count": 34,
     "metadata": {},
     "output_type": "execute_result"
    }
   ],
   "source": [
    "torch.tensor([[1,2],[3,4],[5,6]]).reshape(-1,6)"
   ]
  },
  {
   "cell_type": "code",
   "execution_count": 35,
   "id": "06de0f8f-3d5a-40d3-a05f-b5437aac7c69",
   "metadata": {},
   "outputs": [
    {
     "data": {
      "text/plain": [
       "tensor([1, 2, 3, 4, 5, 6])"
      ]
     },
     "execution_count": 35,
     "metadata": {},
     "output_type": "execute_result"
    }
   ],
   "source": [
    "torch.tensor([[1,2],[3,4],[5,6]]).reshape(-1)"
   ]
  },
  {
   "cell_type": "markdown",
   "id": "c935cbab-88fb-43eb-9cb3-6e3448490cf7",
   "metadata": {},
   "source": [
    "🗣️ 전체를 vector로 바꾸고 싶을 때 (1차원)"
   ]
  },
  {
   "cell_type": "markdown",
   "id": "1c7dbc31-aa01-45de-8752-d4a58a429bba",
   "metadata": {},
   "source": [
    "## D. concat, stack $(\\star\\star\\star)$"
   ]
  },
  {
   "cell_type": "markdown",
   "id": "4b43bd01-5a2e-4544-82a4-77d131d65fd7",
   "metadata": {},
   "source": [
    "`-` concat "
   ]
  },
  {
   "cell_type": "code",
   "execution_count": 36,
   "id": "5e12b960-9911-4e6a-a6f0-205b0d24183c",
   "metadata": {},
   "outputs": [
    {
     "data": {
      "text/plain": [
       "tensor([[1, 2],\n",
       "        [3, 4],\n",
       "        [5, 6]])"
      ]
     },
     "execution_count": 36,
     "metadata": {},
     "output_type": "execute_result"
    }
   ],
   "source": [
    "a = torch.tensor([[1],[3],[5]])\n",
    "b = torch.tensor([[2],[4],[6]])\n",
    "torch.concat([a,b],axis=1)"
   ]
  },
  {
   "cell_type": "markdown",
   "id": "595388a6-97de-4a96-af9b-c19d0643f237",
   "metadata": {},
   "source": [
    "🗣️("
   ]
  },
  {
   "cell_type": "code",
   "execution_count": 37,
   "id": "50f858da-7ec5-4dcb-b75e-d6accb7b8a47",
   "metadata": {},
   "outputs": [
    {
     "data": {
      "text/plain": [
       "tensor([[1],\n",
       "        [3],\n",
       "        [5]])"
      ]
     },
     "execution_count": 37,
     "metadata": {},
     "output_type": "execute_result"
    }
   ],
   "source": [
    "a"
   ]
  },
  {
   "cell_type": "code",
   "execution_count": 38,
   "id": "88f75d29-1119-4a3a-bb00-85b668e2f2c1",
   "metadata": {},
   "outputs": [
    {
     "data": {
      "text/plain": [
       "tensor([[2],\n",
       "        [4],\n",
       "        [6]])"
      ]
     },
     "execution_count": 38,
     "metadata": {},
     "output_type": "execute_result"
    }
   ],
   "source": [
    "b"
   ]
  },
  {
   "cell_type": "markdown",
   "id": "26eaf671-9c79-42ba-934e-07fcd6eff2ba",
   "metadata": {},
   "source": [
    "a와 b를 모두 vector로 갖고 있는데 [a b]처럼 놓고 싶을 때 사용"
   ]
  },
  {
   "cell_type": "code",
   "execution_count": 39,
   "id": "38f711cd-92b6-492e-8ade-f169971895b9",
   "metadata": {},
   "outputs": [
    {
     "data": {
      "text/plain": [
       "(tensor([[1],\n",
       "         [3],\n",
       "         [5]]),\n",
       " tensor([[2],\n",
       "         [4],\n",
       "         [6]]))"
      ]
     },
     "execution_count": 39,
     "metadata": {},
     "output_type": "execute_result"
    }
   ],
   "source": [
    "a, b"
   ]
  },
  {
   "cell_type": "code",
   "execution_count": 40,
   "id": "3c9b1a35-75f0-460d-955e-3476ae67f414",
   "metadata": {},
   "outputs": [
    {
     "data": {
      "text/plain": [
       "tensor([[1],\n",
       "        [3],\n",
       "        [5],\n",
       "        [2],\n",
       "        [4],\n",
       "        [6]])"
      ]
     },
     "execution_count": 40,
     "metadata": {},
     "output_type": "execute_result"
    }
   ],
   "source": [
    "torch.concat([a,b]) # 이렇게 하면 좌우가 아니라 위 아래로 합쳐짐"
   ]
  },
  {
   "cell_type": "markdown",
   "id": "4c935e58-e532-4d85-bad6-7cb72eea5bcb",
   "metadata": {},
   "source": [
    "(3,1)과 (3,1)을 (3,2)로 만들고 싶었는데 (6,1)이 됨 -> axis=1 옵션 사용하면 (3,2) 가능 (모르겠으면 밑의 링크 참조)"
   ]
  },
  {
   "cell_type": "markdown",
   "id": "93049a81-79d0-4e25-8904-000777021a73",
   "metadata": {},
   "source": [
    ")🗣️"
   ]
  },
  {
   "cell_type": "code",
   "execution_count": 41,
   "id": "4c6fe47f-f974-4aa2-9491-e87143a64607",
   "metadata": {},
   "outputs": [
    {
     "data": {
      "text/plain": [
       "tensor([[1, 2],\n",
       "        [3, 4],\n",
       "        [5, 6]])"
      ]
     },
     "execution_count": 41,
     "metadata": {},
     "output_type": "execute_result"
    }
   ],
   "source": [
    "torch.concat([a,b],axis=1)"
   ]
  },
  {
   "cell_type": "markdown",
   "id": "67a4a78e-133a-4432-95ad-de95232cdcba",
   "metadata": {},
   "source": [
    "`-` stack"
   ]
  },
  {
   "cell_type": "code",
   "execution_count": 42,
   "id": "b2fc101c-7e0d-46d2-9d33-952cd2bbd6ba",
   "metadata": {},
   "outputs": [
    {
     "data": {
      "text/plain": [
       "tensor([[1, 2],\n",
       "        [3, 4],\n",
       "        [5, 6]])"
      ]
     },
     "execution_count": 42,
     "metadata": {},
     "output_type": "execute_result"
    }
   ],
   "source": [
    "a = torch.tensor([1,3,5])\n",
    "b = torch.tensor([2,4,6])\n",
    "torch.stack([a,b],axis=1)"
   ]
  },
  {
   "cell_type": "markdown",
   "id": "d42c13c5-6a75-4b0b-be7d-d25a344a7107",
   "metadata": {},
   "source": [
    "🗣️("
   ]
  },
  {
   "cell_type": "code",
   "execution_count": 43,
   "id": "ef37bf7b-f71f-42db-ad02-c845cf0af1c2",
   "metadata": {},
   "outputs": [
    {
     "data": {
      "text/plain": [
       "tensor([1, 3, 5])"
      ]
     },
     "execution_count": 43,
     "metadata": {},
     "output_type": "execute_result"
    }
   ],
   "source": [
    "a"
   ]
  },
  {
   "cell_type": "code",
   "execution_count": 44,
   "id": "b1277feb-410f-473d-bcd0-bb95b4ef277c",
   "metadata": {},
   "outputs": [
    {
     "data": {
      "text/plain": [
       "tensor([2, 4, 6])"
      ]
     },
     "execution_count": 44,
     "metadata": {},
     "output_type": "execute_result"
    }
   ],
   "source": [
    "b"
   ]
  },
  {
   "cell_type": "code",
   "execution_count": 45,
   "id": "860ff19f-86f0-4053-9115-21bf57413585",
   "metadata": {},
   "outputs": [
    {
     "data": {
      "text/plain": [
       "tensor([[1],\n",
       "        [3],\n",
       "        [5]])"
      ]
     },
     "execution_count": 45,
     "metadata": {},
     "output_type": "execute_result"
    }
   ],
   "source": [
    "a.reshape(3,1) # 참고) concat 설명 예시와 동일"
   ]
  },
  {
   "cell_type": "code",
   "execution_count": 46,
   "id": "9e9ec62d-03e5-49f0-a10e-0d58dffcdfc0",
   "metadata": {},
   "outputs": [
    {
     "data": {
      "text/plain": [
       "tensor([[1, 2],\n",
       "        [3, 4],\n",
       "        [5, 6]])"
      ]
     },
     "execution_count": 46,
     "metadata": {},
     "output_type": "execute_result"
    }
   ],
   "source": [
    "torch.concat([a.reshape(3,1), b.reshape(3,1)], axis=1) # 리스트로 만든 후 이렇게 하면 되긴하나 너무 힘듦"
   ]
  },
  {
   "cell_type": "code",
   "execution_count": 47,
   "id": "b801eedf-32ab-4936-a539-bef4d4e4f79a",
   "metadata": {},
   "outputs": [
    {
     "data": {
      "text/plain": [
       "tensor([[1, 2],\n",
       "        [3, 4],\n",
       "        [5, 6]])"
      ]
     },
     "execution_count": 47,
     "metadata": {},
     "output_type": "execute_result"
    }
   ],
   "source": [
    "torch.stack([a,b], axis=1) # 같은 결과"
   ]
  },
  {
   "cell_type": "markdown",
   "id": "d3049cb4-b29b-40c0-870e-545c45bef5f7",
   "metadata": {},
   "source": [
    "차이: concat은 바꾸려는 대상의 dimension을 바꾸지는 X (matrix는 matrix로, vector는 vector로) / stack은 dimension을 하나 늘려서 바꿔줌"
   ]
  },
  {
   "cell_type": "markdown",
   "id": "1d722385-5b96-4959-b759-f3cb30e0669a",
   "metadata": {},
   "source": [
    "concat과 stack 둘 다 알면 좋음"
   ]
  },
  {
   "cell_type": "markdown",
   "id": "68961efc-d238-436f-bdda-1318b628ba7c",
   "metadata": {},
   "source": [
    ")🗣️"
   ]
  },
  {
   "cell_type": "code",
   "execution_count": 48,
   "id": "8123e804-12c4-4993-989e-478042e3f5e1",
   "metadata": {},
   "outputs": [
    {
     "data": {
      "text/plain": [
       "tensor([[1, 2],\n",
       "        [3, 4],\n",
       "        [5, 6]])"
      ]
     },
     "execution_count": 48,
     "metadata": {},
     "output_type": "execute_result"
    }
   ],
   "source": [
    "torch.concat([a.reshape(3,1),b.reshape(3,1)],axis=1)"
   ]
  },
  {
   "cell_type": "markdown",
   "id": "09d73e16-290c-42ae-90c8-450ecc319d3f",
   "metadata": {},
   "source": [
    ":::{.callout-warning}\n",
    "\n",
    "concat과 stack을 지금 처음본다면 아래를 복습하시는게 좋습니다. \n",
    "\n",
    "<https://guebin.github.io/PP2024/posts/06wk-2.html#numpy와-축axis>\n",
    ":::"
   ]
  }
 ],
 "metadata": {
  "kernelspec": {
   "display_name": "Python 3 (ipykernel)",
   "language": "python",
   "name": "python3"
  },
  "language_info": {
   "codemirror_mode": {
    "name": "ipython",
    "version": 3
   },
   "file_extension": ".py",
   "mimetype": "text/x-python",
   "name": "python",
   "nbconvert_exporter": "python",
   "pygments_lexer": "ipython3",
   "version": "3.9.18"
  }
 },
 "nbformat": 4,
 "nbformat_minor": 5
}
