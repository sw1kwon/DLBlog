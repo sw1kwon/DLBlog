{
 "cells": [
  {
   "cell_type": "raw",
   "id": "0541df04-8236-47d7-ab87-7d973fb7c51f",
   "metadata": {
    "id": "87b5cded-346b-4915-acf5-b5ec93a5207d",
    "vscode": {
     "languageId": "raw"
    }
   },
   "source": [
    "---\n",
    "title: \"06wk-2: (신경망) -- 다항분류, FashionMNIST\"\n",
    "author: \"sw1kwon\"\n",
    "date: \"04/14/2025\"\n",
    "draft: false\n",
    "freeze: false\n",
    "---"
   ]
  },
  {
   "cell_type": "markdown",
   "id": "c4b7796a-0690-469d-b6d7-c5e66c8a600d",
   "metadata": {},
   "source": [
    "📘 **Note Format Guide**\n",
    "\n",
    "This format serves as a structured guide for organizing lecture content, personal interpretation, experiments, and study-related questions.\n",
    "\n",
    "| Type | What It Means | When I Use It |\n",
    "|------|----------------|----------------|\n",
    "| 📝 Lecture | Original material from the professor’s notes | When I’m referencing core concepts or provided code |\n",
    "| 🗣️ In-Class Note | Verbal explanations shared during the lecture | When I want to record something the professor said in class but didn’t include in the official notes |\n",
    "| ✍️ My Note | My thoughts, interpretations, or additional explanations | When I reflect on or explain something in my own words |\n",
    "| 🔬 Experiment | Code I tried out or changed to explore further | When I test variations or go beyond the original example |\n",
    "| ❓ Question | Questions I had while studying | When I want to revisit or research something more deeply |"
   ]
  },
  {
   "cell_type": "markdown",
   "id": "46a53eab-b832-43ae-96dd-662be35dd56b",
   "metadata": {},
   "source": [
    "📝\n",
    "🗣️\n",
    "✍️\n",
    "🔬\n",
    "❓"
   ]
  },
  {
   "cell_type": "markdown",
   "id": "aa380898-9a76-4ad6-9fe3-2fd3394587dc",
   "metadata": {
    "id": "4d47a7c9"
   },
   "source": [
    "# 1. 강의노트 원본 및 영상 링크"
   ]
  },
  {
   "cell_type": "markdown",
   "id": "50b63215-81a5-4bdd-83fe-3dd95d08ec1f",
   "metadata": {},
   "source": [
    "[https://guebin.github.io/DL2025/posts/06wk-2.html](https://guebin.github.io/DL2025/posts/06wk-2.html)"
   ]
  },
  {
   "cell_type": "markdown",
   "id": "202eb690-0a13-44fb-95ab-c0b33c04ce90",
   "metadata": {},
   "source": [
    "# 2. Imports 📝"
   ]
  },
  {
   "cell_type": "code",
   "execution_count": 1,
   "id": "4b0fba0e-6c68-4a6e-b7f0-9c133c071ae4",
   "metadata": {
    "tags": []
   },
   "outputs": [],
   "source": [
    "import torch\n",
    "import torchvision\n",
    "import matplotlib.pyplot as plt"
   ]
  },
  {
   "cell_type": "code",
   "execution_count": 2,
   "id": "0d127f2c-b51f-4dec-8a36-5282edc4b484",
   "metadata": {},
   "outputs": [],
   "source": [
    "plt.rcParams['figure.figsize'] = (4.5, 3.0)"
   ]
  },
  {
   "cell_type": "markdown",
   "id": "f49c9aa3-73eb-4e41-9e83-dbee35df3f83",
   "metadata": {},
   "source": [
    "# 3. 다항분류 📝"
   ]
  },
  {
   "cell_type": "markdown",
   "id": "c4dfce82-f573-495a-b3b0-751c0faba6be",
   "metadata": {},
   "source": [
    "## A. 이항분류와 `BCEWithLogitsLoss`"
   ]
  },
  {
   "cell_type": "markdown",
   "id": "e7204b43-27d1-4034-bad0-99a2c2624aba",
   "metadata": {},
   "source": [
    "`-` 데이터"
   ]
  },
  {
   "cell_type": "code",
   "execution_count": 3,
   "id": "e3fad610-04b7-4c0c-b60a-72256d6ce26b",
   "metadata": {},
   "outputs": [],
   "source": [
    "train_dataset = torchvision.datasets.MNIST(root='./data', train=True, download=True)\n",
    "to_tensor = torchvision.transforms.ToTensor()\n",
    "X0_train = torch.stack([to_tensor(Xi) for Xi, yi in train_dataset if yi==0])\n",
    "X1_train = torch.stack([to_tensor(Xi) for Xi, yi in train_dataset if yi==1])\n",
    "X = torch.concat([X0_train,X1_train],axis=0).reshape(-1,784)\n",
    "y = torch.tensor([0.0]*len(X0_train) + [1.0]*len(X1_train)).reshape(-1,1)"
   ]
  },
  {
   "cell_type": "markdown",
   "id": "cd3579cf-a3f5-4d92-8f5a-3cf433ddafec",
   "metadata": {},
   "source": [
    "🗣️("
   ]
  },
  {
   "cell_type": "code",
   "execution_count": 4,
   "id": "477884f4-0fa5-4fa1-bbb0-8d96cb0cb7f4",
   "metadata": {},
   "outputs": [],
   "source": [
    "torch.manual_seed(43052)\n",
    "net = torch.nn.Sequential(\n",
    "    torch.nn.Linear(784,32),\n",
    "    torch.nn.ReLU(),\n",
    "    torch.nn.Linear(32,1),\n",
    "    torch.nn.Sigmoid()\n",
    ")"
   ]
  },
  {
   "cell_type": "code",
   "execution_count": 5,
   "id": "3515b4d5-928c-4dec-aaf1-8f8ad6290a15",
   "metadata": {},
   "outputs": [
    {
     "data": {
      "text/plain": [
       "tensor([[0.4577],\n",
       "        [0.4624],\n",
       "        [0.4653],\n",
       "        ...,\n",
       "        [0.4700],\n",
       "        [0.4620],\n",
       "        [0.4738]], grad_fn=<SigmoidBackward0>)"
      ]
     },
     "execution_count": 5,
     "metadata": {},
     "output_type": "execute_result"
    }
   ],
   "source": [
    "net(X)"
   ]
  },
  {
   "cell_type": "code",
   "execution_count": 6,
   "id": "e7b6b362-3093-4550-a560-ce75f75199b0",
   "metadata": {},
   "outputs": [],
   "source": [
    "torch.manual_seed(43052)\n",
    "net = torch.nn.Sequential(\n",
    "    torch.nn.Linear(784,32),\n",
    "    torch.nn.ReLU(),\n",
    "    torch.nn.Linear(32,1),\n",
    ")\n",
    "sig = torch.nn.Sigmoid()"
   ]
  },
  {
   "cell_type": "code",
   "execution_count": 7,
   "id": "2dfc73d1-bdba-4dcb-b9b5-63ed99e3fc44",
   "metadata": {},
   "outputs": [
    {
     "data": {
      "text/plain": [
       "tensor([[0.4577],\n",
       "        [0.4624],\n",
       "        [0.4653],\n",
       "        ...,\n",
       "        [0.4700],\n",
       "        [0.4620],\n",
       "        [0.4738]], grad_fn=<SigmoidBackward0>)"
      ]
     },
     "execution_count": 7,
     "metadata": {},
     "output_type": "execute_result"
    }
   ],
   "source": [
    "sig(net(X))"
   ]
  },
  {
   "cell_type": "code",
   "execution_count": 8,
   "id": "19ef7630-b792-4c6b-be08-f9426c5c8088",
   "metadata": {},
   "outputs": [
    {
     "data": {
      "text/plain": [
       "tensor([[0.4577],\n",
       "        [0.4624],\n",
       "        [0.4653],\n",
       "        ...,\n",
       "        [0.4700],\n",
       "        [0.4620],\n",
       "        [0.4738]], grad_fn=<DivBackward0>)"
      ]
     },
     "execution_count": 8,
     "metadata": {},
     "output_type": "execute_result"
    }
   ],
   "source": [
    "torch.exp(net(X))/(1+torch.exp(net(X)))"
   ]
  },
  {
   "cell_type": "code",
   "execution_count": 9,
   "id": "2c91fceb-1d02-4072-811f-e0c1e6a4d8c0",
   "metadata": {},
   "outputs": [],
   "source": [
    "torch.manual_seed(43052)\n",
    "net = torch.nn.Sequential(\n",
    "    torch.nn.Linear(784,32),\n",
    "    torch.nn.ReLU(),\n",
    "    torch.nn.Linear(32,1),\n",
    ")\n",
    "sig = torch.nn.Sigmoid()\n",
    "loss_fn = torch.nn.BCELoss()\n",
    "optimizr = torch.optim.Adam(net.parameters())\n",
    "#---#\n",
    "for epoc in range(1,31):\n",
    "    #1\n",
    "    netout = net(X)\n",
    "    yhat = sig(netout)\n",
    "    #2\n",
    "    loss = loss_fn(yhat,y)\n",
    "    #3\n",
    "    loss.backward()\n",
    "    #4 \n",
    "    optimizr.step()\n",
    "    optimizr.zero_grad()"
   ]
  },
  {
   "cell_type": "code",
   "execution_count": 10,
   "id": "9ada1b28-f9ed-4a93-b104-6eb6a7079c89",
   "metadata": {},
   "outputs": [
    {
     "data": {
      "text/plain": [
       "tensor([[0.0179],\n",
       "        [0.0205],\n",
       "        [0.1106],\n",
       "        ...,\n",
       "        [0.8751],\n",
       "        [0.8740],\n",
       "        [0.8033]], grad_fn=<SigmoidBackward0>)"
      ]
     },
     "execution_count": 10,
     "metadata": {},
     "output_type": "execute_result"
    }
   ],
   "source": [
    "sig(net(X))"
   ]
  },
  {
   "cell_type": "code",
   "execution_count": 32,
   "id": "44c595ab-1984-4e71-9eb2-c1d6b99feaa8",
   "metadata": {},
   "outputs": [],
   "source": [
    "torch.manual_seed(43052)\n",
    "sig = torch.nn.Sigmoid()\n",
    "net = torch.nn.Sequential(\n",
    "    torch.nn.Linear(784,32),\n",
    "    torch.nn.ReLU(),\n",
    "    torch.nn.Linear(32,1),\n",
    "    sig\n",
    ")\n",
    "\n",
    "loss_fn = torch.nn.BCELoss()\n",
    "optimizr = torch.optim.Adam(net.parameters())\n",
    "#---#\n",
    "for epoc in range(1,31):\n",
    "    #1\n",
    "    #netout = net(X)\n",
    "    yhat = net(X)\n",
    "    #2\n",
    "    loss = loss_fn(yhat,y)\n",
    "    #3\n",
    "    loss.backward()\n",
    "    #4 \n",
    "    optimizr.step()\n",
    "    optimizr.zero_grad()"
   ]
  },
  {
   "cell_type": "code",
   "execution_count": 33,
   "id": "670457c2-cfe4-4a05-8d2f-8061b1c5a1e9",
   "metadata": {},
   "outputs": [
    {
     "data": {
      "text/plain": [
       "tensor([[0.0179],\n",
       "        [0.0205],\n",
       "        [0.1106],\n",
       "        ...,\n",
       "        [0.8751],\n",
       "        [0.8740],\n",
       "        [0.8033]], grad_fn=<SigmoidBackward0>)"
      ]
     },
     "execution_count": 33,
     "metadata": {},
     "output_type": "execute_result"
    }
   ],
   "source": [
    "net(X)"
   ]
  },
  {
   "cell_type": "markdown",
   "id": "bf0cf7c6-e3ff-417b-bb8a-3af270c89cbd",
   "metadata": {},
   "source": [
    "- 결과 동일\n",
    "    - torch.nn.Linear(32,1)을 빼면 optimizer에 parameter가 전달이 되지 않아 update가 되지 않음\n",
    "    - sig에는 학습해야할 parameter가 없으므로 빼도(빼고 나온 결과에 sig) 되고 넣어도 됨 "
   ]
  },
  {
   "cell_type": "code",
   "execution_count": 34,
   "id": "e2e0f4c4-5bbe-4108-90b7-a4513660ac7d",
   "metadata": {},
   "outputs": [
    {
     "data": {
      "text/plain": [
       "tensor([[0.5045],\n",
       "        [0.5051],\n",
       "        [0.5276],\n",
       "        ...,\n",
       "        [0.7058],\n",
       "        [0.7056],\n",
       "        [0.6907]], grad_fn=<SigmoidBackward0>)"
      ]
     },
     "execution_count": 34,
     "metadata": {},
     "output_type": "execute_result"
    }
   ],
   "source": [
    "sig(net(X)) # 확률"
   ]
  },
  {
   "cell_type": "code",
   "execution_count": 35,
   "id": "792ee542-5e31-4c1a-b322-2ab36d98b228",
   "metadata": {},
   "outputs": [],
   "source": [
    "torch.manual_seed(43052)\n",
    "net = torch.nn.Sequential(\n",
    "    torch.nn.Linear(784,32),\n",
    "    torch.nn.ReLU(),\n",
    "    torch.nn.Linear(32,1),\n",
    ")\n",
    "sig = torch.nn.Sigmoid()\n",
    "loss_fn = torch.nn.BCELoss()\n",
    "optimizr = torch.optim.Adam(net.parameters())\n",
    "#---#\n",
    "for epoc in range(1,31):\n",
    "    #1\n",
    "    netout = net(X)\n",
    "    yhat = sig(netout)\n",
    "    #2\n",
    "    loss = loss_fn(yhat,y)\n",
    "    #3\n",
    "    loss.backward()\n",
    "    #4 \n",
    "    optimizr.step()\n",
    "    optimizr.zero_grad()"
   ]
  },
  {
   "cell_type": "code",
   "execution_count": 36,
   "id": "fe0c1051-481c-48f5-a040-dcab3e612a11",
   "metadata": {},
   "outputs": [],
   "source": [
    "logits = netout = net(X) # 로짓"
   ]
  },
  {
   "cell_type": "code",
   "execution_count": 37,
   "id": "3c143096-bd9e-487e-bc04-c119fdca1f8a",
   "metadata": {},
   "outputs": [
    {
     "data": {
      "text/plain": [
       "tensor([[0.0179],\n",
       "        [0.0205],\n",
       "        [0.1106],\n",
       "        ...,\n",
       "        [0.8751],\n",
       "        [0.8740],\n",
       "        [0.8033]], grad_fn=<SigmoidBackward0>)"
      ]
     },
     "execution_count": 37,
     "metadata": {},
     "output_type": "execute_result"
    }
   ],
   "source": [
    "sig(logits) # sig(net(X))과 동일"
   ]
  },
  {
   "cell_type": "code",
   "execution_count": 38,
   "id": "a1beccea-c5f1-4dae-a285-a46da7ebe57d",
   "metadata": {},
   "outputs": [
    {
     "data": {
      "text/plain": [
       "tensor([[0.0179],\n",
       "        [0.0205],\n",
       "        [0.1106],\n",
       "        ...,\n",
       "        [0.8751],\n",
       "        [0.8740],\n",
       "        [0.8033]], grad_fn=<DivBackward0>)"
      ]
     },
     "execution_count": 38,
     "metadata": {},
     "output_type": "execute_result"
    }
   ],
   "source": [
    "torch.exp(logits)/(1+torch.exp(logits))"
   ]
  },
  {
   "cell_type": "markdown",
   "id": "7cce8fe7-17ed-4e51-8b44-97e41ce921dc",
   "metadata": {},
   "source": [
    "- 만약 logit이 0이면 1/2"
   ]
  },
  {
   "cell_type": "code",
   "execution_count": 41,
   "id": "ecff1bc0-d9e5-462f-8048-ef8b732f403c",
   "metadata": {},
   "outputs": [
    {
     "data": {
      "text/plain": [
       "tensor([0.5000])"
      ]
     },
     "execution_count": 41,
     "metadata": {},
     "output_type": "execute_result"
    }
   ],
   "source": [
    "torch.exp(torch.tensor([0]))/(1+torch.exp(torch.tensor([0])))"
   ]
  },
  {
   "cell_type": "markdown",
   "id": "375c8216-d6b5-4d21-8a19-7379d0275980",
   "metadata": {},
   "source": [
    "- 만약 logit이 양수면 증가할수록 전체 값은 1에 가까워짐\n",
    "- 만약 logit이 음수면 증가할수록 전체 값은 0에 가까워짐"
   ]
  },
  {
   "cell_type": "markdown",
   "id": "1c90e4bd-75c2-438e-ad29-04395439421a",
   "metadata": {},
   "source": [
    "- 위의 내용을 활용하여 accuracy 적용 가능"
   ]
  },
  {
   "cell_type": "code",
   "execution_count": 42,
   "id": "bf9b12ba-280a-4e4d-94c9-d84ff09bc990",
   "metadata": {},
   "outputs": [
    {
     "data": {
      "text/plain": [
       "tensor(0.9956)"
      ]
     },
     "execution_count": 42,
     "metadata": {},
     "output_type": "execute_result"
    }
   ],
   "source": [
    "((sig(netout) > 0.5) == y).float().mean()"
   ]
  },
  {
   "cell_type": "code",
   "execution_count": 43,
   "id": "f3c6a299-2f89-4bfb-b45a-e4e8f4073222",
   "metadata": {},
   "outputs": [
    {
     "data": {
      "text/plain": [
       "tensor([[False],\n",
       "        [False],\n",
       "        [False],\n",
       "        ...,\n",
       "        [ True],\n",
       "        [ True],\n",
       "        [ True]])"
      ]
     },
     "execution_count": 43,
     "metadata": {},
     "output_type": "execute_result"
    }
   ],
   "source": [
    "sig(netout)>0.5"
   ]
  },
  {
   "cell_type": "code",
   "execution_count": 45,
   "id": "86441b85-98da-4f33-b418-600ee84aca2a",
   "metadata": {},
   "outputs": [
    {
     "data": {
      "text/plain": [
       "tensor([[False],\n",
       "        [False],\n",
       "        [False],\n",
       "        ...,\n",
       "        [ True],\n",
       "        [ True],\n",
       "        [ True]])"
      ]
     },
     "execution_count": 45,
     "metadata": {},
     "output_type": "execute_result"
    }
   ],
   "source": [
    "netout>0 # 위와 동일"
   ]
  },
  {
   "cell_type": "code",
   "execution_count": 47,
   "id": "8c693f96-1bfa-45c7-8e48-855e20b73485",
   "metadata": {},
   "outputs": [
    {
     "data": {
      "text/plain": [
       "tensor(0.9956)"
      ]
     },
     "execution_count": 47,
     "metadata": {},
     "output_type": "execute_result"
    }
   ],
   "source": [
    "((netout>0) == y).float().mean() # 위와 동일"
   ]
  },
  {
   "cell_type": "markdown",
   "id": "c48442b4-e4cf-4126-90a1-f28bafe96603",
   "metadata": {},
   "source": [
    ")🗣️"
   ]
  },
  {
   "cell_type": "markdown",
   "id": "25759498-ae84-440c-aecf-ef55ce597f3c",
   "metadata": {},
   "source": [
    "`-` 예전에 적합했던 코드에서 sig를 분리한것 "
   ]
  },
  {
   "cell_type": "code",
   "execution_count": 48,
   "id": "c573300d-7d5d-48f3-bbe4-0327e49dcbde",
   "metadata": {},
   "outputs": [],
   "source": [
    "torch.manual_seed(43052)\n",
    "net = torch.nn.Sequential(\n",
    "    torch.nn.Linear(784,32),\n",
    "    torch.nn.ReLU(),\n",
    "    torch.nn.Linear(32,1),\n",
    ")\n",
    "sig = torch.nn.Sigmoid()\n",
    "loss_fn = torch.nn.BCELoss()\n",
    "optimizr = torch.optim.Adam(net.parameters())\n",
    "#---#\n",
    "for epoc in range(1,31):\n",
    "    #1\n",
    "    netout = net(X) # netout = logits\n",
    "    yhat = sig(netout) # yhat = probs\n",
    "    #2\n",
    "    loss = loss_fn(yhat,y)\n",
    "    #3\n",
    "    loss.backward()\n",
    "    #4 \n",
    "    optimizr.step()\n",
    "    optimizr.zero_grad()"
   ]
  },
  {
   "cell_type": "markdown",
   "id": "155ff7de-88bf-4d8a-8712-f542568cfd75",
   "metadata": {},
   "source": [
    "`#` netout(=logits) 의 특징\n",
    "\n",
    "- $netout >0 \\Leftrightarrow sig(netout) > 0.5$\n",
    "- $netout <0 \\Leftrightarrow sig(netout) < 0.5$ "
   ]
  },
  {
   "cell_type": "code",
   "execution_count": 49,
   "id": "2b32eeb7-5f0b-4572-a210-c21dd6fc52e9",
   "metadata": {},
   "outputs": [
    {
     "data": {
      "text/plain": [
       "tensor(0.9956)"
      ]
     },
     "execution_count": 49,
     "metadata": {},
     "output_type": "execute_result"
    }
   ],
   "source": [
    "((net(X)>0) ==y).float().mean()"
   ]
  },
  {
   "cell_type": "markdown",
   "id": "3650b72f-ab15-4dea-a25d-ff25aec638c7",
   "metadata": {},
   "source": [
    "`-` 아래의 코드는 위의 코드와 같은 코드임 "
   ]
  },
  {
   "cell_type": "markdown",
   "id": "1b9ccea8-8edd-4b93-97ab-ddbed287a6d3",
   "metadata": {},
   "source": [
    "- 🗣️\n",
    "    - loss에서 logits과 y를 바로 비교하고 싶음\n",
    "    - BCELoss 대신 BCEWithLogitsLoss 사용 (yhat과 y가 아닌 logits과 y를 비교하여 loss계산)\n",
    "    - loss에 yhat을 집어넣을 필요가 없기 때문에 yhat 구하는 코드 삭제\n",
    "    - 이렇게 바꾸면 컴퓨터 공학적으로 나음 (연산 편리)"
   ]
  },
  {
   "cell_type": "code",
   "execution_count": 50,
   "id": "2b3ba387-2e40-4d89-a9be-7b10e07d8e2a",
   "metadata": {},
   "outputs": [],
   "source": [
    "torch.manual_seed(43052)\n",
    "net = torch.nn.Sequential(\n",
    "    torch.nn.Linear(784,32),\n",
    "    torch.nn.ReLU(),\n",
    "    torch.nn.Linear(32,1),\n",
    ")\n",
    "loss_fn = torch.nn.BCEWithLogitsLoss()\n",
    "optimizr = torch.optim.Adam(net.parameters())\n",
    "#---#\n",
    "for epoc in range(1,31):\n",
    "    #1\n",
    "    netout = net(X) \n",
    "    #2\n",
    "    loss = loss_fn(netout,y)\n",
    "    #3\n",
    "    loss.backward()\n",
    "    #4 \n",
    "    optimizr.step()\n",
    "    optimizr.zero_grad()"
   ]
  },
  {
   "cell_type": "markdown",
   "id": "8c875d51-1a5a-4b04-8900-4630c269fe66",
   "metadata": {},
   "source": [
    "🗣️("
   ]
  },
  {
   "cell_type": "markdown",
   "id": "043cf55d-dd53-45c7-8806-023f43bac43c",
   "metadata": {},
   "source": [
    "- 각 코드 마지막에 다음을 실행하고 결과를 비교하면 같음을 알 수 있음"
   ]
  },
  {
   "cell_type": "markdown",
   "id": "ff20f920-8409-461e-b371-fe9d3fd434d1",
   "metadata": {},
   "source": [
    "```python\n",
    "##--에폭이후코드--#\n",
    "acc = ((net(X)>0) ==u).float().mean()\n",
    "print(epoc, acc)\n",
    "```"
   ]
  },
  {
   "cell_type": "markdown",
   "id": "a7b272c5-9253-464a-9e96-f49b7465acd2",
   "metadata": {},
   "source": [
    ")🗣️"
   ]
  },
  {
   "cell_type": "markdown",
   "id": "729daa53-1ec1-4adc-a7ef-1be2204f8074",
   "metadata": {},
   "source": [
    "## B. 범주형자료의 변환 "
   ]
  },
  {
   "cell_type": "markdown",
   "id": "b324cbeb-6390-4a57-a69e-e61534af51f6",
   "metadata": {},
   "source": [
    "`-` 범주형자료를 숫자로 어떻게 바꿀까? \n",
    "\n",
    "- 실패 / 성공 $\\to$ 0 / 1\n",
    "- 숫자0그림 / 숫자1그림 $\\to$ 0 / 1 \n",
    "- 강아지그림 / 고양이그림 $\\to$ 0 / 1\n",
    "- 강아지그림 / 고양이그림 / 토끼그림 $\\to$ 0 / 1 / 2 ?????"
   ]
  },
  {
   "cell_type": "markdown",
   "id": "6c077e41-63d3-4a09-8dba-9b0e17c91277",
   "metadata": {},
   "source": [
    "`-` 주입식교육: 강아지그림/고양이그림/토끼그림일 경우 숫자화시키는 방법 \n",
    "\n",
    "- 잘못된방식: 강아지그림 = 0, 고양이그림 = 1, 토끼그림 = 2\n",
    "- 올바른방식: 강아지그림 = [1,0,0], 고양이그림 = [0,1,0], 토끼그림 = [0,0,1]  ### <-- 이런방식을 원핫인코딩이라함"
   ]
  },
  {
   "cell_type": "markdown",
   "id": "75c41111-abd8-4061-af6d-db1b7fed17cb",
   "metadata": {},
   "source": [
    "🗣️("
   ]
  },
  {
   "cell_type": "markdown",
   "id": "47b3dccd-2a82-4c52-85bb-dc9479946260",
   "metadata": {},
   "source": [
    "```\n",
    "[1,0,0]\n",
    "[1,0,0]\n",
    "[0,1,0]\n",
    "[0,0,1]\n",
    "column 별로 평균\n",
    "[0.5,0.25,0.25]\n",
    "강아지가 50% 있다고 생각 가능 (평균이 의미를 가짐)\n",
    "```"
   ]
  },
  {
   "cell_type": "markdown",
   "id": "0d213ff6-a393-455b-907b-f4c3c90d9d2c",
   "metadata": {},
   "source": [
    ")🗣️"
   ]
  },
  {
   "cell_type": "markdown",
   "id": "960a066e-49a2-4588-a5c7-931c27d0c4ad",
   "metadata": {},
   "source": [
    "`-` 왜? \n",
    "\n",
    "- 설명1: 강아지그림, 고양이그림,  토끼그림은 서열측도가 아니라 명목척도임. 그래서 범주를 0,1,2 로 숫자화하면 평균등의 의미가 없음 (사회조사분석사 2급 스타일) \n",
    "- 설명2: 범주형은 원핫인코딩으로 해야함 (\"30일만에 끝내는 실전머신러닝\" 이런 책에 나오는 스타일) \n",
    "- 설명3: 동전을 한번 던져서 나오는 결과는 $n=1$인 이항분포를 따름. 주사위 한번 던져서 나오는 눈금의 숫자는 $n=1$인 다항분포를 따름. $n=1$인 이항분포의 실현값은 0,1 이고, $n=1$인 다항분포의 실현값은 [1,0,0], [0,1,0], [0,0,1] 이므로 당연히 $y_i$ 는 [1,0,0], [0,1,0], [0,0,1] 중 하나의 형태를 가진다고 가정하는게 바람직함 (이 설명이 이 중에서 가장 정확한 설명임)"
   ]
  },
  {
   "cell_type": "markdown",
   "id": "f75fdadf-64bc-4db7-be75-4df83b88f61b",
   "metadata": {},
   "source": [
    "🗣️("
   ]
  },
  {
   "cell_type": "markdown",
   "id": "293ebbca-49d4-425a-bb32-88f2e4254717",
   "metadata": {},
   "source": [
    "```\n",
    "모델링 = 스트럭처 + 오차\n",
    "y = 0,1,0,0,1\n",
    "prob = 0.2. 0.8 (스트럭처)\n",
    "오차항에 대한 모델: 이항 분포\n",
    "y = 앞면, 뒷면 ---> 0,1 # n=1인 이항분포를 따름 = 베르누이를 따름\n",
    "y = 주사위 1,2,3,4,5,6 ---> 다항분포를 따름 n=1\n",
    "n=1인 다항분포의 realization: [1,0,0,0,0,0] ...\n",
    "```"
   ]
  },
  {
   "cell_type": "markdown",
   "id": "29020b40-d166-46f3-8591-41774e5db030",
   "metadata": {},
   "source": [
    ")🗣️"
   ]
  },
  {
   "cell_type": "markdown",
   "id": "ccf61c86-5225-4dfc-be2b-ddb64362d61f",
   "metadata": {},
   "source": [
    "## C. 실습: 3개의 클래스를 구분"
   ]
  },
  {
   "cell_type": "markdown",
   "id": "96af1425-342c-495b-86df-ffebbb49c956",
   "metadata": {},
   "source": [
    "`-` 데이터준비 "
   ]
  },
  {
   "cell_type": "code",
   "execution_count": 52,
   "id": "e47ddead-d20c-4661-8e1a-25d9b7376262",
   "metadata": {},
   "outputs": [],
   "source": [
    "train_dataset = torchvision.datasets.MNIST(root='./data', train=True, download=True)\n",
    "to_tensor = torchvision.transforms.ToTensor()\n",
    "X0 = torch.stack([to_tensor(Xi) for Xi, yi in train_dataset if yi==0])\n",
    "X1 = torch.stack([to_tensor(Xi) for Xi, yi in train_dataset if yi==1])\n",
    "X2 = torch.stack([to_tensor(Xi) for Xi, yi in train_dataset if yi==2])\n",
    "X = torch.concat([X0,X1,X2]).reshape(-1,1*28*28)\n",
    "y = torch.tensor([0]*len(X0) + [1]*len(X1)+ [2]*len(X2)).reshape(-1,1).float()"
   ]
  },
  {
   "cell_type": "markdown",
   "id": "67cadf3a-3cdb-4b58-bc54-613bc41143e2",
   "metadata": {},
   "source": [
    "🗣️("
   ]
  },
  {
   "cell_type": "code",
   "execution_count": 53,
   "id": "34590633-3e43-4eec-85f7-f994db8f8d36",
   "metadata": {},
   "outputs": [
    {
     "data": {
      "text/plain": [
       "torch.Size([18623, 784])"
      ]
     },
     "execution_count": 53,
     "metadata": {},
     "output_type": "execute_result"
    }
   ],
   "source": [
    "X.shape"
   ]
  },
  {
   "cell_type": "code",
   "execution_count": 54,
   "id": "25709dfb-6ac6-49d7-9ee4-54b51ddd675d",
   "metadata": {},
   "outputs": [
    {
     "data": {
      "text/plain": [
       "tensor([[0.],\n",
       "        [0.],\n",
       "        [0.],\n",
       "        ...,\n",
       "        [2.],\n",
       "        [2.],\n",
       "        [2.]])"
      ]
     },
     "execution_count": 54,
     "metadata": {},
     "output_type": "execute_result"
    }
   ],
   "source": [
    "y"
   ]
  },
  {
   "cell_type": "code",
   "execution_count": 55,
   "id": "f9b75cdb-664c-4ceb-8d65-2113ab4499a3",
   "metadata": {},
   "outputs": [
    {
     "data": {
      "text/plain": [
       "tensor([0., 0., 0.,  ..., 2., 2., 2.])"
      ]
     },
     "execution_count": 55,
     "metadata": {},
     "output_type": "execute_result"
    }
   ],
   "source": [
    "y.reshape(-1)"
   ]
  },
  {
   "cell_type": "code",
   "execution_count": 57,
   "id": "037617e1-0e92-4c51-82d3-58f52bf6a0b3",
   "metadata": {},
   "outputs": [
    {
     "data": {
      "text/plain": [
       "{0.0, 1.0, 2.0}"
      ]
     },
     "execution_count": 57,
     "metadata": {},
     "output_type": "execute_result"
    }
   ],
   "source": [
    "set(y.reshape(-1).tolist())"
   ]
  },
  {
   "cell_type": "code",
   "execution_count": 58,
   "id": "eb5b460e-8b67-4009-93d0-d5e4f6215176",
   "metadata": {},
   "outputs": [
    {
     "data": {
      "text/plain": [
       "<matplotlib.image.AxesImage at 0x7efcd82d5ca0>"
      ]
     },
     "execution_count": 58,
     "metadata": {},
     "output_type": "execute_result"
    },
    {
     "data": {
      "image/png": "[encoded data removed]",
      "text/plain": [
       "<Figure size 450x300 with 1 Axes>"
      ]
     },
     "metadata": {},
     "output_type": "display_data"
    }
   ],
   "source": [
    "plt.imshow(X[0].reshape(28,28), cmap=\"gray\")"
   ]
  },
  {
   "cell_type": "code",
   "execution_count": 59,
   "id": "8da36180-1e85-4f12-851a-4a2c67d84859",
   "metadata": {},
   "outputs": [
    {
     "data": {
      "text/plain": [
       "<matplotlib.image.AxesImage at 0x7efcf61e47c0>"
      ]
     },
     "execution_count": 59,
     "metadata": {},
     "output_type": "execute_result"
    },
    {
     "data": {
      "image/png": "[encoded data removed]",
      "text/plain": [
       "<Figure size 450x300 with 1 Axes>"
      ]
     },
     "metadata": {},
     "output_type": "display_data"
    }
   ],
   "source": [
    "plt.imshow(X[10000].reshape(28,28), cmap=\"gray\")"
   ]
  },
  {
   "cell_type": "code",
   "execution_count": 60,
   "id": "4291d2aa-b5fc-468e-9f52-acd98c6bd996",
   "metadata": {},
   "outputs": [
    {
     "data": {
      "text/plain": [
       "<matplotlib.image.AxesImage at 0x7efcf614d1f0>"
      ]
     },
     "execution_count": 60,
     "metadata": {},
     "output_type": "execute_result"
    },
    {
     "data": {
      "image/png": "[encoded data removed]",
      "text/plain": [
       "<Figure size 450x300 with 1 Axes>"
      ]
     },
     "metadata": {},
     "output_type": "display_data"
    }
   ],
   "source": [
    "plt.imshow(X[-1].reshape(28,28), cmap=\"gray\")"
   ]
  },
  {
   "cell_type": "code",
   "execution_count": 61,
   "id": "cc08761c-7ecb-4582-a3f7-b707e5870a76",
   "metadata": {},
   "outputs": [
    {
     "data": {
      "text/plain": [
       "torch.Size([18623, 1])"
      ]
     },
     "execution_count": 61,
     "metadata": {},
     "output_type": "execute_result"
    }
   ],
   "source": [
    "y.shape"
   ]
  },
  {
   "cell_type": "code",
   "execution_count": 62,
   "id": "b5169f9b-253d-4c6a-9cae-c8c0af34bf61",
   "metadata": {},
   "outputs": [
    {
     "data": {
      "text/plain": [
       "tensor([[0.],\n",
       "        [0.],\n",
       "        [0.],\n",
       "        ...,\n",
       "        [2.],\n",
       "        [2.],\n",
       "        [2.]])"
      ]
     },
     "execution_count": 62,
     "metadata": {},
     "output_type": "execute_result"
    }
   ],
   "source": [
    "y"
   ]
  },
  {
   "cell_type": "markdown",
   "id": "3f12f22b-fe2d-462c-bdd1-8fe7e5f4986c",
   "metadata": {},
   "source": [
    "- y가 이렇게 정리되어 있으면 안 됨"
   ]
  },
  {
   "cell_type": "markdown",
   "id": "3e0939fd-1c90-487c-a337-14f3dbd1b415",
   "metadata": {},
   "source": [
    "[[0],[0],[1],[2]] -> [[1,0,0],[1,0,0],[0,1,0],[0,0,1]] 이런식으로 바꾸고 싶음"
   ]
  },
  {
   "cell_type": "code",
   "execution_count": 63,
   "id": "601c5b4b-25e3-4ce5-9405-d0a7fbabceac",
   "metadata": {},
   "outputs": [],
   "source": [
    "# torch.nn.functional.one_hot([0,0,1,2]) # error"
   ]
  },
  {
   "cell_type": "code",
   "execution_count": 64,
   "id": "d449b2d9-b102-47b8-8713-f8b629737943",
   "metadata": {},
   "outputs": [
    {
     "data": {
      "text/plain": [
       "tensor([[1, 0, 0],\n",
       "        [1, 0, 0],\n",
       "        [0, 1, 0],\n",
       "        [0, 0, 1]])"
      ]
     },
     "execution_count": 64,
     "metadata": {},
     "output_type": "execute_result"
    }
   ],
   "source": [
    "torch.nn.functional.one_hot(torch.tensor([0,0,1,2]))"
   ]
  },
  {
   "cell_type": "markdown",
   "id": "42a5b84f-3cb3-4612-800a-385d38e40d26",
   "metadata": {},
   "source": [
    "- 1차원의 tensor로 넣어주면 바꿔줌"
   ]
  },
  {
   "cell_type": "code",
   "execution_count": 65,
   "id": "eb708e8e-5666-4889-a586-f675696db7c9",
   "metadata": {},
   "outputs": [
    {
     "data": {
      "text/plain": [
       "tensor([0., 0., 0.,  ..., 2., 2., 2.])"
      ]
     },
     "execution_count": 65,
     "metadata": {},
     "output_type": "execute_result"
    }
   ],
   "source": [
    "y.reshape(-1)"
   ]
  },
  {
   "attachments": {},
   "cell_type": "markdown",
   "id": "c3a1b8b2-63a4-481f-b99f-34310cc5f209",
   "metadata": {},
   "source": [
    "- 이대로 집어 넣으면 error (float으로 들어감)\n",
    "- 1차원의 tensor + int로 넣어주면 바꿔줌"
   ]
  },
  {
   "cell_type": "code",
   "execution_count": 66,
   "id": "299b50b1-a5d3-4850-8a9e-37fa63d5a7f8",
   "metadata": {},
   "outputs": [
    {
     "data": {
      "text/plain": [
       "tensor([0, 0, 0,  ..., 2, 2, 2])"
      ]
     },
     "execution_count": 66,
     "metadata": {},
     "output_type": "execute_result"
    }
   ],
   "source": [
    "y.reshape(-1).long()"
   ]
  },
  {
   "cell_type": "markdown",
   "id": "e0e7f90d-f49a-485b-9710-1a126b90f17a",
   "metadata": {},
   "source": [
    ")🗣️"
   ]
  },
  {
   "cell_type": "code",
   "execution_count": 67,
   "id": "e32ea2e0-5f98-45f6-9298-144aabea34e8",
   "metadata": {},
   "outputs": [
    {
     "data": {
      "text/plain": [
       "tensor([[1., 0., 0.],\n",
       "        [1., 0., 0.],\n",
       "        [1., 0., 0.],\n",
       "        ...,\n",
       "        [0., 0., 1.],\n",
       "        [0., 0., 1.],\n",
       "        [0., 0., 1.]])"
      ]
     },
     "execution_count": 67,
     "metadata": {},
     "output_type": "execute_result"
    }
   ],
   "source": [
    "y = torch.nn.functional.one_hot(y.reshape(-1).long()).float()\n",
    "y"
   ]
  },
  {
   "cell_type": "markdown",
   "id": "71182090-5537-4897-a9a1-3b8f3f767918",
   "metadata": {},
   "source": [
    "🗣️ 다시 float으로 바꿔줌"
   ]
  },
  {
   "cell_type": "markdown",
   "id": "1c88c02b-cce7-4615-9776-48179a83a3ae",
   "metadata": {},
   "source": [
    "`-` 적합 "
   ]
  },
  {
   "cell_type": "markdown",
   "id": "5a708991-6d98-4eaa-aca5-7b22b26394a9",
   "metadata": {},
   "source": [
    "🗣️("
   ]
  },
  {
   "cell_type": "code",
   "execution_count": 69,
   "id": "609f728f-fd97-4d46-a8b9-bb85bf025535",
   "metadata": {},
   "outputs": [
    {
     "data": {
      "text/plain": [
       "(torch.Size([18623, 784]), torch.Size([18623, 3]))"
      ]
     },
     "execution_count": 69,
     "metadata": {},
     "output_type": "execute_result"
    }
   ],
   "source": [
    "X.shape, y.shape"
   ]
  },
  {
   "cell_type": "markdown",
   "id": "7c3c9820-543f-4d2b-908b-2f617454fd52",
   "metadata": {},
   "source": [
    "- Sigmoid는 1차원일 때 적용되므로 1차원이 아닌 지금은 다른 것이 필요"
   ]
  },
  {
   "cell_type": "code",
   "execution_count": 71,
   "id": "65b14c46-5a5d-4077-a929-8596a0929625",
   "metadata": {},
   "outputs": [],
   "source": [
    "net = torch.nn.Sequential(\n",
    "    torch.nn.Linear(784,32), # 일단 32 정도\n",
    "    torch.nn.ReLU(), # 표현력 올리기\n",
    "    torch.nn.Linear(32,3)\n",
    ")\n",
    "loss_fn = torch.nn.CrossEntropyLoss() # 다차원일 때 사용 (logits과 y 비교)"
   ]
  },
  {
   "cell_type": "code",
   "execution_count": 72,
   "id": "cc8500cd-6a9a-4316-9a1f-ba25c7c24057",
   "metadata": {},
   "outputs": [
    {
     "data": {
      "text/plain": [
       "tensor([[-0.0676,  0.0558,  0.0013],\n",
       "        [-0.0191,  0.0977, -0.0303],\n",
       "        [-0.0771,  0.0898,  0.0959],\n",
       "        ...,\n",
       "        [-0.0168,  0.0298,  0.0016],\n",
       "        [ 0.0077,  0.0703,  0.0517],\n",
       "        [ 0.0628,  0.0072,  0.0380]], grad_fn=<AddmmBackward0>)"
      ]
     },
     "execution_count": 72,
     "metadata": {},
     "output_type": "execute_result"
    }
   ],
   "source": [
    "net(X)"
   ]
  },
  {
   "cell_type": "code",
   "execution_count": 73,
   "id": "ed11a14c-4120-400e-89cc-ea2627b612d9",
   "metadata": {},
   "outputs": [
    {
     "data": {
      "text/plain": [
       "tensor(1.0771, grad_fn=<DivBackward1>)"
      ]
     },
     "execution_count": 73,
     "metadata": {},
     "output_type": "execute_result"
    }
   ],
   "source": [
    "loss_fn(net(X),y) # y가 float이 아니면 error"
   ]
  },
  {
   "cell_type": "markdown",
   "id": "fce36a0b-6bf9-4f4d-9c07-c4b3afb24ae7",
   "metadata": {},
   "source": [
    "- 참고) BCEWithLigitsLoss: Binary Cross Entropy"
   ]
  },
  {
   "cell_type": "markdown",
   "id": "b76a0fc8-e3d7-432b-a0ad-381f13bc4a5a",
   "metadata": {},
   "source": [
    ")🗣️"
   ]
  },
  {
   "cell_type": "code",
   "execution_count": 74,
   "id": "2464b794-64d2-48ae-8767-63311db7fa89",
   "metadata": {},
   "outputs": [],
   "source": [
    "net = torch.nn.Sequential(\n",
    "    torch.nn.Linear(784,32),\n",
    "    torch.nn.ReLU(),\n",
    "    torch.nn.Linear(32,3),\n",
    ")\n",
    "loss_fn = torch.nn.CrossEntropyLoss() # 의미상 CEWithLogitsLoss\n",
    "optimizr = torch.optim.Adam(net.parameters())\n",
    "for epoc in range(1,31):\n",
    "    #1\n",
    "    netout = net(X) # netout: (n,3) \n",
    "    #2\n",
    "    loss = loss_fn(netout,y) \n",
    "    #3\n",
    "    loss.backward()\n",
    "    #4 \n",
    "    optimizr.step()\n",
    "    optimizr.zero_grad()"
   ]
  },
  {
   "cell_type": "markdown",
   "id": "5e58f5bf-2dbf-4521-ae38-73167522529f",
   "metadata": {},
   "source": [
    "🗣️("
   ]
  },
  {
   "cell_type": "markdown",
   "id": "40d2a19e-96e2-4cbf-8809-bb7cf224a7c9",
   "metadata": {},
   "source": [
    "- accuracy 계산"
   ]
  },
  {
   "cell_type": "code",
   "execution_count": 78,
   "id": "b3917e22-040a-4ebf-8db1-7fc728b159b3",
   "metadata": {},
   "outputs": [
    {
     "data": {
      "text/plain": [
       "tensor([[ 2.7971, -1.7052, -1.4072],\n",
       "        [ 1.3707, -0.7746, -0.2272],\n",
       "        [ 4.1326, -2.8297, -1.6813],\n",
       "        ...,\n",
       "        [-0.5738, -2.3579,  1.8868],\n",
       "        [ 0.3950, -1.6556,  1.0137],\n",
       "        [-0.7091, -1.2342,  1.3557]], grad_fn=<SliceBackward0>)"
      ]
     },
     "execution_count": 78,
     "metadata": {},
     "output_type": "execute_result"
    }
   ],
   "source": [
    "netout[::2] # logit 값 (클수록 1이 나올 확률이 높음)"
   ]
  },
  {
   "cell_type": "code",
   "execution_count": 79,
   "id": "fea52f7e-d585-43fb-9b11-d13a768a112d",
   "metadata": {},
   "outputs": [
    {
     "data": {
      "text/plain": [
       "tensor([[16.3971,  0.1817,  0.2448],\n",
       "        [19.7109,  0.2345,  0.2365],\n",
       "        [ 3.9381,  0.4609,  0.7968],\n",
       "        ...,\n",
       "        [ 1.4843,  0.1910,  2.7557],\n",
       "        [ 0.5556,  0.1023,  9.1077],\n",
       "        [ 0.4921,  0.2911,  3.8796]], grad_fn=<ExpBackward0>)"
      ]
     },
     "execution_count": 79,
     "metadata": {},
     "output_type": "execute_result"
    }
   ],
   "source": [
    "torch.exp(netout) # 전부 양수가 됨"
   ]
  },
  {
   "cell_type": "code",
   "execution_count": 82,
   "id": "3bc23764-17a8-473f-b8c6-82160b939395",
   "metadata": {},
   "outputs": [],
   "source": [
    "p1 = 16.3971 / (16.3971+0.1817+0.2448)\n",
    "p2 = 0.1817 / (16.3971+0.1817+0.2448)\n",
    "p3 = 0.2448 / (16.3971+0.1817+0.2448)"
   ]
  },
  {
   "cell_type": "code",
   "execution_count": 83,
   "id": "26383b1e-1f21-4b76-a134-585922b67a04",
   "metadata": {},
   "outputs": [
    {
     "data": {
      "text/plain": [
       "(0.9746487077676597, 0.010800304334387409, 0.014550987897952877)"
      ]
     },
     "execution_count": 83,
     "metadata": {},
     "output_type": "execute_result"
    }
   ],
   "source": [
    "p1,p2,p3 # 0~1사이에 있음 # 무조건 양수 # p1+p2+p3 = 1\n",
    "# --> 각각 카테고리에 속할 확률이라고 해석 가능 (softmax function)\n",
    "# 숫자가 크면 그 카테고리에 속한다고 네트워크가 강하게 확신"
   ]
  },
  {
   "cell_type": "code",
   "execution_count": 84,
   "id": "af8c014b-2a1b-4bb9-90b6-f9d26b2b9376",
   "metadata": {},
   "outputs": [
    {
     "data": {
      "text/plain": [
       "tensor([[ 2.7971, -1.7052, -1.4072],\n",
       "        [ 2.9812, -1.4505, -1.4417],\n",
       "        [ 1.3707, -0.7746, -0.2272],\n",
       "        ...,\n",
       "        [ 0.3950, -1.6556,  1.0137],\n",
       "        [-0.5878, -2.2794,  2.2091],\n",
       "        [-0.7091, -1.2342,  1.3557]], grad_fn=<AddmmBackward0>)"
      ]
     },
     "execution_count": 84,
     "metadata": {},
     "output_type": "execute_result"
    }
   ],
   "source": [
    "netout"
   ]
  },
  {
   "cell_type": "code",
   "execution_count": 85,
   "id": "72f0c5d8-d332-4099-be6a-41520de04bc6",
   "metadata": {},
   "outputs": [
    {
     "data": {
      "text/plain": [
       "tensor([0, 0, 0,  ..., 2, 2, 2])"
      ]
     },
     "execution_count": 85,
     "metadata": {},
     "output_type": "execute_result"
    }
   ],
   "source": [
    "netout.argmax(axis=1) # 예측값"
   ]
  },
  {
   "cell_type": "code",
   "execution_count": 86,
   "id": "d5982c69-5fac-4342-b421-73b71338bbe9",
   "metadata": {},
   "outputs": [
    {
     "data": {
      "text/plain": [
       "tensor([[1., 0., 0.],\n",
       "        [1., 0., 0.],\n",
       "        [1., 0., 0.],\n",
       "        ...,\n",
       "        [0., 0., 1.],\n",
       "        [0., 0., 1.],\n",
       "        [0., 0., 1.]])"
      ]
     },
     "execution_count": 86,
     "metadata": {},
     "output_type": "execute_result"
    }
   ],
   "source": [
    "y"
   ]
  },
  {
   "cell_type": "code",
   "execution_count": 87,
   "id": "eb974978-d001-4f42-b641-d5901eab5fe2",
   "metadata": {},
   "outputs": [
    {
     "data": {
      "text/plain": [
       "tensor([0, 0, 0,  ..., 2, 2, 2])"
      ]
     },
     "execution_count": 87,
     "metadata": {},
     "output_type": "execute_result"
    }
   ],
   "source": [
    "y.argmax(axis=1)"
   ]
  },
  {
   "cell_type": "markdown",
   "id": "1f8fea17-2903-4631-b3f2-7c48203a053b",
   "metadata": {},
   "source": [
    ")🗣️"
   ]
  },
  {
   "cell_type": "code",
   "execution_count": 88,
   "id": "89f35db1-5a84-446c-8ca3-1ca929c586aa",
   "metadata": {},
   "outputs": [
    {
     "data": {
      "text/plain": [
       "tensor(0.9674)"
      ]
     },
     "execution_count": 88,
     "metadata": {},
     "output_type": "execute_result"
    }
   ],
   "source": [
    "(netout.argmax(axis=1) == y.argmax(axis=1)).float().mean()"
   ]
  },
  {
   "cell_type": "markdown",
   "id": "ae5a8f89-e277-40ce-83e9-0b5ae69585e8",
   "metadata": {},
   "source": [
    "## D. 결론 -- 외우세여"
   ]
  },
  {
   "cell_type": "markdown",
   "id": "eb2202b7-66a7-4af9-a27a-0343a40fb349",
   "metadata": {},
   "source": [
    "`-` 파이토치버전 // 코딩용"
   ]
  },
  {
   "cell_type": "markdown",
   "id": "947953f0-6e20-4718-8a95-37a095054bfb",
   "metadata": {},
   "source": [
    "|분류 | netout의 의미 | 손실함수 | \n",
    "|:--:|:--:|:--:|\n",
    "|이항분류 | prob | `BCELoss` | \n",
    "|이항분류 | logit | `BCEWithLogitsLoss` | \n",
    "|다항분류| probs |  NA |\n",
    "|다항분류| logits |  `CrossEntropyLoss` | "
   ]
  },
  {
   "cell_type": "markdown",
   "id": "92645994-05fc-42ee-aeae-97076b828ae2",
   "metadata": {},
   "source": [
    "- 🗣️\n",
    "    - prob인데 BCEWithLogitsLoss: Sigmoid 2번\n",
    "    - logit인데 BCELoss: Sigmoid 0번\n",
    "    - 2번째와 4번째가 코딩적으로 나음, 개념적으로 이해하기는 1번째가 나음  "
   ]
  },
  {
   "cell_type": "markdown",
   "id": "801ee083-3434-4f5d-8219-3bee010f4f7a",
   "metadata": {},
   "source": [
    "> `CrossEntropyLoss` 이거 이름이 완전 마음에 안들어요.. `CEWithLogitsLoss` 라고 하는게 더 좋을 것 같습니다. "
   ]
  },
  {
   "cell_type": "markdown",
   "id": "5d8a76f1-90f8-4012-be9c-9079acbce731",
   "metadata": {},
   "source": [
    "`-` 일반적개념 // 이론용"
   ]
  },
  {
   "cell_type": "markdown",
   "id": "db05439a-898e-4503-87cc-76294e48d0e6",
   "metadata": {},
   "source": [
    "|분류 |오차항의가정|  마지막활성화함수 | 손실함수 | \n",
    "|:--:|:--:|:--:|:--:|\n",
    "|이항분류 | 이항분포 | sigmoid^[prob=sig(logit)] |Binary Cross Entropy  | \n",
    "|다항분류| 다항분포 | softmax^[probs=soft(logits)] |  Cross Entropy |"
   ]
  },
  {
   "cell_type": "markdown",
   "id": "17d8a5f8-b04d-402f-828d-84cbc8d6b15e",
   "metadata": {},
   "source": [
    "`-` 참고 (sigmoid, softmax 계산과정비교) "
   ]
  },
  {
   "cell_type": "markdown",
   "id": "dc3e37c8-08f5-48d3-9073-02379bed51d1",
   "metadata": {},
   "source": [
    "- $prob = \\text{sig}(logit) =\\frac{\\exp(logit)}{1+\\exp(logit)}$\n",
    "- $probs= \\text{softmax}\\left(\\begin{bmatrix} logit_1 \\\\ logit_2 \\\\ logit_3\\end{bmatrix}\\right) =\\begin{bmatrix} \\frac{\\exp(logit_1)}{\\exp(logit_1)+\\exp(logit_2)+\\exp(logit_3)} \\\\ \n",
    "\\frac{\\exp(logit_2)}{\\exp(logit_1)+\\exp(logit_2)+\\exp(logit_3)} \\\\\n",
    "\\frac{\\exp(logit_3)}{\\exp(logit_1)+\\exp(logit_2)+\\exp(logit_3)} \\end{bmatrix}$"
   ]
  },
  {
   "cell_type": "markdown",
   "id": "b693d7fd-bdd7-40ed-849d-74717f037fea",
   "metadata": {},
   "source": [
    "# 4. FashionMNIST 📝"
   ]
  },
  {
   "cell_type": "markdown",
   "id": "a6a5af39-080f-4bc7-a747-15482a0756e2",
   "metadata": {},
   "source": [
    "## A. 데이터 "
   ]
  },
  {
   "cell_type": "markdown",
   "id": "88810ce1-69ad-4902-b89a-23b4becbfbf2",
   "metadata": {},
   "source": [
    "<https://arxiv.org/abs/1708.07747> [@xiao2017fashion]"
   ]
  },
  {
   "cell_type": "code",
   "execution_count": 89,
   "id": "19ffc154-e4b6-4e09-9c32-73110128d4a8",
   "metadata": {
    "scrolled": true
   },
   "outputs": [
    {
     "name": "stderr",
     "output_type": "stream",
     "text": [
      "100.0%\n",
      "100.0%\n",
      "100.0%\n",
      "100.0%\n"
     ]
    }
   ],
   "source": [
    "train_dataset = torchvision.datasets.FashionMNIST(root='./data', train=True, download=True)\n",
    "test_dataset = torchvision.datasets.FashionMNIST(root='./data', train=False, download=True)\n",
    "to_tensor = torchvision.transforms.ToTensor()\n",
    "X = torch.stack([to_tensor(img) for img, lbl in train_dataset])\n",
    "y = torch.tensor([lbl for img, lbl in train_dataset])\n",
    "y = torch.nn.functional.one_hot(y).float()\n",
    "XX = torch.stack([to_tensor(img) for img, lbl in test_dataset])\n",
    "yy = torch.tensor([lbl for img, lbl in test_dataset])\n",
    "yy = torch.nn.functional.one_hot(yy).float()"
   ]
  },
  {
   "cell_type": "markdown",
   "id": "b5436587-06ab-47d3-b349-6fa566e0689b",
   "metadata": {},
   "source": [
    "🗣️("
   ]
  },
  {
   "cell_type": "code",
   "execution_count": 90,
   "id": "df07f7c5-5865-4a4c-aa20-1c8ee17ae46b",
   "metadata": {},
   "outputs": [
    {
     "data": {
      "text/plain": [
       "(torch.Size([60000, 1, 28, 28]),\n",
       " torch.Size([60000, 10]),\n",
       " torch.Size([10000, 1, 28, 28]),\n",
       " torch.Size([10000, 10]))"
      ]
     },
     "execution_count": 90,
     "metadata": {},
     "output_type": "execute_result"
    }
   ],
   "source": [
    "X.shape, y.shape, XX.shape, yy.shape"
   ]
  },
  {
   "cell_type": "code",
   "execution_count": 95,
   "id": "cafbdada-9f62-4989-9ce7-f219c787774b",
   "metadata": {},
   "outputs": [
    {
     "data": {
      "text/plain": [
       "torch.Size([28, 28])"
      ]
     },
     "execution_count": 95,
     "metadata": {},
     "output_type": "execute_result"
    }
   ],
   "source": [
    "X[0,0,:,:].shape # 4차원"
   ]
  },
  {
   "cell_type": "code",
   "execution_count": 96,
   "id": "e703382c-6d86-4851-abc9-f545563fb4b0",
   "metadata": {},
   "outputs": [
    {
     "data": {
      "text/plain": [
       "<matplotlib.image.AxesImage at 0x7efccd61f760>"
      ]
     },
     "execution_count": 96,
     "metadata": {},
     "output_type": "execute_result"
    },
    {
     "data": {
      "image/png": "[encoded data removed]",
      "text/plain": [
       "<Figure size 450x300 with 1 Axes>"
      ]
     },
     "metadata": {},
     "output_type": "display_data"
    }
   ],
   "source": [
    "plt.imshow(X[0,0,:,:], cmap=\"gray\")"
   ]
  },
  {
   "cell_type": "code",
   "execution_count": 98,
   "id": "ddbff950-a65f-4af6-8e1b-2394a5461604",
   "metadata": {},
   "outputs": [
    {
     "data": {
      "text/plain": [
       "<matplotlib.image.AxesImage at 0x7efccd208f10>"
      ]
     },
     "execution_count": 98,
     "metadata": {},
     "output_type": "execute_result"
    },
    {
     "data": {
      "image/png": "[encoded data removed]",
      "text/plain": [
       "<Figure size 450x300 with 1 Axes>"
      ]
     },
     "metadata": {},
     "output_type": "display_data"
    }
   ],
   "source": [
    "plt.imshow(X[1,0,:,:], cmap=\"gray\") # 다음 그림"
   ]
  },
  {
   "cell_type": "code",
   "execution_count": 99,
   "id": "996fb407-65a2-4d5e-81ad-644c0e02888f",
   "metadata": {},
   "outputs": [
    {
     "data": {
      "text/plain": [
       "<matplotlib.image.AxesImage at 0x7efccd5255b0>"
      ]
     },
     "execution_count": 99,
     "metadata": {},
     "output_type": "execute_result"
    },
    {
     "data": {
      "image/png": "[encoded data removed]",
      "text/plain": [
       "<Figure size 450x300 with 1 Axes>"
      ]
     },
     "metadata": {},
     "output_type": "display_data"
    }
   ],
   "source": [
    "plt.imshow(X[2,0,:,:], cmap=\"gray\") # 다음 그림"
   ]
  },
  {
   "cell_type": "code",
   "execution_count": 100,
   "id": "9259f13b-286d-4c53-9ea4-63e6403c6fbc",
   "metadata": {},
   "outputs": [
    {
     "data": {
      "text/plain": [
       "tensor([[0., 0., 0.,  ..., 0., 0., 1.],\n",
       "        [1., 0., 0.,  ..., 0., 0., 0.],\n",
       "        [1., 0., 0.,  ..., 0., 0., 0.],\n",
       "        ...,\n",
       "        [0., 0., 0.,  ..., 0., 0., 0.],\n",
       "        [1., 0., 0.,  ..., 0., 0., 0.],\n",
       "        [0., 0., 0.,  ..., 0., 0., 0.]])"
      ]
     },
     "execution_count": 100,
     "metadata": {},
     "output_type": "execute_result"
    }
   ],
   "source": [
    "y # 원핫인코딩 되어 있음"
   ]
  },
  {
   "cell_type": "code",
   "execution_count": 101,
   "id": "86c9eb97-a96b-4a2a-a8ff-41390a7cc103",
   "metadata": {},
   "outputs": [
    {
     "data": {
      "text/plain": [
       "['T-shirt/top',\n",
       " 'Trouser',\n",
       " 'Pullover',\n",
       " 'Dress',\n",
       " 'Coat',\n",
       " 'Sandal',\n",
       " 'Shirt',\n",
       " 'Sneaker',\n",
       " 'Bag',\n",
       " 'Ankle boot']"
      ]
     },
     "execution_count": 101,
     "metadata": {},
     "output_type": "execute_result"
    }
   ],
   "source": [
    "torchvision.datasets.FashionMNIST.classes"
   ]
  },
  {
   "cell_type": "code",
   "execution_count": 103,
   "id": "9184bb7b-58c6-44dc-8687-33a4ba95b4d7",
   "metadata": {},
   "outputs": [
    {
     "data": {
      "text/plain": [
       "'Ankle boot'"
      ]
     },
     "execution_count": 103,
     "metadata": {},
     "output_type": "execute_result"
    }
   ],
   "source": [
    "torchvision.datasets.FashionMNIST.classes[9] # label 9가 의미하는 것"
   ]
  },
  {
   "cell_type": "code",
   "execution_count": 105,
   "id": "f0342752-1727-4495-8c41-3cc2dcbb07d5",
   "metadata": {},
   "outputs": [
    {
     "name": "stdout",
     "output_type": "stream",
     "text": [
      "tensor([1., 0., 0., 0., 0., 0., 0., 0., 0., 0.])\n"
     ]
    },
    {
     "data": {
      "image/png": "[encoded data removed]",
      "text/plain": [
       "<Figure size 450x300 with 1 Axes>"
      ]
     },
     "metadata": {},
     "output_type": "display_data"
    }
   ],
   "source": [
    "plt.imshow(X[2,0,:,:], cmap=\"gray\")\n",
    "print(y[2,:])"
   ]
  },
  {
   "cell_type": "code",
   "execution_count": 106,
   "id": "468ebe7f-76a4-424d-bfd7-edb290423c5c",
   "metadata": {},
   "outputs": [
    {
     "name": "stdout",
     "output_type": "stream",
     "text": [
      "tensor(0)\n"
     ]
    },
    {
     "data": {
      "image/png": "[encoded data removed]",
      "text/plain": [
       "<Figure size 450x300 with 1 Axes>"
      ]
     },
     "metadata": {},
     "output_type": "display_data"
    }
   ],
   "source": [
    "plt.imshow(X[2,0,:,:], cmap=\"gray\")\n",
    "print(y[2,:].argmax())"
   ]
  },
  {
   "cell_type": "code",
   "execution_count": 107,
   "id": "ec7a639d-2c14-49e7-a955-1aaf7b675750",
   "metadata": {},
   "outputs": [
    {
     "name": "stdout",
     "output_type": "stream",
     "text": [
      "0\n"
     ]
    },
    {
     "data": {
      "image/png": "[encoded data removed]",
      "text/plain": [
       "<Figure size 450x300 with 1 Axes>"
      ]
     },
     "metadata": {},
     "output_type": "display_data"
    }
   ],
   "source": [
    "plt.imshow(X[2,0,:,:], cmap=\"gray\")\n",
    "print(y[2,:].argmax().item())"
   ]
  },
  {
   "cell_type": "code",
   "execution_count": 108,
   "id": "6d608433-3012-4246-a0ee-957600411981",
   "metadata": {},
   "outputs": [
    {
     "name": "stdout",
     "output_type": "stream",
     "text": [
      "T-shirt/top\n"
     ]
    },
    {
     "data": {
      "image/png": "[encoded data removed]",
      "text/plain": [
       "<Figure size 450x300 with 1 Axes>"
      ]
     },
     "metadata": {},
     "output_type": "display_data"
    }
   ],
   "source": [
    "plt.imshow(X[2,0,:,:], cmap=\"gray\")\n",
    "print(torchvision.datasets.FashionMNIST.classes[y[2,:].argmax().item()])"
   ]
  },
  {
   "cell_type": "markdown",
   "id": "8acecdb1-31ab-45ab-a103-d1a1c3d09ad1",
   "metadata": {},
   "source": [
    ")🗣️"
   ]
  },
  {
   "cell_type": "code",
   "execution_count": 109,
   "id": "177b9456-7fca-4026-afa8-e48fd621616b",
   "metadata": {},
   "outputs": [
    {
     "data": {
      "image/png": "[encoded data removed]",
      "text/plain": [
       "<Figure size 450x300 with 1 Axes>"
      ]
     },
     "metadata": {},
     "output_type": "display_data"
    }
   ],
   "source": [
    "obs_idx = 301\n",
    "plt.imshow(X[obs_idx,0,:,:],cmap=\"gray\")\n",
    "plt.title(torchvision.datasets.FashionMNIST.classes[y[obs_idx,:].argmax().item()]);"
   ]
  },
  {
   "cell_type": "markdown",
   "id": "6a66455c-1c26-4d1f-8e81-9b4f3beaa398",
   "metadata": {},
   "source": [
    "## B. 간단한 신경망"
   ]
  },
  {
   "cell_type": "markdown",
   "id": "4417407c-2942-4b64-a25a-2ebf924efe8d",
   "metadata": {},
   "source": [
    "🗣️("
   ]
  },
  {
   "cell_type": "code",
   "execution_count": 110,
   "id": "92e325f0-4bb6-4a5e-a0ec-a87ab90916d5",
   "metadata": {},
   "outputs": [],
   "source": [
    "net = torch.nn.Sequential(\n",
    "    torch.nn.Linear(784,32), # 28*28\n",
    "    torch.nn.ReLU(),\n",
    "    torch.nn.Linear(32,10)\n",
    ")\n",
    "loss.fn = torch.nn.CrossEntropyLoss()\n",
    "optimizr = torch.optim.Adam(net.parameters())\n",
    "#---#"
   ]
  },
  {
   "cell_type": "code",
   "execution_count": 112,
   "id": "d570db86-b3e3-4e15-a8bd-e68a0a142e16",
   "metadata": {},
   "outputs": [],
   "source": [
    "# net(X) # error"
   ]
  },
  {
   "cell_type": "code",
   "execution_count": 114,
   "id": "c2c08067-5159-4c45-b77c-c39d6f0e7639",
   "metadata": {},
   "outputs": [
    {
     "data": {
      "text/plain": [
       "torch.Size([60000, 1, 28, 28])"
      ]
     },
     "execution_count": 114,
     "metadata": {},
     "output_type": "execute_result"
    }
   ],
   "source": [
    "X.shape # 784가 아님"
   ]
  },
  {
   "cell_type": "code",
   "execution_count": 116,
   "id": "85656443-55ff-4521-b58f-325cacf6710e",
   "metadata": {},
   "outputs": [
    {
     "data": {
      "text/plain": [
       "tensor([[-0.1190,  0.1954, -0.1191,  ...,  0.0729,  0.1721, -0.0408],\n",
       "        [-0.0379,  0.2657, -0.0238,  ..., -0.0695,  0.1528, -0.0089],\n",
       "        [-0.0768,  0.1645,  0.0813,  ...,  0.0280,  0.0686, -0.0330],\n",
       "        ...,\n",
       "        [-0.1537,  0.0787, -0.0260,  ..., -0.0972,  0.0474,  0.0150],\n",
       "        [-0.0558,  0.1724,  0.0855,  ...,  0.0176,  0.0808, -0.0563],\n",
       "        [-0.0231,  0.2125,  0.0721,  ...,  0.0299,  0.2542, -0.0449]],\n",
       "       grad_fn=<AddmmBackward0>)"
      ]
     },
     "execution_count": 116,
     "metadata": {},
     "output_type": "execute_result"
    }
   ],
   "source": [
    "net(X.reshape(-1,784))"
   ]
  },
  {
   "cell_type": "markdown",
   "id": "d55a8721-6ba3-4435-816b-ab4835875523",
   "metadata": {},
   "source": [
    "- 매번 하기는 귀찮음 (다음과 같이 하고 싶음)"
   ]
  },
  {
   "cell_type": "markdown",
   "id": "ae071cd5-83bd-403c-b239-b88abb32abc6",
   "metadata": {},
   "source": [
    "```python\n",
    "net = torch.nn.Sequential(\n",
    "    형태를 바꿔주는 변환,\n",
    "    torch.nn.Linear(784,32), # 28*28\n",
    "    torch.nn.ReLU(),\n",
    "    torch.nn.Linear(32,10)\n",
    ")\n",
    "loss.fn = torch.nn.CrossEntropyLoss()\n",
    "optimizr = torch.optim.Adam(net.parameters())\n",
    "#---#\n",
    "```"
   ]
  },
  {
   "cell_type": "code",
   "execution_count": 121,
   "id": "e618546d-076d-4fe5-b684-1ad3a53121ad",
   "metadata": {},
   "outputs": [],
   "source": [
    "class Flatten(torch.nn.Module):\n",
    "    def __init__(self):\n",
    "        super().__init__()\n",
    "    def forward(self,inp):\n",
    "        out=inp.reshape(-1,784)\n",
    "        return out"
   ]
  },
  {
   "cell_type": "code",
   "execution_count": 122,
   "id": "53eec9bf-62f5-4049-971b-2bebb3e53836",
   "metadata": {},
   "outputs": [],
   "source": [
    "net = torch.nn.Sequential(\n",
    "    Flatten(),\n",
    "    torch.nn.Linear(784,32), # 28*28\n",
    "    torch.nn.ReLU(),\n",
    "    torch.nn.Linear(32,10)\n",
    ")\n",
    "loss.fn = torch.nn.CrossEntropyLoss()\n",
    "optimizr = torch.optim.Adam(net.parameters())\n",
    "#---#"
   ]
  },
  {
   "cell_type": "code",
   "execution_count": 123,
   "id": "f835ce49-bc9c-4b6e-b05c-0211d09f3e9d",
   "metadata": {},
   "outputs": [
    {
     "data": {
      "text/plain": [
       "tensor([[ 0.1065, -0.0595, -0.0168,  ...,  0.0957,  0.0512,  0.1637],\n",
       "        [-0.0600, -0.4660,  0.2520,  ...,  0.4221,  0.0290,  0.1224],\n",
       "        [ 0.0321, -0.2154,  0.0601,  ...,  0.2178, -0.0819,  0.0307],\n",
       "        ...,\n",
       "        [ 0.0069, -0.3970,  0.0333,  ...,  0.2753,  0.0132,  0.1855],\n",
       "        [ 0.0425, -0.2264,  0.0967,  ...,  0.2295, -0.0723,  0.0762],\n",
       "        [ 0.0436, -0.2097,  0.0193,  ...,  0.2153, -0.0889, -0.0272]],\n",
       "       grad_fn=<AddmmBackward0>)"
      ]
     },
     "execution_count": 123,
     "metadata": {},
     "output_type": "execute_result"
    }
   ],
   "source": [
    "net(X)"
   ]
  },
  {
   "cell_type": "markdown",
   "id": "92009e85-0a7d-456c-b10e-ada5d21381ca",
   "metadata": {},
   "source": [
    "```python\n",
    "class Flatten(torch.nn.Module):\n",
    "    def __init__(self):\n",
    "        super().__init__()\n",
    "    def forward(self,inp):\n",
    "        # out=inp.reshape(-1,784) # 여기 빼고 고정\n",
    "        return out\n",
    "```"
   ]
  },
  {
   "cell_type": "markdown",
   "id": "0f5df7b8-3fce-4c31-bf38-2a50039a3a85",
   "metadata": {},
   "source": [
    "- 사용자가 원하는 대로 할 수는 있지만 귀찮음 (torch에 같은 기능을 지원해줌)"
   ]
  },
  {
   "cell_type": "code",
   "execution_count": 125,
   "id": "30b20142-9172-4db0-87ca-c4dc55077a87",
   "metadata": {},
   "outputs": [],
   "source": [
    "net = torch.nn.Sequential(\n",
    "    torch.nn.Flatten(),\n",
    "    torch.nn.Linear(784,32), # 28*28\n",
    "    torch.nn.ReLU(),\n",
    "    torch.nn.Linear(32,10)\n",
    ")\n",
    "loss.fn = torch.nn.CrossEntropyLoss()\n",
    "optimizr = torch.optim.Adam(net.parameters())\n",
    "#---#"
   ]
  },
  {
   "cell_type": "code",
   "execution_count": 126,
   "id": "b11bb8cf-8e25-4fbb-ab91-bf2c401e6289",
   "metadata": {},
   "outputs": [
    {
     "data": {
      "text/plain": [
       "tensor([[-0.1967,  0.0710, -0.1439,  ..., -0.0351, -0.2101, -0.0983],\n",
       "        [-0.0537,  0.0729, -0.1805,  ...,  0.0139, -0.1520, -0.0359],\n",
       "        [-0.1419,  0.1204, -0.0488,  ..., -0.0232, -0.0582, -0.0687],\n",
       "        ...,\n",
       "        [-0.1134,  0.1152, -0.0716,  ...,  0.0311, -0.1294, -0.1053],\n",
       "        [-0.1655,  0.1211, -0.0752,  ..., -0.0604, -0.0637, -0.0946],\n",
       "        [-0.2413,  0.1072,  0.0042,  ..., -0.0254, -0.1170, -0.1348]],\n",
       "       grad_fn=<AddmmBackward0>)"
      ]
     },
     "execution_count": 126,
     "metadata": {},
     "output_type": "execute_result"
    }
   ],
   "source": [
    "net(X)"
   ]
  },
  {
   "cell_type": "markdown",
   "id": "4861a0bc-2091-412e-8efe-903b83b43c6c",
   "metadata": {},
   "source": [
    "- 진행"
   ]
  },
  {
   "cell_type": "code",
   "execution_count": 134,
   "id": "1d38b991-23c3-4f7d-96fb-e0494fa21ebd",
   "metadata": {},
   "outputs": [],
   "source": [
    "torch.manual_seed(43052)\n",
    "net = torch.nn.Sequential(\n",
    "    torch.nn.Flatten(),\n",
    "    torch.nn.Linear(784,32),\n",
    "    torch.nn.ReLU(),\n",
    "    torch.nn.Linear(32,10)\n",
    ")\n",
    "loss.fn = torch.nn.CrossEntropyLoss()\n",
    "optimizr = torch.optim.Adam(net.parameters())\n",
    "#--#"
   ]
  },
  {
   "cell_type": "code",
   "execution_count": 135,
   "id": "c37bbe49-d49b-4b2f-8e7e-6c16a7827915",
   "metadata": {},
   "outputs": [
    {
     "name": "stdout",
     "output_type": "stream",
     "text": [
      "# of epochs=50, train_acc=0.7334\n",
      "# of epochs=100, train_acc=0.8052\n",
      "# of epochs=150, train_acc=0.8295\n",
      "# of epochs=200, train_acc=0.8398\n",
      "# of epochs=250, train_acc=0.8488\n",
      "# of epochs=300, train_acc=0.8556\n"
     ]
    }
   ],
   "source": [
    "for epoc in range(1,301):\n",
    "    #---에폭시작---#\n",
    "    # 1\n",
    "    netout = net(X)\n",
    "    # 2\n",
    "    loss = loss_fn(netout,y)\n",
    "    # 3\n",
    "    loss.backward()\n",
    "    # 4\n",
    "    optimizr.step()\n",
    "    optimizr.zero_grad()\n",
    "    #---에폭끝---#\n",
    "    if epoc%50==0:\n",
    "        logits = net(X).data\n",
    "        acc = (logits.argmax(axis=1) == y.argmax(axis=1)).float().mean()       \n",
    "        print(f\"# of epochs={epoc}, train_acc={acc:.4f}\")  "
   ]
  },
  {
   "cell_type": "code",
   "execution_count": 136,
   "id": "2b018c1a-a55b-4f6c-96f3-81c2fa505c89",
   "metadata": {},
   "outputs": [
    {
     "name": "stdout",
     "output_type": "stream",
     "text": [
      "test_acc=0.8383\n"
     ]
    }
   ],
   "source": [
    "logits = net(XX).data\n",
    "acc = (logits.argmax(axis=1) == yy.argmax(axis=1)).float().mean()       \n",
    "print(f\"test_acc={acc:.4f}\")"
   ]
  },
  {
   "cell_type": "markdown",
   "id": "cddd3e2f-ef46-491e-9438-2484d7c01873",
   "metadata": {},
   "source": [
    "- 오버피팅도 있는 것 같고 훈련을 더 한다고해서 훈련 정확도가 높아질 것 같지도 않음 (표현력 자체가 안좋은 것 같음)\n",
    "- 이제 32도 늘려보고 여러가지 시도를 하고 싶은데 GPU를 사용해야할 것 같음\n",
    "- X가 cuda에 전부 안 올라갈 수 있으므로 다음과 같은 준비과정 필요"
   ]
  },
  {
   "cell_type": "markdown",
   "id": "15a7ed69-a903-4601-bf55-c9176c5b3136",
   "metadata": {},
   "source": [
    ")🗣️"
   ]
  },
  {
   "cell_type": "markdown",
   "id": "760933ed-c2a1-4fa7-a283-43422e71e887",
   "metadata": {},
   "source": [
    "`-` Step1: 데이터정리 "
   ]
  },
  {
   "cell_type": "code",
   "execution_count": 137,
   "id": "c445ee42-420f-4a0e-b45d-10879e3942ba",
   "metadata": {},
   "outputs": [],
   "source": [
    "ds_train = torch.utils.data.TensorDataset(X,y)\n",
    "dl_train = torch.utils.data.DataLoader(ds_train,batch_size=256,shuffle=True)\n",
    "ds_test = torch.utils.data.TensorDataset(XX,yy)\n",
    "dl_test = torch.utils.data.DataLoader(ds_test,batch_size=256)"
   ]
  },
  {
   "cell_type": "markdown",
   "id": "faf169c9-a5a6-4112-92b2-42bb9a3dbbb0",
   "metadata": {},
   "source": [
    "- 🗣️\n",
    "    - test data도 GPU 메모리가 걱정되면 따로 정리\n",
    "    - batch_size는 GPU 메모리가 감당할 수 있는 정도 (일단 train과 같은 크기로 함)\n",
    "    - test는 update 하지도 않고 accuracy만 계산하면 되므로 굳이 shuffle 필요 X"
   ]
  },
  {
   "cell_type": "markdown",
   "id": "163447c8-a616-407f-8224-aa7f3cceed4b",
   "metadata": {},
   "source": [
    "`-` Step2: 학습에 필요한 준비 (모델링) "
   ]
  },
  {
   "cell_type": "code",
   "execution_count": 138,
   "id": "dc41d7a2-b119-4c1b-8949-33e8ed82271c",
   "metadata": {},
   "outputs": [],
   "source": [
    "torch.manual_seed(43052)\n",
    "net = torch.nn.Sequential(\n",
    "    torch.nn.Flatten(),\n",
    "    torch.nn.Linear(784,32),\n",
    "    torch.nn.ReLU(),\n",
    "    torch.nn.Linear(32,10)\n",
    ").to(\"cuda:0\")\n",
    "loss_fn = torch.nn.CrossEntropyLoss()\n",
    "optimizr = torch.optim.Adam(net.parameters())\n",
    "#---#"
   ]
  },
  {
   "cell_type": "markdown",
   "id": "1edb5452-f443-4146-a33d-e24d92cedccf",
   "metadata": {},
   "source": [
    "`-` Step3: 적합"
   ]
  },
  {
   "cell_type": "code",
   "execution_count": 139,
   "id": "8be41a8e-366d-452b-967f-c4d0051674f9",
   "metadata": {},
   "outputs": [
    {
     "name": "stdout",
     "output_type": "stream",
     "text": [
      "# of epochs = 5,train_acc = 0.8588\n",
      "# of epochs = 10,train_acc = 0.8659\n",
      "# of epochs = 15,train_acc = 0.8779\n",
      "# of epochs = 20,train_acc = 0.8831\n",
      "# of epochs = 25,train_acc = 0.8856\n",
      "# of epochs = 30,train_acc = 0.8876\n"
     ]
    }
   ],
   "source": [
    "for epoc in range(1,31):\n",
    "    net.train() # 지금은 아니지만 dropout 사용 시\n",
    "    #---에폭시작---#\n",
    "    for Xm,ym in dl_train:        \n",
    "        Xm = Xm.to(\"cuda:0\")\n",
    "        ym = ym.to(\"cuda:0\")\n",
    "        # 1\n",
    "        netout = net(Xm)\n",
    "        # 2 \n",
    "        loss = loss_fn(netout,ym)\n",
    "        # 3 \n",
    "        loss.backward()\n",
    "        # 4 \n",
    "        optimizr.step()\n",
    "        optimizr.zero_grad()\n",
    "    #---에폭끝---#\n",
    "    if epoc % 5 == 0:\n",
    "        net.eval()\n",
    "        s =0\n",
    "        for Xm,ym in dl_train:        \n",
    "            Xm = Xm.to(\"cuda:0\")\n",
    "            ym = ym.to(\"cuda:0\")        \n",
    "            logits = net(Xm).data \n",
    "            s = s+ (logits.argmax(axis=1) == ym.argmax(axis=1)).float().sum()\n",
    "        acc = s / len(X)\n",
    "        print(f\"# of epochs = {epoc},train_acc = {acc:.4f}\") "
   ]
  },
  {
   "cell_type": "markdown",
   "id": "86c2bd14-6859-4485-b1cb-8a0d6129f57a",
   "metadata": {},
   "source": [
    "`-` Step4: 적합결과 시각화 및 분석 "
   ]
  },
  {
   "cell_type": "code",
   "execution_count": 140,
   "id": "04440dae-0fe5-49a8-9414-75c87c82bbeb",
   "metadata": {},
   "outputs": [
    {
     "name": "stdout",
     "output_type": "stream",
     "text": [
      "test_acc = 0.8638\n"
     ]
    }
   ],
   "source": [
    "net.eval()\n",
    "s =0\n",
    "for Xm,ym in dl_test:        \n",
    "    Xm = Xm.to(\"cuda:0\")\n",
    "    ym = ym.to(\"cuda:0\")        \n",
    "    logits = net(Xm).data \n",
    "    s = s+ (logits.argmax(axis=1) == ym.argmax(axis=1)).float().sum()\n",
    "acc = s / len(XX)\n",
    "print(f\"test_acc = {acc:.4f}\") "
   ]
  },
  {
   "cell_type": "markdown",
   "id": "70b3a7eb-0edf-4bef-925f-70e236eafae6",
   "metadata": {},
   "source": [
    "🗣️ 개선이 필요해보임"
   ]
  },
  {
   "cell_type": "markdown",
   "id": "bdba4acc-a705-4c68-8f01-b471bb1948bf",
   "metadata": {},
   "source": [
    "## C. 약간 더 복잡한 신경망"
   ]
  },
  {
   "cell_type": "code",
   "execution_count": 141,
   "id": "5c0b012f-d216-463f-a3e3-9302581c5e9d",
   "metadata": {},
   "outputs": [],
   "source": [
    "torch.manual_seed(43052)\n",
    "net = torch.nn.Sequential(\n",
    "    torch.nn.Flatten(),\n",
    "    torch.nn.Linear(784,256),\n",
    "    torch.nn.ReLU(),\n",
    "    torch.nn.Linear(256,10)\n",
    ").to(\"cuda:0\")\n",
    "loss_fn = torch.nn.CrossEntropyLoss()\n",
    "optimizr = torch.optim.Adam(net.parameters())\n",
    "#---#"
   ]
  },
  {
   "cell_type": "code",
   "execution_count": 142,
   "id": "c1ded7e3-21cf-4f1d-a609-e1111286f0e8",
   "metadata": {},
   "outputs": [
    {
     "name": "stdout",
     "output_type": "stream",
     "text": [
      "# of epochs = 5,train_acc = 0.8843\n",
      "# of epochs = 10,train_acc = 0.9020\n",
      "# of epochs = 15,train_acc = 0.9176\n",
      "# of epochs = 20,train_acc = 0.9265\n",
      "# of epochs = 25,train_acc = 0.9345\n",
      "# of epochs = 30,train_acc = 0.9388\n"
     ]
    }
   ],
   "source": [
    "for epoc in range(1,31):\n",
    "    net.train()\n",
    "    #---에폭시작---#\n",
    "    for Xm,ym in dl_train:        \n",
    "        Xm = Xm.to(\"cuda:0\")\n",
    "        ym = ym.to(\"cuda:0\")\n",
    "        # 1\n",
    "        netout = net(Xm)\n",
    "        # 2 \n",
    "        loss = loss_fn(netout,ym)\n",
    "        # 3 \n",
    "        loss.backward()\n",
    "        # 4 \n",
    "        optimizr.step()\n",
    "        optimizr.zero_grad()\n",
    "    #---에폭끝---#\n",
    "    if epoc % 5 == 0:\n",
    "        net.eval()\n",
    "        s =0\n",
    "        for Xm,ym in dl_train:        \n",
    "            Xm = Xm.to(\"cuda:0\")\n",
    "            ym = ym.to(\"cuda:0\")        \n",
    "            logits = net(Xm).data \n",
    "            s = s+ (logits.argmax(axis=1) == ym.argmax(axis=1)).float().sum()\n",
    "        acc = s / len(X)\n",
    "        print(f\"# of epochs = {epoc},train_acc = {acc:.4f}\") "
   ]
  },
  {
   "cell_type": "code",
   "execution_count": 143,
   "id": "24cde959-b689-40db-84ea-99c23656354c",
   "metadata": {},
   "outputs": [
    {
     "name": "stdout",
     "output_type": "stream",
     "text": [
      "test_acc = 0.8892\n"
     ]
    }
   ],
   "source": [
    "net.eval()\n",
    "s =0\n",
    "for Xm,ym in dl_test:        \n",
    "    Xm = Xm.to(\"cuda:0\")\n",
    "    ym = ym.to(\"cuda:0\")        \n",
    "    logits = net(Xm).data \n",
    "    s = s+ (logits.argmax(axis=1) == ym.argmax(axis=1)).float().sum()\n",
    "acc = s / len(XX)\n",
    "print(f\"test_acc = {acc:.4f}\") "
   ]
  },
  {
   "cell_type": "markdown",
   "id": "d63b3674-5124-43f1-830f-ecedbde6469d",
   "metadata": {},
   "source": [
    "🗣️ 오버피팅인 것 같고 만족스럽지도 않음"
   ]
  },
  {
   "cell_type": "markdown",
   "id": "1caea989-27d1-4b84-ac15-19bd475489a9",
   "metadata": {},
   "source": [
    "## D. 발악"
   ]
  },
  {
   "cell_type": "markdown",
   "id": "7c757561-d285-46af-9254-8ebd2b7c8810",
   "metadata": {},
   "source": [
    "`-` 노드를 많이.. "
   ]
  },
  {
   "cell_type": "code",
   "execution_count": 144,
   "id": "e8a9edf4-4e8a-4820-b64d-5708516fabc4",
   "metadata": {},
   "outputs": [],
   "source": [
    "torch.manual_seed(43052)\n",
    "net = torch.nn.Sequential(\n",
    "    torch.nn.Flatten(),\n",
    "    torch.nn.Linear(784,4096),\n",
    "    torch.nn.Dropout(0.5),\n",
    "    torch.nn.ReLU(),\n",
    "    torch.nn.Linear(4096,10)\n",
    ").to(\"cuda:0\")\n",
    "loss_fn = torch.nn.CrossEntropyLoss()\n",
    "optimizr = torch.optim.Adam(net.parameters())\n",
    "#---#"
   ]
  },
  {
   "cell_type": "code",
   "execution_count": 145,
   "id": "0cc6a74a-716a-47ae-87c2-d2241f675f75",
   "metadata": {},
   "outputs": [
    {
     "name": "stdout",
     "output_type": "stream",
     "text": [
      "# of epochs = 5,train_acc = 0.8870\n",
      "# of epochs = 10,train_acc = 0.9024\n",
      "# of epochs = 15,train_acc = 0.9116\n",
      "# of epochs = 20,train_acc = 0.9214\n",
      "# of epochs = 25,train_acc = 0.9302\n",
      "# of epochs = 30,train_acc = 0.9307\n"
     ]
    }
   ],
   "source": [
    "for epoc in range(1,31):\n",
    "    net.train()\n",
    "    #---에폭시작---#\n",
    "    for Xm,ym in dl_train:        \n",
    "        Xm = Xm.to(\"cuda:0\")\n",
    "        ym = ym.to(\"cuda:0\")\n",
    "        # 1\n",
    "        netout = net(Xm)\n",
    "        # 2 \n",
    "        loss = loss_fn(netout,ym)\n",
    "        # 3 \n",
    "        loss.backward()\n",
    "        # 4 \n",
    "        optimizr.step()\n",
    "        optimizr.zero_grad()\n",
    "    #---에폭끝---#\n",
    "    if epoc % 5 == 0:\n",
    "        net.eval()\n",
    "        s =0\n",
    "        for Xm,ym in dl_train:        \n",
    "            Xm = Xm.to(\"cuda:0\")\n",
    "            ym = ym.to(\"cuda:0\")        \n",
    "            logits = net(Xm).data \n",
    "            s = s+ (logits.argmax(axis=1) == ym.argmax(axis=1)).float().sum()\n",
    "        acc = s / len(X)\n",
    "        print(f\"# of epochs = {epoc},train_acc = {acc:.4f}\") "
   ]
  },
  {
   "cell_type": "code",
   "execution_count": 146,
   "id": "dce95d46-e948-40ea-9e9d-4bfed25a6104",
   "metadata": {},
   "outputs": [
    {
     "name": "stdout",
     "output_type": "stream",
     "text": [
      "test_acc = 0.8913\n"
     ]
    }
   ],
   "source": [
    "net.eval()\n",
    "s =0\n",
    "for Xm,ym in dl_test:        \n",
    "    Xm = Xm.to(\"cuda:0\")\n",
    "    ym = ym.to(\"cuda:0\")        \n",
    "    logits = net(Xm).data \n",
    "    s = s+ (logits.argmax(axis=1) == ym.argmax(axis=1)).float().sum()\n",
    "acc = s / len(XX)\n",
    "print(f\"test_acc = {acc:.4f}\") "
   ]
  },
  {
   "cell_type": "markdown",
   "id": "45c9b905-024c-4a9a-8440-2896929ce2eb",
   "metadata": {},
   "source": [
    "🗣️ 크게 의미 없어 보임"
   ]
  },
  {
   "cell_type": "markdown",
   "id": "6fa1756b-2b47-4045-9b34-0b77bb98886f",
   "metadata": {},
   "source": [
    "`-`  레이어를 많이.. "
   ]
  },
  {
   "cell_type": "markdown",
   "id": "420447df-694b-4bf7-b5b3-e73dfe81416a",
   "metadata": {},
   "source": [
    "🗣️ 256이 괜찮은 것 같아서 많이 반복해봄"
   ]
  },
  {
   "cell_type": "code",
   "execution_count": 147,
   "id": "0462cdb7-d24c-42cf-bcd3-6f3eaba10493",
   "metadata": {},
   "outputs": [],
   "source": [
    "torch.manual_seed(43052)\n",
    "net = torch.nn.Sequential(\n",
    "    torch.nn.Flatten(),\n",
    "    torch.nn.Linear(784,256),\n",
    "    torch.nn.ReLU(),\n",
    "    torch.nn.Linear(256,256),\n",
    "    torch.nn.ReLU(),\n",
    "    torch.nn.Linear(256,256),\n",
    "    torch.nn.ReLU(), \n",
    "    torch.nn.Linear(256,256),\n",
    "    torch.nn.ReLU(),    \n",
    "    torch.nn.Linear(256,10)\n",
    ").to(\"cuda:0\")\n",
    "loss_fn = torch.nn.CrossEntropyLoss()\n",
    "optimizr = torch.optim.Adam(net.parameters())\n",
    "#---#"
   ]
  },
  {
   "cell_type": "code",
   "execution_count": 148,
   "id": "8c5f581b-c006-469a-b537-3efc68702302",
   "metadata": {},
   "outputs": [
    {
     "name": "stdout",
     "output_type": "stream",
     "text": [
      "# of epochs = 5,train_acc = 0.8881\n",
      "# of epochs = 10,train_acc = 0.9154\n",
      "# of epochs = 15,train_acc = 0.9240\n",
      "# of epochs = 20,train_acc = 0.9303\n",
      "# of epochs = 25,train_acc = 0.9511\n",
      "# of epochs = 30,train_acc = 0.9547\n"
     ]
    }
   ],
   "source": [
    "for epoc in range(1,31):\n",
    "    net.train()\n",
    "    #---에폭시작---#\n",
    "    for Xm,ym in dl_train:        \n",
    "        Xm = Xm.to(\"cuda:0\")\n",
    "        ym = ym.to(\"cuda:0\")\n",
    "        # 1\n",
    "        netout = net(Xm)\n",
    "        # 2 \n",
    "        loss = loss_fn(netout,ym)\n",
    "        # 3 \n",
    "        loss.backward()\n",
    "        # 4 \n",
    "        optimizr.step()\n",
    "        optimizr.zero_grad()\n",
    "    #---에폭끝---#\n",
    "    if epoc % 5 == 0:\n",
    "        net.eval()\n",
    "        s =0\n",
    "        for Xm,ym in dl_train:        \n",
    "            Xm = Xm.to(\"cuda:0\")\n",
    "            ym = ym.to(\"cuda:0\")        \n",
    "            logits = net(Xm).data \n",
    "            s = s+ (logits.argmax(axis=1) == ym.argmax(axis=1)).float().sum()\n",
    "        acc = s / len(X)\n",
    "        print(f\"# of epochs = {epoc},train_acc = {acc:.4f}\") "
   ]
  },
  {
   "cell_type": "code",
   "execution_count": 149,
   "id": "c74c9a05-5bb2-434b-8551-655b6f31035d",
   "metadata": {},
   "outputs": [
    {
     "name": "stdout",
     "output_type": "stream",
     "text": [
      "test_acc = 0.8907\n"
     ]
    }
   ],
   "source": [
    "net.eval()\n",
    "s =0\n",
    "for Xm,ym in dl_test:        \n",
    "    Xm = Xm.to(\"cuda:0\")\n",
    "    ym = ym.to(\"cuda:0\")        \n",
    "    logits = net(Xm).data \n",
    "    s = s+ (logits.argmax(axis=1) == ym.argmax(axis=1)).float().sum()\n",
    "acc = s / len(XX)\n",
    "print(f\"test_acc = {acc:.4f}\") "
   ]
  },
  {
   "cell_type": "markdown",
   "id": "ad026a1d-673d-40bb-bf89-b44b60727b59",
   "metadata": {},
   "source": [
    "> test_acc 90\\% 넘기는게 엄청 힘들다 "
   ]
  },
  {
   "cell_type": "markdown",
   "id": "4fb76d3a-d9a8-4b72-ad9f-4e855fdbf0e3",
   "metadata": {},
   "source": [
    "## F. 합성곱신경망"
   ]
  },
  {
   "cell_type": "markdown",
   "id": "617b550e-e8f7-499f-912a-3f790bdc0a57",
   "metadata": {},
   "source": [
    "`-` <https://brunch.co.kr/@hvnpoet/109> "
   ]
  },
  {
   "cell_type": "markdown",
   "id": "ee909263-010d-41d2-ba47-61ea8390266e",
   "metadata": {},
   "source": [
    "🗣️("
   ]
  },
  {
   "cell_type": "markdown",
   "id": "958d6d20-358a-4df5-bd10-4d48b4422987",
   "metadata": {},
   "source": [
    "- 선형변환 + 비선형변환\n",
    "- Linear transform 대신 Convolution2d (그냥 2d 버전의 선형변환이라고 일단 생각)\n",
    "- input channel: 흑백 1개, 컬러 3개\n",
    "- output channel: input을 몇개로 변환할지\n",
    "- 비선형변환은 ReLU로 진행\n",
    "- kernel_size: 다음에 설명 (윈도우 크기)"
   ]
  },
  {
   "cell_type": "code",
   "execution_count": 150,
   "id": "f9b3685e-742a-455a-83fd-f9ac2e17f538",
   "metadata": {},
   "outputs": [],
   "source": [
    "net = torch.nn.Sequential(\n",
    "    torch.nn.Conv2d(in_channels=1, out_channels=64, kernel_size=5),\n",
    "    torch.nn.ReLU(),\n",
    ")"
   ]
  },
  {
   "cell_type": "code",
   "execution_count": 151,
   "id": "d8e31686-97ce-440b-ac9a-b3af9c8cbe7c",
   "metadata": {},
   "outputs": [
    {
     "data": {
      "text/plain": [
       "torch.Size([60000, 1, 28, 28])"
      ]
     },
     "execution_count": 151,
     "metadata": {},
     "output_type": "execute_result"
    }
   ],
   "source": [
    "X.shape"
   ]
  },
  {
   "cell_type": "code",
   "execution_count": 152,
   "id": "e0a595d9-3889-4846-b5c4-68e389133ff2",
   "metadata": {},
   "outputs": [
    {
     "data": {
      "text/plain": [
       "torch.Size([60000, 64, 24, 24])"
      ]
     },
     "execution_count": 152,
     "metadata": {},
     "output_type": "execute_result"
    }
   ],
   "source": [
    "net(X).shape"
   ]
  },
  {
   "cell_type": "markdown",
   "id": "dda8a91c-b930-495a-9107-e7e639638133",
   "metadata": {},
   "source": [
    "- 숫자가 이런 식으로 변함"
   ]
  },
  {
   "cell_type": "code",
   "execution_count": 153,
   "id": "08dd1508-d7f3-40a6-b43c-53622374883d",
   "metadata": {},
   "outputs": [],
   "source": [
    "net = torch.nn.Sequential(\n",
    "    torch.nn.Conv2d(in_channels=1, out_channels=64, kernel_size=5),\n",
    "    torch.nn.ReLU(),\n",
    "    torch.nn.MaxPool2d(kernel_size=2)\n",
    ")"
   ]
  },
  {
   "cell_type": "code",
   "execution_count": 154,
   "id": "d03fa438-04c9-473a-83d6-0f3d75e6b0e9",
   "metadata": {},
   "outputs": [
    {
     "data": {
      "text/plain": [
       "torch.Size([60000, 1, 28, 28])"
      ]
     },
     "execution_count": 154,
     "metadata": {},
     "output_type": "execute_result"
    }
   ],
   "source": [
    "X.shape"
   ]
  },
  {
   "cell_type": "code",
   "execution_count": 155,
   "id": "a089b9a9-56c4-452e-b777-ec66f6d8a100",
   "metadata": {},
   "outputs": [
    {
     "data": {
      "text/plain": [
       "torch.Size([60000, 64, 12, 12])"
      ]
     },
     "execution_count": 155,
     "metadata": {},
     "output_type": "execute_result"
    }
   ],
   "source": [
    "net(X).shape"
   ]
  },
  {
   "cell_type": "markdown",
   "id": "1380203f-a84c-4129-baae-faf5a9bb8cd4",
   "metadata": {},
   "source": [
    "- 이 상태에서 Flatten()"
   ]
  },
  {
   "cell_type": "code",
   "execution_count": 156,
   "id": "88da707a-32b0-4406-8dc1-823036172c77",
   "metadata": {},
   "outputs": [],
   "source": [
    "net = torch.nn.Sequential(\n",
    "    torch.nn.Conv2d(in_channels=1, out_channels=64, kernel_size=5),\n",
    "    torch.nn.ReLU(),\n",
    "    torch.nn.MaxPool2d(kernel_size=2),\n",
    "    torch.nn.Flatten()\n",
    ")"
   ]
  },
  {
   "cell_type": "code",
   "execution_count": 157,
   "id": "3f317906-9b17-4a18-bc39-fe05a869d31a",
   "metadata": {},
   "outputs": [
    {
     "data": {
      "text/plain": [
       "torch.Size([60000, 1, 28, 28])"
      ]
     },
     "execution_count": 157,
     "metadata": {},
     "output_type": "execute_result"
    }
   ],
   "source": [
    "X.shape"
   ]
  },
  {
   "cell_type": "code",
   "execution_count": 158,
   "id": "585ed37b-276f-466f-83d8-2de54391817e",
   "metadata": {},
   "outputs": [
    {
     "data": {
      "text/plain": [
       "torch.Size([60000, 9216])"
      ]
     },
     "execution_count": 158,
     "metadata": {},
     "output_type": "execute_result"
    }
   ],
   "source": [
    "net(X).shape"
   ]
  },
  {
   "cell_type": "markdown",
   "id": "549acb65-deb3-4e6c-908f-398ac1d36e7e",
   "metadata": {},
   "source": [
    "```python\n",
    "net = torch.nn.Sequential(\n",
    "    torch.nn.Conv2d(in_channels=1, out_channels=64, kernel_size=5),\n",
    "    torch.nn.ReLU(),\n",
    "    torch.nn.MaxPool2d(kernel_size=2),\n",
    "    torch.nn.Flatten(),\n",
    "    torch.nn.Linear(9216,10) # 이 이후는 softmax function\n",
    ")\n",
    "```"
   ]
  },
  {
   "cell_type": "markdown",
   "id": "ff9de4ff-9961-49f0-9b3a-97beb703b00a",
   "metadata": {},
   "source": [
    "```python\n",
    "torch.manual_seed(43052)\n",
    "net = torch.nn.Sequential(\n",
    "    torch.nn.Conv2d(in_channels=1 ,out_channels=64,kernel_size=5),\n",
    "    torch.nn.ReLU(),\n",
    "    torch.nn.MaxPool2d(kernel_size=2),    \n",
    "    torch.nn.Flatten(),\n",
    "    torch.nn.Linear(9216,10)\n",
    ").to(\"cuda:0\")\n",
    "loss_fn = torch.nn.CrossEntropyLoss()\n",
    "optimizr = torch.optim.Adam(net.parameters())\n",
    "#---#\n",
    "```"
   ]
  },
  {
   "cell_type": "markdown",
   "id": "eedf50ae-ca44-407b-8f5c-6c9097fa6e28",
   "metadata": {},
   "source": [
    "- 층을 한 번 더 반복"
   ]
  },
  {
   "cell_type": "code",
   "execution_count": 159,
   "id": "3575c05c-d4ee-48ea-a712-dae68753c36b",
   "metadata": {},
   "outputs": [],
   "source": [
    "torch.manual_seed(43052)\n",
    "net = torch.nn.Sequential(\n",
    "    torch.nn.Conv2d(in_channels=1 ,out_channels=64,kernel_size=5),\n",
    "    torch.nn.ReLU(),\n",
    "    torch.nn.MaxPool2d(kernel_size=2),\n",
    "    torch.nn.Conv2d(in_channels=64 ,out_channels=64,kernel_size=5), # 64\n",
    "    torch.nn.ReLU(),\n",
    "    torch.nn.MaxPool2d(kernel_size=2),    \n",
    "    torch.nn.Flatten(),\n",
    "    torch.nn.Linear(9216,10)\n",
    ").to(\"cuda:0\")\n",
    "loss_fn = torch.nn.CrossEntropyLoss()\n",
    "optimizr = torch.optim.Adam(net.parameters())\n",
    "#---#"
   ]
  },
  {
   "cell_type": "code",
   "execution_count": 161,
   "id": "8081cbd6-9c64-4aa9-9c9e-22057baf9347",
   "metadata": {},
   "outputs": [],
   "source": [
    "# net(X.to(\"cuda:0\")) # error"
   ]
  },
  {
   "cell_type": "markdown",
   "id": "f579c431-67b5-4aaa-9751-af114a654041",
   "metadata": {},
   "source": [
    "- RuntimeError: mat1 and mat2 shapes cannot be multiplied (60000x1024 and 9216x10)"
   ]
  },
  {
   "cell_type": "markdown",
   "id": "a558570e-0254-4cac-81b6-ad268251e46b",
   "metadata": {},
   "source": [
    ")🗣️"
   ]
  },
  {
   "cell_type": "code",
   "execution_count": 164,
   "id": "e014c7bb-1dbf-4251-ae28-f73f3e6793d4",
   "metadata": {},
   "outputs": [],
   "source": [
    "torch.manual_seed(43052)\n",
    "net = torch.nn.Sequential(\n",
    "    torch.nn.Conv2d(in_channels=1 ,out_channels=64,kernel_size=5),\n",
    "    torch.nn.ReLU(),\n",
    "    torch.nn.MaxPool2d(kernel_size=2),\n",
    "    torch.nn.Conv2d(in_channels=64 ,out_channels=64,kernel_size=5),\n",
    "    torch.nn.ReLU(),\n",
    "    torch.nn.MaxPool2d(kernel_size=2),    \n",
    "    torch.nn.Flatten(),\n",
    "    torch.nn.Linear(1024,10)\n",
    ").to(\"cuda:0\")\n",
    "loss_fn = torch.nn.CrossEntropyLoss()\n",
    "optimizr = torch.optim.Adam(net.parameters())\n",
    "#---#"
   ]
  },
  {
   "cell_type": "markdown",
   "id": "be2a0a49-172e-454e-9987-5b068859e2c6",
   "metadata": {},
   "source": [
    "- 🗣️\n",
    "    - 예전에는 Flatten을 하고 시작\n",
    "    - 이번에는 Flatten 전에 이미지 자체를 처리하는 과정을 거쳤더니\n",
    "    - (Flatten 다음은 차원만 맞춤 - 선형변환)\n",
    "    - 결과가 잘 나옴"
   ]
  },
  {
   "cell_type": "code",
   "execution_count": 165,
   "id": "e170187d-8d33-4bea-9a6b-117d5e05b135",
   "metadata": {},
   "outputs": [
    {
     "name": "stdout",
     "output_type": "stream",
     "text": [
      "# of epochs = 5,train_acc = 0.9065\n",
      "# of epochs = 10,train_acc = 0.9326\n",
      "# of epochs = 15,train_acc = 0.9438\n",
      "# of epochs = 20,train_acc = 0.9552\n",
      "# of epochs = 25,train_acc = 0.9689\n",
      "# of epochs = 30,train_acc = 0.9756\n"
     ]
    }
   ],
   "source": [
    "for epoc in range(1,31):\n",
    "    net.train()\n",
    "    #---에폭시작---#\n",
    "    for Xm,ym in dl_train:        \n",
    "        Xm = Xm.to(\"cuda:0\")\n",
    "        ym = ym.to(\"cuda:0\")\n",
    "        # 1\n",
    "        netout = net(Xm)\n",
    "        # 2 \n",
    "        loss = loss_fn(netout,ym)\n",
    "        # 3 \n",
    "        loss.backward()\n",
    "        # 4 \n",
    "        optimizr.step()\n",
    "        optimizr.zero_grad()\n",
    "    #---에폭끝---#\n",
    "    if epoc % 5 == 0:\n",
    "        net.eval()\n",
    "        s =0\n",
    "        for Xm,ym in dl_train:        \n",
    "            Xm = Xm.to(\"cuda:0\")\n",
    "            ym = ym.to(\"cuda:0\")        \n",
    "            logits = net(Xm).data \n",
    "            s = s+ (logits.argmax(axis=1) == ym.argmax(axis=1)).float().sum()\n",
    "        acc = s / len(X)\n",
    "        print(f\"# of epochs = {epoc},train_acc = {acc:.4f}\") "
   ]
  },
  {
   "cell_type": "markdown",
   "id": "9fe1d759-9ea3-435c-ae59-2dea0c0c6417",
   "metadata": {},
   "source": [
    "- 🗣️ 표현력 자체는 좋음"
   ]
  },
  {
   "cell_type": "markdown",
   "id": "9ea8ec13-e495-438a-9a3a-629dbd262ab3",
   "metadata": {},
   "source": [
    "- 🗣️ 오버피팅 감안하더라도 정확도가 올라감 (90% 넘음)"
   ]
  },
  {
   "cell_type": "code",
   "execution_count": 166,
   "id": "b2ba301d-4207-4335-9676-f4e1c4a72e49",
   "metadata": {},
   "outputs": [
    {
     "name": "stdout",
     "output_type": "stream",
     "text": [
      "test_acc = 0.9151\n"
     ]
    }
   ],
   "source": [
    "net.eval()\n",
    "s =0\n",
    "for Xm,ym in dl_test:        \n",
    "    Xm = Xm.to(\"cuda:0\")\n",
    "    ym = ym.to(\"cuda:0\")        \n",
    "    logits = net(Xm).data \n",
    "    s = s+ (logits.argmax(axis=1) == ym.argmax(axis=1)).float().sum()\n",
    "acc = s / len(XX)\n",
    "print(f\"test_acc = {acc:.4f}\") "
   ]
  },
  {
   "cell_type": "markdown",
   "id": "2fb72002-8686-449d-941d-1722ae98f05e",
   "metadata": {},
   "source": [
    ":::{.callout-note}\n",
    "네트워크를 아래와 같이 설정했더니\n",
    "```Python\n",
    "net = torch.nn.Sequential(\n",
    "    torch.nn.Conv2d(in_channels=1 ,out_channels=64,kernel_size=5),\n",
    "    torch.nn.ReLU(),\n",
    "    torch.nn.MaxPool2d(kernel_size=2),\n",
    "    torch.nn.Conv2d(in_channels=64 ,out_channels=64,kernel_size=5),\n",
    "    torch.nn.ReLU(),\n",
    "    torch.nn.MaxPool2d(kernel_size=2),    \n",
    "    torch.nn.Flatten(),\n",
    "    torch.nn.Linear(1024,10)\n",
    ")\n",
    "```\n",
    "결과가 좋네? 정도만 알면됩니다. \n",
    ":::"
   ]
  }
 ],
 "metadata": {
  "kernelspec": {
   "display_name": "Python 3 (ipykernel)",
   "language": "python",
   "name": "python3"
  },
  "language_info": {
   "codemirror_mode": {
    "name": "ipython",
    "version": 3
   },
   "file_extension": ".py",
   "mimetype": "text/x-python",
   "name": "python",
   "nbconvert_exporter": "python",
   "pygments_lexer": "ipython3",
   "version": "3.9.18"
  }
 },
 "nbformat": 4,
 "nbformat_minor": 5
}
