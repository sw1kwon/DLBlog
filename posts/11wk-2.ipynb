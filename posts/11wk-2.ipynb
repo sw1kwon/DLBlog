{
 "cells": [
  {
   "cell_type": "raw",
   "id": "20fa6717-fa26-41d6-b4b9-638887cffd62",
   "metadata": {
    "tags": [],
    "vscode": {
     "languageId": "raw"
    }
   },
   "source": [
    "---\n",
    "title: \"11wk-2: (순환신경망) -- `abc`, `abcd`, 임베딩 공간의 이해, `AbAcAd`, 겹장(덧장)\" \n",
    "author: \"sw1kwon\"\n",
    "date: \"05/19/2025\"\n",
    "draft: false\n",
    "---"
   ]
  },
  {
   "cell_type": "markdown",
   "id": "e6e27bdb-c1b2-4cbf-afee-0d578b013d2a",
   "metadata": {},
   "source": [
    "📘 **Note Format Guide**\n",
    "\n",
    "This format serves as a structured guide for organizing lecture content, personal interpretation, experiments, and study-related questions.\n",
    "\n",
    "| Type | What It Means | When I Use It |\n",
    "|------|----------------|----------------|\n",
    "| 📝 Lecture | Original material from the professor’s notes | When I’m referencing core concepts or provided code |\n",
    "| 🗣️ In-Class Note | Verbal explanations shared during the lecture | When I want to record something the professor said in class but didn’t include in the official notes |\n",
    "| ✍️ My Note | My thoughts, interpretations, or additional explanations | When I reflect on or explain something in my own words |\n",
    "| 🔬 Experiment | Code I tried out or changed to explore further | When I test variations or go beyond the original example |\n",
    "| ❓ Question | Questions I had while studying | When I want to revisit or research something more deeply |"
   ]
  },
  {
   "cell_type": "markdown",
   "id": "1c6848eb-7562-4506-ad6f-4c7d77931af0",
   "metadata": {},
   "source": [
    "📝\n",
    "🗣️\n",
    "✍️\n",
    "🔬\n",
    "❓"
   ]
  },
  {
   "cell_type": "markdown",
   "id": "847d383e-8e3f-4ed0-a9d5-0fdfe470509e",
   "metadata": {
    "id": "4d47a7c9"
   },
   "source": [
    "# 1. 강의노트 원본 및 영상 링크 📝"
   ]
  },
  {
   "cell_type": "markdown",
   "id": "dd83fcd6-1e2c-49a5-bfdd-8aa7f1637249",
   "metadata": {},
   "source": [
    "[https://guebin.github.io/DL2025/posts/11wk-2.html](https://guebin.github.io/DL2025/posts/11wk-2.html)"
   ]
  },
  {
   "cell_type": "markdown",
   "id": "6645d96b-1685-4a05-8936-20d407e0060c",
   "metadata": {},
   "source": [
    "# 2. Imports 📝"
   ]
  },
  {
   "cell_type": "code",
   "execution_count": 1,
   "id": "4d6ef052-5169-45c9-9087-74dc7215d78e",
   "metadata": {
    "tags": []
   },
   "outputs": [],
   "source": [
    "import torch\n",
    "import pandas as pd\n",
    "import matplotlib.pyplot as plt"
   ]
  },
  {
   "cell_type": "markdown",
   "id": "019b0a54-3590-485a-8ba7-650d3ea03d48",
   "metadata": {},
   "source": [
    "# 3. 예비학습 📝"
   ]
  },
  {
   "cell_type": "markdown",
   "id": "0cb8bd57-3cc0-47d1-905b-fa4417c9572c",
   "metadata": {},
   "source": [
    "🗣️("
   ]
  },
  {
   "cell_type": "markdown",
   "id": "824b01d2-f1be-42ae-812c-5e4677605e24",
   "metadata": {},
   "source": [
    "```\n",
    "추천시스템\n",
    "--(1) MF-based: SVD(행렬분해)  overfit, underfit에서 조금 자유로움 (표현력이 거의 무한대)\n",
    "--(2) NN-based:               overfit, underfit 조정 필요\n",
    "```"
   ]
  },
  {
   "cell_type": "markdown",
   "id": "e3499f0b-f2c7-4830-977a-f981bd723b9a",
   "metadata": {},
   "source": [
    ")🗣️"
   ]
  },
  {
   "cell_type": "markdown",
   "id": "093a41b1-fdc1-4648-8ee9-c8136ef9934e",
   "metadata": {},
   "source": [
    "## A. `tanh`"
   ]
  },
  {
   "cell_type": "markdown",
   "id": "21d99a4a-6c4f-4070-9f8c-ee84ffd6d461",
   "metadata": {},
   "source": [
    "🗣️("
   ]
  },
  {
   "cell_type": "markdown",
   "id": "8f86d8ba-326e-4a2e-8acc-b55b3d38bcdd",
   "metadata": {},
   "source": [
    "- 활성화 함수\n",
    "    - 출력이 -1 ~ 1 => 반대 느낌을 해석 가능 (-1, 1)\n",
    "    - (Sigmoid: 0 ~ 1) => 확률로 해석 가능 "
   ]
  },
  {
   "cell_type": "markdown",
   "id": "74e61842-a1e5-4ffa-a1d8-f6384fbb97e4",
   "metadata": {},
   "source": [
    ")🗣️"
   ]
  },
  {
   "cell_type": "code",
   "execution_count": 84,
   "id": "9b32eeb1-a325-48b5-b2dc-58763fd0d463",
   "metadata": {},
   "outputs": [
    {
     "data": {
      "text/plain": [
       "[<matplotlib.lines.Line2D at 0x7202cd3b1ac0>]"
      ]
     },
     "execution_count": 84,
     "metadata": {},
     "output_type": "execute_result"
    },
    {
     "data": {
      "image/png": "[encoded data removed]",
      "text/plain": [
       "<Figure size 640x480 with 1 Axes>"
      ]
     },
     "metadata": {},
     "output_type": "display_data"
    }
   ],
   "source": [
    "x = torch.linspace(-5,5,1001)\n",
    "tanh = torch.nn.Tanh()\n",
    "plt.plot(x,tanh(x).data)"
   ]
  },
  {
   "cell_type": "markdown",
   "id": "6ad94927-35c7-41bb-8ab7-c4ae0466b3e8",
   "metadata": {},
   "source": [
    "## B. `softmax`"
   ]
  },
  {
   "cell_type": "markdown",
   "id": "7c0996ba-807a-4aba-89f6-770ca01f9680",
   "metadata": {},
   "source": [
    "🗣️("
   ]
  },
  {
   "cell_type": "markdown",
   "id": "bd7ba13c-bd77-4870-9e5a-53fd29ca4769",
   "metadata": {},
   "source": [
    "- 활성화 함수\n",
    "    - logit을 가지고 실질적인 prob로 바꾸는 함수\n",
    "    - 참고 \n",
    "        - y가 2개의 클래스가 아니라 여러 개의 클래스를 갖고 있을 때\n",
    "        - binary cross entropy를 쓰지 않고 cross entropy를 사용"
   ]
  },
  {
   "cell_type": "code",
   "execution_count": 3,
   "id": "c1df2de1-87bd-4127-95de-f0862854407c",
   "metadata": {},
   "outputs": [
    {
     "data": {
      "text/plain": [
       "tensor([[-1.2261,  0.4259, -0.1552,  0.1053, -0.7315],\n",
       "        [ 0.1195, -1.2003,  0.0711, -0.4024,  0.0612],\n",
       "        [ 1.6710, -0.1026,  0.0664, -1.9638, -1.5250],\n",
       "        [-0.1543, -0.4821, -0.2287, -0.4783, -1.5374],\n",
       "        [ 0.0277, -1.7424,  1.6880, -1.5535, -0.9432],\n",
       "        [-1.4717,  1.1867,  0.6488,  1.0316,  0.1506],\n",
       "        [-0.6202, -1.4209, -0.3404,  0.7866, -0.4144],\n",
       "        [-0.7437, -1.8049, -1.8204,  0.1902, -1.0927],\n",
       "        [-0.6898, -0.6155, -1.4422, -1.6997,  2.8129],\n",
       "        [ 0.5973, -2.2392, -0.3642,  1.2237,  1.0233]])"
      ]
     },
     "execution_count": 3,
     "metadata": {},
     "output_type": "execute_result"
    }
   ],
   "source": [
    "logits = torch.randn((10,5))\n",
    "logits"
   ]
  },
  {
   "cell_type": "code",
   "execution_count": 4,
   "id": "945f6ac1-16e5-4624-b7e0-5faefd73049f",
   "metadata": {},
   "outputs": [
    {
     "data": {
      "text/plain": [
       "tensor([[0.0687, 0.3583, 0.2004, 0.2600, 0.1126],\n",
       "        [0.2662, 0.0711, 0.2536, 0.1580, 0.2511],\n",
       "        [0.6954, 0.1180, 0.1398, 0.0184, 0.0285],\n",
       "        [0.2760, 0.1989, 0.2562, 0.1996, 0.0692],\n",
       "        [0.1425, 0.0243, 0.7499, 0.0293, 0.0540],\n",
       "        [0.0245, 0.3490, 0.2038, 0.2989, 0.1238],\n",
       "        [0.1237, 0.0556, 0.1637, 0.5051, 0.1520],\n",
       "        [0.2026, 0.0701, 0.0690, 0.5154, 0.1429],\n",
       "        [0.0277, 0.0298, 0.0130, 0.0101, 0.9194],\n",
       "        [0.2065, 0.0121, 0.0789, 0.3863, 0.3162]])"
      ]
     },
     "execution_count": 4,
     "metadata": {},
     "output_type": "execute_result"
    }
   ],
   "source": [
    "probs = torch.nn.functional.softmax(logits,dim=1)\n",
    "probs # 확률값이 나옴"
   ]
  },
  {
   "cell_type": "markdown",
   "id": "9e80aba1-238f-40c4-98d5-6aa387d4b6cc",
   "metadata": {},
   "source": [
    "- 가로로 더하면 1"
   ]
  },
  {
   "cell_type": "code",
   "execution_count": 6,
   "id": "ed841c2f-956d-4add-8c3c-acb67d99039b",
   "metadata": {},
   "outputs": [
    {
     "data": {
      "text/plain": [
       "tensor([[0.0241, 0.1949, 0.0663, 0.0886, 0.0201],\n",
       "        [0.0925, 0.0383, 0.0831, 0.0533, 0.0444],\n",
       "        [0.4364, 0.1149, 0.0827, 0.0112, 0.0091],\n",
       "        [0.0703, 0.0786, 0.0616, 0.0494, 0.0090],\n",
       "        [0.0844, 0.0223, 0.4186, 0.0169, 0.0162],\n",
       "        [0.0188, 0.4170, 0.1481, 0.2236, 0.0485],\n",
       "        [0.0441, 0.0307, 0.0551, 0.1750, 0.0276],\n",
       "        [0.0390, 0.0209, 0.0125, 0.0964, 0.0140],\n",
       "        [0.0412, 0.0688, 0.0183, 0.0146, 0.6951],\n",
       "        [0.1491, 0.0136, 0.0538, 0.2710, 0.1161]])"
      ]
     },
     "execution_count": 6,
     "metadata": {},
     "output_type": "execute_result"
    }
   ],
   "source": [
    "probs = torch.nn.functional.softmax(logits,dim=0)\n",
    "probs # 세로로 더하면 1 (참고)"
   ]
  },
  {
   "cell_type": "markdown",
   "id": "4a077502-e8dc-4651-97ac-95933bbc9db6",
   "metadata": {},
   "source": [
    ")🗣️"
   ]
  },
  {
   "cell_type": "code",
   "execution_count": 86,
   "id": "36ffcaea-67f9-445e-9bd4-9d35a41f8d31",
   "metadata": {},
   "outputs": [
    {
     "data": {
      "text/plain": [
       "tensor([[ 0.6408, -0.2422,  1.3521,  1.1399, -0.3036],\n",
       "        [-0.5242, -0.3710, -0.3861, -0.5475,  3.1393],\n",
       "        [ 0.5174, -1.3213,  3.1802, -0.6713,  0.5917],\n",
       "        [ 0.0931,  1.0697,  0.6469, -1.1904, -0.1057],\n",
       "        [-1.3722,  0.4665, -0.7705, -0.6630, -1.1054],\n",
       "        [ 1.2289,  1.4994, -0.9319,  0.8154, -0.2033],\n",
       "        [-0.3431,  0.3966, -0.9672, -1.6696,  0.7154],\n",
       "        [ 0.4969, -0.6918,  1.1579, -2.4760,  0.1766],\n",
       "        [ 0.8880, -0.0768,  1.5095, -0.2842,  0.4944],\n",
       "        [ 0.2732, -2.0850, -0.5531,  0.1073, -0.1218]])"
      ]
     },
     "execution_count": 86,
     "metadata": {},
     "output_type": "execute_result"
    }
   ],
   "source": [
    "logits = torch.randn((10,5))\n",
    "logits"
   ]
  },
  {
   "cell_type": "code",
   "execution_count": 89,
   "id": "fb1f7e14-aa94-4c67-8009-6a79ed3f8647",
   "metadata": {},
   "outputs": [
    {
     "data": {
      "text/plain": [
       "tensor([[0.1823, 0.0754, 0.3712, 0.3002, 0.0709],\n",
       "        [0.0231, 0.0269, 0.0265, 0.0226, 0.9009],\n",
       "        [0.0593, 0.0094, 0.8494, 0.0181, 0.0638],\n",
       "        [0.1540, 0.4090, 0.2680, 0.0427, 0.1263],\n",
       "        [0.0803, 0.5050, 0.1466, 0.1632, 0.1049],\n",
       "        [0.3007, 0.3941, 0.0346, 0.1988, 0.0718],\n",
       "        [0.1475, 0.3091, 0.0790, 0.0392, 0.4252],\n",
       "        [0.2489, 0.0758, 0.4820, 0.0127, 0.1807],\n",
       "        [0.2366, 0.0901, 0.4404, 0.0733, 0.1596],\n",
       "        [0.3275, 0.0310, 0.1434, 0.2775, 0.2206]])"
      ]
     },
     "execution_count": 89,
     "metadata": {},
     "output_type": "execute_result"
    }
   ],
   "source": [
    "probs = torch.nn.functional.softmax(logits,dim=1)\n",
    "probs"
   ]
  },
  {
   "cell_type": "markdown",
   "id": "4c8cc9e8-1cd7-4599-8a6c-7b55f49ed43c",
   "metadata": {},
   "source": [
    "# 4. `abc` 📝"
   ]
  },
  {
   "cell_type": "markdown",
   "id": "c6fa84b3-fe53-4835-ad12-0f468b832f83",
   "metadata": {},
   "source": [
    "🗣️("
   ]
  },
  {
   "cell_type": "markdown",
   "id": "d6d09995-a381-485a-9eca-09a699a1d66c",
   "metadata": {},
   "source": [
    "```\n",
    "a b c a b c a b c a ???\n",
    "단어1 단어2 단어3 ... ....... ???\n",
    "이런 것을 맞추고 싶음\n",
    "\n",
    "회귀분석: X, y가 아주 명확\n",
    "이미지자료분석: X가 복잡해도 X로 y를 clear하게 맞출 수 있음\n",
    "추천시스템: 회귀분석과 비슷한 setting으로 바꿀 수 있음\n",
    "abcabc: 억지로 X, y로 만들 수 있음\n",
    "a 입력 b 출력, b 입력 c 출력 ...\n",
    "\"b\" <--- net(\"a\")\n",
    "\"c\" <--- net(\"b\")\n",
    "\n",
    "다음과 같이 데이터 정리 가능\n",
    "X y\n",
    "a b\n",
    "b c\n",
    "c a\n",
    "a b\n",
    "...\n",
    "...\n",
    "항상 X가 먼저 나오므로 X를 이전 시점, y를 다음 시점으로 볼 수도 있음\n",
    "\n",
    "참고)\n",
    "통계학: AR 모형\n",
    "텍스트 마이닝``\n",
    "a b c a b c a b c a ???\n",
    "단어1 단어2 단어3 ... ....... ???\n",
    "이런 것을 맞추고 싶음\n",
    "\n",
    "회귀분석: X, y가 아주 명확\n",
    "이미지자료분석: X가 복잡해도 X로 y를 clear하게 맞출 수 있음\n",
    "추천시스템: 회귀분석과 비슷한 setting으로 바꿀 수 있음\n",
    "abcabc: 억지로 X, y로 만들 수 있음\n",
    "a 입력 b 출력, b 입력 c 출력 ...\n",
    "\"b\" <--- net(\"a\")\n",
    "\"c\" <--- net(\"b\")\n",
    "\n",
    "다음과 같이 데이터 정리 가능\n",
    "X y\n",
    "a b\n",
    "b c\n",
    "c a\n",
    "a b\n",
    "...\n",
    "...\n",
    "항상 X가 먼저 나오므로 X를 이전 시점, y를 다음 시점으로 볼 수도 있음\n",
    "\n",
    "기존 데이터를 쪼개서 과거의 내가 미래의 나를 맞추게 함\n",
    "\n",
    "참고)\n",
    "통계학: AR 모형\n",
    "텍스트 마이닝: N-gram\n",
    "```"
   ]
  },
  {
   "cell_type": "markdown",
   "id": "87547643-335b-486c-8241-965c68666c42",
   "metadata": {},
   "source": [
    ")🗣️"
   ]
  },
  {
   "cell_type": "markdown",
   "id": "90a84036-1cb7-4921-b869-2c21de6b98c1",
   "metadata": {},
   "source": [
    "## A. Data"
   ]
  },
  {
   "cell_type": "code",
   "execution_count": 7,
   "id": "1d6ec4ae-6122-4e52-b852-c44fe4f12e4a",
   "metadata": {
    "tags": []
   },
   "outputs": [
    {
     "data": {
      "text/plain": [
       "['a', 'b', 'c', 'a', 'b', 'c', 'a', 'b', 'c', 'a']"
      ]
     },
     "execution_count": 7,
     "metadata": {},
     "output_type": "execute_result"
    }
   ],
   "source": [
    "txt = list('abc'*100)\n",
    "txt[:10]"
   ]
  },
  {
   "cell_type": "code",
   "execution_count": 8,
   "id": "685a44dd-27b6-427a-b6f1-7c18f9a5765f",
   "metadata": {
    "tags": []
   },
   "outputs": [
    {
     "data": {
      "text/html": [
       "<div>\n",
       "<style scoped>\n",
       "    .dataframe tbody tr th:only-of-type {\n",
       "        vertical-align: middle;\n",
       "    }\n",
       "\n",
       "    .dataframe tbody tr th {\n",
       "        vertical-align: top;\n",
       "    }\n",
       "\n",
       "    .dataframe thead th {\n",
       "        text-align: right;\n",
       "    }\n",
       "</style>\n",
       "<table border=\"1\" class=\"dataframe\">\n",
       "  <thead>\n",
       "    <tr style=\"text-align: right;\">\n",
       "      <th></th>\n",
       "      <th>x</th>\n",
       "      <th>y</th>\n",
       "    </tr>\n",
       "  </thead>\n",
       "  <tbody>\n",
       "    <tr>\n",
       "      <th>0</th>\n",
       "      <td>a</td>\n",
       "      <td>b</td>\n",
       "    </tr>\n",
       "    <tr>\n",
       "      <th>1</th>\n",
       "      <td>b</td>\n",
       "      <td>c</td>\n",
       "    </tr>\n",
       "    <tr>\n",
       "      <th>2</th>\n",
       "      <td>c</td>\n",
       "      <td>a</td>\n",
       "    </tr>\n",
       "    <tr>\n",
       "      <th>3</th>\n",
       "      <td>a</td>\n",
       "      <td>b</td>\n",
       "    </tr>\n",
       "    <tr>\n",
       "      <th>4</th>\n",
       "      <td>b</td>\n",
       "      <td>c</td>\n",
       "    </tr>\n",
       "  </tbody>\n",
       "</table>\n",
       "</div>"
      ],
      "text/plain": [
       "   x  y\n",
       "0  a  b\n",
       "1  b  c\n",
       "2  c  a\n",
       "3  a  b\n",
       "4  b  c"
      ]
     },
     "execution_count": 8,
     "metadata": {},
     "output_type": "execute_result"
    }
   ],
   "source": [
    "df_train = pd.DataFrame({'x': txt[:-1], 'y': txt[1:]})\n",
    "df_train[:5]"
   ]
  },
  {
   "cell_type": "code",
   "execution_count": 9,
   "id": "afe1e823-016b-447a-84f7-1a59ba848a6d",
   "metadata": {
    "tags": []
   },
   "outputs": [],
   "source": [
    "x = torch.tensor(df_train.x.map({'a':0,'b':1,'c':2}))\n",
    "y = torch.tensor(df_train.y.map({'a':0,'b':1,'c':2}))"
   ]
  },
  {
   "cell_type": "code",
   "execution_count": 101,
   "id": "9fd3bffb-ba32-46e0-b372-91314e6f93f0",
   "metadata": {},
   "outputs": [],
   "source": [
    "# x,y \n",
    "# --- 원래는 이 형식이 틀림\n",
    "# 그런데 y는 onehot 안해도 알아서 토치에서 해주므로 length-n 벡터형태로 정리해도 무방\n",
    "# 그리고 x는 onehot+linr를 쓰지않고 임베딩을 쓰려고 마음먹었으면 length-n 벡터형태로 정리해도 무방"
   ]
  },
  {
   "cell_type": "markdown",
   "id": "63f684ae-de96-464d-8bee-30e650a01c37",
   "metadata": {},
   "source": [
    "🗣️("
   ]
  },
  {
   "cell_type": "code",
   "execution_count": 10,
   "id": "f02bd95a-83e4-4c3f-8c3e-622e44464465",
   "metadata": {},
   "outputs": [
    {
     "data": {
      "text/plain": [
       "tensor([0, 1, 2, 0, 1, 2, 0, 1, 2, 0, 1, 2, 0, 1, 2, 0, 1, 2, 0, 1, 2, 0, 1, 2,\n",
       "        0, 1, 2, 0, 1, 2, 0, 1, 2, 0, 1, 2, 0, 1, 2, 0, 1, 2, 0, 1, 2, 0, 1, 2,\n",
       "        0, 1, 2, 0, 1, 2, 0, 1, 2, 0, 1, 2, 0, 1, 2, 0, 1, 2, 0, 1, 2, 0, 1, 2,\n",
       "        0, 1, 2, 0, 1, 2, 0, 1, 2, 0, 1, 2, 0, 1, 2, 0, 1, 2, 0, 1, 2, 0, 1, 2,\n",
       "        0, 1, 2, 0, 1, 2, 0, 1, 2, 0, 1, 2, 0, 1, 2, 0, 1, 2, 0, 1, 2, 0, 1, 2,\n",
       "        0, 1, 2, 0, 1, 2, 0, 1, 2, 0, 1, 2, 0, 1, 2, 0, 1, 2, 0, 1, 2, 0, 1, 2,\n",
       "        0, 1, 2, 0, 1, 2, 0, 1, 2, 0, 1, 2, 0, 1, 2, 0, 1, 2, 0, 1, 2, 0, 1, 2,\n",
       "        0, 1, 2, 0, 1, 2, 0, 1, 2, 0, 1, 2, 0, 1, 2, 0, 1, 2, 0, 1, 2, 0, 1, 2,\n",
       "        0, 1, 2, 0, 1, 2, 0, 1, 2, 0, 1, 2, 0, 1, 2, 0, 1, 2, 0, 1, 2, 0, 1, 2,\n",
       "        0, 1, 2, 0, 1, 2, 0, 1, 2, 0, 1, 2, 0, 1, 2, 0, 1, 2, 0, 1, 2, 0, 1, 2,\n",
       "        0, 1, 2, 0, 1, 2, 0, 1, 2, 0, 1, 2, 0, 1, 2, 0, 1, 2, 0, 1, 2, 0, 1, 2,\n",
       "        0, 1, 2, 0, 1, 2, 0, 1, 2, 0, 1, 2, 0, 1, 2, 0, 1, 2, 0, 1, 2, 0, 1, 2,\n",
       "        0, 1, 2, 0, 1, 2, 0, 1, 2, 0, 1])"
      ]
     },
     "execution_count": 10,
     "metadata": {},
     "output_type": "execute_result"
    }
   ],
   "source": [
    "x"
   ]
  },
  {
   "cell_type": "code",
   "execution_count": 11,
   "id": "2da82fe3-f36d-4516-89b7-cf195bf49909",
   "metadata": {},
   "outputs": [
    {
     "data": {
      "text/plain": [
       "tensor([1, 2, 0, 1, 2, 0, 1, 2, 0, 1, 2, 0, 1, 2, 0, 1, 2, 0, 1, 2, 0, 1, 2, 0,\n",
       "        1, 2, 0, 1, 2, 0, 1, 2, 0, 1, 2, 0, 1, 2, 0, 1, 2, 0, 1, 2, 0, 1, 2, 0,\n",
       "        1, 2, 0, 1, 2, 0, 1, 2, 0, 1, 2, 0, 1, 2, 0, 1, 2, 0, 1, 2, 0, 1, 2, 0,\n",
       "        1, 2, 0, 1, 2, 0, 1, 2, 0, 1, 2, 0, 1, 2, 0, 1, 2, 0, 1, 2, 0, 1, 2, 0,\n",
       "        1, 2, 0, 1, 2, 0, 1, 2, 0, 1, 2, 0, 1, 2, 0, 1, 2, 0, 1, 2, 0, 1, 2, 0,\n",
       "        1, 2, 0, 1, 2, 0, 1, 2, 0, 1, 2, 0, 1, 2, 0, 1, 2, 0, 1, 2, 0, 1, 2, 0,\n",
       "        1, 2, 0, 1, 2, 0, 1, 2, 0, 1, 2, 0, 1, 2, 0, 1, 2, 0, 1, 2, 0, 1, 2, 0,\n",
       "        1, 2, 0, 1, 2, 0, 1, 2, 0, 1, 2, 0, 1, 2, 0, 1, 2, 0, 1, 2, 0, 1, 2, 0,\n",
       "        1, 2, 0, 1, 2, 0, 1, 2, 0, 1, 2, 0, 1, 2, 0, 1, 2, 0, 1, 2, 0, 1, 2, 0,\n",
       "        1, 2, 0, 1, 2, 0, 1, 2, 0, 1, 2, 0, 1, 2, 0, 1, 2, 0, 1, 2, 0, 1, 2, 0,\n",
       "        1, 2, 0, 1, 2, 0, 1, 2, 0, 1, 2, 0, 1, 2, 0, 1, 2, 0, 1, 2, 0, 1, 2, 0,\n",
       "        1, 2, 0, 1, 2, 0, 1, 2, 0, 1, 2, 0, 1, 2, 0, 1, 2, 0, 1, 2, 0, 1, 2, 0,\n",
       "        1, 2, 0, 1, 2, 0, 1, 2, 0, 1, 2])"
      ]
     },
     "execution_count": 11,
     "metadata": {},
     "output_type": "execute_result"
    }
   ],
   "source": [
    "y"
   ]
  },
  {
   "cell_type": "markdown",
   "id": "460af039-e49f-43b9-b32d-fdf305824114",
   "metadata": {},
   "source": [
    ")🗣️"
   ]
  },
  {
   "cell_type": "markdown",
   "id": "56267c0f-8e46-4355-aaf7-96e265b51c30",
   "metadata": {},
   "source": [
    "## B. MLP -- 하나의 은닉노드"
   ]
  },
  {
   "cell_type": "markdown",
   "id": "fd39c107-e9f7-4165-9654-5b5881ca228a",
   "metadata": {},
   "source": [
    "🗣️("
   ]
  },
  {
   "cell_type": "markdown",
   "id": "4a1424c5-db9a-40d8-a9d9-3c2815d5ea0f",
   "metadata": {},
   "source": [
    "```\n",
    "X --- hidden layer ---> y\n",
    "nx3 --  nx1  -- nx3\n",
    "\n",
    "1인 이유: hidden node의 수를 가능한 작게 만들고 싶음\n",
    "첫번째(3->1) linear transform (embedding)\n",
    "두번째(1->3) linear transform을 연속으로 하면 표현력에 문제가 생기므로\n",
    "중간에 비선형 변환 (보통은 ReLU를 쓰나 여기서는 Tanh)\n",
    "\n",
    "```"
   ]
  },
  {
   "cell_type": "code",
   "execution_count": 12,
   "id": "420b1ab7-4509-4211-bf8a-73330c7eaf2e",
   "metadata": {},
   "outputs": [],
   "source": [
    "net = torch.nn.Sequential(\n",
    "    torch.nn.Embedding(num_embeddings=3, embedding_dim=1), # one hot + linear\n",
    "    torch.nn.Tanh(), # 출력이 -1~1이면 문자 등을 표현할 때 좋다고 하고 일단 넘어감\n",
    "    torch.nn.Linear(1,3)\n",
    ")\n",
    "loss_fn = torch.nn.CrossEntropyLoss() # logit을 받는다는 의미 (net 마지막에 softmax 없어도 됨)\n",
    "optimizr = torch.optim.Adam(net.parameters(),lr=0.1)\n",
    "\n",
    "# 복잡하게 하려면 network 모드도 바꾸고 batch도 만들 수 있으나 데이터가 단순하여 간단하게 해도 잘 맞음\n",
    "#---#\n",
    "for epoc in range(50):\n",
    "    #1 \n",
    "    netout = net(x) # logit\n",
    "    #2 \n",
    "    loss = loss_fn(netout,y)\n",
    "    #3\n",
    "    loss.backward()\n",
    "    #4\n",
    "    optimizr.step()\n",
    "    optimizr.zero_grad()"
   ]
  },
  {
   "cell_type": "code",
   "execution_count": 14,
   "id": "c4a1c8e0-a649-47f1-9636-7ac46825f2a5",
   "metadata": {},
   "outputs": [],
   "source": [
    "# netout # logit 값"
   ]
  },
  {
   "cell_type": "code",
   "execution_count": 15,
   "id": "176c286f-6fea-4a71-9f43-0bb0979eebe3",
   "metadata": {},
   "outputs": [],
   "source": [
    "# netout.argmax(axis=1) # y에 대한 예측을 보려면"
   ]
  },
  {
   "cell_type": "code",
   "execution_count": 16,
   "id": "30081e38-54f0-47de-98cf-c93146b590ee",
   "metadata": {},
   "outputs": [
    {
     "data": {
      "text/plain": [
       "(tensor([1, 2, 0, 1, 2]), tensor([1, 2, 0, 1, 2]))"
      ]
     },
     "execution_count": 16,
     "metadata": {},
     "output_type": "execute_result"
    }
   ],
   "source": [
    "netout.argmax(axis=1)[:5], y[:5] # 실제 y와 비교"
   ]
  },
  {
   "cell_type": "markdown",
   "id": "3cb1171c-dda4-4898-bbc1-64ef334f3a29",
   "metadata": {},
   "source": [
    "- 다 맞추는데 진짜 학습이 잘 되었을까? "
   ]
  },
  {
   "cell_type": "markdown",
   "id": "42d8f8d8-6988-44e8-9435-d3395811f367",
   "metadata": {},
   "source": [
    ")🗣️"
   ]
  },
  {
   "cell_type": "markdown",
   "id": "b51f8104-15dd-455f-a369-0ecca33577ce",
   "metadata": {},
   "source": [
    "`-` 적합 "
   ]
  },
  {
   "cell_type": "code",
   "execution_count": 140,
   "id": "69d9751f-3847-4136-b449-383c1b695ea1",
   "metadata": {},
   "outputs": [],
   "source": [
    "torch.manual_seed(43052)\n",
    "net = torch.nn.Sequential(\n",
    "    torch.nn.Embedding(num_embeddings=3, embedding_dim=1),\n",
    "    torch.nn.Tanh(), \n",
    "    torch.nn.Linear(1,3)\n",
    ")\n",
    "loss_fn = torch.nn.CrossEntropyLoss()\n",
    "optimizr = torch.optim.Adam(net.parameters(),lr=0.1)\n",
    "#---#\n",
    "for epoc in range(50):\n",
    "    #1 \n",
    "    netout = net(x)\n",
    "    #2 \n",
    "    loss = loss_fn(netout,y)\n",
    "    #3\n",
    "    loss.backward()\n",
    "    #4\n",
    "    optimizr.step()\n",
    "    optimizr.zero_grad()"
   ]
  },
  {
   "cell_type": "code",
   "execution_count": 141,
   "id": "b2f77bac-f478-4fea-908e-c49f3b71829b",
   "metadata": {},
   "outputs": [
    {
     "data": {
      "text/plain": [
       "(tensor([1, 2, 0, 1, 2]), tensor([1, 2, 0, 1, 2]))"
      ]
     },
     "execution_count": 141,
     "metadata": {},
     "output_type": "execute_result"
    }
   ],
   "source": [
    "netout.argmax(axis=1)[:5], y[:5]"
   ]
  },
  {
   "cell_type": "markdown",
   "id": "4e55d76c-3137-406c-b7ed-77100d453d97",
   "metadata": {},
   "source": [
    "`-` 결과시각화 "
   ]
  },
  {
   "cell_type": "markdown",
   "id": "852d065e-0765-4cb1-9351-e5781ff63c4d",
   "metadata": {},
   "source": [
    "🗣️("
   ]
  },
  {
   "cell_type": "code",
   "execution_count": 18,
   "id": "35c3020a-5abe-4164-b3f5-a28e66fdea65",
   "metadata": {},
   "outputs": [
    {
     "data": {
      "text/plain": [
       "Sequential(\n",
       "  (0): Embedding(3, 1)\n",
       "  (1): Tanh()\n",
       "  (2): Linear(in_features=1, out_features=3, bias=True)\n",
       ")"
      ]
     },
     "execution_count": 18,
     "metadata": {},
     "output_type": "execute_result"
    }
   ],
   "source": [
    "net # Embedding도 쪼개려면 one hot + linear로 할 수 있지만 하나로 치면"
   ]
  },
  {
   "cell_type": "code",
   "execution_count": 19,
   "id": "19ab835f-f3f7-41d1-b763-c165e9a3356b",
   "metadata": {},
   "outputs": [],
   "source": [
    "ebdd = net[0]\n",
    "tanh = net[1]\n",
    "linr = net[2]\n",
    "# ebdd,tanh,linr = net 동일"
   ]
  },
  {
   "cell_type": "code",
   "execution_count": 20,
   "id": "d1a6c643-a3b4-48df-939d-5cfcb8b3560d",
   "metadata": {},
   "outputs": [
    {
     "data": {
      "text/plain": [
       "tensor([[-5.4318,  2.8601,  0.9936],\n",
       "        [-0.7939, -0.4841,  1.2590],\n",
       "        [ 3.9698, -3.9191,  1.5316],\n",
       "        [-5.4318,  2.8601,  0.9936],\n",
       "        [-0.7939, -0.4841,  1.2590]])"
      ]
     },
     "execution_count": 20,
     "metadata": {},
     "output_type": "execute_result"
    }
   ],
   "source": [
    "linr(tanh(ebdd(x))).data[:5]"
   ]
  },
  {
   "cell_type": "code",
   "execution_count": 22,
   "id": "750de8e7-a2d1-47b5-8e3b-5ef79f8d5945",
   "metadata": {},
   "outputs": [
    {
     "data": {
      "text/plain": [
       "tensor([[-5.4318,  2.8601,  0.9936],\n",
       "        [-0.7939, -0.4841,  1.2590],\n",
       "        [ 3.9698, -3.9191,  1.5316],\n",
       "        [-5.4318,  2.8601,  0.9936],\n",
       "        [-0.7939, -0.4841,  1.2590]])"
      ]
     },
     "execution_count": 22,
     "metadata": {},
     "output_type": "execute_result"
    }
   ],
   "source": [
    "net(x).data[:5] # 위와 동일"
   ]
  },
  {
   "cell_type": "code",
   "execution_count": 23,
   "id": "ef706343-ba70-42f7-9851-ecf55d367c7e",
   "metadata": {},
   "outputs": [],
   "source": [
    "# ebdd(x) # n x 1"
   ]
  },
  {
   "cell_type": "code",
   "execution_count": 24,
   "id": "2a7ae8ba-434c-44b5-ba36-273f635d9c18",
   "metadata": {},
   "outputs": [],
   "source": [
    "# tanh(ebdd(x)) # 출력이 -1 ~ 1로 눌림"
   ]
  },
  {
   "cell_type": "code",
   "execution_count": 25,
   "id": "673310e6-963f-4b96-910b-d74532dd6246",
   "metadata": {},
   "outputs": [],
   "source": [
    "h = tanh(ebdd(x)) # hidden"
   ]
  },
  {
   "cell_type": "code",
   "execution_count": 28,
   "id": "33c52862-91e5-49cd-9ff6-c054b3a1e947",
   "metadata": {},
   "outputs": [],
   "source": [
    "# torch.nn.functional.one_hot(x) # n x 3, 사실은 이게 x"
   ]
  },
  {
   "cell_type": "code",
   "execution_count": 29,
   "id": "4bc243c8-f7de-4bd5-bf97-ce988275770e",
   "metadata": {},
   "outputs": [],
   "source": [
    "X = torch.nn.functional.one_hot(x) # X라고 하면\n",
    "h = tanh(ebdd(x)) # tanh(linr(X))와 동일"
   ]
  },
  {
   "cell_type": "code",
   "execution_count": 31,
   "id": "6a0b9a03-5a97-425f-b04c-85845301d209",
   "metadata": {},
   "outputs": [
    {
     "data": {
      "text/plain": [
       "(torch.Size([299, 3]), torch.Size([299, 1]))"
      ]
     },
     "execution_count": 31,
     "metadata": {},
     "output_type": "execute_result"
    }
   ],
   "source": [
    "X.shape, h.shape # 이 둘을 합치면"
   ]
  },
  {
   "cell_type": "code",
   "execution_count": 32,
   "id": "bfb165c0-0586-4f21-a6d2-64951a234296",
   "metadata": {},
   "outputs": [],
   "source": [
    "X = torch.nn.functional.one_hot(x)\n",
    "h = tanh(ebdd(x))\n",
    "mat = torch.concat([X,h], axis=1).data"
   ]
  },
  {
   "cell_type": "code",
   "execution_count": 33,
   "id": "d26dd51a-f3a9-40ef-812a-a05ba29f4f0a",
   "metadata": {},
   "outputs": [
    {
     "data": {
      "text/plain": [
       "torch.Size([299, 4])"
      ]
     },
     "execution_count": 33,
     "metadata": {},
     "output_type": "execute_result"
    }
   ],
   "source": [
    "mat.shape"
   ]
  },
  {
   "cell_type": "code",
   "execution_count": 35,
   "id": "8e23bd81-e17b-4c36-95ed-2c814e3415c8",
   "metadata": {},
   "outputs": [
    {
     "data": {
      "text/plain": [
       "torch.Size([8, 4])"
      ]
     },
     "execution_count": 35,
     "metadata": {},
     "output_type": "execute_result"
    }
   ],
   "source": [
    "mat[:8,:].shape # mat[:8]과 동일"
   ]
  },
  {
   "cell_type": "code",
   "execution_count": 37,
   "id": "2db8bf31-9281-4ff8-99ac-fcac118c9920",
   "metadata": {},
   "outputs": [
    {
     "data": {
      "text/plain": [
       "tensor([[ 1.0000,  0.0000,  0.0000, -0.9840],\n",
       "        [ 0.0000,  1.0000,  0.0000, -0.0065],\n",
       "        [ 0.0000,  0.0000,  1.0000,  0.9976],\n",
       "        [ 1.0000,  0.0000,  0.0000, -0.9840],\n",
       "        [ 0.0000,  1.0000,  0.0000, -0.0065],\n",
       "        [ 0.0000,  0.0000,  1.0000,  0.9976],\n",
       "        [ 1.0000,  0.0000,  0.0000, -0.9840],\n",
       "        [ 0.0000,  1.0000,  0.0000, -0.0065]])"
      ]
     },
     "execution_count": 37,
     "metadata": {},
     "output_type": "execute_result"
    }
   ],
   "source": [
    "X = torch.nn.functional.one_hot(x)\n",
    "h = tanh(ebdd(x))\n",
    "mat = torch.concat([X,h], axis=1).data\n",
    "mat[:8] # column0~2: 입력 / column3: 결과"
   ]
  },
  {
   "cell_type": "code",
   "execution_count": 40,
   "id": "8fae9c80-3dd9-47a4-af89-642448e13fe2",
   "metadata": {},
   "outputs": [
    {
     "data": {
      "text/plain": [
       "<matplotlib.colorbar.Colorbar at 0x7f16b31dec40>"
      ]
     },
     "execution_count": 40,
     "metadata": {},
     "output_type": "execute_result"
    },
    {
     "data": {
      "image/png": "[encoded data removed]",
      "text/plain": [
       "<Figure size 400x800 with 2 Axes>"
      ]
     },
     "metadata": {},
     "output_type": "display_data"
    }
   ],
   "source": [
    "plt.matshow(mat[:8])\n",
    "plt.colorbar()"
   ]
  },
  {
   "cell_type": "code",
   "execution_count": 39,
   "id": "d36e870a-0e28-45dd-b98c-d7e45863777a",
   "metadata": {},
   "outputs": [
    {
     "data": {
      "text/plain": [
       "<matplotlib.colorbar.Colorbar at 0x7f16b372ae80>"
      ]
     },
     "execution_count": 39,
     "metadata": {},
     "output_type": "execute_result"
    },
    {
     "data": {
      "image/png": "[encoded data removed]",
      "text/plain": [
       "<Figure size 400x600 with 2 Axes>"
      ]
     },
     "metadata": {},
     "output_type": "display_data"
    }
   ],
   "source": [
    "plt.matshow(mat[:6], vmin=-1, vmax=1)\n",
    "plt.colorbar()"
   ]
  },
  {
   "cell_type": "code",
   "execution_count": 41,
   "id": "3d228d42-7cda-4319-90b6-fecb563968d4",
   "metadata": {},
   "outputs": [
    {
     "data": {
      "text/plain": [
       "<matplotlib.colorbar.Colorbar at 0x7f16b31b3430>"
      ]
     },
     "execution_count": 41,
     "metadata": {},
     "output_type": "execute_result"
    },
    {
     "data": {
      "image/png": "[encoded data removed]",
      "text/plain": [
       "<Figure size 400x600 with 2 Axes>"
      ]
     },
     "metadata": {},
     "output_type": "display_data"
    }
   ],
   "source": [
    "plt.matshow(mat[:6], vmin=-1, vmax=1, cmap=\"bwr\")\n",
    "plt.colorbar()"
   ]
  },
  {
   "cell_type": "markdown",
   "id": "9710ec2e-64d1-48e1-a249-4deb29481e80",
   "metadata": {},
   "source": [
    "- 해석\n",
    "    - X(col0~2)는 one hot encoding 되어 있음 (-1 불가)\n",
    "    - h는 -1, 0, 1로 나옴"
   ]
  },
  {
   "cell_type": "markdown",
   "id": "ba43950e-f018-4705-b065-a5307ef1e89b",
   "metadata": {},
   "source": [
    "- h가 yhat으로 나가는 과정"
   ]
  },
  {
   "cell_type": "code",
   "execution_count": 42,
   "id": "1572348a-f185-438f-9c22-b878ed1c1579",
   "metadata": {},
   "outputs": [],
   "source": [
    "X = torch.nn.functional.one_hot(x)\n",
    "h = tanh(ebdd(x))\n",
    "netout = linr(h) # net(x)와 동일"
   ]
  },
  {
   "cell_type": "code",
   "execution_count": 43,
   "id": "b9f4360c-2231-4276-83ab-fa0d1c4ab672",
   "metadata": {},
   "outputs": [],
   "source": [
    "# netout # logit , n x 3"
   ]
  },
  {
   "cell_type": "code",
   "execution_count": 44,
   "id": "05fb633f-de78-42a2-a61b-34f71adc0eec",
   "metadata": {},
   "outputs": [
    {
     "data": {
      "text/plain": [
       "tensor(3.9698, grad_fn=<MaxBackward1>)"
      ]
     },
     "execution_count": 44,
     "metadata": {},
     "output_type": "execute_result"
    }
   ],
   "source": [
    "netout.max()"
   ]
  },
  {
   "cell_type": "markdown",
   "id": "f85819fa-eca7-4878-b6c3-93a0fdd67e17",
   "metadata": {},
   "source": [
    "- 시각화를 위해 max로 나누면 (누르는 효과)"
   ]
  },
  {
   "cell_type": "code",
   "execution_count": 47,
   "id": "af1054bd-45c3-49a7-96ea-af138b3036f0",
   "metadata": {},
   "outputs": [],
   "source": [
    "# netout/netout.max()"
   ]
  },
  {
   "cell_type": "code",
   "execution_count": 48,
   "id": "b815c3e4-0a0b-431d-8884-e0cb0695c246",
   "metadata": {},
   "outputs": [
    {
     "data": {
      "text/plain": [
       "<matplotlib.colorbar.Colorbar at 0x7f16b3186220>"
      ]
     },
     "execution_count": 48,
     "metadata": {},
     "output_type": "execute_result"
    },
    {
     "data": {
      "image/png": "[encoded data removed]",
      "text/plain": [
       "<Figure size 560x480 with 2 Axes>"
      ]
     },
     "metadata": {},
     "output_type": "display_data"
    }
   ],
   "source": [
    "mat = torch.concat([X,h, netout/netout.max()], axis=1).data\n",
    "plt.matshow(mat[:6], vmin=-1, vmax=1, cmap=\"bwr\")\n",
    "plt.colorbar()"
   ]
  },
  {
   "cell_type": "markdown",
   "id": "06c03ae7-5c9e-4702-a3ad-aa34c83c53d1",
   "metadata": {},
   "source": [
    "- 해석\n",
    "    - col 0~2: X\n",
    "    - col 3: h\n",
    "    - col 4~6: netout = logits\n",
    "        - 빨간 값이 제일 큼 (최댓값으로 나눴기 때문에)\n",
    "        - 첫번째 경우(a): 0 1 0 => b\n",
    "        - 두번째 경우(b): c\n",
    "        - 세번째 경우(c): a\n",
    "    - weight가 잘 맞춰져서 y가 그럴듯하게 나오고 있음"
   ]
  },
  {
   "cell_type": "markdown",
   "id": "1fbb7186-4bb6-4090-aa2a-b7ec1d62047b",
   "metadata": {},
   "source": [
    "- yhat을 구하려면"
   ]
  },
  {
   "cell_type": "code",
   "execution_count": 50,
   "id": "767332a3-e8d5-46fa-b8ac-bd52ab55e811",
   "metadata": {},
   "outputs": [
    {
     "data": {
      "text/plain": [
       "<matplotlib.colorbar.Colorbar at 0x7f16b34615b0>"
      ]
     },
     "execution_count": 50,
     "metadata": {},
     "output_type": "execute_result"
    },
    {
     "data": {
      "image/png": "[encoded data removed]",
      "text/plain": [
       "<Figure size 800x480 with 2 Axes>"
      ]
     },
     "metadata": {},
     "output_type": "display_data"
    }
   ],
   "source": [
    "X = torch.nn.functional.one_hot(x)\n",
    "h = tanh(ebdd(x))\n",
    "netout = logits = linr(h)\n",
    "yhat = torch.nn.functional.softmax(netout,dim=1)\n",
    "mat = torch.concat([X,h,netout/netout.max(),yhat],axis=1).data\n",
    "plt.matshow(mat[:6], vmin=-1, vmax=1, cmap=\"bwr\")\n",
    "plt.colorbar()"
   ]
  },
  {
   "cell_type": "markdown",
   "id": "7eae9078-abdb-4fee-b9fd-8b39cedbbf43",
   "metadata": {},
   "source": [
    "- 해석\n",
    "    - col 0~2: X\n",
    "    - col 3: h\n",
    "    - col 4~6: netout = logits\n",
    "    - col 7~9: 확률값 (파란색 불가)\n",
    "        - 7: a라고 예측할 확률\n",
    "        - 8: b라고 예측할 확률\n",
    "        - 9: c라고 예측할 확률\n",
    "    - 예측이 잘 되어 있는 것 같은데 확률값이 어떻게 나와있나보면\n",
    "        - 빨간색을 제외한 부분이 0이 아닌 경우도 있어 여지가 생김\n",
    "    - logits을 살펴보면\n",
    "        - 4: a 구분 (나쁘지 않음)\n",
    "        - 파란색 (a 아님) 흰색 (모름) 빨간색 (a 맞음)\n",
    "        - 5: b 구분 (나쁘지 않음)\n",
    "        - 6: c 구분 (파란색이 없어서 구분이 애매함)\n",
    "    - 4,5,6을 같이보면\n",
    "        - c의 경우는 애매한 결과만 나옴\n",
    "        - row1의 경우 4,5가 ?이기 때문에 결과적으로 c가 나옴\n",
    "        - row2의 경우 b는 절대 아님, a가 c보다 강함\n",
    "    - c는 객관식을 맞추는 느낌\n",
    "    - a,b는 정확하게 판단"
   ]
  },
  {
   "cell_type": "code",
   "execution_count": 54,
   "id": "473897f4-5057-4b6e-b99f-3442a81204b3",
   "metadata": {},
   "outputs": [],
   "source": [
    "torch.manual_seed(43052)\n",
    "net = torch.nn.Sequential(\n",
    "    torch.nn.Embedding(num_embeddings=3, embedding_dim=1),\n",
    "    torch.nn.Tanh(), \n",
    "    torch.nn.Linear(1,3)\n",
    ")\n",
    "loss_fn = torch.nn.CrossEntropyLoss()\n",
    "optimizr = torch.optim.Adam(net.parameters(),lr=0.1)\n",
    "#---#\n",
    "for epoc in range(50):\n",
    "    #1 \n",
    "    netout = net(x)\n",
    "    #2 \n",
    "    loss = loss_fn(netout,y)\n",
    "    #3\n",
    "    loss.backward()\n",
    "    #4\n",
    "    optimizr.step()\n",
    "    optimizr.zero_grad()"
   ]
  },
  {
   "cell_type": "code",
   "execution_count": 55,
   "id": "3e6ece9e-d179-46e5-b84a-e453806a4e18",
   "metadata": {},
   "outputs": [],
   "source": [
    "ebdd,tanh,linr = net"
   ]
  },
  {
   "cell_type": "code",
   "execution_count": 56,
   "id": "43088bcf-9c2e-4165-9e93-611dea9d3fd1",
   "metadata": {},
   "outputs": [
    {
     "name": "stderr",
     "output_type": "stream",
     "text": [
      "/tmp/ipykernel_2844881/1114894007.py:12: UserWarning: This figure includes Axes that are not compatible with tight_layout, so results might be incorrect.\n",
      "  plt.tight_layout()\n"
     ]
    },
    {
     "data": {
      "image/png": "[encoded data removed]",
      "text/plain": [
       "<Figure size 800x480 with 2 Axes>"
      ]
     },
     "metadata": {},
     "output_type": "display_data"
    }
   ],
   "source": [
    "X = torch.nn.functional.one_hot(x)\n",
    "h = tanh(ebdd(x))\n",
    "netout = logits = linr(h)\n",
    "yhat = torch.nn.functional.softmax(netout,dim=1)\n",
    "mat = torch.concat([X,h,netout/netout.max(),yhat],axis=1).data\n",
    "plt.matshow(mat[:6], vmin=-1, vmax=1, cmap=\"bwr\")\n",
    "plt.colorbar()\n",
    "plt.axvline(2.5,color=\"lime\")\n",
    "plt.axvline(3.5,color=\"lime\")\n",
    "plt.axvline(6.5,color=\"lime\")\n",
    "plt.xticks(ticks=[0,1,2,3,4,5,6,7,8,9],labels=[r\"$x_a$\",r\"$x_b$\",r\"$x_c$\",r\"$h$\",r\"$out_a$\",r\"$out_b$\",r\"$out_c$\",r\"$\\hat{y}_a$\",r\"$\\hat{y}_b$\",r\"$\\hat{y}_c$\"]);\n",
    "plt.tight_layout()"
   ]
  },
  {
   "cell_type": "markdown",
   "id": "e8d296b4-0e72-4f5e-b36e-9a7d59421ba6",
   "metadata": {},
   "source": [
    "```\n",
    "col6의 경우 애매함 (맞춰도 객관식 소거법 같은 방식)\n",
    "\n",
    "이유? h (col4)가 0인 경우가 있음\n",
    "col 5~7 : h(col4) * weight + bias\n",
    "그러나 h 가 0이면 weight가 의미가 없음 (network 표현력의 핵심은 weight)\n",
    "\n",
    "h가 1, -1, 0으로 나올 수 밖에 없는 이유?\n",
    "a,b,c 3개를 표현해야하는데 -1(a) ,1(c) 은 이미 있으므로 하나(b)는 0을 할 수 밖에 없음 (-1 및 1과 구분하려면)\n",
    "다른 조합도 마찬가지\n",
    "\n",
    "해결책?\n",
    "h를 하나 더 만들면 됨 (node를 2개 사용)\n",
    "```"
   ]
  },
  {
   "cell_type": "markdown",
   "id": "8c70e0bf-c82c-43aa-afe9-76a0b3532258",
   "metadata": {},
   "source": [
    ")🗣️"
   ]
  },
  {
   "cell_type": "code",
   "execution_count": 142,
   "id": "fb62250c-51b1-4003-ad7d-70719ecc0d45",
   "metadata": {},
   "outputs": [],
   "source": [
    "ebdd,tanh,linr = net"
   ]
  },
  {
   "cell_type": "code",
   "execution_count": 143,
   "id": "0d405311-b184-4313-b097-df13c4a528c6",
   "metadata": {},
   "outputs": [
    {
     "name": "stderr",
     "output_type": "stream",
     "text": [
      "/tmp/ipykernel_906200/1114894007.py:12: UserWarning: This figure includes Axes that are not compatible with tight_layout, so results might be incorrect.\n",
      "  plt.tight_layout()\n"
     ]
    },
    {
     "data": {
      "image/png": "[encoded data removed]",
      "text/plain": [
       "<Figure size 800x480 with 2 Axes>"
      ]
     },
     "metadata": {},
     "output_type": "display_data"
    }
   ],
   "source": [
    "X = torch.nn.functional.one_hot(x)\n",
    "h = tanh(ebdd(x))\n",
    "netout = logits = linr(h)\n",
    "yhat = torch.nn.functional.softmax(netout,dim=1)\n",
    "mat = torch.concat([X,h,netout/netout.max(),yhat],axis=1).data\n",
    "plt.matshow(mat[:6], vmin=-1, vmax=1, cmap=\"bwr\")\n",
    "plt.colorbar()\n",
    "plt.axvline(2.5,color=\"lime\")\n",
    "plt.axvline(3.5,color=\"lime\")\n",
    "plt.axvline(6.5,color=\"lime\")\n",
    "plt.xticks(ticks=[0,1,2,3,4,5,6,7,8,9],labels=[r\"$x_a$\",r\"$x_b$\",r\"$x_c$\",r\"$h$\",r\"$out_a$\",r\"$out_b$\",r\"$out_c$\",r\"$\\hat{y}_a$\",r\"$\\hat{y}_b$\",r\"$\\hat{y}_c$\"]);\n",
    "plt.tight_layout()"
   ]
  },
  {
   "cell_type": "markdown",
   "id": "c6078666-cbc3-49f2-86a4-fb412c603915",
   "metadata": {},
   "source": [
    "`-` 시각화결과해석: 학습이 잘 된것 같지만 깔끔하지 않음."
   ]
  },
  {
   "cell_type": "markdown",
   "id": "378d2c93-1fb0-41ad-85fe-b73e39e1d0d2",
   "metadata": {},
   "source": [
    "- netout 을 보는 요령: 가장 빨간부분이 예측값이 된다. \n",
    "- 문제1: $out_b$의 경우 애매한 색깔만 있음. 네트워크가 정답을 잘 모른다는 의미.\n",
    "- 문제1의 원인: $out_b$의 경우에 대응하는 ${\\boldsymbol h}$를 살펴보니 흰색임. 이것은 값이 0이라는 의미인데 이때는 ${\\boldsymbol h}$ 에 걸리는 선형변환 $linr$ 의 weight 가 의미없고 bias만 의미있기 때문에 특징을 잡기에 불리하다. \n",
    "- 문제2: ${\\boldsymbol h}$가 흰색이면(=0이 나오면) 불리하며, 확실한 색을 가지고 있는것이 유리함. 그렇지만 확실한 색인 빨강 파랑은 이미 차지된 상태라서 어쩔수 없이 흰색으로 선택된 것.\n",
    "- 문제2를 해결하는 방법: $a,b,c$라는 세문자를 표현하기에 $(-1,1)$사이의 숫자는 너무 불리함.. "
   ]
  },
  {
   "cell_type": "markdown",
   "id": "677fc516-0182-46cf-8903-0931635a7263",
   "metadata": {},
   "source": [
    "## C. MLP -- 두개의 은닉노드 "
   ]
  },
  {
   "cell_type": "markdown",
   "id": "e11902e1-60ba-4ed6-bf95-5f018830d28b",
   "metadata": {},
   "source": [
    "🗣️("
   ]
  },
  {
   "cell_type": "code",
   "execution_count": 57,
   "id": "8234591d-4fa4-43ec-84e1-e43e99777367",
   "metadata": {},
   "outputs": [],
   "source": [
    "torch.manual_seed(43052)\n",
    "net = torch.nn.Sequential(\n",
    "    torch.nn.Embedding(num_embeddings=3, embedding_dim=2),\n",
    "    torch.nn.Tanh(), \n",
    "    torch.nn.Linear(2,3)\n",
    ")\n",
    "loss_fn = torch.nn.CrossEntropyLoss()\n",
    "optimizr = torch.optim.Adam(net.parameters(),lr=0.1)\n",
    "#---#\n",
    "for epoc in range(50):\n",
    "    #1 \n",
    "    netout = net(x)\n",
    "    #2 \n",
    "    loss = loss_fn(netout,y)\n",
    "    #3\n",
    "    loss.backward()\n",
    "    #4\n",
    "    optimizr.step()\n",
    "    optimizr.zero_grad()"
   ]
  },
  {
   "cell_type": "code",
   "execution_count": 58,
   "id": "18ce67ae-09c3-4f9b-b11b-a4ec4b8d950e",
   "metadata": {},
   "outputs": [],
   "source": [
    "ebdd, tanh, linr = net"
   ]
  },
  {
   "cell_type": "code",
   "execution_count": 59,
   "id": "f6571df5-8b53-4909-aa17-76d874dc48e1",
   "metadata": {},
   "outputs": [
    {
     "data": {
      "image/png": "[encoded data removed]",
      "text/plain": [
       "<Figure size 880x480 with 2 Axes>"
      ]
     },
     "metadata": {},
     "output_type": "display_data"
    }
   ],
   "source": [
    "X = torch.nn.functional.one_hot(x)\n",
    "h = tanh(ebdd(x))\n",
    "netout = logits = linr(h)\n",
    "yhat = torch.nn.functional.softmax(netout,dim=1)\n",
    "mat = torch.concat([X,h,netout/netout.max(),yhat],axis=1).data\n",
    "plt.matshow(mat[:6], vmin=-1, vmax=1, cmap=\"bwr\")\n",
    "plt.colorbar()\n",
    "plt.axvline(2.5,color=\"lime\")\n",
    "plt.axvline(4.5,color=\"lime\")\n",
    "plt.axvline(7.5,color=\"lime\")\n",
    "plt.xticks(ticks=[0,1,2,3,4,5,6,7,8,9,10],labels=[r\"$x_a$\", r\"$x_b$\", r\"$x_c$\",r\"$h_1$\",r\"$h_2$\",r\"$out_a$\",r\"$out_b$\",r\"$out_c$\",r\"$\\hat{y_a}$\",r\"$\\hat{y_b}$\",r\"$\\hat{y_c}$\"]);"
   ]
  },
  {
   "cell_type": "markdown",
   "id": "2a09a08e-115d-49f2-a850-131e31a7a77e",
   "metadata": {},
   "source": [
    "- 해석\n",
    "    - 깔끔하고 명확한 결과 \n",
    "    - X가 a일 경우: 파랑, 빨강\n",
    "    - X가 b일 경우: 빨강, 파랑\n",
    "    - X가 c일 경우: 빨강, 빨강\n",
    "    - 심지어 파랑, 파랑 매핑은 사용하지 않음 "
   ]
  },
  {
   "cell_type": "markdown",
   "id": "ae46ce16-8ec6-4184-aa12-f9562aa49884",
   "metadata": {},
   "source": [
    ")🗣️"
   ]
  },
  {
   "cell_type": "markdown",
   "id": "ac9b5175-0786-4fd1-970f-f72e63ad572b",
   "metadata": {},
   "source": [
    "`-` 적합"
   ]
  },
  {
   "cell_type": "code",
   "execution_count": 144,
   "id": "0e5af920-af3c-4fb1-af9a-c704e2779c6e",
   "metadata": {},
   "outputs": [],
   "source": [
    "torch.manual_seed(43052)\n",
    "net = torch.nn.Sequential(\n",
    "    torch.nn.Embedding(num_embeddings=3, embedding_dim=2),\n",
    "    torch.nn.Tanh(), \n",
    "    torch.nn.Linear(2,3)\n",
    ")\n",
    "loss_fn = torch.nn.CrossEntropyLoss()\n",
    "optimizr = torch.optim.Adam(net.parameters(),lr=0.1)\n",
    "#---#\n",
    "for epoc in range(50):\n",
    "    #1 \n",
    "    netout = net(x)\n",
    "    #2 \n",
    "    loss = loss_fn(netout,y)\n",
    "    #3\n",
    "    loss.backward()\n",
    "    #4\n",
    "    optimizr.step()\n",
    "    optimizr.zero_grad()"
   ]
  },
  {
   "cell_type": "code",
   "execution_count": 145,
   "id": "722eba4f-f1f4-4f6e-899c-3210aac62e5f",
   "metadata": {},
   "outputs": [
    {
     "data": {
      "text/plain": [
       "(tensor([1, 2, 0, 1, 2]), tensor([1, 2, 0, 1, 2]))"
      ]
     },
     "execution_count": 145,
     "metadata": {},
     "output_type": "execute_result"
    }
   ],
   "source": [
    "netout.argmax(axis=1)[:5], y[:5]"
   ]
  },
  {
   "cell_type": "markdown",
   "id": "16341fd6-8f49-47ce-8e5b-dcab64477d4a",
   "metadata": {},
   "source": [
    "`-` 결과시각화 "
   ]
  },
  {
   "cell_type": "code",
   "execution_count": 149,
   "id": "3ee7b9e4-e285-477c-9145-a6d75c76496d",
   "metadata": {},
   "outputs": [
    {
     "data": {
      "image/png": "[encoded data removed]",
      "text/plain": [
       "<Figure size 880x480 with 2 Axes>"
      ]
     },
     "metadata": {},
     "output_type": "display_data"
    }
   ],
   "source": [
    "ebdd, tanh, linr = net \n",
    "X = torch.nn.functional.one_hot(x)\n",
    "h = tanh(ebdd(x))\n",
    "netout = logits = linr(h)\n",
    "yhat = torch.nn.functional.softmax(netout,dim=1)\n",
    "mat = torch.concat([X,h,netout/netout.max(),yhat],axis=1).data\n",
    "plt.matshow(mat[:6], vmin=-1, vmax=1, cmap=\"bwr\")\n",
    "plt.colorbar()\n",
    "plt.axvline(2.5,color=\"lime\")\n",
    "plt.axvline(4.5,color=\"lime\")\n",
    "plt.axvline(7.5,color=\"lime\")\n",
    "plt.xticks(ticks=[0,1,2,3,4,5,6,7,8,9,10],labels=[r\"$x_a$\", r\"$x_b$\", r\"$x_c$\",r\"$h_1$\",r\"$h_2$\",r\"$out_a$\",r\"$out_b$\",r\"$out_c$\",r\"$\\hat{y_a}$\",r\"$\\hat{y_b}$\",r\"$\\hat{y_c}$\"]);"
   ]
  },
  {
   "cell_type": "markdown",
   "id": "b7eb0c9b-dbfe-46a0-864c-9114dd128a15",
   "metadata": {},
   "source": [
    "`-` 시각화결과해석: 깔끔함. netout의 가장 빨간부분도 너무 명확함. ${\\boldsymbol h}$가 0이 아닌 값으로 학습되어있음 \n",
    "\n",
    "- x=a $\\Rightarrow$ h=(파,빨) $\\Rightarrow$ y=b \n",
    "- x=b $\\Rightarrow$ h=(빨,파) $\\Rightarrow$ y=c\n",
    "- x=c $\\Rightarrow$ h=(빨,빨) $\\Rightarrow$ y=a \n",
    "- h = (파,파) 는 사용하지 않음. --> 문자열 d를 하나 더 쓸수 있는 공간이 $h$에 있다고 해석할 수 있음.. "
   ]
  },
  {
   "cell_type": "markdown",
   "id": "e87b5455-e14e-4745-afb9-aaef7aca7b23",
   "metadata": {},
   "source": [
    "# 5. `abcd` 📝"
   ]
  },
  {
   "cell_type": "markdown",
   "id": "e55ebb0c-5412-496c-b7b4-58cb40b83097",
   "metadata": {},
   "source": [
    "## A. Data"
   ]
  },
  {
   "cell_type": "code",
   "execution_count": 60,
   "id": "2e1d352e-9d02-47e2-a3d9-668102247735",
   "metadata": {
    "tags": []
   },
   "outputs": [
    {
     "data": {
      "text/plain": [
       "['a', 'b', 'c', 'd', 'a', 'b', 'c', 'd', 'a', 'b']"
      ]
     },
     "execution_count": 60,
     "metadata": {},
     "output_type": "execute_result"
    }
   ],
   "source": [
    "txt = list('abcd'*100)\n",
    "txt[:10]"
   ]
  },
  {
   "cell_type": "code",
   "execution_count": 61,
   "id": "73a966dd-d3e8-420b-8404-088efbf97efc",
   "metadata": {
    "tags": []
   },
   "outputs": [
    {
     "data": {
      "text/html": [
       "<div>\n",
       "<style scoped>\n",
       "    .dataframe tbody tr th:only-of-type {\n",
       "        vertical-align: middle;\n",
       "    }\n",
       "\n",
       "    .dataframe tbody tr th {\n",
       "        vertical-align: top;\n",
       "    }\n",
       "\n",
       "    .dataframe thead th {\n",
       "        text-align: right;\n",
       "    }\n",
       "</style>\n",
       "<table border=\"1\" class=\"dataframe\">\n",
       "  <thead>\n",
       "    <tr style=\"text-align: right;\">\n",
       "      <th></th>\n",
       "      <th>x</th>\n",
       "      <th>y</th>\n",
       "    </tr>\n",
       "  </thead>\n",
       "  <tbody>\n",
       "    <tr>\n",
       "      <th>0</th>\n",
       "      <td>a</td>\n",
       "      <td>b</td>\n",
       "    </tr>\n",
       "    <tr>\n",
       "      <th>1</th>\n",
       "      <td>b</td>\n",
       "      <td>c</td>\n",
       "    </tr>\n",
       "    <tr>\n",
       "      <th>2</th>\n",
       "      <td>c</td>\n",
       "      <td>d</td>\n",
       "    </tr>\n",
       "    <tr>\n",
       "      <th>3</th>\n",
       "      <td>d</td>\n",
       "      <td>a</td>\n",
       "    </tr>\n",
       "    <tr>\n",
       "      <th>4</th>\n",
       "      <td>a</td>\n",
       "      <td>b</td>\n",
       "    </tr>\n",
       "  </tbody>\n",
       "</table>\n",
       "</div>"
      ],
      "text/plain": [
       "   x  y\n",
       "0  a  b\n",
       "1  b  c\n",
       "2  c  d\n",
       "3  d  a\n",
       "4  a  b"
      ]
     },
     "execution_count": 61,
     "metadata": {},
     "output_type": "execute_result"
    }
   ],
   "source": [
    "df_train = pd.DataFrame({'x':txt[:-1], 'y':txt[1:]})\n",
    "df_train[:5]"
   ]
  },
  {
   "cell_type": "code",
   "execution_count": 62,
   "id": "a5b20e3e-4ca9-48fa-9433-51658fbaca01",
   "metadata": {
    "tags": []
   },
   "outputs": [],
   "source": [
    "x = torch.tensor(df_train.x.map({'a':0, 'b':1, 'c':2, 'd':3}))\n",
    "y = torch.tensor(df_train.y.map({'a':0, 'b':1, 'c':2, 'd':3}))"
   ]
  },
  {
   "cell_type": "markdown",
   "id": "c5d01028-d55c-4e58-84f2-cd207e907fc8",
   "metadata": {},
   "source": [
    "## B. MLP -- 하나의 은닉노드"
   ]
  },
  {
   "cell_type": "markdown",
   "id": "c730ff2b-785a-491a-8e69-40bc9eea7513",
   "metadata": {},
   "source": [
    "🗣️("
   ]
  },
  {
   "cell_type": "markdown",
   "id": "1dd909cc-2832-4e03-a92d-bb2d2ab95a02",
   "metadata": {},
   "source": [
    "- 두개의 은닉노드가 필요하겠지만 전에 흰색을 활용했던 것처럼 어떻게 해서 잘 짜맞추면 하나로도 할 수 있지 않을까?\n",
    "    - ex) 빨강, 분홍, 하늘, 파랑"
   ]
  },
  {
   "cell_type": "code",
   "execution_count": 63,
   "id": "3191c578-5269-4610-9b93-0a23783997df",
   "metadata": {},
   "outputs": [],
   "source": [
    "torch.manual_seed(43052)\n",
    "net = torch.nn.Sequential(\n",
    "    torch.nn.Embedding(num_embeddings=4, embedding_dim=1), # 4차원\n",
    "    torch.nn.Tanh(), \n",
    "    torch.nn.Linear(1,4)\n",
    ")\n",
    "ebdd,tanh,linr = net \n",
    "\n",
    "loss_fn = torch.nn.CrossEntropyLoss()\n",
    "optimizr = torch.optim.Adam(net.parameters(),lr=0.1)\n",
    "#---#\n",
    "for epoc in range(50):\n",
    "    #1 \n",
    "    netout = net(x)\n",
    "    #2 \n",
    "    loss = loss_fn(netout,y)\n",
    "    #3\n",
    "    loss.backward()\n",
    "    #4\n",
    "    optimizr.step()\n",
    "    optimizr.zero_grad()"
   ]
  },
  {
   "cell_type": "code",
   "execution_count": 64,
   "id": "b28235c1-d3cd-451f-9597-500d5feb6fb6",
   "metadata": {},
   "outputs": [
    {
     "data": {
      "image/png": "[encoded data removed]",
      "text/plain": [
       "<Figure size 624x480 with 2 Axes>"
      ]
     },
     "metadata": {},
     "output_type": "display_data"
    }
   ],
   "source": [
    "ebdd,tanh,linr = net\n",
    "X = torch.nn.functional.one_hot(x)\n",
    "h = tanh(ebdd(x)).data\n",
    "netout = linr(tanh(ebdd(x))).data\n",
    "yhat = torch.nn.functional.softmax(net(x),dim=1).data\n",
    "mat = torch.concat([X,h,netout/netout.max(),yhat],axis=1)\n",
    "#---#\n",
    "plt.matshow(mat[:10, :],cmap=\"bwr\",vmin=-1,vmax=1)\n",
    "plt.colorbar()\n",
    "plt.axvline(3.5,color=\"lime\")\n",
    "plt.axvline(4.5,color=\"lime\")\n",
    "plt.axvline(8.5,color=\"lime\")\n",
    "plt.xticks(\n",
    "    ticks=[0,1,2,3,4,5,6,7,8,9,10,11,12],\n",
    "    labels=[\n",
    "        r\"$x_a$\",r\"$x_b$\",r\"$x_c$\",r\"$x_d$\",\n",
    "        r\"$h$\",\n",
    "        r\"$out_a$\",r\"$out_b$\",r\"$out_c$\",r\"$out_d$\",\n",
    "        r\"$\\hat{y}_a$\",r\"$\\hat{y}_b$\",r\"$\\hat{y}_c$\",r\"$\\hat{y}_d$\"]\n",
    ");"
   ]
  },
  {
   "cell_type": "markdown",
   "id": "15472352-fc7e-4ece-9309-5edede6a37a4",
   "metadata": {},
   "source": [
    "- 잘 안됨(특히 X가 c,d일 때)\n",
    "- 계속 해봐도 마찬가지로 잘 안됨\n",
    "- 잘 되는 weight 초기값을 찾아서 사용하면 되긴 함 (많은 시행착오 끝에)"
   ]
  },
  {
   "cell_type": "code",
   "execution_count": 65,
   "id": "cbec0ea0-a07c-4e0b-a22e-71f96b926160",
   "metadata": {},
   "outputs": [],
   "source": [
    "torch.manual_seed(43052)\n",
    "net = torch.nn.Sequential(\n",
    "    torch.nn.Embedding(num_embeddings=4, embedding_dim=1),\n",
    "    torch.nn.Tanh(), \n",
    "    torch.nn.Linear(1,4)\n",
    ")\n",
    "ebdd,tanh,linr = net \n",
    "ebdd.weight.data = torch.tensor([[-0.3333],[-2.5000],[5.0000],[0.3333]])\n",
    "linr.weight.data = torch.tensor([[1.5000],[-6.0000],[-2.0000],[6.0000]])\n",
    "linr.bias.data = torch.tensor([0.1500, -2.0000,  0.1500, -2.000])\n",
    "\n",
    "loss_fn = torch.nn.CrossEntropyLoss()\n",
    "optimizr = torch.optim.Adam(net.parameters(),lr=0.1)\n",
    "#---#\n",
    "for epoc in range(50):\n",
    "    #1 \n",
    "    netout = net(x)\n",
    "    #2 \n",
    "    loss = loss_fn(netout,y)\n",
    "    #3\n",
    "    loss.backward()\n",
    "    #4\n",
    "    optimizr.step()\n",
    "    optimizr.zero_grad()"
   ]
  },
  {
   "cell_type": "code",
   "execution_count": 66,
   "id": "b55f9af3-dc9b-404a-b8a2-a97ad3a2471c",
   "metadata": {},
   "outputs": [
    {
     "data": {
      "image/png": "[encoded data removed]",
      "text/plain": [
       "<Figure size 624x480 with 2 Axes>"
      ]
     },
     "metadata": {},
     "output_type": "display_data"
    }
   ],
   "source": [
    "ebdd,tanh,linr = net\n",
    "X = torch.nn.functional.one_hot(x)\n",
    "h = tanh(ebdd(x)).data\n",
    "netout = linr(tanh(ebdd(x))).data\n",
    "yhat = torch.nn.functional.softmax(net(x),dim=1).data\n",
    "mat = torch.concat([X,h,netout/netout.max(),yhat],axis=1)\n",
    "#---#\n",
    "plt.matshow(mat[:10, :],cmap=\"bwr\",vmin=-1,vmax=1)\n",
    "plt.colorbar()\n",
    "plt.axvline(3.5,color=\"lime\")\n",
    "plt.axvline(4.5,color=\"lime\")\n",
    "plt.axvline(8.5,color=\"lime\")\n",
    "plt.xticks(\n",
    "    ticks=[0,1,2,3,4,5,6,7,8,9,10,11,12],\n",
    "    labels=[\n",
    "        r\"$x_a$\",r\"$x_b$\",r\"$x_c$\",r\"$x_d$\",\n",
    "        r\"$h$\",\n",
    "        r\"$out_a$\",r\"$out_b$\",r\"$out_c$\",r\"$out_d$\",\n",
    "        r\"$\\hat{y}_a$\",r\"$\\hat{y}_b$\",r\"$\\hat{y}_c$\",r\"$\\hat{y}_d$\"]\n",
    ");"
   ]
  },
  {
   "cell_type": "markdown",
   "id": "b8b93936-edb9-4b32-96ec-104728357c00",
   "metadata": {},
   "source": [
    "- 생각했던대로 빨강, 분홍, 하늘, 파랑 으로 구분되긴 함\n",
    "- 확률들이 깔끔하진 않음\n",
    "- 이렇게 하는 것보다 당연히 두 개의 은닉 노드를 사용하는 것이 깔끔"
   ]
  },
  {
   "cell_type": "markdown",
   "id": "f50295c2-b76e-4248-971d-6e77fda57865",
   "metadata": {},
   "source": [
    ")🗣️"
   ]
  },
  {
   "cell_type": "markdown",
   "id": "ac8d54aa-251f-4d3e-96cc-79c478656a1b",
   "metadata": {},
   "source": [
    "`-` 적합"
   ]
  },
  {
   "cell_type": "code",
   "execution_count": 164,
   "id": "2045716d-8d31-4201-98b7-9baa4d1e26ef",
   "metadata": {},
   "outputs": [],
   "source": [
    "torch.manual_seed(43052)\n",
    "net = torch.nn.Sequential(\n",
    "    torch.nn.Embedding(num_embeddings=4, embedding_dim=1),\n",
    "    torch.nn.Tanh(), \n",
    "    torch.nn.Linear(1,4)\n",
    ")\n",
    "ebdd,tanh,linr = net \n",
    "ebdd.weight.data = torch.tensor([[-0.3333],[-2.5000],[5.0000],[0.3333]])\n",
    "linr.weight.data = torch.tensor([[1.5000],[-6.0000],[-2.0000],[6.0000]])\n",
    "linr.bias.data = torch.tensor([0.1500, -2.0000,  0.1500, -2.000])\n",
    "\n",
    "loss_fn = torch.nn.CrossEntropyLoss()\n",
    "optimizr = torch.optim.Adam(net.parameters(),lr=0.1)\n",
    "#---#\n",
    "for epoc in range(50):\n",
    "    #1 \n",
    "    netout = net(x)\n",
    "    #2 \n",
    "    loss = loss_fn(netout,y)\n",
    "    #3\n",
    "    loss.backward()\n",
    "    #4\n",
    "    optimizr.step()\n",
    "    optimizr.zero_grad()"
   ]
  },
  {
   "cell_type": "markdown",
   "id": "3a3d972a-4de5-48f3-8d7d-bfcbcad4fd6e",
   "metadata": {},
   "source": [
    "`-` 결과시각화"
   ]
  },
  {
   "cell_type": "code",
   "execution_count": 165,
   "id": "3afc472d-c018-4330-95f1-cef07785d3e5",
   "metadata": {},
   "outputs": [
    {
     "data": {
      "image/png": "[encoded data removed]",
      "text/plain": [
       "<Figure size 624x480 with 2 Axes>"
      ]
     },
     "metadata": {},
     "output_type": "display_data"
    }
   ],
   "source": [
    "ebdd,tanh,linr = net\n",
    "X = torch.nn.functional.one_hot(x)\n",
    "h = tanh(ebdd(x)).data\n",
    "netout = linr(tanh(ebdd(x))).data\n",
    "yhat = torch.nn.functional.softmax(net(x),dim=1).data\n",
    "mat = torch.concat([X,h,netout/netout.max(),yhat],axis=1)\n",
    "#---#\n",
    "plt.matshow(mat[:10, :],cmap=\"bwr\",vmin=-1,vmax=1)\n",
    "plt.colorbar()\n",
    "plt.axvline(3.5,color=\"lime\")\n",
    "plt.axvline(4.5,color=\"lime\")\n",
    "plt.axvline(8.5,color=\"lime\")\n",
    "plt.xticks(\n",
    "    ticks=[0,1,2,3,4,5,6,7,8,9,10,11,12],\n",
    "    labels=[\n",
    "        r\"$x_a$\",r\"$x_b$\",r\"$x_c$\",r\"$x_d$\",\n",
    "        r\"$h$\",\n",
    "        r\"$out_a$\",r\"$out_b$\",r\"$out_c$\",r\"$out_d$\",\n",
    "        r\"$\\hat{y}_a$\",r\"$\\hat{y}_b$\",r\"$\\hat{y}_c$\",r\"$\\hat{y}_d$\"]\n",
    ");"
   ]
  },
  {
   "cell_type": "markdown",
   "id": "edb8b872-935d-4f85-b836-d9c669d137a2",
   "metadata": {},
   "source": [
    "## C. MLP -- 두개의 은닉노드 "
   ]
  },
  {
   "cell_type": "markdown",
   "id": "a3236ec6-c21a-4c0a-bd47-c34691b6a44a",
   "metadata": {},
   "source": [
    "🗣️("
   ]
  },
  {
   "cell_type": "code",
   "execution_count": 69,
   "id": "d2b88fb1-9d10-4ffa-a695-d48e2a5d22aa",
   "metadata": {},
   "outputs": [],
   "source": [
    "#torch.manual_seed(43052)\n",
    "net = torch.nn.Sequential(\n",
    "    torch.nn.Embedding(num_embeddings=4, embedding_dim=2),\n",
    "    torch.nn.Tanh(), \n",
    "    torch.nn.Linear(2,4)\n",
    ")\n",
    "loss_fn = torch.nn.CrossEntropyLoss()\n",
    "optimizr = torch.optim.Adam(net.parameters(),lr=0.1)\n",
    "#---#\n",
    "for epoc in range(50):\n",
    "    #1 \n",
    "    netout = net(x)\n",
    "    #2 \n",
    "    loss = loss_fn(netout,y)\n",
    "    #3\n",
    "    loss.backward()\n",
    "    #4\n",
    "    optimizr.step()\n",
    "    optimizr.zero_grad()"
   ]
  },
  {
   "cell_type": "code",
   "execution_count": 70,
   "id": "d9be2748-29c6-4a4b-849e-1bc348177ad1",
   "metadata": {},
   "outputs": [
    {
     "data": {
      "image/png": "[encoded data removed]",
      "text/plain": [
       "<Figure size 672x480 with 2 Axes>"
      ]
     },
     "metadata": {},
     "output_type": "display_data"
    }
   ],
   "source": [
    "ebdd,tanh,linr = net\n",
    "X = torch.nn.functional.one_hot(x)\n",
    "h = tanh(ebdd(x)).data\n",
    "netout = linr(tanh(ebdd(x))).data\n",
    "yhat = torch.nn.functional.softmax(net(x),dim=1).data\n",
    "mat = torch.concat([X,h,netout/netout.max(),yhat],axis=1)\n",
    "#---#\n",
    "plt.matshow(mat[:10, :],cmap=\"bwr\",vmin=-1,vmax=1)\n",
    "plt.colorbar()\n",
    "plt.axvline(3.5,color=\"lime\")\n",
    "plt.axvline(5.5,color=\"lime\")\n",
    "plt.axvline(9.5,color=\"lime\")\n",
    "plt.xticks(\n",
    "    ticks=[0,1,2,3,4,5,6,7,8,9,10,11,12,13],\n",
    "    labels=[\n",
    "        r\"$x_a$\",r\"$x_b$\",r\"$x_c$\",r\"$x_d$\",\n",
    "        r\"$h_1$\",r\"$h_2$\",\n",
    "        r\"$out_a$\",r\"$out_b$\",r\"$out_c$\",r\"$out_d$\",\n",
    "        r\"$\\hat{y}_a$\",r\"$\\hat{y}_b$\",r\"$\\hat{y}_c$\",r\"$\\hat{y}_d$\"]\n",
    ");"
   ]
  },
  {
   "cell_type": "markdown",
   "id": "2418a3e3-e2bd-487c-a531-e621e90c1a80",
   "metadata": {},
   "source": [
    "- 돌릴 때마다 결과가 달라지긴 하지만 (흰색이 나오는 경우도 있음) 대체적으로 깔끔하게 됨\n",
    "- h의 dimension이 커지면 표현에 유리하기 때문"
   ]
  },
  {
   "cell_type": "markdown",
   "id": "812744c3-e526-4d0e-afb3-455cb2618234",
   "metadata": {},
   "source": [
    ")🗣️"
   ]
  },
  {
   "cell_type": "markdown",
   "id": "66bd07a5-d1fc-4cbb-8e7c-4ab4afed1916",
   "metadata": {},
   "source": [
    "`-` 적합"
   ]
  },
  {
   "cell_type": "code",
   "execution_count": 170,
   "id": "0f876f1b-8f79-4ebe-a3c5-cf8d5a0f5ead",
   "metadata": {},
   "outputs": [],
   "source": [
    "#torch.manual_seed(43052)\n",
    "net = torch.nn.Sequential(\n",
    "    torch.nn.Embedding(num_embeddings=4, embedding_dim=2),\n",
    "    torch.nn.Tanh(), \n",
    "    torch.nn.Linear(2,4)\n",
    ")\n",
    "loss_fn = torch.nn.CrossEntropyLoss()\n",
    "optimizr = torch.optim.Adam(net.parameters(),lr=0.1)\n",
    "#---#\n",
    "for epoc in range(50):\n",
    "    #1 \n",
    "    netout = net(x)\n",
    "    #2 \n",
    "    loss = loss_fn(netout,y)\n",
    "    #3\n",
    "    loss.backward()\n",
    "    #4\n",
    "    optimizr.step()\n",
    "    optimizr.zero_grad()"
   ]
  },
  {
   "cell_type": "markdown",
   "id": "ccfb17df-181d-4062-a363-c3a2e8c6163a",
   "metadata": {},
   "source": [
    "`-` 결과시각화"
   ]
  },
  {
   "cell_type": "code",
   "execution_count": 171,
   "id": "3655ef6e-ea16-4d46-8728-a052ac83ff8f",
   "metadata": {},
   "outputs": [
    {
     "data": {
      "image/png": "[encoded data removed]",
      "text/plain": [
       "<Figure size 672x480 with 2 Axes>"
      ]
     },
     "metadata": {},
     "output_type": "display_data"
    }
   ],
   "source": [
    "ebdd,tanh,linr = net\n",
    "X = torch.nn.functional.one_hot(x)\n",
    "h = tanh(ebdd(x)).data\n",
    "netout = linr(tanh(ebdd(x))).data\n",
    "yhat = torch.nn.functional.softmax(net(x),dim=1).data\n",
    "mat = torch.concat([X,h,netout/netout.max(),yhat],axis=1)\n",
    "#---#\n",
    "plt.matshow(mat[:10, :],cmap=\"bwr\",vmin=-1,vmax=1)\n",
    "plt.colorbar()\n",
    "plt.axvline(3.5,color=\"lime\")\n",
    "plt.axvline(5.5,color=\"lime\")\n",
    "plt.axvline(9.5,color=\"lime\")\n",
    "plt.xticks(\n",
    "    ticks=[0,1,2,3,4,5,6,7,8,9,10,11,12,13],\n",
    "    labels=[\n",
    "        r\"$x_a$\",r\"$x_b$\",r\"$x_c$\",r\"$x_d$\",\n",
    "        r\"$h_1$\",r\"$h_2$\",\n",
    "        r\"$out_a$\",r\"$out_b$\",r\"$out_c$\",r\"$out_d$\",\n",
    "        r\"$\\hat{y}_a$\",r\"$\\hat{y}_b$\",r\"$\\hat{y}_c$\",r\"$\\hat{y}_d$\"]\n",
    ");"
   ]
  },
  {
   "cell_type": "markdown",
   "id": "6312ee64-2333-4125-8a2d-b8646e693e2d",
   "metadata": {},
   "source": [
    "## D. 비교실험 "
   ]
  },
  {
   "cell_type": "markdown",
   "id": "4d46dfe5-2e4f-49fe-977e-02013dc1dcf6",
   "metadata": {},
   "source": [
    "🗣️("
   ]
  },
  {
   "cell_type": "markdown",
   "id": "867af657-02f2-4024-939c-a21f693b2a7f",
   "metadata": {},
   "source": [
    "- 사용자 정의 network 이용\n",
    "    - Net1: 히든 노드 1 (4 -> 1)\n",
    "    - Net2: 히든 노드 2 (4 -> 2)"
   ]
  },
  {
   "cell_type": "code",
   "execution_count": 71,
   "id": "c33310fb-d439-4550-a78b-a2ad9153a9e4",
   "metadata": {
    "tags": []
   },
   "outputs": [],
   "source": [
    "class Net1(torch.nn.Module):\n",
    "    def __init__(self):\n",
    "        super().__init__()\n",
    "        ## 우리가 yhat을 구할때 사용할 레이어를 정의 \n",
    "        self.ebdd = torch.nn.Embedding(4,1)\n",
    "        self.tanh = torch.nn.Tanh()\n",
    "        self.linr = torch.nn.Linear(1,4)\n",
    "        ## 정의 끝\n",
    "    def forward(self,X):\n",
    "        ## yhat을 어떻게 구할것인지 정의 \n",
    "        ebdd_x = self.ebdd(x)\n",
    "        h = self.tanh(ebdd_x)\n",
    "        netout = self.linr(h)\n",
    "        ## 정의 끝\n",
    "        return netout"
   ]
  },
  {
   "cell_type": "code",
   "execution_count": 72,
   "id": "5cfdf89b-0653-4f76-aeac-6f08fc8e1e56",
   "metadata": {
    "tags": []
   },
   "outputs": [],
   "source": [
    "class Net2(torch.nn.Module):\n",
    "    def __init__(self):\n",
    "        super().__init__()\n",
    "        ## 우리가 yhat을 구할때 사용할 레이어를 정의 \n",
    "        self.ebdd = torch.nn.Embedding(4,2)\n",
    "        self.tanh = torch.nn.Tanh()\n",
    "        self.linr = torch.nn.Linear(2,4)\n",
    "        ## 정의 끝\n",
    "    def forward(self,X):\n",
    "        ## yhat을 어떻게 구할것인지 정의 \n",
    "        ebdd_x = self.ebdd(x)\n",
    "        h = self.tanh(ebdd_x)\n",
    "        netout = self.linr(h)\n",
    "        ## 정의 끝\n",
    "        return netout"
   ]
  },
  {
   "cell_type": "markdown",
   "id": "044ba122-fa34-4402-8944-7d7b58560786",
   "metadata": {},
   "source": [
    "- 시각화는 h와 yhat만 함 (25개의 초기값으로)"
   ]
  },
  {
   "cell_type": "code",
   "execution_count": 74,
   "id": "58c76bd3-923e-4847-9d66-083c026a27a2",
   "metadata": {
    "tags": []
   },
   "outputs": [
    {
     "data": {
      "image/png": "[encoded data removed]",
      "text/plain": [
       "<Figure size 1000x1000 with 25 Axes>"
      ]
     },
     "metadata": {},
     "output_type": "display_data"
    }
   ],
   "source": [
    "fig, ax = plt.subplots(5,5,figsize=(10,10))\n",
    "for i in range(5):\n",
    "    for j in range(5):\n",
    "        net = Net1()\n",
    "        optimizr = torch.optim.Adam(net.parameters(),lr=0.1)\n",
    "        loss_fn = torch.nn.CrossEntropyLoss()\n",
    "        for epoc in range(50):\n",
    "            ## 1 \n",
    "            netout = net(x)\n",
    "            ## 2 \n",
    "            loss = loss_fn(netout,y)\n",
    "            ## 3 \n",
    "            loss.backward()\n",
    "            ## 4 \n",
    "            optimizr.step()\n",
    "            optimizr.zero_grad()\n",
    "        h = net.tanh(net.ebdd(x)).data\n",
    "        yhat = torch.nn.functional.softmax(net(x),dim=1).data\n",
    "        mat = torch.concat([h,yhat],axis=1)\n",
    "        ax[i][j].matshow(mat[:6, :],cmap='bwr',vmin=-1,vmax=1)\n",
    "        ax[i][j].axvline(0.5,color='lime')\n",
    "        ax[i][j].set_xticks(ticks=[0,1,2,3,4],labels=[r\"$h$\",r\"$\\hat{y}_a$\",r\"$\\hat{y}_b$\",r\"$\\hat{y}_c$\",r\"$\\hat{y}_d$\"])\n",
    "fig.suptitle(\"# of hidden nodes = 1\", size=20)\n",
    "fig.tight_layout()"
   ]
  },
  {
   "cell_type": "markdown",
   "id": "aea88882-13b6-4070-a8d5-1dfb4a70706f",
   "metadata": {},
   "source": [
    "- 잘 된 경우가 거의 없음\n",
    "- 잘 되더라도 깔끔하진 않음"
   ]
  },
  {
   "cell_type": "code",
   "execution_count": 73,
   "id": "a88b735a-3e3a-47ea-b684-ca73e3d5f40b",
   "metadata": {
    "tags": []
   },
   "outputs": [
    {
     "data": {
      "image/png": "[encoded data removed]",
      "text/plain": [
       "<Figure size 1000x1000 with 25 Axes>"
      ]
     },
     "metadata": {},
     "output_type": "display_data"
    }
   ],
   "source": [
    "fig, ax = plt.subplots(5,5,figsize=(10,10))\n",
    "for i in range(5):\n",
    "    for j in range(5):\n",
    "        net = Net2()\n",
    "        optimizr = torch.optim.Adam(net.parameters(),lr=0.1)\n",
    "        loss_fn = torch.nn.CrossEntropyLoss()\n",
    "        for epoc in range(50):\n",
    "            ## 1 \n",
    "            netout = net(x)\n",
    "            ## 2 \n",
    "            loss = loss_fn(netout,y)\n",
    "            ## 3 \n",
    "            loss.backward()\n",
    "            ## 4 \n",
    "            optimizr.step()\n",
    "            optimizr.zero_grad()\n",
    "        h = net.tanh(net.ebdd(x)).data\n",
    "        yhat = torch.nn.functional.softmax(net(x),dim=1).data\n",
    "        mat = torch.concat([h,yhat],axis=1)\n",
    "        ax[i][j].matshow(mat[:6, :],cmap='bwr',vmin=-1,vmax=1)\n",
    "        ax[i][j].axvline(1.5,color='lime')\n",
    "        ax[i][j].set_xticks(ticks=[0,1,2,3,4,5],labels=[r\"$h_1$\",r\"$h_2$\",r\"$\\hat{y}_a$\",r\"$\\hat{y}_b$\",r\"$\\hat{y}_c$\",r\"$\\hat{y}_d$\"])\n",
    "fig.suptitle(\"# of hidden nodes = 2\", size=20)\n",
    "fig.tight_layout()        "
   ]
  },
  {
   "cell_type": "markdown",
   "id": "38ec422c-5dda-412a-938f-b9782900f77e",
   "metadata": {},
   "source": [
    "- 거의 clear하게 구분 됨\n",
    "- 강의 영상에서는 모든 경우가 clear 함"
   ]
  },
  {
   "cell_type": "markdown",
   "id": "980c8680-a681-4d6c-a559-3c79de1f3acb",
   "metadata": {},
   "source": [
    ")🗣️"
   ]
  },
  {
   "cell_type": "code",
   "execution_count": 172,
   "id": "fc37fb99-0fcd-4852-8200-050d01fb275c",
   "metadata": {
    "tags": []
   },
   "outputs": [],
   "source": [
    "class Net1(torch.nn.Module):\n",
    "    def __init__(self):\n",
    "        super().__init__()\n",
    "        ## 우리가 yhat을 구할때 사용할 레이어를 정의 \n",
    "        self.ebdd = torch.nn.Embedding(4,1)\n",
    "        self.tanh = torch.nn.Tanh()\n",
    "        self.linr = torch.nn.Linear(1,4)\n",
    "        ## 정의 끝\n",
    "    def forward(self,X):\n",
    "        ## yhat을 어떻게 구할것인지 정의 \n",
    "        ebdd_x = self.ebdd(x)\n",
    "        h = self.tanh(ebdd_x)\n",
    "        netout = self.linr(h)\n",
    "        ## 정의 끝\n",
    "        return netout"
   ]
  },
  {
   "cell_type": "code",
   "execution_count": 173,
   "id": "153ae171-f396-4ff4-9c9e-987d1b71f250",
   "metadata": {
    "tags": []
   },
   "outputs": [],
   "source": [
    "class Net2(torch.nn.Module):\n",
    "    def __init__(self):\n",
    "        super().__init__()\n",
    "        ## 우리가 yhat을 구할때 사용할 레이어를 정의 \n",
    "        self.ebdd = torch.nn.Embedding(4,2)\n",
    "        self.tanh = torch.nn.Tanh()\n",
    "        self.linr = torch.nn.Linear(2,4)\n",
    "        ## 정의 끝\n",
    "    def forward(self,X):\n",
    "        ## yhat을 어떻게 구할것인지 정의 \n",
    "        ebdd_x = self.ebdd(x)\n",
    "        h = self.tanh(ebdd_x)\n",
    "        netout = self.linr(h)\n",
    "        ## 정의 끝\n",
    "        return netout"
   ]
  },
  {
   "cell_type": "code",
   "execution_count": 174,
   "id": "35221938-77dc-491d-bc45-1f0fa903edf6",
   "metadata": {
    "tags": []
   },
   "outputs": [
    {
     "data": {
      "image/png": "[encoded data removed]",
      "text/plain": [
       "<Figure size 1000x1000 with 25 Axes>"
      ]
     },
     "metadata": {},
     "output_type": "display_data"
    }
   ],
   "source": [
    "fig, ax = plt.subplots(5,5,figsize=(10,10))\n",
    "for i in range(5):\n",
    "    for j in range(5):\n",
    "        net = Net1()\n",
    "        optimizr = torch.optim.Adam(net.parameters(),lr=0.1)\n",
    "        loss_fn = torch.nn.CrossEntropyLoss()\n",
    "        for epoc in range(50):\n",
    "            ## 1 \n",
    "            netout = net(x)\n",
    "            ## 2 \n",
    "            loss = loss_fn(netout,y)\n",
    "            ## 3 \n",
    "            loss.backward()\n",
    "            ## 4 \n",
    "            optimizr.step()\n",
    "            optimizr.zero_grad()\n",
    "        h = net.tanh(net.ebdd(x)).data\n",
    "        yhat = torch.nn.functional.softmax(net(x),dim=1).data\n",
    "        mat = torch.concat([h,yhat],axis=1)\n",
    "        ax[i][j].matshow(mat[:6, :],cmap='bwr',vmin=-1,vmax=1)\n",
    "        ax[i][j].axvline(0.5,color='lime')\n",
    "        ax[i][j].set_xticks(ticks=[0,1,2,3,4],labels=[r\"$h$\",r\"$\\hat{y}_a$\",r\"$\\hat{y}_b$\",r\"$\\hat{y}_c$\",r\"$\\hat{y}_d$\"])\n",
    "fig.suptitle(\"# of hidden nodes = 1\", size=20)\n",
    "fig.tight_layout()"
   ]
  },
  {
   "cell_type": "code",
   "execution_count": 175,
   "id": "616a48c3-a7a2-46e1-b204-ab760b9d4fc8",
   "metadata": {
    "tags": []
   },
   "outputs": [
    {
     "data": {
      "image/png": "[encoded data removed]",
      "text/plain": [
       "<Figure size 1000x1000 with 25 Axes>"
      ]
     },
     "metadata": {},
     "output_type": "display_data"
    }
   ],
   "source": [
    "fig, ax = plt.subplots(5,5,figsize=(10,10))\n",
    "for i in range(5):\n",
    "    for j in range(5):\n",
    "        net = Net2()\n",
    "        optimizr = torch.optim.Adam(net.parameters(),lr=0.1)\n",
    "        loss_fn = torch.nn.CrossEntropyLoss()\n",
    "        for epoc in range(50):\n",
    "            ## 1 \n",
    "            netout = net(x)\n",
    "            ## 2 \n",
    "            loss = loss_fn(netout,y)\n",
    "            ## 3 \n",
    "            loss.backward()\n",
    "            ## 4 \n",
    "            optimizr.step()\n",
    "            optimizr.zero_grad()\n",
    "        h = net.tanh(net.ebdd(x)).data\n",
    "        yhat = torch.nn.functional.softmax(net(x),dim=1).data\n",
    "        mat = torch.concat([h,yhat],axis=1)\n",
    "        ax[i][j].matshow(mat[:6, :],cmap='bwr',vmin=-1,vmax=1)\n",
    "        ax[i][j].axvline(1.5,color='lime')\n",
    "        ax[i][j].set_xticks(ticks=[0,1,2,3,4,5],labels=[r\"$h_1$\",r\"$h_2$\",r\"$\\hat{y}_a$\",r\"$\\hat{y}_b$\",r\"$\\hat{y}_c$\",r\"$\\hat{y}_d$\"])\n",
    "fig.suptitle(\"# of hidden nodes = 2\", size=20)\n",
    "fig.tight_layout()        "
   ]
  },
  {
   "cell_type": "markdown",
   "id": "9fcd1c63-9890-4d18-bbdc-55e8f18208aa",
   "metadata": {},
   "source": [
    "# 6. ${\\boldsymbol h}$ 에 대하여 ($\\star\\star\\star$) 📝"
   ]
  },
  {
   "cell_type": "markdown",
   "id": "24c76ec5-147c-4ecb-9287-38fb3193d0b6",
   "metadata": {},
   "source": [
    "🗣️("
   ]
  },
  {
   "cell_type": "markdown",
   "id": "e02ff1df-d919-4b3c-9f82-90608ad37bb0",
   "metadata": {},
   "source": [
    "```\n",
    "  x     X       h\n",
    "a 0  1 0 0 0  -1 1\n",
    "b 1  0 1 0 0   1 1\n",
    "c 2  0 0 1 0   1 -1\n",
    "d 3  0 0 0 1  -1 -1\n",
    "```"
   ]
  },
  {
   "cell_type": "markdown",
   "id": "1d737bca-e3c7-4a31-bd7b-1a2b99740cd6",
   "metadata": {},
   "source": [
    "- h는 입력에 대한 또 다른 표현\n",
    "    - one hot encoding보다 dimension이 기본적으로 작음\n",
    "    - 잘 안 쓰는 이유: True 값을 모름 (hidden feature)\n",
    "    - a,b,c,d가 서로 독립적이지 않으면 -1, 1 로 embedding 하기가 어려움\n",
    "    - 예전에는 관련 분야 전문가가 수치를 지정하였지만\n",
    "    - AI가 나온 다음에는 있다고 치고 학습을 함 "
   ]
  },
  {
   "cell_type": "markdown",
   "id": "3e46b66d-7dd4-4b04-88fd-c6ecfac4d345",
   "metadata": {},
   "source": [
    ")🗣️"
   ]
  },
  {
   "cell_type": "markdown",
   "id": "45c437cd-1dc1-44ec-80bd-9c4d60ae0fba",
   "metadata": {},
   "source": [
    "`-` ${\\boldsymbol h}$는 사실 문자열 \"abcd\"들을 숫자로 바꾼 표현이라 해석할 수 있음. 즉 원핫인코딩과 다른 또 다른 형태의 숫자표현이라 해석할 수 있다. "
   ]
  },
  {
   "cell_type": "markdown",
   "id": "7f05b879-ec2a-483f-89d3-2982c41f2f2f",
   "metadata": {},
   "source": [
    "`-` 사실 ${\\boldsymbol h}$는 원핫인코딩보다 약간 더 (1) 액기스만 남은 느낌 + (2) 숙성된 느낌을 준다\n",
    "\n",
    "- (why1) ${\\boldsymbol h}$는 ${\\boldsymbol x}$ 보다 ${\\boldsymbol y}$를 예측함에 좀 더 직접적인 역할을 한다. 즉 ${\\boldsymbol x}$ 숫자보다 ${\\boldsymbol h}$ 숫자가 잘 정리되어 있고 (차원이 낮고) 입력의 특징을 잘 정리한 (추천시스템의 MBTI처럼) 의미있는 숫자이다. \n",
    "- (why2) ${\\boldsymbol x}$는 학습없이 그냥 얻어지는 숫자표현이지만, ${\\boldsymbol h}$는 학습을 통하여 고치고 고치고 고친 숫자표현이다. "
   ]
  },
  {
   "cell_type": "markdown",
   "id": "50b6de88-b955-46d5-9e24-171e29c036d0",
   "metadata": {},
   "source": [
    "# 7. `AbAcAd` -- 실패 📝"
   ]
  },
  {
   "cell_type": "markdown",
   "id": "8982e6dc-3d24-4ceb-9feb-28f3501974b3",
   "metadata": {},
   "source": [
    "🗣️("
   ]
  },
  {
   "cell_type": "markdown",
   "id": "0f18662f-a846-4ecd-8adc-374243e006b5",
   "metadata": {},
   "source": [
    "```\n",
    "A b A c A d A b\n",
    "\n",
    "A 다음에는 b,c,d 중 하나\n",
    "bcd 다음에는 A\n",
    "\n",
    "A와 bcd는 유사성 때문에 구분이 잘 되지 않음 (공간이 있어도)\n",
    "```"
   ]
  },
  {
   "cell_type": "markdown",
   "id": "fd2d2d73-0219-45ac-a810-a02600e4137e",
   "metadata": {},
   "source": [
    ")🗣️"
   ]
  },
  {
   "cell_type": "markdown",
   "id": "296bb6ef-9280-4300-b440-2b9b21c273a8",
   "metadata": {},
   "source": [
    "## A. Data"
   ]
  },
  {
   "cell_type": "code",
   "execution_count": 75,
   "id": "533e00f2-64bc-4ea4-bd54-4d85b324aee8",
   "metadata": {
    "tags": []
   },
   "outputs": [
    {
     "data": {
      "text/plain": [
       "['A', 'b', 'A', 'c', 'A', 'd', 'A', 'b', 'A', 'c']"
      ]
     },
     "execution_count": 75,
     "metadata": {},
     "output_type": "execute_result"
    }
   ],
   "source": [
    "txt = list('AbAcAd'*50)\n",
    "txt[:10]"
   ]
  },
  {
   "cell_type": "code",
   "execution_count": 76,
   "id": "1e9369a9-d347-4155-a8bc-46f1e53cdc50",
   "metadata": {
    "tags": []
   },
   "outputs": [
    {
     "data": {
      "text/html": [
       "<div>\n",
       "<style scoped>\n",
       "    .dataframe tbody tr th:only-of-type {\n",
       "        vertical-align: middle;\n",
       "    }\n",
       "\n",
       "    .dataframe tbody tr th {\n",
       "        vertical-align: top;\n",
       "    }\n",
       "\n",
       "    .dataframe thead th {\n",
       "        text-align: right;\n",
       "    }\n",
       "</style>\n",
       "<table border=\"1\" class=\"dataframe\">\n",
       "  <thead>\n",
       "    <tr style=\"text-align: right;\">\n",
       "      <th></th>\n",
       "      <th>x</th>\n",
       "      <th>y</th>\n",
       "    </tr>\n",
       "  </thead>\n",
       "  <tbody>\n",
       "    <tr>\n",
       "      <th>0</th>\n",
       "      <td>A</td>\n",
       "      <td>b</td>\n",
       "    </tr>\n",
       "    <tr>\n",
       "      <th>1</th>\n",
       "      <td>b</td>\n",
       "      <td>A</td>\n",
       "    </tr>\n",
       "    <tr>\n",
       "      <th>2</th>\n",
       "      <td>A</td>\n",
       "      <td>c</td>\n",
       "    </tr>\n",
       "    <tr>\n",
       "      <th>3</th>\n",
       "      <td>c</td>\n",
       "      <td>A</td>\n",
       "    </tr>\n",
       "    <tr>\n",
       "      <th>4</th>\n",
       "      <td>A</td>\n",
       "      <td>d</td>\n",
       "    </tr>\n",
       "  </tbody>\n",
       "</table>\n",
       "</div>"
      ],
      "text/plain": [
       "   x  y\n",
       "0  A  b\n",
       "1  b  A\n",
       "2  A  c\n",
       "3  c  A\n",
       "4  A  d"
      ]
     },
     "execution_count": 76,
     "metadata": {},
     "output_type": "execute_result"
    }
   ],
   "source": [
    "df_train = pd.DataFrame({'x':txt[:-1], 'y':txt[1:]})\n",
    "df_train[:5]"
   ]
  },
  {
   "cell_type": "code",
   "execution_count": 77,
   "id": "18f7b39a-e434-45df-bd4f-321ec6ba44a4",
   "metadata": {
    "tags": []
   },
   "outputs": [],
   "source": [
    "x = torch.tensor(df_train.x.map({'A':0,'b':1,'c':2,'d':3}))\n",
    "y = torch.tensor(df_train.y.map({'A':0,'b':1,'c':2,'d':3}))"
   ]
  },
  {
   "cell_type": "code",
   "execution_count": 78,
   "id": "a2f52d78-aefa-49fa-a443-e5cb51ecf67c",
   "metadata": {
    "tags": []
   },
   "outputs": [
    {
     "data": {
      "text/plain": [
       "(tensor([0, 1, 0, 2, 0, 3, 0, 1]), tensor([1, 0, 2, 0, 3, 0, 1, 0]))"
      ]
     },
     "execution_count": 78,
     "metadata": {},
     "output_type": "execute_result"
    }
   ],
   "source": [
    "x[:8],y[:8]"
   ]
  },
  {
   "cell_type": "markdown",
   "id": "6deadeba-7aad-49fd-b9fb-23750184deb2",
   "metadata": {},
   "source": [
    "## B. MLP -- 두개의 은닉노드 (실패)"
   ]
  },
  {
   "cell_type": "markdown",
   "id": "62024b8a-aacf-425c-9d72-c368b20c5434",
   "metadata": {},
   "source": [
    "🗣️("
   ]
  },
  {
   "cell_type": "code",
   "execution_count": 79,
   "id": "ea5bca0a-6bb6-41a0-9d03-27a686b05e90",
   "metadata": {},
   "outputs": [],
   "source": [
    "net = torch.nn.Sequential(\n",
    "    torch.nn.Embedding(4,2),\n",
    "    torch.nn.Tanh(),\n",
    "    torch.nn.Linear(2,4)\n",
    ")\n",
    "loss_fn = torch.nn.CrossEntropyLoss()\n",
    "optimizr = torch.optim.Adam(net.parameters(),lr=0.1)\n",
    "#---#\n",
    "for epoc in range(100):\n",
    "    #1\n",
    "    netout = net(x)\n",
    "    #2\n",
    "    loss = loss_fn(netout,y)\n",
    "    #3\n",
    "    loss.backward()\n",
    "    #4 \n",
    "    optimizr.step()\n",
    "    optimizr.zero_grad()"
   ]
  },
  {
   "cell_type": "code",
   "execution_count": 80,
   "id": "c52afe29-fdc1-4ba6-ac53-2de44105a58b",
   "metadata": {},
   "outputs": [
    {
     "data": {
      "image/png": "[encoded data removed]",
      "text/plain": [
       "<Figure size 672x480 with 2 Axes>"
      ]
     },
     "metadata": {},
     "output_type": "display_data"
    }
   ],
   "source": [
    "ebdd,tanh,linr = net\n",
    "X = torch.nn.functional.one_hot(x)\n",
    "h = tanh(ebdd(x)).data\n",
    "netout = linr(tanh(ebdd(x))).data\n",
    "yhat = torch.nn.functional.softmax(net(x),dim=1).data\n",
    "mat = torch.concat([X,h,netout/netout.max(),yhat],axis=1)\n",
    "#---#\n",
    "plt.matshow(mat[:10, :],cmap=\"bwr\",vmin=-1,vmax=1)\n",
    "plt.colorbar()\n",
    "plt.axvline(3.5,color=\"lime\")\n",
    "plt.axvline(5.5,color=\"lime\")\n",
    "plt.axvline(9.5,color=\"lime\")\n",
    "plt.xticks(\n",
    "    ticks=[0,1,2,3,4,5,6,7,8,9,10,11,12,13],\n",
    "    labels=[\n",
    "        r\"$x_A$\",r\"$x_b$\",r\"$x_c$\",r\"$x_d$\",\n",
    "        r\"$h_1$\",r\"$h_2$\",\n",
    "        r\"$out_A$\",r\"$out_b$\",r\"$out_c$\",r\"$out_d$\",\n",
    "        r\"$\\hat{y}_A$\",r\"$\\hat{y}_b$\",r\"$\\hat{y}_c$\",r\"$\\hat{y}_d$\"]\n",
    ");"
   ]
  },
  {
   "cell_type": "markdown",
   "id": "1b73b244-493c-4ffc-825d-8c59a5b80563",
   "metadata": {},
   "source": [
    "- row0에서 yhat b,c,d의 확률은 전부 1/3 (yhat A,b,c,d를 다 더하면 1이므로)\n",
    "    - A 다음에 b,c,d 중 뭐가 나올지 모르겠다는 의미\n",
    "- b,c,d 다음 A가 나오는 것은 잘 맞춤\n",
    "- 즉 embedding 공간은 널널하지만 b,c,d를 같은 문자로 보고 있음 (A / bcd)"
   ]
  },
  {
   "cell_type": "code",
   "execution_count": 81,
   "id": "9a9a5546-0514-4ac1-ac2b-8112c580d7f6",
   "metadata": {},
   "outputs": [
    {
     "data": {
      "text/html": [
       "<div>\n",
       "<style scoped>\n",
       "    .dataframe tbody tr th:only-of-type {\n",
       "        vertical-align: middle;\n",
       "    }\n",
       "\n",
       "    .dataframe tbody tr th {\n",
       "        vertical-align: top;\n",
       "    }\n",
       "\n",
       "    .dataframe thead th {\n",
       "        text-align: right;\n",
       "    }\n",
       "</style>\n",
       "<table border=\"1\" class=\"dataframe\">\n",
       "  <thead>\n",
       "    <tr style=\"text-align: right;\">\n",
       "      <th></th>\n",
       "      <th>x</th>\n",
       "      <th>y</th>\n",
       "    </tr>\n",
       "  </thead>\n",
       "  <tbody>\n",
       "    <tr>\n",
       "      <th>0</th>\n",
       "      <td>A</td>\n",
       "      <td>b</td>\n",
       "    </tr>\n",
       "    <tr>\n",
       "      <th>1</th>\n",
       "      <td>b</td>\n",
       "      <td>A</td>\n",
       "    </tr>\n",
       "    <tr>\n",
       "      <th>2</th>\n",
       "      <td>A</td>\n",
       "      <td>c</td>\n",
       "    </tr>\n",
       "    <tr>\n",
       "      <th>3</th>\n",
       "      <td>c</td>\n",
       "      <td>A</td>\n",
       "    </tr>\n",
       "    <tr>\n",
       "      <th>4</th>\n",
       "      <td>A</td>\n",
       "      <td>d</td>\n",
       "    </tr>\n",
       "    <tr>\n",
       "      <th>...</th>\n",
       "      <td>...</td>\n",
       "      <td>...</td>\n",
       "    </tr>\n",
       "    <tr>\n",
       "      <th>294</th>\n",
       "      <td>A</td>\n",
       "      <td>b</td>\n",
       "    </tr>\n",
       "    <tr>\n",
       "      <th>295</th>\n",
       "      <td>b</td>\n",
       "      <td>A</td>\n",
       "    </tr>\n",
       "    <tr>\n",
       "      <th>296</th>\n",
       "      <td>A</td>\n",
       "      <td>c</td>\n",
       "    </tr>\n",
       "    <tr>\n",
       "      <th>297</th>\n",
       "      <td>c</td>\n",
       "      <td>A</td>\n",
       "    </tr>\n",
       "    <tr>\n",
       "      <th>298</th>\n",
       "      <td>A</td>\n",
       "      <td>d</td>\n",
       "    </tr>\n",
       "  </tbody>\n",
       "</table>\n",
       "<p>299 rows × 2 columns</p>\n",
       "</div>"
      ],
      "text/plain": [
       "     x  y\n",
       "0    A  b\n",
       "1    b  A\n",
       "2    A  c\n",
       "3    c  A\n",
       "4    A  d\n",
       "..  .. ..\n",
       "294  A  b\n",
       "295  b  A\n",
       "296  A  c\n",
       "297  c  A\n",
       "298  A  d\n",
       "\n",
       "[299 rows x 2 columns]"
      ]
     },
     "execution_count": 81,
     "metadata": {},
     "output_type": "execute_result"
    }
   ],
   "source": [
    "df_train"
   ]
  },
  {
   "cell_type": "markdown",
   "id": "95c8404e-818f-4513-b059-0e5770406b9d",
   "metadata": {},
   "source": [
    "- x가 A이면 y가 b,c,d 중 하나로 나오므로"
   ]
  },
  {
   "cell_type": "markdown",
   "id": "2264f580-4c99-45b7-84a8-4713a33f5238",
   "metadata": {},
   "source": [
    ")🗣️"
   ]
  },
  {
   "cell_type": "markdown",
   "id": "0ed89944-600a-4a6b-881e-a7b14f7ee2f3",
   "metadata": {},
   "source": [
    "`-` 적합"
   ]
  },
  {
   "cell_type": "code",
   "execution_count": 187,
   "id": "a4d8fc43-6495-4ec3-89ed-d47a3c2f4b45",
   "metadata": {},
   "outputs": [],
   "source": [
    "net = torch.nn.Sequential(\n",
    "    torch.nn.Embedding(4,2),\n",
    "    torch.nn.Tanh(),\n",
    "    torch.nn.Linear(2,4)\n",
    ")\n",
    "loss_fn = torch.nn.CrossEntropyLoss()\n",
    "optimizr = torch.optim.Adam(net.parameters(),lr=0.1)\n",
    "#---#\n",
    "for epoc in range(100):\n",
    "    #1\n",
    "    netout = net(x)\n",
    "    #2\n",
    "    loss = loss_fn(netout,y)\n",
    "    #3\n",
    "    loss.backward()\n",
    "    #4 \n",
    "    optimizr.step()\n",
    "    optimizr.zero_grad()"
   ]
  },
  {
   "cell_type": "markdown",
   "id": "cf1b1540-48ab-4dfa-aa14-c191b876bdeb",
   "metadata": {},
   "source": [
    "`-` 결과시각화 "
   ]
  },
  {
   "cell_type": "code",
   "execution_count": 188,
   "id": "9134a985-d6a6-4588-9c41-0176e7659f22",
   "metadata": {},
   "outputs": [
    {
     "data": {
      "image/png": "[encoded data removed]",
      "text/plain": [
       "<Figure size 672x480 with 2 Axes>"
      ]
     },
     "metadata": {},
     "output_type": "display_data"
    }
   ],
   "source": [
    "ebdd,tanh,linr = net\n",
    "X = torch.nn.functional.one_hot(x)\n",
    "h = tanh(ebdd(x)).data\n",
    "netout = linr(tanh(ebdd(x))).data\n",
    "yhat = torch.nn.functional.softmax(net(x),dim=1).data\n",
    "mat = torch.concat([X,h,netout/netout.max(),yhat],axis=1)\n",
    "#---#\n",
    "plt.matshow(mat[:10, :],cmap=\"bwr\",vmin=-1,vmax=1)\n",
    "plt.colorbar()\n",
    "plt.axvline(3.5,color=\"lime\")\n",
    "plt.axvline(5.5,color=\"lime\")\n",
    "plt.axvline(9.5,color=\"lime\")\n",
    "plt.xticks(\n",
    "    ticks=[0,1,2,3,4,5,6,7,8,9,10,11,12,13],\n",
    "    labels=[\n",
    "        r\"$x_A$\",r\"$x_b$\",r\"$x_c$\",r\"$x_d$\",\n",
    "        r\"$h_1$\",r\"$h_2$\",\n",
    "        r\"$out_A$\",r\"$out_b$\",r\"$out_c$\",r\"$out_d$\",\n",
    "        r\"$\\hat{y}_A$\",r\"$\\hat{y}_b$\",r\"$\\hat{y}_c$\",r\"$\\hat{y}_d$\"]\n",
    ");"
   ]
  },
  {
   "cell_type": "markdown",
   "id": "69164849-a36a-4bd5-aec7-226c55d7e589",
   "metadata": {},
   "source": [
    "- 100번 시도해봤자 100번 망함"
   ]
  },
  {
   "cell_type": "markdown",
   "id": "0aa3795f-84dc-40aa-979a-0e785084c8cf",
   "metadata": {},
   "source": [
    "## C. Discussions"
   ]
  },
  {
   "cell_type": "markdown",
   "id": "896ca2bf-9cf7-426b-96cf-3c462851cd1c",
   "metadata": {},
   "source": [
    "🗣️("
   ]
  },
  {
   "cell_type": "markdown",
   "id": "137e1e3a-4647-4171-b357-96a541bc3399",
   "metadata": {},
   "source": [
    "```\n",
    "hello\n",
    "\n",
    "h-->e\n",
    "e-->l\n",
    "l-->l/o???\n",
    "o-->h\n",
    "\n",
    "해결책: 2개를 보고 예측\n",
    "he-->l\n",
    "el-->l\n",
    "ll-->o\n",
    "lo-->h\n",
    "\n",
    "한계: 2개로 예측 안되는 문자열, 몇개로 예측된다고 정할 수 없는 문자열\n",
    "\n",
    "=> 순환신경망\n",
    "```"
   ]
  },
  {
   "cell_type": "markdown",
   "id": "c78b276d-b1de-427f-bc23-695b30bebd28",
   "metadata": {},
   "source": [
    ")🗣️"
   ]
  },
  {
   "cell_type": "markdown",
   "id": "ad828cea-2a6d-43b4-ba7d-50a7c8c25ff3",
   "metadata": {},
   "source": [
    "`-` 왜 망했을까? "
   ]
  },
  {
   "cell_type": "markdown",
   "id": "a5a748b8-18ba-4de8-a96f-da02688dc32b",
   "metadata": {},
   "source": [
    "`-` `hello`^[2015년 Andrej Karpathy(안드레이 카파시)의 \"전설적인\" 블로그 <https://karpathy.github.io/2015/05/21/rnn-effectiveness/> 에 담긴 예제] 문자열을 맞출 수 있을까? \n",
    "\n",
    "- 이전시점을 많이 고려하면 맞출수는 있음.\n",
    "- 그러나 이러한 방법들(AR, N-grams)은 한계가 뚜렷 $\\to$ 순환신경망의 등장 "
   ]
  },
  {
   "cell_type": "markdown",
   "id": "2145a0f9-830f-4beb-bfa9-25ee9a64c754",
   "metadata": {},
   "source": [
    "# 8. 겹장(덧장) 📝"
   ]
  },
  {
   "cell_type": "markdown",
   "id": "89402d5b-bad5-4f3d-8828-e169e6ae088b",
   "metadata": {},
   "source": [
    "🗣️("
   ]
  },
  {
   "cell_type": "markdown",
   "id": "fd4a0014-971d-4a69-ae39-806817043c6c",
   "metadata": {},
   "source": [
    "```\n",
    "3년전, 2년전, 햇간장을 가지고 -- 음식 --> 간장계란밥\n",
    "\n",
    "4년전 간장도 넣고 싶은데 유통 기한이 3년이라면 4년전 간장을 가지고는 음식을 못함\n",
    "\n",
    "=> 씨간장\n",
    "\n",
    "간장 --> 500년동안 묵히지 X\n",
    "올해 간장 중 일부에 작년 간장을 넣으면 나중에 작년 간장의 맛을 갖게 됨\n",
    "\n",
    "1년차 간장\n",
    "2년차 간장 + 1년차간장살짝섞음 ==> 1년차 맛이 남\n",
    "3년차 간장 + (2년차 간장 + 1년차간장살짝섞음) ==> 1,2년차맛이 같이 남\n",
    "...\n",
    "```"
   ]
  },
  {
   "cell_type": "markdown",
   "id": "89259dc0-ee8d-4dd1-93ec-44596c9b184e",
   "metadata": {},
   "source": [
    ")🗣️"
   ]
  },
  {
   "cell_type": "markdown",
   "id": "d924c283-717c-4e35-9746-94fa84c80bc0",
   "metadata": {},
   "source": [
    "***[수백년전통을 이어가는 방법](https://www.joongang.co.kr/article/24087690#home)***"
   ]
  },
  {
   "cell_type": "markdown",
   "id": "ea6abb8d-9d81-4b0a-8b70-5a36f5cc8c02",
   "metadata": {},
   "source": [
    "```\n",
    "“1리터에 500만원에 낙찰된 적 있습니다.”\n",
    "“2kg에 1억원 정도 추산됩니다.”\n",
    "“20여 종 종자장을 블렌딩해 100ml에 5000만원씩 분양 예정입니다.”\n",
    "\n",
    "모두 씨간장(종자장) 가격에 관한 실제 일화다.\n",
    "\n",
    "(중략...)\n",
    "\n",
    "위스키나 와인처럼 블렌딩을 하기도 한다. \n",
    "새로 담근 간장에 씨간장을 넣거나, 씨간장독에 햇간장을 넣어 맛을 유지하기도 한다. \n",
    "이를 겹장(또는 덧장)이라 한다. \n",
    "몇몇 종갓집에선 씨간장 잇기를 몇백 년째 해오고 있다. \n",
    "매년 새로 간장을 담가야 이어갈 수 있으니 불씨 꺼트리지 않는 것처럼 굉장히 어려운 일이다.\n",
    "이렇게 하는 이유는 집집마다 내려오는 고유 장맛을 잃지 않기 위함이다. \n",
    "씨간장이란 그만큼 소중한 주방의 자산이며 정체성이다.\n",
    "```"
   ]
  },
  {
   "cell_type": "markdown",
   "id": "314b9869-8514-499b-bc4d-db2db5b0e5ad",
   "metadata": {},
   "source": [
    "덧장: 새로운간장을 만들때, 옛날간장을 섞어서 만듦"
   ]
  }
 ],
 "metadata": {
  "kernelspec": {
   "display_name": "Python 3 (ipykernel)",
   "language": "python",
   "name": "python3"
  },
  "language_info": {
   "codemirror_mode": {
    "name": "ipython",
    "version": 3
   },
   "file_extension": ".py",
   "mimetype": "text/x-python",
   "name": "python",
   "nbconvert_exporter": "python",
   "pygments_lexer": "ipython3",
   "version": "3.9.18"
  }
 },
 "nbformat": 4,
 "nbformat_minor": 5
}
