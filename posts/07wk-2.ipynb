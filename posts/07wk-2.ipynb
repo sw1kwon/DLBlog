{
 "cells": [
  {
   "cell_type": "raw",
   "id": "7536d01f-6566-433a-8e13-b3189002341b",
   "metadata": {
    "id": "87b5cded-346b-4915-acf5-b5ec93a5207d",
    "vscode": {
     "languageId": "raw"
    }
   },
   "source": [
    "---\n",
    "title: \"07wk-2: (합성곱신경망) -- CNN 핵심레이어, CNN의 학습원리, FashionMNIST\"\n",
    "author: \"sw1kwon\"\n",
    "date: \"04/21/2025\"\n",
    "draft: false\n",
    "freeze: false\n",
    "---"
   ]
  },
  {
   "cell_type": "markdown",
   "id": "4f5559ab-49e5-4557-97a1-e8535cbdb492",
   "metadata": {},
   "source": [
    "📘 **Note Format Guide**\n",
    "\n",
    "This format serves as a structured guide for organizing lecture content, personal interpretation, experiments, and study-related questions.\n",
    "\n",
    "| Type | What It Means | When I Use It |\n",
    "|------|----------------|----------------|\n",
    "| 📝 Lecture | Original material from the professor’s notes | When I’m referencing core concepts or provided code |\n",
    "| 🗣️ In-Class Note | Verbal explanations shared during the lecture | When I want to record something the professor said in class but didn’t include in the official notes |\n",
    "| ✍️ My Note | My thoughts, interpretations, or additional explanations | When I reflect on or explain something in my own words |\n",
    "| 🔬 Experiment | Code I tried out or changed to explore further | When I test variations or go beyond the original example |\n",
    "| ❓ Question | Questions I had while studying | When I want to revisit or research something more deeply |"
   ]
  },
  {
   "cell_type": "markdown",
   "id": "f93f5651-16f5-4432-9cbd-8723bd894947",
   "metadata": {},
   "source": [
    "📝\n",
    "🗣️\n",
    "✍️\n",
    "🔬\n",
    "❓"
   ]
  },
  {
   "cell_type": "markdown",
   "id": "cf9842c3-8045-40b1-ac0d-f71075a0b1f4",
   "metadata": {
    "id": "4d47a7c9"
   },
   "source": [
    "# 1. 강의노트 원본 및 영상 링크"
   ]
  },
  {
   "cell_type": "markdown",
   "id": "20e62752-01f2-4d96-bed3-3b104e0588db",
   "metadata": {},
   "source": [
    "[https://guebin.github.io/DL2025/posts/07wk-2.html](https://guebin.github.io/DL2025/posts/07wk-2.html)"
   ]
  },
  {
   "cell_type": "markdown",
   "id": "73c41a98-5f1e-4b0a-9d24-14c9f7934b75",
   "metadata": {},
   "source": [
    "# 2. Imports 📝"
   ]
  },
  {
   "cell_type": "code",
   "execution_count": 1,
   "id": "8bbfc71f-f189-41b7-89a1-898916e7bfb7",
   "metadata": {
    "tags": []
   },
   "outputs": [],
   "source": [
    "import torch\n",
    "import torchvision\n",
    "import matplotlib.pyplot as plt"
   ]
  },
  {
   "cell_type": "code",
   "execution_count": 2,
   "id": "d6a1f8e3-b139-4bdc-abdc-2396725e9df9",
   "metadata": {},
   "outputs": [],
   "source": [
    "plt.rcParams['figure.figsize'] = (4.5, 3.0)"
   ]
  },
  {
   "cell_type": "markdown",
   "id": "00e86ba9-a1f2-4ee3-a6c9-23492b723b91",
   "metadata": {},
   "source": [
    "# 3. CNN 핵심레이어 📝"
   ]
  },
  {
   "cell_type": "markdown",
   "id": "80945f69-0196-4858-9810-8b9f8dbf9361",
   "metadata": {},
   "source": [
    "## A. `torch.nn.ReLU`"
   ]
  },
  {
   "cell_type": "markdown",
   "id": "480ce2f6-2290-448f-a1ce-a79d6584938a",
   "metadata": {},
   "source": [
    "## B. `torch.nn.MaxPool2d`"
   ]
  },
  {
   "cell_type": "markdown",
   "id": "3328ae25-5c47-46b1-a830-2146608c94c8",
   "metadata": {},
   "source": [
    "## C. `torch.nn.Conv2d`"
   ]
  },
  {
   "cell_type": "markdown",
   "id": "5336b88b-6ff0-4e69-b3fb-014aafa24040",
   "metadata": {},
   "source": [
    "**(예시1) 연산방법, stride=2**"
   ]
  },
  {
   "cell_type": "code",
   "execution_count": 3,
   "id": "44a84727-6899-459f-84f5-630e34ed6e8a",
   "metadata": {},
   "outputs": [],
   "source": [
    "img = torch.rand(1,1,4,4)\n",
    "conv = torch.nn.Conv2d(in_channels=1,out_channels=1,kernel_size=2,stride=2)"
   ]
  },
  {
   "cell_type": "code",
   "execution_count": 4,
   "id": "2bef334b-1284-42c2-b455-98082bba077b",
   "metadata": {},
   "outputs": [
    {
     "data": {
      "text/plain": [
       "tensor([[[[0.4497, 0.4023, 0.3869, 0.1770],\n",
       "          [0.6399, 0.1175, 0.1347, 0.2738],\n",
       "          [0.4462, 0.3765, 0.1285, 0.7986],\n",
       "          [0.9917, 0.9030, 0.9250, 0.5513]]]])"
      ]
     },
     "execution_count": 4,
     "metadata": {},
     "output_type": "execute_result"
    }
   ],
   "source": [
    "img"
   ]
  },
  {
   "cell_type": "code",
   "execution_count": 5,
   "id": "b2846c09-94bc-4eb9-a48f-69d8f3987ccf",
   "metadata": {},
   "outputs": [
    {
     "data": {
      "text/plain": [
       "tensor([[[[ 0.0084,  0.0557],\n",
       "          [-0.1183,  0.1122]]]], grad_fn=<ConvolutionBackward0>)"
      ]
     },
     "execution_count": 5,
     "metadata": {},
     "output_type": "execute_result"
    }
   ],
   "source": [
    "conv(img)"
   ]
  },
  {
   "cell_type": "markdown",
   "id": "bbf162c0-3f7a-46cc-a382-155df1e9b7fa",
   "metadata": {},
   "source": [
    "??"
   ]
  },
  {
   "cell_type": "code",
   "execution_count": 6,
   "id": "e3d86c29-1a50-43b5-9a40-9d37bee12ab4",
   "metadata": {},
   "outputs": [
    {
     "data": {
      "text/plain": [
       "(tensor([[[[-0.0637,  0.4369],\n",
       "           [-0.2863, -0.0190]]]]),\n",
       " tensor([0.0468]))"
      ]
     },
     "execution_count": 6,
     "metadata": {},
     "output_type": "execute_result"
    }
   ],
   "source": [
    "conv.weight.data, conv.bias.data"
   ]
  },
  {
   "cell_type": "code",
   "execution_count": 7,
   "id": "bf729f86-958f-4a6e-86c5-2e9d10a7fff6",
   "metadata": {},
   "outputs": [
    {
     "data": {
      "text/plain": [
       "(tensor([0.0084]),\n",
       " tensor([[[[ 0.0084,  0.0557],\n",
       "           [-0.1183,  0.1122]]]], grad_fn=<ConvolutionBackward0>))"
      ]
     },
     "execution_count": 7,
     "metadata": {},
     "output_type": "execute_result"
    }
   ],
   "source": [
    "(img[:,  :,  :2,  :2] * conv.weight.data).sum()+conv.bias.data, conv(img)"
   ]
  },
  {
   "cell_type": "code",
   "execution_count": 8,
   "id": "18d5da28-4ed1-4384-9782-6c625ad2c73e",
   "metadata": {},
   "outputs": [
    {
     "data": {
      "text/plain": [
       "(tensor([0.0557]),\n",
       " tensor([[[[ 0.0084,  0.0557],\n",
       "           [-0.1183,  0.1122]]]], grad_fn=<ConvolutionBackward0>))"
      ]
     },
     "execution_count": 8,
     "metadata": {},
     "output_type": "execute_result"
    }
   ],
   "source": [
    "(img[:,  :,  :2,  2:] * conv.weight.data).sum()+conv.bias.data, conv(img)"
   ]
  },
  {
   "cell_type": "code",
   "execution_count": 9,
   "id": "ae989ce3-e9c7-454e-ad06-7c80516580ed",
   "metadata": {},
   "outputs": [
    {
     "data": {
      "text/plain": [
       "(tensor([0.0557]),\n",
       " tensor([[[[ 0.0084,  0.0557],\n",
       "           [-0.1183,  0.1122]]]], grad_fn=<ConvolutionBackward0>))"
      ]
     },
     "execution_count": 9,
     "metadata": {},
     "output_type": "execute_result"
    }
   ],
   "source": [
    "(img[:,  :,  :2,  2:] * conv.weight.data).sum()+conv.bias.data, conv(img)"
   ]
  },
  {
   "cell_type": "code",
   "execution_count": 10,
   "id": "6801b717-5c42-4b0e-b948-af2c936aca0c",
   "metadata": {},
   "outputs": [
    {
     "data": {
      "text/plain": [
       "(tensor([0.1122]),\n",
       " tensor([[[[ 0.0084,  0.0557],\n",
       "           [-0.1183,  0.1122]]]], grad_fn=<ConvolutionBackward0>))"
      ]
     },
     "execution_count": 10,
     "metadata": {},
     "output_type": "execute_result"
    }
   ],
   "source": [
    "(img[:,  :,  2:,  2:] * conv.weight.data).sum()+conv.bias.data, conv(img)"
   ]
  },
  {
   "cell_type": "markdown",
   "id": "9ba7a113-e1a1-4852-ad80-5f3509f83b3d",
   "metadata": {},
   "source": [
    ":::{.callout-note}\n",
    "\n",
    "**입력이 1장의 흑백이미지이고 출력도 1장의 흑백이미지일 경우 컨볼루션 계산과정 요약^[입력shape=(1,1,?,?) 이고 출력의shape=(1,1,?,?)일 경우]**\n",
    "\n",
    "\n",
    "\n",
    "1. 윈도우생성: `kernel_size` = (?,?) 인 윈도우를 만듦\n",
    "2. sub-img생성: 입력 이미지에 윈도우를 통과시켜 (?,?) 크기의 sub-img를 만듦.\n",
    "3. 연산: sub-img의 각 원소에 `conv.weight`의 값을 원소별로 (=element-wisely) 곱하고 결과를 더함. (만약에 `conv.bias`가 있다면 최종결과에 bias를 더함) \n",
    "4. 이동&반복: 윈도우를 `stride` 만큼 이동하여 반복. (`stride`=1 이라면 한칸씩, `stride`=2 라면 두칸씩 이동) \n",
    "\n",
    ":::"
   ]
  },
  {
   "cell_type": "markdown",
   "id": "8e16cf29-92c4-4c53-be75-980464e90f50",
   "metadata": {},
   "source": [
    "**(예시2)** -- 재현 "
   ]
  },
  {
   "cell_type": "markdown",
   "id": "98d2a41d-3847-410c-bdba-133c79b7ba7a",
   "metadata": {},
   "source": [
    "\"A guide to convolution arithmetic for deep learning\"  [@dumoulin2016guide] 에 나온 그림재현 "
   ]
  },
  {
   "cell_type": "markdown",
   "id": "91c60bdc-6357-4f9d-954a-7316ed91cdca",
   "metadata": {},
   "source": [
    "- ref: <https://arxiv.org/abs/1603.07285> "
   ]
  },
  {
   "cell_type": "markdown",
   "id": "fc9a13d1-e853-40b2-92a3-df42d771d3c2",
   "metadata": {},
   "source": [
    "🗣️ 우측 하단 작은 숫자: weight"
   ]
  },
  {
   "cell_type": "markdown",
   "id": "ab802b6f-d75c-4828-a417-e2420929031f",
   "metadata": {},
   "source": [
    "![Fig: conv2d 계산과정시각화](https://github.com/guebin/2021BDA/blob/master/_notebooks/2021-11-04-conv.png?raw=true)"
   ]
  },
  {
   "cell_type": "code",
   "execution_count": 11,
   "id": "996c7240-729a-48dd-b25b-1c5d9444b10c",
   "metadata": {},
   "outputs": [
    {
     "data": {
      "text/plain": [
       "tensor([[[[3., 3., 2., 1., 0.],\n",
       "          [0., 0., 1., 3., 1.],\n",
       "          [3., 1., 2., 2., 3.],\n",
       "          [2., 0., 0., 2., 2.],\n",
       "          [2., 0., 0., 0., 1.]]]])"
      ]
     },
     "execution_count": 11,
     "metadata": {},
     "output_type": "execute_result"
    }
   ],
   "source": [
    "img = torch.tensor([\n",
    "    [3,3,2,1,0],\n",
    "    [0,0,1,3,1],\n",
    "    [3,1,2,2,3],\n",
    "    [2,0,0,2,2],\n",
    "    [2,0,0,0,1]\n",
    "]).reshape(1,1,5,5).float()\n",
    "img"
   ]
  },
  {
   "cell_type": "code",
   "execution_count": 12,
   "id": "3b358ef3-3386-4fc5-a7f9-9e575ef1f99d",
   "metadata": {},
   "outputs": [],
   "source": [
    "conv = torch.nn.Conv2d(in_channels=1,out_channels=1,kernel_size=3,bias=False) # bias=0 하드코딩해도 됨\n",
    "conv.weight.data = torch.tensor([[[\n",
    "    [ 0.0, 1.0, 2.0],\n",
    "    [ 2.0, 2.0, 0.0],\n",
    "    [ 0.0, 1.0, 2.0]\n",
    "]]])"
   ]
  },
  {
   "cell_type": "code",
   "execution_count": 13,
   "id": "3f8be344-0d52-485d-ac05-c4990a03ba62",
   "metadata": {},
   "outputs": [
    {
     "data": {
      "text/plain": [
       "tensor([[[[12., 12., 17.],\n",
       "          [10., 17., 19.],\n",
       "          [ 9.,  6., 14.]]]], grad_fn=<ConvolutionBackward0>)"
      ]
     },
     "execution_count": 13,
     "metadata": {},
     "output_type": "execute_result"
    }
   ],
   "source": [
    "conv(img)"
   ]
  },
  {
   "cell_type": "markdown",
   "id": "d67c538f-86b8-46c5-8dea-6efd24bbc05f",
   "metadata": {},
   "source": [
    "**(예시3) 이동평균**"
   ]
  },
  {
   "cell_type": "code",
   "execution_count": 14,
   "id": "77d0d9a1-9e4e-40f8-87c9-ae4c3d54b801",
   "metadata": {},
   "outputs": [
    {
     "data": {
      "text/plain": [
       "tensor([[[[ 1.,  2.,  3.,  4.],\n",
       "          [ 5.,  6.,  7.,  8.],\n",
       "          [ 9., 10., 11., 12.],\n",
       "          [13., 14., 15., 16.]]]])"
      ]
     },
     "execution_count": 14,
     "metadata": {},
     "output_type": "execute_result"
    }
   ],
   "source": [
    "img = torch.arange(1,17).float().reshape(1,1,4,4)\n",
    "img"
   ]
  },
  {
   "cell_type": "code",
   "execution_count": 15,
   "id": "2932be76-32e3-4e7e-ad28-8db8af316715",
   "metadata": {},
   "outputs": [
    {
     "data": {
      "text/plain": [
       "tensor([[[[0.2500, 0.2500],\n",
       "          [0.2500, 0.2500]]]])"
      ]
     },
     "execution_count": 15,
     "metadata": {},
     "output_type": "execute_result"
    }
   ],
   "source": [
    "conv = torch.nn.Conv2d(in_channels=1,out_channels=1,kernel_size=2,stride=1,bias=False)\n",
    "conv.weight.data = conv.weight.data*0 + 1/4\n",
    "conv.weight.data"
   ]
  },
  {
   "cell_type": "markdown",
   "id": "22260f76-e3e3-437c-884a-106e8608a779",
   "metadata": {},
   "source": [
    "🗣️ 이동하면서 평균을 계산"
   ]
  },
  {
   "cell_type": "code",
   "execution_count": 16,
   "id": "7e6606fb-d1e7-43c6-ab2d-66344456da9d",
   "metadata": {},
   "outputs": [
    {
     "data": {
      "text/plain": [
       "tensor([[[[ 3.5000,  4.5000,  5.5000],\n",
       "          [ 7.5000,  8.5000,  9.5000],\n",
       "          [11.5000, 12.5000, 13.5000]]]], grad_fn=<ConvolutionBackward0>)"
      ]
     },
     "execution_count": 16,
     "metadata": {},
     "output_type": "execute_result"
    }
   ],
   "source": [
    "conv(img)"
   ]
  },
  {
   "cell_type": "markdown",
   "id": "ccbd4ff5-e9f2-43f1-bb78-cefc0e89c6d6",
   "metadata": {},
   "source": [
    "**(예시4) 2개의 이미지**"
   ]
  },
  {
   "cell_type": "markdown",
   "id": "35946a91-dc8f-4ddc-acf3-1a1cd8c21e5f",
   "metadata": {},
   "source": [
    "🗣️ (n,1,?,?), (1,3,?,?) 등도 가능"
   ]
  },
  {
   "cell_type": "markdown",
   "id": "99283b2c-cc26-4ea6-aa4b-3de711c06d20",
   "metadata": {},
   "source": [
    "`-` 개념: (1,1,?,?) $\\to$ (1,1,?,?) 의 conv를 observation 별로 적용 \n",
    "\n",
    "- `conv` 에 포함된 파라메터 수는 (1,1,?,?) $\\to$ (1,1,?,?) 인 경우와 (n,1,?,?) $\\to$ (n,1,?,?)인 경우가 동일 "
   ]
  },
  {
   "cell_type": "code",
   "execution_count": 17,
   "id": "d587127a-7258-4214-a1cd-a59eaf411331",
   "metadata": {},
   "outputs": [],
   "source": [
    "imgs = torch.arange(1,33).float().reshape(2,1,4,4)\n",
    "conv = torch.nn.Conv2d(in_channels=1,out_channels=1,kernel_size=2,stride=1,bias=False)\n",
    "conv.weight.data = conv.weight.data*0 + 1/4"
   ]
  },
  {
   "cell_type": "markdown",
   "id": "7a479e26-6013-4c20-bdf8-6cf8fab499b8",
   "metadata": {},
   "source": [
    "🗣️ 위에 있는 거 한 장, 아래에 있는 거 한 장"
   ]
  },
  {
   "cell_type": "code",
   "execution_count": 18,
   "id": "fa55684b-fe3a-4a34-85a2-7e8095cd265c",
   "metadata": {},
   "outputs": [
    {
     "data": {
      "text/plain": [
       "tensor([[[[ 1.,  2.,  3.,  4.],\n",
       "          [ 5.,  6.,  7.,  8.],\n",
       "          [ 9., 10., 11., 12.],\n",
       "          [13., 14., 15., 16.]]],\n",
       "\n",
       "\n",
       "        [[[17., 18., 19., 20.],\n",
       "          [21., 22., 23., 24.],\n",
       "          [25., 26., 27., 28.],\n",
       "          [29., 30., 31., 32.]]]])"
      ]
     },
     "execution_count": 18,
     "metadata": {},
     "output_type": "execute_result"
    }
   ],
   "source": [
    "imgs"
   ]
  },
  {
   "cell_type": "code",
   "execution_count": 19,
   "id": "1df11efe-74d5-4187-86ea-408b5b7837a7",
   "metadata": {},
   "outputs": [
    {
     "data": {
      "text/plain": [
       "tensor([[[[ 3.5000,  4.5000,  5.5000],\n",
       "          [ 7.5000,  8.5000,  9.5000],\n",
       "          [11.5000, 12.5000, 13.5000]]],\n",
       "\n",
       "\n",
       "        [[[19.5000, 20.5000, 21.5000],\n",
       "          [23.5000, 24.5000, 25.5000],\n",
       "          [27.5000, 28.5000, 29.5000]]]], grad_fn=<ConvolutionBackward0>)"
      ]
     },
     "execution_count": 19,
     "metadata": {},
     "output_type": "execute_result"
    }
   ],
   "source": [
    "conv(imgs) # 이동평균"
   ]
  },
  {
   "cell_type": "markdown",
   "id": "4f13478c-1b40-48d0-a47a-fb7e6c367676",
   "metadata": {},
   "source": [
    "🗣️("
   ]
  },
  {
   "cell_type": "code",
   "execution_count": 20,
   "id": "ab991d92-3796-4f4f-9da1-25aed16f4b38",
   "metadata": {},
   "outputs": [
    {
     "data": {
      "text/plain": [
       "torch.Size([1, 1, 2, 2])"
      ]
     },
     "execution_count": 20,
     "metadata": {},
     "output_type": "execute_result"
    }
   ],
   "source": [
    "conv.weight.shape"
   ]
  },
  {
   "cell_type": "markdown",
   "id": "960cc8c0-557c-4813-b229-e3b33668bc63",
   "metadata": {},
   "source": [
    "- 숫자가 4개 (2*2)\n",
    "- 하나의 conv를 다른 이미지에도 적용\n",
    "    - `conv` 에 포함된 파라메터 수는 (1,1,?,?) $\\to$ (1,1,?,?) 인 경우와 (n,1,?,?) $\\to$ (n,1,?,?)인 경우가 동일 "
   ]
  },
  {
   "cell_type": "markdown",
   "id": "5635ef9a-bb98-4010-94d0-4e28368ab671",
   "metadata": {},
   "source": [
    ")🗣️"
   ]
  },
  {
   "cell_type": "markdown",
   "id": "a4002769-6189-4901-86ab-7ddda3b4213f",
   "metadata": {},
   "source": [
    "**(예시5) 2개의 이미지, 2개의 out_channels**"
   ]
  },
  {
   "cell_type": "markdown",
   "id": "a7ebb747-9c03-4a9d-a622-ddcf708e048e",
   "metadata": {},
   "source": [
    "🗣️ 같은 이미지에 conv를 2번씩 거는 경우"
   ]
  },
  {
   "cell_type": "markdown",
   "id": "90f0769a-f5df-43eb-9b33-b44d2a0464cc",
   "metadata": {},
   "source": [
    "`-` 개념: (1,1,?,?) $\\to$ (1,1,?,?) 의 conv를 한번 적용, 그것과 별개로 (1,1,?,?) $\\to$ (1,1,?,?) 인 **다른** conv를 적용함. (즉 하나의 observation당 2번 conv변환) 이것을 observation별로 반복\n",
    "\n",
    "- (1,1,?,?) $\\to$ (1,2,?,?) 인 경우는 (1,1,?,?) $\\to$ (1,1,?,?)인 경우보다 `conv`에 포함된 파라메터 수가 2배 많음\n",
    "- 그런데 (1,1,?,?) $\\to$ (1,2,?,?) 인 경우와 (n,1,?,?) $\\to$ (n,2,?,?)인 경우는 `conv`에 포함된 파라메터 수가 같음.\n",
    "- 따라서 (n,1,?,?) $\\to$ (n,2,?,?) 인 경우는 (1,1,?,?) $\\to$ (1,1,?,?)인 경우보다 `conv`에 포함된 파라메터 수가 2배 많음"
   ]
  },
  {
   "cell_type": "code",
   "execution_count": 21,
   "id": "23fcf260-852b-43b9-ab70-0cfef000d862",
   "metadata": {},
   "outputs": [],
   "source": [
    "img = torch.arange(1,33).float().reshape(2,1,4,4)\n",
    "conv = torch.nn.Conv2d(in_channels=1,out_channels=2,kernel_size=2,stride=1,bias=False)"
   ]
  },
  {
   "cell_type": "markdown",
   "id": "bf32b4d0-3181-440b-b606-676b37ed9ef3",
   "metadata": {},
   "source": [
    "🗣️("
   ]
  },
  {
   "cell_type": "code",
   "execution_count": 22,
   "id": "e7c1f78d-6b6e-4464-abe2-196c80384a88",
   "metadata": {},
   "outputs": [
    {
     "data": {
      "text/plain": [
       "Parameter containing:\n",
       "tensor([[[[-0.0698,  0.1491],\n",
       "          [ 0.3877,  0.0913]]],\n",
       "\n",
       "\n",
       "        [[[-0.2105,  0.0241],\n",
       "          [-0.4239,  0.2689]]]], requires_grad=True)"
      ]
     },
     "execution_count": 22,
     "metadata": {},
     "output_type": "execute_result"
    }
   ],
   "source": [
    "conv.weight"
   ]
  },
  {
   "cell_type": "code",
   "execution_count": 24,
   "id": "f66168d2-b510-4b0a-be9b-f3d3303c9e34",
   "metadata": {},
   "outputs": [
    {
     "data": {
      "text/plain": [
       "torch.Size([2, 1, 4, 4])"
      ]
     },
     "execution_count": 24,
     "metadata": {},
     "output_type": "execute_result"
    }
   ],
   "source": [
    "img.shape # 2장, 흑백, 4*4"
   ]
  },
  {
   "cell_type": "code",
   "execution_count": 25,
   "id": "df8331d1-220a-4be7-a4c3-1acdee513ea5",
   "metadata": {},
   "outputs": [
    {
     "data": {
      "text/plain": [
       "torch.Size([2, 2, 3, 3])"
      ]
     },
     "execution_count": 25,
     "metadata": {},
     "output_type": "execute_result"
    }
   ],
   "source": [
    "conv(img).shape"
   ]
  },
  {
   "cell_type": "markdown",
   "id": "e79b45bb-e586-4cb4-83bc-95ff8a007a35",
   "metadata": {},
   "source": [
    ")🗣️"
   ]
  },
  {
   "cell_type": "code",
   "execution_count": 93,
   "id": "6fe621e4-4ad2-4fde-bab1-c9fafbb83f5e",
   "metadata": {},
   "outputs": [
    {
     "data": {
      "text/plain": [
       "tensor([[[[ 1.,  2.,  3.,  4.],\n",
       "          [ 5.,  6.,  7.,  8.],\n",
       "          [ 9., 10., 11., 12.],\n",
       "          [13., 14., 15., 16.]]],\n",
       "\n",
       "\n",
       "        [[[17., 18., 19., 20.],\n",
       "          [21., 22., 23., 24.],\n",
       "          [25., 26., 27., 28.],\n",
       "          [29., 30., 31., 32.]]]])"
      ]
     },
     "execution_count": 93,
     "metadata": {},
     "output_type": "execute_result"
    }
   ],
   "source": [
    "img"
   ]
  },
  {
   "cell_type": "code",
   "execution_count": 26,
   "id": "482f5a04-196b-4452-a583-dafacb94bbeb",
   "metadata": {},
   "outputs": [],
   "source": [
    "conv.weight.data[0] = conv.weight.data[0]*0 +1/4 # 평균을 의미 (bias=False)\n",
    "conv.weight.data[1] = conv.weight.data[0]*0"
   ]
  },
  {
   "cell_type": "code",
   "execution_count": 27,
   "id": "1b227260-571a-4c90-9a71-a3b024b46635",
   "metadata": {},
   "outputs": [
    {
     "data": {
      "text/plain": [
       "tensor([[[[ 3.5000,  4.5000,  5.5000],\n",
       "          [ 7.5000,  8.5000,  9.5000],\n",
       "          [11.5000, 12.5000, 13.5000]],\n",
       "\n",
       "         [[ 0.0000,  0.0000,  0.0000],\n",
       "          [ 0.0000,  0.0000,  0.0000],\n",
       "          [ 0.0000,  0.0000,  0.0000]]],\n",
       "\n",
       "\n",
       "        [[[19.5000, 20.5000, 21.5000],\n",
       "          [23.5000, 24.5000, 25.5000],\n",
       "          [27.5000, 28.5000, 29.5000]],\n",
       "\n",
       "         [[ 0.0000,  0.0000,  0.0000],\n",
       "          [ 0.0000,  0.0000,  0.0000],\n",
       "          [ 0.0000,  0.0000,  0.0000]]]], grad_fn=<ConvolutionBackward0>)"
      ]
     },
     "execution_count": 27,
     "metadata": {},
     "output_type": "execute_result"
    }
   ],
   "source": [
    "conv(img)"
   ]
  },
  {
   "cell_type": "markdown",
   "id": "2ba3f8bb-a30b-4df0-852c-478ee94e0553",
   "metadata": {},
   "source": [
    "🗣️ 하나의 이미지가 2개의 채널로 분리 됨 (하나의 채널은 이동평균, 다른 하나는 0)"
   ]
  },
  {
   "cell_type": "markdown",
   "id": "00e57d2b-e3bb-42e8-80c7-0a99006ae06c",
   "metadata": {},
   "source": [
    "# 4. CNN의 학습원리 📝"
   ]
  },
  {
   "cell_type": "markdown",
   "id": "de1264f2-6454-49c8-ba33-a167907e98c5",
   "metadata": {},
   "source": [
    "## A. data "
   ]
  },
  {
   "cell_type": "markdown",
   "id": "8082a566-c95d-41be-b9e2-d2e413408cfc",
   "metadata": {},
   "source": [
    "아래의 4개의 이미지를 생각하자 ."
   ]
  },
  {
   "cell_type": "code",
   "execution_count": 28,
   "id": "30586d56-e2ce-4f4b-987b-6f0d58d68035",
   "metadata": {},
   "outputs": [],
   "source": [
    "img0 = torch.tensor([\n",
    "    [0.1, 0.1, 0.1, 0.1, 0.1, 0.1, 0.1, 0.1, 0.0, 0.0, 0.0, 0.0, 0.0, 0.0, 0.0, 0.0],\n",
    "    [0.1, 0.1, 0.1, 0.1, 0.1, 0.1, 0.1, 0.1, 0.0, 0.0, 0.0, 0.0, 0.0, 0.0, 0.0, 0.0],\n",
    "    [0.1, 0.1, 0.1, 0.1, 0.1, 0.1, 0.1, 0.1, 0.0, 0.0, 0.0, 0.0, 0.0, 0.0, 0.0, 0.0],\n",
    "    [0.1, 0.1, 0.1, 0.1, 0.1, 0.1, 0.1, 0.1, 0.0, 0.0, 0.0, 0.0, 0.0, 0.0, 0.0, 0.0],\n",
    "    [0.1, 0.1, 0.1, 0.1, 0.1, 0.1, 0.1, 0.1, 0.0, 0.0, 0.0, 0.0, 0.0, 0.0, 0.0, 0.0],\n",
    "    [0.1, 0.1, 0.1, 0.1, 0.1, 0.1, 0.1, 0.1, 0.0, 0.0, 0.0, 0.0, 0.0, 0.0, 0.0, 0.0],\n",
    "    [0.1, 0.1, 0.1, 0.1, 0.1, 0.1, 0.1, 0.1, 0.0, 0.0, 0.0, 0.0, 0.0, 0.0, 0.0, 0.0],\n",
    "    [0.1, 0.1, 0.1, 0.1, 0.1, 0.1, 0.1, 0.1, 0.0, 0.0, 0.0, 0.0, 0.0, 0.0, 0.0, 0.0],\n",
    "    [0.1, 0.1, 0.1, 0.1, 0.1, 0.1, 0.1, 0.1, 0.0, 0.0, 0.0, 0.0, 0.0, 0.0, 0.0, 0.0],\n",
    "    [0.1, 0.1, 0.1, 0.1, 0.1, 0.1, 0.1, 0.1, 0.0, 0.0, 0.0, 0.0, 0.0, 0.0, 0.0, 0.0],\n",
    "    [0.1, 0.1, 0.1, 0.1, 0.1, 0.1, 0.1, 0.1, 0.0, 0.0, 0.0, 0.0, 0.0, 0.0, 0.0, 0.0],\n",
    "    [0.1, 0.1, 0.1, 0.1, 0.1, 0.1, 0.1, 0.1, 0.0, 0.0, 0.0, 0.0, 0.0, 0.0, 0.0, 0.0],\n",
    "    [0.1, 0.1, 0.1, 0.1, 0.1, 0.1, 0.1, 0.1, 0.0, 0.0, 0.0, 0.0, 0.0, 0.0, 0.0, 0.0],\n",
    "    [0.1, 0.1, 0.1, 0.1, 0.1, 0.1, 0.1, 0.1, 0.0, 0.0, 0.0, 0.0, 0.0, 0.0, 0.0, 0.0],\n",
    "    [0.1, 0.1, 0.1, 0.1, 0.1, 0.1, 0.1, 0.1, 0.0, 0.0, 0.0, 0.0, 0.0, 0.0, 0.0, 0.0],\n",
    "    [0.1, 0.1, 0.1, 0.1, 0.1, 0.1, 0.1, 0.1, 0.0, 0.0, 0.0, 0.0, 0.0, 0.0, 0.0, 0.0]\n",
    "]).reshape(1, 1, 16, 16) \n",
    "img1 = 0.1-torch.einsum('nchw->ncwh', img0.clone())\n",
    "img2 = torch.zeros((1, 1, 16, 16))\n",
    "for i in range(16):\n",
    "    for j in range(16):\n",
    "        if j <= i:  # 대각선 아래 삼각형\n",
    "            img2[0, 0, i, j] = 0.1\n",
    "# 빈 이미지\n",
    "img3 = torch.zeros((1, 1, 16, 16))\n",
    "block_size = 2\n",
    "# 블록 단위로 채우기\n",
    "for i in range(0, 16, block_size):\n",
    "    for j in range(0, 16, block_size):\n",
    "        if ((i // block_size) + (j // block_size)) % 2 == 0:\n",
    "            img3[0, 0, i:i+block_size, j:j+block_size] = 0.1"
   ]
  },
  {
   "cell_type": "markdown",
   "id": "be29d6bf-3515-481f-bed6-52625f8b3598",
   "metadata": {},
   "source": [
    "🗣️("
   ]
  },
  {
   "cell_type": "code",
   "execution_count": 30,
   "id": "4ccb83a1-b61b-4878-ba78-5361c96dd20f",
   "metadata": {},
   "outputs": [
    {
     "data": {
      "text/plain": [
       "torch.Size([1, 1, 16, 16])"
      ]
     },
     "execution_count": 30,
     "metadata": {},
     "output_type": "execute_result"
    }
   ],
   "source": [
    "img0.shape # 16*16 흑백 이미지"
   ]
  },
  {
   "cell_type": "code",
   "execution_count": 31,
   "id": "98f3f746-006f-455a-b439-a4573db0bde4",
   "metadata": {},
   "outputs": [
    {
     "data": {
      "text/plain": [
       "<matplotlib.image.AxesImage at 0x7ef7e4a1bb80>"
      ]
     },
     "execution_count": 31,
     "metadata": {},
     "output_type": "execute_result"
    },
    {
     "data": {
      "image/png": "[encoded data removed]",
      "text/plain": [
       "<Figure size 450x300 with 1 Axes>"
      ]
     },
     "metadata": {},
     "output_type": "display_data"
    }
   ],
   "source": [
    "plt.imshow(img0.reshape(16,16),cmap=\"gray\")"
   ]
  },
  {
   "cell_type": "markdown",
   "id": "8fd89f01-e637-41b0-ab1c-b43beb3482b5",
   "metadata": {},
   "source": [
    "- 0.1이 흰색, 0이 검정색"
   ]
  },
  {
   "cell_type": "code",
   "execution_count": 32,
   "id": "bff3c953-0190-4281-9b13-d04d0d945aa5",
   "metadata": {},
   "outputs": [
    {
     "data": {
      "text/plain": [
       "<matplotlib.image.AxesImage at 0x7ef7e48f05e0>"
      ]
     },
     "execution_count": 32,
     "metadata": {},
     "output_type": "execute_result"
    },
    {
     "data": {
      "image/png": "[encoded data removed]",
      "text/plain": [
       "<Figure size 450x300 with 1 Axes>"
      ]
     },
     "metadata": {},
     "output_type": "display_data"
    }
   ],
   "source": [
    "plt.imshow(img1.reshape(16,16),cmap=\"gray\")"
   ]
  },
  {
   "cell_type": "code",
   "execution_count": 33,
   "id": "5f0fba81-a1bb-43dc-b19e-9879905ad276",
   "metadata": {},
   "outputs": [
    {
     "data": {
      "text/plain": [
       "<matplotlib.image.AxesImage at 0x7ef7e4864a00>"
      ]
     },
     "execution_count": 33,
     "metadata": {},
     "output_type": "execute_result"
    },
    {
     "data": {
      "image/png": "[encoded data removed]",
      "text/plain": [
       "<Figure size 450x300 with 1 Axes>"
      ]
     },
     "metadata": {},
     "output_type": "display_data"
    }
   ],
   "source": [
    "plt.imshow(img2.reshape(16,16),cmap=\"gray\")"
   ]
  },
  {
   "cell_type": "code",
   "execution_count": 34,
   "id": "45920a43-fa52-489b-b1cf-ac8af4ef8cbc",
   "metadata": {},
   "outputs": [
    {
     "data": {
      "text/plain": [
       "<matplotlib.image.AxesImage at 0x7ef7e47da130>"
      ]
     },
     "execution_count": 34,
     "metadata": {},
     "output_type": "execute_result"
    },
    {
     "data": {
      "image/png": "[encoded data removed]",
      "text/plain": [
       "<Figure size 450x300 with 1 Axes>"
      ]
     },
     "metadata": {},
     "output_type": "display_data"
    }
   ],
   "source": [
    "plt.imshow(img3.reshape(16,16),cmap=\"gray\")"
   ]
  },
  {
   "cell_type": "code",
   "execution_count": 35,
   "id": "2f354366-d76d-46f1-bc1c-c31d045c7046",
   "metadata": {},
   "outputs": [
    {
     "data": {
      "text/plain": [
       "torch.Size([1, 1, 16, 16])"
      ]
     },
     "execution_count": 35,
     "metadata": {},
     "output_type": "execute_result"
    }
   ],
   "source": [
    "img3.shape"
   ]
  },
  {
   "cell_type": "code",
   "execution_count": 36,
   "id": "a09a2240-4eca-40d9-98de-49004c369c88",
   "metadata": {},
   "outputs": [
    {
     "data": {
      "text/plain": [
       "torch.Size([16, 16])"
      ]
     },
     "execution_count": 36,
     "metadata": {},
     "output_type": "execute_result"
    }
   ],
   "source": [
    "img3.reshape(16,16).shape"
   ]
  },
  {
   "cell_type": "code",
   "execution_count": 37,
   "id": "dec0c441-3009-4c0a-907e-e0d94dc3a79a",
   "metadata": {},
   "outputs": [
    {
     "data": {
      "text/plain": [
       "torch.Size([16, 16])"
      ]
     },
     "execution_count": 37,
     "metadata": {},
     "output_type": "execute_result"
    }
   ],
   "source": [
    "img3.squeeze().shape # 차원이 1인것은 줄어드는 method"
   ]
  },
  {
   "cell_type": "markdown",
   "id": "aff20965-ccf2-42b4-b809-3cc3bc9667d4",
   "metadata": {},
   "source": [
    ")🗣️"
   ]
  },
  {
   "cell_type": "code",
   "execution_count": 38,
   "id": "b85ac889-9ffd-4da8-a66f-0f55d0fdcaa5",
   "metadata": {},
   "outputs": [
    {
     "data": {
      "text/plain": [
       "<matplotlib.image.AxesImage at 0x7ef7e48f0370>"
      ]
     },
     "execution_count": 38,
     "metadata": {},
     "output_type": "execute_result"
    },
    {
     "data": {
      "image/png": "[encoded data removed]",
      "text/plain": [
       "<Figure size 800x800 with 4 Axes>"
      ]
     },
     "metadata": {},
     "output_type": "display_data"
    }
   ],
   "source": [
    "fig, axs = plt.subplots(2,2)\n",
    "fig.set_figheight(8)\n",
    "fig.set_figwidth(8)\n",
    "axs[0][0].imshow(img0.squeeze(),cmap=\"gray\")\n",
    "axs[0][1].imshow(img1.squeeze(),cmap=\"gray\")\n",
    "axs[1][0].imshow(img2.squeeze(),cmap=\"gray\")\n",
    "axs[1][1].imshow(img3.squeeze(),cmap=\"gray\")"
   ]
  },
  {
   "cell_type": "code",
   "execution_count": 39,
   "id": "e0993c5d-5437-49cc-8ffd-7a43b691f0a6",
   "metadata": {},
   "outputs": [
    {
     "data": {
      "text/plain": [
       "torch.Size([4, 1, 16, 16])"
      ]
     },
     "execution_count": 39,
     "metadata": {},
     "output_type": "execute_result"
    }
   ],
   "source": [
    "imgs = torch.concat([img0,img1,img2,img3],axis=0)\n",
    "imgs.shape"
   ]
  },
  {
   "cell_type": "markdown",
   "id": "7993abf7-8226-44d8-b861-6cdcef6ebb59",
   "metadata": {},
   "source": [
    "## B. vertical edge"
   ]
  },
  {
   "cell_type": "markdown",
   "id": "b79be5d6-0778-4f46-8ebd-8813b27f3257",
   "metadata": {},
   "source": [
    "🗣️("
   ]
  },
  {
   "cell_type": "markdown",
   "id": "bfc4c10a-ddf9-4ec9-8634-ea3cf32f302f",
   "metadata": {},
   "source": [
    "```\n",
    "x1 x2 x3 x4\n",
    "x5 x6 x7 x8\n",
    "x9 x10 x11 x12\n",
    "x13 x14 x15 x16\n",
    "\n",
    "[-1 1\n",
    " -1 1]\n",
    "\n",
    "x1 x2\n",
    "x5 x6\n",
    "에 적용하면\n",
    "-x1 x2\n",
    "-x5 x6\n",
    "다 더하면\n",
    "-x1 + x2 -x5 + x6\n",
    "= (x2-x1) + (x6-x5)\n",
    "둘 씩 비교하여 변화가 있으면 1, 없으면 0\n",
    "\n",
    "예시)\n",
    "0 0 1 1\n",
    "0 0 1 1\n",
    "0 0 1 1\n",
    "0 0 1 1\n",
    "적용 후\n",
    "0 1 0\n",
    "0 1 0\n",
    "0 1 0\n",
    "\n",
    "확장)\n",
    "0 0 0 1 1 1\n",
    "0 0 0 1 1 1\n",
    "0 0 0 1 1 1\n",
    "0 0 0 1 1 1\n",
    "0 0 0 1 1 1\n",
    "0 0 0 1 1 1\n",
    "적용 후\n",
    "0 0 1 0 0\n",
    "0 0 1 0 0\n",
    "0 0 1 0 0\n",
    "0 0 1 0 0\n",
    "0 0 1 0 0\n",
    "```"
   ]
  },
  {
   "cell_type": "code",
   "execution_count": 64,
   "id": "b68fcad0-42bf-4068-9373-663f162c3002",
   "metadata": {},
   "outputs": [],
   "source": [
    "v_conv = torch.nn.Conv2d(\n",
    "    in_channels=1,\n",
    "    out_channels=1,\n",
    "    kernel_size=2,\n",
    "    bias=False\n",
    ")"
   ]
  },
  {
   "cell_type": "code",
   "execution_count": 65,
   "id": "fd4dab85-77db-4b4b-8d58-458fac2ae94a",
   "metadata": {},
   "outputs": [],
   "source": [
    "v_conv.weight.data = torch.tensor([[[\n",
    "    [-1.0, 1.0],\n",
    "    [-1.0, 1.0]\n",
    "]]])"
   ]
  },
  {
   "cell_type": "code",
   "execution_count": 66,
   "id": "4d36a35a-bd0d-4720-8132-33c7a2f33513",
   "metadata": {},
   "outputs": [
    {
     "data": {
      "text/plain": [
       "<matplotlib.image.AxesImage at 0x7ef7b95dbe20>"
      ]
     },
     "execution_count": 66,
     "metadata": {},
     "output_type": "execute_result"
    },
    {
     "data": {
      "image/png": "[encoded data removed]",
      "text/plain": [
       "<Figure size 450x300 with 1 Axes>"
      ]
     },
     "metadata": {},
     "output_type": "display_data"
    }
   ],
   "source": [
    "plt.imshow(v_conv(img0).squeeze().data, cmap=\"gray\")"
   ]
  },
  {
   "cell_type": "code",
   "execution_count": 67,
   "id": "43fe4126-21cd-4af9-969e-6430dc661ad9",
   "metadata": {},
   "outputs": [
    {
     "data": {
      "text/plain": [
       "<matplotlib.image.AxesImage at 0x7ef7c6bb89a0>"
      ]
     },
     "execution_count": 67,
     "metadata": {},
     "output_type": "execute_result"
    },
    {
     "data": {
      "image/png": "[encoded data removed]",
      "text/plain": [
       "<Figure size 450x300 with 1 Axes>"
      ]
     },
     "metadata": {},
     "output_type": "display_data"
    }
   ],
   "source": [
    "plt.imshow(v_conv(img1).squeeze().data, cmap=\"gray\")"
   ]
  },
  {
   "cell_type": "code",
   "execution_count": 68,
   "id": "4efc8525-a2fb-4e63-a2a2-6ace6efea19b",
   "metadata": {},
   "outputs": [
    {
     "data": {
      "text/plain": [
       "<matplotlib.image.AxesImage at 0x7ef7b96f5fa0>"
      ]
     },
     "execution_count": 68,
     "metadata": {},
     "output_type": "execute_result"
    },
    {
     "data": {
      "image/png": "[encoded data removed]",
      "text/plain": [
       "<Figure size 450x300 with 1 Axes>"
      ]
     },
     "metadata": {},
     "output_type": "display_data"
    }
   ],
   "source": [
    "plt.imshow(v_conv(img2).squeeze().data, cmap=\"gray\")"
   ]
  },
  {
   "cell_type": "code",
   "execution_count": 69,
   "id": "37eeb824-106a-4cbc-be47-cc5b02dcdb09",
   "metadata": {},
   "outputs": [
    {
     "data": {
      "text/plain": [
       "<matplotlib.image.AxesImage at 0x7ef7b87f5130>"
      ]
     },
     "execution_count": 69,
     "metadata": {},
     "output_type": "execute_result"
    },
    {
     "data": {
      "image/png": "[encoded data removed]",
      "text/plain": [
       "<Figure size 450x300 with 1 Axes>"
      ]
     },
     "metadata": {},
     "output_type": "display_data"
    }
   ],
   "source": [
    "plt.imshow(v_conv(img3).squeeze().data, cmap=\"gray\")"
   ]
  },
  {
   "attachments": {},
   "cell_type": "markdown",
   "id": "6977c0d6-a1fc-48ec-8973-50f6cea6df47",
   "metadata": {},
   "source": [
    "- 회색: 값 변화 X, 검정색: 흰색->검정색, 흰색: 검정색->흰색\n",
    "- 이동평균과 kernel_size를 맞춰주면 밑의 코드와 같음"
   ]
  },
  {
   "cell_type": "markdown",
   "id": "3798d46d-0f86-4b97-9a77-4e3fb5ab7c70",
   "metadata": {},
   "source": [
    ")🗣️"
   ]
  },
  {
   "cell_type": "code",
   "execution_count": 85,
   "id": "003ff044-14dc-42f8-b4c5-88a93f37b240",
   "metadata": {},
   "outputs": [],
   "source": [
    "v_conv = torch.nn.Conv2d(\n",
    "    in_channels=1,\n",
    "    out_channels=1,\n",
    "    kernel_size=4,\n",
    "    bias=False\n",
    ")"
   ]
  },
  {
   "cell_type": "code",
   "execution_count": 86,
   "id": "738951f5-a9ad-4aa4-839f-e2ef57ccdff0",
   "metadata": {},
   "outputs": [],
   "source": [
    "v_conv.weight.data = torch.tensor([[[\n",
    "    [ 0, 0, 0, 0],\n",
    "    [ 0, 1.0, -1.0, 0],\n",
    "    [0, 1.0, -1.0, 0],\n",
    "    [ 0, 0, 0, 0]\n",
    "]]])"
   ]
  },
  {
   "cell_type": "markdown",
   "id": "3c1680a5-7d14-4a33-a3fc-a4f1eebe2e9b",
   "metadata": {},
   "source": [
    "> 이 `v_conv`는 좌우방향의 픽셀변화, 즉 수직 방향의 엣지(vertical edge)를 감지하는데 적절하다. "
   ]
  },
  {
   "cell_type": "code",
   "execution_count": 87,
   "id": "b9c619c8-019d-4d8a-a248-e8face64dd52",
   "metadata": {},
   "outputs": [
    {
     "data": {
      "text/plain": [
       "<matplotlib.image.AxesImage at 0x7ef7d26aff70>"
      ]
     },
     "execution_count": 87,
     "metadata": {},
     "output_type": "execute_result"
    },
    {
     "data": {
      "image/png": "[encoded data removed]",
      "text/plain": [
       "<Figure size 800x800 with 4 Axes>"
      ]
     },
     "metadata": {},
     "output_type": "display_data"
    }
   ],
   "source": [
    "fig, axs = plt.subplots(2,2)\n",
    "fig.set_figheight(8)\n",
    "fig.set_figwidth(8)\n",
    "axs[0][0].imshow(v_conv(imgs)[0].squeeze().data,cmap=\"gray\")\n",
    "axs[0][1].imshow(v_conv(imgs)[1].squeeze().data,cmap=\"gray\")\n",
    "axs[1][0].imshow(v_conv(imgs)[2].squeeze().data,cmap=\"gray\")\n",
    "axs[1][1].imshow(v_conv(imgs)[3].squeeze().data,cmap=\"gray\")"
   ]
  },
  {
   "cell_type": "markdown",
   "id": "1638030f-a6ec-4491-ab3e-cf8271b8bce8",
   "metadata": {},
   "source": [
    "🗣️ 왼쪽과 오른쪽을 비교하여 edge를 걸었더니 모두 0이면 위아래임을 알 수 있음 "
   ]
  },
  {
   "cell_type": "markdown",
   "id": "71885772-d47b-4d93-884c-9666983b638f",
   "metadata": {},
   "source": [
    "## C. horizontal edge"
   ]
  },
  {
   "cell_type": "markdown",
   "id": "e036704e-ebfd-44bd-8472-808f953ca262",
   "metadata": {},
   "source": [
    "✍️("
   ]
  },
  {
   "cell_type": "markdown",
   "id": "38b9f7fa-9ab9-4185-ad5e-52d154769f3d",
   "metadata": {},
   "source": [
    "```\n",
    "x1 x2 x3 x4\n",
    "x5 x6 x7 x8\n",
    "x9 x10 x11 x12\n",
    "x13 x14 x15 x16\n",
    "\n",
    "[-1 -1\n",
    "  1 1]\n",
    "\n",
    "x1 x2\n",
    "x5 x6\n",
    "에 적용하면\n",
    "-x1 -x2\n",
    " x5 x6\n",
    "다 더하면\n",
    "-x1 - x2 + x5 + x6\n",
    "= (x5-x1) + (x6-x2)\n",
    "둘 씩 비교하여 변화가 있으면 1, 없으면 0\n",
    "\n",
    "예시)\n",
    "1 1 1 1\n",
    "1 1 1 1\n",
    "0 0 0 0\n",
    "0 0 0 0\n",
    "적용 후\n",
    "0 0 0\n",
    "1 1 1\n",
    "0 0 0\n",
    "\n",
    "확장)\n",
    "1 1 1 1 1 1\n",
    "1 1 1 1 1 1\n",
    "1 1 1 1 1 1\n",
    "0 0 0 0 0 0\n",
    "0 0 0 0 0 0\n",
    "0 0 0 0 0 0\n",
    "적용 후\n",
    "0 0 0 0 0\n",
    "0 0 0 0 0\n",
    "1 1 1 1 1\n",
    "0 0 0 0 0\n",
    "0 0 0 0 0\n",
    "```"
   ]
  },
  {
   "cell_type": "markdown",
   "id": "f610ec90-5b3f-40bd-a01e-6b027ac91e6c",
   "metadata": {},
   "source": [
    ")✍️"
   ]
  },
  {
   "cell_type": "code",
   "execution_count": 61,
   "id": "4d45c899-192b-4196-b3be-9be247185e17",
   "metadata": {},
   "outputs": [],
   "source": [
    "h_conv = torch.nn.Conv2d(\n",
    "    in_channels=1,\n",
    "    out_channels=1,\n",
    "    kernel_size=4,\n",
    "    bias=False\n",
    ")"
   ]
  },
  {
   "cell_type": "code",
   "execution_count": 62,
   "id": "2d7c4587-5b56-482f-b830-0c68e2c0a94e",
   "metadata": {},
   "outputs": [],
   "source": [
    "h_conv.weight.data = torch.tensor([[[\n",
    "    [ 0, 0, 0, 0],\n",
    "    [ 0, -1.0, -1.0, 0],\n",
    "    [0, 1.0, 1.0, 0],\n",
    "    [ 0, 0, 0, 0]\n",
    "]]])"
   ]
  },
  {
   "cell_type": "markdown",
   "id": "90264cb7-881e-4ca6-ba62-63431ba16813",
   "metadata": {},
   "source": [
    "> 이 `h_conv`는 위아레 방향의 픽셀변화, 즉 수평엣지(horizontal edge)를 감지하는데 적절하다. "
   ]
  },
  {
   "cell_type": "code",
   "execution_count": 63,
   "id": "2759fb8a-a66b-4e76-9cba-4860dfb7aa1b",
   "metadata": {},
   "outputs": [
    {
     "data": {
      "text/plain": [
       "<matplotlib.image.AxesImage at 0x7ef7e19189a0>"
      ]
     },
     "execution_count": 63,
     "metadata": {},
     "output_type": "execute_result"
    },
    {
     "data": {
      "image/png": "[encoded data removed]",
      "text/plain": [
       "<Figure size 800x800 with 4 Axes>"
      ]
     },
     "metadata": {},
     "output_type": "display_data"
    }
   ],
   "source": [
    "fig, axs = plt.subplots(2,2)\n",
    "fig.set_figheight(8)\n",
    "fig.set_figwidth(8)\n",
    "axs[0][0].imshow(h_conv(imgs)[0].squeeze().data,cmap=\"gray\")\n",
    "axs[0][1].imshow(h_conv(imgs)[1].squeeze().data,cmap=\"gray\")\n",
    "axs[1][0].imshow(h_conv(imgs)[2].squeeze().data,cmap=\"gray\")\n",
    "axs[1][1].imshow(h_conv(imgs)[3].squeeze().data,cmap=\"gray\")"
   ]
  },
  {
   "cell_type": "markdown",
   "id": "bd5962ca-9868-481b-a3ce-c33719f332fa",
   "metadata": {},
   "source": [
    "🗣️ 위쪽과 아래쪽을 비교하여 edge를 걸었더니 모두 0이면 좌우임을 알 수 있음 "
   ]
  },
  {
   "cell_type": "markdown",
   "id": "39db94b2-75b5-4ddc-84bd-cb584a4207de",
   "metadata": {},
   "source": [
    "## D. 이동평균"
   ]
  },
  {
   "cell_type": "markdown",
   "id": "3c5a7d04-aad2-4934-8800-133deca2eada",
   "metadata": {},
   "source": [
    "🗣️("
   ]
  },
  {
   "cell_type": "code",
   "execution_count": 40,
   "id": "87cdf07e-9bd8-4e66-8f75-1dd56e710d5a",
   "metadata": {},
   "outputs": [],
   "source": [
    "m_conv = torch.nn.Conv2d(\n",
    "    in_channels=1,\n",
    "    out_channels=1,\n",
    "    kernel_size=4,\n",
    ")\n",
    "m_conv.weight.data = m_conv.weight.data*0 + 1/16 # 16개 pixel에 대한 평균\n",
    "m_conv.bias.data = m_conv.bias.data*0"
   ]
  },
  {
   "cell_type": "code",
   "execution_count": 41,
   "id": "ab8f2563-cba0-4db4-b0f6-a8e01eeae6f5",
   "metadata": {},
   "outputs": [
    {
     "data": {
      "text/plain": [
       "torch.Size([1, 1, 13, 13])"
      ]
     },
     "execution_count": 41,
     "metadata": {},
     "output_type": "execute_result"
    }
   ],
   "source": [
    "m_conv(img0).shape"
   ]
  },
  {
   "cell_type": "code",
   "execution_count": 42,
   "id": "15925ff1-0d90-4417-96ca-2dbe5102472d",
   "metadata": {},
   "outputs": [
    {
     "data": {
      "text/plain": [
       "torch.Size([13, 13])"
      ]
     },
     "execution_count": 42,
     "metadata": {},
     "output_type": "execute_result"
    }
   ],
   "source": [
    "m_conv(img0).squeeze().shape"
   ]
  },
  {
   "cell_type": "code",
   "execution_count": 43,
   "id": "7b9b0076-d9ea-48ec-b4a4-554997d0e33c",
   "metadata": {},
   "outputs": [
    {
     "data": {
      "text/plain": [
       "<matplotlib.image.AxesImage at 0x7ef7e4609280>"
      ]
     },
     "execution_count": 43,
     "metadata": {},
     "output_type": "execute_result"
    },
    {
     "data": {
      "image/png": "[encoded data removed]",
      "text/plain": [
       "<Figure size 450x300 with 1 Axes>"
      ]
     },
     "metadata": {},
     "output_type": "display_data"
    }
   ],
   "source": [
    "plt.imshow(m_conv(img0).squeeze().data, cmap=\"gray\")"
   ]
  },
  {
   "cell_type": "markdown",
   "id": "e93c3685-9ff8-489d-9b4e-afe5d42b4edb",
   "metadata": {},
   "source": [
    "- 평균은 smoothing 하는 효과"
   ]
  },
  {
   "cell_type": "code",
   "execution_count": 44,
   "id": "49e64901-0e73-49f8-bbbe-24a8df880865",
   "metadata": {},
   "outputs": [
    {
     "data": {
      "text/plain": [
       "<matplotlib.image.AxesImage at 0x7ef7e14abaf0>"
      ]
     },
     "execution_count": 44,
     "metadata": {},
     "output_type": "execute_result"
    },
    {
     "data": {
      "image/png": "[encoded data removed]",
      "text/plain": [
       "<Figure size 450x300 with 1 Axes>"
      ]
     },
     "metadata": {},
     "output_type": "display_data"
    }
   ],
   "source": [
    "plt.imshow(m_conv(img1).squeeze().data, cmap=\"gray\")"
   ]
  },
  {
   "cell_type": "code",
   "execution_count": 45,
   "id": "c334cf06-73e2-4ca0-a29f-448188bd6ab2",
   "metadata": {},
   "outputs": [
    {
     "data": {
      "text/plain": [
       "<matplotlib.image.AxesImage at 0x7ef7e1417820>"
      ]
     },
     "execution_count": 45,
     "metadata": {},
     "output_type": "execute_result"
    },
    {
     "data": {
      "image/png": "[encoded data removed]",
      "text/plain": [
       "<Figure size 450x300 with 1 Axes>"
      ]
     },
     "metadata": {},
     "output_type": "display_data"
    }
   ],
   "source": [
    "plt.imshow(m_conv(img2).squeeze().data, cmap=\"gray\")"
   ]
  },
  {
   "cell_type": "code",
   "execution_count": 46,
   "id": "4670c41e-4254-4e13-a3f1-02b0ddb3a06e",
   "metadata": {},
   "outputs": [
    {
     "data": {
      "text/plain": [
       "<matplotlib.image.AxesImage at 0x7ef7e1407d30>"
      ]
     },
     "execution_count": 46,
     "metadata": {},
     "output_type": "execute_result"
    },
    {
     "data": {
      "image/png": "[encoded data removed]",
      "text/plain": [
       "<Figure size 450x300 with 1 Axes>"
      ]
     },
     "metadata": {},
     "output_type": "display_data"
    }
   ],
   "source": [
    "plt.imshow(m_conv(img3).squeeze().data, cmap=\"gray\")"
   ]
  },
  {
   "cell_type": "markdown",
   "id": "0a60089f-2aab-4e3b-9950-713b313da98b",
   "metadata": {},
   "source": [
    "- 평균은 회색 (검은 색으로 보이지만 아님)"
   ]
  },
  {
   "cell_type": "code",
   "execution_count": 47,
   "id": "f226c91f-dfc8-4eb0-a6c8-3ec3a52769f3",
   "metadata": {},
   "outputs": [
    {
     "data": {
      "text/plain": [
       "tensor([[[[0.0500, 0.0500, 0.0500, 0.0500, 0.0500, 0.0500, 0.0500, 0.0500,\n",
       "           0.0500, 0.0500, 0.0500, 0.0500, 0.0500],\n",
       "          [0.0500, 0.0500, 0.0500, 0.0500, 0.0500, 0.0500, 0.0500, 0.0500,\n",
       "           0.0500, 0.0500, 0.0500, 0.0500, 0.0500],\n",
       "          [0.0500, 0.0500, 0.0500, 0.0500, 0.0500, 0.0500, 0.0500, 0.0500,\n",
       "           0.0500, 0.0500, 0.0500, 0.0500, 0.0500],\n",
       "          [0.0500, 0.0500, 0.0500, 0.0500, 0.0500, 0.0500, 0.0500, 0.0500,\n",
       "           0.0500, 0.0500, 0.0500, 0.0500, 0.0500],\n",
       "          [0.0500, 0.0500, 0.0500, 0.0500, 0.0500, 0.0500, 0.0500, 0.0500,\n",
       "           0.0500, 0.0500, 0.0500, 0.0500, 0.0500],\n",
       "          [0.0500, 0.0500, 0.0500, 0.0500, 0.0500, 0.0500, 0.0500, 0.0500,\n",
       "           0.0500, 0.0500, 0.0500, 0.0500, 0.0500],\n",
       "          [0.0500, 0.0500, 0.0500, 0.0500, 0.0500, 0.0500, 0.0500, 0.0500,\n",
       "           0.0500, 0.0500, 0.0500, 0.0500, 0.0500],\n",
       "          [0.0500, 0.0500, 0.0500, 0.0500, 0.0500, 0.0500, 0.0500, 0.0500,\n",
       "           0.0500, 0.0500, 0.0500, 0.0500, 0.0500],\n",
       "          [0.0500, 0.0500, 0.0500, 0.0500, 0.0500, 0.0500, 0.0500, 0.0500,\n",
       "           0.0500, 0.0500, 0.0500, 0.0500, 0.0500],\n",
       "          [0.0500, 0.0500, 0.0500, 0.0500, 0.0500, 0.0500, 0.0500, 0.0500,\n",
       "           0.0500, 0.0500, 0.0500, 0.0500, 0.0500],\n",
       "          [0.0500, 0.0500, 0.0500, 0.0500, 0.0500, 0.0500, 0.0500, 0.0500,\n",
       "           0.0500, 0.0500, 0.0500, 0.0500, 0.0500],\n",
       "          [0.0500, 0.0500, 0.0500, 0.0500, 0.0500, 0.0500, 0.0500, 0.0500,\n",
       "           0.0500, 0.0500, 0.0500, 0.0500, 0.0500],\n",
       "          [0.0500, 0.0500, 0.0500, 0.0500, 0.0500, 0.0500, 0.0500, 0.0500,\n",
       "           0.0500, 0.0500, 0.0500, 0.0500, 0.0500]]]],\n",
       "       grad_fn=<ConvolutionBackward0>)"
      ]
     },
     "execution_count": 47,
     "metadata": {},
     "output_type": "execute_result"
    }
   ],
   "source": [
    "m_conv(img3)"
   ]
  },
  {
   "cell_type": "code",
   "execution_count": 49,
   "id": "a7ad9a73-ad60-4047-8d8a-97884b327a64",
   "metadata": {},
   "outputs": [],
   "source": [
    "# plt.imshow(m_conv(img3).squeeze().data*0, cmap=\"gray\") # *0을 해도 검은 색으로 보임"
   ]
  },
  {
   "cell_type": "code",
   "execution_count": 50,
   "id": "479fee42-ad4a-4443-a2f5-16a5e2d49b02",
   "metadata": {},
   "outputs": [
    {
     "data": {
      "text/plain": [
       "<matplotlib.image.AxesImage at 0x7ef7c725ce80>"
      ]
     },
     "execution_count": 50,
     "metadata": {},
     "output_type": "execute_result"
    },
    {
     "data": {
      "image/png": "[encoded data removed]",
      "text/plain": [
       "<Figure size 450x300 with 1 Axes>"
      ]
     },
     "metadata": {},
     "output_type": "display_data"
    }
   ],
   "source": [
    "plt.imshow(m_conv(img3).squeeze().data, cmap=\"gray\", vmin=-1, vmax=1) # 실질적으로 어떤 색인지 알려면"
   ]
  },
  {
   "cell_type": "code",
   "execution_count": 51,
   "id": "129c48d5-99d5-4aff-8581-89d0f4157012",
   "metadata": {},
   "outputs": [
    {
     "data": {
      "text/plain": [
       "<matplotlib.image.AxesImage at 0x7ef7c71d5070>"
      ]
     },
     "execution_count": 51,
     "metadata": {},
     "output_type": "execute_result"
    },
    {
     "data": {
      "image/png": "[encoded data removed]",
      "text/plain": [
       "<Figure size 450x300 with 1 Axes>"
      ]
     },
     "metadata": {},
     "output_type": "display_data"
    }
   ],
   "source": [
    "plt.imshow(m_conv(img3).squeeze().data*0, cmap=\"gray\", vmin=-1, vmax=1) # 실질적으로 어떤 색인지 알려면"
   ]
  },
  {
   "cell_type": "code",
   "execution_count": 52,
   "id": "e70c2329-9a48-4789-a675-104b2622e227",
   "metadata": {},
   "outputs": [
    {
     "data": {
      "text/plain": [
       "<matplotlib.image.AxesImage at 0x7ef7c71b6d00>"
      ]
     },
     "execution_count": 52,
     "metadata": {},
     "output_type": "execute_result"
    },
    {
     "data": {
      "image/png": "[encoded data removed]",
      "text/plain": [
       "<Figure size 450x300 with 1 Axes>"
      ]
     },
     "metadata": {},
     "output_type": "display_data"
    }
   ],
   "source": [
    "plt.imshow(m_conv(img3).squeeze().data*0-1, cmap=\"gray\", vmin=-1, vmax=1) # 검정색"
   ]
  },
  {
   "cell_type": "code",
   "execution_count": 53,
   "id": "1af26605-bc9c-4571-beca-0d3d81587f91",
   "metadata": {
    "scrolled": true
   },
   "outputs": [
    {
     "data": {
      "text/plain": [
       "<matplotlib.image.AxesImage at 0x7ef7c712d160>"
      ]
     },
     "execution_count": 53,
     "metadata": {},
     "output_type": "execute_result"
    },
    {
     "data": {
      "image/png": "[encoded data removed]",
      "text/plain": [
       "<Figure size 450x300 with 1 Axes>"
      ]
     },
     "metadata": {},
     "output_type": "display_data"
    }
   ],
   "source": [
    "plt.imshow(m_conv(img3).squeeze().data*0+1, cmap=\"gray\", vmin=-1, vmax=1) # 흰색"
   ]
  },
  {
   "cell_type": "code",
   "execution_count": 56,
   "id": "012c5f79-4830-445d-923b-3b5d9c7fe1e9",
   "metadata": {},
   "outputs": [
    {
     "data": {
      "text/plain": [
       "torch.Size([4, 1, 16, 16])"
      ]
     },
     "execution_count": 56,
     "metadata": {},
     "output_type": "execute_result"
    }
   ],
   "source": [
    "imgs.shape"
   ]
  },
  {
   "cell_type": "code",
   "execution_count": 57,
   "id": "a9d01b57-d04d-40cf-af22-a4f592ef2d99",
   "metadata": {},
   "outputs": [
    {
     "data": {
      "text/plain": [
       "torch.Size([4, 1, 13, 13])"
      ]
     },
     "execution_count": 57,
     "metadata": {},
     "output_type": "execute_result"
    }
   ],
   "source": [
    "m_conv(imgs).shape"
   ]
  },
  {
   "cell_type": "markdown",
   "id": "4e2633db-5417-4655-bca9-fc0e6aaf9cc3",
   "metadata": {},
   "source": [
    ")🗣️"
   ]
  },
  {
   "cell_type": "code",
   "execution_count": 54,
   "id": "68db9ddb-acc7-400c-8a8c-e244376928e4",
   "metadata": {},
   "outputs": [],
   "source": [
    "m_conv = torch.nn.Conv2d(\n",
    "    in_channels=1,\n",
    "    out_channels=1,\n",
    "    kernel_size=4,\n",
    ")\n",
    "m_conv.weight.data = m_conv.weight.data*0 + 1/16\n",
    "m_conv.bias.data = m_conv.bias.data*0 - 0.05 # 진짜 0이 됨"
   ]
  },
  {
   "cell_type": "code",
   "execution_count": 55,
   "id": "66fad121-35e3-4766-993a-b0518b7ef72b",
   "metadata": {},
   "outputs": [
    {
     "data": {
      "text/plain": [
       "<matplotlib.image.AxesImage at 0x7ef7c704e070>"
      ]
     },
     "execution_count": 55,
     "metadata": {},
     "output_type": "execute_result"
    },
    {
     "data": {
      "image/png": "[encoded data removed]",
      "text/plain": [
       "<Figure size 800x800 with 4 Axes>"
      ]
     },
     "metadata": {},
     "output_type": "display_data"
    }
   ],
   "source": [
    "fig, axs = plt.subplots(2,2)\n",
    "fig.set_figheight(8)\n",
    "fig.set_figwidth(8)\n",
    "axs[0][0].imshow(m_conv(imgs)[0].squeeze().data,cmap=\"gray\")\n",
    "axs[0][1].imshow(m_conv(imgs)[1].squeeze().data,cmap=\"gray\")\n",
    "axs[1][0].imshow(m_conv(imgs)[2].squeeze().data,cmap=\"gray\")\n",
    "axs[1][1].imshow(m_conv(imgs)[3].squeeze().data,cmap=\"gray\")"
   ]
  },
  {
   "cell_type": "markdown",
   "id": "3fc67779-a694-4d0a-98ab-0aed5a373696",
   "metadata": {},
   "source": [
    "- 🗣️\n",
    "    - 이동평균을 했더니 0으로 나오면 체크무늬인 것을 알 수 있음\n",
    "    - 3개의 필터에 모두 0이 안되면 대각선인 것을 알 수 있음"
   ]
  },
  {
   "cell_type": "markdown",
   "id": "5a9e765b-5b21-4df5-b84a-8b4ceaca9cb9",
   "metadata": {},
   "source": [
    "🗣️("
   ]
  },
  {
   "cell_type": "markdown",
   "id": "136599ba-0395-4c97-bcd9-d441498a227f",
   "metadata": {},
   "source": [
    "- 매우 다양한 조합 가능"
   ]
  },
  {
   "cell_type": "code",
   "execution_count": 70,
   "id": "2b4af20a-4e55-4842-984d-8ba7ba47f769",
   "metadata": {},
   "outputs": [],
   "source": [
    "m_conv = torch.nn.Conv2d(\n",
    "    in_channels=1,\n",
    "    out_channels=1,\n",
    "    kernel_size=6, # 6으로 변경\n",
    ")\n",
    "m_conv.weight.data = m_conv.weight.data*0 + 1/16\n",
    "m_conv.bias.data = m_conv.bias.data*0 - 0.05"
   ]
  },
  {
   "cell_type": "code",
   "execution_count": 71,
   "id": "b45b0b98-736a-439c-a1eb-d23bd54844c2",
   "metadata": {},
   "outputs": [
    {
     "data": {
      "text/plain": [
       "<matplotlib.image.AxesImage at 0x7ef7b85afbb0>"
      ]
     },
     "execution_count": 71,
     "metadata": {},
     "output_type": "execute_result"
    },
    {
     "data": {
      "image/png": "[encoded data removed]",
      "text/plain": [
       "<Figure size 800x800 with 4 Axes>"
      ]
     },
     "metadata": {},
     "output_type": "display_data"
    }
   ],
   "source": [
    "fig, axs = plt.subplots(2,2)\n",
    "fig.set_figheight(8)\n",
    "fig.set_figwidth(8)\n",
    "axs[0][0].imshow(m_conv(imgs)[0].squeeze().data,cmap=\"gray\")\n",
    "axs[0][1].imshow(m_conv(imgs)[1].squeeze().data,cmap=\"gray\")\n",
    "axs[1][0].imshow(m_conv(imgs)[2].squeeze().data,cmap=\"gray\")\n",
    "axs[1][1].imshow(m_conv(imgs)[3].squeeze().data,cmap=\"gray\")"
   ]
  },
  {
   "cell_type": "code",
   "execution_count": 73,
   "id": "c3f68dfb-ab97-432e-9915-88f06192fdf2",
   "metadata": {},
   "outputs": [
    {
     "data": {
      "text/plain": [
       "<matplotlib.image.AxesImage at 0x7ef7d295d190>"
      ]
     },
     "execution_count": 73,
     "metadata": {},
     "output_type": "execute_result"
    },
    {
     "data": {
      "image/png": "[encoded data removed]",
      "text/plain": [
       "<Figure size 800x800 with 4 Axes>"
      ]
     },
     "metadata": {},
     "output_type": "display_data"
    }
   ],
   "source": [
    "fig, axs = plt.subplots(2,2)\n",
    "fig.set_figheight(8)\n",
    "fig.set_figwidth(8)\n",
    "axs[0][0].imshow(m_conv(imgs)[0].squeeze().data,cmap=\"gray\")\n",
    "axs[0][1].imshow(m_conv(imgs)[1].squeeze().data,cmap=\"gray\")\n",
    "axs[1][0].imshow(m_conv(imgs)[2].squeeze().data,cmap=\"gray\")\n",
    "axs[1][1].imshow(m_conv(m_conv(imgs))[3].squeeze().data,cmap=\"gray\") # 한 번 더 걸면"
   ]
  },
  {
   "cell_type": "code",
   "execution_count": 74,
   "id": "a212e3d1-3b87-433d-a159-7314565fcc8e",
   "metadata": {},
   "outputs": [
    {
     "data": {
      "text/plain": [
       "<matplotlib.image.AxesImage at 0x7ef7d27aa5b0>"
      ]
     },
     "execution_count": 74,
     "metadata": {},
     "output_type": "execute_result"
    },
    {
     "data": {
      "image/png": "[encoded data removed]",
      "text/plain": [
       "<Figure size 800x800 with 4 Axes>"
      ]
     },
     "metadata": {},
     "output_type": "display_data"
    }
   ],
   "source": [
    "fig, axs = plt.subplots(2,2)\n",
    "fig.set_figheight(8)\n",
    "fig.set_figwidth(8)\n",
    "axs[0][0].imshow(m_conv(imgs)[0].squeeze().data,cmap=\"gray\")\n",
    "axs[0][1].imshow(m_conv(imgs)[1].squeeze().data,cmap=\"gray\")\n",
    "axs[1][0].imshow(m_conv(m_conv(imgs))[2].squeeze().data,cmap=\"gray\") # 이것도 한 번 더\n",
    "axs[1][1].imshow(m_conv(m_conv(imgs))[3].squeeze().data,cmap=\"gray\")"
   ]
  },
  {
   "cell_type": "markdown",
   "id": "6dc5a454-4dab-428b-b19e-ea55cb737546",
   "metadata": {},
   "source": [
    ")🗣️"
   ]
  },
  {
   "cell_type": "markdown",
   "id": "6af21e8a-e701-43c4-b989-244e7fd36f4b",
   "metadata": {},
   "source": [
    "## E. (C,D,E) + relu + mp"
   ]
  },
  {
   "cell_type": "markdown",
   "id": "357e34ce-1f73-44f3-bd69-098b04d69aa0",
   "metadata": {},
   "source": [
    "🗣️("
   ]
  },
  {
   "cell_type": "code",
   "execution_count": 76,
   "id": "d1589dfc-5554-4737-a434-adfc6c112ac1",
   "metadata": {},
   "outputs": [],
   "source": [
    "m_conv = torch.nn.Conv2d(\n",
    "    in_channels=1,\n",
    "    out_channels=1,\n",
    "    kernel_size=4,\n",
    ")\n",
    "m_conv.weight.data = m_conv.weight.data*0 + 1/16\n",
    "m_conv.bias.data = m_conv.bias.data*0 - 0.05 # 진짜 0이 됨"
   ]
  },
  {
   "cell_type": "code",
   "execution_count": 77,
   "id": "f7d1765a-0b04-428b-8c12-3bbb66e3502c",
   "metadata": {},
   "outputs": [
    {
     "data": {
      "text/plain": [
       "torch.Size([4, 1, 13, 13])"
      ]
     },
     "execution_count": 77,
     "metadata": {},
     "output_type": "execute_result"
    }
   ],
   "source": [
    "m_conv(imgs).shape"
   ]
  },
  {
   "cell_type": "code",
   "execution_count": 79,
   "id": "add7bf21-b6b5-4367-8efa-ce980c8061f4",
   "metadata": {},
   "outputs": [],
   "source": [
    "mp = torch.nn.MaxPool2d(kernel_size=13) # 13*13 중에 가장 큰 값을 뽑음"
   ]
  },
  {
   "cell_type": "code",
   "execution_count": 81,
   "id": "feead0de-e5c4-4fd8-a62e-fb0f6d2e9250",
   "metadata": {},
   "outputs": [
    {
     "data": {
      "text/plain": [
       "tensor([[[[5.0000e-02]]],\n",
       "\n",
       "\n",
       "        [[[5.0000e-02]]],\n",
       "\n",
       "\n",
       "        [[[5.0000e-02]]],\n",
       "\n",
       "\n",
       "        [[[9.3132e-10]]]], grad_fn=<MaxPool2DWithIndicesBackward0>)"
      ]
     },
     "execution_count": 81,
     "metadata": {},
     "output_type": "execute_result"
    }
   ],
   "source": [
    "mp(m_conv(imgs)) # 마지막만 0이 됨"
   ]
  },
  {
   "cell_type": "code",
   "execution_count": 83,
   "id": "7410f8ff-8f38-44c8-99f9-f5776a24e283",
   "metadata": {},
   "outputs": [
    {
     "data": {
      "text/plain": [
       "tensor([[[[0.0000]]],\n",
       "\n",
       "\n",
       "        [[[0.2000]]],\n",
       "\n",
       "\n",
       "        [[[0.1000]]],\n",
       "\n",
       "\n",
       "        [[[0.2000]]]], grad_fn=<MaxPool2DWithIndicesBackward0>)"
      ]
     },
     "execution_count": 83,
     "metadata": {},
     "output_type": "execute_result"
    }
   ],
   "source": [
    "mp(h_conv(imgs)) # 처음만 0이 됨"
   ]
  },
  {
   "cell_type": "code",
   "execution_count": 89,
   "id": "26db783a-3571-4749-ac5e-5b623da74aba",
   "metadata": {},
   "outputs": [
    {
     "data": {
      "text/plain": [
       "tensor([[[[0.2000]]],\n",
       "\n",
       "\n",
       "        [[[0.0000]]],\n",
       "\n",
       "\n",
       "        [[[0.1000]]],\n",
       "\n",
       "\n",
       "        [[[0.2000]]]], grad_fn=<MaxPool2DWithIndicesBackward0>)"
      ]
     },
     "execution_count": 89,
     "metadata": {},
     "output_type": "execute_result"
    }
   ],
   "source": [
    "mp(v_conv(imgs)) # 두번째만 0이 됨"
   ]
  },
  {
   "cell_type": "markdown",
   "id": "c072d422-3e76-49e6-9216-369d4b6970ad",
   "metadata": {},
   "source": [
    "- 여기서는 큰 의미는 없지만 relu도 같이 통과를 시키면 결과가 다양해짐"
   ]
  },
  {
   "cell_type": "code",
   "execution_count": 90,
   "id": "53852421-2d49-4078-869f-1ee882d86a03",
   "metadata": {},
   "outputs": [],
   "source": [
    "relu = torch.nn.ReLU()"
   ]
  },
  {
   "cell_type": "code",
   "execution_count": 91,
   "id": "0c56569a-20db-4722-b86e-b1615f97998f",
   "metadata": {},
   "outputs": [
    {
     "data": {
      "text/plain": [
       "<matplotlib.image.AxesImage at 0x7ef7d2395cd0>"
      ]
     },
     "execution_count": 91,
     "metadata": {},
     "output_type": "execute_result"
    },
    {
     "data": {
      "image/png": "[encoded data removed]",
      "text/plain": [
       "<Figure size 800x800 with 4 Axes>"
      ]
     },
     "metadata": {},
     "output_type": "display_data"
    }
   ],
   "source": [
    "fig, axs = plt.subplots(2,2)\n",
    "fig.set_figheight(8)\n",
    "fig.set_figwidth(8)\n",
    "axs[0][0].imshow(relu(h_conv(imgs))[0].squeeze().data,cmap=\"gray\")\n",
    "axs[0][1].imshow(relu(h_conv(imgs))[1].squeeze().data,cmap=\"gray\")\n",
    "axs[1][0].imshow(relu(h_conv(imgs))[2].squeeze().data,cmap=\"gray\")\n",
    "axs[1][1].imshow(relu(h_conv(imgs))[3].squeeze().data,cmap=\"gray\")"
   ]
  },
  {
   "cell_type": "markdown",
   "id": "e46f2a7e-c3c6-4cc8-939e-55a7a2ea034b",
   "metadata": {},
   "source": [
    ")🗣️"
   ]
  },
  {
   "cell_type": "code",
   "execution_count": 92,
   "id": "48784b62-2c11-499e-9467-e2064907feb8",
   "metadata": {},
   "outputs": [],
   "source": [
    "relu = torch.nn.ReLU()\n",
    "mp = torch.nn.MaxPool2d(kernel_size=13)"
   ]
  },
  {
   "cell_type": "code",
   "execution_count": 93,
   "id": "27daa5f3-cf30-49e9-bd00-ccbb962ce4c5",
   "metadata": {},
   "outputs": [
    {
     "data": {
      "text/plain": [
       "tensor([[[[0.2000]]],\n",
       "\n",
       "\n",
       "        [[[0.0000]]],\n",
       "\n",
       "\n",
       "        [[[0.1000]]],\n",
       "\n",
       "\n",
       "        [[[0.2000]]]], grad_fn=<MaxPool2DWithIndicesBackward0>)"
      ]
     },
     "execution_count": 93,
     "metadata": {},
     "output_type": "execute_result"
    }
   ],
   "source": [
    "mp(relu(v_conv(imgs)))"
   ]
  },
  {
   "cell_type": "code",
   "execution_count": 94,
   "id": "df12d52b-abc7-441c-a660-9bb59bce37d6",
   "metadata": {},
   "outputs": [
    {
     "data": {
      "text/plain": [
       "tensor([[[[0.0000]]],\n",
       "\n",
       "\n",
       "        [[[0.2000]]],\n",
       "\n",
       "\n",
       "        [[[0.1000]]],\n",
       "\n",
       "\n",
       "        [[[0.2000]]]], grad_fn=<MaxPool2DWithIndicesBackward0>)"
      ]
     },
     "execution_count": 94,
     "metadata": {},
     "output_type": "execute_result"
    }
   ],
   "source": [
    "mp(relu(h_conv(imgs)))"
   ]
  },
  {
   "cell_type": "code",
   "execution_count": 95,
   "id": "23611d05-4752-43f8-942d-4fda866493af",
   "metadata": {},
   "outputs": [
    {
     "data": {
      "text/plain": [
       "tensor([[[[5.0000e-02]]],\n",
       "\n",
       "\n",
       "        [[[5.0000e-02]]],\n",
       "\n",
       "\n",
       "        [[[5.0000e-02]]],\n",
       "\n",
       "\n",
       "        [[[9.3132e-10]]]], grad_fn=<MaxPool2DWithIndicesBackward0>)"
      ]
     },
     "execution_count": 95,
     "metadata": {},
     "output_type": "execute_result"
    }
   ],
   "source": [
    "mp(relu(m_conv(imgs)))"
   ]
  },
  {
   "cell_type": "markdown",
   "id": "86dba07e-5997-4ea2-baf2-ea3d85beaec5",
   "metadata": {},
   "source": [
    "🗣️ 매우 많은 숫자들이 구분하기 용이한 숫자들로 요약됨"
   ]
  },
  {
   "cell_type": "markdown",
   "id": "83be49c4-2e73-47c4-ba9f-f04172b05398",
   "metadata": {},
   "source": [
    "## F. 대충 이런 구조"
   ]
  },
  {
   "cell_type": "markdown",
   "id": "398f9f0b-9650-4e09-9d5f-3ebc0ddf03ba",
   "metadata": {},
   "source": [
    "🗣️("
   ]
  },
  {
   "cell_type": "markdown",
   "id": "c03d4234-0243-4c5d-9d09-636dc4abcd98",
   "metadata": {},
   "source": [
    "```\n",
    "이미지1->h->r->mp->0,??,??\n",
    "      ->v->r->mp->\n",
    "      ->m->r->mp\n",
    "\n",
    "이미지1->(h,v,m)->r->mp->0,??,??\n",
    "이미지2->(h,v,m)->r->mp->0,??,??\n",
    "이미지3->(h,v,m)->r->mp->0,??,??\n",
    "이미지4->(h,v,m)->r->mp->0,??,??\n",
    "```"
   ]
  },
  {
   "cell_type": "code",
   "execution_count": 96,
   "id": "5b8a1596-c6aa-42f3-9eb0-83f4710ac198",
   "metadata": {},
   "outputs": [],
   "source": [
    "net = torch.nn.Sequential(\n",
    "    torch.nn.Conv2d(in_channels=1,out_channels=3,kernel_size=4), # bias 사용\n",
    "    torch.nn.ReLU(), # 다양해짐\n",
    "    torch.nn.MaxPool2d(kernel_size=13),\n",
    "    torch.nn.Flatten()\n",
    ")"
   ]
  },
  {
   "cell_type": "code",
   "execution_count": 97,
   "id": "8e012641-ce9c-4894-8b8d-3c7e1bc16672",
   "metadata": {},
   "outputs": [
    {
     "data": {
      "text/plain": [
       "torch.Size([3, 1, 4, 4])"
      ]
     },
     "execution_count": 97,
     "metadata": {},
     "output_type": "execute_result"
    }
   ],
   "source": [
    "net[0].weight.shape"
   ]
  },
  {
   "cell_type": "markdown",
   "id": "82f9d65c-b784-408b-a36c-ad95aa790a62",
   "metadata": {},
   "source": [
    "```\n",
    "1,1,4,4 --> m_conv\n",
    "1,1,4,4 --> h_conv\n",
    "1,1,4,4 --> v_conv\n",
    "3,1,4,4 --> conv\n",
    "```"
   ]
  },
  {
   "cell_type": "code",
   "execution_count": 98,
   "id": "8bbccd6f-2ac1-4691-8826-a2aca96cd901",
   "metadata": {},
   "outputs": [
    {
     "data": {
      "text/plain": [
       "tensor([[[[-0.0833, -0.0289, -0.2051, -0.2370],\n",
       "          [-0.1144, -0.0212, -0.0276,  0.1908],\n",
       "          [-0.1374, -0.1581, -0.0825, -0.1222],\n",
       "          [-0.2006, -0.1606, -0.1211,  0.0583]]],\n",
       "\n",
       "\n",
       "        [[[ 0.2180, -0.1371, -0.0198, -0.1251],\n",
       "          [-0.0198, -0.0584,  0.1258,  0.0500],\n",
       "          [ 0.0558, -0.0605, -0.1558,  0.2098],\n",
       "          [ 0.0355, -0.0771,  0.0439,  0.0692]]],\n",
       "\n",
       "\n",
       "        [[[ 0.2496, -0.0280, -0.1691, -0.2486],\n",
       "          [-0.1302,  0.1365, -0.0934, -0.2321],\n",
       "          [-0.0914,  0.2089, -0.1784,  0.1483],\n",
       "          [ 0.1498,  0.0237,  0.2464,  0.0540]]]])"
      ]
     },
     "execution_count": 98,
     "metadata": {},
     "output_type": "execute_result"
    }
   ],
   "source": [
    "net[0].weight.data"
   ]
  },
  {
   "cell_type": "code",
   "execution_count": 100,
   "id": "6ac1f0b8-8bb7-4c76-a509-904697c9de1c",
   "metadata": {},
   "outputs": [
    {
     "data": {
      "text/plain": [
       "torch.Size([3, 1, 4, 4])"
      ]
     },
     "execution_count": 100,
     "metadata": {},
     "output_type": "execute_result"
    }
   ],
   "source": [
    "torch.concat(\n",
    "    [v_conv.weight.data,\n",
    "     h_conv.weight.data,\n",
    "     m_conv.weight.data],axis=0).shape"
   ]
  },
  {
   "cell_type": "code",
   "execution_count": 101,
   "id": "b3286719-3e64-4ba4-8425-e6bf403ae352",
   "metadata": {},
   "outputs": [
    {
     "data": {
      "text/plain": [
       "tensor([[[[ 0.0000,  0.0000,  0.0000,  0.0000],\n",
       "          [ 0.0000,  1.0000, -1.0000,  0.0000],\n",
       "          [ 0.0000,  1.0000, -1.0000,  0.0000],\n",
       "          [ 0.0000,  0.0000,  0.0000,  0.0000]]],\n",
       "\n",
       "\n",
       "        [[[ 0.0000,  0.0000,  0.0000,  0.0000],\n",
       "          [ 0.0000, -1.0000, -1.0000,  0.0000],\n",
       "          [ 0.0000,  1.0000,  1.0000,  0.0000],\n",
       "          [ 0.0000,  0.0000,  0.0000,  0.0000]]],\n",
       "\n",
       "\n",
       "        [[[ 0.0625,  0.0625,  0.0625,  0.0625],\n",
       "          [ 0.0625,  0.0625,  0.0625,  0.0625],\n",
       "          [ 0.0625,  0.0625,  0.0625,  0.0625],\n",
       "          [ 0.0625,  0.0625,  0.0625,  0.0625]]]])"
      ]
     },
     "execution_count": 101,
     "metadata": {},
     "output_type": "execute_result"
    }
   ],
   "source": [
    "net[0].weight.data = torch.concat(\n",
    "    [v_conv.weight.data,\n",
    "     h_conv.weight.data,\n",
    "     m_conv.weight.data],axis=0)\n",
    "net[0].weight.data"
   ]
  },
  {
   "cell_type": "code",
   "execution_count": 102,
   "id": "a6b75591-fc56-4e2e-9e43-ce51640ac72e",
   "metadata": {},
   "outputs": [
    {
     "data": {
      "text/plain": [
       "tensor([ 0.1274,  0.2041, -0.0989])"
      ]
     },
     "execution_count": 102,
     "metadata": {},
     "output_type": "execute_result"
    }
   ],
   "source": [
    "net[0].bias.data"
   ]
  },
  {
   "cell_type": "code",
   "execution_count": 103,
   "id": "27eea8d7-cddb-4e5d-b71c-d17809b16765",
   "metadata": {},
   "outputs": [],
   "source": [
    "net[0].bias.data = torch.tensor([0.0,0.0, -0.05])"
   ]
  },
  {
   "cell_type": "code",
   "execution_count": 104,
   "id": "1f3185ce-5ccf-4917-93aa-94f987e22702",
   "metadata": {},
   "outputs": [
    {
     "data": {
      "text/plain": [
       "tensor([[2.0000e-01, 0.0000e+00, 5.0000e-02],\n",
       "        [0.0000e+00, 2.0000e-01, 5.0000e-02],\n",
       "        [1.0000e-01, 1.0000e-01, 5.0000e-02],\n",
       "        [2.0000e-01, 2.0000e-01, 9.3132e-10]], grad_fn=<ViewBackward0>)"
      ]
     },
     "execution_count": 104,
     "metadata": {},
     "output_type": "execute_result"
    }
   ],
   "source": [
    "net(imgs)"
   ]
  },
  {
   "cell_type": "markdown",
   "id": "9369a8e0-b7e9-4892-8b4c-0e866688684e",
   "metadata": {},
   "source": [
    "```\n",
    "두번째 0\n",
    "첫번째 0\n",
    "0 없음\n",
    "네번째 0\n",
    "```"
   ]
  },
  {
   "cell_type": "markdown",
   "id": "04080996-47a2-456e-814d-c0ee69db68bb",
   "metadata": {},
   "source": [
    ")🗣️"
   ]
  },
  {
   "cell_type": "code",
   "execution_count": 105,
   "id": "dc8fecb8-0c68-4047-a94c-e173949fb350",
   "metadata": {},
   "outputs": [],
   "source": [
    "net = torch.nn.Sequential(\n",
    "    torch.nn.Conv2d(in_channels=1,out_channels=3,kernel_size=4), # bias 사용\n",
    "    torch.nn.ReLU(), # 다양해짐\n",
    "    torch.nn.MaxPool2d(kernel_size=13),\n",
    "    torch.nn.Flatten()\n",
    ")\n",
    "net[0].weight.data = torch.concat(\n",
    "    [v_conv.weight.data,\n",
    "     h_conv.weight.data,\n",
    "     m_conv.weight.data],axis=0)\n",
    "net[0].bias.data = torch.tensor([0.0,0.0, -0.05])"
   ]
  },
  {
   "cell_type": "code",
   "execution_count": 106,
   "id": "a0319e99-e198-4ae6-a719-f475091e458b",
   "metadata": {},
   "outputs": [
    {
     "data": {
      "text/plain": [
       "<matplotlib.image.AxesImage at 0x7ef7c7844a30>"
      ]
     },
     "execution_count": 106,
     "metadata": {},
     "output_type": "execute_result"
    },
    {
     "data": {
      "image/png": "[encoded data removed]",
      "text/plain": [
       "<Figure size 400x533.333 with 1 Axes>"
      ]
     },
     "metadata": {},
     "output_type": "display_data"
    }
   ],
   "source": [
    "plt.matshow(net(imgs).data,cmap=\"gray\")"
   ]
  },
  {
   "cell_type": "code",
   "execution_count": 995,
   "id": "9107a537-22cb-49c5-856e-6b79b0abbc65",
   "metadata": {},
   "outputs": [
    {
     "data": {
      "text/plain": [
       "torch.Size([4, 3])"
      ]
     },
     "execution_count": 995,
     "metadata": {},
     "output_type": "execute_result"
    }
   ],
   "source": [
    "net(imgs).shape"
   ]
  },
  {
   "cell_type": "markdown",
   "id": "df9a3a0b-965a-4945-a700-05a21f2701d8",
   "metadata": {},
   "source": [
    "🗣️ 4개의 이미지를 각각 3개로 특징을 요약"
   ]
  },
  {
   "cell_type": "markdown",
   "id": "0c300ade-f952-43f4-addd-e5dad882b23b",
   "metadata": {},
   "source": [
    "> 출력은 (n,3)으로 정리되어서 나온다. 이 시점부터는 더 이상 이미지가 입력이라고 생각하지 않아도 되고, 단순히 (n, 3) 크기의 숫자 데이터가 입력으로 주어진 것처럼 보면 된다.\n",
    "즉 이제부터는 이 (n,3) 데이터를 입력으로 받는 신경망을 설계하면 된다."
   ]
  },
  {
   "cell_type": "markdown",
   "id": "0aa330e2-5ecd-4e24-bada-920d2c46c74d",
   "metadata": {},
   "source": [
    "## G. mp의 역할?"
   ]
  },
  {
   "cell_type": "markdown",
   "id": "bdb697df-41d0-487e-abd6-e8deaeaea7b5",
   "metadata": {},
   "source": [
    "`-` 샘플이미지 "
   ]
  },
  {
   "cell_type": "code",
   "execution_count": 107,
   "id": "670f2322-1184-481d-80a5-432af5c69a7e",
   "metadata": {},
   "outputs": [],
   "source": [
    "img = torch.zeros((1, 1, 16, 16))\n",
    "triangle_size = 4\n",
    "for i in range(triangle_size):\n",
    "    for j in range(triangle_size):\n",
    "        if j <= i:  # 아래 방향 직각삼각형 (왼쪽 위 꼭짓점 기준)\n",
    "            img[0, 0, i, j] = 1.0"
   ]
  },
  {
   "cell_type": "code",
   "execution_count": 108,
   "id": "5f3770db-e6f3-43af-b384-7c22a55a2819",
   "metadata": {},
   "outputs": [
    {
     "data": {
      "text/plain": [
       "<matplotlib.image.AxesImage at 0x7ef7e246ac40>"
      ]
     },
     "execution_count": 108,
     "metadata": {},
     "output_type": "execute_result"
    },
    {
     "data": {
      "image/png": "[encoded data removed]",
      "text/plain": [
       "<Figure size 450x300 with 1 Axes>"
      ]
     },
     "metadata": {},
     "output_type": "display_data"
    }
   ],
   "source": [
    "plt.imshow(img.squeeze(),cmap=\"gray\")"
   ]
  },
  {
   "cell_type": "markdown",
   "id": "27c0aa25-de3a-492e-83da-c80fb41f9470",
   "metadata": {},
   "source": [
    "`-` mp1 회"
   ]
  },
  {
   "cell_type": "code",
   "execution_count": 109,
   "id": "487f2f20-69de-4c1c-b76d-a419d95acbad",
   "metadata": {},
   "outputs": [
    {
     "data": {
      "text/plain": [
       "<matplotlib.image.AxesImage at 0x7ef7e23ef1f0>"
      ]
     },
     "execution_count": 109,
     "metadata": {},
     "output_type": "execute_result"
    },
    {
     "data": {
      "image/png": "[encoded data removed]",
      "text/plain": [
       "<Figure size 450x300 with 1 Axes>"
      ]
     },
     "metadata": {},
     "output_type": "display_data"
    }
   ],
   "source": [
    "mp = torch.nn.MaxPool2d(kernel_size=2)\n",
    "plt.imshow(mp(img).squeeze(),cmap=\"gray\")"
   ]
  },
  {
   "cell_type": "markdown",
   "id": "7165c4f1-77af-476b-9629-590e52a2d709",
   "metadata": {},
   "source": [
    "🗣️ 이미지가 1/4로 줄어듦"
   ]
  },
  {
   "cell_type": "markdown",
   "id": "57eef40e-9e6b-4a4e-a211-8c4ba312a5d2",
   "metadata": {},
   "source": [
    "`-` mp 2~4회 "
   ]
  },
  {
   "cell_type": "code",
   "execution_count": 110,
   "id": "07e53504-8319-444e-84b5-b4606a5e2f63",
   "metadata": {},
   "outputs": [
    {
     "data": {
      "text/plain": [
       "<matplotlib.image.AxesImage at 0x7ef7e235f4c0>"
      ]
     },
     "execution_count": 110,
     "metadata": {},
     "output_type": "execute_result"
    },
    {
     "data": {
      "image/png": "[encoded data removed]",
      "text/plain": [
       "<Figure size 450x300 with 1 Axes>"
      ]
     },
     "metadata": {},
     "output_type": "display_data"
    }
   ],
   "source": [
    "mp = torch.nn.MaxPool2d(kernel_size=2)\n",
    "plt.imshow(mp(mp(img)).squeeze(),cmap=\"gray\")"
   ]
  },
  {
   "cell_type": "code",
   "execution_count": 111,
   "id": "7ab206ea-3ad4-4d01-bd16-10142569c6e2",
   "metadata": {},
   "outputs": [
    {
     "data": {
      "text/plain": [
       "<matplotlib.image.AxesImage at 0x7ef7e234db20>"
      ]
     },
     "execution_count": 111,
     "metadata": {},
     "output_type": "execute_result"
    },
    {
     "data": {
      "image/png": "[encoded data removed]",
      "text/plain": [
       "<Figure size 450x300 with 1 Axes>"
      ]
     },
     "metadata": {},
     "output_type": "display_data"
    }
   ],
   "source": [
    "mp = torch.nn.MaxPool2d(kernel_size=2)\n",
    "plt.imshow(mp(mp(mp(img))).squeeze(),cmap=\"gray\")"
   ]
  },
  {
   "cell_type": "markdown",
   "id": "593111e7-3e3b-4ef0-bde7-4b20fca18775",
   "metadata": {},
   "source": [
    "`-` maxpooling은 이미지를 \"캐리커처화\" 한다고 비유할 수 있음. 디테일은 버리고, 중요한 특징만 뽑아서 과장되게 요약한다. "
   ]
  },
  {
   "cell_type": "markdown",
   "id": "6c7b3bc7-5979-4a43-b946-923522b595b0",
   "metadata": {},
   "source": [
    "- 🗣️ 사이즈를 줄이려고 사용, 중요한 정보도 손실 X"
   ]
  },
  {
   "cell_type": "markdown",
   "id": "297c12e1-45e8-4340-aac5-55a6c01a6989",
   "metadata": {},
   "source": [
    "```\n",
    "CNN\n",
    "--> 2d // flatten (conv(특징)-relu(특징다변화)-maxpooling(요약))\n",
    "--> 1d // 단순신경망\n",
    "```"
   ]
  },
  {
   "cell_type": "markdown",
   "id": "b3c63e26-16d2-40f9-ab5f-cb1a026c4e13",
   "metadata": {},
   "source": [
    "# 5. FashionMNIST 📝"
   ]
  },
  {
   "cell_type": "markdown",
   "id": "cb671c0d-cb79-494d-a951-39e1e4875abd",
   "metadata": {},
   "source": [
    "`-` 데이터"
   ]
  },
  {
   "cell_type": "code",
   "execution_count": 112,
   "id": "b88df8c0-0260-459c-9a19-fe11eae2e887",
   "metadata": {},
   "outputs": [],
   "source": [
    "train_dataset = torchvision.datasets.FashionMNIST(root='./data', train=True, download=True)\n",
    "train_dataset = torch.utils.data.Subset(train_dataset, range(5000))\n",
    "to_tensor = torchvision.transforms.ToTensor()\n",
    "X = torch.stack([to_tensor(img) for img, lbl in train_dataset]).to(\"cuda:0\")\n",
    "y = torch.tensor([lbl for img, lbl in train_dataset])\n",
    "y = torch.nn.functional.one_hot(y).float().to(\"cuda:0\")"
   ]
  },
  {
   "cell_type": "markdown",
   "id": "4fccf7e0-57d7-493f-99e7-e81b349dd907",
   "metadata": {},
   "source": [
    "🗣️("
   ]
  },
  {
   "cell_type": "code",
   "execution_count": 113,
   "id": "9eca2e71-3099-44bb-88c1-c50158caf03c",
   "metadata": {},
   "outputs": [
    {
     "data": {
      "text/plain": [
       "torch.Size([5000, 1, 28, 28])"
      ]
     },
     "execution_count": 113,
     "metadata": {},
     "output_type": "execute_result"
    }
   ],
   "source": [
    "X.shape"
   ]
  },
  {
   "cell_type": "code",
   "execution_count": 114,
   "id": "9de222ec-1bee-4335-a526-d07cb34eb0fa",
   "metadata": {},
   "outputs": [
    {
     "data": {
      "text/plain": [
       "<matplotlib.image.AxesImage at 0x7ef7e230fbb0>"
      ]
     },
     "execution_count": 114,
     "metadata": {},
     "output_type": "execute_result"
    },
    {
     "data": {
      "image/png": "[encoded data removed]",
      "text/plain": [
       "<Figure size 450x300 with 1 Axes>"
      ]
     },
     "metadata": {},
     "output_type": "display_data"
    }
   ],
   "source": [
    "plt.imshow(X[0].squeeze().cpu(),cmap=\"gray\") # cuda에 있으므로 cpu로 보냄"
   ]
  },
  {
   "cell_type": "code",
   "execution_count": 115,
   "id": "2fd9ea67-042e-4310-a0b7-b2ecc9e6fc18",
   "metadata": {},
   "outputs": [
    {
     "data": {
      "text/plain": [
       "<matplotlib.image.AxesImage at 0x7ef7e2269b80>"
      ]
     },
     "execution_count": 115,
     "metadata": {},
     "output_type": "execute_result"
    },
    {
     "data": {
      "image/png": "[encoded data removed]",
      "text/plain": [
       "<Figure size 450x300 with 1 Axes>"
      ]
     },
     "metadata": {},
     "output_type": "display_data"
    }
   ],
   "source": [
    "plt.imshow(X[1].squeeze().cpu(),cmap=\"gray\") # 위와 구분될 수 있을 것 같음"
   ]
  },
  {
   "cell_type": "markdown",
   "id": "1559c1e4-8624-4ac8-853e-b2b5318693d2",
   "metadata": {},
   "source": [
    ")🗣️"
   ]
  },
  {
   "cell_type": "markdown",
   "id": "452a31e6-dde1-40b9-ba94-d4363f0b8be6",
   "metadata": {},
   "source": [
    "`-` 2d를 처리하고 flatten하는 네트워크 "
   ]
  },
  {
   "cell_type": "markdown",
   "id": "f83eb0a1-471d-4527-b783-c77a81755593",
   "metadata": {},
   "source": [
    "- 🗣️\n",
    "    - 16: 잘 모르겠지만 16개의 특징을 뽑아서 분류하고 싶음 (안 되면 늘리면 됨)\n",
    "    - kernel_size도 처음은 크게 크게 보며 특징을 뽑으려고 함 (해보면서 나중에 바꿔가면 됨)\n",
    "    - MaxPool2d(kernel_size=2) 커지면 심하게 요약 (위의 F 경우: 13)"
   ]
  },
  {
   "cell_type": "code",
   "execution_count": 116,
   "id": "a3e2ea0d-e577-4272-8fb2-1aec89382343",
   "metadata": {},
   "outputs": [],
   "source": [
    "net1 = torch.nn.Sequential(\n",
    "    torch.nn.Conv2d(in_channels=1,out_channels=16,kernel_size=5),\n",
    "    torch.nn.ReLU(),\n",
    "    torch.nn.MaxPool2d(kernel_size=2),\n",
    "    # torch.nn.Flatten()\n",
    ").to(\"cuda:0\")"
   ]
  },
  {
   "cell_type": "code",
   "execution_count": 117,
   "id": "08b2e9f4-cb20-4e73-884c-f2cd6180e35c",
   "metadata": {},
   "outputs": [
    {
     "data": {
      "text/plain": [
       "torch.Size([5000, 16, 12, 12])"
      ]
     },
     "execution_count": 117,
     "metadata": {},
     "output_type": "execute_result"
    }
   ],
   "source": [
    "net1(X).shape"
   ]
  },
  {
   "cell_type": "code",
   "execution_count": 118,
   "id": "c3b0d215-9845-4ca1-9d33-3c0b39ca637f",
   "metadata": {},
   "outputs": [],
   "source": [
    "net1 = torch.nn.Sequential(\n",
    "    torch.nn.Conv2d(in_channels=1,out_channels=16,kernel_size=5),\n",
    "    torch.nn.ReLU(),\n",
    "    torch.nn.MaxPool2d(kernel_size=2),\n",
    "    torch.nn.Flatten()\n",
    ").to(\"cuda:0\")"
   ]
  },
  {
   "cell_type": "code",
   "execution_count": 119,
   "id": "f99270a7-5716-4ab2-a094-eb36314e9f2c",
   "metadata": {},
   "outputs": [
    {
     "data": {
      "text/plain": [
       "torch.Size([5000, 2304])"
      ]
     },
     "execution_count": 119,
     "metadata": {},
     "output_type": "execute_result"
    }
   ],
   "source": [
    "net1(X).shape"
   ]
  },
  {
   "cell_type": "code",
   "execution_count": 120,
   "id": "661c5a0a-a6bf-4080-aee6-9473602df9eb",
   "metadata": {},
   "outputs": [
    {
     "data": {
      "text/plain": [
       "2304"
      ]
     },
     "execution_count": 120,
     "metadata": {},
     "output_type": "execute_result"
    }
   ],
   "source": [
    "16*12*12"
   ]
  },
  {
   "cell_type": "markdown",
   "id": "add7c82f-684f-4e39-a165-4d7a7b6952e3",
   "metadata": {},
   "source": [
    "> 출력은 (n,2304)으로 정리되어서 나온다. 이 시점부터는 더 이상 이미지가 입력이라고 생각하지 않아도 되고, 단순히 (n, 2304) 크기의 숫자 데이터가 입력으로 주어진 것처럼 보면 된다. 즉 이제부터는 이 (n,2304) 데이터를 입력으로 받는 신경망을 설계하면 된다."
   ]
  },
  {
   "cell_type": "markdown",
   "id": "39e1fc89-8701-490c-8d17-c648bc9ea217",
   "metadata": {},
   "source": [
    "`-` 1d를 처리하는 네트워크"
   ]
  },
  {
   "cell_type": "markdown",
   "id": "956647ff-0084-4382-b480-11c703c67234",
   "metadata": {},
   "source": [
    "🗣️("
   ]
  },
  {
   "cell_type": "code",
   "execution_count": 122,
   "id": "e3cb8314-63f4-46dc-aa8f-7fe7223f4d33",
   "metadata": {},
   "outputs": [
    {
     "data": {
      "text/plain": [
       "torch.Size([5000, 10])"
      ]
     },
     "execution_count": 122,
     "metadata": {},
     "output_type": "execute_result"
    }
   ],
   "source": [
    "y.shape"
   ]
  },
  {
   "cell_type": "markdown",
   "id": "426add87-5c70-469a-85a8-7237eb596b88",
   "metadata": {},
   "source": [
    "```python\n",
    "net2= torch.nn.Sequential(\n",
    "    torch.nn.Linear(2304,512),\n",
    "    torch.nn.ReLU(),\n",
    "    torch.nn.Linear(512,10)\n",
    ").to(\"cuda:0\")\n",
    "```"
   ]
  },
  {
   "cell_type": "markdown",
   "id": "55c64c13-71c3-4c58-9c41-3f31499c811e",
   "metadata": {},
   "source": [
    "- 10으로 받는게 부담스러우면 위 코드처럼 해도 됨"
   ]
  },
  {
   "cell_type": "code",
   "execution_count": 124,
   "id": "6da7a4f2-1658-46f1-98e3-89dde49b7e0a",
   "metadata": {},
   "outputs": [
    {
     "data": {
      "text/plain": [
       "torch.Size([5000, 2304])"
      ]
     },
     "execution_count": 124,
     "metadata": {},
     "output_type": "execute_result"
    }
   ],
   "source": [
    "net1(X).shape"
   ]
  },
  {
   "cell_type": "markdown",
   "id": "ba3d41ca-14fe-4bc7-8cde-74618c79ac2b",
   "metadata": {},
   "source": [
    ")🗣️"
   ]
  },
  {
   "cell_type": "code",
   "execution_count": 125,
   "id": "b38ee70f-b697-42e0-a2ae-73f12ff890d2",
   "metadata": {},
   "outputs": [],
   "source": [
    "net2= torch.nn.Sequential(\n",
    "    torch.nn.Linear(2304,10), # 클래스가 10개\n",
    ").to(\"cuda:0\")"
   ]
  },
  {
   "cell_type": "code",
   "execution_count": 126,
   "id": "abaa4d58-ad84-4e84-be07-fe61c927cf24",
   "metadata": {},
   "outputs": [
    {
     "data": {
      "text/plain": [
       "torch.Size([5000, 10])"
      ]
     },
     "execution_count": 126,
     "metadata": {},
     "output_type": "execute_result"
    }
   ],
   "source": [
    "net2(net1(X)).shape"
   ]
  },
  {
   "cell_type": "markdown",
   "id": "85e006cb-4be3-4020-a5c6-4fc133896a38",
   "metadata": {},
   "source": [
    "`-` 두 네트워크를 결합 "
   ]
  },
  {
   "cell_type": "code",
   "execution_count": 127,
   "id": "cd881579-ad2d-4e51-b85c-fd242b28d965",
   "metadata": {},
   "outputs": [
    {
     "data": {
      "text/plain": [
       "torch.Size([5000, 10])"
      ]
     },
     "execution_count": 127,
     "metadata": {},
     "output_type": "execute_result"
    }
   ],
   "source": [
    "net = torch.nn.Sequential(\n",
    "    net1,\n",
    "    net2\n",
    ")\n",
    "net(X).shape"
   ]
  },
  {
   "cell_type": "markdown",
   "id": "18231c6f-9a9e-4eb8-9cdb-a4111039f06b",
   "metadata": {},
   "source": [
    "`-` 최종적인 코드 "
   ]
  },
  {
   "cell_type": "code",
   "execution_count": 129,
   "id": "a215be56-4ef6-4452-b86c-50b4d45d81c2",
   "metadata": {},
   "outputs": [],
   "source": [
    "net = torch.nn.Sequential(\n",
    "    net1,\n",
    "    net2\n",
    ")\n",
    "loss_fn = torch.nn.CrossEntropyLoss() # y가 원핫인코딩\n",
    "optimizr=torch.optim.Adam(net.parameters())\n",
    "#---#\n",
    "for epoc in range(100):\n",
    "    #1\n",
    "    netout = net(X) # 로짓\n",
    "    #2\n",
    "    loss = loss_fn(netout,y)\n",
    "    #3\n",
    "    loss.backward()\n",
    "    #4 \n",
    "    optimizr.step()\n",
    "    optimizr.zero_grad()"
   ]
  },
  {
   "cell_type": "code",
   "execution_count": 131,
   "id": "36866c91-30c7-4a19-89c3-ed65c39b2b59",
   "metadata": {},
   "outputs": [
    {
     "data": {
      "text/plain": [
       "tensor(0.8792, device='cuda:0')"
      ]
     },
     "execution_count": 131,
     "metadata": {},
     "output_type": "execute_result"
    }
   ],
   "source": [
    "(net(X).argmax(axis=1) == y.argmax(axis=1)).float().mean()"
   ]
  },
  {
   "cell_type": "markdown",
   "id": "0e89dffc-ea42-4b7a-8ac8-171b0a4c7d06",
   "metadata": {},
   "source": [
    "🗣️("
   ]
  },
  {
   "cell_type": "markdown",
   "id": "4a606f40-f96b-4a7b-af6a-7fea61b07cf9",
   "metadata": {},
   "source": [
    "- 예측을 더 높이려면 여러가지 테크닉을 쓰면 됨"
   ]
  },
  {
   "cell_type": "code",
   "execution_count": 128,
   "id": "29564fda-6044-4793-9365-9284f39bac02",
   "metadata": {},
   "outputs": [
    {
     "data": {
      "text/plain": [
       "tensor([[0., 0., 0.,  ..., 0., 0., 1.],\n",
       "        [1., 0., 0.,  ..., 0., 0., 0.],\n",
       "        [1., 0., 0.,  ..., 0., 0., 0.],\n",
       "        ...,\n",
       "        [0., 0., 0.,  ..., 0., 0., 0.],\n",
       "        [0., 0., 0.,  ..., 0., 1., 0.],\n",
       "        [0., 0., 0.,  ..., 0., 0., 0.]], device='cuda:0')"
      ]
     },
     "execution_count": 128,
     "metadata": {},
     "output_type": "execute_result"
    }
   ],
   "source": [
    "y"
   ]
  },
  {
   "cell_type": "code",
   "execution_count": 130,
   "id": "8ac6acd8-9453-4fe6-aad9-36dca253486a",
   "metadata": {},
   "outputs": [
    {
     "data": {
      "text/plain": [
       "tensor([9, 0, 0,  ..., 5, 8, 3], device='cuda:0')"
      ]
     },
     "execution_count": 130,
     "metadata": {},
     "output_type": "execute_result"
    }
   ],
   "source": [
    "net(X).argmax(axis=1) # 예측을 보려면"
   ]
  },
  {
   "cell_type": "markdown",
   "id": "36981d93-bec3-419e-b162-0985a58d5926",
   "metadata": {},
   "source": [
    ")🗣️"
   ]
  }
 ],
 "metadata": {
  "kernelspec": {
   "display_name": "Python 3 (ipykernel)",
   "language": "python",
   "name": "python3"
  },
  "language_info": {
   "codemirror_mode": {
    "name": "ipython",
    "version": 3
   },
   "file_extension": ".py",
   "mimetype": "text/x-python",
   "name": "python",
   "nbconvert_exporter": "python",
   "pygments_lexer": "ipython3",
   "version": "3.9.18"
  }
 },
 "nbformat": 4,
 "nbformat_minor": 5
}
