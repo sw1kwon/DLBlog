{
 "cells": [
  {
   "cell_type": "raw",
   "id": "ccb497cc-3bf3-440b-afa3-ba4b31bc8802",
   "metadata": {
    "tags": [],
    "vscode": {
     "languageId": "raw"
    }
   },
   "source": [
    "---\n",
    "title: \"11wk-1: (추천시스템) -- Embedding 레이어, 사용자정의 네트워크, MF-based 추천시스템을 넘어서\"\n",
    "author: \"sw1kwon\"\n",
    "date: \"05/14/2025\"\n",
    "draft: false\n",
    "---"
   ]
  },
  {
   "cell_type": "markdown",
   "id": "fef15d18-e43b-4ec7-accb-258f9452798d",
   "metadata": {},
   "source": [
    "📘 **Note Format Guide**\n",
    "\n",
    "This format serves as a structured guide for organizing lecture content, personal interpretation, experiments, and study-related questions.\n",
    "\n",
    "| Type | What It Means | When I Use It |\n",
    "|------|----------------|----------------|\n",
    "| 📝 Lecture | Original material from the professor’s notes | When I’m referencing core concepts or provided code |\n",
    "| 🗣️ In-Class Note | Verbal explanations shared during the lecture | When I want to record something the professor said in class but didn’t include in the official notes |\n",
    "| ✍️ My Note | My thoughts, interpretations, or additional explanations | When I reflect on or explain something in my own words |\n",
    "| 🔬 Experiment | Code I tried out or changed to explore further | When I test variations or go beyond the original example |\n",
    "| ❓ Question | Questions I had while studying | When I want to revisit or research something more deeply |"
   ]
  },
  {
   "cell_type": "markdown",
   "id": "2c39c89e-e3cc-4926-88fb-e203efc98709",
   "metadata": {},
   "source": [
    "📝\n",
    "🗣️\n",
    "✍️\n",
    "🔬\n",
    "❓"
   ]
  },
  {
   "cell_type": "markdown",
   "id": "89f3bfeb-2454-46c1-ba73-d2620edd73bd",
   "metadata": {
    "id": "4d47a7c9"
   },
   "source": [
    "# 1. 강의노트 원본 및 영상 링크 📝"
   ]
  },
  {
   "cell_type": "markdown",
   "id": "939795b7-fe56-4947-ae13-0e5a16910161",
   "metadata": {},
   "source": [
    "[https://guebin.github.io/DL2025/posts/11wk-1.html](https://guebin.github.io/DL2025/posts/11wk-1.html)"
   ]
  },
  {
   "cell_type": "markdown",
   "id": "af8357b4-5922-4a7b-b428-0f3de369f96b",
   "metadata": {},
   "source": [
    "# 2. Imports 📝"
   ]
  },
  {
   "cell_type": "code",
   "execution_count": 1,
   "id": "d4dccddc-6409-4355-b92e-5d8ed3aa0238",
   "metadata": {
    "tags": []
   },
   "outputs": [],
   "source": [
    "import torch\n",
    "import pandas as pd\n",
    "import matplotlib.pyplot as plt"
   ]
  },
  {
   "cell_type": "code",
   "execution_count": 2,
   "id": "fd700095-93c4-479a-816f-276e5ab9cc32",
   "metadata": {},
   "outputs": [],
   "source": [
    "plt.rcParams['figure.figsize'] = (4.5, 3.0)"
   ]
  },
  {
   "cell_type": "code",
   "execution_count": 269,
   "id": "cf484d33-01b9-4a68-92d0-c8cfafe68961",
   "metadata": {},
   "outputs": [],
   "source": [
    "# 지난시간복습\n",
    "# 남여 출연자 -> 궁합점수 \n",
    "## train \n",
    "# X1     X2  --> y\n",
    "# 영식, 보람: 0.5 \n",
    "# 영호, 하니: 4.5\n",
    "## test \n",
    "# X1     X2  --> y\n",
    "# 영호, 보람: ???\n",
    "#---#\n",
    "# 학습은 \"X1: 영식 --> 2 --> [0,0,1,0,...0] --> linr([0,0,1,0,...0]) 특징추출\" 이런식으로 진행되는데, \n",
    "# 이중에서 linr(onehot(x)) 의 패턴이 반복적으로 네트워크에서 사용된다. "
   ]
  },
  {
   "cell_type": "markdown",
   "id": "4da1b5c8-7d33-4f44-bf5d-adfbe19205df",
   "metadata": {
    "tags": []
   },
   "source": [
    "# 3. `torch.nn.Embedding` 📝"
   ]
  },
  {
   "cell_type": "markdown",
   "id": "6a1098bc-d761-49c8-9c99-c6a68f36c925",
   "metadata": {},
   "source": [
    "## A. 임베딩레이어 "
   ]
  },
  {
   "cell_type": "markdown",
   "id": "c49fc8cd-6599-42b1-993c-1c3c8b454b75",
   "metadata": {},
   "source": [
    "`-` 모티브: `torch.nn.functional.one_hot` + `torch.nn.Linear` 를 매번 쓰는건 너무 귀찮지 않어? "
   ]
  },
  {
   "cell_type": "markdown",
   "id": "c0668243-cfb6-4cab-a01d-0ab097ec9d30",
   "metadata": {},
   "source": [
    "🗣️("
   ]
  },
  {
   "cell_type": "code",
   "execution_count": 5,
   "id": "726054ed-a89e-4607-97a1-bdafaddab396",
   "metadata": {},
   "outputs": [
    {
     "data": {
      "text/plain": [
       "tensor([[-0.2002],\n",
       "        [-0.4890],\n",
       "        [ 0.2081],\n",
       "        [-0.2002],\n",
       "        [-0.4890]], grad_fn=<MmBackward0>)"
      ]
     },
     "execution_count": 5,
     "metadata": {},
     "output_type": "execute_result"
    }
   ],
   "source": [
    "torch.manual_seed(43052)\n",
    "#x  = ['옥순', '영숙', '하니', '옥순', '영숙'] \n",
    "x = torch.tensor([0,1,2,0,1])\n",
    "linr = torch.nn.Linear(3,1,bias=False)\n",
    "linr(torch.nn.functional.one_hot(x).float())"
   ]
  },
  {
   "cell_type": "markdown",
   "id": "9d9bc9df-ae1c-4a5a-88fb-022df3a7fd03",
   "metadata": {},
   "source": [
    "- 지난 시간까지는 위처럼 했음"
   ]
  },
  {
   "cell_type": "code",
   "execution_count": 6,
   "id": "cbbcd1db-36e8-415a-b328-aab77c1d8244",
   "metadata": {},
   "outputs": [
    {
     "data": {
      "text/plain": [
       "tensor([[-0.2002],\n",
       "        [-0.4890],\n",
       "        [ 0.2081],\n",
       "        [-0.2002],\n",
       "        [-0.4890]], grad_fn=<MmBackward0>)"
      ]
     },
     "execution_count": 6,
     "metadata": {},
     "output_type": "execute_result"
    }
   ],
   "source": [
    "torch.manual_seed(43052)\n",
    "#x  = ['옥순', '영숙', '하니', '옥순', '영숙'] \n",
    "x = torch.tensor([0,1,2,0,1])\n",
    "X = torch.nn.functional.one_hot(x).float()\n",
    "linr = torch.nn.Linear(3,1,bias=False)\n",
    "linr(X)"
   ]
  },
  {
   "cell_type": "code",
   "execution_count": 7,
   "id": "3ea2517f-d35e-46ba-a9cf-7489b205074f",
   "metadata": {},
   "outputs": [
    {
     "data": {
      "text/plain": [
       "(tensor([0, 1, 2, 0, 1]),\n",
       " tensor([[1., 0., 0.],\n",
       "         [0., 1., 0.],\n",
       "         [0., 0., 1.],\n",
       "         [1., 0., 0.],\n",
       "         [0., 1., 0.]]))"
      ]
     },
     "execution_count": 7,
     "metadata": {},
     "output_type": "execute_result"
    }
   ],
   "source": [
    "x, X"
   ]
  },
  {
   "cell_type": "code",
   "execution_count": 8,
   "id": "a3884898-0918-4a39-a790-883060132e63",
   "metadata": {},
   "outputs": [
    {
     "data": {
      "text/plain": [
       "Parameter containing:\n",
       "tensor([[-0.2002, -0.4890,  0.2081]], requires_grad=True)"
      ]
     },
     "execution_count": 8,
     "metadata": {},
     "output_type": "execute_result"
    }
   ],
   "source": [
    "linr.weight"
   ]
  },
  {
   "cell_type": "code",
   "execution_count": 10,
   "id": "8eada47c-899f-461d-a536-76ac5f636160",
   "metadata": {},
   "outputs": [
    {
     "data": {
      "text/plain": [
       "tensor([[-0.2002],\n",
       "        [-0.4890],\n",
       "        [ 0.2081],\n",
       "        [-0.2002],\n",
       "        [-0.4890]], grad_fn=<MmBackward0>)"
      ]
     },
     "execution_count": 10,
     "metadata": {},
     "output_type": "execute_result"
    }
   ],
   "source": [
    "X @ linr.weight.T"
   ]
  },
  {
   "cell_type": "markdown",
   "id": "3feb79f0-3909-48c8-a00b-fa94e7799620",
   "metadata": {},
   "source": [
    ")🗣️"
   ]
  },
  {
   "cell_type": "code",
   "execution_count": 276,
   "id": "08abc61d-1cc6-4576-8e51-95df6c116af6",
   "metadata": {},
   "outputs": [
    {
     "data": {
      "text/plain": [
       "tensor([[-0.2002],\n",
       "        [-0.4890],\n",
       "        [ 0.2081],\n",
       "        [-0.2002],\n",
       "        [-0.4890]], grad_fn=<MmBackward0>)"
      ]
     },
     "execution_count": 276,
     "metadata": {},
     "output_type": "execute_result"
    }
   ],
   "source": [
    "torch.manual_seed(43052)\n",
    "#x  = ['옥순', '영숙', '하니', '옥순', '영숙'] \n",
    "x = torch.tensor([0,1,2,0,1])\n",
    "X = torch.nn.functional.one_hot(x).float()\n",
    "linr = torch.nn.Linear(3,1,bias=False)\n",
    "linr(X)"
   ]
  },
  {
   "cell_type": "markdown",
   "id": "dd3678d0-a3d5-4076-a887-f34572ab535c",
   "metadata": {},
   "source": [
    "`-` 계산방식 "
   ]
  },
  {
   "cell_type": "markdown",
   "id": "e7506840-df22-48a5-899e-18d80906c101",
   "metadata": {},
   "source": [
    "-   ${\\boldsymbol x}= \\begin{bmatrix} 0 \\\\ 1 \\\\ 2 \\\\ 0 \\\\ 1 \\end{bmatrix} \\Longrightarrow {\\bf X}= \\begin{bmatrix} 1 & 0 & 0 \\\\ 0 & 1 & 0 \\\\ 0 & 0 & 1 \\\\ 1 & 0 & 0 \\\\ 0 & 1 & 0 \\end{bmatrix}$\n",
    "\n",
    "- $\\text{linr}({\\bf X})= \\begin{bmatrix} 1 & 0 & 0 \\\\ 0 & 1 & 0 \\\\ 0 & 0 & 1 \\\\ 1 & 0 & 0 \\\\ 0 & 1 & 0 \\end{bmatrix}\\begin{bmatrix} -0.2002 \\\\ -0.4890 \\\\ 0.2081 \\end{bmatrix} = \\begin{bmatrix} -0.2002 \\\\ -0.4890 \\\\ 0.2081 \\\\ -0.2002 \\\\ -0.4890 \\end{bmatrix}$"
   ]
  },
  {
   "cell_type": "markdown",
   "id": "c2965678-36b8-4995-b6af-decac2ae8db1",
   "metadata": {},
   "source": [
    "`-` `torch.nn.functional.one_hot` + `torch.nn.Linear` 를 함께처리해주는 레이어 `torch.nn.Embedding` 존재 "
   ]
  },
  {
   "cell_type": "markdown",
   "id": "b13b3a9e-8674-439a-b822-b70c7eb1348b",
   "metadata": {},
   "source": [
    "🗣️("
   ]
  },
  {
   "cell_type": "markdown",
   "id": "0878888e-cab2-4467-94f6-0df3010c109d",
   "metadata": {},
   "source": [
    "- 다른 방식으로 할 수도 있음"
   ]
  },
  {
   "cell_type": "code",
   "execution_count": 13,
   "id": "d0014a7d-eccd-4417-8648-ef2539077632",
   "metadata": {},
   "outputs": [
    {
     "data": {
      "text/plain": [
       "tensor([[-0.8178],\n",
       "        [-0.7052],\n",
       "        [-0.5843],\n",
       "        [-0.8178],\n",
       "        [-0.7052]], grad_fn=<EmbeddingBackward0>)"
      ]
     },
     "execution_count": 13,
     "metadata": {},
     "output_type": "execute_result"
    }
   ],
   "source": [
    "torch.manual_seed(43052)\n",
    "#x  = ['옥순', '영숙', '하니', '옥순', '영숙'] \n",
    "x = torch.tensor([0,1,2,0,1])\n",
    "ebdd = torch.nn.Embedding(3,1)\n",
    "ebdd(x) # 이렇게 하면 숫자들이 나옴 (위와는 다름)"
   ]
  },
  {
   "cell_type": "code",
   "execution_count": 14,
   "id": "f7663ca7-4d62-468b-85b8-5c4139786c16",
   "metadata": {},
   "outputs": [
    {
     "data": {
      "text/plain": [
       "tensor([[-0.6179],\n",
       "        [ 1.9949],\n",
       "        [-0.4724],\n",
       "        [-0.6179],\n",
       "        [ 1.9949]], grad_fn=<EmbeddingBackward0>)"
      ]
     },
     "execution_count": 14,
     "metadata": {},
     "output_type": "execute_result"
    }
   ],
   "source": [
    "#x  = ['옥순', '영숙', '하니', '옥순', '영숙'] \n",
    "x = torch.tensor([0,1,2,0,1])\n",
    "ebdd = torch.nn.Embedding(3,1)\n",
    "ebdd(x)"
   ]
  },
  {
   "cell_type": "code",
   "execution_count": 15,
   "id": "32e3af41-4828-4100-b0bf-e980d7d3c0bf",
   "metadata": {},
   "outputs": [
    {
     "data": {
      "text/plain": [
       "Parameter containing:\n",
       "tensor([[-0.6179],\n",
       "        [ 1.9949],\n",
       "        [-0.4724]], requires_grad=True)"
      ]
     },
     "execution_count": 15,
     "metadata": {},
     "output_type": "execute_result"
    }
   ],
   "source": [
    "ebdd.weight"
   ]
  },
  {
   "cell_type": "code",
   "execution_count": 16,
   "id": "347f53e4-377e-4405-8cd5-d5cdf9ca31fb",
   "metadata": {},
   "outputs": [
    {
     "data": {
      "text/plain": [
       "Parameter containing:\n",
       "tensor([[-0.2002, -0.4890,  0.2081]], requires_grad=True)"
      ]
     },
     "execution_count": 16,
     "metadata": {},
     "output_type": "execute_result"
    }
   ],
   "source": [
    "linr.weight"
   ]
  },
  {
   "cell_type": "markdown",
   "id": "b6f848b1-f713-4f41-9f4c-79e8fb5d53fc",
   "metadata": {},
   "source": [
    "```python\n",
    "ebdd.weight.data = torch.tensor([[-0.2002],[-0.4890],[0.2081]]) # 이전 linr의 parameter로 덮어쓰면\n",
    "```"
   ]
  },
  {
   "cell_type": "code",
   "execution_count": 17,
   "id": "5844ac1d-51e6-4555-89ac-b8fe4ff26c6f",
   "metadata": {},
   "outputs": [
    {
     "data": {
      "text/plain": [
       "tensor([[-0.2002],\n",
       "        [-0.4890],\n",
       "        [ 0.2081],\n",
       "        [-0.2002],\n",
       "        [-0.4890]], grad_fn=<EmbeddingBackward0>)"
      ]
     },
     "execution_count": 17,
     "metadata": {},
     "output_type": "execute_result"
    }
   ],
   "source": [
    "torch.manual_seed(43052)\n",
    "#x  = ['옥순', '영숙', '하니', '옥순', '영숙'] \n",
    "x = torch.tensor([0,1,2,0,1])\n",
    "ebdd = torch.nn.Embedding(3,1)\n",
    "ebdd.weight.data = torch.tensor([[-0.2002],[-0.4890],[0.2081]])\n",
    "ebdd(x)"
   ]
  },
  {
   "cell_type": "code",
   "execution_count": 18,
   "id": "2040c647-1250-4413-9383-16077c3bb60e",
   "metadata": {},
   "outputs": [
    {
     "data": {
      "text/plain": [
       "tensor([[-0.2002],\n",
       "        [-0.4890],\n",
       "        [ 0.2081],\n",
       "        [-0.2002],\n",
       "        [-0.4890]], grad_fn=<MmBackward0>)"
      ]
     },
     "execution_count": 18,
     "metadata": {},
     "output_type": "execute_result"
    }
   ],
   "source": [
    "linr(X) # 위와 동일"
   ]
  },
  {
   "cell_type": "markdown",
   "id": "f2e70b3d-a19a-4c80-8633-8f247507dab4",
   "metadata": {},
   "source": [
    "- Embedding에는 one hot encoding 후 linr 을 할 때의 차원을 넣어주면 됨"
   ]
  },
  {
   "cell_type": "markdown",
   "id": "d3d86d27-4a85-4712-b043-9bdf58d6f841",
   "metadata": {},
   "source": [
    ")🗣️"
   ]
  },
  {
   "cell_type": "code",
   "execution_count": 288,
   "id": "6dc36ae6-8747-4d34-b821-592c6f6d0eb9",
   "metadata": {},
   "outputs": [
    {
     "data": {
      "text/plain": [
       "tensor([[-0.2002],\n",
       "        [-0.4890],\n",
       "        [ 0.2081],\n",
       "        [-0.2002],\n",
       "        [-0.4890]], grad_fn=<EmbeddingBackward0>)"
      ]
     },
     "execution_count": 288,
     "metadata": {},
     "output_type": "execute_result"
    }
   ],
   "source": [
    "#x  = ['옥순', '영숙', '하니', '옥순', '영숙'] \n",
    "x = torch.tensor([0,1,2,0,1])\n",
    "ebdd = torch.nn.Embedding(3,1)\n",
    "ebdd.weight.data = torch.tensor([[-0.2002],[-0.4890],[0.2081]])\n",
    "ebdd(x)"
   ]
  },
  {
   "cell_type": "markdown",
   "id": "61f38959-161a-4b96-9b3a-3e21c4effb8e",
   "metadata": {},
   "source": [
    "- $\\text{ebdd}({\\boldsymbol x})= \\text{linr}\\big(\\text{onehot}({\\boldsymbol x})\\big) = \\begin{bmatrix} 1 & 0 & 0 \\\\ 0 & 1 & 0 \\\\ 0 & 0 & 1 \\\\ 1 & 0 & 0 \\\\ 0 & 1 & 0 \\end{bmatrix}\\begin{bmatrix} -0.2002 \\\\ -0.4890 \\\\ 0.2081 \\end{bmatrix} = \\begin{bmatrix} -0.2002 \\\\ -0.4890 \\\\ 0.2081 \\\\ -0.2002 \\\\ -0.4890 \\end{bmatrix}$"
   ]
  },
  {
   "cell_type": "markdown",
   "id": "5eef7766-8535-4755-97b0-e609d83f75bb",
   "metadata": {},
   "source": [
    "- 우리가 이전에 구현했던 코드 \"onehot + linr\" 와 \"ebdd\"는 정확하게 동일한 동작을 수행함. "
   ]
  },
  {
   "cell_type": "markdown",
   "id": "f882b746-4a38-4cc2-97d8-99b9540c1bff",
   "metadata": {
    "tags": []
   },
   "source": [
    "`-` 결론: 아래의 두개의 코드는 같다. \n",
    "\n",
    "```Python \n",
    "x= torch.tensor([0,1,2,0,1])\n",
    "\n",
    "## 코드1 \n",
    "linr = torch.nn.Linear(3,1) \n",
    "linr(torch.nn.functional.one_hot(x))\n",
    "\n",
    "## 코드2 \n",
    "ebdd = torch.nn.Embedding(3,1)\n",
    "ebdd(x) \n",
    "```"
   ]
  },
  {
   "cell_type": "markdown",
   "id": "c1cd5cc4-aa2e-408e-b52b-d714be03fd9d",
   "metadata": {},
   "source": [
    "## B. MF-based 추천시스템 재설계"
   ]
  },
  {
   "cell_type": "markdown",
   "id": "8e4f0003-be9e-4aef-8b94-3a80b340356a",
   "metadata": {},
   "source": [
    "아래의 자료를 활용하여 추천시스템을 설계하고자한다. "
   ]
  },
  {
   "cell_type": "code",
   "execution_count": 19,
   "id": "31e8b32c-b5e7-4265-bdc9-f40af1d9497c",
   "metadata": {
    "tags": []
   },
   "outputs": [
    {
     "data": {
      "text/html": [
       "<div>\n",
       "<style scoped>\n",
       "    .dataframe tbody tr th:only-of-type {\n",
       "        vertical-align: middle;\n",
       "    }\n",
       "\n",
       "    .dataframe tbody tr th {\n",
       "        vertical-align: top;\n",
       "    }\n",
       "\n",
       "    .dataframe thead th {\n",
       "        text-align: right;\n",
       "    }\n",
       "</style>\n",
       "<table border=\"1\" class=\"dataframe\">\n",
       "  <thead>\n",
       "    <tr style=\"text-align: right;\">\n",
       "      <th></th>\n",
       "      <th>영식(IN)</th>\n",
       "      <th>영철(IN)</th>\n",
       "      <th>영호(IS)</th>\n",
       "      <th>광수(IS)</th>\n",
       "      <th>상철(EN)</th>\n",
       "      <th>영수(EN)</th>\n",
       "      <th>규빈(ES)</th>\n",
       "      <th>다호(ES)</th>\n",
       "    </tr>\n",
       "  </thead>\n",
       "  <tbody>\n",
       "    <tr>\n",
       "      <th>옥순(IN)</th>\n",
       "      <td>NaN</td>\n",
       "      <td>4.02</td>\n",
       "      <td>3.45</td>\n",
       "      <td>3.42</td>\n",
       "      <td>0.84</td>\n",
       "      <td>1.12</td>\n",
       "      <td>0.43</td>\n",
       "      <td>0.49</td>\n",
       "    </tr>\n",
       "    <tr>\n",
       "      <th>영자(IN)</th>\n",
       "      <td>3.93</td>\n",
       "      <td>3.99</td>\n",
       "      <td>3.63</td>\n",
       "      <td>3.43</td>\n",
       "      <td>0.98</td>\n",
       "      <td>0.96</td>\n",
       "      <td>0.52</td>\n",
       "      <td>NaN</td>\n",
       "    </tr>\n",
       "    <tr>\n",
       "      <th>정숙(IS)</th>\n",
       "      <td>3.52</td>\n",
       "      <td>3.42</td>\n",
       "      <td>4.05</td>\n",
       "      <td>4.06</td>\n",
       "      <td>0.39</td>\n",
       "      <td>NaN</td>\n",
       "      <td>0.93</td>\n",
       "      <td>0.99</td>\n",
       "    </tr>\n",
       "    <tr>\n",
       "      <th>영숙(IS)</th>\n",
       "      <td>3.43</td>\n",
       "      <td>3.57</td>\n",
       "      <td>NaN</td>\n",
       "      <td>3.95</td>\n",
       "      <td>0.56</td>\n",
       "      <td>0.52</td>\n",
       "      <td>0.89</td>\n",
       "      <td>0.89</td>\n",
       "    </tr>\n",
       "    <tr>\n",
       "      <th>순자(EN)</th>\n",
       "      <td>1.12</td>\n",
       "      <td>NaN</td>\n",
       "      <td>0.59</td>\n",
       "      <td>0.43</td>\n",
       "      <td>4.01</td>\n",
       "      <td>4.16</td>\n",
       "      <td>3.52</td>\n",
       "      <td>3.38</td>\n",
       "    </tr>\n",
       "    <tr>\n",
       "      <th>현숙(EN)</th>\n",
       "      <td>0.94</td>\n",
       "      <td>1.05</td>\n",
       "      <td>0.32</td>\n",
       "      <td>0.45</td>\n",
       "      <td>4.02</td>\n",
       "      <td>3.78</td>\n",
       "      <td>NaN</td>\n",
       "      <td>3.54</td>\n",
       "    </tr>\n",
       "    <tr>\n",
       "      <th>서연(ES)</th>\n",
       "      <td>0.51</td>\n",
       "      <td>0.56</td>\n",
       "      <td>0.88</td>\n",
       "      <td>0.89</td>\n",
       "      <td>3.50</td>\n",
       "      <td>3.64</td>\n",
       "      <td>4.04</td>\n",
       "      <td>4.10</td>\n",
       "    </tr>\n",
       "    <tr>\n",
       "      <th>보람(ES)</th>\n",
       "      <td>0.48</td>\n",
       "      <td>0.51</td>\n",
       "      <td>1.03</td>\n",
       "      <td>NaN</td>\n",
       "      <td>3.52</td>\n",
       "      <td>4.00</td>\n",
       "      <td>3.82</td>\n",
       "      <td>NaN</td>\n",
       "    </tr>\n",
       "    <tr>\n",
       "      <th>하니(I)</th>\n",
       "      <td>4.85</td>\n",
       "      <td>4.82</td>\n",
       "      <td>NaN</td>\n",
       "      <td>4.98</td>\n",
       "      <td>4.53</td>\n",
       "      <td>4.39</td>\n",
       "      <td>4.45</td>\n",
       "      <td>4.52</td>\n",
       "    </tr>\n",
       "  </tbody>\n",
       "</table>\n",
       "</div>"
      ],
      "text/plain": [
       "        영식(IN)  영철(IN)  영호(IS)  광수(IS)  상철(EN)  영수(EN)  규빈(ES)  다호(ES)\n",
       "옥순(IN)     NaN    4.02    3.45    3.42    0.84    1.12    0.43    0.49\n",
       "영자(IN)    3.93    3.99    3.63    3.43    0.98    0.96    0.52     NaN\n",
       "정숙(IS)    3.52    3.42    4.05    4.06    0.39     NaN    0.93    0.99\n",
       "영숙(IS)    3.43    3.57     NaN    3.95    0.56    0.52    0.89    0.89\n",
       "순자(EN)    1.12     NaN    0.59    0.43    4.01    4.16    3.52    3.38\n",
       "현숙(EN)    0.94    1.05    0.32    0.45    4.02    3.78     NaN    3.54\n",
       "서연(ES)    0.51    0.56    0.88    0.89    3.50    3.64    4.04    4.10\n",
       "보람(ES)    0.48    0.51    1.03     NaN    3.52    4.00    3.82     NaN\n",
       "하니(I)     4.85    4.82     NaN    4.98    4.53    4.39    4.45    4.52"
      ]
     },
     "execution_count": 19,
     "metadata": {},
     "output_type": "execute_result"
    }
   ],
   "source": [
    "df_view = pd.read_csv('https://raw.githubusercontent.com/guebin/DL2025/main/posts/iamsolo.csv',index_col=0)\n",
    "df_view"
   ]
  },
  {
   "cell_type": "code",
   "execution_count": 20,
   "id": "7dead91a-88b7-47dc-8890-688c61a1cf39",
   "metadata": {
    "tags": []
   },
   "outputs": [],
   "source": [
    "df_train = df_view.stack().reset_index().set_axis(['W','M','y'],axis=1)\n",
    "여성인덱스 = {'옥순(IN)':0, '영자(IN)':1, '정숙(IS)':2, '영숙(IS)':3, '순자(EN)':4, '현숙(EN)':5, '서연(ES)':6, '보람(ES)':7, '하니(I)':8}\n",
    "남성인덱스 = {'영식(IN)':0, '영철(IN)':1, '영호(IS)':2, '광수(IS)':3, '상철(EN)':4, '영수(EN)':5, '규빈(ES)':6, '다호(ES)':7}\n",
    "x1 = torch.tensor(df_train['W'].map(여성인덱스)) # length-n int vector \n",
    "x2 = torch.tensor(df_train['M'].map(남성인덱스)) # length-n int vector \n",
    "y = torch.tensor(df_train['y']).float().reshape(-1,1) # (n,1) float vector"
   ]
  },
  {
   "cell_type": "markdown",
   "id": "20f2f3f5-3e6e-41c1-8951-9828b947af8a",
   "metadata": {},
   "source": [
    "임베딩레이어를 활용하여 MF-based 추천시스템을 설계하라. "
   ]
  },
  {
   "cell_type": "markdown",
   "id": "c66f5fc6-cdb3-4ee8-8750-1a7e03085e2f",
   "metadata": {},
   "source": [
    "(풀이)"
   ]
  },
  {
   "cell_type": "markdown",
   "id": "74824d04-e79f-4001-8ca0-3816f3255e51",
   "metadata": {},
   "source": [
    "🗣️("
   ]
  },
  {
   "cell_type": "markdown",
   "id": "f3e12e68-b4a1-4142-b61e-dd9168ca868e",
   "metadata": {},
   "source": [
    "```python\n",
    "# 지난 시간에는 x1이 one hot encoding 된 형태\n",
    "X1 = torch.nn.functional.one_hot(x1)\n",
    "```"
   ]
  },
  {
   "cell_type": "code",
   "execution_count": 23,
   "id": "179cb334-fd6c-4c6c-9502-4510d3c8a380",
   "metadata": {},
   "outputs": [
    {
     "data": {
      "text/plain": [
       "tensor([0, 0, 0, 0, 0, 0, 0, 1, 1, 1, 1, 1, 1, 1, 2, 2, 2, 2, 2, 2, 2, 3, 3, 3,\n",
       "        3, 3, 3, 3, 4, 4, 4, 4, 4, 4, 4, 5, 5, 5, 5, 5, 5, 5, 6, 6, 6, 6, 6, 6,\n",
       "        6, 6, 7, 7, 7, 7, 7, 7, 8, 8, 8, 8, 8, 8, 8])"
      ]
     },
     "execution_count": 23,
     "metadata": {},
     "output_type": "execute_result"
    }
   ],
   "source": [
    "x1 # 이제는 이 상태에서 바로 학습을 시키려고 함 (임베딩 레이어 활용)"
   ]
  },
  {
   "cell_type": "markdown",
   "id": "6c3ed031-b633-4582-a2f6-b03fc9cae7eb",
   "metadata": {},
   "source": [
    "- 이전 시간 코드를 참고하여 수정하면"
   ]
  },
  {
   "cell_type": "markdown",
   "id": "e2792332-dbab-47b2-9f4f-56ab4a142d4b",
   "metadata": {},
   "source": [
    "```python\n",
    "#----#\n",
    "loss_fn = torch.nn.MSELoss() \n",
    "l1 = torch.nn.Linear(9,2,bias=False)\n",
    "l2 = torch.nn.Linear(8,2,bias=False)\n",
    "b1 = torch.nn.Linear(9,1,bias=False)\n",
    "b2 = torch.nn.Linear(8,1,bias=False)\n",
    "params = list(l1.parameters()) + list(l2.parameters())  + list(b1.parameters()) + list(b2.parameters())\n",
    "optimizr = torch.optim.Adam(params) \n",
    "sig = torch.nn.Sigmoid()\n",
    "#----#\n",
    "for epoc in range(100):\n",
    "    #step1\n",
    "    W_features = l1(X1) \n",
    "    M_features = l2(X2)\n",
    "    W_bias = b1(X1)\n",
    "    M_bias = b2(X2)\n",
    "    yhat = sig((W_features * M_features).sum(axis=1).reshape(-1,1) + W_bias + M_bias)*5\n",
    "    #step2\n",
    "    loss = loss_fn(yhat,y)\n",
    "    #stpe3\n",
    "    loss.backward()\n",
    "    #step4\n",
    "    optimizr.step()\n",
    "    optimizr.zero_grad()\n",
    "```"
   ]
  },
  {
   "cell_type": "code",
   "execution_count": 24,
   "id": "c5bf0c86-caff-45dd-8c24-7618d9c071d6",
   "metadata": {},
   "outputs": [],
   "source": [
    "#df_view\n",
    "loss_fn = torch.nn.MSELoss() \n",
    "ebdd1 = torch.nn.Embedding(9,2)\n",
    "ebdd2 = torch.nn.Embedding(8,2)\n",
    "b1 = torch.nn.Embedding(9,1)\n",
    "b2 = torch.nn.Embedding(8,1)\n",
    "params = list(ebdd1.parameters()) + list(ebdd2.parameters())  + list(b1.parameters()) + list(b2.parameters())\n",
    "optimizr = torch.optim.Adam(params)\n",
    "sig = torch.nn.Sigmoid()\n",
    "#----#\n",
    "for epoc in range(5000):\n",
    "    #step1\n",
    "    W_features = ebdd1(x1) \n",
    "    M_features = ebdd2(x2) \n",
    "    W_bias = b1(x1)\n",
    "    M_bais = b2(x2)\n",
    "    yhat = sig((W_features * M_features).sum(axis=1).reshape(-1,1) + W_bias + M_bais)*5\n",
    "    #step2\n",
    "    loss = loss_fn(yhat,y)\n",
    "    #step3\n",
    "    loss.backward()\n",
    "    #step4\n",
    "    optimizr.step()\n",
    "    optimizr.zero_grad()"
   ]
  },
  {
   "cell_type": "code",
   "execution_count": 25,
   "id": "4f1a1c46-a289-45ad-8633-e4b925354a96",
   "metadata": {},
   "outputs": [
    {
     "data": {
      "text/plain": [
       "(tensor([[4.0200],\n",
       "         [3.4500],\n",
       "         [3.4200],\n",
       "         [0.8400],\n",
       "         [1.1200]]),\n",
       " tensor([[3.6066],\n",
       "         [3.6236],\n",
       "         [3.6976],\n",
       "         [0.7890],\n",
       "         [0.8583]], grad_fn=<SliceBackward0>))"
      ]
     },
     "execution_count": 25,
     "metadata": {},
     "output_type": "execute_result"
    }
   ],
   "source": [
    "y[:5], yhat[:5] # 그럭저럭 잘 맞추고 있음"
   ]
  },
  {
   "cell_type": "markdown",
   "id": "30ad441e-13f8-4ca8-8073-937b3da5876c",
   "metadata": {},
   "source": [
    ")🗣️"
   ]
  },
  {
   "cell_type": "code",
   "execution_count": 325,
   "id": "bf857cf7-4cfd-4b14-9c82-0afd328ab514",
   "metadata": {},
   "outputs": [],
   "source": [
    "#df_view\n",
    "loss_fn = torch.nn.MSELoss() \n",
    "ebdd1 = torch.nn.Embedding(9,2)\n",
    "ebdd2 = torch.nn.Embedding(8,2)\n",
    "b1 = torch.nn.Embedding(9,1)\n",
    "b2 = torch.nn.Embedding(8,1)\n",
    "params = list(ebdd1.parameters()) + list(ebdd2.parameters())  + list(b1.parameters()) + list(b2.parameters())\n",
    "optimizr = torch.optim.Adam(params)\n",
    "sig = torch.nn.Sigmoid()\n",
    "#----#\n",
    "for epoc in range(5000):\n",
    "    #step1\n",
    "    W_features = ebdd1(x1) \n",
    "    M_features = ebdd2(x2) \n",
    "    W_bias = b1(x1)\n",
    "    M_bais = b2(x2)\n",
    "    yhat = sig((W_features * M_features).sum(axis=1).reshape(-1,1) + W_bias + M_bais)*5\n",
    "    #step2\n",
    "    loss = loss_fn(yhat,y)\n",
    "    #step3\n",
    "    loss.backward()\n",
    "    #step4\n",
    "    optimizr.step()\n",
    "    optimizr.zero_grad()"
   ]
  },
  {
   "cell_type": "code",
   "execution_count": 326,
   "id": "d599ac5b-22d9-48b5-8c60-ddb6cd5ffab3",
   "metadata": {},
   "outputs": [
    {
     "data": {
      "text/plain": [
       "(tensor([[4.0200],\n",
       "         [3.4500],\n",
       "         [3.4200],\n",
       "         [0.8400],\n",
       "         [1.1200]]),\n",
       " tensor([[3.9809],\n",
       "         [3.4865],\n",
       "         [3.4730],\n",
       "         [0.8163],\n",
       "         [0.9715]], grad_fn=<SliceBackward0>))"
      ]
     },
     "execution_count": 326,
     "metadata": {},
     "output_type": "execute_result"
    }
   ],
   "source": [
    "y[:5], yhat[:5]"
   ]
  },
  {
   "cell_type": "markdown",
   "id": "573d702d-25af-4023-b615-2290109c698a",
   "metadata": {},
   "source": [
    "# 4. 사용자정의 네트워크 📝"
   ]
  },
  {
   "cell_type": "markdown",
   "id": "b51e4d9b-0693-4b71-ad35-c724ac3b8a1e",
   "metadata": {},
   "source": [
    "🗣️("
   ]
  },
  {
   "cell_type": "markdown",
   "id": "45f8d593-b9df-4a1e-9135-24598bdefb81",
   "metadata": {},
   "source": [
    "- yhat을 간단히 구하고 싶음"
   ]
  },
  {
   "cell_type": "markdown",
   "id": "fdfacb80-f625-4310-b392-fd6b26cc3cab",
   "metadata": {},
   "source": [
    "```python\n",
    "#----#\n",
    "for epoc in range(5000):\n",
    "    #step1\n",
    "    # W_features = ebdd1(x1) \n",
    "    # M_features = ebdd2(x2) \n",
    "    # W_bias = b1(x1)\n",
    "    # M_bais = b2(x2)\n",
    "    # yhat = sig((W_features * M_features).sum(axis=1).reshape(-1,1) + W_bias + M_bais)*5\n",
    "    yhat = net(x1,x2) # 이런 식으로\n",
    "    #step2\n",
    "    loss = loss_fn(yhat,y)\n",
    "    #step3\n",
    "    loss.backward()\n",
    "    #step4\n",
    "    optimizr.step()\n",
    "    optimizr.zero_grad()\n",
    "```"
   ]
  },
  {
   "cell_type": "markdown",
   "id": "11952ced-42a3-44d0-94a0-e632082c659d",
   "metadata": {},
   "source": [
    ")🗣️"
   ]
  },
  {
   "cell_type": "markdown",
   "id": "be6b2dda-d7ed-4bef-a2e8-00dd3eea8257",
   "metadata": {},
   "source": [
    "## A. 사용자정의 네트워크 사용법"
   ]
  },
  {
   "cell_type": "markdown",
   "id": "a4e6cffd-03ee-4e73-afb4-ce69a429dced",
   "metadata": {},
   "source": [
    "`# 예비학습1`: `net(X)`와 사실 `net.forward(X)`는 같다."
   ]
  },
  {
   "cell_type": "markdown",
   "id": "5ee13c39-4eba-4148-9cf5-680ef8cfbb33",
   "metadata": {},
   "source": [
    "🗣️("
   ]
  },
  {
   "cell_type": "code",
   "execution_count": 26,
   "id": "86ab4abd-895b-4d3d-8dac-f5c5cd7aca37",
   "metadata": {},
   "outputs": [],
   "source": [
    "net = torch.nn.Sequential(\n",
    "    torch.nn.Linear(1,1),\n",
    "    torch.nn.Sigmoid()\n",
    ")"
   ]
  },
  {
   "cell_type": "code",
   "execution_count": 27,
   "id": "491385ff-d7a5-4736-a2ba-9bc9a97775b4",
   "metadata": {},
   "outputs": [
    {
     "data": {
      "text/plain": [
       "tensor([[0.5705],\n",
       "        [0.7858],\n",
       "        [0.8796],\n",
       "        [0.8451],\n",
       "        [0.8138]], grad_fn=<SigmoidBackward0>)"
      ]
     },
     "execution_count": 27,
     "metadata": {},
     "output_type": "execute_result"
    }
   ],
   "source": [
    "X = torch.randn(5,1)\n",
    "net(X)"
   ]
  },
  {
   "cell_type": "code",
   "execution_count": 28,
   "id": "693bcd3b-eec4-4195-932b-e516bd508119",
   "metadata": {},
   "outputs": [
    {
     "data": {
      "text/plain": [
       "tensor([[0.5705],\n",
       "        [0.7858],\n",
       "        [0.8796],\n",
       "        [0.8451],\n",
       "        [0.8138]], grad_fn=<SigmoidBackward0>)"
      ]
     },
     "execution_count": 28,
     "metadata": {},
     "output_type": "execute_result"
    }
   ],
   "source": [
    "net.forward(X)"
   ]
  },
  {
   "cell_type": "markdown",
   "id": "a2d643b9-3fef-427e-a325-f53868a29e40",
   "metadata": {},
   "source": [
    "- net(X)과 net.forward(X)는 동일\n",
    "- net.forward(X)는 function이어서 이를 통해 nex(X)를 다시 정의할 수 있음"
   ]
  },
  {
   "cell_type": "code",
   "execution_count": 29,
   "id": "a5ab3962-b156-45e0-9b50-7022271fab73",
   "metadata": {},
   "outputs": [],
   "source": [
    "def func(x):\n",
    "    return \"메롱\""
   ]
  },
  {
   "cell_type": "code",
   "execution_count": 31,
   "id": "addfef7a-ebb2-4e2e-ba58-636cf2d88ef0",
   "metadata": {},
   "outputs": [
    {
     "data": {
      "text/plain": [
       "'메롱'"
      ]
     },
     "execution_count": 31,
     "metadata": {},
     "output_type": "execute_result"
    }
   ],
   "source": [
    "func(33)"
   ]
  },
  {
   "cell_type": "code",
   "execution_count": 32,
   "id": "52577e90-c738-4823-9e71-e90a08b86110",
   "metadata": {},
   "outputs": [
    {
     "data": {
      "text/plain": [
       "'메롱'"
      ]
     },
     "execution_count": 32,
     "metadata": {},
     "output_type": "execute_result"
    }
   ],
   "source": [
    "func('sss')"
   ]
  },
  {
   "cell_type": "code",
   "execution_count": 33,
   "id": "d2b905c2-5945-490c-b9c2-5c05d9f83a23",
   "metadata": {},
   "outputs": [],
   "source": [
    "net.forward = func"
   ]
  },
  {
   "cell_type": "code",
   "execution_count": 34,
   "id": "251c4329-29be-47f5-be68-57a68fb1c1e6",
   "metadata": {},
   "outputs": [
    {
     "data": {
      "text/plain": [
       "'메롱'"
      ]
     },
     "execution_count": 34,
     "metadata": {},
     "output_type": "execute_result"
    }
   ],
   "source": [
    "net.forward(X)"
   ]
  },
  {
   "cell_type": "code",
   "execution_count": 35,
   "id": "795880b5-6c45-4f30-8ae7-77f2629f233a",
   "metadata": {},
   "outputs": [
    {
     "data": {
      "text/plain": [
       "'메롱'"
      ]
     },
     "execution_count": 35,
     "metadata": {},
     "output_type": "execute_result"
    }
   ],
   "source": [
    "net(X)"
   ]
  },
  {
   "cell_type": "markdown",
   "id": "7eac944b-8b92-4e45-9f71-556e92f89cfb",
   "metadata": {},
   "source": [
    ")🗣️"
   ]
  },
  {
   "cell_type": "code",
   "execution_count": 339,
   "id": "fe4c05c3-2a39-4ed4-bb07-170a110cfec0",
   "metadata": {},
   "outputs": [],
   "source": [
    "net = torch.nn.Sequential(\n",
    "    torch.nn.Linear(1,1),\n",
    "    torch.nn.Sigmoid()\n",
    ")\n",
    "X = torch.randn(5,1)"
   ]
  },
  {
   "cell_type": "code",
   "execution_count": 341,
   "id": "000b4add-5303-4b44-9fa7-b443d5c08748",
   "metadata": {},
   "outputs": [
    {
     "data": {
      "text/plain": [
       "tensor([[0.3340],\n",
       "        [0.4480],\n",
       "        [0.3143],\n",
       "        [0.2375],\n",
       "        [0.2066]], grad_fn=<SigmoidBackward0>)"
      ]
     },
     "execution_count": 341,
     "metadata": {},
     "output_type": "execute_result"
    }
   ],
   "source": [
    "net(X)\n",
    "#net.forward(X)"
   ]
  },
  {
   "cell_type": "markdown",
   "id": "2f4992e6-3ecd-4be1-894d-6e5524f7ddd9",
   "metadata": {},
   "source": [
    "그래서 `net.forward`를 재정의하면 `net(X)`의 기능을 재정의 할 수 있다."
   ]
  },
  {
   "cell_type": "code",
   "execution_count": 342,
   "id": "898715a9-bcd8-454f-9379-983bd192af8d",
   "metadata": {},
   "outputs": [],
   "source": [
    "def func(x):\n",
    "    return \"메롱\""
   ]
  },
  {
   "cell_type": "code",
   "execution_count": 348,
   "id": "1cbd8991-8321-4b37-836d-e77af9d4253c",
   "metadata": {},
   "outputs": [],
   "source": [
    "net.forward = func "
   ]
  },
  {
   "cell_type": "code",
   "execution_count": 349,
   "id": "7d5d17c6-3760-4314-8770-92f4dae04cca",
   "metadata": {},
   "outputs": [
    {
     "data": {
      "text/plain": [
       "'메롱'"
      ]
     },
     "execution_count": 349,
     "metadata": {},
     "output_type": "execute_result"
    }
   ],
   "source": [
    "net.forward(X) "
   ]
  },
  {
   "cell_type": "code",
   "execution_count": 350,
   "id": "695294dc-3eb6-4e7f-a8c7-1476b2e8059d",
   "metadata": {},
   "outputs": [
    {
     "data": {
      "text/plain": [
       "'메롱'"
      ]
     },
     "execution_count": 350,
     "metadata": {},
     "output_type": "execute_result"
    }
   ],
   "source": [
    "net(X)"
   ]
  },
  {
   "cell_type": "markdown",
   "id": "4a293158-0285-4fb8-a60a-c5c5cbb5e022",
   "metadata": {},
   "source": [
    "`#`"
   ]
  },
  {
   "cell_type": "markdown",
   "id": "b6f68c32-f1b8-4747-86be-a599ecee6eb4",
   "metadata": {},
   "source": [
    "`# 예비학습2`: `torch.nn.Module`을 상속받아서 네트워크를 만들면 (= “`class XXX(torch.nn.Module):`” 와 같은 방식으로 클래스를 선언하면) 약속된 아키텍처를 가진 네트워크를 찍어내는 함수를 만들 수 있다."
   ]
  },
  {
   "cell_type": "markdown",
   "id": "14f2c7cb-8557-4a2d-80d2-509d18c8b9ab",
   "metadata": {},
   "source": [
    ":::{.callout-note}\n",
    "클래스의 기초가 부족한 분들은 아래의 링크에서 \n",
    "\n",
    "- <https://guebin.github.io/PP2024/> \n",
    "\n",
    "`11wk-2`, `12wk-2`, `13wk-2`, `14wk-2` 에 대한내용을 학습하시길 바랍니다. \n",
    ":::"
   ]
  },
  {
   "cell_type": "markdown",
   "id": "bcc0e5ef-a0b6-4d2f-893e-9ae1359e65f2",
   "metadata": {},
   "source": [
    " - 🗣️ 이전에 만든 사용자 정의 레이어와 방식 비슷"
   ]
  },
  {
   "cell_type": "markdown",
   "id": "c9b9d45a-5d5c-429a-9dea-9324d2b4e09a",
   "metadata": {},
   "source": [
    "(예제1) -- `torch.nn.Module`의 상속을 이용하여 아래와 동일한 아키텍처를 가지는 네트워크를 설계하라. "
   ]
  },
  {
   "cell_type": "code",
   "execution_count": 377,
   "id": "6d644969-b24a-4a02-9d4e-6fea2a6d80a8",
   "metadata": {},
   "outputs": [],
   "source": [
    "net = torch.nn.Sequential(\n",
    "    torch.nn.Linear(in_features=1,out_features=1,bias=True), # linr1\n",
    "    torch.nn.Sigmoid(),#sig\n",
    "    torch.nn.Linear(in_features=1,out_features=1,bias=False) # linr2 \n",
    ")"
   ]
  },
  {
   "cell_type": "code",
   "execution_count": 378,
   "id": "925857ba-3116-48f4-8c1a-0aec96703146",
   "metadata": {},
   "outputs": [],
   "source": [
    "x = torch.tensor([[1.0]])"
   ]
  },
  {
   "cell_type": "code",
   "execution_count": 379,
   "id": "6a2949fd-b6aa-4fca-a3a4-c54c3f938e3e",
   "metadata": {},
   "outputs": [
    {
     "data": {
      "text/plain": [
       "tensor([[-0.5737]], grad_fn=<MmBackward0>)"
      ]
     },
     "execution_count": 379,
     "metadata": {},
     "output_type": "execute_result"
    }
   ],
   "source": [
    "net(x)"
   ]
  },
  {
   "cell_type": "markdown",
   "id": "ddcec3c5-4cea-4766-ae5c-f1777210c7e0",
   "metadata": {},
   "source": [
    "(풀이)"
   ]
  },
  {
   "cell_type": "markdown",
   "id": "c9dc1b38-a23a-4e4e-a742-b1a0141a8e0d",
   "metadata": {},
   "source": [
    "🗣️("
   ]
  },
  {
   "cell_type": "code",
   "execution_count": 46,
   "id": "c12f0df2-884d-4544-817c-a7dcdaec1fa9",
   "metadata": {},
   "outputs": [],
   "source": [
    "net = torch.nn.Sequential(\n",
    "    torch.nn.Linear(in_features=1,out_features=1,bias=True), # linr1\n",
    "    torch.nn.Sigmoid(),#sig\n",
    "    torch.nn.Linear(in_features=1,out_features=1,bias=False) # linr2 \n",
    ")"
   ]
  },
  {
   "cell_type": "code",
   "execution_count": 47,
   "id": "acf7640b-b4a3-4941-86b4-0eef8929b3ae",
   "metadata": {},
   "outputs": [],
   "source": [
    "x = torch.tensor([[1.0]])"
   ]
  },
  {
   "cell_type": "code",
   "execution_count": 48,
   "id": "f6c5cc7d-699d-4b94-95d0-898cda12dc58",
   "metadata": {},
   "outputs": [
    {
     "data": {
      "text/plain": [
       "tensor([[-0.3695]], grad_fn=<MmBackward0>)"
      ]
     },
     "execution_count": 48,
     "metadata": {},
     "output_type": "execute_result"
    }
   ],
   "source": [
    "net(x)"
   ]
  },
  {
   "cell_type": "code",
   "execution_count": 40,
   "id": "ad3c85fc-1298-4dff-a562-1366207810a4",
   "metadata": {},
   "outputs": [],
   "source": [
    "class MyNet1(torch.nn.Module):\n",
    "    def __init__(self):\n",
    "        super().__init__()\n",
    "        self.linr1 = torch.nn.Linear(in_features=1,out_features=1,bias=True)\n",
    "        self.sig = torch.nn.Sigmoid()\n",
    "        self.linr2 = torch.nn.Linear(in_features=1,out_features=1,bias=False)\n",
    "    def forward(self,x):\n",
    "        #net(x): x --> linr --> sig --> linr\n",
    "        out = self.linr2(self.sig(self.linr1(x))) # 구분을 위해 linr1 linr2\n",
    "        return out"
   ]
  },
  {
   "cell_type": "code",
   "execution_count": 49,
   "id": "0dbd7195-8be5-432b-bbfc-733b75d7db54",
   "metadata": {},
   "outputs": [],
   "source": [
    "net = MyNet1()"
   ]
  },
  {
   "cell_type": "code",
   "execution_count": 50,
   "id": "83fc155e-8319-4026-970b-b0be644b7156",
   "metadata": {},
   "outputs": [
    {
     "data": {
      "text/plain": [
       "tensor([[-0.0929]], grad_fn=<MmBackward0>)"
      ]
     },
     "execution_count": 50,
     "metadata": {},
     "output_type": "execute_result"
    }
   ],
   "source": [
    "net(x) # 값은 달라지지만 동일한 기능을 수행"
   ]
  },
  {
   "cell_type": "markdown",
   "id": "7c4f7972-8353-4918-93d9-7b17c54766f7",
   "metadata": {},
   "source": [
    ")🗣️"
   ]
  },
  {
   "cell_type": "code",
   "execution_count": 386,
   "id": "fa23db0b-8afa-4364-812b-d0e43f40adfe",
   "metadata": {},
   "outputs": [],
   "source": [
    "class MyNet1(torch.nn.Module):\n",
    "    def __init__(self):\n",
    "        super().__init__()\n",
    "        self.linr1 = torch.nn.Linear(in_features=1,out_features=1,bias=True)\n",
    "        self.sig = torch.nn.Sigmoid()\n",
    "        self.linr2 = torch.nn.Linear(in_features=1,out_features=1,bias=False)\n",
    "    def forward(self,x):\n",
    "        out = self.linr2(self.sig(self.linr1(x)))\n",
    "        return out "
   ]
  },
  {
   "cell_type": "markdown",
   "id": "7b912b9a-d063-48b0-a7fe-cd722296be22",
   "metadata": {
    "tags": []
   },
   "source": [
    "(예시2) --  `torch.nn.Module`의 상속을 이용하여 아래와 동일한 동작을 하는 네트워크를 설계하라. "
   ]
  },
  {
   "cell_type": "code",
   "execution_count": 389,
   "id": "1ba5a600-33d6-44d2-88cd-cbb2fa857880",
   "metadata": {},
   "outputs": [],
   "source": [
    "net = torch.nn.Sequential(\n",
    "    torch.nn.Linear(in_features=1,out_features=1,bias=True),\n",
    "    torch.nn.ReLU(),\n",
    "    torch.nn.Linear(in_features=1,out_features=1,bias=False)\n",
    ")"
   ]
  },
  {
   "cell_type": "markdown",
   "id": "b0f60a7f-23b5-4543-81f1-e54d06fc8916",
   "metadata": {},
   "source": [
    "(풀이)"
   ]
  },
  {
   "cell_type": "code",
   "execution_count": 390,
   "id": "3973069e-5194-44eb-9516-c0e4ab5ba682",
   "metadata": {},
   "outputs": [],
   "source": [
    "class MyNet2(torch.nn.Module):\n",
    "    def __init__(self):\n",
    "        super().__init__()\n",
    "        self.linr1 = torch.nn.Linear(in_features=1,out_features=1,bias=True)\n",
    "        self.relu = torch.nn.ReLU()\n",
    "        self.linr2 = torch.nn.Linear(in_features=1,out_features=1,bias=False)\n",
    "    def forward(self,X):\n",
    "        netout = self.linr2(self.relu(self.linr1(x)))\n",
    "        return netout"
   ]
  },
  {
   "cell_type": "markdown",
   "id": "16794288-1f49-44f8-8155-7ecfd998cfba",
   "metadata": {},
   "source": [
    "***사용자 정의 네트워크를 만드는 방법***\n",
    "\n",
    "**step1:** 아래와 코드를 복사하여 틀을 만든다. (이건 무조건 고정임, XXXX 자리는 원하는 이름을 넣는다)\n",
    "\n",
    "``` python\n",
    "class XXXX(torch.nn.Module):\n",
    "    def __init__(self):\n",
    "        super().__init__()\n",
    "        ## 우리가 netout을 구할때 사용할 레이어를 정의 \n",
    "        \n",
    "        ## 정의 끝\n",
    "    def forward(self,X):\n",
    "        ## netout을 어떻게 구할것인지 정의 \n",
    "        \n",
    "        ## 정의 끝\n",
    "        return netout\n",
    "```\n",
    "\n",
    "- `forward`의 입력: `X`는 `net(X)`에 사용하는 `X`임\n",
    "- `forward`의 출력: `netout`은 `net.forward(X)` 함수의 리턴값임\n",
    "-  당연히 `X`/`netout`은 다른 변수로 써도 무방 (예를들면 `input`/`output` 이라든지) "
   ]
  },
  {
   "cell_type": "markdown",
   "id": "7edc549b-5960-45df-b0ed-0eb9270997fb",
   "metadata": {},
   "source": [
    "**step2:** `def __init__(self):`에 yhat을 구하기 위해 필요한 재료를 레이어를 정의하고 이름을 붙인다. 이름은 항상 `self.xxx` 와 같은 식으로 정의한다.\n",
    "\n",
    "``` python\n",
    "class XXXX(torch.nn.Module):\n",
    "    def __init__(self):\n",
    "        super().__init__()\n",
    "        ## 우리가 netout을 구할때 사용할 레이어를 정의 \n",
    "        self.xxx1 = torch.nn.Linear(in_features=1,out_features=1,bias=True)\n",
    "        self.xxx2 = torch.nn.Sigmoid()\n",
    "        self.xxx3 = torch.nn.Linear(in_features=1,out_features=1,bias=True)\n",
    "        ## 정의 끝\n",
    "    def forward(self,X):\n",
    "        ## netout을 어떻게 구할것인지 정의 \n",
    "        \n",
    "        ## 정의 끝\n",
    "        return netout\n",
    "```"
   ]
  },
  {
   "cell_type": "markdown",
   "id": "8c7cb91c-85f1-413a-9c74-8d44e2dd6e47",
   "metadata": {},
   "source": [
    "**step3:** `def forward:`에 \"X –\\> netout\" 으로 가는 과정을 묘사한 코드를 작성하고 netout을 리턴하도록 한다.\n",
    "\n",
    "``` python\n",
    "class XXXX(torch.nn.Module):\n",
    "    def __init__(self):\n",
    "        super().__init__()\n",
    "        ## 우리가 netout 구할때 사용할 레이어를 정의 \n",
    "        self.xxx1 = torch.nn.Linear(in_features=1,out_features=1,bias=True)\n",
    "        self.xxx2 = torch.nn.Sigmoid()\n",
    "        self.xxx3 = torch.nn.Linear(in_features=1,out_features=1,bias=True)\n",
    "        ## 정의 끝\n",
    "    def forward(self,X):\n",
    "        ## netout을 어떻게 구할것인지 정의 \n",
    "        u = self.xxx1(X) \n",
    "        v = self.xxx2(u)\n",
    "        netout = self.xxx3(v) \n",
    "        ## 정의 끝\n",
    "        return netout\n",
    "```"
   ]
  },
  {
   "cell_type": "markdown",
   "id": "3d60993a-cbda-43f5-98f6-33dbbb20ec0c",
   "metadata": {},
   "source": [
    "`#`"
   ]
  },
  {
   "cell_type": "markdown",
   "id": "2806f650-fa07-4d25-b40c-3e057b6d3125",
   "metadata": {},
   "source": [
    "`# 실습(2025-중간고사 4번)`: 자유 낙하 운동이란 어떤 물체가 일정한 높이에서 떨어져 지면에 도달하기 까지 걸리는 시간을 다루는 물리학 개념이다.  다음은 물리학의 자유 낙하 운동에서 착안하여 생성한 데이터이다."
   ]
  },
  {
   "cell_type": "code",
   "execution_count": 51,
   "id": "5bc7c052-39e7-426b-9c0e-00ded7fe5bd2",
   "metadata": {
    "vscode": {
     "languageId": "python"
    }
   },
   "outputs": [],
   "source": [
    "torch.manual_seed(43052)\n",
    "h = torch.rand(100)*100\n",
    "h,_ = h.sort()\n",
    "h = h.reshape(100,1)\n",
    "t = torch.sqrt(2*h/9.8) + torch.randn([100,1])*0.1"
   ]
  },
  {
   "cell_type": "markdown",
   "id": "9724ada5-480c-412a-823d-9bbcf6a69ddc",
   "metadata": {},
   "source": [
    "여기에서 $h$는 낙하전의 높이(단위: m), $t$는 해당높이에서 물치가 지면에 도달하기 까지 걸리는 시간(단위:초)을 의미한다. 예를 들어 아래의 자료는 $h=99.3920, t=4.4583$를 의미하는데 "
   ]
  },
  {
   "cell_type": "code",
   "execution_count": 52,
   "id": "b97f7a93-1291-4d58-823c-b0379c51b54b",
   "metadata": {
    "vscode": {
     "languageId": "python"
    }
   },
   "outputs": [
    {
     "data": {
      "text/plain": [
       "(tensor([99.3920]), tensor([4.4583]))"
      ]
     },
     "execution_count": 52,
     "metadata": {},
     "output_type": "execute_result"
    }
   ],
   "source": [
    "h[-1], t[-1]"
   ]
  },
  {
   "cell_type": "markdown",
   "id": "f1c6a2e6-8fd0-4673-9fa3-daa76523e186",
   "metadata": {},
   "source": [
    "이것은 높이 $99.3920$m에서 낙하한 물체가 약 $4.4583$초만에 지면에 도달했음을 의미한다. 아래의 그림은 $x$축에 $h$, $y$축에 $t$를 두고 해당 데이터를 산점도로 시각화 한 것이다. "
   ]
  },
  {
   "cell_type": "code",
   "execution_count": 53,
   "id": "205c0230-9f05-4703-8940-0a47be6f7772",
   "metadata": {
    "vscode": {
     "languageId": "python"
    }
   },
   "outputs": [
    {
     "data": {
      "image/png": "[encoded data removed]",
      "text/plain": [
       "<Figure size 450x300 with 1 Axes>"
      ]
     },
     "metadata": {},
     "output_type": "display_data"
    }
   ],
   "source": [
    "plt.plot(h,t,'o',alpha=0.5)\n",
    "plt.xlabel('Height (m)')\n",
    "plt.ylabel('Time to fall (sec)')\n",
    "plt.title('Free Fall Time vs Height')\n",
    "plt.grid(True)\n",
    "plt.show()"
   ]
  },
  {
   "cell_type": "markdown",
   "id": "18afe79e-d7a4-4bed-b545-64ec6553a490",
   "metadata": {},
   "source": [
    "그래프를 보면 높이가 높을 수록 낙하시간도 길어지는 경향이 관찰된다. 다만 동일한 높이라 하더라도 낙하시간이 조금씩 차이나는 경우가 있는데, 이는 사람이 시간측정을 수동으로 하며 발생하는 실험오차 때문이다. 이러한 오차에도 불구하고 $h$와 $t$사이에는 일정한 규칙이 존재하는듯 하다. 물리학과 교수님께 자문을 요청한 결과 자유낙하에 걸리는 시간은 $\\sqrt{h}$에 비례함을 알 수 있었고 이를 근거로 아래와 같은 모형을 설계하였다. \n",
    "\n",
    "$$t_i = \\beta_0 + \\beta_1 \\sqrt{h_i}+\\epsilon_i, \\quad \\epsilon_i \\sim {\\cal N}(0,\\sigma^2)$$\n",
    "\n",
    "위의 모형을 활용하여 높이 $h$로부터 낙하시간 $t$를 예측하는 신경망 모델을 설계하고 학습하라. 학습한 신경망 모델을 활용하여 높이 40m,60m,80m 에서 물체를 자유낙하 시켰을때 지면에 도달하기까지 걸리는 시간을 각각 예측하라. "
   ]
  },
  {
   "cell_type": "markdown",
   "id": "df61a257-36f9-4d35-955a-a725523dcff6",
   "metadata": {},
   "source": [
    "(풀이)"
   ]
  },
  {
   "cell_type": "markdown",
   "id": "6baa6377-1a71-4920-99b1-b47204ea26bf",
   "metadata": {},
   "source": [
    "🗣️("
   ]
  },
  {
   "cell_type": "markdown",
   "id": "e4240f8b-c0fa-4f60-a4dd-87af18f58c92",
   "metadata": {},
   "source": [
    "- h --> sqrt --> linr --> t_hat"
   ]
  },
  {
   "cell_type": "code",
   "execution_count": 54,
   "id": "2021b9cb-571a-43c3-86aa-64cc49c591bd",
   "metadata": {},
   "outputs": [],
   "source": [
    "class FreeFallNet(torch.nn.Module):\n",
    "    def __init__(self):\n",
    "        super().__init__()\n",
    "        self.linr = torch.nn.Linear(1,1)\n",
    "    def forward(self,h):\n",
    "        netout = self.linr(torch.sqrt(h))\n",
    "        return netout"
   ]
  },
  {
   "cell_type": "code",
   "execution_count": 55,
   "id": "a0214940-9fd6-4b06-b583-ae78c4594ba2",
   "metadata": {},
   "outputs": [],
   "source": [
    "net = FreeFallNet()\n",
    "loss_fn = torch.nn.MSELoss()\n",
    "optimizr = torch.optim.Adam(net.parameters())\n",
    "#---#\n",
    "for epoc in range(2000):\n",
    "    #1\n",
    "    netout = net(h)\n",
    "    #2\n",
    "    loss = loss_fn(netout,t)\n",
    "    #3\n",
    "    loss.backward()\n",
    "    #4\n",
    "    optimizr.step()\n",
    "    optimizr.zero_grad()"
   ]
  },
  {
   "cell_type": "code",
   "execution_count": 56,
   "id": "16abdcc1-d845-46ec-90d0-e0f6841269cc",
   "metadata": {
    "vscode": {
     "languageId": "python"
    }
   },
   "outputs": [
    {
     "data": {
      "image/png": "[encoded data removed]",
      "text/plain": [
       "<Figure size 450x300 with 1 Axes>"
      ]
     },
     "metadata": {},
     "output_type": "display_data"
    }
   ],
   "source": [
    "plt.plot(h,t,'o',alpha=0.5)\n",
    "plt.xlabel('Height (m)')\n",
    "plt.ylabel('Time to fall (sec)')\n",
    "plt.title('Free Fall Time vs Height')\n",
    "plt.plot(h,net(h).data,'--')\n",
    "plt.grid(True)\n",
    "plt.show()"
   ]
  },
  {
   "cell_type": "code",
   "execution_count": 57,
   "id": "955bd429-df52-4dd6-9597-e26b31603c89",
   "metadata": {},
   "outputs": [],
   "source": [
    "net = FreeFallNet()\n",
    "loss_fn = torch.nn.MSELoss()\n",
    "optimizr = torch.optim.Adam(net.parameters())\n",
    "#---#\n",
    "for epoc in range(10000):\n",
    "    #1\n",
    "    netout = net(h)\n",
    "    #2\n",
    "    loss = loss_fn(netout,t)\n",
    "    #3\n",
    "    loss.backward()\n",
    "    #4\n",
    "    optimizr.step()\n",
    "    optimizr.zero_grad()"
   ]
  },
  {
   "cell_type": "code",
   "execution_count": 58,
   "id": "a326805a-a617-40d8-88dd-0d1572a396d4",
   "metadata": {
    "vscode": {
     "languageId": "python"
    }
   },
   "outputs": [
    {
     "data": {
      "image/png": "[encoded data removed]",
      "text/plain": [
       "<Figure size 450x300 with 1 Axes>"
      ]
     },
     "metadata": {},
     "output_type": "display_data"
    }
   ],
   "source": [
    "plt.plot(h,t,'o',alpha=0.5)\n",
    "plt.xlabel('Height (m)')\n",
    "plt.ylabel('Time to fall (sec)')\n",
    "plt.title('Free Fall Time vs Height')\n",
    "plt.plot(h,net(h).data,'--')\n",
    "plt.grid(True)\n",
    "plt.show()"
   ]
  },
  {
   "cell_type": "markdown",
   "id": "3cdafeb4-97d9-42ba-b7ba-fd6357649eed",
   "metadata": {},
   "source": [
    "- 코드가 깔끔함"
   ]
  },
  {
   "cell_type": "code",
   "execution_count": 59,
   "id": "3b663f66-31f0-4eeb-b297-5fcc8a8456f7",
   "metadata": {},
   "outputs": [
    {
     "data": {
      "text/plain": [
       "tensor([[2.0253],\n",
       "        [2.4746],\n",
       "        [2.8534],\n",
       "        [3.1872],\n",
       "        [3.4889],\n",
       "        [3.7664]], grad_fn=<AddmmBackward0>)"
      ]
     },
     "execution_count": 59,
     "metadata": {},
     "output_type": "execute_result"
    }
   ],
   "source": [
    "hh = torch.tensor([20,30,40,50,60,70]).reshape(6,1)\n",
    "net(hh)"
   ]
  },
  {
   "cell_type": "markdown",
   "id": "d1e426c1-613e-4fbe-8a1f-77d58955e0c8",
   "metadata": {},
   "source": [
    "```python\n",
    "# 지난 시간 코드 (xx 추가됨)\n",
    "hh = torch.tensor([40,60,80]).float().reshape(3,1)\n",
    "xx = torch.sqrt(hh)\n",
    "net(xx)\n",
    "```"
   ]
  },
  {
   "cell_type": "markdown",
   "id": "29317f64-eb12-4330-969f-8c175247d1ee",
   "metadata": {},
   "source": [
    ")🗣️"
   ]
  },
  {
   "cell_type": "code",
   "execution_count": 405,
   "id": "e92eac45-e4bd-4ea9-b8ea-d4a3b0cbbc3a",
   "metadata": {},
   "outputs": [],
   "source": [
    "class FreeFallNet(torch.nn.Module):\n",
    "    def __init__(self):\n",
    "        super().__init__()\n",
    "        self.linr = torch.nn.Linear(1,1)\n",
    "    def forward(self,h):\n",
    "        netout = self.linr(torch.sqrt(h))\n",
    "        return netout    "
   ]
  },
  {
   "cell_type": "code",
   "execution_count": 406,
   "id": "1137b676-b286-4a81-931d-408a476c3962",
   "metadata": {},
   "outputs": [],
   "source": [
    "net = FreeFallNet()\n",
    "loss_fn = torch.nn.MSELoss()\n",
    "optimizr = torch.optim.Adam(net.parameters())\n",
    "#---#\n",
    "for epoc in range(10000):\n",
    "    #1\n",
    "    netout = net(h)\n",
    "    #2\n",
    "    loss = loss_fn(netout,t)\n",
    "    #3\n",
    "    loss.backward()\n",
    "    #4 \n",
    "    optimizr.step()\n",
    "    optimizr.zero_grad()"
   ]
  },
  {
   "cell_type": "code",
   "execution_count": 407,
   "id": "999c8426-4ed7-4384-a3ee-8f7825518888",
   "metadata": {},
   "outputs": [
    {
     "data": {
      "text/plain": [
       "[<matplotlib.lines.Line2D at 0x741f9926fd30>]"
      ]
     },
     "execution_count": 407,
     "metadata": {},
     "output_type": "execute_result"
    },
    {
     "data": {
      "image/png": "[encoded data removed]",
      "text/plain": [
       "<Figure size 450x300 with 1 Axes>"
      ]
     },
     "metadata": {},
     "output_type": "display_data"
    }
   ],
   "source": [
    "plt.plot(h,t,'o',alpha=0.5)\n",
    "plt.xlabel('Height (m)')\n",
    "plt.ylabel('Time to fall (sec)')\n",
    "plt.title('Free Fall Time vs Height')\n",
    "plt.plot(h,net(h).data,'--')"
   ]
  },
  {
   "cell_type": "code",
   "execution_count": 410,
   "id": "377615cc-91a5-4e46-9a01-ac913f6b0535",
   "metadata": {},
   "outputs": [
    {
     "data": {
      "text/plain": [
       "tensor([[2.0253],\n",
       "        [2.4746],\n",
       "        [2.8534],\n",
       "        [3.1872],\n",
       "        [3.4889],\n",
       "        [3.7664]], grad_fn=<AddmmBackward0>)"
      ]
     },
     "execution_count": 410,
     "metadata": {},
     "output_type": "execute_result"
    }
   ],
   "source": [
    "hh = torch.tensor([20,30,40,50,60,70]).reshape(6,1)\n",
    "net(hh)"
   ]
  },
  {
   "cell_type": "markdown",
   "id": "9345afd7-fcc2-4a64-9656-cbace9ce38f5",
   "metadata": {},
   "source": [
    "`#`"
   ]
  },
  {
   "cell_type": "markdown",
   "id": "a79a29dc-7cdf-4e3c-992d-803410bdacb7",
   "metadata": {
    "tags": []
   },
   "source": [
    "## B. MF-based 추천시스템 재설계"
   ]
  },
  {
   "cell_type": "markdown",
   "id": "295eecc5-aec6-4486-ac1e-9efae8fb1d95",
   "metadata": {},
   "source": [
    "아래의 자료를 활용하여 추천시스템을 설계하고자한다. "
   ]
  },
  {
   "cell_type": "code",
   "execution_count": 60,
   "id": "4c78e3d6-0dff-428d-9823-31476a2eaf55",
   "metadata": {
    "tags": []
   },
   "outputs": [
    {
     "data": {
      "text/html": [
       "<div>\n",
       "<style scoped>\n",
       "    .dataframe tbody tr th:only-of-type {\n",
       "        vertical-align: middle;\n",
       "    }\n",
       "\n",
       "    .dataframe tbody tr th {\n",
       "        vertical-align: top;\n",
       "    }\n",
       "\n",
       "    .dataframe thead th {\n",
       "        text-align: right;\n",
       "    }\n",
       "</style>\n",
       "<table border=\"1\" class=\"dataframe\">\n",
       "  <thead>\n",
       "    <tr style=\"text-align: right;\">\n",
       "      <th></th>\n",
       "      <th>영식(IN)</th>\n",
       "      <th>영철(IN)</th>\n",
       "      <th>영호(IS)</th>\n",
       "      <th>광수(IS)</th>\n",
       "      <th>상철(EN)</th>\n",
       "      <th>영수(EN)</th>\n",
       "      <th>규빈(ES)</th>\n",
       "      <th>다호(ES)</th>\n",
       "    </tr>\n",
       "  </thead>\n",
       "  <tbody>\n",
       "    <tr>\n",
       "      <th>옥순(IN)</th>\n",
       "      <td>NaN</td>\n",
       "      <td>4.02</td>\n",
       "      <td>3.45</td>\n",
       "      <td>3.42</td>\n",
       "      <td>0.84</td>\n",
       "      <td>1.12</td>\n",
       "      <td>0.43</td>\n",
       "      <td>0.49</td>\n",
       "    </tr>\n",
       "    <tr>\n",
       "      <th>영자(IN)</th>\n",
       "      <td>3.93</td>\n",
       "      <td>3.99</td>\n",
       "      <td>3.63</td>\n",
       "      <td>3.43</td>\n",
       "      <td>0.98</td>\n",
       "      <td>0.96</td>\n",
       "      <td>0.52</td>\n",
       "      <td>NaN</td>\n",
       "    </tr>\n",
       "    <tr>\n",
       "      <th>정숙(IS)</th>\n",
       "      <td>3.52</td>\n",
       "      <td>3.42</td>\n",
       "      <td>4.05</td>\n",
       "      <td>4.06</td>\n",
       "      <td>0.39</td>\n",
       "      <td>NaN</td>\n",
       "      <td>0.93</td>\n",
       "      <td>0.99</td>\n",
       "    </tr>\n",
       "    <tr>\n",
       "      <th>영숙(IS)</th>\n",
       "      <td>3.43</td>\n",
       "      <td>3.57</td>\n",
       "      <td>NaN</td>\n",
       "      <td>3.95</td>\n",
       "      <td>0.56</td>\n",
       "      <td>0.52</td>\n",
       "      <td>0.89</td>\n",
       "      <td>0.89</td>\n",
       "    </tr>\n",
       "    <tr>\n",
       "      <th>순자(EN)</th>\n",
       "      <td>1.12</td>\n",
       "      <td>NaN</td>\n",
       "      <td>0.59</td>\n",
       "      <td>0.43</td>\n",
       "      <td>4.01</td>\n",
       "      <td>4.16</td>\n",
       "      <td>3.52</td>\n",
       "      <td>3.38</td>\n",
       "    </tr>\n",
       "    <tr>\n",
       "      <th>현숙(EN)</th>\n",
       "      <td>0.94</td>\n",
       "      <td>1.05</td>\n",
       "      <td>0.32</td>\n",
       "      <td>0.45</td>\n",
       "      <td>4.02</td>\n",
       "      <td>3.78</td>\n",
       "      <td>NaN</td>\n",
       "      <td>3.54</td>\n",
       "    </tr>\n",
       "    <tr>\n",
       "      <th>서연(ES)</th>\n",
       "      <td>0.51</td>\n",
       "      <td>0.56</td>\n",
       "      <td>0.88</td>\n",
       "      <td>0.89</td>\n",
       "      <td>3.50</td>\n",
       "      <td>3.64</td>\n",
       "      <td>4.04</td>\n",
       "      <td>4.10</td>\n",
       "    </tr>\n",
       "    <tr>\n",
       "      <th>보람(ES)</th>\n",
       "      <td>0.48</td>\n",
       "      <td>0.51</td>\n",
       "      <td>1.03</td>\n",
       "      <td>NaN</td>\n",
       "      <td>3.52</td>\n",
       "      <td>4.00</td>\n",
       "      <td>3.82</td>\n",
       "      <td>NaN</td>\n",
       "    </tr>\n",
       "    <tr>\n",
       "      <th>하니(I)</th>\n",
       "      <td>4.85</td>\n",
       "      <td>4.82</td>\n",
       "      <td>NaN</td>\n",
       "      <td>4.98</td>\n",
       "      <td>4.53</td>\n",
       "      <td>4.39</td>\n",
       "      <td>4.45</td>\n",
       "      <td>4.52</td>\n",
       "    </tr>\n",
       "  </tbody>\n",
       "</table>\n",
       "</div>"
      ],
      "text/plain": [
       "        영식(IN)  영철(IN)  영호(IS)  광수(IS)  상철(EN)  영수(EN)  규빈(ES)  다호(ES)\n",
       "옥순(IN)     NaN    4.02    3.45    3.42    0.84    1.12    0.43    0.49\n",
       "영자(IN)    3.93    3.99    3.63    3.43    0.98    0.96    0.52     NaN\n",
       "정숙(IS)    3.52    3.42    4.05    4.06    0.39     NaN    0.93    0.99\n",
       "영숙(IS)    3.43    3.57     NaN    3.95    0.56    0.52    0.89    0.89\n",
       "순자(EN)    1.12     NaN    0.59    0.43    4.01    4.16    3.52    3.38\n",
       "현숙(EN)    0.94    1.05    0.32    0.45    4.02    3.78     NaN    3.54\n",
       "서연(ES)    0.51    0.56    0.88    0.89    3.50    3.64    4.04    4.10\n",
       "보람(ES)    0.48    0.51    1.03     NaN    3.52    4.00    3.82     NaN\n",
       "하니(I)     4.85    4.82     NaN    4.98    4.53    4.39    4.45    4.52"
      ]
     },
     "execution_count": 60,
     "metadata": {},
     "output_type": "execute_result"
    }
   ],
   "source": [
    "df_view = pd.read_csv('https://raw.githubusercontent.com/guebin/DL2024/main/posts/solo.csv',index_col=0)\n",
    "df_view"
   ]
  },
  {
   "cell_type": "markdown",
   "id": "39215e0e-537f-4574-91b1-32dda54e0154",
   "metadata": {},
   "source": [
    "사용자정의 네트워크를 이용하여 MF-based 추천시스템을 설계하라. "
   ]
  },
  {
   "cell_type": "markdown",
   "id": "7173b97e-6dbf-4ce5-9eff-66321943b105",
   "metadata": {},
   "source": [
    "(풀이1) -- `net(x1,x2)`"
   ]
  },
  {
   "cell_type": "markdown",
   "id": "791c0673-e185-4fbc-90b7-7c73eadcf775",
   "metadata": {},
   "source": [
    "🗣️("
   ]
  },
  {
   "cell_type": "markdown",
   "id": "fd71bafe-c908-4871-bceb-22ea1594ee2a",
   "metadata": {},
   "source": [
    "- 이전 풀이가 너무 복잡하여 yhat을 다음과 같이 바꾸고 싶음"
   ]
  },
  {
   "cell_type": "markdown",
   "id": "359dd7a4-72db-4f53-845e-ffa7edf93725",
   "metadata": {},
   "source": [
    "```python\n",
    "#df_view\n",
    "loss_fn = torch.nn.MSELoss() \n",
    "ebdd1 = torch.nn.Embedding(9,2)\n",
    "ebdd2 = torch.nn.Embedding(8,2)\n",
    "b1 = torch.nn.Embedding(9,1)\n",
    "b2 = torch.nn.Embedding(8,1)\n",
    "params = list(ebdd1.parameters()) + list(ebdd2.parameters())  + list(b1.parameters()) + list(b2.parameters())\n",
    "optimizr = torch.optim.Adam(params)\n",
    "sig = torch.nn.Sigmoid()\n",
    "#----#\n",
    "for epoc in range(5000):\n",
    "    #step1\n",
    "    # W_features = ebdd1(x1) \n",
    "    # M_features = ebdd2(x2) \n",
    "    # W_bias = b1(x1)\n",
    "    # M_bais = b2(x2)\n",
    "    # yhat = sig((W_features * M_features).sum(axis=1).reshape(-1,1) + W_bias + M_bais)*5\n",
    "    yhat = net(x1,x2)\n",
    "    #step2\n",
    "    loss = loss_fn(yhat,y)\n",
    "    #step3\n",
    "    loss.backward()\n",
    "    #step4\n",
    "    optimizr.step()\n",
    "    optimizr.zero_grad()\n",
    "```"
   ]
  },
  {
   "cell_type": "markdown",
   "id": "e4df9d4d-8acb-4932-9c95-6ced051f12ca",
   "metadata": {},
   "source": [
    "- 이에 맞춰 network를 설계하면"
   ]
  },
  {
   "cell_type": "code",
   "execution_count": 66,
   "id": "dc7824cc-34ff-43f8-b5b4-eba993d8d9c7",
   "metadata": {},
   "outputs": [],
   "source": [
    "#df_view\n",
    "class MFbased1(torch.nn.Module):\n",
    "    def __init__(self):\n",
    "        super().__init__()\n",
    "        self.ebdd1 = torch.nn.Embedding(9,2)\n",
    "        self.ebdd2 = torch.nn.Embedding(8,2)\n",
    "        self.b1 = torch.nn.Embedding(9,1)\n",
    "        self.b2 = torch.nn.Embedding(8,1)\n",
    "        self.sig = torch.nn.Sigmoid()\n",
    "    def forward(self,x1,x2):\n",
    "        W_features = self.ebdd1(x1) \n",
    "        M_features = self.ebdd2(x2) \n",
    "        W_bias = self.b1(x1)\n",
    "        M_bais = self.b2(x2)\n",
    "        yhat = self.sig((W_features * M_features).sum(axis=1).reshape(-1,1) + W_bias + M_bais)*5\n",
    "        return yhat\n",
    "\n",
    "net = MFbased1()\n",
    "loss_fn = torch.nn.MSELoss() \n",
    "# params = list(ebdd1.parameters()) + list(ebdd2.parameters())  + list(b1.parameters()) + list(b2.parameters())\n",
    "# 이렇게 net을 선언하면 net.parameters()와 동일\n",
    "optimizr = torch.optim.Adam(net.parameters())\n",
    "#----#\n",
    "for epoc in range(10000):\n",
    "    #step1\n",
    "    yhat = net(x1,x2)\n",
    "    #step2\n",
    "    loss = loss_fn(yhat,y)\n",
    "    #step3\n",
    "    loss.backward()\n",
    "    #step4\n",
    "    optimizr.step()\n",
    "    optimizr.zero_grad()"
   ]
  },
  {
   "cell_type": "code",
   "execution_count": 67,
   "id": "3ccd65ed-13c9-4a6e-a89f-5b2e13188638",
   "metadata": {},
   "outputs": [
    {
     "data": {
      "text/plain": [
       "(tensor([[4.0200],\n",
       "         [3.4500],\n",
       "         [3.4200],\n",
       "         [0.8400],\n",
       "         [1.1200]]),\n",
       " tensor([[4.0793],\n",
       "         [3.4667],\n",
       "         [3.3657],\n",
       "         [0.9102],\n",
       "         [0.9532]], grad_fn=<SliceBackward0>))"
      ]
     },
     "execution_count": 67,
     "metadata": {},
     "output_type": "execute_result"
    }
   ],
   "source": [
    "y[:5], yhat[:5] # 잘 적합됨"
   ]
  },
  {
   "cell_type": "code",
   "execution_count": 69,
   "id": "1ce9977b-630e-4483-89d6-cbf4490bb11c",
   "metadata": {},
   "outputs": [],
   "source": [
    "# list(net.parameters()) # parameter == 이전 params 확인 코드"
   ]
  },
  {
   "cell_type": "markdown",
   "id": "81b2f046-919e-48e7-accd-a7f804cdb641",
   "metadata": {},
   "source": [
    ")🗣️"
   ]
  },
  {
   "cell_type": "code",
   "execution_count": 420,
   "id": "e652b2a8-e9b7-42a8-a507-617bae9fef77",
   "metadata": {},
   "outputs": [],
   "source": [
    "#df_view\n",
    "class MFbased1(torch.nn.Module):\n",
    "    def __init__(self):\n",
    "        super().__init__()\n",
    "        self.ebdd1 = torch.nn.Embedding(9,2)\n",
    "        self.ebdd2 = torch.nn.Embedding(8,2)\n",
    "        self.b1 = torch.nn.Embedding(9,1)\n",
    "        self.b2 = torch.nn.Embedding(8,1)        \n",
    "        self.sig = torch.nn.Sigmoid()\n",
    "    def forward(self,x1,x2):\n",
    "        W_features = self.ebdd1(x1) \n",
    "        M_features = self.ebdd2(x2) \n",
    "        W_bias = self.b1(x1)\n",
    "        M_bais = self.b2(x2)\n",
    "        yhat = self.sig((W_features * M_features).sum(axis=1).reshape(-1,1) + W_bias + M_bais)*5        \n",
    "        return yhat\n",
    "net = MFbased1()\n",
    "loss_fn = torch.nn.MSELoss() \n",
    "optimizr = torch.optim.Adam(net.parameters())\n",
    "#----#\n",
    "for epoc in range(10000):\n",
    "    #step1\n",
    "    yhat = net(x1,x2)\n",
    "    #step2\n",
    "    loss = loss_fn(yhat,y)\n",
    "    #step3\n",
    "    loss.backward()\n",
    "    #step4\n",
    "    optimizr.step()\n",
    "    optimizr.zero_grad()"
   ]
  },
  {
   "cell_type": "code",
   "execution_count": 421,
   "id": "6eb0ef27-501c-4ecb-97f4-793210ee992f",
   "metadata": {},
   "outputs": [
    {
     "data": {
      "text/plain": [
       "(tensor([[4.0200],\n",
       "         [3.4500],\n",
       "         [3.4200],\n",
       "         [0.8400],\n",
       "         [1.1200]]),\n",
       " tensor([[4.0800],\n",
       "         [3.4664],\n",
       "         [3.3650],\n",
       "         [0.9111],\n",
       "         [0.9538]], grad_fn=<SliceBackward0>))"
      ]
     },
     "execution_count": 421,
     "metadata": {},
     "output_type": "execute_result"
    }
   ],
   "source": [
    "y[:5], yhat[:5]"
   ]
  },
  {
   "cell_type": "markdown",
   "id": "1cb93b82-6094-4cef-853c-4caf4df50e45",
   "metadata": {},
   "source": [
    "(풀이2) -- `net(X)`"
   ]
  },
  {
   "cell_type": "markdown",
   "id": "89fdfd3a-26ad-49c1-a634-3dcb09b3c39d",
   "metadata": {},
   "source": [
    "🗣️("
   ]
  },
  {
   "cell_type": "code",
   "execution_count": 70,
   "id": "53b6dc72-dc45-43ef-82c6-959bd3e0afe2",
   "metadata": {},
   "outputs": [
    {
     "data": {
      "text/plain": [
       "(tensor([0, 0, 0, 0, 0, 0, 0, 1, 1, 1, 1, 1, 1, 1, 2, 2, 2, 2, 2, 2, 2, 3, 3, 3,\n",
       "         3, 3, 3, 3, 4, 4, 4, 4, 4, 4, 4, 5, 5, 5, 5, 5, 5, 5, 6, 6, 6, 6, 6, 6,\n",
       "         6, 6, 7, 7, 7, 7, 7, 7, 8, 8, 8, 8, 8, 8, 8]),\n",
       " tensor([1, 2, 3, 4, 5, 6, 7, 0, 1, 2, 3, 4, 5, 6, 0, 1, 2, 3, 4, 6, 7, 0, 1, 3,\n",
       "         4, 5, 6, 7, 0, 2, 3, 4, 5, 6, 7, 0, 1, 2, 3, 4, 5, 7, 0, 1, 2, 3, 4, 5,\n",
       "         6, 7, 0, 1, 2, 4, 5, 6, 0, 1, 3, 4, 5, 6, 7]))"
      ]
     },
     "execution_count": 70,
     "metadata": {},
     "output_type": "execute_result"
    }
   ],
   "source": [
    "x1, x2"
   ]
  },
  {
   "cell_type": "code",
   "execution_count": 71,
   "id": "eec8a2fc-f04d-4170-852f-a5c510313801",
   "metadata": {},
   "outputs": [],
   "source": [
    "X = torch.stack([x1,x2],axis=1) "
   ]
  },
  {
   "cell_type": "code",
   "execution_count": 73,
   "id": "8875d88c-0cca-4241-9fb0-7b17cbe04d41",
   "metadata": {},
   "outputs": [],
   "source": [
    "class MFbased2(torch.nn.Module):\n",
    "    def __init__(self):\n",
    "        super().__init__()\n",
    "        self.ebdd1 = torch.nn.Embedding(9,2)\n",
    "        self.ebdd2 = torch.nn.Embedding(8,2)\n",
    "        self.b1 = torch.nn.Embedding(9,1)\n",
    "        self.b2 = torch.nn.Embedding(8,1)        \n",
    "        self.sig = torch.nn.Sigmoid()\n",
    "    def forward(self,X):\n",
    "        x1 = X[:,0] # 분리\n",
    "        x2 = X[:,1]\n",
    "        W_features = self.ebdd1(x1) \n",
    "        M_features = self.ebdd2(x2) \n",
    "        W_bias = self.b1(x1)\n",
    "        M_bais = self.b2(x2)\n",
    "        yhat = self.sig((W_features * M_features).sum(axis=1).reshape(-1,1) + W_bias + M_bais)*5        \n",
    "        return yhat\n",
    "net = MFbased2()\n",
    "loss_fn = torch.nn.MSELoss() \n",
    "optimizr = torch.optim.Adam(net.parameters())\n",
    "#----#\n",
    "for epoc in range(10000):\n",
    "    #step1\n",
    "    yhat = net(X)\n",
    "    #step2\n",
    "    loss = loss_fn(yhat,y)\n",
    "    #step3\n",
    "    loss.backward()\n",
    "    #step4\n",
    "    optimizr.step()\n",
    "    optimizr.zero_grad()"
   ]
  },
  {
   "cell_type": "code",
   "execution_count": 74,
   "id": "3a5abaf6-e62a-4b8b-93e9-abda06f5c90b",
   "metadata": {},
   "outputs": [
    {
     "data": {
      "text/plain": [
       "(tensor([[4.0200],\n",
       "         [3.4500],\n",
       "         [3.4200],\n",
       "         [0.8400],\n",
       "         [1.1200]]),\n",
       " tensor([[4.0800],\n",
       "         [3.4664],\n",
       "         [3.3651],\n",
       "         [0.9111],\n",
       "         [0.9538]], grad_fn=<SliceBackward0>))"
      ]
     },
     "execution_count": 74,
     "metadata": {},
     "output_type": "execute_result"
    }
   ],
   "source": [
    "y[:5], yhat[:5] # 잘 적합됨"
   ]
  },
  {
   "cell_type": "markdown",
   "id": "7dd2e18c-54b4-4ec8-8ca5-9498e7f87f85",
   "metadata": {},
   "source": [
    "- 사용자 정의 네트워크를 이용하면 지저분한 부분을 위에(class) 몰아넣고 아래는 깔끔하게 정리할 수 있음"
   ]
  },
  {
   "cell_type": "markdown",
   "id": "0b1bb051-0330-425e-bbe7-e3d2e86c8368",
   "metadata": {},
   "source": [
    ")🗣️"
   ]
  },
  {
   "cell_type": "code",
   "execution_count": 439,
   "id": "c771bba2-15b7-430a-92ee-ddbd9b0d2cfc",
   "metadata": {},
   "outputs": [],
   "source": [
    "X = torch.stack([x1,x2],axis=1) "
   ]
  },
  {
   "cell_type": "code",
   "execution_count": 440,
   "id": "04b20c18-4a85-48ed-989e-e25ddb74f9d9",
   "metadata": {},
   "outputs": [],
   "source": [
    "class MFbased2(torch.nn.Module):\n",
    "    def __init__(self):\n",
    "        super().__init__()\n",
    "        self.ebdd1 = torch.nn.Embedding(9,2)\n",
    "        self.ebdd2 = torch.nn.Embedding(8,2)\n",
    "        self.b1 = torch.nn.Embedding(9,1)\n",
    "        self.b2 = torch.nn.Embedding(8,1)        \n",
    "        self.sig = torch.nn.Sigmoid()\n",
    "    def forward(self,X):\n",
    "        x1 = X[:,0]\n",
    "        x2 = X[:,1]\n",
    "        W_features = self.ebdd1(x1) \n",
    "        M_features = self.ebdd2(x2) \n",
    "        W_bias = self.b1(x1)\n",
    "        M_bais = self.b2(x2)\n",
    "        yhat = self.sig((W_features * M_features).sum(axis=1).reshape(-1,1) + W_bias + M_bais)*5        \n",
    "        return yhat\n",
    "net = MFbased2()\n",
    "loss_fn = torch.nn.MSELoss() \n",
    "optimizr = torch.optim.Adam(net.parameters())\n",
    "#----#\n",
    "for epoc in range(10000):\n",
    "    #step1\n",
    "    yhat = net(X)\n",
    "    #step2\n",
    "    loss = loss_fn(yhat,y)\n",
    "    #step3\n",
    "    loss.backward()\n",
    "    #step4\n",
    "    optimizr.step()\n",
    "    optimizr.zero_grad()"
   ]
  },
  {
   "cell_type": "code",
   "execution_count": 441,
   "id": "88fcb072-1091-4084-9732-04250b7c15cc",
   "metadata": {},
   "outputs": [
    {
     "data": {
      "text/plain": [
       "(tensor([[4.0200],\n",
       "         [3.4500],\n",
       "         [3.4200],\n",
       "         [0.8400],\n",
       "         [1.1200]]),\n",
       " tensor([[4.0800],\n",
       "         [3.4664],\n",
       "         [3.3651],\n",
       "         [0.9111],\n",
       "         [0.9538]], grad_fn=<SliceBackward0>))"
      ]
     },
     "execution_count": 441,
     "metadata": {},
     "output_type": "execute_result"
    }
   ],
   "source": [
    "y[:5], yhat[:5]"
   ]
  },
  {
   "cell_type": "markdown",
   "id": "357e5055-4438-4682-8d37-a5102f09611c",
   "metadata": {},
   "source": [
    "# 5. MF-based 추천시스템을 넘어서 📝"
   ]
  },
  {
   "cell_type": "markdown",
   "id": "62c64a50-712b-4cd6-b192-90253e546850",
   "metadata": {},
   "source": [
    "🗣️("
   ]
  },
  {
   "cell_type": "markdown",
   "id": "14ed596e-c961-4fec-b088-b402ecf61ac2",
   "metadata": {},
   "source": [
    "```\n",
    "MF = Matrix Factorization = 행렬분해(SVD)\n",
    "W_feature\n",
    "M_feature\n",
    "W_bias\n",
    "M_bias\n",
    "\n",
    "yhat = (W_feature*M_feature).sum(axis=1).reshape(-1,1) + 바이어스\n",
    "이러한 아키텍쳐를 생각하는게 되게 특이한 방식임\n",
    "#---#\n",
    "[W_feature, M_feature, W_bias, M_bias]\n",
    "(n,2) (n,2) (n,1) (n,1) ---> (n,6) --->> yhat : Neural Network\n",
    "```"
   ]
  },
  {
   "cell_type": "markdown",
   "id": "258338e5-1e22-4815-829b-6c08ca8ab1cc",
   "metadata": {},
   "source": [
    ")🗣️"
   ]
  },
  {
   "cell_type": "markdown",
   "id": "0e58811b-9fe9-4efe-a49d-9cd523a0d5a9",
   "metadata": {},
   "source": [
    "## A. NN-based 방식 "
   ]
  },
  {
   "cell_type": "markdown",
   "id": "9427ac48-758b-4bdf-8edc-ab89a1ad87f3",
   "metadata": {},
   "source": [
    "아래의 자료를 활용하여 추천시스템을 설계하고자한다. "
   ]
  },
  {
   "cell_type": "code",
   "execution_count": 75,
   "id": "dac9b60e-bb8e-4a2c-a967-f04c1398fce6",
   "metadata": {
    "tags": []
   },
   "outputs": [
    {
     "data": {
      "text/html": [
       "<div>\n",
       "<style scoped>\n",
       "    .dataframe tbody tr th:only-of-type {\n",
       "        vertical-align: middle;\n",
       "    }\n",
       "\n",
       "    .dataframe tbody tr th {\n",
       "        vertical-align: top;\n",
       "    }\n",
       "\n",
       "    .dataframe thead th {\n",
       "        text-align: right;\n",
       "    }\n",
       "</style>\n",
       "<table border=\"1\" class=\"dataframe\">\n",
       "  <thead>\n",
       "    <tr style=\"text-align: right;\">\n",
       "      <th></th>\n",
       "      <th>영식(IN)</th>\n",
       "      <th>영철(IN)</th>\n",
       "      <th>영호(IS)</th>\n",
       "      <th>광수(IS)</th>\n",
       "      <th>상철(EN)</th>\n",
       "      <th>영수(EN)</th>\n",
       "      <th>규빈(ES)</th>\n",
       "      <th>다호(ES)</th>\n",
       "    </tr>\n",
       "  </thead>\n",
       "  <tbody>\n",
       "    <tr>\n",
       "      <th>옥순(IN)</th>\n",
       "      <td>NaN</td>\n",
       "      <td>4.02</td>\n",
       "      <td>3.45</td>\n",
       "      <td>3.42</td>\n",
       "      <td>0.84</td>\n",
       "      <td>1.12</td>\n",
       "      <td>0.43</td>\n",
       "      <td>0.49</td>\n",
       "    </tr>\n",
       "    <tr>\n",
       "      <th>영자(IN)</th>\n",
       "      <td>3.93</td>\n",
       "      <td>3.99</td>\n",
       "      <td>3.63</td>\n",
       "      <td>3.43</td>\n",
       "      <td>0.98</td>\n",
       "      <td>0.96</td>\n",
       "      <td>0.52</td>\n",
       "      <td>NaN</td>\n",
       "    </tr>\n",
       "    <tr>\n",
       "      <th>정숙(IS)</th>\n",
       "      <td>3.52</td>\n",
       "      <td>3.42</td>\n",
       "      <td>4.05</td>\n",
       "      <td>4.06</td>\n",
       "      <td>0.39</td>\n",
       "      <td>NaN</td>\n",
       "      <td>0.93</td>\n",
       "      <td>0.99</td>\n",
       "    </tr>\n",
       "    <tr>\n",
       "      <th>영숙(IS)</th>\n",
       "      <td>3.43</td>\n",
       "      <td>3.57</td>\n",
       "      <td>NaN</td>\n",
       "      <td>3.95</td>\n",
       "      <td>0.56</td>\n",
       "      <td>0.52</td>\n",
       "      <td>0.89</td>\n",
       "      <td>0.89</td>\n",
       "    </tr>\n",
       "    <tr>\n",
       "      <th>순자(EN)</th>\n",
       "      <td>1.12</td>\n",
       "      <td>NaN</td>\n",
       "      <td>0.59</td>\n",
       "      <td>0.43</td>\n",
       "      <td>4.01</td>\n",
       "      <td>4.16</td>\n",
       "      <td>3.52</td>\n",
       "      <td>3.38</td>\n",
       "    </tr>\n",
       "    <tr>\n",
       "      <th>현숙(EN)</th>\n",
       "      <td>0.94</td>\n",
       "      <td>1.05</td>\n",
       "      <td>0.32</td>\n",
       "      <td>0.45</td>\n",
       "      <td>4.02</td>\n",
       "      <td>3.78</td>\n",
       "      <td>NaN</td>\n",
       "      <td>3.54</td>\n",
       "    </tr>\n",
       "    <tr>\n",
       "      <th>서연(ES)</th>\n",
       "      <td>0.51</td>\n",
       "      <td>0.56</td>\n",
       "      <td>0.88</td>\n",
       "      <td>0.89</td>\n",
       "      <td>3.50</td>\n",
       "      <td>3.64</td>\n",
       "      <td>4.04</td>\n",
       "      <td>4.10</td>\n",
       "    </tr>\n",
       "    <tr>\n",
       "      <th>보람(ES)</th>\n",
       "      <td>0.48</td>\n",
       "      <td>0.51</td>\n",
       "      <td>1.03</td>\n",
       "      <td>NaN</td>\n",
       "      <td>3.52</td>\n",
       "      <td>4.00</td>\n",
       "      <td>3.82</td>\n",
       "      <td>NaN</td>\n",
       "    </tr>\n",
       "    <tr>\n",
       "      <th>하니(I)</th>\n",
       "      <td>4.85</td>\n",
       "      <td>4.82</td>\n",
       "      <td>NaN</td>\n",
       "      <td>4.98</td>\n",
       "      <td>4.53</td>\n",
       "      <td>4.39</td>\n",
       "      <td>4.45</td>\n",
       "      <td>4.52</td>\n",
       "    </tr>\n",
       "  </tbody>\n",
       "</table>\n",
       "</div>"
      ],
      "text/plain": [
       "        영식(IN)  영철(IN)  영호(IS)  광수(IS)  상철(EN)  영수(EN)  규빈(ES)  다호(ES)\n",
       "옥순(IN)     NaN    4.02    3.45    3.42    0.84    1.12    0.43    0.49\n",
       "영자(IN)    3.93    3.99    3.63    3.43    0.98    0.96    0.52     NaN\n",
       "정숙(IS)    3.52    3.42    4.05    4.06    0.39     NaN    0.93    0.99\n",
       "영숙(IS)    3.43    3.57     NaN    3.95    0.56    0.52    0.89    0.89\n",
       "순자(EN)    1.12     NaN    0.59    0.43    4.01    4.16    3.52    3.38\n",
       "현숙(EN)    0.94    1.05    0.32    0.45    4.02    3.78     NaN    3.54\n",
       "서연(ES)    0.51    0.56    0.88    0.89    3.50    3.64    4.04    4.10\n",
       "보람(ES)    0.48    0.51    1.03     NaN    3.52    4.00    3.82     NaN\n",
       "하니(I)     4.85    4.82     NaN    4.98    4.53    4.39    4.45    4.52"
      ]
     },
     "execution_count": 75,
     "metadata": {},
     "output_type": "execute_result"
    }
   ],
   "source": [
    "df_view = pd.read_csv('https://raw.githubusercontent.com/guebin/DL2025/main/posts/iamsolo.csv',index_col=0)\n",
    "df_view"
   ]
  },
  {
   "cell_type": "code",
   "execution_count": 76,
   "id": "aad283e7-74cf-4d48-a0c3-1caa92266ae8",
   "metadata": {
    "tags": []
   },
   "outputs": [],
   "source": [
    "#df_view\n",
    "df_train = df_view.stack().reset_index().set_axis(['여성출연자','남성출연자','궁합점수'],axis=1)\n",
    "여성인덱스 = {'옥순(IN)':0, '영자(IN)':1, '정숙(IS)':2, '영숙(IS)':3, '순자(EN)':4, '현숙(EN)':5, '서연(ES)':6, '보람(ES)':7, '하니(I)':8}\n",
    "남성인덱스 = {'영식(IN)':0, '영철(IN)':1, '영호(IS)':2, '광수(IS)':3, '상철(EN)':4, '영수(EN)':5, '규빈(ES)':6, '다호(ES)':7}\n",
    "x1 = torch.tensor(df_train.여성출연자.map(여성인덱스))\n",
    "x2 = torch.tensor(df_train.남성출연자.map(남성인덱스))\n",
    "y = torch.tensor(df_train.궁합점수).reshape(-1,1).float()"
   ]
  },
  {
   "cell_type": "markdown",
   "id": "3f8c6a75-1bf4-44ba-8a2b-4c1ed6f304d2",
   "metadata": {},
   "source": [
    "NN-based 추천시스템을 설계하라. "
   ]
  },
  {
   "cell_type": "markdown",
   "id": "6848cdb3-a752-4bb9-a075-ca0680f863a3",
   "metadata": {},
   "source": [
    "(풀이1) -- 실패"
   ]
  },
  {
   "cell_type": "markdown",
   "id": "c32de27d-1af4-4614-a675-27da24e20459",
   "metadata": {},
   "source": [
    "🗣️("
   ]
  },
  {
   "cell_type": "code",
   "execution_count": 82,
   "id": "6efc2828-236c-449d-b4da-ebe023f95193",
   "metadata": {},
   "outputs": [],
   "source": [
    "class NNbased1(torch.nn.Module):\n",
    "    def __init__(self):\n",
    "        super().__init__()\n",
    "        self.ebdd1 = torch.nn.Embedding(9,2)\n",
    "        self.ebdd2 = torch.nn.Embedding(8,2)\n",
    "        self.b1 = torch.nn.Embedding(9,1)\n",
    "        self.b2 = torch.nn.Embedding(8,1)\n",
    "        self.sig = torch.nn.Sigmoid()\n",
    "        self.mlp = torch.nn.Sequential(\n",
    "            torch.nn.Linear(6,1),\n",
    "            torch.nn.Sigmoid()\n",
    "        )\n",
    "    def forward(self,x1,x2):\n",
    "        W_features = self.ebdd1(x1) \n",
    "        M_features = self.ebdd2(x2) \n",
    "        W_bias = self.b1(x1)\n",
    "        M_bias = self.b2(x2)\n",
    "        # yhat = self.sig((W_features * M_features).sum(axis=1).reshape(-1,1) + W_bias + M_bais)*5\n",
    "        Z = torch.concat([W_features, M_features, W_bias, M_bias], axis=1)\n",
    "        # Z ---> yhat (n,6) -> (n,1)\n",
    "        yhat = self.mlp(Z) * 5\n",
    "        return yhat"
   ]
  },
  {
   "cell_type": "code",
   "execution_count": 84,
   "id": "22884bb7-c02e-4aec-ad39-a5c955e533ef",
   "metadata": {},
   "outputs": [],
   "source": [
    "net = NNbased1()\n",
    "loss_fn = torch.nn.MSELoss() \n",
    "optimizr = torch.optim.Adam(net.parameters())\n",
    "#----#\n",
    "for epoc in range(5000):\n",
    "    #step1\n",
    "    yhat = net(x1,x2)\n",
    "    #step2\n",
    "    loss = loss_fn(yhat,y)\n",
    "    #step3\n",
    "    loss.backward()\n",
    "    #step4\n",
    "    optimizr.step()\n",
    "    optimizr.zero_grad()"
   ]
  },
  {
   "cell_type": "code",
   "execution_count": 86,
   "id": "5cd79609-40cf-40e2-8358-d468fb87c19e",
   "metadata": {},
   "outputs": [
    {
     "data": {
      "text/plain": [
       "(tensor([[2.1566],\n",
       "         [1.6486],\n",
       "         [2.0613],\n",
       "         [1.9107],\n",
       "         [2.3132]], grad_fn=<SliceBackward0>),\n",
       " tensor([[4.0200],\n",
       "         [3.4500],\n",
       "         [3.4200],\n",
       "         [0.8400],\n",
       "         [1.1200]]))"
      ]
     },
     "execution_count": 86,
     "metadata": {},
     "output_type": "execute_result"
    }
   ],
   "source": [
    "yhat[:5], y[:5] # 전혀 맞지 않음"
   ]
  },
  {
   "cell_type": "markdown",
   "id": "c986164a-951b-419b-9104-aad5813fe21e",
   "metadata": {},
   "source": [
    "- 모델이 너무 단순해서?"
   ]
  },
  {
   "cell_type": "markdown",
   "id": "a27a0424-a802-41db-aaf4-aff70ba98870",
   "metadata": {},
   "source": [
    ")🗣️"
   ]
  },
  {
   "cell_type": "code",
   "execution_count": 368,
   "id": "96398d04-aacb-41a1-8cfe-a34ce1f5697b",
   "metadata": {
    "tags": []
   },
   "outputs": [],
   "source": [
    "class NNbased1(torch.nn.Module):\n",
    "    def __init__(self):\n",
    "        super().__init__()\n",
    "        #--#\n",
    "        self.ebdd1 = torch.nn.Embedding(9,2)\n",
    "        self.ebdd2 = torch.nn.Embedding(8,2)\n",
    "        self.b1 = torch.nn.Embedding(9,1)\n",
    "        self.b2 = torch.nn.Embedding(8,1)\n",
    "        self.sig = torch.nn.Sigmoid()\n",
    "        self.mlp = torch.nn.Sequential(\n",
    "            torch.nn.Linear(6,1),\n",
    "            torch.nn.Sigmoid()\n",
    "        )\n",
    "    def forward(self,x1,x2):\n",
    "        W_feature = self.ebdd1(x1)\n",
    "        W_bias = self.b1(x1)\n",
    "        M_feature = self.ebdd2(x2)\n",
    "        M_bias = self.b2(x2)\n",
    "        #yhat = sig((W_feature * M_feature).sum(axis=1).reshape(-1,1) + W_bias + M_bias ) * 5 \n",
    "        Z = torch.concat([W_feature, M_feature, W_bias, M_bias],axis=1)\n",
    "        yhat = self.mlp(Z) * 5 \n",
    "        return yhat"
   ]
  },
  {
   "cell_type": "code",
   "execution_count": 369,
   "id": "95297222-0e0b-4414-93f4-b4e2dca7fd0b",
   "metadata": {
    "tags": []
   },
   "outputs": [],
   "source": [
    "net = NNbased1()\n",
    "loss_fn = torch.nn.MSELoss()\n",
    "optimizr = torch.optim.Adam(net.parameters(),lr=0.1) # 이게 편해요!!\n",
    "#--# \n",
    "for epoc in range(5000):\n",
    "    # 1\n",
    "    yhat = net(x1,x2) \n",
    "    # 2\n",
    "    loss = loss_fn(yhat,y)\n",
    "    # 3 \n",
    "    loss.backward()\n",
    "    # 4 \n",
    "    optimizr.step()\n",
    "    optimizr.zero_grad()"
   ]
  },
  {
   "cell_type": "code",
   "execution_count": 370,
   "id": "d083f56a-1e46-4c7d-a1d6-a2f805b6e716",
   "metadata": {},
   "outputs": [
    {
     "data": {
      "text/plain": [
       "(tensor([[2.1563],\n",
       "         [1.6488],\n",
       "         [2.0608],\n",
       "         [1.9119],\n",
       "         [2.3126]], grad_fn=<SliceBackward0>),\n",
       " tensor([[4.0200],\n",
       "         [3.4500],\n",
       "         [3.4200],\n",
       "         [0.8400],\n",
       "         [1.1200]]))"
      ]
     },
     "execution_count": 370,
     "metadata": {},
     "output_type": "execute_result"
    }
   ],
   "source": [
    "yhat[:5], y[:5]"
   ]
  },
  {
   "cell_type": "markdown",
   "id": "38faad5b-db9f-4c4c-a71e-047672d1adb5",
   "metadata": {},
   "source": [
    "(풀이2) -- 에라 모르겠다 깊은신경망.. "
   ]
  },
  {
   "cell_type": "markdown",
   "id": "61aa200f-e070-477a-9e14-035f5900f931",
   "metadata": {},
   "source": [
    "🗣️("
   ]
  },
  {
   "cell_type": "code",
   "execution_count": 87,
   "id": "805c81f8-6181-41da-b7c5-3047b41c10d9",
   "metadata": {},
   "outputs": [],
   "source": [
    "class NNbased2(torch.nn.Module):\n",
    "    def __init__(self):\n",
    "        super().__init__()\n",
    "        self.ebdd1 = torch.nn.Embedding(9,2)\n",
    "        self.ebdd2 = torch.nn.Embedding(8,2)\n",
    "        self.b1 = torch.nn.Embedding(9,1)\n",
    "        self.b2 = torch.nn.Embedding(8,1)\n",
    "        self.sig = torch.nn.Sigmoid()\n",
    "        self.mlp = torch.nn.Sequential(\n",
    "            torch.nn.Linear(6,15),\n",
    "            torch.nn.ReLU(),\n",
    "            torch.nn.Linear(15,15),\n",
    "            torch.nn.ReLU(),\n",
    "            torch.nn.Linear(15,1),\n",
    "            torch.nn.Sigmoid()\n",
    "        )\n",
    "    def forward(self,x1,x2):\n",
    "        W_features = self.ebdd1(x1) \n",
    "        M_features = self.ebdd2(x2) \n",
    "        W_bias = self.b1(x1)\n",
    "        M_bias = self.b2(x2)\n",
    "        # yhat = self.sig((W_features * M_features).sum(axis=1).reshape(-1,1) + W_bias + M_bais)*5\n",
    "        Z = torch.concat([W_features, M_features, W_bias, M_bias], axis=1)\n",
    "        # Z ---> yhat (n,6) -> (n,1)\n",
    "        yhat = self.mlp(Z) * 5\n",
    "        return yhat"
   ]
  },
  {
   "cell_type": "code",
   "execution_count": 88,
   "id": "774f2451-3a56-48aa-989a-2265d8d6edfe",
   "metadata": {},
   "outputs": [],
   "source": [
    "net = NNbased2()\n",
    "loss_fn = torch.nn.MSELoss() \n",
    "optimizr = torch.optim.Adam(net.parameters())\n",
    "#----#\n",
    "for epoc in range(5000):\n",
    "    #step1\n",
    "    yhat = net(x1,x2)\n",
    "    #step2\n",
    "    loss = loss_fn(yhat,y)\n",
    "    #step3\n",
    "    loss.backward()\n",
    "    #step4\n",
    "    optimizr.step()\n",
    "    optimizr.zero_grad()"
   ]
  },
  {
   "cell_type": "code",
   "execution_count": 89,
   "id": "0a347421-339f-41e2-aec1-bddae0ab9db6",
   "metadata": {},
   "outputs": [
    {
     "data": {
      "text/plain": [
       "(tensor([[4.0179],\n",
       "         [3.4466],\n",
       "         [3.4170],\n",
       "         [0.8365],\n",
       "         [1.1180]], grad_fn=<SliceBackward0>),\n",
       " tensor([[4.0200],\n",
       "         [3.4500],\n",
       "         [3.4200],\n",
       "         [0.8400],\n",
       "         [1.1200]]))"
      ]
     },
     "execution_count": 89,
     "metadata": {},
     "output_type": "execute_result"
    }
   ],
   "source": [
    "yhat[:5], y[:5] # 너무 잘 맞는 느낌 (overfitting 의심)"
   ]
  },
  {
   "cell_type": "markdown",
   "id": "f0c66d83-6dfa-49a9-ab9d-a9c286219cc8",
   "metadata": {},
   "source": [
    "*(옥순-영식), (영자-다호), (하니-영호) 를 예측해보자.*"
   ]
  },
  {
   "cell_type": "code",
   "execution_count": 90,
   "id": "cbb8b7f3-24ab-466c-947c-ed960ef27b01",
   "metadata": {},
   "outputs": [
    {
     "data": {
      "text/html": [
       "<div>\n",
       "<style scoped>\n",
       "    .dataframe tbody tr th:only-of-type {\n",
       "        vertical-align: middle;\n",
       "    }\n",
       "\n",
       "    .dataframe tbody tr th {\n",
       "        vertical-align: top;\n",
       "    }\n",
       "\n",
       "    .dataframe thead th {\n",
       "        text-align: right;\n",
       "    }\n",
       "</style>\n",
       "<table border=\"1\" class=\"dataframe\">\n",
       "  <thead>\n",
       "    <tr style=\"text-align: right;\">\n",
       "      <th></th>\n",
       "      <th>영식(IN)</th>\n",
       "      <th>영철(IN)</th>\n",
       "      <th>영호(IS)</th>\n",
       "      <th>광수(IS)</th>\n",
       "      <th>상철(EN)</th>\n",
       "      <th>영수(EN)</th>\n",
       "      <th>규빈(ES)</th>\n",
       "      <th>다호(ES)</th>\n",
       "    </tr>\n",
       "  </thead>\n",
       "  <tbody>\n",
       "    <tr>\n",
       "      <th>옥순(IN)</th>\n",
       "      <td>NaN</td>\n",
       "      <td>4.02</td>\n",
       "      <td>3.45</td>\n",
       "      <td>3.42</td>\n",
       "      <td>0.84</td>\n",
       "      <td>1.12</td>\n",
       "      <td>0.43</td>\n",
       "      <td>0.49</td>\n",
       "    </tr>\n",
       "    <tr>\n",
       "      <th>영자(IN)</th>\n",
       "      <td>3.93</td>\n",
       "      <td>3.99</td>\n",
       "      <td>3.63</td>\n",
       "      <td>3.43</td>\n",
       "      <td>0.98</td>\n",
       "      <td>0.96</td>\n",
       "      <td>0.52</td>\n",
       "      <td>NaN</td>\n",
       "    </tr>\n",
       "    <tr>\n",
       "      <th>정숙(IS)</th>\n",
       "      <td>3.52</td>\n",
       "      <td>3.42</td>\n",
       "      <td>4.05</td>\n",
       "      <td>4.06</td>\n",
       "      <td>0.39</td>\n",
       "      <td>NaN</td>\n",
       "      <td>0.93</td>\n",
       "      <td>0.99</td>\n",
       "    </tr>\n",
       "    <tr>\n",
       "      <th>영숙(IS)</th>\n",
       "      <td>3.43</td>\n",
       "      <td>3.57</td>\n",
       "      <td>NaN</td>\n",
       "      <td>3.95</td>\n",
       "      <td>0.56</td>\n",
       "      <td>0.52</td>\n",
       "      <td>0.89</td>\n",
       "      <td>0.89</td>\n",
       "    </tr>\n",
       "    <tr>\n",
       "      <th>순자(EN)</th>\n",
       "      <td>1.12</td>\n",
       "      <td>NaN</td>\n",
       "      <td>0.59</td>\n",
       "      <td>0.43</td>\n",
       "      <td>4.01</td>\n",
       "      <td>4.16</td>\n",
       "      <td>3.52</td>\n",
       "      <td>3.38</td>\n",
       "    </tr>\n",
       "    <tr>\n",
       "      <th>현숙(EN)</th>\n",
       "      <td>0.94</td>\n",
       "      <td>1.05</td>\n",
       "      <td>0.32</td>\n",
       "      <td>0.45</td>\n",
       "      <td>4.02</td>\n",
       "      <td>3.78</td>\n",
       "      <td>NaN</td>\n",
       "      <td>3.54</td>\n",
       "    </tr>\n",
       "    <tr>\n",
       "      <th>서연(ES)</th>\n",
       "      <td>0.51</td>\n",
       "      <td>0.56</td>\n",
       "      <td>0.88</td>\n",
       "      <td>0.89</td>\n",
       "      <td>3.50</td>\n",
       "      <td>3.64</td>\n",
       "      <td>4.04</td>\n",
       "      <td>4.10</td>\n",
       "    </tr>\n",
       "    <tr>\n",
       "      <th>보람(ES)</th>\n",
       "      <td>0.48</td>\n",
       "      <td>0.51</td>\n",
       "      <td>1.03</td>\n",
       "      <td>NaN</td>\n",
       "      <td>3.52</td>\n",
       "      <td>4.00</td>\n",
       "      <td>3.82</td>\n",
       "      <td>NaN</td>\n",
       "    </tr>\n",
       "    <tr>\n",
       "      <th>하니(I)</th>\n",
       "      <td>4.85</td>\n",
       "      <td>4.82</td>\n",
       "      <td>NaN</td>\n",
       "      <td>4.98</td>\n",
       "      <td>4.53</td>\n",
       "      <td>4.39</td>\n",
       "      <td>4.45</td>\n",
       "      <td>4.52</td>\n",
       "    </tr>\n",
       "  </tbody>\n",
       "</table>\n",
       "</div>"
      ],
      "text/plain": [
       "        영식(IN)  영철(IN)  영호(IS)  광수(IS)  상철(EN)  영수(EN)  규빈(ES)  다호(ES)\n",
       "옥순(IN)     NaN    4.02    3.45    3.42    0.84    1.12    0.43    0.49\n",
       "영자(IN)    3.93    3.99    3.63    3.43    0.98    0.96    0.52     NaN\n",
       "정숙(IS)    3.52    3.42    4.05    4.06    0.39     NaN    0.93    0.99\n",
       "영숙(IS)    3.43    3.57     NaN    3.95    0.56    0.52    0.89    0.89\n",
       "순자(EN)    1.12     NaN    0.59    0.43    4.01    4.16    3.52    3.38\n",
       "현숙(EN)    0.94    1.05    0.32    0.45    4.02    3.78     NaN    3.54\n",
       "서연(ES)    0.51    0.56    0.88    0.89    3.50    3.64    4.04    4.10\n",
       "보람(ES)    0.48    0.51    1.03     NaN    3.52    4.00    3.82     NaN\n",
       "하니(I)     4.85    4.82     NaN    4.98    4.53    4.39    4.45    4.52"
      ]
     },
     "execution_count": 90,
     "metadata": {},
     "output_type": "execute_result"
    }
   ],
   "source": [
    "df_view"
   ]
  },
  {
   "cell_type": "markdown",
   "id": "14fee78b-6a40-421b-aa2f-94ea3391436c",
   "metadata": {},
   "source": [
    "```\n",
    "{'옥순(IN)': 0, '영자(IN)': 1, '정숙(IS)': 2, '영숙(IS)': 3, '순자(EN)': 4,\n",
    " '현숙(EN)': 5, '서연(ES)': 6, '보람(ES)': 7, '하니(I)': 8}\n",
    "\n",
    "{'영식(IN)': 0, '영철(IN)': 1, '영호(IS)': 2, '광수(IS)': 3, '상철(EN)': 4,\n",
    " '영수(EN)': 5, '규빈(ES)': 6, '다호(ES)': 7}\n",
    "```"
   ]
  },
  {
   "cell_type": "code",
   "execution_count": 94,
   "id": "0c90523f-e264-4555-b8bf-5b47043f48ec",
   "metadata": {},
   "outputs": [],
   "source": [
    "xx1 = torch.tensor([0,1,8])\n",
    "xx2 = torch.tensor([0,7,2])"
   ]
  },
  {
   "cell_type": "code",
   "execution_count": 95,
   "id": "f4541281-4d77-4768-b6b8-fb4af01702dd",
   "metadata": {},
   "outputs": [
    {
     "data": {
      "text/plain": [
       "tensor([[3.3455],\n",
       "        [1.3572],\n",
       "        [4.9131]], grad_fn=<MulBackward0>)"
      ]
     },
     "execution_count": 95,
     "metadata": {},
     "output_type": "execute_result"
    }
   ],
   "source": [
    "net(xx1,xx2)"
   ]
  },
  {
   "cell_type": "markdown",
   "id": "0e516b38-63d1-4d29-977d-1754ac1b9838",
   "metadata": {},
   "source": [
    "- 4, 0.5, 5근처 정도가 맞는 것 같음 (overfitting)\n",
    "- epoch을 2,000으로 줄이면"
   ]
  },
  {
   "cell_type": "code",
   "execution_count": 96,
   "id": "efa05d7a-f6da-4359-aa00-03c32967f768",
   "metadata": {},
   "outputs": [],
   "source": [
    "net = NNbased2()\n",
    "loss_fn = torch.nn.MSELoss() \n",
    "optimizr = torch.optim.Adam(net.parameters())\n",
    "#----#\n",
    "for epoc in range(2000):\n",
    "    #step1\n",
    "    yhat = net(x1,x2)\n",
    "    #step2\n",
    "    loss = loss_fn(yhat,y)\n",
    "    #step3\n",
    "    loss.backward()\n",
    "    #step4\n",
    "    optimizr.step()\n",
    "    optimizr.zero_grad()"
   ]
  },
  {
   "cell_type": "code",
   "execution_count": 98,
   "id": "59b4b537-ad2a-4099-9cbd-02c43f27fc6f",
   "metadata": {},
   "outputs": [
    {
     "data": {
      "text/plain": [
       "(tensor([[4.0040],\n",
       "         [3.4680],\n",
       "         [3.4130],\n",
       "         [0.8093],\n",
       "         [1.1156]], grad_fn=<SliceBackward0>),\n",
       " tensor([[4.0200],\n",
       "         [3.4500],\n",
       "         [3.4200],\n",
       "         [0.8400],\n",
       "         [1.1200]]))"
      ]
     },
     "execution_count": 98,
     "metadata": {},
     "output_type": "execute_result"
    }
   ],
   "source": [
    "yhat[:5], y[:5]"
   ]
  },
  {
   "cell_type": "code",
   "execution_count": 99,
   "id": "687777c3-af98-4567-ab55-83e0ad95d0f6",
   "metadata": {},
   "outputs": [
    {
     "data": {
      "text/plain": [
       "tensor([[3.8184],\n",
       "        [0.5261],\n",
       "        [4.9015]], grad_fn=<MulBackward0>)"
      ]
     },
     "execution_count": 99,
     "metadata": {},
     "output_type": "execute_result"
    }
   ],
   "source": [
    "net(xx1,xx2) # 비슷함"
   ]
  },
  {
   "cell_type": "markdown",
   "id": "d9ac9fcc-bf23-4e06-98e8-42c8a789e0dc",
   "metadata": {},
   "source": [
    "- ✍️ 강의 영상(overfitting)과 다르게 잘 되긴 하였음\n",
    "- 강의 영상처럼 모형 단순화"
   ]
  },
  {
   "cell_type": "code",
   "execution_count": 100,
   "id": "2a448712-8085-4898-ac14-c0e7f3b8a844",
   "metadata": {},
   "outputs": [],
   "source": [
    "class NNbased2(torch.nn.Module):\n",
    "    def __init__(self):\n",
    "        super().__init__()\n",
    "        self.ebdd1 = torch.nn.Embedding(9,2)\n",
    "        self.ebdd2 = torch.nn.Embedding(8,2)\n",
    "        self.b1 = torch.nn.Embedding(9,1)\n",
    "        self.b2 = torch.nn.Embedding(8,1)\n",
    "        self.sig = torch.nn.Sigmoid()\n",
    "        self.mlp = torch.nn.Sequential(\n",
    "            torch.nn.Linear(6,15),\n",
    "            torch.nn.ReLU(),\n",
    "            torch.nn.Linear(15,1),\n",
    "            torch.nn.Sigmoid()\n",
    "        )\n",
    "    def forward(self,x1,x2):\n",
    "        W_features = self.ebdd1(x1) \n",
    "        M_features = self.ebdd2(x2) \n",
    "        W_bias = self.b1(x1)\n",
    "        M_bias = self.b2(x2)\n",
    "        # yhat = self.sig((W_features * M_features).sum(axis=1).reshape(-1,1) + W_bias + M_bais)*5\n",
    "        Z = torch.concat([W_features, M_features, W_bias, M_bias], axis=1)\n",
    "        # Z ---> yhat (n,6) -> (n,1)\n",
    "        yhat = self.mlp(Z) * 5\n",
    "        return yhat"
   ]
  },
  {
   "cell_type": "code",
   "execution_count": 101,
   "id": "1c48c30e-9cb5-40a2-b0f1-277adfcacf68",
   "metadata": {},
   "outputs": [],
   "source": [
    "net = NNbased2()\n",
    "loss_fn = torch.nn.MSELoss() \n",
    "optimizr = torch.optim.Adam(net.parameters())\n",
    "#----#\n",
    "for epoc in range(2000):\n",
    "    #step1\n",
    "    yhat = net(x1,x2)\n",
    "    #step2\n",
    "    loss = loss_fn(yhat,y)\n",
    "    #step3\n",
    "    loss.backward()\n",
    "    #step4\n",
    "    optimizr.step()\n",
    "    optimizr.zero_grad()"
   ]
  },
  {
   "cell_type": "code",
   "execution_count": 102,
   "id": "c9caaea6-8047-4bb6-a770-a8261660ea8a",
   "metadata": {},
   "outputs": [
    {
     "data": {
      "text/plain": [
       "(tensor([[3.6244],\n",
       "         [3.5508],\n",
       "         [3.5255],\n",
       "         [0.7445],\n",
       "         [1.0485]], grad_fn=<SliceBackward0>),\n",
       " tensor([[4.0200],\n",
       "         [3.4500],\n",
       "         [3.4200],\n",
       "         [0.8400],\n",
       "         [1.1200]]))"
      ]
     },
     "execution_count": 102,
     "metadata": {},
     "output_type": "execute_result"
    }
   ],
   "source": [
    "yhat[:5], y[:5]"
   ]
  },
  {
   "cell_type": "code",
   "execution_count": 103,
   "id": "b19bb97c-a3e5-4bbf-a2d9-41b8576b57ad",
   "metadata": {},
   "outputs": [
    {
     "data": {
      "text/plain": [
       "tensor([[3.5422],\n",
       "        [0.9444],\n",
       "        [4.9080]], grad_fn=<MulBackward0>)"
      ]
     },
     "execution_count": 103,
     "metadata": {},
     "output_type": "execute_result"
    }
   ],
   "source": [
    "net(xx1,xx2)"
   ]
  },
  {
   "cell_type": "markdown",
   "id": "4a212288-a486-46a1-a772-3ac791e123fb",
   "metadata": {},
   "source": [
    "- ✍️ 이번에는 강의 영상과 다르게 잘 안됨"
   ]
  },
  {
   "cell_type": "markdown",
   "id": "5ecc8541-19ef-449f-a908-959a5f2958ea",
   "metadata": {},
   "source": [
    "- 밑의 강의 노트 코드: 랜덤으로 해도 안정적으로 결과가 잘 나옴\n",
    "- epoch을 줄이기만 하여도 overfitting 방지 효과가 있음 (early stopping)"
   ]
  },
  {
   "cell_type": "markdown",
   "id": "bcb5d8b4-6daf-4c4b-802d-314e39630bea",
   "metadata": {},
   "source": [
    ")🗣️"
   ]
  },
  {
   "cell_type": "code",
   "execution_count": 371,
   "id": "94d19cbd-df19-49e2-bfce-9df1fd67ce74",
   "metadata": {
    "tags": []
   },
   "outputs": [],
   "source": [
    "class NNbased2(torch.nn.Module):\n",
    "    def __init__(self):\n",
    "        super().__init__()\n",
    "        #--#\n",
    "        self.ebdd1 = torch.nn.Embedding(9,2)\n",
    "        self.ebdd2 = torch.nn.Embedding(8,2)\n",
    "        self.b1 = torch.nn.Embedding(9,1)\n",
    "        self.b2 = torch.nn.Embedding(8,1)\n",
    "        self.sig = torch.nn.Sigmoid()\n",
    "        self.mlp = torch.nn.Sequential(\n",
    "            torch.nn.Linear(6,15),\n",
    "            torch.nn.ReLU(),\n",
    "            torch.nn.Linear(15,1),\n",
    "            torch.nn.Sigmoid()\n",
    "        )\n",
    "    def forward(self,x1,x2):\n",
    "        W_feature = self.ebdd1(x1)\n",
    "        W_bias = self.b1(x1)\n",
    "        M_feature = self.ebdd2(x2)\n",
    "        M_bias = self.b2(x2)\n",
    "        #yhat = sig((W_feature * M_feature).sum(axis=1).reshape(-1,1) + W_bias + M_bias ) * 5 \n",
    "        Z = torch.concat([W_feature, M_feature, W_bias, M_bias],axis=1)\n",
    "        yhat = self.mlp(Z) * 5 \n",
    "        return yhat"
   ]
  },
  {
   "cell_type": "code",
   "execution_count": 402,
   "id": "f4f8f527-064d-4bee-8584-13f3a12b8a6d",
   "metadata": {
    "tags": []
   },
   "outputs": [],
   "source": [
    "net = NNbased2()\n",
    "loss_fn = torch.nn.MSELoss()\n",
    "optimizr = torch.optim.Adam(net.parameters(),lr=0.1)\n",
    "#--# \n",
    "for epoc in range(3000):\n",
    "    # 1\n",
    "    yhat = net(x1,x2) \n",
    "    # 2\n",
    "    loss = loss_fn(yhat,y)\n",
    "    # 3 \n",
    "    loss.backward()\n",
    "    # 4 \n",
    "    optimizr.step()\n",
    "    optimizr.zero_grad()"
   ]
  },
  {
   "cell_type": "code",
   "execution_count": 403,
   "id": "28892064-a85f-4b2d-b355-6b85bca58c49",
   "metadata": {},
   "outputs": [
    {
     "data": {
      "text/plain": [
       "(tensor([[4.0395],\n",
       "         [3.4880],\n",
       "         [3.4527],\n",
       "         [0.8548],\n",
       "         [1.1290],\n",
       "         [0.4416],\n",
       "         [0.5041],\n",
       "         [3.9470],\n",
       "         [4.0075],\n",
       "         [3.6544]], grad_fn=<SliceBackward0>),\n",
       " tensor([[4.0200],\n",
       "         [3.4500],\n",
       "         [3.4200],\n",
       "         [0.8400],\n",
       "         [1.1200],\n",
       "         [0.4300],\n",
       "         [0.4900],\n",
       "         [3.9300],\n",
       "         [3.9900],\n",
       "         [3.6300]]))"
      ]
     },
     "execution_count": 403,
     "metadata": {},
     "output_type": "execute_result"
    }
   ],
   "source": [
    "yhat[:10], y[:10]"
   ]
  },
  {
   "cell_type": "markdown",
   "id": "0e13b61d-35aa-4ddf-989a-53fd80ff2812",
   "metadata": {},
   "source": [
    "*(옥순-영식), (영자-다호), (하니-영호) 를 예측해보자.*"
   ]
  },
  {
   "cell_type": "code",
   "execution_count": 404,
   "id": "f68f60a2-7185-4f09-aa0b-7f3c228e8c87",
   "metadata": {},
   "outputs": [
    {
     "data": {
      "text/html": [
       "<div>\n",
       "<style scoped>\n",
       "    .dataframe tbody tr th:only-of-type {\n",
       "        vertical-align: middle;\n",
       "    }\n",
       "\n",
       "    .dataframe tbody tr th {\n",
       "        vertical-align: top;\n",
       "    }\n",
       "\n",
       "    .dataframe thead th {\n",
       "        text-align: right;\n",
       "    }\n",
       "</style>\n",
       "<table border=\"1\" class=\"dataframe\">\n",
       "  <thead>\n",
       "    <tr style=\"text-align: right;\">\n",
       "      <th></th>\n",
       "      <th>영식(IN)</th>\n",
       "      <th>영철(IN)</th>\n",
       "      <th>영호(IS)</th>\n",
       "      <th>광수(IS)</th>\n",
       "      <th>상철(EN)</th>\n",
       "      <th>영수(EN)</th>\n",
       "      <th>규빈(ES)</th>\n",
       "      <th>다호(ES)</th>\n",
       "    </tr>\n",
       "  </thead>\n",
       "  <tbody>\n",
       "    <tr>\n",
       "      <th>옥순(IN)</th>\n",
       "      <td>NaN</td>\n",
       "      <td>4.02</td>\n",
       "      <td>3.45</td>\n",
       "      <td>3.42</td>\n",
       "      <td>0.84</td>\n",
       "      <td>1.12</td>\n",
       "      <td>0.43</td>\n",
       "      <td>0.49</td>\n",
       "    </tr>\n",
       "    <tr>\n",
       "      <th>영자(IN)</th>\n",
       "      <td>3.93</td>\n",
       "      <td>3.99</td>\n",
       "      <td>3.63</td>\n",
       "      <td>3.43</td>\n",
       "      <td>0.98</td>\n",
       "      <td>0.96</td>\n",
       "      <td>0.52</td>\n",
       "      <td>NaN</td>\n",
       "    </tr>\n",
       "    <tr>\n",
       "      <th>정숙(IS)</th>\n",
       "      <td>3.52</td>\n",
       "      <td>3.42</td>\n",
       "      <td>4.05</td>\n",
       "      <td>4.06</td>\n",
       "      <td>0.39</td>\n",
       "      <td>NaN</td>\n",
       "      <td>0.93</td>\n",
       "      <td>0.99</td>\n",
       "    </tr>\n",
       "    <tr>\n",
       "      <th>영숙(IS)</th>\n",
       "      <td>3.43</td>\n",
       "      <td>3.57</td>\n",
       "      <td>NaN</td>\n",
       "      <td>3.95</td>\n",
       "      <td>0.56</td>\n",
       "      <td>0.52</td>\n",
       "      <td>0.89</td>\n",
       "      <td>0.89</td>\n",
       "    </tr>\n",
       "    <tr>\n",
       "      <th>순자(EN)</th>\n",
       "      <td>1.12</td>\n",
       "      <td>NaN</td>\n",
       "      <td>0.59</td>\n",
       "      <td>0.43</td>\n",
       "      <td>4.01</td>\n",
       "      <td>4.16</td>\n",
       "      <td>3.52</td>\n",
       "      <td>3.38</td>\n",
       "    </tr>\n",
       "    <tr>\n",
       "      <th>현숙(EN)</th>\n",
       "      <td>0.94</td>\n",
       "      <td>1.05</td>\n",
       "      <td>0.32</td>\n",
       "      <td>0.45</td>\n",
       "      <td>4.02</td>\n",
       "      <td>3.78</td>\n",
       "      <td>NaN</td>\n",
       "      <td>3.54</td>\n",
       "    </tr>\n",
       "    <tr>\n",
       "      <th>서연(ES)</th>\n",
       "      <td>0.51</td>\n",
       "      <td>0.56</td>\n",
       "      <td>0.88</td>\n",
       "      <td>0.89</td>\n",
       "      <td>3.50</td>\n",
       "      <td>3.64</td>\n",
       "      <td>4.04</td>\n",
       "      <td>4.10</td>\n",
       "    </tr>\n",
       "    <tr>\n",
       "      <th>보람(ES)</th>\n",
       "      <td>0.48</td>\n",
       "      <td>0.51</td>\n",
       "      <td>1.03</td>\n",
       "      <td>NaN</td>\n",
       "      <td>3.52</td>\n",
       "      <td>4.00</td>\n",
       "      <td>3.82</td>\n",
       "      <td>NaN</td>\n",
       "    </tr>\n",
       "    <tr>\n",
       "      <th>하니(I)</th>\n",
       "      <td>4.85</td>\n",
       "      <td>4.82</td>\n",
       "      <td>NaN</td>\n",
       "      <td>4.98</td>\n",
       "      <td>4.53</td>\n",
       "      <td>4.39</td>\n",
       "      <td>4.45</td>\n",
       "      <td>4.52</td>\n",
       "    </tr>\n",
       "  </tbody>\n",
       "</table>\n",
       "</div>"
      ],
      "text/plain": [
       "        영식(IN)  영철(IN)  영호(IS)  광수(IS)  상철(EN)  영수(EN)  규빈(ES)  다호(ES)\n",
       "옥순(IN)     NaN    4.02    3.45    3.42    0.84    1.12    0.43    0.49\n",
       "영자(IN)    3.93    3.99    3.63    3.43    0.98    0.96    0.52     NaN\n",
       "정숙(IS)    3.52    3.42    4.05    4.06    0.39     NaN    0.93    0.99\n",
       "영숙(IS)    3.43    3.57     NaN    3.95    0.56    0.52    0.89    0.89\n",
       "순자(EN)    1.12     NaN    0.59    0.43    4.01    4.16    3.52    3.38\n",
       "현숙(EN)    0.94    1.05    0.32    0.45    4.02    3.78     NaN    3.54\n",
       "서연(ES)    0.51    0.56    0.88    0.89    3.50    3.64    4.04    4.10\n",
       "보람(ES)    0.48    0.51    1.03     NaN    3.52    4.00    3.82     NaN\n",
       "하니(I)     4.85    4.82     NaN    4.98    4.53    4.39    4.45    4.52"
      ]
     },
     "execution_count": 404,
     "metadata": {},
     "output_type": "execute_result"
    }
   ],
   "source": [
    "df_view"
   ]
  },
  {
   "cell_type": "code",
   "execution_count": 405,
   "id": "a65ebe4f-1bd9-476d-a354-97550723edc9",
   "metadata": {},
   "outputs": [],
   "source": [
    "xx1 = torch.tensor([0,1,8])\n",
    "xx2 = torch.tensor([0,7,2])"
   ]
  },
  {
   "cell_type": "code",
   "execution_count": 406,
   "id": "1d27595f-398d-4bd2-8420-9cca647f1764",
   "metadata": {},
   "outputs": [
    {
     "data": {
      "text/plain": [
       "tensor([[3.9317],\n",
       "        [0.6682],\n",
       "        [4.9322]], grad_fn=<MulBackward0>)"
      ]
     },
     "execution_count": 406,
     "metadata": {},
     "output_type": "execute_result"
    }
   ],
   "source": [
    "net(xx1,xx2)"
   ]
  },
  {
   "cell_type": "markdown",
   "id": "a5337637-d3b9-4995-8a54-ddbd989f4efe",
   "metadata": {},
   "source": [
    "## B. NCF [@he2017neural]"
   ]
  },
  {
   "cell_type": "markdown",
   "id": "3301fc39-d666-4bda-9e02-eef571fc4d98",
   "metadata": {},
   "source": [
    "`-` MF-based와 NN-base를 합친것"
   ]
  },
  {
   "cell_type": "markdown",
   "id": "f481bb22-b6d2-4c0e-8d56-43342768cfa4",
   "metadata": {},
   "source": [
    "🗣️("
   ]
  },
  {
   "cell_type": "markdown",
   "id": "2542341d-c881-4b0c-8f16-fe39bf580ba8",
   "metadata": {},
   "source": [
    "```\n",
    "MF-based    특징1*특징2\n",
    "NN-based    [특징1, 특징2] --> nn\n",
    "\n",
    "# 그림 설명\n",
    "User: 남성 출연자, Item: 여성 출연자로 생각\n",
    "\n",
    "MF User Vector: 남성 출연자의 특징, MF Item Vector: 여성 출연자의 특징\n",
    "(위의 두 특징 벡터 만드는 방식은 embedding layer: one hot encoding + linear)\n",
    "MF User Vector MF Item Vector --Element-wise Product--> GMF Layer\n",
    "GMF Layer에서 Score로 바로 가면 MF-based\n",
    "\n",
    "MLP User Vector: 남성 출연자의 특징, MLP Item Vector: 여성 출연자의 특징\n",
    "MLP User Vector MLP Item Vector ---concat--->\n",
    "    ---ReLU ... Linear Transform ... ReLu---> MLP Layer X\n",
    "MLP Layer X에서 바로 Score로 가면 NN-based\n",
    "\n",
    "요즘 많이 쓰이는 혼합 방식:\n",
    "GMF Layer와 MLP Layer X로 적당히 조합하여 하나의 Layer를 만들고\n",
    "Linear, Sigmoid 등을 이용하여 마무리\n",
    "```"
   ]
  },
  {
   "cell_type": "markdown",
   "id": "784b7ab1-9a86-4bfd-9675-58a9e9ab191b",
   "metadata": {},
   "source": [
    ")🗣️"
   ]
  },
  {
   "cell_type": "markdown",
   "id": "68955d93-6841-420d-a729-a47fc39ecb10",
   "metadata": {
    "tags": []
   },
   "source": [
    "![](https://github.com/guebin/DL2024/blob/main/posts/NCF.png?raw=true)"
   ]
  },
  {
   "cell_type": "markdown",
   "id": "679d33c0-06cc-451f-8580-e52ebb1a7cc3",
   "metadata": {},
   "source": [
    "# Appendix -- 선택학습 📝"
   ]
  },
  {
   "cell_type": "markdown",
   "id": "fb055a08-44db-4abc-9727-487a8ef317f8",
   "metadata": {},
   "source": [
    "🗣️("
   ]
  },
  {
   "cell_type": "markdown",
   "id": "b5f63d49-68d3-4b2e-a6b6-441975f193fc",
   "metadata": {},
   "source": [
    "- 11wk-2 강의 영상 참고 (9:10)\n",
    "    - x가 숫자로 되어 있을 때 one hot encoding을 하지 않고\n",
    "    - 바로 linear transform 을 해도 비슷하다고 생각이 든다면 읽어보기 "
   ]
  },
  {
   "cell_type": "markdown",
   "id": "9b286dd4-ca0e-43c5-9a02-25bedf23ddd1",
   "metadata": {},
   "source": [
    ")🗣️"
   ]
  },
  {
   "cell_type": "markdown",
   "id": "76fe67cd-4692-4846-b3ce-98e740f64d2b",
   "metadata": {},
   "source": [
    "`# 의문`: 그냥 원핫인코딩없이 바로 선형변환하면 안되나? (= 꼭 임베딩레이어를 써야하나?)"
   ]
  },
  {
   "cell_type": "code",
   "execution_count": 23,
   "id": "eec0e176-d5a4-40b2-bf78-3e2cc657d118",
   "metadata": {
    "tags": []
   },
   "outputs": [
    {
     "data": {
      "text/plain": [
       "(tensor([0, 1, 2, 0, 1]),\n",
       " tensor([[0.],\n",
       "         [1.],\n",
       "         [2.],\n",
       "         [0.],\n",
       "         [1.]]))"
      ]
     },
     "execution_count": 23,
     "metadata": {},
     "output_type": "execute_result"
    }
   ],
   "source": [
    "x = torch.tensor([0,1,2,0,1])\n",
    "X = x.reshape(-1,1).float()\n",
    "x,X"
   ]
  },
  {
   "cell_type": "code",
   "execution_count": 25,
   "id": "b1602e87-c137-41b2-b996-81af992e6d6e",
   "metadata": {
    "tags": []
   },
   "outputs": [
    {
     "data": {
      "text/plain": [
       "tensor([[-0.8470],\n",
       "        [-1.1937],\n",
       "        [-1.5404],\n",
       "        [-0.8470],\n",
       "        [-1.1937]], grad_fn=<AddmmBackward0>)"
      ]
     },
     "execution_count": 25,
     "metadata": {},
     "output_type": "execute_result"
    }
   ],
   "source": [
    "torch.manual_seed(43052)\n",
    "l1 = torch.nn.Linear(1,1)\n",
    "l1(X)"
   ]
  },
  {
   "cell_type": "code",
   "execution_count": 26,
   "id": "9da021eb-8440-4fd5-af7a-0c5af0aed330",
   "metadata": {
    "tags": []
   },
   "outputs": [
    {
     "data": {
      "text/plain": [
       "tensor([[-0.8178],\n",
       "        [-0.7052],\n",
       "        [-0.5843],\n",
       "        [-0.8178],\n",
       "        [-0.7052]], grad_fn=<EmbeddingBackward0>)"
      ]
     },
     "execution_count": 26,
     "metadata": {},
     "output_type": "execute_result"
    }
   ],
   "source": [
    "torch.manual_seed(43052)\n",
    "ebdd = torch.nn.Embedding(3,1) \n",
    "ebdd(x)"
   ]
  },
  {
   "cell_type": "markdown",
   "id": "3fd96f4a-0379-4cf9-bd76-40df7fed460f",
   "metadata": {},
   "source": [
    "결과적으로 0,1,2 를 다른숫자들로 맵핑한건 비슷해보이는데? "
   ]
  },
  {
   "cell_type": "markdown",
   "id": "15bfede8-3dd9-4355-9d6f-dc519629fa1c",
   "metadata": {},
   "source": [
    "`-` 수식의 차이: 비슷해보이지만 계산방식이 조금 다름 "
   ]
  },
  {
   "cell_type": "code",
   "execution_count": 27,
   "id": "da2fa122-cb91-479f-8438-8cd1431bf33e",
   "metadata": {
    "tags": []
   },
   "outputs": [
    {
     "data": {
      "text/plain": [
       "(Parameter containing:\n",
       " tensor([[-0.3467]], requires_grad=True),\n",
       " Parameter containing:\n",
       " tensor([-0.8470], requires_grad=True))"
      ]
     },
     "execution_count": 27,
     "metadata": {},
     "output_type": "execute_result"
    }
   ],
   "source": [
    "l1.weight, l1.bias"
   ]
  },
  {
   "cell_type": "markdown",
   "id": "093bef47-893c-4769-8273-c467c9178236",
   "metadata": {},
   "source": [
    "- $l_1({\\bf X}) = \\begin{bmatrix} 0 \\\\ 1 \\\\ 2 \\\\ 0 \\\\ 1 \\end{bmatrix} \\times (-0.3467) + (-0.8470)=\\begin{bmatrix} -0.8470 \\\\ -1.1937 \\\\ -1.5404 \\\\ -0.8470 \\\\ -1.1937 \\end{bmatrix}$"
   ]
  },
  {
   "cell_type": "markdown",
   "id": "9833acc0-3df1-458c-a7c5-bb485cb13a68",
   "metadata": {},
   "source": [
    "- $\\text{ebdd}({\\boldsymbol x})= \\text{linr}\\big(\\text{onehot}({\\boldsymbol x})\\big) = \\begin{bmatrix} 1 & 0 & 0 \\\\ 0 & 1 & 0 \\\\ 0 & 0 & 1 \\\\ 1 & 0 & 0 \\\\ 0 & 1 & 0 \\end{bmatrix}\\begin{bmatrix} -0.8178 \\\\ -0.7052 \\\\ -0.5843 \\end{bmatrix} = \\begin{bmatrix} -0.8178 \\\\ -0.7052 \\\\ -0.5843 \\\\ -0.8178 \\\\ -0.7052 \\end{bmatrix}$"
   ]
  },
  {
   "cell_type": "markdown",
   "id": "afede389-d3ed-4b42-91a1-82b13f37400d",
   "metadata": {},
   "source": [
    "`-` 데이터를 읽으며 해석: 사실상 0,1,2에 대한 의미는 \"옥순\",\"영숙\",\"하니\" 같은 자료였고, 임베딩의 결과는 \"옥순\",\"영숙\",\"하니\"가 가지는 어떠한 특징이었음 (예를들면 매력같은). 데이터를 상상하며 위의 결과를 다시 해석해보자. \n",
    "\n",
    "**옥순이 가지는 어떠한 특징 (-0.8470 혹은 -0.8178) 을 바꾸고 싶다면?**\n",
    "\n",
    "- `ebdd`의 경우: `ebdd.weigth`에 있는 -0.8178 이라는 숫자를 조정하면 된다. 이 조정은 옥순의 특징만 바꾸며 영숙과 하니의 특징은 바꾸지 않는다. (개별조정이 쉬움)\n",
    "- `linr`의 경우: `linr.weight`에 있는 -0.3467 혹은 `linr.bias`에 있는 -0.8470 을 조정하면 되는데, 이를 조정하면 옥순의 특징을 바꿈과 동시에 영숙/하니의 특징까지 같이 바뀌게 된다. (개별조정이 어려움) \n",
    "\n",
    "**만약에 출연자가 1000명이라면??**\n",
    "\n",
    "- `linr`의 경우: 1000명의 특징을 단 2개의 파라메터로 조정해야한다. (그리고 한명의 특징을 바꾸면 999명의 특징이 같이 바뀐다, 개별조정은 애초에 가능하지 않음.) \n",
    "- `ebdd`의 경우: 1000개의 특징을 조정할 수 있는 1000개의 파라메터를 확보할 수 있게 된다. "
   ]
  },
  {
   "cell_type": "markdown",
   "id": "fe8f7a8c-0fdb-42d2-8551-648ed5809685",
   "metadata": {},
   "source": [
    "`-` 결론: ebdd가 더 파라메터 미세조정을 통하여 특징을 학습하기 용이하다. (독립적으로 특징값을 줄 수 있으니까!)"
   ]
  },
  {
   "cell_type": "markdown",
   "id": "7798d8b7-ca2b-4bcf-adf4-1c170a82f688",
   "metadata": {
    "tags": []
   },
   "source": [
    "> 만약에 문자열이 \"최우수(A)\", \"우수(B)\", \"보통(C)\", \"미흡(D)\", \"매우미흡(F)\" 이었다면 특징을 뽑아낼때 linr 가 더 적절했겠죠? "
   ]
  }
 ],
 "metadata": {
  "kernelspec": {
   "display_name": "Python 3 (ipykernel)",
   "language": "python",
   "name": "python3"
  },
  "language_info": {
   "codemirror_mode": {
    "name": "ipython",
    "version": 3
   },
   "file_extension": ".py",
   "mimetype": "text/x-python",
   "name": "python",
   "nbconvert_exporter": "python",
   "pygments_lexer": "ipython3",
   "version": "3.9.18"
  }
 },
 "nbformat": 4,
 "nbformat_minor": 5
}
