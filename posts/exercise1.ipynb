{
 "cells": [
  {
   "cell_type": "raw",
   "id": "d40fe711-c4af-49a0-80fa-6fa57369c659",
   "metadata": {
    "id": "87b5cded-346b-4915-acf5-b5ec93a5207d",
    "vscode": {
     "languageId": "raw"
    }
   },
   "source": [
    "---\n",
    "title: \"A1: Exercise -- ver. 0503-1\"\n",
    "author: \"sw1kwon\"\n",
    "date: \"01/01/2025\"\n",
    "---"
   ]
  },
  {
   "cell_type": "markdown",
   "id": "0610ebd7-da9a-4487-920d-a4dfba3177b6",
   "metadata": {},
   "source": [
    "> 문제풀이에 필요한 모듈은 스스로 `import` 할 것"
   ]
  },
  {
   "cell_type": "code",
   "execution_count": 1,
   "id": "fb2c1189-0582-46e1-9723-dbef67022516",
   "metadata": {},
   "outputs": [],
   "source": [
    "import torch"
   ]
  },
  {
   "cell_type": "markdown",
   "id": "5d80f8a2-cf8b-4a69-bb22-fcde771b79bb",
   "metadata": {},
   "source": [
    "# `#` --기본문법 "
   ]
  },
  {
   "cell_type": "markdown",
   "id": "bb5444f9-760c-4346-aca3-f7997c86d9f5",
   "metadata": {},
   "source": [
    "## `$`. 벡터와 행렬 "
   ]
  },
  {
   "cell_type": "markdown",
   "id": "538e79d2-8e32-4adb-93f8-2004648ae40e",
   "metadata": {},
   "source": [
    "`(1)` 아래와 같이 length 5 인 vector를 `torch.tensor`로 선언하는 코드를 작성하라. \n",
    "\n",
    "$${\\bf x} = [1,2,3,4,5]$$ "
   ]
  },
  {
   "cell_type": "markdown",
   "id": "238f4fe2-0f90-49ea-b7ac-e29071cfca7e",
   "metadata": {},
   "source": [
    "`(풀이)`"
   ]
  },
  {
   "cell_type": "code",
   "execution_count": 2,
   "id": "8ba6c91a-505e-4ba4-a97b-42a6893aa1ef",
   "metadata": {},
   "outputs": [
    {
     "data": {
      "text/plain": [
       "tensor([1, 2, 3, 4, 5])"
      ]
     },
     "execution_count": 2,
     "metadata": {},
     "output_type": "execute_result"
    }
   ],
   "source": [
    "x = torch.tensor([1,2,3,4,5])\n",
    "x"
   ]
  },
  {
   "cell_type": "markdown",
   "id": "acaefeff-c5aa-4c35-b293-8fb3d555a9d4",
   "metadata": {},
   "source": [
    "`(2)` 아래와 같은 2x2 matrix 를 `torch.tensor`로 선언하는 코드를 작성하라. "
   ]
  },
  {
   "cell_type": "markdown",
   "id": "03c78cf3-c9d2-4819-98e3-9247b5d8a18e",
   "metadata": {},
   "source": [
    "$${\\bf A} = \\begin{bmatrix} 1 & 2 \\\\ 3 & 4 \\end{bmatrix}$$ "
   ]
  },
  {
   "cell_type": "markdown",
   "id": "0a37f93a-faee-4cdc-af79-4f3be66c86ec",
   "metadata": {},
   "source": [
    "`(풀이?)`"
   ]
  },
  {
   "cell_type": "code",
   "execution_count": 3,
   "id": "609b08f8-093c-46c8-b5aa-e7d9504e04d5",
   "metadata": {},
   "outputs": [
    {
     "data": {
      "text/plain": [
       "tensor([[1, 2],\n",
       "        [3, 4]])"
      ]
     },
     "execution_count": 3,
     "metadata": {},
     "output_type": "execute_result"
    }
   ],
   "source": [
    "A = torch.tensor([[1,2],[3,4]])\n",
    "A"
   ]
  },
  {
   "cell_type": "markdown",
   "id": "ae304ebb-8670-4485-b747-838ffca7f735",
   "metadata": {},
   "source": [
    "`(3)` 아래와 같은 matrix 를 `torch.tensor`로 선언하는 코드를 작성하라. "
   ]
  },
  {
   "cell_type": "markdown",
   "id": "0707dbc1-ff47-4bf3-bdb8-07f6bb4cd4cb",
   "metadata": {},
   "source": [
    "$${\\bf W} = \\begin{bmatrix} 2.5  \\\\  4 \\end{bmatrix}$$ "
   ]
  },
  {
   "cell_type": "markdown",
   "id": "7091ac05-3957-410f-b621-453479ba34c3",
   "metadata": {},
   "source": [
    "`(풀이?)`"
   ]
  },
  {
   "cell_type": "code",
   "execution_count": 4,
   "id": "9e16efc9-ef80-4dac-84c8-eeae4a28f7c3",
   "metadata": {},
   "outputs": [
    {
     "data": {
      "text/plain": [
       "tensor([[2.5000],\n",
       "        [4.0000]])"
      ]
     },
     "execution_count": 4,
     "metadata": {},
     "output_type": "execute_result"
    }
   ],
   "source": [
    "W = torch.tensor([[2.5],[4]])\n",
    "W"
   ]
  },
  {
   "cell_type": "markdown",
   "id": "0197f6a5-a414-46ec-9e40-496e2a95b787",
   "metadata": {},
   "source": [
    "`(4)` 아래와 같은 matrix 를 `torch.tensor`로 선언하는 코드를 작성하라. "
   ]
  },
  {
   "cell_type": "markdown",
   "id": "65b3cbdc-e7b8-457d-b0e7-f8a393afc466",
   "metadata": {},
   "source": [
    "$${\\bf x} = \\begin{bmatrix} 2.5  & 4 \\end{bmatrix}$$ "
   ]
  },
  {
   "cell_type": "markdown",
   "id": "45e6f88d-fb92-41aa-bb7f-e8df57120e0e",
   "metadata": {},
   "source": [
    "`(풀이?)`"
   ]
  },
  {
   "cell_type": "code",
   "execution_count": 5,
   "id": "8de78554-4992-40cc-ae63-fb7e9f872073",
   "metadata": {},
   "outputs": [
    {
     "data": {
      "text/plain": [
       "tensor([[2.5000, 4.0000]])"
      ]
     },
     "execution_count": 5,
     "metadata": {},
     "output_type": "execute_result"
    }
   ],
   "source": [
    "x = torch.tensor([[2.5, 4]])\n",
    "x"
   ]
  },
  {
   "cell_type": "markdown",
   "id": "cc772edc-200b-4da9-a431-fd87959794c0",
   "metadata": {
    "id": "e42ef0d0-d6b6-4c01-9780-fd24e04af0cf"
   },
   "source": [
    "## `$`. concat, stack\n",
    "\n",
    "a,b가 아래와 같이 주어졌다고 하자.\n"
   ]
  },
  {
   "cell_type": "code",
   "execution_count": 6,
   "id": "a8da07e4-f27b-4905-b8a7-01356ea9a86d",
   "metadata": {},
   "outputs": [],
   "source": [
    "a = torch.tensor([1]*10)\n",
    "b = torch.tensor([2]*10)"
   ]
  },
  {
   "cell_type": "markdown",
   "id": "abc95daa-05e3-4fcc-9501-4f40cedb7524",
   "metadata": {},
   "source": [
    "`(관찰?)`"
   ]
  },
  {
   "cell_type": "code",
   "execution_count": 7,
   "id": "670c130e-d13e-4f0c-80e4-55b91a4cab0e",
   "metadata": {},
   "outputs": [
    {
     "data": {
      "text/plain": [
       "tensor([1, 1, 1, 1, 1, 1, 1, 1, 1, 1])"
      ]
     },
     "execution_count": 7,
     "metadata": {},
     "output_type": "execute_result"
    }
   ],
   "source": [
    "a"
   ]
  },
  {
   "cell_type": "code",
   "execution_count": 8,
   "id": "56fe737b-9a1e-4f21-be6f-32f6cb9b9a9d",
   "metadata": {},
   "outputs": [
    {
     "data": {
      "text/plain": [
       "torch.Size([10])"
      ]
     },
     "execution_count": 8,
     "metadata": {},
     "output_type": "execute_result"
    }
   ],
   "source": [
    "a.shape"
   ]
  },
  {
   "cell_type": "code",
   "execution_count": 9,
   "id": "296265d5-1d0a-4255-b088-80d1c126ea50",
   "metadata": {},
   "outputs": [
    {
     "data": {
      "text/plain": [
       "tensor([2, 2, 2, 2, 2, 2, 2, 2, 2, 2])"
      ]
     },
     "execution_count": 9,
     "metadata": {},
     "output_type": "execute_result"
    }
   ],
   "source": [
    "b"
   ]
  },
  {
   "cell_type": "markdown",
   "id": "4f5f8d0b-38a0-4626-aa24-88aed1c4c949",
   "metadata": {},
   "source": [
    "`(실험?)`"
   ]
  },
  {
   "cell_type": "code",
   "execution_count": 10,
   "id": "d2703607-864b-44dd-914c-0ee7e5e09fda",
   "metadata": {},
   "outputs": [
    {
     "data": {
      "text/plain": [
       "tensor([[1, 1, 1, 1, 1, 1, 1, 1, 1, 1]])"
      ]
     },
     "execution_count": 10,
     "metadata": {},
     "output_type": "execute_result"
    }
   ],
   "source": [
    "torch.tensor([[1]*10])"
   ]
  },
  {
   "cell_type": "code",
   "execution_count": 11,
   "id": "20e7aceb-83b4-413d-b2cb-a3a7fd540ad5",
   "metadata": {},
   "outputs": [
    {
     "data": {
      "text/plain": [
       "torch.Size([1, 10])"
      ]
     },
     "execution_count": 11,
     "metadata": {},
     "output_type": "execute_result"
    }
   ],
   "source": [
    "torch.tensor([[1]*10]).shape"
   ]
  },
  {
   "cell_type": "markdown",
   "id": "27607fde-98c4-4ffe-8d44-e4a3ff102aad",
   "metadata": {},
   "source": [
    "아래를 잘 읽고 물음에 답하라. "
   ]
  },
  {
   "cell_type": "markdown",
   "id": "0886874d-bb7c-4f15-adab-ef23aa7e3780",
   "metadata": {
    "id": "1ac08b97-80ec-426b-bb6f-0d133ce613c6"
   },
   "source": [
    "`(1)` 주어진 a,b와 `torch.concat`를 이용하여 아래와 같은 배열을 만들어라.\n",
    "\n",
    "```\n",
    "tensor([1, 1, 1, 1, 1, 1, 1, 1, 1, 1, 2, 2, 2, 2, 2, 2, 2, 2, 2, 2])\n",
    "```"
   ]
  },
  {
   "cell_type": "markdown",
   "id": "f5dcf926-93bf-4b31-b3b2-fe181d88d11e",
   "metadata": {},
   "source": [
    "`(풀이?)`"
   ]
  },
  {
   "cell_type": "code",
   "execution_count": 12,
   "id": "855047cf-30e1-424c-89be-5564f2551e75",
   "metadata": {},
   "outputs": [
    {
     "data": {
      "text/plain": [
       "tensor([1, 1, 1, 1, 1, 1, 1, 1, 1, 1, 2, 2, 2, 2, 2, 2, 2, 2, 2, 2])"
      ]
     },
     "execution_count": 12,
     "metadata": {},
     "output_type": "execute_result"
    }
   ],
   "source": [
    "torch.concat([a,b])"
   ]
  },
  {
   "cell_type": "markdown",
   "id": "954ae868-09bd-4a7f-9307-6dc76acc44b5",
   "metadata": {
    "id": "b17c2c49-d316-4e33-bc9a-43b67aa39eca"
   },
   "source": [
    "`(2)` 주어진 a,b 와 `torch.concat`,`.reshape`를 이용하여 아래와 같은 배열을 만들어라.\n",
    "```\n",
    "tensor([[1],\n",
    "        [1],\n",
    "        [1],\n",
    "        [1],\n",
    "        [1],\n",
    "        [1],\n",
    "        [1],\n",
    "        [1],\n",
    "        [1],\n",
    "        [1],\n",
    "        [2],\n",
    "        [2],\n",
    "        [2],\n",
    "        [2],\n",
    "        [2],\n",
    "        [2],\n",
    "        [2],\n",
    "        [2],\n",
    "        [2],\n",
    "        [2]])\n",
    "```"
   ]
  },
  {
   "cell_type": "markdown",
   "id": "8e9c0334-8468-49b8-910a-50f24c255656",
   "metadata": {},
   "source": [
    "`(풀이)`"
   ]
  },
  {
   "cell_type": "code",
   "execution_count": 13,
   "id": "0504134c-c396-4258-80ab-84eead0b5fa3",
   "metadata": {},
   "outputs": [
    {
     "data": {
      "text/plain": [
       "tensor([[1],\n",
       "        [1],\n",
       "        [1],\n",
       "        [1],\n",
       "        [1],\n",
       "        [1],\n",
       "        [1],\n",
       "        [1],\n",
       "        [1],\n",
       "        [1],\n",
       "        [2],\n",
       "        [2],\n",
       "        [2],\n",
       "        [2],\n",
       "        [2],\n",
       "        [2],\n",
       "        [2],\n",
       "        [2],\n",
       "        [2],\n",
       "        [2]])"
      ]
     },
     "execution_count": 13,
     "metadata": {},
     "output_type": "execute_result"
    }
   ],
   "source": [
    "torch.concat([a.reshape(-1,1), b.reshape(-1,1)])"
   ]
  },
  {
   "cell_type": "markdown",
   "id": "da1fb37b-f43b-48c9-b551-63291e0da056",
   "metadata": {},
   "source": [
    "`(관찰?)`"
   ]
  },
  {
   "cell_type": "code",
   "execution_count": 14,
   "id": "784fbaef-cea7-4cf3-9e44-f23f64ff784f",
   "metadata": {},
   "outputs": [
    {
     "data": {
      "text/plain": [
       "tensor([[1],\n",
       "        [1],\n",
       "        [1],\n",
       "        [1],\n",
       "        [1],\n",
       "        [1],\n",
       "        [1],\n",
       "        [1],\n",
       "        [1],\n",
       "        [1]])"
      ]
     },
     "execution_count": 14,
     "metadata": {},
     "output_type": "execute_result"
    }
   ],
   "source": [
    "a.reshape(-1,1)"
   ]
  },
  {
   "cell_type": "code",
   "execution_count": 15,
   "id": "86e90851-08a0-47ce-b85d-78104a906556",
   "metadata": {},
   "outputs": [
    {
     "data": {
      "text/plain": [
       "tensor([1, 1, 1, 1, 1, 1, 1, 1, 1, 1])"
      ]
     },
     "execution_count": 15,
     "metadata": {},
     "output_type": "execute_result"
    }
   ],
   "source": [
    "a"
   ]
  },
  {
   "cell_type": "markdown",
   "id": "21d06e81-d8a6-404c-ae55-6c4f557f40ad",
   "metadata": {
    "id": "b17c2c49-d316-4e33-bc9a-43b67aa39eca"
   },
   "source": [
    "`(3)` 주어진 a,b 와 `torch.concat`,`.reshape`를 이용하여 아래와 같은 배열을 만들어라.\n",
    "```\n",
    "tensor([[1, 2],\n",
    "        [1, 2],\n",
    "        [1, 2],\n",
    "        [1, 2],\n",
    "        [1, 2],\n",
    "        [1, 2],\n",
    "        [1, 2],\n",
    "        [1, 2],\n",
    "        [1, 2],\n",
    "        [1, 2]])\n",
    "```"
   ]
  },
  {
   "cell_type": "markdown",
   "id": "ec4bd517-071e-4c66-9016-86750c425075",
   "metadata": {},
   "source": [
    "`(풀이?)`"
   ]
  },
  {
   "cell_type": "code",
   "execution_count": 16,
   "id": "9a5385c8-0ee0-40f0-970e-516838697177",
   "metadata": {},
   "outputs": [
    {
     "data": {
      "text/plain": [
       "tensor([1, 1, 1, 1, 1, 1, 1, 1, 1, 1, 2, 2, 2, 2, 2, 2, 2, 2, 2, 2])"
      ]
     },
     "execution_count": 16,
     "metadata": {},
     "output_type": "execute_result"
    }
   ],
   "source": [
    "torch.concat([a,b])"
   ]
  },
  {
   "cell_type": "code",
   "execution_count": 17,
   "id": "81d39e48-8205-4b92-92c4-be134bbe7919",
   "metadata": {},
   "outputs": [
    {
     "data": {
      "text/plain": [
       "tensor([[1, 1],\n",
       "        [1, 1],\n",
       "        [1, 1],\n",
       "        [1, 1],\n",
       "        [1, 1],\n",
       "        [2, 2],\n",
       "        [2, 2],\n",
       "        [2, 2],\n",
       "        [2, 2],\n",
       "        [2, 2]])"
      ]
     },
     "execution_count": 17,
     "metadata": {},
     "output_type": "execute_result"
    }
   ],
   "source": [
    "torch.concat([a,b]).reshape(-1,2)"
   ]
  },
  {
   "cell_type": "code",
   "execution_count": 18,
   "id": "726cf49d-35ec-4d6f-b58f-b40e6fb727d5",
   "metadata": {},
   "outputs": [
    {
     "data": {
      "text/plain": [
       "tensor([[1, 2],\n",
       "        [1, 2],\n",
       "        [1, 2],\n",
       "        [1, 2],\n",
       "        [1, 2],\n",
       "        [1, 2],\n",
       "        [1, 2],\n",
       "        [1, 2],\n",
       "        [1, 2],\n",
       "        [1, 2]])"
      ]
     },
     "execution_count": 18,
     "metadata": {},
     "output_type": "execute_result"
    }
   ],
   "source": [
    "torch.concat([a.reshape(-1,1),b.reshape(-1,1)], axis=1)"
   ]
  },
  {
   "cell_type": "markdown",
   "id": "54f219b2-e04f-4e83-8d1a-ae828dd7d97a",
   "metadata": {
    "id": "809dce9d-8966-4770-a939-1544ce0da6b5"
   },
   "source": [
    "`(4)` 주어진 a,b와 `torch.stack` 을 이용하여 아래와 같은 배열을 만들어라.\n",
    "\n",
    "```\n",
    "tensor([[1, 1, 1, 1, 1, 1, 1, 1, 1, 1],\n",
    "        [2, 2, 2, 2, 2, 2, 2, 2, 2, 2]]\n",
    "```"
   ]
  },
  {
   "cell_type": "markdown",
   "id": "5369fe1b-68f1-42b0-a05a-66ff1a01b1e1",
   "metadata": {},
   "source": [
    "`(풀이?)`"
   ]
  },
  {
   "cell_type": "code",
   "execution_count": 19,
   "id": "c6c6ec46-85c8-4457-954c-13ceb9c8ba8a",
   "metadata": {},
   "outputs": [
    {
     "data": {
      "text/plain": [
       "tensor([[1, 1, 1, 1, 1, 1, 1, 1, 1, 1],\n",
       "        [2, 2, 2, 2, 2, 2, 2, 2, 2, 2]])"
      ]
     },
     "execution_count": 19,
     "metadata": {},
     "output_type": "execute_result"
    }
   ],
   "source": [
    "torch.stack([a,b])"
   ]
  },
  {
   "cell_type": "markdown",
   "id": "a4ec2478-3631-44a9-94f6-bac6fe23dae5",
   "metadata": {},
   "source": [
    "`(관찰?)`"
   ]
  },
  {
   "cell_type": "code",
   "execution_count": 20,
   "id": "5c9ded1b-3fa7-4758-855d-17ed26d33c58",
   "metadata": {},
   "outputs": [
    {
     "data": {
      "text/plain": [
       "tensor([[1, 2],\n",
       "        [1, 2],\n",
       "        [1, 2],\n",
       "        [1, 2],\n",
       "        [1, 2],\n",
       "        [1, 2],\n",
       "        [1, 2],\n",
       "        [1, 2],\n",
       "        [1, 2],\n",
       "        [1, 2]])"
      ]
     },
     "execution_count": 20,
     "metadata": {},
     "output_type": "execute_result"
    }
   ],
   "source": [
    "torch.stack([a,b], axis=1)"
   ]
  },
  {
   "cell_type": "markdown",
   "id": "c69d10a1-0148-42dd-8b9a-e597e35696e6",
   "metadata": {
    "id": "539d5053-c1e9-4c11-93c0-96c1ddb962c1"
   },
   "source": [
    "`(5)` 주어진 a,b와 `torch.stack`을 이용하여 아래와 같은 배열을 만들어라.\n",
    "```\n",
    "tensor([[1, 2],\n",
    "        [1, 2],\n",
    "        [1, 2],\n",
    "        [1, 2],\n",
    "        [1, 2],\n",
    "        [1, 2],\n",
    "        [1, 2],\n",
    "        [1, 2],\n",
    "        [1, 2],\n",
    "        [1, 2]])\n",
    "```"
   ]
  },
  {
   "cell_type": "markdown",
   "id": "68ffc39f-9dce-4e6a-b51b-8de3b785e838",
   "metadata": {},
   "source": [
    "`(풀이?)`"
   ]
  },
  {
   "cell_type": "code",
   "execution_count": 21,
   "id": "7cf3572c-ef82-4db2-9c38-b8994d9ca036",
   "metadata": {},
   "outputs": [
    {
     "data": {
      "text/plain": [
       "tensor([[1, 2],\n",
       "        [1, 2],\n",
       "        [1, 2],\n",
       "        [1, 2],\n",
       "        [1, 2],\n",
       "        [1, 2],\n",
       "        [1, 2],\n",
       "        [1, 2],\n",
       "        [1, 2],\n",
       "        [1, 2]])"
      ]
     },
     "execution_count": 21,
     "metadata": {},
     "output_type": "execute_result"
    }
   ],
   "source": [
    "torch.stack([a,b], axis=1)"
   ]
  },
  {
   "cell_type": "markdown",
   "id": "4553a8ff-e297-48e0-97b0-03dde7059bc7",
   "metadata": {},
   "source": [
    "## `$`. 행렬곱 "
   ]
  },
  {
   "cell_type": "markdown",
   "id": "084e8afc-38ea-4148-9999-d593b8e08795",
   "metadata": {
    "id": "6a64a8df-c944-47e6-a499-421c8b61b704"
   },
   "source": [
    "`(1)` 아래와 같은 텐서를 고려하자. "
   ]
  },
  {
   "cell_type": "code",
   "execution_count": 22,
   "id": "c24782f8-8150-4684-a25c-b362108c4fc8",
   "metadata": {},
   "outputs": [],
   "source": [
    "a = torch.tensor([1,2,3,4,5]).reshape(-1,1)\n",
    "b = torch.tensor([3,2,1,1,2]).reshape(-1,1)"
   ]
  },
  {
   "cell_type": "markdown",
   "id": "154856c9-c580-49f0-aa04-3d8ba0fe511f",
   "metadata": {
    "id": "6a64a8df-c944-47e6-a499-421c8b61b704"
   },
   "source": [
    "`@` 연산자를 이용하여 $\\sum_{i=1}^{5}a_ib_i$를 계산하라."
   ]
  },
  {
   "cell_type": "markdown",
   "id": "737ffe2d-7c6f-45dc-8bd0-ddaa44948977",
   "metadata": {},
   "source": [
    "`(풀이)`"
   ]
  },
  {
   "cell_type": "code",
   "execution_count": 23,
   "id": "6c5458ca-3f4a-4ff7-b33d-2a04d834efa3",
   "metadata": {},
   "outputs": [
    {
     "data": {
      "text/plain": [
       "tensor([[24]])"
      ]
     },
     "execution_count": 23,
     "metadata": {},
     "output_type": "execute_result"
    }
   ],
   "source": [
    "a.T @ b"
   ]
  },
  {
   "cell_type": "markdown",
   "id": "f6a8a944-c70a-482d-b527-196d3391b856",
   "metadata": {
    "id": "5fae05d0-2323-494b-aeaf-b0d30c6bd4ea"
   },
   "source": [
    "`(2)` 아래와 같은 텐서를 고려하자. "
   ]
  },
  {
   "cell_type": "code",
   "execution_count": 24,
   "id": "b1acadbf-49e3-4ae9-ab76-0d61136154af",
   "metadata": {},
   "outputs": [],
   "source": [
    "torch.manual_seed(0)\n",
    "x = torch.randn(100).reshape(-1,1)"
   ]
  },
  {
   "cell_type": "markdown",
   "id": "0dd78c76-a768-43f3-bb45-43ab0f00e8d9",
   "metadata": {
    "id": "5fae05d0-2323-494b-aeaf-b0d30c6bd4ea"
   },
   "source": [
    "`@`연산자를 이용하여 $\\sum_{i=1}^{100}x_i^2$을 계산하라."
   ]
  },
  {
   "cell_type": "markdown",
   "id": "9691bd4c-b821-4e3b-a2eb-1ac0656bc5ed",
   "metadata": {},
   "source": [
    "`(풀이?)`"
   ]
  },
  {
   "cell_type": "code",
   "execution_count": 25,
   "id": "2cbce6a9-5096-404e-87e9-1b5c0365037f",
   "metadata": {},
   "outputs": [
    {
     "data": {
      "text/plain": [
       "tensor([[105.0856]])"
      ]
     },
     "execution_count": 25,
     "metadata": {},
     "output_type": "execute_result"
    }
   ],
   "source": [
    "x.T @ x"
   ]
  },
  {
   "cell_type": "markdown",
   "id": "964aab02-24ff-4d82-a817-67ad027fedf3",
   "metadata": {
    "id": "f03fe9d3-020f-47ba-8bf9-3a924710db14"
   },
   "source": [
    "## `$`. 인덱싱 "
   ]
  },
  {
   "cell_type": "markdown",
   "id": "3cb8b193-ab66-4d30-8e77-cecca70f3b2c",
   "metadata": {
    "id": "f03fe9d3-020f-47ba-8bf9-3a924710db14"
   },
   "source": [
    "아래와 같은 배열을 선언하라."
   ]
  },
  {
   "cell_type": "code",
   "execution_count": 26,
   "id": "8f35bb57-46ba-4c94-97a6-ae5e4424598a",
   "metadata": {
    "id": "d6dcb080-1d71-4a33-a7f1-c9707c2d5771",
    "outputId": "52c92613-c738-4896-c465-74652a0b817e"
   },
   "outputs": [
    {
     "data": {
      "text/plain": [
       "tensor([[ 0.6614,  0.2669,  0.0617,  0.6213],\n",
       "        [-0.4519, -0.1661, -1.5228,  0.3817],\n",
       "        [-1.0276, -0.5631, -0.8923, -0.0583]])"
      ]
     },
     "execution_count": 26,
     "metadata": {},
     "output_type": "execute_result"
    }
   ],
   "source": [
    "torch.manual_seed(1)\n",
    "x = torch.randn(12).reshape(3,4)\n",
    "x"
   ]
  },
  {
   "cell_type": "markdown",
   "id": "6c36be27-e3c2-46ea-bd8d-63120f418240",
   "metadata": {
    "id": "44b0e554-630a-4a0c-84ac-69f2a9f18980"
   },
   "source": [
    "`(1)` 1열을 추출하는 코드를 작성하라. 즉 결과가 아래와 같이 나오도록 하라.\n",
    "\n",
    "```\n",
    "tensor([[ 0.6614],\n",
    "        [-0.4519],\n",
    "        [-1.0276]])\n",
    "```"
   ]
  },
  {
   "cell_type": "markdown",
   "id": "3f26cbde-a13c-4797-bd2a-79e74ebbf3ea",
   "metadata": {},
   "source": [
    "`(풀이?)`"
   ]
  },
  {
   "cell_type": "code",
   "execution_count": 27,
   "id": "eca2992d-ebd2-4f65-be3c-e1bff17f1316",
   "metadata": {},
   "outputs": [
    {
     "data": {
      "text/plain": [
       "tensor([ 0.6614, -0.4519, -1.0276])"
      ]
     },
     "execution_count": 27,
     "metadata": {},
     "output_type": "execute_result"
    }
   ],
   "source": [
    "x[:,0]"
   ]
  },
  {
   "cell_type": "code",
   "execution_count": 28,
   "id": "40fc8ef2-a332-438c-8d69-10c956380565",
   "metadata": {},
   "outputs": [
    {
     "data": {
      "text/plain": [
       "tensor([[ 0.6614],\n",
       "        [-0.4519],\n",
       "        [-1.0276]])"
      ]
     },
     "execution_count": 28,
     "metadata": {},
     "output_type": "execute_result"
    }
   ],
   "source": [
    "x[:,0].reshape(-1,1)"
   ]
  },
  {
   "cell_type": "code",
   "execution_count": 29,
   "id": "89c15a1c-2a91-4867-894b-84a9decd5924",
   "metadata": {},
   "outputs": [
    {
     "data": {
      "text/plain": [
       "tensor([[ 0.6614],\n",
       "        [-0.4519],\n",
       "        [-1.0276]])"
      ]
     },
     "execution_count": 29,
     "metadata": {},
     "output_type": "execute_result"
    }
   ],
   "source": [
    "x[:,0].unsqueeze(1)"
   ]
  },
  {
   "cell_type": "markdown",
   "id": "94f9f436-c263-49dc-9866-9b9481bd366c",
   "metadata": {
    "id": "44b0e554-630a-4a0c-84ac-69f2a9f18980"
   },
   "source": [
    "`(2)` 2-3열을 추출하는 코드를 작성하라. 즉 결과가 아래와 같이 나오도록 하라.\n",
    "\n",
    "```\n",
    "tensor([[ 0.2669,  0.0617],\n",
    "        [-0.1661, -1.5228],\n",
    "        [-0.5631, -0.8923]])\n",
    "```"
   ]
  },
  {
   "cell_type": "markdown",
   "id": "61893207-80bc-4470-ab52-9d6244a94212",
   "metadata": {},
   "source": [
    "`(풀이?)`"
   ]
  },
  {
   "cell_type": "code",
   "execution_count": 30,
   "id": "d8d4d1e4-d547-4550-9852-66712d62555f",
   "metadata": {},
   "outputs": [
    {
     "data": {
      "text/plain": [
       "tensor([[ 0.2669,  0.0617],\n",
       "        [-0.1661, -1.5228],\n",
       "        [-0.5631, -0.8923]])"
      ]
     },
     "execution_count": 30,
     "metadata": {},
     "output_type": "execute_result"
    }
   ],
   "source": [
    "x[:,1:3]"
   ]
  },
  {
   "cell_type": "code",
   "execution_count": 31,
   "id": "845ae163-46de-4675-9a2f-5c2ddbd63a8d",
   "metadata": {},
   "outputs": [
    {
     "data": {
      "text/plain": [
       "tensor([[ 0.2669,  0.0617],\n",
       "        [-0.1661, -1.5228],\n",
       "        [-0.5631, -0.8923]])"
      ]
     },
     "execution_count": 31,
     "metadata": {},
     "output_type": "execute_result"
    }
   ],
   "source": [
    "x[:,[1,2]]"
   ]
  },
  {
   "cell_type": "markdown",
   "id": "06794ef2-2f77-4343-9fdf-658676c682a3",
   "metadata": {
    "id": "44b0e554-630a-4a0c-84ac-69f2a9f18980"
   },
   "source": [
    "`(3)` 2-3행을 추출하는 코드를 작성하라. 즉 결과가 아래와 같이 나오도록 하라.\n",
    "\n",
    "```\n",
    "tensor([[-0.4519, -0.1661, -1.5228,  0.3817],\n",
    "        [-1.0276, -0.5631, -0.8923, -0.0583]])\n",
    "\n",
    "```"
   ]
  },
  {
   "cell_type": "markdown",
   "id": "45c04b01-8906-46ea-b56a-47e1ae51f960",
   "metadata": {},
   "source": [
    "`(풀이?)`"
   ]
  },
  {
   "cell_type": "code",
   "execution_count": 32,
   "id": "a32d7382-3516-4159-afd7-11ab5fa3fd16",
   "metadata": {},
   "outputs": [
    {
     "data": {
      "text/plain": [
       "tensor([[-0.4519, -0.1661, -1.5228,  0.3817],\n",
       "        [-1.0276, -0.5631, -0.8923, -0.0583]])"
      ]
     },
     "execution_count": 32,
     "metadata": {},
     "output_type": "execute_result"
    }
   ],
   "source": [
    "x[1:,:]"
   ]
  },
  {
   "cell_type": "code",
   "execution_count": 33,
   "id": "92309113-9c77-4262-b429-69dcd6a469f1",
   "metadata": {},
   "outputs": [
    {
     "data": {
      "text/plain": [
       "tensor([[-0.4519, -0.1661, -1.5228,  0.3817],\n",
       "        [-1.0276, -0.5631, -0.8923, -0.0583]])"
      ]
     },
     "execution_count": 33,
     "metadata": {},
     "output_type": "execute_result"
    }
   ],
   "source": [
    "x[1:3,:]"
   ]
  },
  {
   "cell_type": "code",
   "execution_count": 34,
   "id": "cb70e161-26bd-4a34-aa93-7b3c3da498d3",
   "metadata": {},
   "outputs": [
    {
     "data": {
      "text/plain": [
       "tensor([[-0.4519, -0.1661, -1.5228,  0.3817],\n",
       "        [-1.0276, -0.5631, -0.8923, -0.0583]])"
      ]
     },
     "execution_count": 34,
     "metadata": {},
     "output_type": "execute_result"
    }
   ],
   "source": [
    "x[[1,2],:]"
   ]
  },
  {
   "cell_type": "markdown",
   "id": "0fccadc3-f30e-4c99-98b4-5ec62e25a9b3",
   "metadata": {},
   "source": [
    "`(관찰?)`"
   ]
  },
  {
   "cell_type": "code",
   "execution_count": 35,
   "id": "cd46a7e8-f2bd-4b79-b0a1-5a2eba198437",
   "metadata": {},
   "outputs": [
    {
     "data": {
      "text/plain": [
       "tensor([[-0.4519, -0.1661, -1.5228,  0.3817]])"
      ]
     },
     "execution_count": 35,
     "metadata": {},
     "output_type": "execute_result"
    }
   ],
   "source": [
    "x[1:2,:]"
   ]
  },
  {
   "cell_type": "markdown",
   "id": "0229668b-a109-44d6-b97f-cbbf6770ed39",
   "metadata": {},
   "source": [
    "## `$`. `torch.einsum`"
   ]
  },
  {
   "cell_type": "code",
   "execution_count": 36,
   "id": "35a120b2-3575-4e9f-b323-832654d64cb5",
   "metadata": {},
   "outputs": [
    {
     "data": {
      "text/plain": [
       "tensor([[-0.1955, -0.9656],\n",
       "        [ 0.4224,  0.2673],\n",
       "        [-0.4212, -0.5107],\n",
       "        [-1.5727, -0.1232],\n",
       "        [ 3.5870, -1.8313]])"
      ]
     },
     "execution_count": 36,
     "metadata": {},
     "output_type": "execute_result"
    }
   ],
   "source": [
    "X = torch.randn(5,2)\n",
    "X"
   ]
  },
  {
   "cell_type": "markdown",
   "id": "425ea247-030d-4ddc-9b51-c0bc1e97e3d1",
   "metadata": {},
   "source": [
    "`(1)` 아래에 대응하는 코드를 `torch.einsum`으로 구현하라. "
   ]
  },
  {
   "cell_type": "code",
   "execution_count": 37,
   "id": "87f2034b-269e-4a69-810f-8b414eb65587",
   "metadata": {},
   "outputs": [
    {
     "data": {
      "text/plain": [
       "tensor([[-0.1955,  0.4224, -0.4212, -1.5727,  3.5870],\n",
       "        [-0.9656,  0.2673, -0.5107, -0.1232, -1.8313]])"
      ]
     },
     "execution_count": 37,
     "metadata": {},
     "output_type": "execute_result"
    }
   ],
   "source": [
    "X.t()"
   ]
  },
  {
   "cell_type": "markdown",
   "id": "e8858042-41a7-4fec-b502-fb9f0d1645ef",
   "metadata": {},
   "source": [
    "`(풀이?)`"
   ]
  },
  {
   "cell_type": "code",
   "execution_count": 38,
   "id": "e4cd25af-1c60-4ded-96ba-8edb98264184",
   "metadata": {},
   "outputs": [
    {
     "data": {
      "text/plain": [
       "tensor([[-0.1955,  0.4224, -0.4212, -1.5727,  3.5870],\n",
       "        [-0.9656,  0.2673, -0.5107, -0.1232, -1.8313]])"
      ]
     },
     "execution_count": 38,
     "metadata": {},
     "output_type": "execute_result"
    }
   ],
   "source": [
    "torch.einsum('ij->ji', X)"
   ]
  },
  {
   "cell_type": "markdown",
   "id": "fa5b88c7-2759-4c29-b626-3a1bd588b3bd",
   "metadata": {},
   "source": [
    "# ChatGPT 4o 🔬❓"
   ]
  },
  {
   "cell_type": "markdown",
   "id": "218c1c17-d82e-457e-862b-4ea3a72f9ec5",
   "metadata": {},
   "source": [
    "## Q1"
   ]
  },
  {
   "cell_type": "markdown",
   "id": "d22d19a6-b4b0-46b2-a174-f4fef0f72fbc",
   "metadata": {},
   "source": [
    "> `unsqueeze`를 쓰지 않고 열 벡터를 뽑았을 때 `.shape` 차이점은?"
   ]
  },
  {
   "cell_type": "markdown",
   "id": "cab50571-b0ac-4920-b1d1-39473dc7168d",
   "metadata": {},
   "source": [
    "### 예제 비교\n",
    "\n",
    "```python\n",
    "x[:, 0]           # unsqueeze 없이\n",
    "x[:, 0].unsqueeze(1)  # unsqueeze 사용\n",
    "```\n",
    "\n",
    "#### 1. `x[:, 0]`\n",
    "\n",
    "* **결과 텐서 shape**: `torch.Size([3])`\n",
    "* **설명**: 1열의 값을 *1차원 벡터*로 반환한다.\n",
    "  예: `[0.6614, -0.4519, -1.0276]`\n",
    "\n",
    "#### 2. `x[:, 0].unsqueeze(1)`\n",
    "\n",
    "* **결과 텐서 shape**: `torch.Size([3, 1])`\n",
    "* **설명**: 열 방향으로 *2차원 텐서*로 만든다.\n",
    "  예: `[[0.6614], [-0.4519], [-1.0276]]`"
   ]
  },
  {
   "cell_type": "markdown",
   "id": "9153624b-89ea-4edf-80c8-b7ab480c0c52",
   "metadata": {},
   "source": [
    "### 차이점 요약\n",
    "\n",
    "| 항목     | `x[:, 0]`   | `x[:, 0].unsqueeze(1)` |\n",
    "| ------ | ----------- | ---------------------- |\n",
    "| shape  | `[3]`       | `[3, 1]`               |\n",
    "| 차원 수   | 1차원 (벡터)    | 2차원 (행렬)               |\n",
    "| 브로드캐스팅 | 자동으로 확장 어려움 | 다른 행렬과 곧바로 연산 가능       |"
   ]
  },
  {
   "cell_type": "markdown",
   "id": "1f7db383-8764-4015-9d8d-bfe11eb48942",
   "metadata": {},
   "source": [
    "#### 언제 `unsqueeze(1)`를 써야 하나?\n",
    "\n",
    "* 모델에 입력할 때 (예: `[batch, features]` 형태)\n",
    "* 행렬 연산에서 차원 일치를 맞춰야 할 때\n",
    "* 시각화 시 열 벡터 형태로 유지하고 싶을 때"
   ]
  },
  {
   "cell_type": "markdown",
   "id": "ecc5838e-618e-4581-8ef9-89a7bb584d2e",
   "metadata": {},
   "source": [
    "## Q2"
   ]
  },
  {
   "cell_type": "markdown",
   "id": "a03a43a8-6012-48b0-a5be-19e146a0f288",
   "metadata": {},
   "source": [
    "> `x[:, 1:3]` vs. `x[:, [1, 2]]` 차이점"
   ]
  },
  {
   "cell_type": "markdown",
   "id": "582028ec-7fb7-4e7b-a064-4e44521da032",
   "metadata": {},
   "source": [
    "### 1. `x[:, 1:3]` — **슬라이싱**\n",
    "\n",
    "* 연속된 구간을 **slice 객체**로 추출\n",
    "* 결과는 **연속된 메모리 블록**이므로 `뷰(view)`가 됨 → 원본 변경 시 반영 가능\n",
    "* 메모리 효율적\n",
    "* 인덱스는 `start:end`로, `end`는 **포함하지 않음**\n",
    "\n",
    "```python\n",
    "x[:, 1:3]  # 열 1번과 2번\n",
    "```"
   ]
  },
  {
   "cell_type": "markdown",
   "id": "87f746f4-3ee7-49d4-9465-3df6de21feb6",
   "metadata": {},
   "source": [
    "### 2. `x[:, [1, 2]]` — **Fancy Indexing**\n",
    "\n",
    "* 리스트로 지정한 인덱스들을 **직접 선택**\n",
    "* `복사본(copy)`이 생성되므로 원본 변경과 연결되지 않음\n",
    "* 연속된 열뿐 아니라 **임의의 순서**, **중복**, **불연속 인덱스**도 가능\n",
    "\n",
    "```python\n",
    "x[:, [1, 2]]       # 열 1번과 2번 (복사본)\n",
    "x[:, [2, 1, 2]]    # 열 순서, 중복도 가능\n",
    "```"
   ]
  },
  {
   "cell_type": "markdown",
   "id": "56a86def-a3f9-43a5-bfd9-006c6ffef9ac",
   "metadata": {},
   "source": [
    "### 차이 예시\n",
    "\n",
    "| 항목            | `x[:, 1:3]` | `x[:, [1, 2]]`    |\n",
    "| ------------- | ----------- | ----------------- |\n",
    "| 연속된 열만 선택 가능  | ✅           | ✅                 |\n",
    "| 불연속 열 선택      | ❌           | ✅                 |\n",
    "| 중복 열 선택       | ❌           | ✅ (`[2, 1, 2]` 등) |\n",
    "| 반환값이 뷰(view)? | ✅           | ❌ (copy)          |\n",
    "| 메모리 효율        | 높음          | 낮음 (복사 발생)        |"
   ]
  },
  {
   "cell_type": "markdown",
   "id": "0f4db4e5-da60-48f3-b7e5-eb2331726af0",
   "metadata": {},
   "source": [
    "## Q3"
   ]
  },
  {
   "cell_type": "markdown",
   "id": "45434081-8e1c-41e2-9523-9414afb4b381",
   "metadata": {},
   "source": [
    "> `x[1:3, :]` vs. `x[-2:, :]` 관계"
   ]
  },
  {
   "cell_type": "markdown",
   "id": "29652a98-fdb8-4569-855d-bcc7a0e93e69",
   "metadata": {},
   "source": [
    "### 동일한 결과를 만듦\n",
    "\n",
    "둘 다 `2~3행(인덱스 1, 2)`을 선택하는 코드다.\n",
    "\n",
    "```python\n",
    "x[1:3, :]    # 행 인덱스 1~2\n",
    "x[-2:, :]    # 끝에서 두 번째부터 끝까지 = 인덱스 1~2\n",
    "```\n",
    "\n",
    "| 표현          | 의미               | 행 추출 결과   |\n",
    "| ----------- | ---------------- | --------- |\n",
    "| `x[1:3, :]` | 1번째부터 2번째까지 슬라이싱 | `[1, 2]행` |\n",
    "| `x[-2:, :]` | 뒤에서 2개 슬라이싱      | `[1, 2]행` |"
   ]
  },
  {
   "cell_type": "markdown",
   "id": "cf87f7ac-915b-4a08-ad1b-43316b3bc50d",
   "metadata": {},
   "source": [
    "### 차이점\n",
    "\n",
    "* `x[1:3, :]`은 **정방향 인덱스**로 위치를 기준\n",
    "* `x[-2:, :]`은 **역방향 인덱스**로 끝 기준 → 가변 길이 텐서에서 유용"
   ]
  },
  {
   "cell_type": "markdown",
   "id": "f4cefe2e-22c2-4a75-ab2b-e4fc4b8dcda0",
   "metadata": {},
   "source": [
    "## Q2 Q3 정리 포인트"
   ]
  },
  {
   "cell_type": "markdown",
   "id": "daafc68c-634f-4b74-b016-7b60e5ea782d",
   "metadata": {},
   "source": [
    "| 비교 대상                       | 차이점 요약                                |\n",
    "| --------------------------- | ------------------------------------- |\n",
    "| `[:, 1:3]` vs `[:, [1, 2]]` | 전자는 **연속 구간 슬라이싱**, 후자는 **지정된 열 복사**  |\n",
    "| `[1:3, :]` vs `[-2:, :]`    | 결국 **같은 행 추출**, 접근 방식(앞 vs. 뒤 기준)만 다름 |"
   ]
  },
  {
   "cell_type": "markdown",
   "id": "173bf632-bb35-4c33-aba2-2da5b3bece4f",
   "metadata": {},
   "source": [
    "## Q4"
   ]
  },
  {
   "cell_type": "markdown",
   "id": "63a38fa5-c5c3-458d-b798-f6e73f03bf24",
   "metadata": {},
   "source": [
    "> `unsqueeze`에 대해 설명"
   ]
  },
  {
   "cell_type": "markdown",
   "id": "7009c5d9-b477-4615-b8d3-f161360c6d76",
   "metadata": {},
   "source": [
    "- `unsqueeze`는 텐서 차원을 **인위적으로 추가**하는 함수로, PyTorch에서 데이터를 다룰 때 매우 자주 쓰인다.\n",
    "- 차원이 맞지 않아 오류가 발생할 때, `unsqueeze`를 이용하면 이를 간단하게 해결할 수 있다."
   ]
  },
  {
   "cell_type": "markdown",
   "id": "fbd239ec-077e-4602-8d92-e18a5683750a",
   "metadata": {},
   "source": [
    "### `torch.unsqueeze(tensor, dim)` 또는 `tensor.unsqueeze(dim)`"
   ]
  },
  {
   "cell_type": "markdown",
   "id": "87bcd3e0-e198-43ed-9b17-598ffaeb5434",
   "metadata": {},
   "source": [
    "#### 역할:\n",
    "\n",
    "* **지정한 위치 `dim`에 크기 1짜리 차원을 추가**한다.\n",
    "* 결과 텐서의 shape은 원래보다 **차원이 1 증가**한다."
   ]
  },
  {
   "cell_type": "markdown",
   "id": "2034810f-6868-4587-9d66-4a8c094f117a",
   "metadata": {},
   "source": [
    "#### 예시 1: 벡터 → 열 벡터\n",
    "\n",
    "```python\n",
    "x = torch.tensor([1, 2, 3])       # shape: [3]\n",
    "x_unsq = x.unsqueeze(1)           # shape: [3, 1]\n",
    "\n",
    "# 결과:\n",
    "# tensor([[1],\n",
    "#         [2],\n",
    "#         [3]])\n",
    "```"
   ]
  },
  {
   "cell_type": "markdown",
   "id": "d806d253-12f8-407e-bb73-b263bae47a57",
   "metadata": {},
   "source": [
    "#### 예시 2: 벡터 → 배치 텐서\n",
    "\n",
    "```python\n",
    "x = torch.tensor([1, 2, 3])       # shape: [3]\n",
    "x_unsq = x.unsqueeze(0)           # shape: [1, 3]\n",
    "\n",
    "# 결과:\n",
    "# tensor([[1, 2, 3]])\n",
    "```"
   ]
  },
  {
   "cell_type": "markdown",
   "id": "495ca76a-8f54-4a05-b48e-e317f8ca3c7e",
   "metadata": {},
   "source": [
    "#### Shape 변화 정리:\n",
    "\n",
    "| 원래 shape | `unsqueeze(0)` | `unsqueeze(1)` | `unsqueeze(-1)` |\n",
    "| -------- | -------------- | -------------- | --------------- |\n",
    "| `[3]`    | `[1, 3]`       | `[3, 1]`       | `[3, 1]`        |\n",
    "| `[3, 4]` | `[1, 3, 4]`    | `[3, 1, 4]`    | `[3, 4, 1]`     |"
   ]
  },
  {
   "cell_type": "markdown",
   "id": "f1585863-a4b4-437e-b6ee-3f762cedef0e",
   "metadata": {},
   "source": [
    "### 주로 사용하는 상황"
   ]
  },
  {
   "cell_type": "markdown",
   "id": "b3deb72a-18b6-4e7c-a254-e23d81b61769",
   "metadata": {},
   "source": [
    "#### 1. **모델 입력 차원 맞추기**\n",
    "\n",
    "```python\n",
    "x = torch.tensor([1.0, 2.0, 3.0])  # shape [3]\n",
    "x = x.unsqueeze(0)  # shape [1, 3] → batch 차원 추가\n",
    "```"
   ]
  },
  {
   "cell_type": "markdown",
   "id": "b25922ef-c43c-4044-a312-a75d29b2127f",
   "metadata": {},
   "source": [
    "#### 2. **브로드캐스팅 용도**\n",
    "\n",
    "```python\n",
    "a = torch.tensor([1, 2, 3])         # shape: [3]\n",
    "b = a.unsqueeze(1)                  # shape: [3, 1]\n",
    "```\n",
    "\n",
    "→ 이후 연산 시 자동으로 `[3, 1]`과 `[3, 4]` 같은 텐서가 맞춰짐"
   ]
  },
  {
   "cell_type": "markdown",
   "id": "cfde84be-9348-4c4a-951b-ac8a3e16af90",
   "metadata": {},
   "source": [
    "### 주의"
   ]
  },
  {
   "cell_type": "markdown",
   "id": "966bb868-cee7-4843-b318-3fc848d45b2a",
   "metadata": {},
   "source": [
    "* `unsqueeze`는 실제 데이터를 바꾸지 않고 **shape만 변경**한다.\n",
    "* 원래의 텐서와 동일한 메모리 참조를 가질 수도 있음 (즉, view일 수 있음)"
   ]
  },
  {
   "cell_type": "markdown",
   "id": "a1369260-1e86-4073-b10c-f7be06518766",
   "metadata": {},
   "source": [
    "### 관련 함수"
   ]
  },
  {
   "cell_type": "markdown",
   "id": "061c2fe0-d8db-430c-abab-03a28f0e9792",
   "metadata": {},
   "source": [
    "| 함수          | 기능                        |\n",
    "| ----------- | ------------------------- |\n",
    "| `unsqueeze` | **차원 추가**                 |\n",
    "| `squeeze`   | **크기 1인 차원 제거**           |\n",
    "| `reshape`   | 전체 차원을 원하는 형태로 재구성        |\n",
    "| `view`      | reshape과 거의 동일, 메모리 연속 요구 |"
   ]
  },
  {
   "cell_type": "code",
   "execution_count": 39,
   "id": "88ab669b-a065-409a-89f3-a851c59ef92c",
   "metadata": {
    "scrolled": true
   },
   "outputs": [
    {
     "data": {
      "text/plain": [
       "\u001b[0;31mDocstring:\u001b[0m\n",
       "unsqueeze(input, dim) -> Tensor\n",
       "\n",
       "Returns a new tensor with a dimension of size one inserted at the\n",
       "specified position.\n",
       "\n",
       "The returned tensor shares the same underlying data with this tensor.\n",
       "\n",
       "A :attr:`dim` value within the range ``[-input.dim() - 1, input.dim() + 1)``\n",
       "can be used. Negative :attr:`dim` will correspond to :meth:`unsqueeze`\n",
       "applied at :attr:`dim` = ``dim + input.dim() + 1``.\n",
       "\n",
       "Args:\n",
       "    input (Tensor): the input tensor.\n",
       "    dim (int): the index at which to insert the singleton dimension\n",
       "\n",
       "Example::\n",
       "\n",
       "    >>> x = torch.tensor([1, 2, 3, 4])\n",
       "    >>> torch.unsqueeze(x, 0)\n",
       "    tensor([[ 1,  2,  3,  4]])\n",
       "    >>> torch.unsqueeze(x, 1)\n",
       "    tensor([[ 1],\n",
       "            [ 2],\n",
       "            [ 3],\n",
       "            [ 4]])\n",
       "\u001b[0;31mType:\u001b[0m      builtin_function_or_method"
      ]
     },
     "metadata": {},
     "output_type": "display_data"
    }
   ],
   "source": [
    "torch.unsqueeze?"
   ]
  },
  {
   "cell_type": "markdown",
   "id": "0b98ab62-3de3-4fb9-a0fa-b6a46bca3699",
   "metadata": {},
   "source": [
    "## Q5"
   ]
  },
  {
   "cell_type": "markdown",
   "id": "c84e2672-db1f-4b52-a038-8a794f726a29",
   "metadata": {},
   "source": [
    "> `torch.einsum`에 대한 설명"
   ]
  },
  {
   "cell_type": "markdown",
   "id": "69655b75-4179-44d9-aa28-082ee9ff6c15",
   "metadata": {},
   "source": [
    "- `torch.einsum`은 `Einstein summation (아인슈타인 표기법)`을 사용해 텐서 연산을 간결하고 직관적으로 표현할 수 있는 강력한 도구"
   ]
  },
  {
   "cell_type": "markdown",
   "id": "1dcc6505-27ae-4210-b597-36d72d16d507",
   "metadata": {},
   "source": [
    "### `torch.einsum`이란?"
   ]
  },
  {
   "cell_type": "markdown",
   "id": "2d4394c5-0cb4-45de-8fab-443889366195",
   "metadata": {},
   "source": [
    "- `einsum`은 \"어떤 차원을 기준으로 계산하고, 어떤 차원을 남길지\"를 **직접 지정**하는 방식\n",
    "- 불필요한 `reshape`, `transpose`, `sum` 등을 따로 하지 않아도 **한 줄로 연산 가능**"
   ]
  },
  {
   "cell_type": "markdown",
   "id": "c309b5e3-3c5e-4df4-8e5a-4994dfa76512",
   "metadata": {},
   "source": [
    "### 기본 문법"
   ]
  },
  {
   "cell_type": "markdown",
   "id": "49b893cc-cde3-4cb1-bc4e-c3233f8a6d0d",
   "metadata": {},
   "source": [
    "```python\n",
    "torch.einsum('input_indices->output_indices', operands)\n",
    "```\n",
    "\n",
    "예:\n",
    "\n",
    "```python\n",
    "torch.einsum('ij->ji', X)       # 전치 transpose\n",
    "torch.einsum('ij,jk->ik', A, B) # 행렬 곱 A @ B\n",
    "```"
   ]
  },
  {
   "cell_type": "markdown",
   "id": "1fbe8eba-79c8-4b45-bd7b-ebffe1c72a6e",
   "metadata": {},
   "source": [
    "### 기본 예제 모음"
   ]
  },
  {
   "cell_type": "markdown",
   "id": "5f253336-f3df-4cdb-a72a-62f825e05757",
   "metadata": {},
   "source": [
    "#### 전치: `X.t()`"
   ]
  },
  {
   "cell_type": "markdown",
   "id": "ec450009-b30d-4197-9803-0f3a67372fca",
   "metadata": {},
   "source": [
    "```python\n",
    "torch.einsum('ij->ji', X)\n",
    "```"
   ]
  },
  {
   "cell_type": "markdown",
   "id": "0fae6f0d-2e55-4a97-a551-6534ef60a1ba",
   "metadata": {},
   "source": [
    "#### 행렬 곱: `A @ B`"
   ]
  },
  {
   "cell_type": "markdown",
   "id": "d28b69f6-fd6a-450e-a2a6-78c8f2c3dd00",
   "metadata": {},
   "source": [
    "```python\n",
    "torch.einsum('ik,kj->ij', A, B)\n",
    "```\n",
    "\n",
    "설명:\n",
    "\n",
    "* `i`: A의 행 인덱스\n",
    "* `k`: A의 열 = B의 행 (sum 대상)\n",
    "* `j`: B의 열"
   ]
  },
  {
   "cell_type": "markdown",
   "id": "0663c536-8ec7-48cc-a927-f1bbdcda7cd3",
   "metadata": {},
   "source": [
    "#### 벡터 내적: `torch.dot(a, b)`"
   ]
  },
  {
   "cell_type": "markdown",
   "id": "7db4cdd1-a38f-4a92-8d8d-dfa74642d2a3",
   "metadata": {},
   "source": [
    "```python\n",
    "torch.einsum('i,i->', a, b)  # 결과: 스칼라\n",
    "```"
   ]
  },
  {
   "cell_type": "markdown",
   "id": "94fc120c-0b81-445e-9030-b8ca779ab572",
   "metadata": {},
   "source": [
    "#### 배치 행렬 곱: `torch.bmm(A, B)`"
   ]
  },
  {
   "cell_type": "markdown",
   "id": "c51ea931-a48d-4613-bbbd-d265dd039f73",
   "metadata": {},
   "source": [
    "```python\n",
    "torch.einsum('bij,bjk->bik', A, B)\n",
    "```"
   ]
  },
  {
   "cell_type": "markdown",
   "id": "66ad4498-9cba-4d00-be38-c16ab5a8ef2e",
   "metadata": {},
   "source": [
    "#### 열별 합계: `torch.sum(X, dim=0)`"
   ]
  },
  {
   "cell_type": "markdown",
   "id": "bd5727ff-b0c9-45e1-b99e-201e19bd5b60",
   "metadata": {},
   "source": [
    "```python\n",
    "torch.einsum('ij->j', X)\n",
    "```"
   ]
  },
  {
   "cell_type": "markdown",
   "id": "bfdef660-fb5f-4065-a913-4ce810d3b19c",
   "metadata": {},
   "source": [
    "### 장점 요약"
   ]
  },
  {
   "cell_type": "markdown",
   "id": "7d2a6c8a-5b46-46c6-845c-b4ccaba6e4a7",
   "metadata": {},
   "source": [
    "| 장점          | 설명                                               |\n",
    "| ----------- | ------------------------------------------------ |\n",
    "| 직관적인 인덱스 지정 | 원하는 차원을 남기거나 더할 수 있음                             |\n",
    "| 복잡한 연산 단순화  | `matmul`, `sum`, `permute`, `reshape` 등을 한 줄로 처리 |\n",
    "| 메모리 효율적     | 불필요한 중간 텐서 생성 없음                                 |"
   ]
  },
  {
   "cell_type": "markdown",
   "id": "ea24ee6b-35f2-41f4-8f9f-15dbbe0474ed",
   "metadata": {},
   "source": [
    "### 시각적으로 이해"
   ]
  },
  {
   "cell_type": "markdown",
   "id": "7b7308a2-f119-42c6-940c-74409f8000ea",
   "metadata": {},
   "source": [
    "```\n",
    "# 예: 행렬 곱 A @ B\n",
    "\n",
    "A.shape = (2, 3)     => 'ik'\n",
    "B.shape = (3, 4)     => 'kj'\n",
    "결과: torch.einsum('ik,kj->ij', A, B)  → shape (2, 4)\n",
    "```"
   ]
  },
  {
   "cell_type": "markdown",
   "id": "6d5b17ca-0d4c-45ce-b1aa-630780e4c03b",
   "metadata": {},
   "source": [
    "### 유의사항"
   ]
  },
  {
   "cell_type": "markdown",
   "id": "3da7145b-acff-4a79-8622-cbd12e3acec3",
   "metadata": {},
   "source": [
    "* `'ij->ji'`처럼 `화살표(->)`는 \"이 인덱스들을 어떻게 재구성할 것인지\"를 뜻함\n",
    "* 같은 문자가 **두 번 이상 등장**하면 그 차원을 **summation** (축소) 대상으로 봄\n",
    "* 없는 차원에 대한 문자는 오류를 발생시킴"
   ]
  },
  {
   "cell_type": "code",
   "execution_count": 41,
   "id": "31d6ef3e-6947-4ab7-a8ec-c1a214668984",
   "metadata": {},
   "outputs": [],
   "source": [
    "# torch.einsum?"
   ]
  },
  {
   "cell_type": "markdown",
   "id": "0c710d9c-0775-46b5-83fb-6217705fb991",
   "metadata": {},
   "source": [
    "## Q6"
   ]
  },
  {
   "cell_type": "markdown",
   "id": "11f34b57-2bdd-413f-a1d6-69230ee7a1d4",
   "metadata": {},
   "source": [
    "> `einsum`을 사용할 때, 브로드캐스팅과 차원 축소는 어떻게 동작?"
   ]
  },
  {
   "cell_type": "markdown",
   "id": "53f14165-547d-4470-b9e9-cf2e0058ada9",
   "metadata": {},
   "source": [
    "- 이건 `einsum`의 핵심 작동 원리이자 큰 강점 중 하나"
   ]
  },
  {
   "cell_type": "markdown",
   "id": "e87cdbe0-cc97-47d0-9809-5bfb2cbcf811",
   "metadata": {},
   "source": [
    "### `차원 축소 (Reduction)`"
   ]
  },
  {
   "cell_type": "markdown",
   "id": "ff179ae0-94d1-4848-9f82-ca0d9556a1dd",
   "metadata": {},
   "source": [
    "`einsum`에서 **같은 문자가 두 번 등장하면**, 그 차원은 `sum (합산)` 처리됨"
   ]
  },
  {
   "cell_type": "markdown",
   "id": "d3566dab-cd63-4941-a30c-2d0aa6925dbc",
   "metadata": {},
   "source": [
    "#### 예시: 벡터 내적"
   ]
  },
  {
   "cell_type": "markdown",
   "id": "7c529ece-1ea3-489d-99a8-1c6e1948c0f7",
   "metadata": {},
   "source": [
    "```python\n",
    "a = torch.tensor([1.0, 2.0, 3.0])\n",
    "b = torch.tensor([4.0, 5.0, 6.0])\n",
    "torch.einsum('i,i->', a, b)\n",
    "```\n",
    "\n",
    "* `'i,i->'`는 i끼리 곱하고 → **모든 i에 대해 합**.\n",
    "* 결과: `1×4 + 2×5 + 3×6 = 32`\n",
    "\n",
    "\\=> 결과는 **스칼라** (0차원 텐서)"
   ]
  },
  {
   "cell_type": "markdown",
   "id": "6034a826-112b-4a50-a653-f9219d692215",
   "metadata": {},
   "source": [
    "### `브로드캐스팅 (Broadcasting)`"
   ]
  },
  {
   "cell_type": "markdown",
   "id": "ae198851-3b6c-44b4-9d68-91c55b71cefc",
   "metadata": {},
   "source": [
    "* `einsum`은 **자동 브로드캐스팅을 지원하지 않음**\n",
    "* 하지만 인덱스 차원을 명시하면, **명시적 브로드캐스팅처럼 작동**시킬 수 있음"
   ]
  },
  {
   "cell_type": "markdown",
   "id": "8d73eaab-a7b8-4acc-8fee-9fa4d8f782b3",
   "metadata": {},
   "source": [
    "#### 예시: 외적 (outer product)"
   ]
  },
  {
   "cell_type": "markdown",
   "id": "438cc204-862f-4075-8465-6c6d4b49c89a",
   "metadata": {},
   "source": [
    "```python\n",
    "a = torch.tensor([1.0, 2.0, 3.0])   # shape [3]\n",
    "b = torch.tensor([4.0, 5.0])        # shape [2]\n",
    "\n",
    "torch.einsum('i,j->ij', a, b)\n",
    "```\n",
    "\n",
    "* 결과: shape `[3, 2]`\n",
    "* `i`는 a의 차원, `j`는 b의 차원 → 각각 브로드캐스트해서 곱함\n",
    "\n",
    "```\n",
    "[[1*4, 1*5],\n",
    " [2*4, 2*5],\n",
    " [3*4, 3*5]]\n",
    "```"
   ]
  },
  {
   "cell_type": "markdown",
   "id": "20af90cf-8dda-401a-9165-cf8edf69609f",
   "metadata": {},
   "source": [
    "### 예제 하나로 축소 vs 브로드캐스팅 비교"
   ]
  },
  {
   "cell_type": "markdown",
   "id": "302e723c-2045-46f8-a97f-97123df3a7a5",
   "metadata": {},
   "source": [
    "```python\n",
    "X = torch.randn(3, 4)\n",
    "\n",
    "# 열별 합계 (축소)\n",
    "torch.einsum('ij->j', X)   # shape: [4]\n",
    "\n",
    "# 행별 합계 (축소)\n",
    "torch.einsum('ij->i', X)   # shape: [3]\n",
    "\n",
    "# 자기 자신과의 외적 (브로드캐스팅)\n",
    "torch.einsum('i,j->ij', X[0], X[1])\n",
    "```"
   ]
  },
  {
   "cell_type": "markdown",
   "id": "23acf286-eb77-43d0-bee8-928bcf1d668d",
   "metadata": {},
   "source": [
    "### 핵심 요약표"
   ]
  },
  {
   "cell_type": "markdown",
   "id": "ce4c8d94-9449-4a60-a8ea-6d50bf18f157",
   "metadata": {},
   "source": [
    "| 표현          | 의미                            |\n",
    "| ----------- | ----------------------------- |\n",
    "| `'ij->j'`   | i 차원을 **sum** → 열 합계          |\n",
    "| `'i,i->'`   | i 차원을 **sum** → 내적 (스칼라)      |\n",
    "| `'i,j->ij'` | 브로드캐스트 곱 → 외적 (Outer Product) |"
   ]
  },
  {
   "cell_type": "markdown",
   "id": "28dc8e10-6012-45e9-93dc-9c1d8cdf17f6",
   "metadata": {},
   "source": [
    "### 정리"
   ]
  },
  {
   "cell_type": "markdown",
   "id": "ad3eec67-f69e-4761-a5df-bf6417ed219a",
   "metadata": {},
   "source": [
    "* `einsum`에서 `같은 문자가 두 번 등장하면 → 축소(sum)`\n",
    "* **다른 문자끼리는 → 브로드캐스트**\n",
    "* 브로드캐스트는 자동이 아니라, **명시된 인덱스로 의도적으로 설계**"
   ]
  },
  {
   "cell_type": "markdown",
   "id": "a271b9ee-e9a6-4e64-8d10-f2af38b5db90",
   "metadata": {},
   "source": [
    "## 추가 질문들"
   ]
  },
  {
   "cell_type": "markdown",
   "id": "8a28efa4-766c-4e13-9941-7a8a386baaf0",
   "metadata": {},
   "source": [
    "- `einsum('bij,bjk->bik')`은 어떤 차원 연산을 수행하는가? 직접 shape 예시로 설명해봐.\n",
    "\n",
    "- `einsum`을 사용해 MSE (Mean Squared Error)를 한 줄로 계산하려면 어떤 식이 될까?\n",
    "\n",
    "- `einsum`의 표현력을 이용해 CNN 필터 적용 전 dot product를 명시적으로 작성해볼 수 있을까?"
   ]
  }
 ],
 "metadata": {
  "kernelspec": {
   "display_name": "Python 3 (ipykernel)",
   "language": "python",
   "name": "python3"
  },
  "language_info": {
   "codemirror_mode": {
    "name": "ipython",
    "version": 3
   },
   "file_extension": ".py",
   "mimetype": "text/x-python",
   "name": "python",
   "nbconvert_exporter": "python",
   "pygments_lexer": "ipython3",
   "version": "3.9.18"
  }
 },
 "nbformat": 4,
 "nbformat_minor": 5
}
